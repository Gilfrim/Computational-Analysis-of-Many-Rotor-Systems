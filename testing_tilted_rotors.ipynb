{
 "cells": [
  {
   "cell_type": "code",
   "execution_count": 1,
   "id": "07525fc0",
   "metadata": {},
   "outputs": [],
   "source": [
    "import numpy as np\n",
    "from quant_rotor.models.dense.support_ham import write_matrix_elements as w_m_e\n",
    "\n",
    "np.set_printoptions(suppress = True, linewidth = 1500, threshold = np.inf, precision = 12)"
   ]
  },
  {
   "cell_type": "code",
   "execution_count": 2,
   "id": "5b8f0a8c",
   "metadata": {},
   "outputs": [],
   "source": [
    "def free_one_body(i, j, max_m):\n",
    "\n",
    "    # Free particle on a ring Hamiltonian in the momentum representation.\n",
    "    # K = \\sum_{m=0}^{2l} (m-l)^2 |m><m|\n",
    "    if i == j:\n",
    "        return (i-max_m)**2\n",
    "    else:\n",
    "        return 0.0\n",
    "\n",
    "def interaction_two_body_coplanar(i1, i2, j1, j2):\n",
    "\n",
    "    # returns <i1,i2|V|j1,j2> where V is the dipole-dipole interaction between two planar rotors oriented along the x-axis.\n",
    "    # See https://arxiv.org/abs/2401.02887 for details.\n",
    "    # V = 0.75 \\sum_{m1, m2} (|m1, m2> <m1+1, m2+1| + |m1, m2> <m1-1, m2-1|) - 0.25 \\sum_{m1, m2} (|m1, m2> <m1-1, m2+1| + |m1, m2> <m1+1, m2-1|)\n",
    "    if ((abs(i1 - j1) != 1) or (abs(i2 - j2) != 1)):\n",
    "        return 0.0\n",
    "    elif (i1 == j1 + 1):\n",
    "        if (i2 == j2 + 1):\n",
    "            return 0.75\n",
    "        else:\n",
    "            return -0.25\n",
    "    else:\n",
    "        if (i2 == j2 + 1):\n",
    "            return -0.25\n",
    "        else:\n",
    "            return 0.75\n",
    "\n",
    "def interaction_yiyj(i1, i2, j1, j2):\n",
    "\n",
    "    # returns <i1,i2|yiyj|j1,j2> where\n",
    "    # yiyj = -0.25 \\sum_{m1, m2} (|m1, m2> <m1+1, m2+1| + |m1, m2> <m1-1, m2-1|) + 0.25 \\sum_{m1, m2} (|m1, m2> <m1-1, m2+1| + |m1, m2> <m1+1, m2-1|)\n",
    "    if ((abs(i1 - j1) != 1) or (abs(i2 - j2) != 1)):\n",
    "        return 0.0\n",
    "    elif (i1 - j1 == i2 - j2):\n",
    "        return -0.25\n",
    "    else:\n",
    "        return 0.25\n",
    "\n",
    "def interaction_xixj(i1, i2, j1, j2):\n",
    "\n",
    "    # returns <i1,i2|xixj|j1,j2> where\n",
    "    # xixj = 0.25 \\sum_{m1, m2} (|m1, m2> <m1+1, m2+1| + |m1, m2> <m1-1, m2-1|) + 0.25 \\sum_{m1, m2} (|m1, m2> <m1-1, m2+1| + |m1, m2> <m1+1, m2-1|)\n",
    "    if ((abs(i1 - j1) != 1) or (abs(i2 - j2) != 1)):\n",
    "        return 0.0\n",
    "    else:\n",
    "        return 0.25\n",
    "\n",
    "def interaction_cross_terms(i1, i2, j1, j2):\n",
    "\n",
    "    # returns <i1,i2|xiyj + yixj|j1,j2> where\n",
    "    # xiyj + yixj = 0.5i \\sum_{m1,m2} (|m1, m2> <m1+1, m2+1| - |m1, m2> <m1-1, m2-1|)\n",
    "    if ((i1 - j1) == 1) and (i2 - j2 == 1):\n",
    "        return -0.5*1J\n",
    "    elif ((i1 - j1) == -1) and (i2 - j2 == -1):\n",
    "        return 0.5*1J\n",
    "    else:\n",
    "        return 0.0"
   ]
  },
  {
   "cell_type": "code",
   "execution_count": 3,
   "id": "d3a26c04",
   "metadata": {},
   "outputs": [],
   "source": [
    "def interaction_general_angle(i1, i2, j1, j2, tau):\n",
    "\n",
    "    v_xi_xj = interaction_xixj(i1, i2, j1, j2)\n",
    "    v_yi_yj = interaction_yiyj(i1, i2, j1, j2)\n",
    "\n",
    "    return v_yi_yj + (1.0 - 3.0*(np.cos(tau))**2)*v_xi_xj"
   ]
  },
  {
   "cell_type": "code",
   "execution_count": 4,
   "id": "ac60acd4",
   "metadata": {},
   "outputs": [],
   "source": [
    "def write_matrix_elements(m_max, gamma):\n",
    "    d = 2*m_max + 1\n",
    "    K = np.zeros((d,d))\n",
    "    for i in range(d):\n",
    "        for j in range(i,d):\n",
    "            K[i,j] = free_one_body(i, j, m_max)\n",
    "\n",
    "    V = np.zeros((d**2, d**2))\n",
    "    for i in range(d):\n",
    "        for j in range(d):\n",
    "            for k in range(d):\n",
    "                for l in range(d):\n",
    "                    # only want to write the upper triangular parts\n",
    "                    # if k*d + l >= i*d + j:\n",
    "                    #if hg.interaction_two_body_coplanar(i,j,k,l) != 0:\n",
    "                        V[i*d + j, k*d + l] = interaction_general_angle(i,j,k,l, gamma)\n",
    "\n",
    "    return K, V"
   ]
  },
  {
   "cell_type": "code",
   "execution_count": 37,
   "id": "e98a14d2",
   "metadata": {},
   "outputs": [],
   "source": [
    "state = 33\n",
    "gamma = np.pi / 3"
   ]
  },
  {
   "cell_type": "code",
   "execution_count": 38,
   "id": "5859278d",
   "metadata": {},
   "outputs": [],
   "source": [
    "K_o, V_o = write_matrix_elements((state-1)//2, gamma)\n",
    "K_n, V_n = w_m_e((state-1)//2, gamma)"
   ]
  },
  {
   "cell_type": "code",
   "execution_count": 39,
   "id": "084458a7",
   "metadata": {},
   "outputs": [
    {
     "data": {
      "text/plain": [
       "True"
      ]
     },
     "execution_count": 39,
     "metadata": {},
     "output_type": "execute_result"
    }
   ],
   "source": [
    "np.array_equal(K_o, K_n)"
   ]
  },
  {
   "cell_type": "code",
   "execution_count": 40,
   "id": "eb0939aa",
   "metadata": {},
   "outputs": [
    {
     "data": {
      "text/plain": [
       "True"
      ]
     },
     "execution_count": 40,
     "metadata": {},
     "output_type": "execute_result"
    }
   ],
   "source": [
    "np.array_equal(V_o, V_n)"
   ]
  }
 ],
 "metadata": {
  "kernelspec": {
   "display_name": ".venv",
   "language": "python",
   "name": "python3"
  },
  "language_info": {
   "codemirror_mode": {
    "name": "ipython",
    "version": 3
   },
   "file_extension": ".py",
   "mimetype": "text/x-python",
   "name": "python",
   "nbconvert_exporter": "python",
   "pygments_lexer": "ipython3",
   "version": "3.13.4"
  }
 },
 "nbformat": 4,
 "nbformat_minor": 5
}
