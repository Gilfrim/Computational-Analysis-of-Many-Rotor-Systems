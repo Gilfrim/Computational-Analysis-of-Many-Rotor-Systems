{
 "cells": [
  {
   "cell_type": "code",
   "execution_count": 169,
   "id": "07525fc0",
   "metadata": {},
   "outputs": [],
   "source": [
    "import numpy as np\n",
    "import matplotlib.pyplot as plt\n",
    "import opt_einsum as oe\n",
    "\n",
    "from quant_rotor.models.dense.support_ham import write_matrix_elements, m_to_p, basis_m_to_p_matrix_conversion\n",
    "from quant_rotor.models.dense.density_matrix import density_matrix_1\n",
    "\n",
    "from quant_rotor.core.dense.hamiltonian import hamiltonian_dense\n",
    "\n",
    "np.set_printoptions(suppress = True, linewidth = 1500, threshold = np.inf, precision = 12)"
   ]
  },
  {
   "cell_type": "code",
   "execution_count": 170,
   "id": "e98a14d2",
   "metadata": {},
   "outputs": [],
   "source": [
    "state = 21\n",
    "site = 2\n",
    "m = (state - 1) // 2\n",
    "\n",
    "gamma = 0\n",
    "\n",
    "D = 0.001\n",
    "g = 1"
   ]
  },
  {
   "cell_type": "markdown",
   "id": "992eac7a",
   "metadata": {},
   "source": [
    "# Understanding Hamiltonians"
   ]
  },
  {
   "cell_type": "markdown",
   "id": "6d5e255a",
   "metadata": {},
   "source": [
    "## Functions"
   ]
  },
  {
   "cell_type": "code",
   "execution_count": null,
   "id": "5b8f0a8c",
   "metadata": {},
   "outputs": [],
   "source": [
    "def free_one_body(i, j, max_m):\n",
    "\n",
    "    # Free particle on a ring Hamiltonian in the momentum representation.\n",
    "    # K = \\sum_{m=0}^{2l} (m-l)^2 |m><m|\n",
    "    if i == j:\n",
    "        return (i-max_m)**2\n",
    "    else:\n",
    "        return 0.0\n",
    "\n",
    "def interaction_two_body_coplanar(i1, i2, j1, j2):\n",
    "\n",
    "    # returns <i1,i2|V|j1,j2> where V is the dipole-dipole interaction between two planar rotors oriented along the x-axis.\n",
    "    # See https://arxiv.org/abs/2401.02887 for details.\n",
    "    # V = 0.75 \\sum_{m1, m2} (|m1, m2> <m1+1, m2+1| + |m1, m2> <m1-1, m2-1|) - 0.25 \\sum_{m1, m2} (|m1, m2> <m1-1, m2+1| + |m1, m2> <m1+1, m2-1|)\n",
    "    if ((abs(i1 - j1) != 1) or (abs(i2 - j2) != 1)):\n",
    "        return 0.0\n",
    "    elif (i1 == j1 + 1):\n",
    "        if (i2 == j2 + 1):\n",
    "            return 0.75\n",
    "        else:\n",
    "            return -0.25\n",
    "    else:\n",
    "        if (i2 == j2 + 1):\n",
    "            return -0.25\n",
    "        else:\n",
    "            return 0.75\n",
    "\n",
    "def interaction_two_body_coplanar_Test(i1, i2, j1, j2):\n",
    "\n",
    "    # returns <i1,i2|V|j1,j2> where V is the dipole-dipole interaction between two planar rotors oriented along the x-axis.\n",
    "    # See https://arxiv.org/abs/2401.02887 for details.\n",
    "    # V = 0.75 \\sum_{m1, m2} (|m1, m2> <m1+1, m2+1| + |m1, m2> <m1-1, m2-1|) - 0.25 \\sum_{m1, m2} (|m1, m2> <m1-1, m2+1| + |m1, m2> <m1+1, m2-1|)\n",
    "    if ((abs(i1 - j1) != 1) or (abs(i2 - j2) != 1)):\n",
    "        return 0.0\n",
    "    elif (i1 == j1 + 1):\n",
    "        if (i2 == j2 + 1):\n",
    "            return 0.75\n",
    "        else:\n",
    "            return -0.25\n",
    "    else:\n",
    "        if (i2 == j2 + 1):\n",
    "            return -0.25\n",
    "        else:\n",
    "            return 0.75\n",
    "\n",
    "def interaction_yiyj(i1, i2, j1, j2):\n",
    "\n",
    "    # returns <i1,i2|yiyj|j1,j2> where\n",
    "    # yiyj = -0.25 \\sum_{m1, m2} (|m1, m2> <m1+1, m2+1| + |m1, m2> <m1-1, m2-1|) + 0.25 \\sum_{m1, m2} (|m1, m2> <m1-1, m2+1| + |m1, m2> <m1+1, m2-1|)\n",
    "    if ((abs(i1 - j1) != 1) or (abs(i2 - j2) != 1)):\n",
    "        return 0.0\n",
    "    elif (i1 - j1 == i2 - j2):\n",
    "        return -0.25\n",
    "    else:\n",
    "        return 0.25\n",
    "\n",
    "def interaction_xixj(i1, i2, j1, j2):\n",
    "\n",
    "    # returns <i1,i2|xixj|j1,j2> where\n",
    "    # xixj = 0.25 \\sum_{m1, m2} (|m1, m2> <m1+1, m2+1| + |m1, m2> <m1-1, m2-1|) + 0.25 \\sum_{m1, m2} (|m1, m2> <m1-1, m2+1| + |m1, m2> <m1+1, m2-1|)\n",
    "    if ((abs(i1 - j1) != 1) or (abs(i2 - j2) != 1)):\n",
    "        return 0.0\n",
    "    else:\n",
    "        return 0.25"
   ]
  },
  {
   "cell_type": "code",
   "execution_count": 172,
   "id": "d3a26c04",
   "metadata": {},
   "outputs": [],
   "source": [
    "def interaction_general_angle(i1, i2, j1, j2, tau):\n",
    "\n",
    "    v_xi_xj = interaction_xixj(i1, i2, j1, j2)\n",
    "    v_yi_yj = interaction_yiyj(i1, i2, j1, j2)\n",
    "\n",
    "    return v_yi_yj + (1.0 - 3.0*(np.cos(tau))**2)*v_xi_xj"
   ]
  },
  {
   "cell_type": "code",
   "execution_count": 173,
   "id": "ac60acd4",
   "metadata": {},
   "outputs": [],
   "source": [
    "def write_matrix_elements_new(m_max, gamma):\n",
    "    d = 2*m_max + 1\n",
    "    K = np.zeros((d,d))\n",
    "    for i in range(d):\n",
    "        for j in range(i,d):\n",
    "            K[i,j] = free_one_body(i, j, m_max)\n",
    "\n",
    "    V = np.zeros((d**2, d**2))\n",
    "    for i in range(d):\n",
    "        for j in range(d):\n",
    "            for k in range(d):\n",
    "                for l in range(d):\n",
    "                    # only want to write the upper triangular parts\n",
    "                    # if k*d + l >= i*d + j:\n",
    "                    #if hg.interaction_two_body_coplanar(i,j,k,l) != 0:\n",
    "                        V[i*d + j, k*d + l] = interaction_general_angle(i,j,k,l, gamma)\n",
    "\n",
    "    return K, V"
   ]
  },
  {
   "cell_type": "code",
   "execution_count": 174,
   "id": "3c8e8c1c",
   "metadata": {},
   "outputs": [],
   "source": [
    "def write_matrix_elements_old(m_max, gamma):\n",
    "    d = 2*m_max + 1\n",
    "    K = np.zeros((d,d))\n",
    "    for i in range(d):\n",
    "        for j in range(i,d):\n",
    "            K[i,j] = free_one_body(i, j, m_max)\n",
    "\n",
    "    V = np.zeros((d**2, d**2))\n",
    "    for i in range(d):\n",
    "        for j in range(d):\n",
    "            for k in range(d):\n",
    "                for l in range(d):\n",
    "                    # only want to write the upper triangular parts\n",
    "                    # if k*d + l >= i*d + j:\n",
    "                    #if hg.interaction_two_body_coplanar(i,j,k,l) != 0:\n",
    "                        V[i*d + j, k*d + l] = interaction_two_body_coplanar(i,j,k,l)\n",
    "\n",
    "    return K, V"
   ]
  },
  {
   "cell_type": "markdown",
   "id": "2ff3254a",
   "metadata": {},
   "source": [
    "## "
   ]
  },
  {
   "cell_type": "code",
   "execution_count": 175,
   "id": "5859278d",
   "metadata": {},
   "outputs": [],
   "source": [
    "K_o, V_o = write_matrix_elements_old((state-1)//2, gamma)\n",
    "K_n, V_n = write_matrix_elements_new((state-1)//2, gamma)"
   ]
  },
  {
   "cell_type": "code",
   "execution_count": 176,
   "id": "fdf9f1cd",
   "metadata": {},
   "outputs": [],
   "source": [
    "K_o = K_o * D\n",
    "K_n = K_n * D\n",
    "\n",
    "V_o = V_o * g\n",
    "V_n = V_n * g\n",
    "\n",
    "K_o = basis_m_to_p_matrix_conversion(K_o, state)\n",
    "K_n = basis_m_to_p_matrix_conversion(K_n, state)\n",
    "\n",
    "V_o = basis_m_to_p_matrix_conversion(V_o.reshape(state, state, state, state), state).reshape(state**2, state**2)\n",
    "V_n = basis_m_to_p_matrix_conversion(V_n.reshape(state, state, state, state), state).reshape(state**2, state**2)"
   ]
  },
  {
   "cell_type": "code",
   "execution_count": 177,
   "id": "f971a876",
   "metadata": {},
   "outputs": [],
   "source": [
    "H_o, K_o, V_o = hamiltonian_dense(state, site, g, Import= True, K_import=K_o, V_import=V_o, periodic=False)\n",
    "H_n, K_n, V_n = hamiltonian_dense(state, site, g, Import= True, K_import=K_n, V_import=V_n, periodic=False)"
   ]
  },
  {
   "cell_type": "code",
   "execution_count": 178,
   "id": "c86a6aba",
   "metadata": {},
   "outputs": [],
   "source": [
    "eig_val_o, eig_vec_o = np.linalg.eigh(H_o)\n",
    "eig_val_n, eig_vec_n = np.linalg.eigh(H_n)"
   ]
  },
  {
   "cell_type": "code",
   "execution_count": 179,
   "id": "2890a97e",
   "metadata": {},
   "outputs": [
    {
     "name": "stdout",
     "output_type": "stream",
     "text": [
      "Eig_val: False\n",
      "K: True\n",
      "V: False\n"
     ]
    }
   ],
   "source": [
    "print(\"Eig_val:\", np.array_equal(eig_val_o, eig_val_n))\n",
    "print(\"K:\", np.array_equal(K_o, K_n))\n",
    "print(\"V:\", np.array_equal(V_o, V_n))"
   ]
  },
  {
   "cell_type": "markdown",
   "id": "5c6bbaf2",
   "metadata": {},
   "source": [
    "# Producing the graphs"
   ]
  },
  {
   "cell_type": "code",
   "execution_count": 180,
   "id": "dbad31f6",
   "metadata": {},
   "outputs": [],
   "source": [
    "D_o = density_matrix_1(state, site, eig_vec_o[:, np.argmin(eig_val_o)], 0)\n",
    "D_n = density_matrix_1(state, site, eig_vec_n[:, np.argmin(eig_val_n)], 0)"
   ]
  },
  {
   "cell_type": "code",
   "execution_count": 181,
   "id": "ff922ea9",
   "metadata": {},
   "outputs": [],
   "source": [
    "eig_val_D_o, eig_vec_D_o = np.linalg.eigh(D_o)\n",
    "eig_val_D_n, eig_vec_D_n = np.linalg.eigh(D_n)"
   ]
  },
  {
   "cell_type": "code",
   "execution_count": null,
   "id": "0a68a387",
   "metadata": {},
   "outputs": [],
   "source": [
    "gama = np.arange(-np.pi/2, np.pi * 3/2 + 2*np.pi/100, 2*np.pi/100)\n",
    "\n",
    "vector_in_m = np.arange(-m, m + 1)"
   ]
  },
  {
   "cell_type": "code",
   "execution_count": 300,
   "id": "df848b8b",
   "metadata": {},
   "outputs": [],
   "source": [
    "index_map_m_to_p = np.vectorize(m_to_p)(vector_in_m)\n",
    "index_maps = [index_map_m_to_p] * 2\n",
    "\n",
    "D_n_in_m = D_n[np.ix_(*index_maps)]\n",
    "D_o_in_m = D_o[np.ix_(*index_maps)]"
   ]
  },
  {
   "cell_type": "code",
   "execution_count": 301,
   "id": "ea62137d",
   "metadata": {},
   "outputs": [],
   "source": [
    "\n",
    "e_plus = np.exp(1j *  np.outer(vector_in_m, gama))\n",
    "e_mines = np.exp(-1j *  np.outer(vector_in_m, gama))"
   ]
  },
  {
   "cell_type": "code",
   "execution_count": 302,
   "id": "1918553e",
   "metadata": {},
   "outputs": [],
   "source": [
    "y_n = oe.contract('ap, pq, qb->ab', e_mines.T, D_n_in_m, e_plus)\n",
    "y_o = oe.contract('ap, pq, qb->ab', e_mines.T, D_o_in_m, e_plus)"
   ]
  },
  {
   "cell_type": "code",
   "execution_count": 303,
   "id": "1277210b",
   "metadata": {},
   "outputs": [
    {
     "name": "stderr",
     "output_type": "stream",
     "text": [
      "/Users/gilfrim/Desktop/Projects/Computational_Analysis_of_Many_Rotor_Systems/.venv/lib/python3.13/site-packages/matplotlib/cbook.py:1719: ComplexWarning: Casting complex values to real discards the imaginary part\n",
      "  return math.isfinite(val)\n",
      "/Users/gilfrim/Desktop/Projects/Computational_Analysis_of_Many_Rotor_Systems/.venv/lib/python3.13/site-packages/matplotlib/cbook.py:1355: ComplexWarning: Casting complex values to real discards the imaginary part\n",
      "  return np.asarray(x, float)\n"
     ]
    },
    {
     "data": {
      "image/png": "[encoded data removed]",
      "text/plain": [
       "<Figure size 640x480 with 1 Axes>"
      ]
     },
     "metadata": {},
     "output_type": "display_data"
    }
   ],
   "source": [
    "plt.plot(gama, np.diag(y_o), label=f\"D_o = {D}, g = {g}\")\n",
    "plt.plot(gama, np.diag(y_n), label=f\"D_n = {D}, g = {g}\")\n",
    "plt.plot(np.ones((20))* np.pi, np.arange(20), label=f\"pi\")\n",
    "plt.title(f\"Ocupations for {state} states\")\n",
    "plt.xlabel(\"Time\")\n",
    "plt.ylabel(\"Energy\")\n",
    "plt.legend()\n",
    "plt.show()"
   ]
  }
 ],
 "metadata": {
  "kernelspec": {
   "display_name": ".venv",
   "language": "python",
   "name": "python3"
  },
  "language_info": {
   "codemirror_mode": {
    "name": "ipython",
    "version": 3
   },
   "file_extension": ".py",
   "mimetype": "text/x-python",
   "name": "python",
   "nbconvert_exporter": "python",
   "pygments_lexer": "ipython3",
   "version": "3.13.4"
  }
 },
 "nbformat": 4,
 "nbformat_minor": 5
}
