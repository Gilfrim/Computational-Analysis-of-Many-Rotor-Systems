{
 "cells": [
  {
   "cell_type": "code",
   "execution_count": 1,
   "id": "fe055c04",
   "metadata": {},
   "outputs": [],
   "source": [
    "from quant_rotor.core.sparse.hamiltonian import hamiltonian_sparse\n",
    "from quant_rotor.core.dense.hamiltonian import hamiltonian_dense\n",
    "\n",
    "from quant_rotor.core.dense.hamiltonian_big import hamiltonian_general_dense\n",
    "from quant_rotor.core.sparse.hamiltonian_big import hamiltonian_general_sparse\n",
    "from quant_rotor.core.dense.de_solve_one_thermal import integration_scheme\n",
    "import numpy as np\n",
    "from quant_rotor.models.sparse.support_ham import build_V_in_p\n",
    "import matplotlib.pyplot as plt\n",
    "from quant_rotor.models.dense.density_matrix import density_matrix_1\n",
    "import quant_rotor.models.dense.thermofield_boltz_funcs as bz\n",
    "import opt_einsum as oe\n",
    "\n",
    "import scipy.sparse as sp"
   ]
  },
  {
   "cell_type": "code",
   "execution_count": 2,
   "id": "6a1b5250",
   "metadata": {},
   "outputs": [],
   "source": [
    "np.set_printoptions(precision=5)\n",
    "np.set_printoptions(suppress=True)\n",
    "np.set_printoptions(linewidth=np.inf)\n",
    "np.set_printoptions(threshold=np.inf)"
   ]
  },
  {
   "cell_type": "markdown",
   "id": "0130ac05",
   "metadata": {},
   "source": [
    "# Check TF"
   ]
  },
  {
   "cell_type": "code",
   "execution_count": 58,
   "id": "e597c381",
   "metadata": {},
   "outputs": [],
   "source": [
    "site = 3\n",
    "state = 3\n",
    "g = 0.1"
   ]
  },
  {
   "cell_type": "code",
   "execution_count": 59,
   "id": "73b61fe7",
   "metadata": {},
   "outputs": [],
   "source": [
    "H, K, V = hamiltonian_dense(state, site, g)"
   ]
  },
  {
   "cell_type": "code",
   "execution_count": 60,
   "id": "a9ca0653",
   "metadata": {},
   "outputs": [],
   "source": [
    "state_2 = state**2"
   ]
  },
  {
   "cell_type": "code",
   "execution_count": 61,
   "id": "a0a1a97e",
   "metadata": {},
   "outputs": [],
   "source": [
    "U, _ = bz.thermofield_change_of_basis(K)\n",
    "\n",
    "I = np.eye(state)\n",
    "\n",
    "K_prim = oe.contract('pq,mw->pmqw', K, I,  optimize='optimal').reshape(state_2, state_2)\n",
    "\n",
    "K_tilda = U.T @ K_prim @ U\n",
    "\n",
    "V_tensor = V.reshape(state, state, state, state)\n",
    "\n",
    "V_prim = oe.contract('pqrs,mw,nv->pmqnrwsv', V_tensor, I, I,  optimize='optimal')\n",
    "\n",
    "V_grouped = V_prim.reshape(state**2, state**2, state**2, state**2)\n",
    "\n",
    "V_tilda = oe.contract('Mi,Wj,ijab,aN,bV->MWNV', U.T, U.T, V_grouped, U, U, optimize='optimal').reshape(state_2**2, state_2**2)"
   ]
  },
  {
   "cell_type": "code",
   "execution_count": 62,
   "id": "0021163c",
   "metadata": {},
   "outputs": [
    {
     "data": {
      "text/plain": [
       "(81, 81)"
      ]
     },
     "execution_count": 62,
     "metadata": {},
     "output_type": "execute_result"
    }
   ],
   "source": [
    "V_tilda.shape"
   ]
  },
  {
   "cell_type": "code",
   "execution_count": null,
   "id": "7be5ea3b",
   "metadata": {},
   "outputs": [],
   "source": [
    "H_TF_prim, _, _ = hamiltonian_dense(state**2, site, g, K_import=K_prim, V_import=V_prim, Import=True)\n",
    "H_TF, _, _ = hamiltonian_dense(state**2, site, g, K_import=K_prim, V_import=V_prim, Import=True)"
   ]
  },
  {
   "cell_type": "code",
   "execution_count": 64,
   "id": "d7bc1f2f",
   "metadata": {},
   "outputs": [
    {
     "data": {
      "text/plain": [
       "array([2.     , 2.33333, 1.66667, 1.33333, 1.33333, 2.33333, 2.33333, 2.33333, 2.33333, 2.33333, 2.66667, 2.     , 1.66667, 1.66667, 2.66667, 2.66667, 2.66667, 2.66667, 1.66667, 2.     , 1.33333, 1.     , 1.     , 2.     , 2.     , 2.     , 2.     , 1.33333, 1.66667, 1.     , 0.66667, 0.66667, 1.66667, 1.66667, 1.66667, 1.66667, 1.33333, 1.66667, 1.     , 0.66667, 0.66667, 1.66667, 1.66667, 1.66667, 1.66667, 2.33333, 2.66667, 2.     , 1.66667, 1.66667, 2.66667, 2.66667, 2.66667, 2.66667, 2.33333, 2.66667, 2.     , 1.66667, 1.66667, 2.66667, 2.66667, 2.66667, 2.66667, 2.33333, 2.66667, 2.     , 1.66667, 1.66667, 2.66667, 2.66667, 2.66667, 2.66667, 2.33333, 2.66667, 2.     , 1.66667, 1.66667, 2.66667, 2.66667, 2.66667, 2.66667, 2.33333, 2.66667, 2.     , 1.66667, 1.66667, 2.66667, 2.66667, 2.66667, 2.66667, 2.66667, 3.     , 2.33333, 2.     , 2.     , 3.     , 3.     , 3.     , 3.     , 2.     , 2.33333, 1.66667, 1.33333, 1.33333, 2.33333, 2.33333, 2.33333, 2.33333, 1.66667, 2.     , 1.33333, 1.     , 1.     , 2.     , 2.     , 2.     , 2.     , 1.66667, 2.     , 1.33333, 1.     , 1.     , 2.     , 2.     , 2.     , 2.     , 2.66667, 3.     , 2.33333, 2.     , 2.     , 3.     , 3.     , 3.     , 3.     , 2.66667, 3.     , 2.33333, 2.     , 2.     , 3.     , 3.     , 3.     , 3.     , 2.66667, 3.     , 2.33333, 2.     , 2.     , 3.     , 3.     , 3.     , 3.     , 2.66667, 3.     , 2.33333, 2.     , 2.     , 3.     , 3.     , 3.     , 3.     , 1.66667, 2.     , 1.33333, 1.     , 1.     , 2.     , 2.     , 2.     , 2.     , 2.     , 2.33333, 1.66667, 1.33333, 1.33333, 2.33333, 2.33333, 2.33333, 2.33333, 1.33333, 1.66667, 1.     , 0.66667, 0.66667, 1.66667, 1.66667, 1.66667, 1.66667, 1.     , 1.33333, 0.66667, 0.33333, 0.33333, 1.33333, 1.33333, 1.33333, 1.33333, 1.     , 1.33333, 0.66667, 0.33333, 0.33333, 1.33333, 1.33333, 1.33333, 1.33333, 2.     , 2.33333, 1.66667, 1.33333, 1.33333, 2.33333, 2.33333, 2.33333, 2.33333, 2.     , 2.33333, 1.66667, 1.33333, 1.33333, 2.33333, 2.33333, 2.33333, 2.33333, 2.     , 2.33333, 1.66667, 1.33333, 1.33333, 2.33333, 2.33333, 2.33333, 2.33333, 2.     , 2.33333, 1.66667, 1.33333, 1.33333, 2.33333, 2.33333, 2.33333, 2.33333, 1.33333, 1.66667, 1.     , 0.66667, 0.66667, 1.66667, 1.66667, 1.66667, 1.66667, 1.66667, 2.     , 1.33333, 1.     , 1.     , 2.     , 2.     , 2.     , 2.     , 1.     , 1.33333, 0.66667, 0.33333, 0.33333, 1.33333, 1.33333, 1.33333, 1.33333, 0.66667, 1.     , 0.33333, 0.     , 0.     , 1.     , 1.     , 1.     , 1.     , 0.66667, 1.     , 0.33333, 0.     , 0.     , 1.     , 1.     , 1.     , 1.     , 1.66667, 2.     , 1.33333, 1.     , 1.     , 2.     , 2.     , 2.     , 2.     , 1.66667, 2.     , 1.33333, 1.     , 1.     , 2.     , 2.     , 2.     , 2.     , 1.66667, 2.     , 1.33333, 1.     , 1.     , 2.     , 2.     , 2.     , 2.     , 1.66667, 2.     , 1.33333, 1.     , 1.     , 2.     , 2.     , 2.     , 2.     , 1.33333, 1.66667, 1.     , 0.66667, 0.66667, 1.66667, 1.66667, 1.66667, 1.66667, 1.66667, 2.     , 1.33333, 1.     , 1.     , 2.     , 2.     , 2.     , 2.     , 1.     , 1.33333, 0.66667, 0.33333, 0.33333, 1.33333, 1.33333, 1.33333, 1.33333, 0.66667, 1.     , 0.33333, 0.     , 0.     , 1.     , 1.     , 1.     , 1.     , 0.66667, 1.     , 0.33333, 0.     , 0.     , 1.     , 1.     , 1.     , 1.     , 1.66667, 2.     , 1.33333, 1.     , 1.     , 2.     , 2.     , 2.     , 2.     , 1.66667, 2.     , 1.33333, 1.     , 1.     , 2.     , 2.     , 2.     , 2.     , 1.66667, 2.     , 1.33333, 1.     , 1.     , 2.     , 2.     , 2.     , 2.     , 1.66667, 2.     , 1.33333, 1.     , 1.     , 2.     , 2.     , 2.     , 2.     , 2.33333, 2.66667, 2.     , 1.66667, 1.66667, 2.66667, 2.66667, 2.66667, 2.66667, 2.66667, 3.     , 2.33333, 2.     , 2.     , 3.     , 3.     , 3.     , 3.     , 2.     , 2.33333, 1.66667, 1.33333, 1.33333, 2.33333, 2.33333, 2.33333, 2.33333, 1.66667, 2.     , 1.33333, 1.     , 1.     , 2.     , 2.     , 2.     , 2.     , 1.66667, 2.     , 1.33333, 1.     , 1.     , 2.     , 2.     , 2.     , 2.     , 2.66667, 3.     , 2.33333, 2.     , 2.     , 3.     , 3.     , 3.     , 3.     , 2.66667, 3.     , 2.33333, 2.     , 2.     , 3.     , 3.     , 3.     , 3.     , 2.66667, 3.     , 2.33333, 2.     , 2.     , 3.     , 3.     , 3.     , 3.     , 2.66667, 3.     , 2.33333, 2.     , 2.     , 3.     , 3.     , 3.     , 3.     , 2.33333, 2.66667, 2.     , 1.66667, 1.66667, 2.66667, 2.66667, 2.66667, 2.66667, 2.66667, 3.     , 2.33333, 2.     , 2.     , 3.     , 3.     , 3.     , 3.     , 2.     , 2.33333, 1.66667, 1.33333, 1.33333, 2.33333, 2.33333, 2.33333, 2.33333, 1.66667, 2.     , 1.33333, 1.     , 1.     , 2.     , 2.     , 2.     , 2.     , 1.66667, 2.     , 1.33333, 1.     , 1.     , 2.     , 2.     , 2.     , 2.     , 2.66667, 3.     , 2.33333, 2.     , 2.     , 3.     , 3.     , 3.     , 3.     , 2.66667, 3.     , 2.33333, 2.     , 2.     , 3.     , 3.     , 3.     , 3.     , 2.66667, 3.     , 2.33333, 2.     , 2.     , 3.     , 3.     , 3.     , 3.     , 2.66667, 3.     , 2.33333, 2.     , 2.     , 3.     , 3.     , 3.     , 3.     , 2.33333, 2.66667, 2.     , 1.66667, 1.66667, 2.66667, 2.66667, 2.66667, 2.66667, 2.66667, 3.     , 2.33333, 2.     , 2.     , 3.     , 3.     , 3.     , 3.     , 2.     , 2.33333, 1.66667, 1.33333, 1.33333, 2.33333, 2.33333, 2.33333, 2.33333, 1.66667, 2.     , 1.33333, 1.     , 1.     , 2.     , 2.     , 2.     , 2.     , 1.66667, 2.     , 1.33333, 1.     , 1.     , 2.     , 2.     , 2.     , 2.     , 2.66667, 3.     , 2.33333, 2.     , 2.     , 3.     , 3.     , 3.     , 3.     , 2.66667, 3.     , 2.33333, 2.     , 2.     , 3.     , 3.     , 3.     , 3.     , 2.66667, 3.     , 2.33333, 2.     , 2.     , 3.     , 3.     , 3.     , 3.     , 2.66667, 3.     , 2.33333, 2.     , 2.     , 3.     , 3.     , 3.     , 3.     , 2.33333, 2.66667, 2.     , 1.66667, 1.66667, 2.66667, 2.66667, 2.66667, 2.66667, 2.66667, 3.     , 2.33333, 2.     , 2.     , 3.     , 3.     , 3.     , 3.     , 2.     , 2.33333, 1.66667, 1.33333, 1.33333, 2.33333, 2.33333, 2.33333, 2.33333, 1.66667, 2.     , 1.33333, 1.     , 1.     , 2.     , 2.     , 2.     , 2.     , 1.66667, 2.     , 1.33333, 1.     , 1.     , 2.     , 2.     , 2.     , 2.     , 2.66667, 3.     , 2.33333, 2.     , 2.     , 3.     , 3.     , 3.     , 3.     , 2.66667, 3.     , 2.33333, 2.     , 2.     , 3.     , 3.     , 3.     , 3.     , 2.66667, 3.     , 2.33333, 2.     , 2.     , 3.     , 3.     , 3.     , 3.     , 2.66667, 3.     , 2.33333, 2.     , 2.     , 3.     , 3.     , 3.     , 3.     ])"
      ]
     },
     "execution_count": 64,
     "metadata": {},
     "output_type": "execute_result"
    }
   ],
   "source": [
    "np.diag(H_TF.real)"
   ]
  },
  {
   "cell_type": "code",
   "execution_count": 80,
   "id": "f1b6827c",
   "metadata": {},
   "outputs": [],
   "source": [
    "eig_val_TF, eig_vec_TF = np.linalg.eigh(H_TF)\n",
    "eig_val, eig_vec = np.linalg.eigh(H)"
   ]
  },
  {
   "cell_type": "code",
   "execution_count": 81,
   "id": "eb2b188a",
   "metadata": {},
   "outputs": [],
   "source": [
    "index_OR = np.argsort(-eig_val)"
   ]
  },
  {
   "cell_type": "code",
   "execution_count": 82,
   "id": "7c0dd98e",
   "metadata": {},
   "outputs": [
    {
     "data": {
      "text/plain": [
       "array([ 3.00016,  3.00009,  3.00005,  3.00005,  3.00001,  3.00001,  3.     ,  3.     ,  2.01323,  2.01323,  2.01004,  2.01   ,  2.01   ,  2.005  ,  1.995  ,  1.995  ,  1.995  ,  1.98677,  1.98677,  1.98015,  1.00999,  1.00999,  1.00991,  0.99495,  0.99495,  0.97984, -0.00019])"
      ]
     },
     "execution_count": 82,
     "metadata": {},
     "output_type": "execute_result"
    }
   ],
   "source": [
    "eig_val[index_OR]"
   ]
  },
  {
   "cell_type": "code",
   "execution_count": 83,
   "id": "889198d4",
   "metadata": {},
   "outputs": [],
   "source": [
    "index_TF = np.argsort(-eig_val_TF)"
   ]
  },
  {
   "cell_type": "code",
   "execution_count": 84,
   "id": "66bada81",
   "metadata": {},
   "outputs": [
    {
     "data": {
      "text/plain": [
       "np.float64(3.00016087827633)"
      ]
     },
     "execution_count": 84,
     "metadata": {},
     "output_type": "execute_result"
    }
   ],
   "source": [
    "eig_val_TF[index_TF[3]]"
   ]
  },
  {
   "cell_type": "code",
   "execution_count": 85,
   "id": "226b1838",
   "metadata": {},
   "outputs": [],
   "source": [
    "psi_vec = eig_vec_TF[index_TF[9]]\n",
    "\n",
    "rho_site_0 = density_matrix_1(state_2, site, psi_vec, 0)"
   ]
  },
  {
   "cell_type": "code",
   "execution_count": 86,
   "id": "c12d801f",
   "metadata": {},
   "outputs": [],
   "source": [
    "eig_val_D, matrix_p_to_NO_full = np.linalg.eigh(rho_site_0)\n",
    "index = np.argsort(-eig_val_D)"
   ]
  },
  {
   "cell_type": "code",
   "execution_count": 87,
   "id": "c2709682",
   "metadata": {},
   "outputs": [
    {
     "data": {
      "text/plain": [
       "array([0.33543, 0.20193, 0.18418, 0.11132, 0.0625 , 0.05772, 0.0469 , 0.00001, 0.00001])"
      ]
     },
     "execution_count": 87,
     "metadata": {},
     "output_type": "execute_result"
    }
   ],
   "source": [
    "eig_val_D[index]"
   ]
  },
  {
   "cell_type": "markdown",
   "id": "c47b9e89",
   "metadata": {},
   "source": [
    "# Sparse"
   ]
  },
  {
   "cell_type": "code",
   "execution_count": 73,
   "id": "c4d0fd75",
   "metadata": {},
   "outputs": [],
   "source": [
    "site = 3\n",
    "state = 3\n",
    "g = 0.9"
   ]
  },
  {
   "cell_type": "code",
   "execution_count": 74,
   "id": "50f9fdea",
   "metadata": {},
   "outputs": [
    {
     "name": "stderr",
     "output_type": "stream",
     "text": [
      "/Users/gilfrim/Desktop/Projects/Computational_Analysis_of_Many_Rotor_Systems/.venv/lib/python3.13/site-packages/scipy/sparse/_sputils.py:147: ComplexWarning: Casting complex values to real discards the imaginary part\n",
      "  data = np.array(obj, dtype=dtype, copy=copy)\n"
     ]
    }
   ],
   "source": [
    "H, K, V = hamiltonian_general_sparse(state, site, g)\n",
    "\n",
    "K = K.toarray()\n",
    "V = V.toarray()"
   ]
  },
  {
   "cell_type": "code",
   "execution_count": 75,
   "id": "dccb07a5",
   "metadata": {},
   "outputs": [],
   "source": [
    "U, _ = bz.thermofield_change_of_basis(K)\n",
    "\n",
    "K_tilda = bz.H_tilde_maker(K)\n",
    "\n",
    "V_tensor = V.reshape(state, state, state, state)\n",
    "\n",
    "I = np.eye(state)\n",
    "V_prim = oe.contract('pqrs,mw,nv->pmqnrwsv', V_tensor, I, I,  optimize='optimal')\n",
    "\n",
    "V_grouped = V_prim.reshape(state**2, state**2, state**2, state**2)\n",
    "\n",
    "V_tilda = oe.contract('Mi,Wj,ijab,aN,bV->MWNV', U, U, V_grouped, U, U, optimize='optimal')"
   ]
  },
  {
   "cell_type": "code",
   "execution_count": 76,
   "id": "78468c74",
   "metadata": {},
   "outputs": [],
   "source": [
    "state_2 = state**2\n",
    "\n",
    "K_tilda_s = sp.csr_matrix(K_tilda)\n",
    "V_tilda_s = sp.csr_matrix(V_tilda.reshape(state_2**2, state_2**2))"
   ]
  },
  {
   "cell_type": "code",
   "execution_count": 77,
   "id": "dd80b294",
   "metadata": {},
   "outputs": [],
   "source": [
    "H_TF, _, _ = hamiltonian_sparse(state_2, site, g, K_import=K_tilda, V_import=V_tilda)"
   ]
  },
  {
   "cell_type": "code",
   "execution_count": 78,
   "id": "8098ac88",
   "metadata": {},
   "outputs": [
    {
     "ename": "NameError",
     "evalue": "name 'rho_site_0' is not defined",
     "output_type": "error",
     "traceback": [
      "\u001b[31m---------------------------------------------------------------------------\u001b[39m",
      "\u001b[31mNameError\u001b[39m                                 Traceback (most recent call last)",
      "\u001b[36mCell\u001b[39m\u001b[36m \u001b[39m\u001b[32mIn[78]\u001b[39m\u001b[32m, line 1\u001b[39m\n\u001b[32m----> \u001b[39m\u001b[32m1\u001b[39m eig_val_D, matrix_p_to_NO_full = np.linalg.eigh(\u001b[43mrho_site_0\u001b[49m)\n\u001b[32m      2\u001b[39m index = np.argsort(-eig_val_D)\n",
      "\u001b[31mNameError\u001b[39m: name 'rho_site_0' is not defined"
     ]
    }
   ],
   "source": [
    "eig_val_D, matrix_p_to_NO_full = np.linalg.eigh(rho_site_0)\n",
    "index = np.argsort(-eig_val_D)"
   ]
  },
  {
   "cell_type": "code",
   "execution_count": null,
   "id": "6ce81601",
   "metadata": {},
   "outputs": [],
   "source": [
    "_, psi_vec = sp.linalg.eigsh(H_TF, k=1, which='SA', tol=1e-19, maxiter=2000)\n",
    "\n",
    "rho_site_0 = density_matrix_1(state_2, site, psi_vec, 0)"
   ]
  },
  {
   "cell_type": "code",
   "execution_count": null,
   "id": "2ed0ca4f",
   "metadata": {},
   "outputs": [],
   "source": [
    "eig_val_D, matrix_p_to_NO_full = np.linalg.eigh(rho_site_0)\n",
    "index = np.argsort(-eig_val_D)"
   ]
  },
  {
   "cell_type": "code",
   "execution_count": null,
   "id": "bb1c9249",
   "metadata": {},
   "outputs": [
    {
     "data": {
      "text/plain": [
       "array([0.62560978, 0.36452163])"
      ]
     },
     "execution_count": 35,
     "metadata": {},
     "output_type": "execute_result"
    }
   ],
   "source": [
    "eig_val_D[index[:2]]"
   ]
  },
  {
   "cell_type": "markdown",
   "id": "6b24f40f",
   "metadata": {},
   "source": [
    "# Dense"
   ]
  },
  {
   "cell_type": "code",
   "execution_count": 39,
   "id": "cd8308ce",
   "metadata": {},
   "outputs": [],
   "source": [
    "site = 3\n",
    "state = 3\n",
    "g = 0.9"
   ]
  },
  {
   "cell_type": "code",
   "execution_count": 40,
   "id": "dd450a31",
   "metadata": {},
   "outputs": [],
   "source": [
    "H, K, V = hamiltonian_general_dense(state, site, g)"
   ]
  },
  {
   "cell_type": "code",
   "execution_count": 41,
   "id": "52d75c54",
   "metadata": {},
   "outputs": [
    {
     "data": {
      "text/plain": [
       "(27, 27)"
      ]
     },
     "execution_count": 41,
     "metadata": {},
     "output_type": "execute_result"
    }
   ],
   "source": [
    "H.shape"
   ]
  },
  {
   "cell_type": "code",
   "execution_count": 42,
   "id": "015fc0be",
   "metadata": {},
   "outputs": [],
   "source": [
    "U, _ = bz.thermofield_change_of_basis(K)\n",
    "\n",
    "K_tilda = bz.H_tilde_maker(K)\n",
    "\n",
    "V_tensor = V.reshape(state, state, state, state)\n",
    "\n",
    "I = np.eye(state)\n",
    "V_prim = oe.contract('pqrs,mw,nv->pmqnrwsv', V_tensor, I, I,  optimize='optimal')\n",
    "\n",
    "V_grouped = V_prim.reshape(state**2, state**2, state**2, state**2)\n",
    "\n",
    "V_tilda = oe.contract('Mi,Wj,ijab,aN,bV->MWNV', U.T, U.T, V_grouped, U, U, optimize='optimal').reshape(state_2**2, state_2**2)"
   ]
  },
  {
   "cell_type": "code",
   "execution_count": 43,
   "id": "846934ae",
   "metadata": {},
   "outputs": [],
   "source": [
    "state_2 = state**2"
   ]
  },
  {
   "cell_type": "code",
   "execution_count": 44,
   "id": "cf408c6c",
   "metadata": {},
   "outputs": [],
   "source": [
    "H_TF, _, _ = hamiltonian_dense(state_2, site, g, K_import=K_tilda, V_import=V_tilda, Import=True)"
   ]
  },
  {
   "cell_type": "code",
   "execution_count": 45,
   "id": "6f63f648",
   "metadata": {},
   "outputs": [],
   "source": [
    "eig_val_TF, eig_vec_TF = np.linalg.eigh(H_TF)"
   ]
  },
  {
   "cell_type": "code",
   "execution_count": 46,
   "id": "44a617cb",
   "metadata": {},
   "outputs": [],
   "source": [
    "index = np.argsort(-eig_val_TF)\n",
    "psi_vec = eig_vec_TF[index[0]]\n",
    "\n",
    "rho_site_0 = density_matrix_1(state_2, site, psi_vec, 0)"
   ]
  },
  {
   "cell_type": "code",
   "execution_count": 47,
   "id": "239d6545",
   "metadata": {},
   "outputs": [],
   "source": [
    "eig_val_D, matrix_p_to_NO_full = np.linalg.eigh(rho_site_0)\n",
    "index = np.argsort(-eig_val_D)"
   ]
  },
  {
   "cell_type": "code",
   "execution_count": 48,
   "id": "e9156288",
   "metadata": {},
   "outputs": [
    {
     "data": {
      "text/plain": [
       "array([ 0.75183,  0.18858,  0.05959,  0.     ,  0.     , -0.     , -0.     , -0.     , -0.     ])"
      ]
     },
     "execution_count": 48,
     "metadata": {},
     "output_type": "execute_result"
    }
   ],
   "source": [
    "eig_val_D[index]"
   ]
  },
  {
   "cell_type": "code",
   "execution_count": 49,
   "id": "ca071642",
   "metadata": {},
   "outputs": [
    {
     "data": {
      "text/plain": [
       "array([ 0., -0.,  0., -0., -0.,  0., -0.,  1., -0.])"
      ]
     },
     "execution_count": 49,
     "metadata": {},
     "output_type": "execute_result"
    }
   ],
   "source": [
    "matrix_p_to_NO_full[index[0]].real"
   ]
  }
 ],
 "metadata": {
  "kernelspec": {
   "display_name": ".venv",
   "language": "python",
   "name": "python3"
  },
  "language_info": {
   "codemirror_mode": {
    "name": "ipython",
    "version": 3
   },
   "file_extension": ".py",
   "mimetype": "text/x-python",
   "name": "python",
   "nbconvert_exporter": "python",
   "pygments_lexer": "ipython3",
   "version": "3.13.4"
  }
 },
 "nbformat": 4,
 "nbformat_minor": 5
}
