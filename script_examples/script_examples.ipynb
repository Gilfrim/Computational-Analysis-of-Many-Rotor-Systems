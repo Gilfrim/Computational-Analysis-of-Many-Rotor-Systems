{
 "cells": [
  {
   "cell_type": "code",
   "execution_count": 3,
   "id": "a1361926",
   "metadata": {},
   "outputs": [],
   "source": [
    "import numpy as np\n",
    "import sys\n",
    "import os\n",
    "\n",
    "# Absolute path to the folder that contains \"quant_rotor\"\n",
    "sys.path.append(\"/Users/gilfrim/Desktop/Projects/Computational_Analysis_of_Many_Rotor_Systems\")\n",
    "\n",
    "#working with kietic and potential operators\n",
    "\n",
    "from quant_rotor.models.dense.support_ham import write_matrix_elements, basis_m_to_p_matrix_conversion\n",
    "\n",
    "from quant_rotor.models.sparse.support_ham import build_V_in_p\n",
    "\n",
    "#ED hamiltonian implementation.\n",
    "from quant_rotor.core.dense.hamiltonian import hamiltonian_dense\n",
    "from quant_rotor.core.dense.hamiltonian_big import hamiltonian_general_dense\n",
    "\n",
    "# Iterative residual calculation\n",
    "from quant_rotor.core.dense.t_amplitudes_guess import amplitute_energy, t_1_amplitude_guess_ground_state, t_2_amplitude_guess_ground_state\n",
    "from quant_rotor.core.dense.t_amplitudes_periodic import t_periodic\n",
    "from quant_rotor.core.dense.t_amplitudes_non_periodic import t_non_periodic\n",
    "\n",
    "from quant_rotor.core.dense.t_amplitudes_periodic_fast import t_periodic # for bigger systems (much harder to modify)\n",
    "\n",
    "#Time dependant methods\n",
    "from quant_rotor.core.dense.de_solve_one_thermal import integration_scheme\n",
    "\n",
    "from quant_rotor.core.dense.de_solve_one_thermal_dense import integration_scheme as integration_scheme_fast # for bigger systems (much harder to modify)"
   ]
  },
  {
   "cell_type": "markdown",
   "id": "ce668ee1",
   "metadata": {},
   "source": [
    "# Producing hamiltonian operators."
   ]
  },
  {
   "cell_type": "markdown",
   "id": "67e6367e",
   "metadata": {},
   "source": [
    "## Producing Kinetic and Potential operators."
   ]
  },
  {
   "cell_type": "code",
   "execution_count": 2,
   "id": "ac5ca482",
   "metadata": {},
   "outputs": [],
   "source": [
    "state = 3\n",
    "g = 0.1\n",
    "tau = 0"
   ]
  },
  {
   "cell_type": "markdown",
   "id": "b9a69890",
   "metadata": {},
   "source": [
    "Example of the call to produce kinetic and potential matricies."
   ]
  },
  {
   "cell_type": "code",
   "execution_count": 15,
   "id": "4b763fa0",
   "metadata": {},
   "outputs": [],
   "source": [
    "# Recomended to produce small matrix which can be printed and see how it changes. For example 3 state system\n",
    "\n",
    "Kinetic, Potential = write_matrix_elements((state-1)//2, tau) # takes input of the number of unique states see doc-string and annotation for more information\n",
    "\n",
    "K, V = Kinetic, Potential\n",
    "\n",
    "V_tensor = V.reshape(state, state, state, state)  # Adjust if needed\n",
    "\n",
    "h_full = basis_m_to_p_matrix_conversion(K, state)\n",
    "v_full = basis_m_to_p_matrix_conversion(V_tensor, state)"
   ]
  },
  {
   "cell_type": "code",
   "execution_count": 16,
   "id": "2cfb28a4",
   "metadata": {},
   "outputs": [
    {
     "data": {
      "text/plain": [
       "array([[0., 0., 0.],\n",
       "       [0., 1., 0.],\n",
       "       [0., 0., 1.]])"
      ]
     },
     "execution_count": 16,
     "metadata": {},
     "output_type": "execute_result"
    }
   ],
   "source": [
    "h_full"
   ]
  },
  {
   "cell_type": "code",
   "execution_count": 17,
   "id": "b75d2332",
   "metadata": {},
   "outputs": [
    {
     "data": {
      "text/plain": [
       "array([[ 0.  ,  0.  ,  0.  ,  0.  ,  0.75, -0.25,  0.  , -0.25,  0.75],\n",
       "       [ 0.  ,  0.  ,  0.  , -0.25,  0.  ,  0.  ,  0.75,  0.  ,  0.  ],\n",
       "       [ 0.  ,  0.  ,  0.  ,  0.75,  0.  ,  0.  , -0.25,  0.  ,  0.  ],\n",
       "       [ 0.  , -0.25,  0.75,  0.  ,  0.  ,  0.  ,  0.  ,  0.  ,  0.  ],\n",
       "       [ 0.75,  0.  ,  0.  ,  0.  ,  0.  ,  0.  ,  0.  ,  0.  ,  0.  ],\n",
       "       [-0.25,  0.  ,  0.  ,  0.  ,  0.  ,  0.  ,  0.  ,  0.  ,  0.  ],\n",
       "       [ 0.  ,  0.75, -0.25,  0.  ,  0.  ,  0.  ,  0.  ,  0.  ,  0.  ],\n",
       "       [-0.25,  0.  ,  0.  ,  0.  ,  0.  ,  0.  ,  0.  ,  0.  ,  0.  ],\n",
       "       [ 0.75,  0.  ,  0.  ,  0.  ,  0.  ,  0.  ,  0.  ,  0.  ,  0.  ]])"
      ]
     },
     "execution_count": 17,
     "metadata": {},
     "output_type": "execute_result"
    }
   ],
   "source": [
    "v_full.reshape(state**2, state**2)"
   ]
  },
  {
   "cell_type": "code",
   "execution_count": 18,
   "id": "ac29b07b",
   "metadata": {},
   "outputs": [],
   "source": [
    "Kinetic_sparse, Potential_sparse = build_V_in_p(state, tau) # the fast version give a result in sparse which needs to ve converted to dense matricies\n",
    "\n",
    "# Example of how to convert to dense.\n",
    "\n",
    "Kinetic_dense = Kinetic_sparse.toarray()\n",
    "Potential_dense = Potential_sparse.toarray()"
   ]
  },
  {
   "cell_type": "code",
   "execution_count": 19,
   "id": "674bee83",
   "metadata": {},
   "outputs": [
    {
     "data": {
      "text/plain": [
       "array([[0., 0., 0.],\n",
       "       [0., 1., 0.],\n",
       "       [0., 0., 1.]])"
      ]
     },
     "execution_count": 19,
     "metadata": {},
     "output_type": "execute_result"
    }
   ],
   "source": [
    "Kinetic_dense"
   ]
  },
  {
   "cell_type": "code",
   "execution_count": 20,
   "id": "bb9f7dcd",
   "metadata": {},
   "outputs": [
    {
     "data": {
      "text/plain": [
       "array([[ 0.  ,  0.  ,  0.  ,  0.  ,  0.75, -0.25,  0.  , -0.25,  0.75],\n",
       "       [ 0.  ,  0.  ,  0.  , -0.25,  0.  ,  0.  ,  0.75,  0.  ,  0.  ],\n",
       "       [ 0.  ,  0.  ,  0.  ,  0.75,  0.  ,  0.  , -0.25,  0.  ,  0.  ],\n",
       "       [ 0.  , -0.25,  0.75,  0.  ,  0.  ,  0.  ,  0.  ,  0.  ,  0.  ],\n",
       "       [ 0.75,  0.  ,  0.  ,  0.  ,  0.  ,  0.  ,  0.  ,  0.  ,  0.  ],\n",
       "       [-0.25,  0.  ,  0.  ,  0.  ,  0.  ,  0.  ,  0.  ,  0.  ,  0.  ],\n",
       "       [ 0.  ,  0.75, -0.25,  0.  ,  0.  ,  0.  ,  0.  ,  0.  ,  0.  ],\n",
       "       [-0.25,  0.  ,  0.  ,  0.  ,  0.  ,  0.  ,  0.  ,  0.  ,  0.  ],\n",
       "       [ 0.75,  0.  ,  0.  ,  0.  ,  0.  ,  0.  ,  0.  ,  0.  ,  0.  ]])"
      ]
     },
     "execution_count": 20,
     "metadata": {},
     "output_type": "execute_result"
    }
   ],
   "source": [
    "Potential_dense"
   ]
  },
  {
   "cell_type": "markdown",
   "id": "74b3bd31",
   "metadata": {},
   "source": [
    "Check the output."
   ]
  },
  {
   "cell_type": "code",
   "execution_count": 21,
   "id": "4404c8d6",
   "metadata": {},
   "outputs": [
    {
     "name": "stdout",
     "output_type": "stream",
     "text": [
      "True\n",
      "True 1e-30\n"
     ]
    }
   ],
   "source": [
    "print(np.array_equal(h_full, Kinetic_dense))\n",
    "print(np.allclose(v_full.reshape(state**2, state**2), Potential_dense), 1e-30)"
   ]
  },
  {
   "cell_type": "markdown",
   "id": "ef3944fd",
   "metadata": {},
   "source": [
    "Produce several matricies for tests."
   ]
  },
  {
   "cell_type": "code",
   "execution_count": 26,
   "id": "902c0d46",
   "metadata": {},
   "outputs": [
    {
     "name": "stderr",
     "output_type": "stream",
     "text": [
      "/Users/gilfrim/Desktop/Projects/Computational_Analysis_of_Many_Rotor_Systems/.venv/lib/python3.13/site-packages/scipy/sparse/_sputils.py:147: ComplexWarning: Casting complex values to real discards the imaginary part\n",
      "  data = np.array(obj, dtype=dtype, copy=copy)\n"
     ]
    }
   ],
   "source": [
    "save_dir = \"example_data/kinetic_potential_matricies\"\n",
    "\n",
    "for state in range(3, 15, 2):\n",
    "    \n",
    "    Kinetic_sparse, Potential_sparse = build_V_in_p(state, tau) # the fast version give a result in sparse which needs to ve converted to dense matricies\n",
    "\n",
    "    # Example of how to convert to dense.\n",
    "\n",
    "    Kinetic_dense = Kinetic_sparse.toarray()\n",
    "    Potential_dense = Potential_sparse.toarray()\n",
    "\n",
    "    save_path = os.path.join(save_dir, f\"kin_pot_state_{state}.npz\")\n",
    "    np.savez(save_path, K=Kinetic_dense, V=Potential_dense)"
   ]
  },
  {
   "cell_type": "code",
   "execution_count": 28,
   "id": "3b342e45",
   "metadata": {},
   "outputs": [
    {
     "name": "stdout",
     "output_type": "stream",
     "text": [
      "True\n",
      "True\n",
      "True\n",
      "True\n",
      "True\n",
      "True\n",
      "True\n",
      "True\n",
      "True\n",
      "True\n",
      "True\n",
      "True\n"
     ]
    }
   ],
   "source": [
    "save_dir = \"example_data/kinetic_potential_matricies\"\n",
    "\n",
    "for state in range(3, 15, 2):\n",
    "\n",
    "    Kinetic_sparse, Potential_sparse = build_V_in_p(state, tau) # the fast version give a result in sparse which needs to ve converted to dense matricies\n",
    "\n",
    "    # Example of how to convert to dense.\n",
    "\n",
    "    Kinetic_dense = Kinetic_sparse.toarray()\n",
    "    Potential_dense = Potential_sparse.toarray()\n",
    "\n",
    "    save_path = os.path.join(save_dir, f\"kin_pot_state_{state}.npz\")\n",
    "\n",
    "    data = np.load(save_path)\n",
    "\n",
    "    print(np.array_equal(Kinetic_dense, data[\"K\"]))\n",
    "    print(np.array_equal(Potential_dense, data[\"V\"]))"
   ]
  },
  {
   "cell_type": "markdown",
   "id": "b781d876",
   "metadata": {},
   "source": [
    "## Producing hamiltonians."
   ]
  },
  {
   "cell_type": "code",
   "execution_count": 4,
   "id": "f92a6765",
   "metadata": {},
   "outputs": [],
   "source": [
    "site = 5\n",
    "state = 3\n",
    "g = 0.1"
   ]
  },
  {
   "cell_type": "markdown",
   "id": "4134296a",
   "metadata": {},
   "source": [
    "Exact Diognalisation hamiltonian."
   ]
  },
  {
   "cell_type": "code",
   "execution_count": 5,
   "id": "41d1ccfd",
   "metadata": {},
   "outputs": [],
   "source": [
    "Hamiltonian, K, V = hamiltonian_dense(state, site, g)\n",
    "\n",
    "H = Hamiltonian\n",
    "\n",
    "eig_val_ED, eig_vec_ED = np.linalg.eigh(H) # produces the solutions to the hamiltonian with energys and associated wavefunctions."
   ]
  },
  {
   "cell_type": "markdown",
   "id": "f503c9fc",
   "metadata": {},
   "source": [
    "Natural Orbitals hamiltonian."
   ]
  },
  {
   "cell_type": "code",
   "execution_count": 6,
   "id": "ed4720eb",
   "metadata": {},
   "outputs": [],
   "source": [
    "H, K, V = hamiltonian_general_dense(state, site, g)\n",
    "\n",
    "eig_val_NO, eig_vec_NO = np.linalg.eigh(H) # produces the solutions to the hamiltonian with energys and associated wavefunctions."
   ]
  },
  {
   "cell_type": "markdown",
   "id": "5d93d7cc",
   "metadata": {},
   "source": [
    "A way to check the NO with ED we can check the first #states biggest energyes and eigenstates."
   ]
  },
  {
   "cell_type": "code",
   "execution_count": 7,
   "id": "ee8c0324",
   "metadata": {},
   "outputs": [
    {
     "data": {
      "text/plain": [
       "False"
      ]
     },
     "execution_count": 7,
     "metadata": {},
     "output_type": "execute_result"
    }
   ],
   "source": [
    "index_ED = np.argsort(-eig_val_ED)\n",
    "index_NO = np.argsort(-eig_val_NO)\n",
    "\n",
    "# Makes a change of basis matrix.\n",
    "np.array_equal(eig_vec_ED[:, index_ED[:state]], eig_vec_NO[:, index_NO[:state]])"
   ]
  },
  {
   "cell_type": "code",
   "execution_count": 8,
   "id": "5c6e6431",
   "metadata": {},
   "outputs": [
    {
     "data": {
      "text/plain": [
       "array([ 0.019153222837,  0.005319058582,  0.001430636417,  0.019003612539,  0.014427689401,  0.01538692423 ,  0.005131016239,  0.006576208265,  0.0058758929  ,  0.010833602921,  0.015074671301,  0.010183114955,  0.000528628982,  0.002820779268,  0.003288094698,  0.00488808825 ,  0.002579507218,  0.00260220316 ,  0.003177680065,  0.016283574132,  0.016155445754,  0.002521521823,  0.002740856843,  0.002061699768,  0.00071498671 ,  0.000867474444,  0.002925281218,  0.002925281218,  0.002902362984,  0.002902362984, -0.            ,  0.            , -0.013517845464,  0.028445053748,  0.017470423121,  0.068323095365,  0.046851398671,  0.046851398671,  0.030683844065,  0.021613800348,  0.068332156841,  0.068332156841,  0.055816102944,  0.057094599779,  0.037402447625,  0.045777306562,  0.029238545148,  0.033828401261,  0.036034367092,  0.036034367092,  0.033648472344,  0.033113681644,  0.045111826005,  0.020803476335,  0.02448084637 , -0.00184118531 ,  0.027928080435,  0.008173260541,  0.009129986156,  0.001451085106, -0.006988864616,  0.003067985479, -0.002565566943, -0.014680005643,  0.054969264464,  0.054077730006,  0.057375349207,  0.04413097144 ,  0.05646437557 ,  0.044721605668,  0.049271966   ,  0.014205587275, -0.002067736484, -0.049010539434, -0.047948317708, -0.060529598245, -0.060529598245, -0.063238738216, -0.063238738215, -0.087879925782, -0.007207762366, -0.003203101749,  0.000957604805, -0.004130128691, -0.018958398081, -0.012658357841, -0.002310781663,\n",
       "       -0.014064725575, -0.003170822426, -0.012703012237,  0.012376140611, -0.022557536947, -0.020803476335, -0.020803476335, -0.038094969803, -0.049490446066, -0.032750219907, -0.024920333464, -0.024920333464, -0.027260940861, -0.026683796098, -0.026683796098, -0.006564150994, -0.013491986368, -0.013491986368, -0.018731844097, -0.006706164314, -0.008082872948, -0.008082872948, -0.022573922819, -0.022573922819, -0.029046277461, -0.021496807685,  0.069623824327,  0.064201930097,  0.051572641534,  0.126156624771,  0.049317517887,  0.051314059851,  0.040133347238,  0.082204839571,  0.043530470364,  0.076383685976,  0.051773897161,  0.009727745344, -0.009969476096, -0.015108790353, -0.000036665994,  0.003722745258, -0.001021901537, -0.000407740109, -0.007206565183, -0.002638800827,  0.003716779577,  0.033817752454,  0.032804837313,  0.016659827432,  0.017257567309,  0.000005324476,  0.0006922767  , -0.004893690613,  0.01497347283 ,  0.013299267472,  0.029722675965,  0.027398964401,  0.04055122368 ,  0.019460928404,  0.040600271915,  0.033219163493,  0.033881154138,  0.018160267672,  0.018199692713, -0.004846376721, -0.004786077483, -0.003997922964, -0.003442174329, -0.026082161396, -0.03179748964 , -0.03131768854 , -0.03686285985 ,  0.018067682493, -0.015499766929, -0.015201711727, -0.036130115454, -0.0349674331  , -0.049134644099, -0.05293978891 , -0.049082369088, -0.045697768251, -0.032948408188, -0.056832162363, -0.029214206595, -0.031704983742, -0.028184826781,\n",
       "       -0.045812367824, -0.012824395786,  0.02443048338 ,  0.040156219314,  0.01234269182 ,  0.013149266527,  0.01334514425 , -0.040324632087, -0.039396587213, -0.048143204396, -0.078991873332, -0.035904032861, -0.062443674693, -0.054187599845,  0.00550779557 , -0.055320888473, -0.0547250837  , -0.033023754089, -0.010083048146,  0.031195722748,  0.031195722748,  0.082109152451,  0.038059026025,  0.026605612563,  0.026605612563,  0.058091438585,  0.003897755824,  0.012362019544, -0.029453897589, -0.037648564054, -0.037648564054, -0.041991205247,  0.00104510131 ,  0.021857131162,  0.071835345398,  0.056433440245,  0.021564143445,  0.033704000214, -0.043901065652, -0.046659420198, -0.046659420198, -0.085724940867, -0.053815401965, -0.030724611757, -0.031542343094, -0.031542343094, -0.026219561196, -0.014944135439, -0.016525886676, -0.016525886676, -0.016282265171,  0.003759758578,  0.019337548758, -0.036970499547,  0.014490448733, -0.061337124615, -0.061337124615, -0.107300437097, -0.036383538153,  0.086812164738,  0.001132112055, -0.047025172515,  0.033792628242, -0.099304317031,  0.000702017864, -0.005149305354,  0.010793824504, -0.092936831418, -0.026390572   ])"
      ]
     },
     "execution_count": 8,
     "metadata": {},
     "output_type": "execute_result"
    }
   ],
   "source": [
    "eig_val_ED[index_ED] - eig_val_NO[index_NO]"
   ]
  },
  {
   "cell_type": "code",
   "execution_count": null,
   "id": "a6fc3e66",
   "metadata": {},
   "outputs": [],
   "source": []
  }
 ],
 "metadata": {
  "kernelspec": {
   "display_name": ".venv",
   "language": "python",
   "name": "python3"
  },
  "language_info": {
   "codemirror_mode": {
    "name": "ipython",
    "version": 3
   },
   "file_extension": ".py",
   "mimetype": "text/x-python",
   "name": "python",
   "nbconvert_exporter": "python",
   "pygments_lexer": "ipython3",
   "version": "3.13.4"
  }
 },
 "nbformat": 4,
 "nbformat_minor": 5
}
