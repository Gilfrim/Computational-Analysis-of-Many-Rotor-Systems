{
 "cells": [
  {
   "cell_type": "code",
   "execution_count": null,
   "id": "a1361926",
   "metadata": {},
   "outputs": [],
   "source": [
    "import numpy as np\n",
    "import sys\n",
    "import os\n",
    "\n",
    "# Absolute path to the folder that contains \"quant_rotor\"\n",
    "sys.path.append(\"/Users/gilfrim/Desktop/Projects/Computational_Analysis_of_Many_Rotor_Systems\")\n",
    "\n",
    "\n",
    "#working with kietic and potential operators\n",
    "\n",
    "# Dense (Slow)\n",
    "from quant_rotor.models.dense.support_ham import write_matrix_elements, basis_m_to_p_matrix_conversion\n",
    "\n",
    "# Sparse (Fast)\n",
    "from quant_rotor.models.sparse.support_ham import build_V_in_p\n",
    "\n",
    "\n",
    "# ED hamiltonian implementation.\n",
    "\n",
    "# Dense (Slow)\n",
    "from quant_rotor.core.dense.hamiltonian import hamiltonian_dense\n",
    "from quant_rotor.core.dense.hamiltonian_big import hamiltonian_general_dense\n",
    "\n",
    "# Sparse (Fast)\n",
    "from quant_rotor.core.sparse.hamiltonian import hamiltonian_sparse\n",
    "from quant_rotor.core.sparse.hamiltonian_big import hamiltonian_general_sparse\n",
    "\n",
    "\n",
    "# Iterative residual calculation\n",
    "\n",
    "# Dense (Slow)\n",
    "from quant_rotor.core.dense.t_amplitudes_guess import amplitute_energy, t_1_amplitude_guess_ground_state, t_2_amplitude_guess_ground_state\n",
    "from quant_rotor.core.dense.t_amplitudes_periodic import t_periodic\n",
    "from quant_rotor.core.dense.t_amplitudes_non_periodic import t_non_periodic\n",
    "\n",
    "# Sparse (Fast)\n",
    "from quant_rotor.core.dense.t_amplitudes_periodic_fast import t_periodic # for bigger systems (much harder to modify)\n",
    "\n",
    "\n",
    "#Time dependant methods\n",
    "\n",
    "# Dense (Slow)\n",
    "from quant_rotor.core.dense.de_solve_one_thermal import integration_scheme\n",
    "\n",
    "# Sparse (Fast)\n",
    "from quant_rotor.core.dense.de_solve_one_thermal_dense import integration_scheme as integration_scheme_fast # for bigger systems (much harder to modify)"
   ]
  },
  {
   "cell_type": "markdown",
   "id": "ce668ee1",
   "metadata": {},
   "source": [
    "# Producing hamiltonian operators."
   ]
  },
  {
   "cell_type": "markdown",
   "id": "67e6367e",
   "metadata": {},
   "source": [
    "## Producing Kinetic and Potential operators."
   ]
  },
  {
   "cell_type": "code",
   "execution_count": 2,
   "id": "ac5ca482",
   "metadata": {},
   "outputs": [],
   "source": [
    "state = 3\n",
    "g = 0.1\n",
    "tau = 0"
   ]
  },
  {
   "cell_type": "markdown",
   "id": "b9a69890",
   "metadata": {},
   "source": [
    "Example of the call to produce kinetic and potential matricies."
   ]
  },
  {
   "cell_type": "code",
   "execution_count": 15,
   "id": "4b763fa0",
   "metadata": {},
   "outputs": [],
   "source": [
    "# Recomended to produce small matrix which can be printed and see how it changes. For example 3 state system\n",
    "\n",
    "Kinetic, Potential = write_matrix_elements((state-1)//2, tau) # takes input of the number of unique states see doc-string and annotation for more information\n",
    "\n",
    "K, V = Kinetic, Potential\n",
    "\n",
    "V_tensor = V.reshape(state, state, state, state)  # Adjust if needed\n",
    "\n",
    "h_full = basis_m_to_p_matrix_conversion(K, state)\n",
    "v_full = basis_m_to_p_matrix_conversion(V_tensor, state)"
   ]
  },
  {
   "cell_type": "code",
   "execution_count": 16,
   "id": "2cfb28a4",
   "metadata": {},
   "outputs": [
    {
     "data": {
      "text/plain": [
       "array([[0., 0., 0.],\n",
       "       [0., 1., 0.],\n",
       "       [0., 0., 1.]])"
      ]
     },
     "execution_count": 16,
     "metadata": {},
     "output_type": "execute_result"
    }
   ],
   "source": [
    "h_full"
   ]
  },
  {
   "cell_type": "code",
   "execution_count": 17,
   "id": "b75d2332",
   "metadata": {},
   "outputs": [
    {
     "data": {
      "text/plain": [
       "array([[ 0.  ,  0.  ,  0.  ,  0.  ,  0.75, -0.25,  0.  , -0.25,  0.75],\n",
       "       [ 0.  ,  0.  ,  0.  , -0.25,  0.  ,  0.  ,  0.75,  0.  ,  0.  ],\n",
       "       [ 0.  ,  0.  ,  0.  ,  0.75,  0.  ,  0.  , -0.25,  0.  ,  0.  ],\n",
       "       [ 0.  , -0.25,  0.75,  0.  ,  0.  ,  0.  ,  0.  ,  0.  ,  0.  ],\n",
       "       [ 0.75,  0.  ,  0.  ,  0.  ,  0.  ,  0.  ,  0.  ,  0.  ,  0.  ],\n",
       "       [-0.25,  0.  ,  0.  ,  0.  ,  0.  ,  0.  ,  0.  ,  0.  ,  0.  ],\n",
       "       [ 0.  ,  0.75, -0.25,  0.  ,  0.  ,  0.  ,  0.  ,  0.  ,  0.  ],\n",
       "       [-0.25,  0.  ,  0.  ,  0.  ,  0.  ,  0.  ,  0.  ,  0.  ,  0.  ],\n",
       "       [ 0.75,  0.  ,  0.  ,  0.  ,  0.  ,  0.  ,  0.  ,  0.  ,  0.  ]])"
      ]
     },
     "execution_count": 17,
     "metadata": {},
     "output_type": "execute_result"
    }
   ],
   "source": [
    "v_full.reshape(state**2, state**2)"
   ]
  },
  {
   "cell_type": "code",
   "execution_count": 18,
   "id": "ac29b07b",
   "metadata": {},
   "outputs": [],
   "source": [
    "Kinetic_sparse, Potential_sparse = build_V_in_p(state, tau) # the fast version give a result in sparse which needs to ve converted to dense matricies\n",
    "\n",
    "# Example of how to convert to dense.\n",
    "\n",
    "Kinetic_dense = Kinetic_sparse.toarray()\n",
    "Potential_dense = Potential_sparse.toarray()"
   ]
  },
  {
   "cell_type": "code",
   "execution_count": 19,
   "id": "674bee83",
   "metadata": {},
   "outputs": [
    {
     "data": {
      "text/plain": [
       "array([[0., 0., 0.],\n",
       "       [0., 1., 0.],\n",
       "       [0., 0., 1.]])"
      ]
     },
     "execution_count": 19,
     "metadata": {},
     "output_type": "execute_result"
    }
   ],
   "source": [
    "Kinetic_dense"
   ]
  },
  {
   "cell_type": "code",
   "execution_count": 20,
   "id": "bb9f7dcd",
   "metadata": {},
   "outputs": [
    {
     "data": {
      "text/plain": [
       "array([[ 0.  ,  0.  ,  0.  ,  0.  ,  0.75, -0.25,  0.  , -0.25,  0.75],\n",
       "       [ 0.  ,  0.  ,  0.  , -0.25,  0.  ,  0.  ,  0.75,  0.  ,  0.  ],\n",
       "       [ 0.  ,  0.  ,  0.  ,  0.75,  0.  ,  0.  , -0.25,  0.  ,  0.  ],\n",
       "       [ 0.  , -0.25,  0.75,  0.  ,  0.  ,  0.  ,  0.  ,  0.  ,  0.  ],\n",
       "       [ 0.75,  0.  ,  0.  ,  0.  ,  0.  ,  0.  ,  0.  ,  0.  ,  0.  ],\n",
       "       [-0.25,  0.  ,  0.  ,  0.  ,  0.  ,  0.  ,  0.  ,  0.  ,  0.  ],\n",
       "       [ 0.  ,  0.75, -0.25,  0.  ,  0.  ,  0.  ,  0.  ,  0.  ,  0.  ],\n",
       "       [-0.25,  0.  ,  0.  ,  0.  ,  0.  ,  0.  ,  0.  ,  0.  ,  0.  ],\n",
       "       [ 0.75,  0.  ,  0.  ,  0.  ,  0.  ,  0.  ,  0.  ,  0.  ,  0.  ]])"
      ]
     },
     "execution_count": 20,
     "metadata": {},
     "output_type": "execute_result"
    }
   ],
   "source": [
    "Potential_dense"
   ]
  },
  {
   "cell_type": "markdown",
   "id": "74b3bd31",
   "metadata": {},
   "source": [
    "Check the output."
   ]
  },
  {
   "cell_type": "code",
   "execution_count": 21,
   "id": "4404c8d6",
   "metadata": {},
   "outputs": [
    {
     "name": "stdout",
     "output_type": "stream",
     "text": [
      "True\n",
      "True 1e-30\n"
     ]
    }
   ],
   "source": [
    "print(np.array_equal(h_full, Kinetic_dense))\n",
    "print(np.allclose(v_full.reshape(state**2, state**2), Potential_dense), 1e-30)"
   ]
  },
  {
   "cell_type": "markdown",
   "id": "ef3944fd",
   "metadata": {},
   "source": [
    "Produce several matricies for tests."
   ]
  },
  {
   "cell_type": "code",
   "execution_count": 26,
   "id": "902c0d46",
   "metadata": {},
   "outputs": [
    {
     "name": "stderr",
     "output_type": "stream",
     "text": [
      "/Users/gilfrim/Desktop/Projects/Computational_Analysis_of_Many_Rotor_Systems/.venv/lib/python3.13/site-packages/scipy/sparse/_sputils.py:147: ComplexWarning: Casting complex values to real discards the imaginary part\n",
      "  data = np.array(obj, dtype=dtype, copy=copy)\n"
     ]
    }
   ],
   "source": [
    "save_dir = \"example_data/kinetic_potential_matricies\"\n",
    "\n",
    "for state in range(3, 15, 2):\n",
    "    \n",
    "    Kinetic_sparse, Potential_sparse = build_V_in_p(state, tau) # the fast version give a result in sparse which needs to ve converted to dense matricies\n",
    "\n",
    "    # Example of how to convert to dense.\n",
    "\n",
    "    Kinetic_dense = Kinetic_sparse.toarray()\n",
    "    Potential_dense = Potential_sparse.toarray()\n",
    "\n",
    "    save_path = os.path.join(save_dir, f\"kin_pot_state_{state}.npz\")\n",
    "    np.savez(save_path, K=Kinetic_dense, V=Potential_dense)"
   ]
  },
  {
   "cell_type": "code",
   "execution_count": 28,
   "id": "3b342e45",
   "metadata": {},
   "outputs": [
    {
     "name": "stdout",
     "output_type": "stream",
     "text": [
      "True\n",
      "True\n",
      "True\n",
      "True\n",
      "True\n",
      "True\n",
      "True\n",
      "True\n",
      "True\n",
      "True\n",
      "True\n",
      "True\n"
     ]
    }
   ],
   "source": [
    "save_dir = \"example_data/kinetic_potential_matricies\"\n",
    "\n",
    "for state in range(3, 15, 2):\n",
    "\n",
    "    Kinetic_sparse, Potential_sparse = build_V_in_p(state, tau) # the fast version give a result in sparse which needs to ve converted to dense matricies\n",
    "\n",
    "    # Example of how to convert to dense.\n",
    "\n",
    "    Kinetic_dense = Kinetic_sparse.toarray()\n",
    "    Potential_dense = Potential_sparse.toarray()\n",
    "\n",
    "    save_path = os.path.join(save_dir, f\"kin_pot_state_{state}.npz\")\n",
    "\n",
    "    data = np.load(save_path)\n",
    "\n",
    "    print(np.array_equal(Kinetic_dense, data[\"K\"]))\n",
    "    print(np.array_equal(Potential_dense, data[\"V\"]))"
   ]
  },
  {
   "cell_type": "markdown",
   "id": "b781d876",
   "metadata": {},
   "source": [
    "## Producing hamiltonians."
   ]
  },
  {
   "cell_type": "code",
   "execution_count": 4,
   "id": "f92a6765",
   "metadata": {},
   "outputs": [],
   "source": [
    "site = 5\n",
    "state = 3\n",
    "g = 0.1"
   ]
  },
  {
   "cell_type": "markdown",
   "id": "4134296a",
   "metadata": {},
   "source": [
    "Exact Diognalisation hamiltonian."
   ]
  },
  {
   "cell_type": "code",
   "execution_count": 5,
   "id": "41d1ccfd",
   "metadata": {},
   "outputs": [],
   "source": [
    "Hamiltonian, K, V = hamiltonian_dense(state, site, g)\n",
    "\n",
    "H = Hamiltonian\n",
    "\n",
    "eig_val_ED, eig_vec_ED = np.linalg.eigh(H) # produces the solutions to the hamiltonian with energys and associated wavefunctions."
   ]
  },
  {
   "cell_type": "markdown",
   "id": "f503c9fc",
   "metadata": {},
   "source": [
    "Natural Orbitals hamiltonian."
   ]
  },
  {
   "cell_type": "code",
   "execution_count": 6,
   "id": "ed4720eb",
   "metadata": {},
   "outputs": [],
   "source": [
    "H, K, V = hamiltonian_general_dense(state, site, g)\n",
    "\n",
    "eig_val_NO, eig_vec_NO = np.linalg.eigh(H) # produces the solutions to the hamiltonian with energys and associated wavefunctions."
   ]
  }
 ],
 "metadata": {
  "kernelspec": {
   "display_name": ".venv",
   "language": "python",
   "name": "python3"
  },
  "language_info": {
   "codemirror_mode": {
    "name": "ipython",
    "version": 3
   },
   "file_extension": ".py",
   "mimetype": "text/x-python",
   "name": "python",
   "nbconvert_exporter": "python",
   "pygments_lexer": "ipython3",
   "version": "3.13.4"
  }
 },
 "nbformat": 4,
 "nbformat_minor": 5
}
