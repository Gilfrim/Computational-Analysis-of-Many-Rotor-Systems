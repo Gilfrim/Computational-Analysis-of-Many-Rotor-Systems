{
 "cells": [
  {
   "cell_type": "code",
   "execution_count": 1,
   "id": "a1361926",
   "metadata": {},
   "outputs": [],
   "source": [
    "import numpy as np\n",
    "import sys\n",
    "import os\n",
    "\n",
    "np.set_printoptions(threshold=np.inf, linewidth=np.inf)\n",
    "\n",
    "# Absolute path to the folder that contains \"quant_rotor\"\n",
    "sys.path.append(\"/Users/gilfrim/Desktop/Projects/Computational_Analysis_of_Many_Rotor_Systems\")\n",
    "\n",
    "# Set print output parameters\n",
    "np.set_printoptions(suppress = True, linewidth = np.inf, threshold = np.inf, precision = 12)\n",
    "\n",
    "\n",
    "#working with kietic and potential operators\n",
    "\n",
    "# Dense (Slow)\n",
    "from quant_rotor.models.dense.support_ham import write_matrix_elements, basis_m_to_p_matrix_conversion\n",
    "\n",
    "# Sparse (Fast)\n",
    "from quant_rotor.models.sparse.support_ham import build_V_in_p\n",
    "\n",
    "# Density Matrices\n",
    "\n",
    "from quant_rotor.models.dense.density_matrix import density_matrix_1, density_matrix_2, dencity_energy\n",
    "\n",
    "# ED hamiltonian implementation.\n",
    "\n",
    "# Dense (Slow)\n",
    "from quant_rotor.core.dense.hamiltonian import hamiltonian_dense\n",
    "from quant_rotor.core.dense.hamiltonian_big import hamiltonian_general_dense\n",
    "\n",
    "# Sparse (Fast)\n",
    "from quant_rotor.core.sparse.hamiltonian import hamiltonian_sparse\n",
    "from quant_rotor.core.sparse.hamiltonian_big import hamiltonian_general_sparse\n",
    "\n",
    "\n",
    "# Iterative CCC calculation\n",
    "\n",
    "# Dense (Slow)\n",
    "from quant_rotor.core.dense.t_amplitudes_guess import amplitute_energy, t_1_amplitude_guess_ground_state, t_2_amplitude_guess_ground_state, intermediate_normalisation\n",
    "from quant_rotor.core.dense.t_amplitudes_periodic import t_periodic as t_periodic_dense\n",
    "from quant_rotor.core.dense.t_amplitudes_non_periodic import t_non_periodic as t_non_periodic_dense\n",
    "\n",
    "# Sparse (Fast)\n",
    "from quant_rotor.core.dense.t_amplitudes_periodic_fast import t_periodic as t_periodic_sparse # for bigger systems (much harder to modify)\n",
    "\n",
    "\n",
    "#Time dependant methods\n",
    "\n",
    "# Dense (Slow)\n",
    "from quant_rotor.core.dense.de_solve_one_thermal import integration_scheme\n",
    "\n",
    "# Sparse (Fast)\n",
    "from quant_rotor.core.dense.de_solve_one_thermal_dense import integration_scheme as integration_scheme_fast # for bigger systems (much harder to modify)"
   ]
  },
  {
   "cell_type": "markdown",
   "id": "5b05e999",
   "metadata": {},
   "source": [
    "**!!!Before you start make sure to change the path in the first cell line 8 to the one from your computer!!!**"
   ]
  },
  {
   "cell_type": "markdown",
   "id": "ce668ee1",
   "metadata": {},
   "source": [
    "# Producing hamiltonian operators."
   ]
  },
  {
   "cell_type": "markdown",
   "id": "67e6367e",
   "metadata": {},
   "source": [
    "## Producing Kinetic and Potential operators."
   ]
  },
  {
   "cell_type": "code",
   "execution_count": 2,
   "id": "ac5ca482",
   "metadata": {},
   "outputs": [],
   "source": [
    "state = 3\n",
    "g = 0.1\n",
    "tau = 0"
   ]
  },
  {
   "cell_type": "markdown",
   "id": "b9a69890",
   "metadata": {},
   "source": [
    "Example of the call to produce kinetic and potential matricies."
   ]
  },
  {
   "cell_type": "code",
   "execution_count": 3,
   "id": "4b763fa0",
   "metadata": {},
   "outputs": [],
   "source": [
    "# Recomended to produce small matrix which can be printed and see how it changes. For example 3 state system\n",
    "\n",
    "Kinetic, Potential = write_matrix_elements((state-1)//2, tau) # takes input of the number of unique states see doc-string and annotation for more information\n",
    "\n",
    "K, V = Kinetic, Potential\n",
    "\n",
    "V_tensor = V.reshape(state, state, state, state)  # Adjust if needed\n",
    "\n",
    "h_full = basis_m_to_p_matrix_conversion(K, state)\n",
    "v_full = basis_m_to_p_matrix_conversion(V_tensor, state)"
   ]
  },
  {
   "cell_type": "code",
   "execution_count": 4,
   "id": "2cfb28a4",
   "metadata": {},
   "outputs": [
    {
     "data": {
      "text/plain": [
       "array([[0.+0.j, 0.+0.j, 0.+0.j],\n",
       "       [0.+0.j, 1.+0.j, 0.+0.j],\n",
       "       [0.+0.j, 0.+0.j, 1.+0.j]])"
      ]
     },
     "execution_count": 4,
     "metadata": {},
     "output_type": "execute_result"
    }
   ],
   "source": [
    "h_full"
   ]
  },
  {
   "cell_type": "code",
   "execution_count": 5,
   "id": "b75d2332",
   "metadata": {},
   "outputs": [
    {
     "data": {
      "text/plain": [
       "array([[ 0.  +0.j,  0.  +0.j,  0.  +0.j,  0.  +0.j,  0.75+0.j, -0.25+0.j,  0.  +0.j, -0.25+0.j,  0.75+0.j],\n",
       "       [ 0.  +0.j,  0.  +0.j,  0.  +0.j, -0.25+0.j,  0.  +0.j,  0.  +0.j,  0.75+0.j,  0.  +0.j,  0.  +0.j],\n",
       "       [ 0.  +0.j,  0.  +0.j,  0.  +0.j,  0.75+0.j,  0.  +0.j,  0.  +0.j, -0.25+0.j,  0.  +0.j,  0.  +0.j],\n",
       "       [ 0.  +0.j, -0.25+0.j,  0.75+0.j,  0.  +0.j,  0.  +0.j,  0.  +0.j,  0.  +0.j,  0.  +0.j,  0.  +0.j],\n",
       "       [ 0.75+0.j,  0.  +0.j,  0.  +0.j,  0.  +0.j,  0.  +0.j,  0.  +0.j,  0.  +0.j,  0.  +0.j,  0.  +0.j],\n",
       "       [-0.25+0.j,  0.  +0.j,  0.  +0.j,  0.  +0.j,  0.  +0.j,  0.  +0.j,  0.  +0.j,  0.  +0.j,  0.  +0.j],\n",
       "       [ 0.  +0.j,  0.75+0.j, -0.25+0.j,  0.  +0.j,  0.  +0.j,  0.  +0.j,  0.  +0.j,  0.  +0.j,  0.  +0.j],\n",
       "       [-0.25+0.j,  0.  +0.j,  0.  +0.j,  0.  +0.j,  0.  +0.j,  0.  +0.j,  0.  +0.j,  0.  +0.j,  0.  +0.j],\n",
       "       [ 0.75+0.j,  0.  +0.j,  0.  +0.j,  0.  +0.j,  0.  +0.j,  0.  +0.j,  0.  +0.j,  0.  +0.j,  0.  +0.j]])"
      ]
     },
     "execution_count": 5,
     "metadata": {},
     "output_type": "execute_result"
    }
   ],
   "source": [
    "v_full.reshape(state**2, state**2)"
   ]
  },
  {
   "cell_type": "code",
   "execution_count": 6,
   "id": "ac29b07b",
   "metadata": {},
   "outputs": [
    {
     "name": "stderr",
     "output_type": "stream",
     "text": [
      "/Users/gilfrim/Desktop/Projects/Computational_Analysis_of_Many_Rotor_Systems/.venv/lib/python3.13/site-packages/scipy/sparse/_sputils.py:147: ComplexWarning: Casting complex values to real discards the imaginary part\n",
      "  data = np.array(obj, dtype=dtype, copy=copy)\n"
     ]
    }
   ],
   "source": [
    "Kinetic_sparse, Potential_sparse = build_V_in_p(state, tau) # the fast version give a result in sparse which needs to ve converted to dense matricies\n",
    "\n",
    "# Example of how to convert to dense.\n",
    "\n",
    "Kinetic_dense = Kinetic_sparse.toarray()\n",
    "Potential_dense = Potential_sparse.toarray()"
   ]
  },
  {
   "cell_type": "code",
   "execution_count": 7,
   "id": "674bee83",
   "metadata": {},
   "outputs": [
    {
     "data": {
      "text/plain": [
       "array([[0., 0., 0.],\n",
       "       [0., 1., 0.],\n",
       "       [0., 0., 1.]])"
      ]
     },
     "execution_count": 7,
     "metadata": {},
     "output_type": "execute_result"
    }
   ],
   "source": [
    "Kinetic_dense"
   ]
  },
  {
   "cell_type": "code",
   "execution_count": 8,
   "id": "bb9f7dcd",
   "metadata": {},
   "outputs": [
    {
     "data": {
      "text/plain": [
       "array([[ 0.  ,  0.  ,  0.  ,  0.  ,  0.75, -0.25,  0.  , -0.25,  0.75],\n",
       "       [ 0.  ,  0.  ,  0.  , -0.25,  0.  ,  0.  ,  0.75,  0.  ,  0.  ],\n",
       "       [ 0.  ,  0.  ,  0.  ,  0.75,  0.  ,  0.  , -0.25,  0.  ,  0.  ],\n",
       "       [ 0.  , -0.25,  0.75,  0.  ,  0.  ,  0.  ,  0.  ,  0.  ,  0.  ],\n",
       "       [ 0.75,  0.  ,  0.  ,  0.  ,  0.  ,  0.  ,  0.  ,  0.  ,  0.  ],\n",
       "       [-0.25,  0.  ,  0.  ,  0.  ,  0.  ,  0.  ,  0.  ,  0.  ,  0.  ],\n",
       "       [ 0.  ,  0.75, -0.25,  0.  ,  0.  ,  0.  ,  0.  ,  0.  ,  0.  ],\n",
       "       [-0.25,  0.  ,  0.  ,  0.  ,  0.  ,  0.  ,  0.  ,  0.  ,  0.  ],\n",
       "       [ 0.75,  0.  ,  0.  ,  0.  ,  0.  ,  0.  ,  0.  ,  0.  ,  0.  ]])"
      ]
     },
     "execution_count": 8,
     "metadata": {},
     "output_type": "execute_result"
    }
   ],
   "source": [
    "Potential_dense"
   ]
  },
  {
   "cell_type": "markdown",
   "id": "74b3bd31",
   "metadata": {},
   "source": [
    "Check the output."
   ]
  },
  {
   "cell_type": "code",
   "execution_count": 9,
   "id": "4404c8d6",
   "metadata": {},
   "outputs": [
    {
     "name": "stdout",
     "output_type": "stream",
     "text": [
      "True\n",
      "True 1e-30\n"
     ]
    }
   ],
   "source": [
    "print(np.array_equal(h_full, Kinetic_dense))\n",
    "print(np.allclose(v_full.reshape(state**2, state**2), Potential_dense), 1e-30)"
   ]
  },
  {
   "cell_type": "markdown",
   "id": "ef3944fd",
   "metadata": {},
   "source": [
    "Produce several matricies for tests."
   ]
  },
  {
   "cell_type": "code",
   "execution_count": 10,
   "id": "902c0d46",
   "metadata": {},
   "outputs": [],
   "source": [
    "save_dir = \"example_data/kinetic_potential_matricies/ED\"\n",
    "\n",
    "for state in range(3, 15, 2):\n",
    "\n",
    "    Kinetic_sparse, Potential_sparse = build_V_in_p(state, tau) # the fast version give a result in sparse which needs to ve converted to dense matricies\n",
    "\n",
    "    # Example of how to convert to dense.\n",
    "\n",
    "    Kinetic_dense = Kinetic_sparse.toarray()\n",
    "    Potential_dense = Potential_sparse.toarray()\n",
    "\n",
    "    save_path = os.path.join(save_dir, f\"kin_pot_ED_state_{state}.npz\")\n",
    "    np.savez(save_path, K=Kinetic_dense, V=Potential_dense)"
   ]
  },
  {
   "cell_type": "code",
   "execution_count": 11,
   "id": "3b342e45",
   "metadata": {},
   "outputs": [
    {
     "name": "stdout",
     "output_type": "stream",
     "text": [
      "True\n",
      "True\n",
      "True\n",
      "True\n",
      "True\n",
      "True\n",
      "True\n",
      "True\n",
      "True\n",
      "True\n",
      "True\n",
      "True\n"
     ]
    }
   ],
   "source": [
    "save_dir = \"example_data/kinetic_potential_matricies/ED\"\n",
    "\n",
    "for state in range(3, 15, 2):\n",
    "\n",
    "    Kinetic_sparse, Potential_sparse = build_V_in_p(state, tau) # the fast version give a result in sparse which needs to ve converted to dense matricies\n",
    "\n",
    "    # Example of how to convert to dense.\n",
    "\n",
    "    Kinetic_dense = Kinetic_sparse.toarray()\n",
    "    Potential_dense = Potential_sparse.toarray()\n",
    "\n",
    "    save_path = os.path.join(save_dir, f\"kin_pot_ED_state_{state}.npz\")\n",
    "\n",
    "    data = np.load(save_path)\n",
    "\n",
    "    print(np.array_equal(Kinetic_dense, data[\"K\"]))\n",
    "    print(np.array_equal(Potential_dense, data[\"V\"]))"
   ]
  },
  {
   "cell_type": "markdown",
   "id": "b781d876",
   "metadata": {},
   "source": [
    "## Producing Exact Diagonalization hamiltonians."
   ]
  },
  {
   "cell_type": "code",
   "execution_count": 6,
   "id": "f92a6765",
   "metadata": {},
   "outputs": [],
   "source": [
    "site = 3\n",
    "state = 5\n",
    "g = 1"
   ]
  },
  {
   "cell_type": "markdown",
   "id": "4134296a",
   "metadata": {},
   "source": [
    "Exact Diagonalization hamiltonian dense (slow)."
   ]
  },
  {
   "cell_type": "code",
   "execution_count": 13,
   "id": "41d1ccfd",
   "metadata": {},
   "outputs": [],
   "source": [
    "H_ED_d, K_ED_d, V_ED_d = hamiltonian_dense(state, site, g, np.pi / 2)\n",
    "\n",
    "eig_val_ED_d, eig_vec_ED_d = np.linalg.eigh(H_ED_d) # produces the solutions to the hamiltonian with energys and associated wavefunctions."
   ]
  },
  {
   "cell_type": "code",
   "execution_count": 14,
   "id": "d1718fb4",
   "metadata": {},
   "outputs": [
    {
     "data": {
      "text/plain": [
       "array([[0. , 0. , 0. , 0. , 0. , 0. , 0. , 0.5, 0. , 0. , 0. , 0.5, 0. , 0. , 0. , 0. , 0. , 0. , 0. , 0. , 0. , 0. , 0. , 0. , 0. ],\n",
       "       [0. , 0. , 0. , 0. , 0. , 0.5, 0. , 0. , 0. , 0. , 0. , 0. , 0. , 0.5, 0. , 0. , 0. , 0. , 0. , 0. , 0. , 0. , 0. , 0. , 0. ],\n",
       "       [0. , 0. , 0. , 0. , 0. , 0. , 0. , 0. , 0. , 0.5, 0.5, 0. , 0. , 0. , 0. , 0. , 0. , 0. , 0. , 0. , 0. , 0. , 0. , 0. , 0. ],\n",
       "       [0. , 0. , 0. , 0. , 0. , 0. , 0.5, 0. , 0. , 0. , 0. , 0. , 0. , 0. , 0. , 0. , 0. , 0. , 0. , 0. , 0. , 0. , 0. , 0. , 0. ],\n",
       "       [0. , 0. , 0. , 0. , 0. , 0. , 0. , 0. , 0. , 0. , 0. , 0. , 0.5, 0. , 0. , 0. , 0. , 0. , 0. , 0. , 0. , 0. , 0. , 0. , 0. ],\n",
       "       [0. , 0.5, 0. , 0. , 0. , 0. , 0. , 0. , 0. , 0. , 0. , 0. , 0. , 0. , 0. , 0. , 0. , 0.5, 0. , 0. , 0. , 0. , 0. , 0. , 0. ],\n",
       "       [0. , 0. , 0. , 0.5, 0. , 0. , 0. , 0. , 0. , 0. , 0. , 0. , 0. , 0. , 0. , 0.5, 0. , 0. , 0. , 0. , 0. , 0. , 0. , 0. , 0. ],\n",
       "       [0.5, 0. , 0. , 0. , 0. , 0. , 0. , 0. , 0. , 0. , 0. , 0. , 0. , 0. , 0. , 0. , 0. , 0. , 0. , 0.5, 0. , 0. , 0. , 0. , 0. ],\n",
       "       [0. , 0. , 0. , 0. , 0. , 0. , 0. , 0. , 0. , 0. , 0. , 0. , 0. , 0. , 0. , 0. , 0.5, 0. , 0. , 0. , 0. , 0. , 0. , 0. , 0. ],\n",
       "       [0. , 0. , 0.5, 0. , 0. , 0. , 0. , 0. , 0. , 0. , 0. , 0. , 0. , 0. , 0. , 0. , 0. , 0. , 0. , 0. , 0. , 0. , 0. , 0. , 0. ],\n",
       "       [0. , 0. , 0.5, 0. , 0. , 0. , 0. , 0. , 0. , 0. , 0. , 0. , 0. , 0. , 0. , 0. , 0. , 0. , 0. , 0. , 0. , 0.5, 0. , 0. , 0. ],\n",
       "       [0.5, 0. , 0. , 0. , 0. , 0. , 0. , 0. , 0. , 0. , 0. , 0. , 0. , 0. , 0. , 0. , 0. , 0. , 0. , 0. , 0. , 0. , 0. , 0.5, 0. ],\n",
       "       [0. , 0. , 0. , 0. , 0.5, 0. , 0. , 0. , 0. , 0. , 0. , 0. , 0. , 0. , 0. , 0. , 0. , 0. , 0. , 0. , 0.5, 0. , 0. , 0. , 0. ],\n",
       "       [0. , 0.5, 0. , 0. , 0. , 0. , 0. , 0. , 0. , 0. , 0. , 0. , 0. , 0. , 0. , 0. , 0. , 0. , 0. , 0. , 0. , 0. , 0. , 0. , 0. ],\n",
       "       [0. , 0. , 0. , 0. , 0. , 0. , 0. , 0. , 0. , 0. , 0. , 0. , 0. , 0. , 0. , 0. , 0. , 0. , 0. , 0. , 0. , 0. , 0.5, 0. , 0. ],\n",
       "       [0. , 0. , 0. , 0. , 0. , 0. , 0.5, 0. , 0. , 0. , 0. , 0. , 0. , 0. , 0. , 0. , 0. , 0. , 0. , 0. , 0. , 0. , 0. , 0. , 0. ],\n",
       "       [0. , 0. , 0. , 0. , 0. , 0. , 0. , 0. , 0.5, 0. , 0. , 0. , 0. , 0. , 0. , 0. , 0. , 0. , 0. , 0. , 0. , 0. , 0. , 0. , 0. ],\n",
       "       [0. , 0. , 0. , 0. , 0. , 0.5, 0. , 0. , 0. , 0. , 0. , 0. , 0. , 0. , 0. , 0. , 0. , 0. , 0. , 0. , 0. , 0. , 0. , 0. , 0. ],\n",
       "       [0. , 0. , 0. , 0. , 0. , 0. , 0. , 0. , 0. , 0. , 0. , 0. , 0. , 0. , 0. , 0. , 0. , 0. , 0. , 0. , 0. , 0. , 0. , 0. , 0. ],\n",
       "       [0. , 0. , 0. , 0. , 0. , 0. , 0. , 0.5, 0. , 0. , 0. , 0. , 0. , 0. , 0. , 0. , 0. , 0. , 0. , 0. , 0. , 0. , 0. , 0. , 0. ],\n",
       "       [0. , 0. , 0. , 0. , 0. , 0. , 0. , 0. , 0. , 0. , 0. , 0. , 0.5, 0. , 0. , 0. , 0. , 0. , 0. , 0. , 0. , 0. , 0. , 0. , 0. ],\n",
       "       [0. , 0. , 0. , 0. , 0. , 0. , 0. , 0. , 0. , 0. , 0.5, 0. , 0. , 0. , 0. , 0. , 0. , 0. , 0. , 0. , 0. , 0. , 0. , 0. , 0. ],\n",
       "       [0. , 0. , 0. , 0. , 0. , 0. , 0. , 0. , 0. , 0. , 0. , 0. , 0. , 0. , 0.5, 0. , 0. , 0. , 0. , 0. , 0. , 0. , 0. , 0. , 0. ],\n",
       "       [0. , 0. , 0. , 0. , 0. , 0. , 0. , 0. , 0. , 0. , 0. , 0.5, 0. , 0. , 0. , 0. , 0. , 0. , 0. , 0. , 0. , 0. , 0. , 0. , 0. ],\n",
       "       [0. , 0. , 0. , 0. , 0. , 0. , 0. , 0. , 0. , 0. , 0. , 0. , 0. , 0. , 0. , 0. , 0. , 0. , 0. , 0. , 0. , 0. , 0. , 0. , 0. ]])"
      ]
     },
     "execution_count": 14,
     "metadata": {},
     "output_type": "execute_result"
    }
   ],
   "source": [
    "V_ED_d.real"
   ]
  },
  {
   "cell_type": "markdown",
   "id": "97241017",
   "metadata": {},
   "source": [
    "Exact Diagonalization hamiltonian sparse (fast)."
   ]
  },
  {
   "cell_type": "code",
   "execution_count": 12,
   "id": "518dd35d",
   "metadata": {},
   "outputs": [],
   "source": [
    "H_ED_s, K_ED_s, V_ED_s = hamiltonian_sparse(state, site, g)\n",
    "\n",
    "H_ED_s = H_ED_s.toarray()\n",
    "K_ED_s = K_ED_s.toarray()\n",
    "V_ED_s = (V_ED_s.toarray())\n",
    "\n",
    "eig_val_ED_s, eig_vec_ED_s = np.linalg.eigh(H_ED_s) # produces the solutions to the hamiltonian with energys and associated wavefunctions."
   ]
  },
  {
   "cell_type": "code",
   "execution_count": 10,
   "id": "280fe42e",
   "metadata": {},
   "outputs": [
    {
     "data": {
      "text/plain": [
       "array([[ 0.  ,  0.  ,  0.  ,  0.  ,  0.  ,  0.  ,  0.75, -0.25,  0.  ,  0.  ,  0.  , -0.25,  0.75,  0.  ,  0.  ,  0.  ,  0.  ,  0.  ,  0.  ,  0.  ,  0.  ,  0.  ,  0.  ,  0.  ,  0.  ],\n",
       "       [ 0.  ,  0.  ,  0.  ,  0.  ,  0.  , -0.25,  0.  ,  0.  ,  0.75,  0.  ,  0.75,  0.  ,  0.  , -0.25,  0.  ,  0.  ,  0.  ,  0.  ,  0.  ,  0.  ,  0.  ,  0.  ,  0.  ,  0.  ,  0.  ],\n",
       "       [ 0.  ,  0.  ,  0.  ,  0.  ,  0.  ,  0.75,  0.  ,  0.  ,  0.  , -0.25, -0.25,  0.  ,  0.  ,  0.  ,  0.75,  0.  ,  0.  ,  0.  ,  0.  ,  0.  ,  0.  ,  0.  ,  0.  ,  0.  ,  0.  ],\n",
       "       [ 0.  ,  0.  ,  0.  ,  0.  ,  0.  ,  0.  , -0.25,  0.  ,  0.  ,  0.  ,  0.  ,  0.75,  0.  ,  0.  ,  0.  ,  0.  ,  0.  ,  0.  ,  0.  ,  0.  ,  0.  ,  0.  ,  0.  ,  0.  ,  0.  ],\n",
       "       [ 0.  ,  0.  ,  0.  ,  0.  ,  0.  ,  0.  ,  0.  ,  0.75,  0.  ,  0.  ,  0.  ,  0.  , -0.25,  0.  ,  0.  ,  0.  ,  0.  ,  0.  ,  0.  ,  0.  ,  0.  ,  0.  ,  0.  ,  0.  ,  0.  ],\n",
       "       [ 0.  , -0.25,  0.75,  0.  ,  0.  ,  0.  ,  0.  ,  0.  ,  0.  ,  0.  ,  0.  ,  0.  ,  0.  ,  0.  ,  0.  ,  0.  ,  0.75, -0.25,  0.  ,  0.  ,  0.  ,  0.  ,  0.  ,  0.  ,  0.  ],\n",
       "       [ 0.75,  0.  ,  0.  , -0.25,  0.  ,  0.  ,  0.  ,  0.  ,  0.  ,  0.  ,  0.  ,  0.  ,  0.  ,  0.  ,  0.  , -0.25,  0.  ,  0.  ,  0.75,  0.  ,  0.  ,  0.  ,  0.  ,  0.  ,  0.  ],\n",
       "       [-0.25,  0.  ,  0.  ,  0.  ,  0.75,  0.  ,  0.  ,  0.  ,  0.  ,  0.  ,  0.  ,  0.  ,  0.  ,  0.  ,  0.  ,  0.75,  0.  ,  0.  ,  0.  , -0.25,  0.  ,  0.  ,  0.  ,  0.  ,  0.  ],\n",
       "       [ 0.  ,  0.75,  0.  ,  0.  ,  0.  ,  0.  ,  0.  ,  0.  ,  0.  ,  0.  ,  0.  ,  0.  ,  0.  ,  0.  ,  0.  ,  0.  , -0.25,  0.  ,  0.  ,  0.  ,  0.  ,  0.  ,  0.  ,  0.  ,  0.  ],\n",
       "       [ 0.  ,  0.  , -0.25,  0.  ,  0.  ,  0.  ,  0.  ,  0.  ,  0.  ,  0.  ,  0.  ,  0.  ,  0.  ,  0.  ,  0.  ,  0.  ,  0.  ,  0.75,  0.  ,  0.  ,  0.  ,  0.  ,  0.  ,  0.  ,  0.  ],\n",
       "       [ 0.  ,  0.75, -0.25,  0.  ,  0.  ,  0.  ,  0.  ,  0.  ,  0.  ,  0.  ,  0.  ,  0.  ,  0.  ,  0.  ,  0.  ,  0.  ,  0.  ,  0.  ,  0.  ,  0.  ,  0.  , -0.25,  0.75,  0.  ,  0.  ],\n",
       "       [-0.25,  0.  ,  0.  ,  0.75,  0.  ,  0.  ,  0.  ,  0.  ,  0.  ,  0.  ,  0.  ,  0.  ,  0.  ,  0.  ,  0.  ,  0.  ,  0.  ,  0.  ,  0.  ,  0.  ,  0.75,  0.  ,  0.  , -0.25,  0.  ],\n",
       "       [ 0.75,  0.  ,  0.  ,  0.  , -0.25,  0.  ,  0.  ,  0.  ,  0.  ,  0.  ,  0.  ,  0.  ,  0.  ,  0.  ,  0.  ,  0.  ,  0.  ,  0.  ,  0.  ,  0.  , -0.25,  0.  ,  0.  ,  0.  ,  0.75],\n",
       "       [ 0.  , -0.25,  0.  ,  0.  ,  0.  ,  0.  ,  0.  ,  0.  ,  0.  ,  0.  ,  0.  ,  0.  ,  0.  ,  0.  ,  0.  ,  0.  ,  0.  ,  0.  ,  0.  ,  0.  ,  0.  ,  0.75,  0.  ,  0.  ,  0.  ],\n",
       "       [ 0.  ,  0.  ,  0.75,  0.  ,  0.  ,  0.  ,  0.  ,  0.  ,  0.  ,  0.  ,  0.  ,  0.  ,  0.  ,  0.  ,  0.  ,  0.  ,  0.  ,  0.  ,  0.  ,  0.  ,  0.  ,  0.  , -0.25,  0.  ,  0.  ],\n",
       "       [ 0.  ,  0.  ,  0.  ,  0.  ,  0.  ,  0.  , -0.25,  0.75,  0.  ,  0.  ,  0.  ,  0.  ,  0.  ,  0.  ,  0.  ,  0.  ,  0.  ,  0.  ,  0.  ,  0.  ,  0.  ,  0.  ,  0.  ,  0.  ,  0.  ],\n",
       "       [ 0.  ,  0.  ,  0.  ,  0.  ,  0.  ,  0.75,  0.  ,  0.  , -0.25,  0.  ,  0.  ,  0.  ,  0.  ,  0.  ,  0.  ,  0.  ,  0.  ,  0.  ,  0.  ,  0.  ,  0.  ,  0.  ,  0.  ,  0.  ,  0.  ],\n",
       "       [ 0.  ,  0.  ,  0.  ,  0.  ,  0.  , -0.25,  0.  ,  0.  ,  0.  ,  0.75,  0.  ,  0.  ,  0.  ,  0.  ,  0.  ,  0.  ,  0.  ,  0.  ,  0.  ,  0.  ,  0.  ,  0.  ,  0.  ,  0.  ,  0.  ],\n",
       "       [ 0.  ,  0.  ,  0.  ,  0.  ,  0.  ,  0.  ,  0.75,  0.  ,  0.  ,  0.  ,  0.  ,  0.  ,  0.  ,  0.  ,  0.  ,  0.  ,  0.  ,  0.  ,  0.  ,  0.  ,  0.  ,  0.  ,  0.  ,  0.  ,  0.  ],\n",
       "       [ 0.  ,  0.  ,  0.  ,  0.  ,  0.  ,  0.  ,  0.  , -0.25,  0.  ,  0.  ,  0.  ,  0.  ,  0.  ,  0.  ,  0.  ,  0.  ,  0.  ,  0.  ,  0.  ,  0.  ,  0.  ,  0.  ,  0.  ,  0.  ,  0.  ],\n",
       "       [ 0.  ,  0.  ,  0.  ,  0.  ,  0.  ,  0.  ,  0.  ,  0.  ,  0.  ,  0.  ,  0.  ,  0.75, -0.25,  0.  ,  0.  ,  0.  ,  0.  ,  0.  ,  0.  ,  0.  ,  0.  ,  0.  ,  0.  ,  0.  ,  0.  ],\n",
       "       [ 0.  ,  0.  ,  0.  ,  0.  ,  0.  ,  0.  ,  0.  ,  0.  ,  0.  ,  0.  , -0.25,  0.  ,  0.  ,  0.75,  0.  ,  0.  ,  0.  ,  0.  ,  0.  ,  0.  ,  0.  ,  0.  ,  0.  ,  0.  ,  0.  ],\n",
       "       [ 0.  ,  0.  ,  0.  ,  0.  ,  0.  ,  0.  ,  0.  ,  0.  ,  0.  ,  0.  ,  0.75,  0.  ,  0.  ,  0.  , -0.25,  0.  ,  0.  ,  0.  ,  0.  ,  0.  ,  0.  ,  0.  ,  0.  ,  0.  ,  0.  ],\n",
       "       [ 0.  ,  0.  ,  0.  ,  0.  ,  0.  ,  0.  ,  0.  ,  0.  ,  0.  ,  0.  ,  0.  , -0.25,  0.  ,  0.  ,  0.  ,  0.  ,  0.  ,  0.  ,  0.  ,  0.  ,  0.  ,  0.  ,  0.  ,  0.  ,  0.  ],\n",
       "       [ 0.  ,  0.  ,  0.  ,  0.  ,  0.  ,  0.  ,  0.  ,  0.  ,  0.  ,  0.  ,  0.  ,  0.  ,  0.75,  0.  ,  0.  ,  0.  ,  0.  ,  0.  ,  0.  ,  0.  ,  0.  ,  0.  ,  0.  ,  0.  ,  0.  ]])"
      ]
     },
     "execution_count": 10,
     "metadata": {},
     "output_type": "execute_result"
    }
   ],
   "source": [
    "V_ED_s"
   ]
  },
  {
   "cell_type": "code",
   "execution_count": null,
   "id": "526b1df8",
   "metadata": {},
   "outputs": [],
   "source": [
    "psi_twist"
   ]
  },
  {
   "cell_type": "markdown",
   "id": "e64a9e3e",
   "metadata": {},
   "source": [
    "Check agains each other. (Should match)"
   ]
  },
  {
   "cell_type": "code",
   "execution_count": 11,
   "id": "2dffb805",
   "metadata": {},
   "outputs": [
    {
     "name": "stdout",
     "output_type": "stream",
     "text": [
      "H_ED: False\n",
      "K_ED: True\n",
      "V_ED: False\n",
      "eigen values: True\n",
      "eigen vectors: False\n"
     ]
    }
   ],
   "source": [
    "print(\"H_ED:\", np.allclose(H_ED_d, H_ED_s))\n",
    "print(\"K_ED:\", np.allclose(K_ED_d, K_ED_s))\n",
    "print(\"V_ED:\", np.allclose(V_ED_d, V_ED_s))\n",
    "print(\"eigen values:\", np.allclose(eig_val_ED_d, eig_val_ED_s))\n",
    "print(\"eigen vectors:\", np.allclose(eig_vec_ED_d, eig_vec_ED_s))"
   ]
  },
  {
   "cell_type": "markdown",
   "id": "e1f8aa67",
   "metadata": {},
   "source": [
    "## Density matrices"
   ]
  },
  {
   "cell_type": "code",
   "execution_count": 19,
   "id": "e32c439e",
   "metadata": {},
   "outputs": [],
   "source": [
    "site = 3\n",
    "state = 11\n",
    "g = 1"
   ]
  },
  {
   "cell_type": "markdown",
   "id": "32512071",
   "metadata": {},
   "source": [
    "First for the density we extract a ground state vector."
   ]
  },
  {
   "cell_type": "code",
   "execution_count": 20,
   "id": "17592fda",
   "metadata": {},
   "outputs": [
    {
     "ename": "KeyboardInterrupt",
     "evalue": "",
     "output_type": "error",
     "traceback": [
      "\u001b[31m---------------------------------------------------------------------------\u001b[39m",
      "\u001b[31mKeyboardInterrupt\u001b[39m                         Traceback (most recent call last)",
      "\u001b[36mCell\u001b[39m\u001b[36m \u001b[39m\u001b[32mIn[20]\u001b[39m\u001b[32m, line 4\u001b[39m\n\u001b[32m      1\u001b[39m HKV = hamiltonian_dense(state, site, g)\n\u001b[32m      2\u001b[39m H = HKV[\u001b[32m0\u001b[39m]\n\u001b[32m----> \u001b[39m\u001b[32m4\u001b[39m eig_val, eig_vec = \u001b[43mnp\u001b[49m\u001b[43m.\u001b[49m\u001b[43mlinalg\u001b[49m\u001b[43m.\u001b[49m\u001b[43meigh\u001b[49m\u001b[43m(\u001b[49m\u001b[43mH\u001b[49m\u001b[43m)\u001b[49m\n\u001b[32m      6\u001b[39m index = np.argmin(eig_val)\n\u001b[32m      7\u001b[39m ground_state_vec = eig_vec[:, index]\n",
      "\u001b[36mFile \u001b[39m\u001b[32m~/Desktop/Projects/Computational_Analysis_of_Many_Rotor_Systems/.venv/lib/python3.13/site-packages/numpy/linalg/_linalg.py:1627\u001b[39m, in \u001b[36meigh\u001b[39m\u001b[34m(a, UPLO)\u001b[39m\n\u001b[32m   1623\u001b[39m signature = \u001b[33m'\u001b[39m\u001b[33mD->dD\u001b[39m\u001b[33m'\u001b[39m \u001b[38;5;28;01mif\u001b[39;00m isComplexType(t) \u001b[38;5;28;01melse\u001b[39;00m \u001b[33m'\u001b[39m\u001b[33md->dd\u001b[39m\u001b[33m'\u001b[39m\n\u001b[32m   1624\u001b[39m \u001b[38;5;28;01mwith\u001b[39;00m errstate(call=_raise_linalgerror_eigenvalues_nonconvergence,\n\u001b[32m   1625\u001b[39m               invalid=\u001b[33m'\u001b[39m\u001b[33mcall\u001b[39m\u001b[33m'\u001b[39m, over=\u001b[33m'\u001b[39m\u001b[33mignore\u001b[39m\u001b[33m'\u001b[39m, divide=\u001b[33m'\u001b[39m\u001b[33mignore\u001b[39m\u001b[33m'\u001b[39m,\n\u001b[32m   1626\u001b[39m               under=\u001b[33m'\u001b[39m\u001b[33mignore\u001b[39m\u001b[33m'\u001b[39m):\n\u001b[32m-> \u001b[39m\u001b[32m1627\u001b[39m     w, vt = \u001b[43mgufunc\u001b[49m\u001b[43m(\u001b[49m\u001b[43ma\u001b[49m\u001b[43m,\u001b[49m\u001b[43m \u001b[49m\u001b[43msignature\u001b[49m\u001b[43m=\u001b[49m\u001b[43msignature\u001b[49m\u001b[43m)\u001b[49m\n\u001b[32m   1628\u001b[39m w = w.astype(_realType(result_t), copy=\u001b[38;5;28;01mFalse\u001b[39;00m)\n\u001b[32m   1629\u001b[39m vt = vt.astype(result_t, copy=\u001b[38;5;28;01mFalse\u001b[39;00m)\n",
      "\u001b[31mKeyboardInterrupt\u001b[39m: "
     ]
    }
   ],
   "source": [
    "HKV = hamiltonian_dense(state, site, g)\n",
    "H = HKV[0]\n",
    "\n",
    "eig_val, eig_vec = np.linalg.eigh(H)\n",
    "\n",
    "index = np.argmin(eig_val)\n",
    "ground_state_vec = eig_vec[:, index]"
   ]
  },
  {
   "cell_type": "markdown",
   "id": "3a92f476",
   "metadata": {},
   "source": [
    "Then we calculate densities for one site and two site interactions."
   ]
  },
  {
   "cell_type": "code",
   "execution_count": null,
   "id": "a478db3d",
   "metadata": {},
   "outputs": [],
   "source": [
    "D_1 = density_matrix_1(state, site, ground_state_vec, 0)\n",
    "D_2 = density_matrix_2(state, site, ground_state_vec, 0, 1)\n",
    "\n",
    "eig_val_D_1, eig_vec_D_1 = np.linalg.eigh(D_1)\n",
    "eig_val_D_2, eig_vec_D_2 = np.linalg.eigh(D_2.reshape(state**2, state**2))"
   ]
  },
  {
   "cell_type": "markdown",
   "id": "5f8da0b9",
   "metadata": {},
   "source": [
    "Two easy checks we can do to make sure the density matrices are correct are to sup up the eigenstates; they should roughly add up to one."
   ]
  },
  {
   "cell_type": "code",
   "execution_count": null,
   "id": "12b7cf0f",
   "metadata": {},
   "outputs": [
    {
     "name": "stdout",
     "output_type": "stream",
     "text": [
      "Single density: 1.0000000000000002\n",
      "Double density: 1.0000000000000004\n"
     ]
    }
   ],
   "source": [
    "print(\"Single density:\", np.sum(eig_val_D_1))\n",
    "print(\"Double density:\", np.sum(eig_val_D_2))"
   ]
  },
  {
   "cell_type": "markdown",
   "id": "a08c4d12",
   "metadata": {},
   "source": [
    "The second check we can do is to we expect the two large identical eigenvalues for single and double interaction for the large g.\n",
    "\n",
    "This makes physical sense since with large interaction strength (determined by g) the system roughly acts as polarized magnets aligning in one or the other\n",
    "direction of the polarity. So our quantum system is in the superposition of those two alignments."
   ]
  },
  {
   "cell_type": "code",
   "execution_count": null,
   "id": "7b16f438",
   "metadata": {},
   "outputs": [
    {
     "data": {
      "text/plain": [
       "array([ 0.60219817545 ,  0.388316946381,  0.006905393475,  0.001484486549,  0.001067865619,  0.000020019676,  0.000007011748,  0.000000056077,  0.000000044874,  0.000000000091,  0.00000000006 ,  0.            ,  0.            ,  0.            ,  0.            ,  0.            ,  0.            ,  0.            ,  0.            ,  0.            ,  0.            ,  0.            ,  0.            ,  0.            ,  0.            ,  0.            ,  0.            ,  0.            ,  0.            ,  0.            ,  0.            ,  0.            ,  0.            ,  0.            ,  0.            ,  0.            ,  0.            ,  0.            ,  0.            ,  0.            ,  0.            ,  0.            ,  0.            ,  0.            ,  0.            ,  0.            ,  0.            ,  0.            ,  0.            ,  0.            ,  0.            ,  0.            ,  0.            ,  0.            ,  0.            ,  0.            ,  0.            ,  0.            ,  0.            ,  0.            ,  0.            ,  0.            ,  0.            , -0.            , -0.            , -0.            , -0.            , -0.            , -0.            , -0.            , -0.            , -0.            , -0.            , -0.            , -0.            , -0.            , -0.            , -0.            , -0.            , -0.            , -0.            , -0.            , -0.            , -0.            , -0.            , -0.            , -0.            ,\n",
       "       -0.            , -0.            , -0.            , -0.            , -0.            , -0.            , -0.            , -0.            , -0.            , -0.            , -0.            , -0.            , -0.            , -0.            , -0.            , -0.            , -0.            , -0.            , -0.            , -0.            , -0.            , -0.            , -0.            , -0.            , -0.            , -0.            , -0.            , -0.            , -0.            , -0.            , -0.            , -0.            , -0.            , -0.            ])"
      ]
     },
     "execution_count": 20,
     "metadata": {},
     "output_type": "execute_result"
    }
   ],
   "source": [
    "-np.sort(-eig_val_D_1)\n",
    "-np.sort(-eig_val_D_2)"
   ]
  },
  {
   "cell_type": "markdown",
   "id": "75a539c0",
   "metadata": {},
   "source": [
    "Additional check that can be done as an exercise is to check whether the eigenvectors of D_1 and D_2 (separately) are orthogonal."
   ]
  },
  {
   "cell_type": "code",
   "execution_count": null,
   "id": "d3122d0b",
   "metadata": {},
   "outputs": [],
   "source": []
  },
  {
   "cell_type": "markdown",
   "id": "25b244ca",
   "metadata": {},
   "source": [
    "## Producing Natural Orbitas hamiltonians"
   ]
  },
  {
   "cell_type": "markdown",
   "id": "f503c9fc",
   "metadata": {},
   "source": [
    "Natural Orbitals hamiltonian dense (slow)."
   ]
  },
  {
   "cell_type": "code",
   "execution_count": null,
   "id": "ed4720eb",
   "metadata": {},
   "outputs": [],
   "source": [
    "H_NO_d, K_NO_d, V_NO_d = hamiltonian_general_dense(state, site, g)\n",
    "\n",
    "eig_val_NO_d, eig_vec_NO_d = np.linalg.eigh(H_NO_d) # produces the solutions to the hamiltonian with energys and associated wavefunctions."
   ]
  },
  {
   "cell_type": "markdown",
   "id": "396921dc",
   "metadata": {},
   "source": [
    "A way to check Natural Orbitals approximation with exact Diagonalization is to set the states = 11 and sites = 3.\n",
    "\n",
    "The resulting Hamiltonians from ED and NO should have the same energy states (eigenvalues/eigenstates)."
   ]
  },
  {
   "cell_type": "code",
   "execution_count": null,
   "id": "b7317b62",
   "metadata": {},
   "outputs": [
    {
     "data": {
      "text/plain": [
       "False"
      ]
     },
     "execution_count": 29,
     "metadata": {},
     "output_type": "execute_result"
    }
   ],
   "source": [
    "np.allclose(eig_val_NO_d, eig_val_ED_s, atol=1e-19)"
   ]
  },
  {
   "cell_type": "markdown",
   "id": "b8668cfa",
   "metadata": {},
   "source": [
    "Natural Orbitals hamiltonian sparse (fast)."
   ]
  },
  {
   "cell_type": "code",
   "execution_count": null,
   "id": "2bad256a",
   "metadata": {},
   "outputs": [
    {
     "name": "stderr",
     "output_type": "stream",
     "text": [
      "/Users/gilfrim/Desktop/Projects/Computational_Analysis_of_Many_Rotor_Systems/.venv/lib/python3.13/site-packages/scipy/sparse/_sputils.py:147: ComplexWarning: Casting complex values to real discards the imaginary part\n",
      "  data = np.array(obj, dtype=dtype, copy=copy)\n"
     ]
    }
   ],
   "source": [
    "H_NO_s, K_NO_s, V_NO_s = hamiltonian_general_sparse(state, site, g)\n",
    "\n",
    "eig_val_NO_s, eig_vec_NO_s = np.linalg.eigh(H_NO_s.toarray()) # produces the solutions to the hamiltonian with energys and associated wavefunctions."
   ]
  },
  {
   "cell_type": "markdown",
   "id": "fd78feb0",
   "metadata": {},
   "source": [
    "Check the Natural Orbitals methods against each other."
   ]
  },
  {
   "cell_type": "code",
   "execution_count": null,
   "id": "ed9b6060",
   "metadata": {},
   "outputs": [
    {
     "data": {
      "text/plain": [
       "True"
      ]
     },
     "execution_count": 43,
     "metadata": {},
     "output_type": "execute_result"
    }
   ],
   "source": [
    "np.allclose(eig_val_NO_d, eig_val_NO_s, atol=1e-19)"
   ]
  },
  {
   "cell_type": "markdown",
   "id": "c0b72fd2",
   "metadata": {},
   "source": [
    "# Extracting t amplitudes."
   ]
  },
  {
   "cell_type": "markdown",
   "id": "6ec72afc",
   "metadata": {},
   "source": [
    "First produce the hamiltonian, diagonalize and extract ground state."
   ]
  },
  {
   "cell_type": "code",
   "execution_count": null,
   "id": "84ff6d45",
   "metadata": {},
   "outputs": [],
   "source": [
    "state = 11\n",
    "site = 3\n",
    "g = 0.1"
   ]
  },
  {
   "cell_type": "code",
   "execution_count": null,
   "id": "2d996f16",
   "metadata": {},
   "outputs": [],
   "source": [
    "H, K, V = hamiltonian_general_dense(state, site, g)\n",
    "eig_val_ED, eig_vec_ED = np.linalg.eigh(H)"
   ]
  },
  {
   "cell_type": "markdown",
   "id": "5c8b018c",
   "metadata": {},
   "source": [
    "Produce a ground state in the intermediate diagonalization."
   ]
  },
  {
   "cell_type": "code",
   "execution_count": null,
   "id": "c7822875",
   "metadata": {},
   "outputs": [],
   "source": [
    "ground_norm = intermediate_normalisation(eig_val_ED, eig_vec_ED)"
   ]
  },
  {
   "cell_type": "markdown",
   "id": "48f09cdf",
   "metadata": {},
   "source": [
    "Produce the t_1 and t_2 amplitudes."
   ]
  },
  {
   "cell_type": "code",
   "execution_count": null,
   "id": "23e0e624",
   "metadata": {},
   "outputs": [],
   "source": [
    "t_a_i_tensor = t_1_amplitude_guess_ground_state(state, site, g, eig_vec, eig_val) # shape (site, state - 1, 1)\n",
    "t_ab_ij_tensor = t_2_amplitude_guess_ground_state(state, site, g, eig_vec, eig_val) # shape (site, site, state - 1, state - 1, 1, 1)"
   ]
  },
  {
   "cell_type": "markdown",
   "id": "72509785",
   "metadata": {},
   "source": [
    "We can reduce the dimension of tensors by reshaping."
   ]
  },
  {
   "cell_type": "markdown",
   "id": "005f37b0",
   "metadata": {},
   "source": [
    "# Twisted Hamiltonian."
   ]
  },
  {
   "cell_type": "code",
   "execution_count": null,
   "id": "7d016466",
   "metadata": {},
   "outputs": [],
   "source": [
    "state = 5\n",
    "site = 3\n",
    "g = 0.1"
   ]
  },
  {
   "cell_type": "code",
   "execution_count": null,
   "id": "ae7befe2",
   "metadata": {},
   "outputs": [],
   "source": [
    "H, K, V = hamiltonian_dense(state, site, g, np.pi)"
   ]
  },
  {
   "cell_type": "code",
   "execution_count": null,
   "id": "245a09e2",
   "metadata": {},
   "outputs": [
    {
     "data": {
      "text/plain": [
       "array([[0.+0.j, 0.+0.j, 0.+0.j, 0.+0.j, 0.+0.j],\n",
       "       [0.+0.j, 1.+0.j, 0.+0.j, 0.+0.j, 0.+0.j],\n",
       "       [0.+0.j, 0.+0.j, 1.+0.j, 0.+0.j, 0.+0.j],\n",
       "       [0.+0.j, 0.+0.j, 0.+0.j, 4.+0.j, 0.+0.j],\n",
       "       [0.+0.j, 0.+0.j, 0.+0.j, 0.+0.j, 4.+0.j]])"
      ]
     },
     "execution_count": 54,
     "metadata": {},
     "output_type": "execute_result"
    }
   ],
   "source": [
    "K"
   ]
  },
  {
   "cell_type": "code",
   "execution_count": null,
   "id": "70e37801",
   "metadata": {},
   "outputs": [
    {
     "data": {
      "text/plain": [
       "array([[ 0.   +0.j,  0.   +0.j,  0.   +0.j,  0.   +0.j,  0.   +0.j,  0.   +0.j,  0.075+0.j, -0.025+0.j,  0.   +0.j,  0.   +0.j,  0.   +0.j, -0.025+0.j,  0.075+0.j,  0.   +0.j,  0.   +0.j,  0.   +0.j,  0.   +0.j,  0.   +0.j,  0.   +0.j,  0.   +0.j,  0.   +0.j,  0.   +0.j,  0.   +0.j,  0.   +0.j,  0.   +0.j],\n",
       "       [ 0.   +0.j,  0.   +0.j,  0.   +0.j,  0.   +0.j,  0.   +0.j, -0.025+0.j,  0.   +0.j,  0.   +0.j,  0.075+0.j,  0.   +0.j,  0.075+0.j,  0.   +0.j,  0.   +0.j, -0.025+0.j,  0.   +0.j,  0.   +0.j,  0.   +0.j,  0.   +0.j,  0.   +0.j,  0.   +0.j,  0.   +0.j,  0.   +0.j,  0.   +0.j,  0.   +0.j,  0.   +0.j],\n",
       "       [ 0.   +0.j,  0.   +0.j,  0.   +0.j,  0.   +0.j,  0.   +0.j,  0.075+0.j,  0.   +0.j,  0.   +0.j,  0.   +0.j, -0.025+0.j, -0.025+0.j,  0.   +0.j,  0.   +0.j,  0.   +0.j,  0.075+0.j,  0.   +0.j,  0.   +0.j,  0.   +0.j,  0.   +0.j,  0.   +0.j,  0.   +0.j,  0.   +0.j,  0.   +0.j,  0.   +0.j,  0.   +0.j],\n",
       "       [ 0.   +0.j,  0.   +0.j,  0.   +0.j,  0.   +0.j,  0.   +0.j,  0.   +0.j, -0.025+0.j,  0.   +0.j,  0.   +0.j,  0.   +0.j,  0.   +0.j,  0.075+0.j,  0.   +0.j,  0.   +0.j,  0.   +0.j,  0.   +0.j,  0.   +0.j,  0.   +0.j,  0.   +0.j,  0.   +0.j,  0.   +0.j,  0.   +0.j,  0.   +0.j,  0.   +0.j,  0.   +0.j],\n",
       "       [ 0.   +0.j,  0.   +0.j,  0.   +0.j,  0.   +0.j,  0.   +0.j,  0.   +0.j,  0.   +0.j,  0.075+0.j,  0.   +0.j,  0.   +0.j,  0.   +0.j,  0.   +0.j, -0.025+0.j,  0.   +0.j,  0.   +0.j,  0.   +0.j,  0.   +0.j,  0.   +0.j,  0.   +0.j,  0.   +0.j,  0.   +0.j,  0.   +0.j,  0.   +0.j,  0.   +0.j,  0.   +0.j],\n",
       "       [ 0.   +0.j, -0.025+0.j,  0.075+0.j,  0.   +0.j,  0.   +0.j,  0.   +0.j,  0.   +0.j,  0.   +0.j,  0.   +0.j,  0.   +0.j,  0.   +0.j,  0.   +0.j,  0.   +0.j,  0.   +0.j,  0.   +0.j,  0.   +0.j,  0.075+0.j, -0.025+0.j,  0.   +0.j,  0.   +0.j,  0.   +0.j,  0.   +0.j,  0.   +0.j,  0.   +0.j,  0.   +0.j],\n",
       "       [ 0.075+0.j,  0.   +0.j,  0.   +0.j, -0.025+0.j,  0.   +0.j,  0.   +0.j,  0.   +0.j,  0.   +0.j,  0.   +0.j,  0.   +0.j,  0.   +0.j,  0.   +0.j,  0.   +0.j,  0.   +0.j,  0.   +0.j, -0.025+0.j,  0.   +0.j,  0.   +0.j,  0.075+0.j,  0.   +0.j,  0.   +0.j,  0.   +0.j,  0.   +0.j,  0.   +0.j,  0.   +0.j],\n",
       "       [-0.025+0.j,  0.   +0.j,  0.   +0.j,  0.   +0.j,  0.075+0.j,  0.   +0.j,  0.   +0.j,  0.   +0.j,  0.   +0.j,  0.   +0.j,  0.   +0.j,  0.   +0.j,  0.   +0.j,  0.   +0.j,  0.   +0.j,  0.075+0.j,  0.   +0.j,  0.   +0.j,  0.   +0.j, -0.025+0.j,  0.   +0.j,  0.   +0.j,  0.   +0.j,  0.   +0.j,  0.   +0.j],\n",
       "       [ 0.   +0.j,  0.075+0.j,  0.   +0.j,  0.   +0.j,  0.   +0.j,  0.   +0.j,  0.   +0.j,  0.   +0.j,  0.   +0.j,  0.   +0.j,  0.   +0.j,  0.   +0.j,  0.   +0.j,  0.   +0.j,  0.   +0.j,  0.   +0.j, -0.025+0.j,  0.   +0.j,  0.   +0.j,  0.   +0.j,  0.   +0.j,  0.   +0.j,  0.   +0.j,  0.   +0.j,  0.   +0.j],\n",
       "       [ 0.   +0.j,  0.   +0.j, -0.025+0.j,  0.   +0.j,  0.   +0.j,  0.   +0.j,  0.   +0.j,  0.   +0.j,  0.   +0.j,  0.   +0.j,  0.   +0.j,  0.   +0.j,  0.   +0.j,  0.   +0.j,  0.   +0.j,  0.   +0.j,  0.   +0.j,  0.075+0.j,  0.   +0.j,  0.   +0.j,  0.   +0.j,  0.   +0.j,  0.   +0.j,  0.   +0.j,  0.   +0.j],\n",
       "       [ 0.   +0.j,  0.075+0.j, -0.025+0.j,  0.   +0.j,  0.   +0.j,  0.   +0.j,  0.   +0.j,  0.   +0.j,  0.   +0.j,  0.   +0.j,  0.   +0.j,  0.   +0.j,  0.   +0.j,  0.   +0.j,  0.   +0.j,  0.   +0.j,  0.   +0.j,  0.   +0.j,  0.   +0.j,  0.   +0.j,  0.   +0.j, -0.025+0.j,  0.075+0.j,  0.   +0.j,  0.   +0.j],\n",
       "       [-0.025+0.j,  0.   +0.j,  0.   +0.j,  0.075+0.j,  0.   +0.j,  0.   +0.j,  0.   +0.j,  0.   +0.j,  0.   +0.j,  0.   +0.j,  0.   +0.j,  0.   +0.j,  0.   +0.j,  0.   +0.j,  0.   +0.j,  0.   +0.j,  0.   +0.j,  0.   +0.j,  0.   +0.j,  0.   +0.j,  0.075+0.j,  0.   +0.j,  0.   +0.j, -0.025+0.j,  0.   +0.j],\n",
       "       [ 0.075+0.j,  0.   +0.j,  0.   +0.j,  0.   +0.j, -0.025+0.j,  0.   +0.j,  0.   +0.j,  0.   +0.j,  0.   +0.j,  0.   +0.j,  0.   +0.j,  0.   +0.j,  0.   +0.j,  0.   +0.j,  0.   +0.j,  0.   +0.j,  0.   +0.j,  0.   +0.j,  0.   +0.j,  0.   +0.j, -0.025+0.j,  0.   +0.j,  0.   +0.j,  0.   +0.j,  0.075+0.j],\n",
       "       [ 0.   +0.j, -0.025+0.j,  0.   +0.j,  0.   +0.j,  0.   +0.j,  0.   +0.j,  0.   +0.j,  0.   +0.j,  0.   +0.j,  0.   +0.j,  0.   +0.j,  0.   +0.j,  0.   +0.j,  0.   +0.j,  0.   +0.j,  0.   +0.j,  0.   +0.j,  0.   +0.j,  0.   +0.j,  0.   +0.j,  0.   +0.j,  0.075+0.j,  0.   +0.j,  0.   +0.j,  0.   +0.j],\n",
       "       [ 0.   +0.j,  0.   +0.j,  0.075+0.j,  0.   +0.j,  0.   +0.j,  0.   +0.j,  0.   +0.j,  0.   +0.j,  0.   +0.j,  0.   +0.j,  0.   +0.j,  0.   +0.j,  0.   +0.j,  0.   +0.j,  0.   +0.j,  0.   +0.j,  0.   +0.j,  0.   +0.j,  0.   +0.j,  0.   +0.j,  0.   +0.j,  0.   +0.j, -0.025+0.j,  0.   +0.j,  0.   +0.j],\n",
       "       [ 0.   +0.j,  0.   +0.j,  0.   +0.j,  0.   +0.j,  0.   +0.j,  0.   +0.j, -0.025+0.j,  0.075+0.j,  0.   +0.j,  0.   +0.j,  0.   +0.j,  0.   +0.j,  0.   +0.j,  0.   +0.j,  0.   +0.j,  0.   +0.j,  0.   +0.j,  0.   +0.j,  0.   +0.j,  0.   +0.j,  0.   +0.j,  0.   +0.j,  0.   +0.j,  0.   +0.j,  0.   +0.j],\n",
       "       [ 0.   +0.j,  0.   +0.j,  0.   +0.j,  0.   +0.j,  0.   +0.j,  0.075+0.j,  0.   +0.j,  0.   +0.j, -0.025+0.j,  0.   +0.j,  0.   +0.j,  0.   +0.j,  0.   +0.j,  0.   +0.j,  0.   +0.j,  0.   +0.j,  0.   +0.j,  0.   +0.j,  0.   +0.j,  0.   +0.j,  0.   +0.j,  0.   +0.j,  0.   +0.j,  0.   +0.j,  0.   +0.j],\n",
       "       [ 0.   +0.j,  0.   +0.j,  0.   +0.j,  0.   +0.j,  0.   +0.j, -0.025+0.j,  0.   +0.j,  0.   +0.j,  0.   +0.j,  0.075+0.j,  0.   +0.j,  0.   +0.j,  0.   +0.j,  0.   +0.j,  0.   +0.j,  0.   +0.j,  0.   +0.j,  0.   +0.j,  0.   +0.j,  0.   +0.j,  0.   +0.j,  0.   +0.j,  0.   +0.j,  0.   +0.j,  0.   +0.j],\n",
       "       [ 0.   +0.j,  0.   +0.j,  0.   +0.j,  0.   +0.j,  0.   +0.j,  0.   +0.j,  0.075+0.j,  0.   +0.j,  0.   +0.j,  0.   +0.j,  0.   +0.j,  0.   +0.j,  0.   +0.j,  0.   +0.j,  0.   +0.j,  0.   +0.j,  0.   +0.j,  0.   +0.j,  0.   +0.j,  0.   +0.j,  0.   +0.j,  0.   +0.j,  0.   +0.j,  0.   +0.j,  0.   +0.j],\n",
       "       [ 0.   +0.j,  0.   +0.j,  0.   +0.j,  0.   +0.j,  0.   +0.j,  0.   +0.j,  0.   +0.j, -0.025+0.j,  0.   +0.j,  0.   +0.j,  0.   +0.j,  0.   +0.j,  0.   +0.j,  0.   +0.j,  0.   +0.j,  0.   +0.j,  0.   +0.j,  0.   +0.j,  0.   +0.j,  0.   +0.j,  0.   +0.j,  0.   +0.j,  0.   +0.j,  0.   +0.j,  0.   +0.j],\n",
       "       [ 0.   +0.j,  0.   +0.j,  0.   +0.j,  0.   +0.j,  0.   +0.j,  0.   +0.j,  0.   +0.j,  0.   +0.j,  0.   +0.j,  0.   +0.j,  0.   +0.j,  0.075+0.j, -0.025+0.j,  0.   +0.j,  0.   +0.j,  0.   +0.j,  0.   +0.j,  0.   +0.j,  0.   +0.j,  0.   +0.j,  0.   +0.j,  0.   +0.j,  0.   +0.j,  0.   +0.j,  0.   +0.j],\n",
       "       [ 0.   +0.j,  0.   +0.j,  0.   +0.j,  0.   +0.j,  0.   +0.j,  0.   +0.j,  0.   +0.j,  0.   +0.j,  0.   +0.j,  0.   +0.j, -0.025+0.j,  0.   +0.j,  0.   +0.j,  0.075+0.j,  0.   +0.j,  0.   +0.j,  0.   +0.j,  0.   +0.j,  0.   +0.j,  0.   +0.j,  0.   +0.j,  0.   +0.j,  0.   +0.j,  0.   +0.j,  0.   +0.j],\n",
       "       [ 0.   +0.j,  0.   +0.j,  0.   +0.j,  0.   +0.j,  0.   +0.j,  0.   +0.j,  0.   +0.j,  0.   +0.j,  0.   +0.j,  0.   +0.j,  0.075+0.j,  0.   +0.j,  0.   +0.j,  0.   +0.j, -0.025+0.j,  0.   +0.j,  0.   +0.j,  0.   +0.j,  0.   +0.j,  0.   +0.j,  0.   +0.j,  0.   +0.j,  0.   +0.j,  0.   +0.j,  0.   +0.j],\n",
       "       [ 0.   +0.j,  0.   +0.j,  0.   +0.j,  0.   +0.j,  0.   +0.j,  0.   +0.j,  0.   +0.j,  0.   +0.j,  0.   +0.j,  0.   +0.j,  0.   +0.j, -0.025+0.j,  0.   +0.j,  0.   +0.j,  0.   +0.j,  0.   +0.j,  0.   +0.j,  0.   +0.j,  0.   +0.j,  0.   +0.j,  0.   +0.j,  0.   +0.j,  0.   +0.j,  0.   +0.j,  0.   +0.j],\n",
       "       [ 0.   +0.j,  0.   +0.j,  0.   +0.j,  0.   +0.j,  0.   +0.j,  0.   +0.j,  0.   +0.j,  0.   +0.j,  0.   +0.j,  0.   +0.j,  0.   +0.j,  0.   +0.j,  0.075+0.j,  0.   +0.j,  0.   +0.j,  0.   +0.j,  0.   +0.j,  0.   +0.j,  0.   +0.j,  0.   +0.j,  0.   +0.j,  0.   +0.j,  0.   +0.j,  0.   +0.j,  0.   +0.j]])"
      ]
     },
     "execution_count": 55,
     "metadata": {},
     "output_type": "execute_result"
    }
   ],
   "source": [
    "V"
   ]
  },
  {
   "cell_type": "code",
   "execution_count": null,
   "id": "2a072daa",
   "metadata": {},
   "outputs": [],
   "source": []
  }
 ],
 "metadata": {
  "kernelspec": {
   "display_name": ".venv",
   "language": "python",
   "name": "python3"
  },
  "language_info": {
   "codemirror_mode": {
    "name": "ipython",
    "version": 3
   },
   "file_extension": ".py",
   "mimetype": "text/x-python",
   "name": "python",
   "nbconvert_exporter": "python",
   "pygments_lexer": "ipython3",
   "version": "3.13.4"
  }
 },
 "nbformat": 4,
 "nbformat_minor": 5
}
