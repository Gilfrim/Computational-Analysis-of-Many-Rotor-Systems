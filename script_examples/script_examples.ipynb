{
 "cells": [
  {
   "cell_type": "code",
   "execution_count": null,
   "id": "a1361926",
   "metadata": {},
   "outputs": [],
   "source": [
    "import numpy as np\n",
    "import sys\n",
    "import os\n",
    "\n",
    "np.set_printoptions(threshold=np.inf, linewidth=np.inf)\n",
    "\n",
    "# Absolute path to the folder that contains \"quant_rotor\"\n",
    "sys.path.append(\"/Users/gilfrim/Desktop/Projects/Computational_Analysis_of_Many_Rotor_Systems\")\n",
    "\n",
    "# Set print output parameters\n",
    "np.set_printoptions(suppress = True, linewidth = 1500, threshold = np.inf, precision = 12)\n",
    "\n",
    "\n",
    "#working with kietic and potential operators\n",
    "\n",
    "# Dense (Slow)\n",
    "from quant_rotor.models.dense.support_ham import write_matrix_elements, basis_m_to_p_matrix_conversion\n",
    "\n",
    "# Sparse (Fast)\n",
    "from quant_rotor.models.sparse.support_ham import build_V_in_p\n",
    "\n",
    "# Density Matrices\n",
    "\n",
    "from quant_rotor.models.dense.density_matrix import density_matrix_1, density_matrix_2, dencity_energy\n",
    "\n",
    "# ED hamiltonian implementation.\n",
    "\n",
    "# Dense (Slow)\n",
    "from quant_rotor.core.dense.hamiltonian import hamiltonian_dense\n",
    "from quant_rotor.core.dense.hamiltonian_big import hamiltonian_general_dense\n",
    "\n",
    "# Sparse (Fast)\n",
    "from quant_rotor.core.sparse.hamiltonian import hamiltonian_sparse\n",
    "from quant_rotor.core.sparse.hamiltonian_big import hamiltonian_general_sparse\n",
    "\n",
    "\n",
    "# Iterative residual calculation\n",
    "\n",
    "# Dense (Slow)\n",
    "from quant_rotor.core.dense.t_amplitudes_guess import amplitute_energy, t_1_amplitude_guess_ground_state, t_2_amplitude_guess_ground_state\n",
    "from quant_rotor.core.dense.t_amplitudes_periodic import t_periodic as t_periodic_dense\n",
    "from quant_rotor.core.dense.t_amplitudes_non_periodic import t_non_periodic as t_non_periodic_dense\n",
    "\n",
    "# Sparse (Fast)\n",
    "from quant_rotor.core.dense.t_amplitudes_periodic_fast import t_periodic as t_periodic_sparse # for bigger systems (much harder to modify)\n",
    "\n",
    "\n",
    "#Time dependant methods\n",
    "\n",
    "# Dense (Slow)\n",
    "from quant_rotor.core.dense.de_solve_one_thermal import integration_scheme\n",
    "\n",
    "# Sparse (Fast)\n",
    "from quant_rotor.core.dense.de_solve_one_thermal_dense import integration_scheme as integration_scheme_fast # for bigger systems (much harder to modify)"
   ]
  },
  {
   "cell_type": "markdown",
   "id": "5b05e999",
   "metadata": {},
   "source": [
    "**!!!Before you start make sure to change the path in the first cell line 8 to the one from your computer!!!**"
   ]
  },
  {
   "cell_type": "markdown",
   "id": "ce668ee1",
   "metadata": {},
   "source": [
    "# Producing hamiltonian operators."
   ]
  },
  {
   "cell_type": "markdown",
   "id": "67e6367e",
   "metadata": {},
   "source": [
    "## Producing Kinetic and Potential operators."
   ]
  },
  {
   "cell_type": "code",
   "execution_count": 2,
   "id": "ac5ca482",
   "metadata": {},
   "outputs": [],
   "source": [
    "state = 3\n",
    "g = 0.1\n",
    "tau = 0"
   ]
  },
  {
   "cell_type": "markdown",
   "id": "b9a69890",
   "metadata": {},
   "source": [
    "Example of the call to produce kinetic and potential matricies."
   ]
  },
  {
   "cell_type": "code",
   "execution_count": 3,
   "id": "4b763fa0",
   "metadata": {},
   "outputs": [],
   "source": [
    "# Recomended to produce small matrix which can be printed and see how it changes. For example 3 state system\n",
    "\n",
    "Kinetic, Potential = write_matrix_elements((state-1)//2, tau) # takes input of the number of unique states see doc-string and annotation for more information\n",
    "\n",
    "K, V = Kinetic, Potential\n",
    "\n",
    "V_tensor = V.reshape(state, state, state, state)  # Adjust if needed\n",
    "\n",
    "h_full = basis_m_to_p_matrix_conversion(K, state)\n",
    "v_full = basis_m_to_p_matrix_conversion(V_tensor, state)"
   ]
  },
  {
   "cell_type": "code",
   "execution_count": 4,
   "id": "2cfb28a4",
   "metadata": {},
   "outputs": [
    {
     "data": {
      "text/plain": [
       "array([[0.+0.j, 0.+0.j, 0.+0.j],\n",
       "       [0.+0.j, 1.+0.j, 0.+0.j],\n",
       "       [0.+0.j, 0.+0.j, 1.+0.j]])"
      ]
     },
     "execution_count": 4,
     "metadata": {},
     "output_type": "execute_result"
    }
   ],
   "source": [
    "h_full"
   ]
  },
  {
   "cell_type": "code",
   "execution_count": 5,
   "id": "b75d2332",
   "metadata": {},
   "outputs": [
    {
     "data": {
      "text/plain": [
       "array([[ 0.  +0.j,  0.  +0.j,  0.  +0.j,  0.  +0.j,  0.75+0.j, -0.25+0.j,  0.  +0.j, -0.25+0.j,  0.75+0.j],\n",
       "       [ 0.  +0.j,  0.  +0.j,  0.  +0.j, -0.25+0.j,  0.  +0.j,  0.  +0.j,  0.75+0.j,  0.  +0.j,  0.  +0.j],\n",
       "       [ 0.  +0.j,  0.  +0.j,  0.  +0.j,  0.75+0.j,  0.  +0.j,  0.  +0.j, -0.25+0.j,  0.  +0.j,  0.  +0.j],\n",
       "       [ 0.  +0.j, -0.25+0.j,  0.75+0.j,  0.  +0.j,  0.  +0.j,  0.  +0.j,  0.  +0.j,  0.  +0.j,  0.  +0.j],\n",
       "       [ 0.75+0.j,  0.  +0.j,  0.  +0.j,  0.  +0.j,  0.  +0.j,  0.  +0.j,  0.  +0.j,  0.  +0.j,  0.  +0.j],\n",
       "       [-0.25+0.j,  0.  +0.j,  0.  +0.j,  0.  +0.j,  0.  +0.j,  0.  +0.j,  0.  +0.j,  0.  +0.j,  0.  +0.j],\n",
       "       [ 0.  +0.j,  0.75+0.j, -0.25+0.j,  0.  +0.j,  0.  +0.j,  0.  +0.j,  0.  +0.j,  0.  +0.j,  0.  +0.j],\n",
       "       [-0.25+0.j,  0.  +0.j,  0.  +0.j,  0.  +0.j,  0.  +0.j,  0.  +0.j,  0.  +0.j,  0.  +0.j,  0.  +0.j],\n",
       "       [ 0.75+0.j,  0.  +0.j,  0.  +0.j,  0.  +0.j,  0.  +0.j,  0.  +0.j,  0.  +0.j,  0.  +0.j,  0.  +0.j]])"
      ]
     },
     "execution_count": 5,
     "metadata": {},
     "output_type": "execute_result"
    }
   ],
   "source": [
    "v_full.reshape(state**2, state**2)"
   ]
  },
  {
   "cell_type": "code",
   "execution_count": 6,
   "id": "ac29b07b",
   "metadata": {},
   "outputs": [
    {
     "name": "stderr",
     "output_type": "stream",
     "text": [
      "/Users/gilfrim/Desktop/Projects/Computational_Analysis_of_Many_Rotor_Systems/.venv/lib/python3.13/site-packages/scipy/sparse/_sputils.py:147: ComplexWarning: Casting complex values to real discards the imaginary part\n",
      "  data = np.array(obj, dtype=dtype, copy=copy)\n"
     ]
    }
   ],
   "source": [
    "Kinetic_sparse, Potential_sparse = build_V_in_p(state, tau) # the fast version give a result in sparse which needs to ve converted to dense matricies\n",
    "\n",
    "# Example of how to convert to dense.\n",
    "\n",
    "Kinetic_dense = Kinetic_sparse.toarray()\n",
    "Potential_dense = Potential_sparse.toarray()"
   ]
  },
  {
   "cell_type": "code",
   "execution_count": 7,
   "id": "674bee83",
   "metadata": {},
   "outputs": [
    {
     "data": {
      "text/plain": [
       "array([[0., 0., 0.],\n",
       "       [0., 1., 0.],\n",
       "       [0., 0., 1.]])"
      ]
     },
     "execution_count": 7,
     "metadata": {},
     "output_type": "execute_result"
    }
   ],
   "source": [
    "Kinetic_dense"
   ]
  },
  {
   "cell_type": "code",
   "execution_count": 8,
   "id": "bb9f7dcd",
   "metadata": {},
   "outputs": [
    {
     "data": {
      "text/plain": [
       "array([[ 0.  ,  0.  ,  0.  ,  0.  ,  0.75, -0.25,  0.  , -0.25,  0.75],\n",
       "       [ 0.  ,  0.  ,  0.  , -0.25,  0.  ,  0.  ,  0.75,  0.  ,  0.  ],\n",
       "       [ 0.  ,  0.  ,  0.  ,  0.75,  0.  ,  0.  , -0.25,  0.  ,  0.  ],\n",
       "       [ 0.  , -0.25,  0.75,  0.  ,  0.  ,  0.  ,  0.  ,  0.  ,  0.  ],\n",
       "       [ 0.75,  0.  ,  0.  ,  0.  ,  0.  ,  0.  ,  0.  ,  0.  ,  0.  ],\n",
       "       [-0.25,  0.  ,  0.  ,  0.  ,  0.  ,  0.  ,  0.  ,  0.  ,  0.  ],\n",
       "       [ 0.  ,  0.75, -0.25,  0.  ,  0.  ,  0.  ,  0.  ,  0.  ,  0.  ],\n",
       "       [-0.25,  0.  ,  0.  ,  0.  ,  0.  ,  0.  ,  0.  ,  0.  ,  0.  ],\n",
       "       [ 0.75,  0.  ,  0.  ,  0.  ,  0.  ,  0.  ,  0.  ,  0.  ,  0.  ]])"
      ]
     },
     "execution_count": 8,
     "metadata": {},
     "output_type": "execute_result"
    }
   ],
   "source": [
    "Potential_dense"
   ]
  },
  {
   "cell_type": "markdown",
   "id": "74b3bd31",
   "metadata": {},
   "source": [
    "Check the output."
   ]
  },
  {
   "cell_type": "code",
   "execution_count": 9,
   "id": "4404c8d6",
   "metadata": {},
   "outputs": [
    {
     "name": "stdout",
     "output_type": "stream",
     "text": [
      "True\n",
      "True 1e-30\n"
     ]
    }
   ],
   "source": [
    "print(np.array_equal(h_full, Kinetic_dense))\n",
    "print(np.allclose(v_full.reshape(state**2, state**2), Potential_dense), 1e-30)"
   ]
  },
  {
   "cell_type": "markdown",
   "id": "ef3944fd",
   "metadata": {},
   "source": [
    "Produce several matricies for tests."
   ]
  },
  {
   "cell_type": "code",
   "execution_count": 10,
   "id": "902c0d46",
   "metadata": {},
   "outputs": [],
   "source": [
    "save_dir = \"example_data/kinetic_potential_matricies/ED\"\n",
    "\n",
    "for state in range(3, 15, 2):\n",
    "\n",
    "    Kinetic_sparse, Potential_sparse = build_V_in_p(state, tau) # the fast version give a result in sparse which needs to ve converted to dense matricies\n",
    "\n",
    "    # Example of how to convert to dense.\n",
    "\n",
    "    Kinetic_dense = Kinetic_sparse.toarray()\n",
    "    Potential_dense = Potential_sparse.toarray()\n",
    "\n",
    "    save_path = os.path.join(save_dir, f\"kin_pot_ED_state_{state}.npz\")\n",
    "    np.savez(save_path, K=Kinetic_dense, V=Potential_dense)"
   ]
  },
  {
   "cell_type": "code",
   "execution_count": 11,
   "id": "3b342e45",
   "metadata": {},
   "outputs": [
    {
     "name": "stdout",
     "output_type": "stream",
     "text": [
      "True\n",
      "True\n",
      "True\n",
      "True\n",
      "True\n",
      "True\n",
      "True\n",
      "True\n",
      "True\n",
      "True\n",
      "True\n",
      "True\n"
     ]
    }
   ],
   "source": [
    "save_dir = \"example_data/kinetic_potential_matricies/ED\"\n",
    "\n",
    "for state in range(3, 15, 2):\n",
    "\n",
    "    Kinetic_sparse, Potential_sparse = build_V_in_p(state, tau) # the fast version give a result in sparse which needs to ve converted to dense matricies\n",
    "\n",
    "    # Example of how to convert to dense.\n",
    "\n",
    "    Kinetic_dense = Kinetic_sparse.toarray()\n",
    "    Potential_dense = Potential_sparse.toarray()\n",
    "\n",
    "    save_path = os.path.join(save_dir, f\"kin_pot_ED_state_{state}.npz\")\n",
    "\n",
    "    data = np.load(save_path)\n",
    "\n",
    "    print(np.array_equal(Kinetic_dense, data[\"K\"]))\n",
    "    print(np.array_equal(Potential_dense, data[\"V\"]))"
   ]
  },
  {
   "cell_type": "markdown",
   "id": "b781d876",
   "metadata": {},
   "source": [
    "## Producing Exact Diagonalization hamiltonians."
   ]
  },
  {
   "cell_type": "code",
   "execution_count": 4,
   "id": "f92a6765",
   "metadata": {},
   "outputs": [],
   "source": [
    "site = 3\n",
    "state = 11\n",
    "g = 1"
   ]
  },
  {
   "cell_type": "markdown",
   "id": "4134296a",
   "metadata": {},
   "source": [
    "Exact Diagonalization hamiltonian dense (slow)."
   ]
  },
  {
   "cell_type": "code",
   "execution_count": 5,
   "id": "41d1ccfd",
   "metadata": {},
   "outputs": [],
   "source": [
    "H_ED_d, K_ED_d, V_ED_d = hamiltonian_dense(state, site, g)\n",
    "\n",
    "eig_val_ED_d, eig_vec_ED_d = np.linalg.eigh(H_ED_d) # produces the solutions to the hamiltonian with energys and associated wavefunctions."
   ]
  },
  {
   "cell_type": "markdown",
   "id": "97241017",
   "metadata": {},
   "source": [
    "Exact Diagonalization hamiltonian sparse (fast)."
   ]
  },
  {
   "cell_type": "code",
   "execution_count": 6,
   "id": "518dd35d",
   "metadata": {},
   "outputs": [
    {
     "name": "stderr",
     "output_type": "stream",
     "text": [
      "/Users/gilfrim/Desktop/Projects/Computational_Analysis_of_Many_Rotor_Systems/.venv/lib/python3.13/site-packages/scipy/sparse/_sputils.py:147: ComplexWarning: Casting complex values to real discards the imaginary part\n",
      "  data = np.array(obj, dtype=dtype, copy=copy)\n"
     ]
    }
   ],
   "source": [
    "H_ED_s, K_ED_s, V_ED_s = hamiltonian_sparse(state, site, g)\n",
    "\n",
    "H_ED_s = H_ED_s.toarray()\n",
    "K_ED_s = K_ED_s.toarray()\n",
    "V_ED_s = (V_ED_s.toarray())\n",
    "\n",
    "eig_val_ED_s, eig_vec_ED_s = np.linalg.eigh(H_ED_s) # produces the solutions to the hamiltonian with energys and associated wavefunctions."
   ]
  },
  {
   "cell_type": "markdown",
   "id": "e64a9e3e",
   "metadata": {},
   "source": [
    "Check agains each other. (Should match)"
   ]
  },
  {
   "cell_type": "code",
   "execution_count": 7,
   "id": "2dffb805",
   "metadata": {},
   "outputs": [
    {
     "name": "stdout",
     "output_type": "stream",
     "text": [
      "H_ED: True\n",
      "K_ED: True\n",
      "V_ED: True\n",
      "eigen values: True\n",
      "eigen vectors: True\n"
     ]
    }
   ],
   "source": [
    "print(\"H_ED:\", np.allclose(H_ED_d, H_ED_s))\n",
    "print(\"K_ED:\", np.allclose(K_ED_d, K_ED_s))\n",
    "print(\"V_ED:\", np.allclose(V_ED_d, V_ED_s))\n",
    "print(\"eigen values:\", np.allclose(eig_val_ED_d, eig_val_ED_s))\n",
    "print(\"eigen vectors:\", np.allclose(eig_vec_ED_d, eig_vec_ED_s))"
   ]
  },
  {
   "cell_type": "markdown",
   "id": "e1f8aa67",
   "metadata": {},
   "source": [
    "## Density matrices"
   ]
  },
  {
   "cell_type": "code",
   "execution_count": null,
   "id": "e32c439e",
   "metadata": {},
   "outputs": [],
   "source": [
    "site = 3\n",
    "state = 11\n",
    "g = 1"
   ]
  },
  {
   "cell_type": "markdown",
   "id": "32512071",
   "metadata": {},
   "source": [
    "First for the density we extract a ground state vector."
   ]
  },
  {
   "cell_type": "code",
   "execution_count": null,
   "id": "17592fda",
   "metadata": {},
   "outputs": [],
   "source": [
    "HKV = hamiltonian_dense(state, site, g)\n",
    "H = HKV[0]\n",
    "\n",
    "eig_val, eig_vec = np.linalg.eigh(H)\n",
    "\n",
    "index = np.argmin(eig_val)\n",
    "ground_state_vec = eig_vec[:, index]"
   ]
  },
  {
   "cell_type": "markdown",
   "id": "3a92f476",
   "metadata": {},
   "source": [
    "Then we calculate densities for one site and two site interactions."
   ]
  },
  {
   "cell_type": "code",
   "execution_count": null,
   "id": "a478db3d",
   "metadata": {},
   "outputs": [],
   "source": [
    "D_1 = density_matrix_1(state, site, ground_state_vec, 0)\n",
    "D_2 = density_matrix_2(state, site, ground_state_vec, 0, 1)\n",
    "\n",
    "eig_val_D_1, eig_vec_D_1 = np.linalg.eigh(D_1)\n",
    "eig_val_D_2, eig_vec_D_2 = np.linalg.eigh(D_2.reshape(state**2, state**2))"
   ]
  },
  {
   "cell_type": "markdown",
   "id": "5f8da0b9",
   "metadata": {},
   "source": [
    "Two easy checks we can do to make sure the density matrices are correct are to sup up the eigenstates; they should roughly add up to one."
   ]
  },
  {
   "cell_type": "code",
   "execution_count": null,
   "id": "12b7cf0f",
   "metadata": {},
   "outputs": [],
   "source": [
    "print(\"Single density:\", np.sum(eig_val_D_1))\n",
    "print(\"Double density:\", np.sum(eig_val_D_2))"
   ]
  },
  {
   "cell_type": "markdown",
   "id": "a08c4d12",
   "metadata": {},
   "source": [
    "The second check we can do is to we expect the two large identical eigenvalues for single and double interaction for the large g.\n",
    "\n",
    "This makes physical sense since with large interaction strength (determined by g) the system roughly acts as polarized magnets aligning in one or the other\n",
    "direction of the polarity. So our quantum system is in the superposition of those two alignments."
   ]
  },
  {
   "cell_type": "code",
   "execution_count": null,
   "id": "7b16f438",
   "metadata": {},
   "outputs": [],
   "source": [
    "-np.sort(-eig_val_D_1)\n",
    "-np.sort(-eig_val_D_2)"
   ]
  },
  {
   "cell_type": "markdown",
   "id": "75a539c0",
   "metadata": {},
   "source": [
    "Additional check that can be done as an exercise is to check whether the eigenvectors of D_1 and D_2 (separately) are orthogonal."
   ]
  },
  {
   "cell_type": "code",
   "execution_count": null,
   "id": "d3122d0b",
   "metadata": {},
   "outputs": [],
   "source": []
  },
  {
   "cell_type": "markdown",
   "id": "25b244ca",
   "metadata": {},
   "source": [
    "## Producing Natural Orbitas hamiltonians"
   ]
  },
  {
   "cell_type": "markdown",
   "id": "f503c9fc",
   "metadata": {},
   "source": [
    "Natural Orbitals hamiltonian dense (slow)."
   ]
  },
  {
   "cell_type": "code",
   "execution_count": null,
   "id": "ed4720eb",
   "metadata": {},
   "outputs": [],
   "source": [
    "H_NO_d, K_NO_d, V_NO_d = hamiltonian_general_dense(state, site, g)åå\n",
    "\n",
    "eig_val_NO_d, eig_vec_NO_d = np.linalg.eigh(H_NO_d) # produces the solutions to the hamiltonian with energys and associated wavefunctions."
   ]
  },
  {
   "cell_type": "markdown",
   "id": "396921dc",
   "metadata": {},
   "source": [
    "A way to check Natural Orbitals approximation with exact Diagonalization is to set the states = 11 and sites = 3.\n",
    "\n",
    "The resulting Hamiltonians from ED and NO should have the same energy states (eigenvalues/eigenstates)."
   ]
  },
  {
   "cell_type": "code",
   "execution_count": 9,
   "id": "b7317b62",
   "metadata": {},
   "outputs": [
    {
     "data": {
      "text/plain": [
       "True"
      ]
     },
     "execution_count": 9,
     "metadata": {},
     "output_type": "execute_result"
    }
   ],
   "source": [
    "np.allclose(eig_val_NO_d, eig_val_ED_s, atol=1e-19)"
   ]
  },
  {
   "cell_type": "markdown",
   "id": "b8668cfa",
   "metadata": {},
   "source": [
    "Natural Orbitals hamiltonian sparse (fast)."
   ]
  },
  {
   "cell_type": "code",
   "execution_count": 10,
   "id": "2bad256a",
   "metadata": {},
   "outputs": [],
   "source": [
    "H_NO_s, K_NO_s, V_NO_s = hamiltonian_general_dense(state, site, g)\n",
    "\n",
    "eig_val_NO_s, eig_vec_NO_s = np.linalg.eigh(H_NO_s) # produces the solutions to the hamiltonian with energys and associated wavefunctions."
   ]
  },
  {
   "cell_type": "markdown",
   "id": "fd78feb0",
   "metadata": {},
   "source": [
    "Check the Natural Orbitals methods against each other."
   ]
  },
  {
   "cell_type": "code",
   "execution_count": 11,
   "id": "ed9b6060",
   "metadata": {},
   "outputs": [
    {
     "data": {
      "text/plain": [
       "True"
      ]
     },
     "execution_count": 11,
     "metadata": {},
     "output_type": "execute_result"
    }
   ],
   "source": [
    "np.allclose(eig_val_NO_d, eig_val_NO_s, atol=1e-19)"
   ]
  }
 ],
 "metadata": {
  "kernelspec": {
   "display_name": ".venv",
   "language": "python",
   "name": "python3"
  },
  "language_info": {
   "codemirror_mode": {
    "name": "ipython",
    "version": 3
   },
   "file_extension": ".py",
   "mimetype": "text/x-python",
   "name": "python",
   "nbconvert_exporter": "python",
   "pygments_lexer": "ipython3",
   "version": "3.13.4"
  }
 },
 "nbformat": 4,
 "nbformat_minor": 5
}
