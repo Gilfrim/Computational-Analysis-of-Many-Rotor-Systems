{
 "cells": [
  {
   "cell_type": "code",
   "execution_count": 1,
   "id": "a1361926",
   "metadata": {},
   "outputs": [],
   "source": [
    "import numpy as np\n",
    "import sys\n",
    "import os\n",
    "\n",
    "# Absolute path to the folder that contains \"quant_rotor\"\n",
    "sys.path.append(\"/Users/gilfrim/Desktop/Projects/Computational_Analysis_of_Many_Rotor_Systems\")\n",
    "\n",
    "#working with kietic and potential operators\n",
    "\n",
    "from quant_rotor.models.dense.support_ham import write_matrix_elements, basis_m_to_p_matrix_conversion\n",
    "\n",
    "from quant_rotor.models.sparse.support_ham import build_V_in_p\n",
    "\n",
    "#ED hamiltonian implementation.\n",
    "from quant_rotor.core.dense.hamiltonian import hamiltonian_dense\n",
    "from quant_rotor.core.dense.hamiltonian_big import hamiltonian_general_dense\n",
    "\n",
    "# Iterative residual calculation\n",
    "from quant_rotor.core.dense.t_amplitudes_guess import amplitute_energy, t_1_amplitude_guess_ground_state, t_2_amplitude_guess_ground_state\n",
    "from quant_rotor.core.dense.t_amplitudes_periodic import t_periodic\n",
    "from quant_rotor.core.dense.t_amplitudes_non_periodic import t_non_periodic\n",
    "\n",
    "from quant_rotor.core.dense.t_amplitudes_periodic_fast import t_periodic # for bigger systems (much harder to modify)\n",
    "\n",
    "#Time dependant methods\n",
    "from quant_rotor.core.dense.de_solve_one_thermal import integration_scheme\n",
    "\n",
    "from quant_rotor.core.dense.de_solve_one_thermal_dense import integration_scheme as integration_scheme_fast # for bigger systems (much harder to modify)"
   ]
  },
  {
   "cell_type": "markdown",
   "id": "ce668ee1",
   "metadata": {},
   "source": [
    "# Producing hamiltonian operators."
   ]
  },
  {
   "cell_type": "markdown",
   "id": "67e6367e",
   "metadata": {},
   "source": [
    "## Producing Kinetic and Potential operators."
   ]
  },
  {
   "cell_type": "code",
   "execution_count": 26,
   "id": "ac5ca482",
   "metadata": {},
   "outputs": [],
   "source": [
    "state = 3\n",
    "g = 0.1"
   ]
  },
  {
   "cell_type": "markdown",
   "id": "b9a69890",
   "metadata": {},
   "source": [
    "Example of the call to produce kinetic and potential matricies."
   ]
  },
  {
   "cell_type": "code",
   "execution_count": 27,
   "id": "4b763fa0",
   "metadata": {},
   "outputs": [],
   "source": [
    "# Recomended to produce small matrix which can be printed and see how it changes. For example 3 state system\n",
    "\n",
    "Kinetic, Potential = write_matrix_elements((state-1)//2) # takes input of the number of unique states see doc-string and annotation for more information\n",
    "\n",
    "K, V = Kinetic, Potential\n",
    "\n",
    "V_tensor = V.reshape(state, state, state, state)  # Adjust if needed\n",
    "\n",
    "h_full = basis_m_to_p_matrix_conversion(K, state)\n",
    "v_full = basis_m_to_p_matrix_conversion(V_tensor, state)\n",
    "\n",
    "v_full = v_full * g"
   ]
  },
  {
   "cell_type": "code",
   "execution_count": 28,
   "id": "2cfb28a4",
   "metadata": {},
   "outputs": [
    {
     "data": {
      "text/plain": [
       "array([[0., 0., 0.],\n",
       "       [0., 1., 0.],\n",
       "       [0., 0., 1.]])"
      ]
     },
     "execution_count": 28,
     "metadata": {},
     "output_type": "execute_result"
    }
   ],
   "source": [
    "h_full"
   ]
  },
  {
   "cell_type": "code",
   "execution_count": 29,
   "id": "b75d2332",
   "metadata": {},
   "outputs": [
    {
     "data": {
      "text/plain": [
       "array([[ 0.   ,  0.   ,  0.   ,  0.   ,  0.075, -0.025,  0.   , -0.025,  0.075],\n",
       "       [ 0.   ,  0.   ,  0.   , -0.025,  0.   ,  0.   ,  0.075,  0.   ,  0.   ],\n",
       "       [ 0.   ,  0.   ,  0.   ,  0.075,  0.   ,  0.   , -0.025,  0.   ,  0.   ],\n",
       "       [ 0.   , -0.025,  0.075,  0.   ,  0.   ,  0.   ,  0.   ,  0.   ,  0.   ],\n",
       "       [ 0.075,  0.   ,  0.   ,  0.   ,  0.   ,  0.   ,  0.   ,  0.   ,  0.   ],\n",
       "       [-0.025,  0.   ,  0.   ,  0.   ,  0.   ,  0.   ,  0.   ,  0.   ,  0.   ],\n",
       "       [ 0.   ,  0.075, -0.025,  0.   ,  0.   ,  0.   ,  0.   ,  0.   ,  0.   ],\n",
       "       [-0.025,  0.   ,  0.   ,  0.   ,  0.   ,  0.   ,  0.   ,  0.   ,  0.   ],\n",
       "       [ 0.075,  0.   ,  0.   ,  0.   ,  0.   ,  0.   ,  0.   ,  0.   ,  0.   ]])"
      ]
     },
     "execution_count": 29,
     "metadata": {},
     "output_type": "execute_result"
    }
   ],
   "source": [
    "v_full.reshape(state**2, state**2)"
   ]
  },
  {
   "cell_type": "code",
   "execution_count": 30,
   "id": "ac29b07b",
   "metadata": {},
   "outputs": [],
   "source": [
    "Kinetic_sparse, Potential_sparse = build_V_in_p(state) # the fast version give a result in sparse which needs to ve converted to dense matricies\n",
    "\n",
    "# Example of how to convert to dense.\n",
    "\n",
    "Kinetic_dense = Kinetic_sparse.toarray()\n",
    "Potential_dense = Potential_sparse.toarray()"
   ]
  },
  {
   "cell_type": "code",
   "execution_count": 31,
   "id": "674bee83",
   "metadata": {},
   "outputs": [
    {
     "data": {
      "text/plain": [
       "array([[0., 0., 0.],\n",
       "       [0., 1., 0.],\n",
       "       [0., 0., 1.]])"
      ]
     },
     "execution_count": 31,
     "metadata": {},
     "output_type": "execute_result"
    }
   ],
   "source": [
    "Kinetic_dense"
   ]
  },
  {
   "cell_type": "code",
   "execution_count": 32,
   "id": "bb9f7dcd",
   "metadata": {},
   "outputs": [
    {
     "data": {
      "text/plain": [
       "array([[ 0.   ,  0.   ,  0.   ,  0.   ,  0.075, -0.025,  0.   , -0.025,  0.075],\n",
       "       [ 0.   ,  0.   ,  0.   , -0.025,  0.   ,  0.   ,  0.075,  0.   ,  0.   ],\n",
       "       [ 0.   ,  0.   ,  0.   ,  0.075,  0.   ,  0.   , -0.025,  0.   ,  0.   ],\n",
       "       [ 0.   , -0.025,  0.075,  0.   ,  0.   ,  0.   ,  0.   ,  0.   ,  0.   ],\n",
       "       [ 0.075,  0.   ,  0.   ,  0.   ,  0.   ,  0.   ,  0.   ,  0.   ,  0.   ],\n",
       "       [-0.025,  0.   ,  0.   ,  0.   ,  0.   ,  0.   ,  0.   ,  0.   ,  0.   ],\n",
       "       [ 0.   ,  0.075, -0.025,  0.   ,  0.   ,  0.   ,  0.   ,  0.   ,  0.   ],\n",
       "       [-0.025,  0.   ,  0.   ,  0.   ,  0.   ,  0.   ,  0.   ,  0.   ,  0.   ],\n",
       "       [ 0.075,  0.   ,  0.   ,  0.   ,  0.   ,  0.   ,  0.   ,  0.   ,  0.   ]])"
      ]
     },
     "execution_count": 32,
     "metadata": {},
     "output_type": "execute_result"
    }
   ],
   "source": [
    "Potential_dense"
   ]
  },
  {
   "cell_type": "markdown",
   "id": "74b3bd31",
   "metadata": {},
   "source": [
    "Check the output."
   ]
  },
  {
   "cell_type": "code",
   "execution_count": 33,
   "id": "4404c8d6",
   "metadata": {},
   "outputs": [
    {
     "name": "stdout",
     "output_type": "stream",
     "text": [
      "True\n",
      "True 1e-30\n"
     ]
    }
   ],
   "source": [
    "print(np.array_equal(h_full, Kinetic_dense))\n",
    "print(np.allclose(v_full.reshape(state**2, state**2), Potential_dense), 1e-30)"
   ]
  },
  {
   "cell_type": "markdown",
   "id": "ef3944fd",
   "metadata": {},
   "source": [
    "Produce several matricies for tests."
   ]
  },
  {
   "cell_type": "code",
   "execution_count": 36,
   "id": "902c0d46",
   "metadata": {},
   "outputs": [],
   "source": [
    "for state in range(3, 15, 2):\n",
    "    \n",
    "    Kinetic_sparse, Potential_sparse = build_V_in_p(state) # the fast version give a result in sparse which needs to ve converted to dense matricies\n",
    "\n",
    "    # Example of how to convert to dense.\n",
    "\n",
    "    Kinetic_dense = Kinetic_sparse.toarray()\n",
    "    Potential_dense = Potential_sparse.toarray()\n",
    "\n",
    "    np.savez(f\"example_data.kinetic_potential_matricies.state_{state}.npz\", K=Kinetic_dense, V=Potential_dense)"
   ]
  },
  {
   "cell_type": "code",
   "execution_count": 38,
   "id": "3b342e45",
   "metadata": {},
   "outputs": [
    {
     "name": "stdout",
     "output_type": "stream",
     "text": [
      "True\n",
      "True\n",
      "True\n",
      "True\n",
      "True\n",
      "True\n",
      "True\n",
      "True\n",
      "True\n",
      "True\n",
      "True\n",
      "True\n"
     ]
    }
   ],
   "source": [
    "for state in range(3, 15, 2):\n",
    "\n",
    "    Kinetic_sparse, Potential_sparse = build_V_in_p(state) # the fast version give a result in sparse which needs to ve converted to dense matricies\n",
    "\n",
    "    # Example of how to convert to dense.\n",
    "\n",
    "    Kinetic_dense = Kinetic_sparse.toarray()\n",
    "    Potential_dense = Potential_sparse.toarray()\n",
    "\n",
    "    data = np.load(f\"example_data.kinetic_potential_matricies.state_{state}.npz\")\n",
    "\n",
    "    print(np.array_equal(Kinetic_dense, data[\"K\"]))\n",
    "    print(np.array_equal(Potential_dense, data[\"V\"]))"
   ]
  },
  {
   "cell_type": "markdown",
   "id": "b781d876",
   "metadata": {},
   "source": [
    "## Producing hamiltonians."
   ]
  },
  {
   "cell_type": "code",
   "execution_count": 12,
   "id": "f92a6765",
   "metadata": {},
   "outputs": [],
   "source": [
    "site = 3\n",
    "state = 11\n",
    "g = 0.1"
   ]
  },
  {
   "cell_type": "markdown",
   "id": "4134296a",
   "metadata": {},
   "source": [
    "Exact Diognalisation hamiltonian."
   ]
  },
  {
   "cell_type": "code",
   "execution_count": 13,
   "id": "41d1ccfd",
   "metadata": {},
   "outputs": [],
   "source": [
    "Hamiltonian, K, V = hamiltonian_dense(state, site, g)\n",
    "\n",
    "H = Hamiltonian\n",
    "\n",
    "eig_val_ED, eig_vec_ED = np.linalg.eigh(H) # produces the solutions to the hamiltonian with energys and associated wavefunctions."
   ]
  },
  {
   "cell_type": "markdown",
   "id": "f503c9fc",
   "metadata": {},
   "source": [
    "Natural Orbitals hamiltonian."
   ]
  },
  {
   "cell_type": "code",
   "execution_count": 14,
   "id": "ed4720eb",
   "metadata": {},
   "outputs": [],
   "source": [
    "H, K, V = hamiltonian_general_dense(state, site, g)\n",
    "\n",
    "eig_val_NO, eig_vec_NO = np.linalg.eigh(H) # produces the solutions to the hamiltonian with energys and associated wavefunctions."
   ]
  },
  {
   "cell_type": "markdown",
   "id": "5d93d7cc",
   "metadata": {},
   "source": [
    "A way to check the NO with ED we can check the first #states biggest energyes and eigenstates."
   ]
  },
  {
   "cell_type": "code",
   "execution_count": 15,
   "id": "ee8c0324",
   "metadata": {},
   "outputs": [
    {
     "data": {
      "text/plain": [
       "False"
      ]
     },
     "execution_count": 15,
     "metadata": {},
     "output_type": "execute_result"
    }
   ],
   "source": [
    "index_ED = np.argsort(-eig_val_ED)\n",
    "index_NO = np.argsort(-eig_val_NO)\n",
    "\n",
    "# Makes a change of basis matrix.\n",
    "np.array_equal(eig_vec_ED[:, index_ED[:state]], eig_vec_NO[:, index_NO[:state]])"
   ]
  },
  {
   "cell_type": "code",
   "execution_count": 18,
   "id": "64898e80",
   "metadata": {},
   "outputs": [
    {
     "data": {
      "text/plain": [
       "array([75.003729325757, 75.003729325757, 75.001513456434, 75.001513456434, 75.001513456434, 75.001513456434, 75.001513456434, 75.001513456434, 66.189688856973, 66.189688856973, 66.189688856973])"
      ]
     },
     "execution_count": 18,
     "metadata": {},
     "output_type": "execute_result"
    }
   ],
   "source": [
    "eig_val_ED[index_ED[:state]]"
   ]
  },
  {
   "cell_type": "code",
   "execution_count": 17,
   "id": "2c65bec9",
   "metadata": {},
   "outputs": [
    {
     "data": {
      "text/plain": [
       "array([75.003729325757, 75.003729325756, 75.001513456434, 75.001513456434, 75.001513456434, 75.001513456434, 75.001513456434, 75.001513456434, 66.189688856973, 66.189688856973, 66.189688856973])"
      ]
     },
     "execution_count": 17,
     "metadata": {},
     "output_type": "execute_result"
    }
   ],
   "source": [
    "eig_val_NO[index_NO[:state]]"
   ]
  },
  {
   "cell_type": "code",
   "execution_count": 19,
   "id": "f195c101",
   "metadata": {},
   "outputs": [
    {
     "data": {
      "text/plain": [
       "array([[-0.            +0.j, -0.            +0.j, -0.            +0.j, ...,  0.            +0.j, -0.            +0.j,  0.            +0.j],\n",
       "       [-0.            +0.j, -0.            +0.j,  0.            +0.j, ..., -0.            +0.j,  0.            +0.j,  0.            +0.j],\n",
       "       [ 0.            +0.j, -0.            +0.j,  0.            +0.j, ...,  0.            +0.j, -0.            +0.j, -0.            +0.j],\n",
       "       ...,\n",
       "       [-0.            +0.j, -0.            +0.j, -0.            +0.j, ...,  0.            +0.j,  0.            +0.j,  0.            +0.j],\n",
       "       [-0.000000000001+0.j, -0.000000000007+0.j, -0.91046154519 +0.j, ..., -0.            +0.j, -0.            +0.j, -0.            +0.j],\n",
       "       [ 0.001492357015+0.j, -0.999895866921+0.j, -0.            +0.j, ..., -0.            +0.j,  0.            +0.j,  0.            +0.j]], shape=(1331, 11))"
      ]
     },
     "execution_count": 19,
     "metadata": {},
     "output_type": "execute_result"
    }
   ],
   "source": [
    "eig_vec_ED[:, index_ED[:state]]"
   ]
  },
  {
   "cell_type": "code",
   "execution_count": 20,
   "id": "a0cafb47",
   "metadata": {},
   "outputs": [
    {
     "data": {
      "text/plain": [
       "array([[ 0.            +0.j, -0.            +0.j, -0.            +0.j, ...,  0.            +0.j, -0.            +0.j, -0.            +0.j],\n",
       "       [-0.            +0.j, -0.            +0.j, -0.            +0.j, ..., -0.            +0.j,  0.            +0.j,  0.            +0.j],\n",
       "       [ 0.            +0.j, -0.            +0.j,  0.            +0.j, ..., -0.            +0.j,  0.            +0.j,  0.            +0.j],\n",
       "       ...,\n",
       "       [ 0.            +0.j, -0.            +0.j,  0.            +0.j, ..., -0.32988280112 +0.j, -0.000000250166+0.j, -0.054590162904+0.j],\n",
       "       [-0.272429254153+0.j, -0.419202412339+0.j,  0.076034323134+0.j, ..., -0.000000000001+0.j,  0.            +0.j, -0.000000000001+0.j],\n",
       "       [ 0.419202410484+0.j, -0.272429252892+0.j,  0.267566110008+0.j, ...,  0.            +0.j,  0.000000000002+0.j,  0.            +0.j]], shape=(1331, 11))"
      ]
     },
     "execution_count": 20,
     "metadata": {},
     "output_type": "execute_result"
    }
   ],
   "source": [
    "eig_vec_NO[:, index_NO[:state]]"
   ]
  },
  {
   "cell_type": "code",
   "execution_count": null,
   "id": "5c6e6431",
   "metadata": {},
   "outputs": [],
   "source": []
  }
 ],
 "metadata": {
  "kernelspec": {
   "display_name": ".venv",
   "language": "python",
   "name": "python3"
  },
  "language_info": {
   "codemirror_mode": {
    "name": "ipython",
    "version": 3
   },
   "file_extension": ".py",
   "mimetype": "text/x-python",
   "name": "python",
   "nbconvert_exporter": "python",
   "pygments_lexer": "ipython3",
   "version": "3.13.4"
  }
 },
 "nbformat": 4,
 "nbformat_minor": 5
}
