{
 "cells": [
  {
   "cell_type": "code",
   "execution_count": 1,
   "id": "0fff833e",
   "metadata": {},
   "outputs": [],
   "source": [
    "import numpy as np\n",
    "import scipy.sparse as sp\n",
    "import os\n",
    "import opt_einsum as oe\n",
    "np.set_printoptions(suppress = True, linewidth = 1500, threshold = 10000, precision = 12)\n",
    "\n",
    "# Old model periodic\n",
    "from quant_rotor.core.dense.t_amplitudes_periodic import t_periodic as tpreiodic_old\n",
    "\n",
    "# New model periodic\n",
    "from quant_rotor.core.dense.t_amplitudes_periodic_fast import t_periodic as tpreiodic_dense_new\n",
    "from quant_rotor.core.sparse.t_amplitudes_periodic_fast import t_periodic as tpreiodic_sparse_new_check\n",
    "\n",
    "# Old model non-peiodic\n",
    "\n",
    "from z_non_periodic.Non_Periodic import t_non_periodic\n",
    "\n",
    "# New model non-periodic\n",
    "\n",
    "from quant_rotor.core.dense.t_amplitudes_non_periodic import t_non_periodic as t_non_preiodic_dense"
   ]
  },
  {
   "cell_type": "markdown",
   "id": "f0277aea",
   "metadata": {},
   "source": [
    "# Testing fast sparse and fast dense implementation for periodic systems."
   ]
  },
  {
   "cell_type": "code",
   "execution_count": 2,
   "id": "1fa62d94",
   "metadata": {},
   "outputs": [],
   "source": [
    "site = 5\n",
    "state = 5\n",
    "g = 0.1"
   ]
  },
  {
   "cell_type": "code",
   "execution_count": 3,
   "id": "7fd33e3a",
   "metadata": {},
   "outputs": [
    {
     "name": "stdout",
     "output_type": "stream",
     "text": [
      "Done.\n"
     ]
    },
    {
     "name": "stderr",
     "output_type": "stream",
     "text": [
      "/Users/gilfrim/Desktop/Projects/Computational_Analysis_of_Many_Rotor_Systems/.venv/lib/python3.13/site-packages/scipy/sparse/_sputils.py:147: ComplexWarning: Casting complex values to real discards the imaginary part\n",
      "  data = np.array(obj, dtype=dtype, copy=copy)\n",
      "/Users/gilfrim/Desktop/Projects/Computational_Analysis_of_Many_Rotor_Systems/.venv/lib/python3.13/site-packages/scipy/sparse/_index.py:210: SparseEfficiencyWarning: Changing the sparsity structure of a csr_matrix is expensive. lil and dok are more efficient.\n",
      "  self._set_arrayXarray(i, j, x)\n",
      "/Users/gilfrim/Desktop/Projects/Computational_Analysis_of_Many_Rotor_Systems/.venv/lib/python3.13/site-packages/scipy/sparse/_index.py:168: SparseEfficiencyWarning: Changing the sparsity structure of a csr_matrix is expensive. lil and dok are more efficient.\n",
      "  self._set_intXint(row, col, x.flat[0])\n"
     ]
    }
   ],
   "source": [
    "one_max_s, two_max_s, energy_s, t_a_i_tensor_s, t_ab_ij_tensor_s = tpreiodic_sparse_new_check(site, state, g, fast=True)"
   ]
  },
  {
   "cell_type": "code",
   "execution_count": 4,
   "id": "16840413",
   "metadata": {},
   "outputs": [
    {
     "name": "stdout",
     "output_type": "stream",
     "text": [
      "Done.\n"
     ]
    }
   ],
   "source": [
    "one_max_d, two_max_d, energy_d, t_a_i_tensor_d, t_ab_ij_tensor_d = tpreiodic_dense_new(site, state, g, fast=True)"
   ]
  },
  {
   "cell_type": "code",
   "execution_count": 5,
   "id": "343e48cc",
   "metadata": {},
   "outputs": [
    {
     "name": "stdout",
     "output_type": "stream",
     "text": [
      "[[0.+0.j 0.+0.j 0.+0.j 0.+0.j 0.+0.j]]\n"
     ]
    }
   ],
   "source": [
    "one_max_o, two_max_o, energy_o, t_a_i_tensor_o, t_ab_ij_tensor_o = tpreiodic_old(site, state, g)"
   ]
  },
  {
   "cell_type": "code",
   "execution_count": 6,
   "id": "f471aefb",
   "metadata": {},
   "outputs": [
    {
     "name": "stdout",
     "output_type": "stream",
     "text": [
      "Old to Sparse\n",
      "Dense:\n",
      "One Max: True\n",
      "Delta Two Max: 5.421010862427522e-19\n",
      "Energy: True\n",
      "t_1: True\n",
      "Max absolute difference: 0.0\n",
      "t_2: True\n",
      "Max absolute difference: 8.673617379884035e-19\n"
     ]
    }
   ],
   "source": [
    "print(\"Old to Sparse\")\n",
    "if np.array_equal(one_max_o, one_max_s):\n",
    "    print(\"Dense:\")\n",
    "    print(f\"One Max: {np.array_equal(one_max_o, one_max_s)}\")\n",
    "else:\n",
    "    print(f\"Delta One Max: {np.abs(one_max_o - one_max_s)}\")\n",
    "\n",
    "if np.array_equal(two_max_o, two_max_s):\n",
    "    print(f\"Two Max: {np.array_equal(two_max_o, two_max_s)}\")\n",
    "else:\n",
    "    print(f\"Delta Two Max: {np.abs(two_max_o - two_max_s)}\")\n",
    "\n",
    "if np.array_equal(energy_o, energy_s):\n",
    "    print(f\"Energy: {np.array_equal(energy_o, energy_s)}\")\n",
    "else:\n",
    "    print(f\"DeltaEnergy: {np.abs(energy_o - energy_s)}\")\n",
    "\n",
    "print(f\"t_1: {np.allclose(t_a_i_tensor_o[0].reshape(state-1), t_a_i_tensor_s.toarray().reshape(state-1), 1e-10)}\")\n",
    "diff = np.abs(t_a_i_tensor_s.toarray().reshape(state-1) - t_a_i_tensor_o[0].reshape(state-1))\n",
    "max_diff = np.max(diff)\n",
    "print(\"Max absolute difference:\", max_diff)\n",
    "\n",
    "print(f\"t_2: {np.allclose(t_ab_ij_tensor_o[0].reshape(site, state-1, state-1), np.array([i.toarray() for i in t_ab_ij_tensor_s]), 1e-10)}\")\n",
    "diff = np.abs(np.array([i.toarray() for i in t_ab_ij_tensor_s]) - t_ab_ij_tensor_o[0].reshape(site, state-1, state-1))\n",
    "max_diff = np.max(diff)\n",
    "print(\"Max absolute difference:\", max_diff)"
   ]
  },
  {
   "cell_type": "code",
   "execution_count": 7,
   "id": "655f07f4",
   "metadata": {},
   "outputs": [
    {
     "name": "stdout",
     "output_type": "stream",
     "text": [
      "Old to Dense\n",
      "Dense:\n",
      "One Max: True\n",
      "Delta Two Max: 5.421010862427522e-19\n",
      "Energy: True\n",
      "t_1: True\n",
      "Max absolute difference: 1.0842021724855044e-19\n",
      "t_2: True\n",
      "Max absolute difference: 1.3010426069826053e-18\n"
     ]
    }
   ],
   "source": [
    "print(\"Old to Dense\")\n",
    "\n",
    "if np.array_equal(one_max_o, one_max_d):\n",
    "    print(\"Dense:\")\n",
    "    print(f\"One Max: {np.array_equal(one_max_o, one_max_d)}\")\n",
    "else:\n",
    "    print(f\"Delta One Max: {np.abs(one_max_o - one_max_d)}\")\n",
    "\n",
    "if np.array_equal(two_max_o, two_max_d):\n",
    "    print(f\"Two Max: {np.array_equal(two_max_o, two_max_d)}\")\n",
    "else:\n",
    "    print(f\"Delta Two Max: {np.abs(two_max_o - two_max_d)}\")\n",
    "\n",
    "if np.array_equal(energy_o, energy_d):\n",
    "    print(f\"Energy: {np.array_equal(energy_o, energy_d)}\")\n",
    "else:\n",
    "    print(f\"DeltaEnergy: {np.abs(energy_o - energy_d)}\")\n",
    "\n",
    "print(f\"t_1: {np.allclose(t_a_i_tensor_o[0].reshape(state-1), t_a_i_tensor_d.reshape(state-1), 1e-10)}\")\n",
    "diff = np.abs(t_a_i_tensor_d.reshape(state-1) - t_a_i_tensor_o[0].reshape(state-1))\n",
    "max_diff = np.max(diff)\n",
    "print(\"Max absolute difference:\", max_diff)\n",
    "\n",
    "print(f\"t_2: {np.allclose(t_ab_ij_tensor_o[0].reshape(site, state-1, state-1), t_ab_ij_tensor_d, 1e-10)}\")\n",
    "diff = np.abs(t_ab_ij_tensor_d - t_ab_ij_tensor_o[0].reshape(site, state-1, state-1))\n",
    "max_diff = np.max(diff)\n",
    "print(\"Max absolute difference:\", max_diff)"
   ]
  },
  {
   "cell_type": "code",
   "execution_count": 8,
   "id": "3b64f42a",
   "metadata": {},
   "outputs": [
    {
     "name": "stdout",
     "output_type": "stream",
     "text": [
      "Sparse to Dense\n",
      "Dense:\n",
      "One Max: True\n",
      "Two Max: True\n",
      "Energy: True\n",
      "t_1: True\n",
      "Max absolute difference: 1.0842021724855044e-19\n",
      "t_2: True\n",
      "Max absolute difference: 4.336808689942018e-19\n"
     ]
    }
   ],
   "source": [
    "print(\"Sparse to Dense\")\n",
    "\n",
    "if np.array_equal(one_max_d, one_max_s):\n",
    "    print(\"Dense:\")\n",
    "    print(f\"One Max: {np.array_equal(one_max_d, one_max_s)}\")\n",
    "else:\n",
    "    print(f\"Delta One Max: {np.abs(one_max_d - one_max_s)}\")\n",
    "\n",
    "if np.array_equal(two_max_d, two_max_s):\n",
    "    print(f\"Two Max: {np.array_equal(two_max_d, two_max_s)}\")\n",
    "else:\n",
    "    print(f\"Delta Two Max: {np.abs(two_max_d - two_max_s)}\")\n",
    "\n",
    "if np.array_equal(energy_d, energy_s):\n",
    "    print(f\"Energy: {np.array_equal(energy_d, energy_s)}\")\n",
    "else:\n",
    "    print(f\"DeltaEnergy: {np.abs(energy_d - energy_s)}\")\n",
    "\n",
    "print(f\"t_1: {np.allclose(t_a_i_tensor_d.reshape(state-1), t_a_i_tensor_s.toarray().reshape(state-1), 1e-10)}\")\n",
    "diff = np.abs(t_a_i_tensor_s.toarray().reshape(state-1) - t_a_i_tensor_d.reshape(state-1))\n",
    "max_diff = np.max(diff)\n",
    "print(\"Max absolute difference:\", max_diff)\n",
    "\n",
    "print(f\"t_2: {np.allclose(t_ab_ij_tensor_d.reshape(site, state-1, state-1), np.array([i.toarray() for i in t_ab_ij_tensor_s]), 1e-10)}\")\n",
    "diff = np.abs(np.array([i.toarray() for i in t_ab_ij_tensor_s]) - t_ab_ij_tensor_d.reshape(site, state-1, state-1))\n",
    "max_diff = np.max(diff)\n",
    "print(\"Max absolute difference:\", max_diff)"
   ]
  },
  {
   "cell_type": "markdown",
   "id": "083daff1",
   "metadata": {},
   "source": [
    "# Check einsums."
   ]
  },
  {
   "cell_type": "code",
   "execution_count": 52,
   "id": "580a151f",
   "metadata": {},
   "outputs": [],
   "source": [
    "p = state\n",
    "a = state - 1\n",
    "i = 1\n",
    "\n",
    "A_old = np.random.rand(a, p).astype(np.float64)\n",
    "B_old = np.random.rand(p, i).astype(np.float64)\n",
    "\n",
    "B_new = B_old.reshape(p).astype(np.float64)\n",
    "BB = (oe.contract(\"q,s->qs\", B_new, B_new).reshape(p**2)).astype(np.float64)\n",
    "AA =(oe.contract(\"ap,bq->abpq\", A_old, A_old).reshape(a**2, p**2)).astype(np.float64)"
   ]
  },
  {
   "cell_type": "code",
   "execution_count": 53,
   "id": "25a893a1",
   "metadata": {},
   "outputs": [],
   "source": [
    "A_old_sp = sp.csr_matrix(A_old)\n",
    "\n",
    "B_new_sp = sp.csr_matrix(B_new.astype(np.float64)).reshape(p, 1)\n",
    "BB_sp = sp.csr_matrix(BB).reshape(p**2, 1)\n",
    "AA_sp = sp.csr_matrix(AA)"
   ]
  },
  {
   "cell_type": "code",
   "execution_count": 54,
   "id": "fa52ad93",
   "metadata": {},
   "outputs": [],
   "source": [
    "bb_sparse = B_new_sp @ B_new_sp.T\n",
    "\n",
    "bb_term = bb_sparse.reshape(p**2, 1)"
   ]
  },
  {
   "cell_type": "code",
   "execution_count": 55,
   "id": "bc00e2f5",
   "metadata": {},
   "outputs": [],
   "source": [
    "aa_sparse = sp.kron(A_old_sp, A_old_sp, format=\"csr\")"
   ]
  },
  {
   "cell_type": "code",
   "execution_count": 56,
   "id": "c98705b8",
   "metadata": {},
   "outputs": [
    {
     "name": "stdout",
     "output_type": "stream",
     "text": [
      "True\n",
      "True\n"
     ]
    }
   ],
   "source": [
    "print(np.array_equal(BB_sp.toarray(), bb_term.toarray()))\n",
    "print(np.array_equal(AA_sp.toarray(), aa_sparse.toarray()))"
   ]
  },
  {
   "cell_type": "markdown",
   "id": "7a6d5f46",
   "metadata": {},
   "source": [
    "## Residual single."
   ]
  },
  {
   "cell_type": "markdown",
   "id": "82964133",
   "metadata": {},
   "source": [
    "Term 1."
   ]
  },
  {
   "cell_type": "code",
   "execution_count": 57,
   "id": "950e3451",
   "metadata": {},
   "outputs": [],
   "source": [
    "R_new = np.zeros((a), dtype=np.float64)\n",
    "R_old = np.zeros((a, i), dtype=np.float64)\n",
    "R_new_dot = np.zeros((a), dtype=np.float64)\n",
    "R_new_dot_sp = sp.csr_matrix(np.zeros((a, i), dtype=np.float64))\n",
    "\n",
    "H_pq_old = H_pq_new = np.random.rand(p, p).astype(np.longdouble)\n",
    "H_pq_old_sp = sp.csr_matrix(H_pq_old)"
   ]
  },
  {
   "cell_type": "code",
   "execution_count": 58,
   "id": "bd3ac58c",
   "metadata": {},
   "outputs": [
    {
     "data": {
      "text/plain": [
       "(4, 5)"
      ]
     },
     "execution_count": 58,
     "metadata": {},
     "output_type": "execute_result"
    }
   ],
   "source": [
    "A_old_sp.shape"
   ]
  },
  {
   "cell_type": "code",
   "execution_count": 59,
   "id": "e195f9a6",
   "metadata": {},
   "outputs": [
    {
     "name": "stdout",
     "output_type": "stream",
     "text": [
      "(4, 1)\n",
      "New Einsum:\n",
      "Equal: True\n",
      "Max absolute difference: 0.0 \n",
      "\n",
      "Dot:\n",
      "Equal: True\n",
      "Max absolute difference: 0.0 \n",
      "\n",
      "Dot Sparse:\n",
      "Equal: True\n",
      "Max absolute difference: 0.0\n"
     ]
    }
   ],
   "source": [
    "R_new += oe.contract(\"ap,pq,q->a\", A_old, H_pq_new, B_new)\n",
    "R_old += oe.contract(\"ap,pq,qi->ai\", A_old, H_pq_old, B_old)\n",
    "R_new_dot += A_old @ (H_pq_old @ B_new)\n",
    "R_new_dot_sp += (A_old_sp @ (H_pq_old_sp @ B_new_sp)).toarray()\n",
    "\n",
    "print(R_new_dot_sp.shape)\n",
    "\n",
    "print(\"New Einsum:\")\n",
    "print(\"Equal:\", np.allclose(R_new, R_old.reshape(a)))\n",
    "\n",
    "diff = np.abs(R_new - R_old.reshape(a))\n",
    "max_diff = np.max(diff)\n",
    "print(\"Max absolute difference:\", max_diff, \"\\n\")\n",
    "\n",
    "print(\"Dot:\")\n",
    "print(\"Equal:\", np.allclose(R_new_dot, R_old.reshape(a)))\n",
    "\n",
    "diff = np.abs(R_new_dot - R_old.reshape(a))\n",
    "max_diff = np.max(diff)\n",
    "print(\"Max absolute difference:\", max_diff, \"\\n\")\n",
    "\n",
    "print(\"Dot Sparse:\")\n",
    "print(\"Equal:\", np.allclose(R_new_dot_sp, R_old))\n",
    "\n",
    "diff1 = np.abs(R_new_dot_sp - R_old)\n",
    "max_diff = np.max(diff1)\n",
    "print(\"Max absolute difference:\", max_diff)"
   ]
  },
  {
   "cell_type": "markdown",
   "id": "abb7118f",
   "metadata": {},
   "source": [
    "Term 2."
   ]
  },
  {
   "cell_type": "code",
   "execution_count": 60,
   "id": "14b44049",
   "metadata": {},
   "outputs": [],
   "source": [
    "R_new = np.zeros((a), dtype=np.float64)\n",
    "R_old = np.zeros((a, i), dtype=np.float64)\n",
    "R_new_dot = np.zeros((a), dtype=np.float64)\n",
    "R_new_dot_sp = sp.csr_matrix(np.zeros((a, i), dtype=np.float64))\n",
    "\n",
    "T_cd_old = np.random.rand(a, a, i, i).astype(np.longdouble)\n",
    "T_cd_new = T_cd_old.reshape(a**2)\n",
    "T_cd_new_sp = sp.csr_matrix(T_cd_new)\n",
    "\n",
    "V_cd_old = np.random.rand(p, i, a, a).astype(np.longdouble)\n",
    "V_cd_new = V_cd_old.reshape(p, a**2)\n",
    "V_cd_new_sp = sp.csr_matrix(V_cd_new)"
   ]
  },
  {
   "cell_type": "code",
   "execution_count": 61,
   "id": "42533c01",
   "metadata": {},
   "outputs": [
    {
     "name": "stdout",
     "output_type": "stream",
     "text": [
      "New Einsum:\n",
      "Equal: True\n",
      "Max absolute difference: 0.0 \n",
      "\n",
      "Dot:\n",
      "Equal: True\n",
      "Max absolute difference: 0.0 \n",
      "\n",
      "Dot Sparse:\n",
      "Equal: True\n",
      "Max absolute difference: 0.0\n"
     ]
    }
   ],
   "source": [
    "R_old += oe.contract(\"ap,plcd,cdil->ai\", A_old, V_cd_old, T_cd_old)\n",
    "R_new += oe.contract(\"ap,pC,C->a\", A_old, V_cd_new, T_cd_new)\n",
    "R_new_dot += A_old @ (V_cd_new @ T_cd_new)\n",
    "R_new_dot_sp += (A_old_sp @ (V_cd_new_sp @ T_cd_new_sp.T)).toarray()\n",
    "\n",
    "print(\"New Einsum:\")\n",
    "print(\"Equal:\", np.allclose(R_new, R_old.reshape(a)))\n",
    "\n",
    "diff = np.abs(R_new - R_old.reshape(a))\n",
    "max_diff = np.max(diff)\n",
    "print(\"Max absolute difference:\", max_diff, \"\\n\")\n",
    "\n",
    "print(\"Dot:\")\n",
    "print(\"Equal:\", np.allclose(R_new_dot, R_old.reshape(a)))\n",
    "\n",
    "diff = np.abs(R_new_dot - R_old.reshape(a))\n",
    "max_diff = np.max(diff)\n",
    "print(\"Max absolute difference:\", max_diff, \"\\n\")\n",
    "\n",
    "print(\"Dot Sparse:\")\n",
    "print(\"Equal:\", np.allclose(R_new_dot_sp, R_old))\n",
    "\n",
    "diff1 = np.abs(R_new_dot_sp - R_old)\n",
    "max_diff = np.max(diff1)\n",
    "print(\"Max absolute difference:\", max_diff)"
   ]
  },
  {
   "cell_type": "markdown",
   "id": "eeac9605",
   "metadata": {},
   "source": [
    "Term 3."
   ]
  },
  {
   "cell_type": "code",
   "execution_count": 62,
   "id": "148154ec",
   "metadata": {},
   "outputs": [],
   "source": [
    "R_new = np.zeros((a), dtype=np.float64)\n",
    "R_old = np.zeros((a, i), dtype=np.float64)\n",
    "R_new_dot = np.zeros((a), dtype=np.float64)\n",
    "R_new_dot_sp = sp.csr_matrix(np.zeros((a, i), dtype=np.float64))\n",
    "\n",
    "V_qq_old = np.random.rand(p, i, p, p)\n",
    "V_qq_new = V_qq_old.reshape(p, p**2)\n",
    "V_qq_new_sp = sp.csr_matrix(V_qq_new)"
   ]
  },
  {
   "cell_type": "code",
   "execution_count": 63,
   "id": "a6ac66d0",
   "metadata": {},
   "outputs": [
    {
     "name": "stdout",
     "output_type": "stream",
     "text": [
      "New Einsum:\n",
      "Equal: True\n",
      "Max absolute difference: 1.7763568394002505e-15 \n",
      "\n",
      "Dot:\n",
      "Equal: True\n",
      "Max absolute difference: 1.7763568394002505e-15 \n",
      "\n",
      "Dot Sparse:\n",
      "Equal: True\n",
      "Max absolute difference: 0.0\n"
     ]
    }
   ],
   "source": [
    "R_old += oe.contract(\"ap,plqs,qi,sl->ai\", A_old, V_qq_old, B_old, B_old)\n",
    "R_new += oe.contract(\"ap,pQ,Q->a\", A_old, V_qq_new, BB)\n",
    "R_new_dot += A_old @ (V_qq_new @ BB)\n",
    "R_new_dot_sp += (A_old_sp @ (V_qq_new_sp @ BB_sp)).toarray()\n",
    "\n",
    "print(\"New Einsum:\")\n",
    "print(\"Equal:\", np.allclose(R_new, R_old.reshape(a)))\n",
    "\n",
    "diff = np.abs(R_new - R_old.reshape(a))\n",
    "max_diff = np.max(diff)\n",
    "print(\"Max absolute difference:\", max_diff, \"\\n\")\n",
    "\n",
    "print(\"Dot:\")\n",
    "print(\"Equal:\", np.allclose(R_new_dot, R_old.reshape(a)))\n",
    "\n",
    "diff = np.abs(R_new_dot - R_old.reshape(a))\n",
    "max_diff = np.max(diff)\n",
    "print(\"Max absolute difference:\", max_diff, \"\\n\")\n",
    "\n",
    "print(\"Dot Sparse:\")\n",
    "print(\"Equal:\", np.allclose(R_new_dot_sp, R_old))\n",
    "\n",
    "diff1 = np.abs(R_new_dot_sp - R_old)\n",
    "max_diff = np.max(diff1)\n",
    "print(\"Max absolute difference:\", max_diff)"
   ]
  },
  {
   "cell_type": "markdown",
   "id": "a6148679",
   "metadata": {},
   "source": [
    "## Residual doulbe sym."
   ]
  },
  {
   "cell_type": "markdown",
   "id": "77cfd159",
   "metadata": {},
   "source": [
    "Term 1."
   ]
  },
  {
   "cell_type": "code",
   "execution_count": 64,
   "id": "6dea54cc",
   "metadata": {},
   "outputs": [],
   "source": [
    "R_new = np.zeros((a, a), dtype=np.float64)\n",
    "R_old = np.zeros((a, a, i, i), dtype=np.float64)\n",
    "R_new_dot = np.zeros((a, a), dtype=np.float64)\n",
    "R_new_dot_sp = sp.csr_matrix(np.zeros((a, a), dtype=np.float64))\n",
    "\n",
    "V_pqrs_old = np.random.rand(p, p, p, p).astype(np.float64)\n",
    "V_pqrs_new = V_pqrs_old.reshape(p**2, p**2)\n",
    "V_pqrs_new_sp = sp.csr_matrix(V_pqrs_new)"
   ]
  },
  {
   "cell_type": "code",
   "execution_count": 65,
   "id": "f4953e86",
   "metadata": {},
   "outputs": [
    {
     "name": "stdout",
     "output_type": "stream",
     "text": [
      "New Einsum:\n",
      "Equal: True\n",
      "Max absolute difference: 7.105427357601002e-15 \n",
      "\n",
      "Dot:\n",
      "Equal: True\n",
      "Max absolute difference: 7.105427357601002e-15 \n",
      "\n",
      "Dot Sparse:\n",
      "Equal: True\n",
      "Max absolute difference: 7.105427357601002e-15\n"
     ]
    }
   ],
   "source": [
    "R_old += oe.contract(\"ap,bq,pqrs,ri,sj->abij\", A_old, A_old, V_pqrs_old, B_old, B_old)\n",
    "R_new += oe.contract(\"BQ,QR,R->B\", AA, V_pqrs_new, BB).reshape(a, a)\n",
    "R_new_dot += (AA @ (V_pqrs_new @ BB)).reshape(a, a)\n",
    "R_new_dot_sp += ((AA_sp @ (V_pqrs_new_sp @ BB_sp)).reshape(a, a)).toarray()\n",
    "\n",
    "print(\"New Einsum:\")\n",
    "print(\"Equal:\", np.allclose(R_new, R_old.reshape(a, a)))\n",
    "\n",
    "diff = np.abs(R_new - R_old.reshape(a ,a))\n",
    "max_diff = np.max(diff)\n",
    "print(\"Max absolute difference:\", max_diff, \"\\n\")\n",
    "\n",
    "print(\"Dot:\")\n",
    "print(\"Equal:\", np.allclose(R_new_dot, R_old.reshape(a, a)))\n",
    "\n",
    "diff = np.abs(R_new_dot - R_old.reshape(a, a))\n",
    "max_diff = np.max(diff)\n",
    "print(\"Max absolute difference:\", max_diff, \"\\n\")\n",
    "\n",
    "print(\"Dot Sparse:\")\n",
    "print(\"Equal:\", np.allclose(R_new_dot_sp, R_old.reshape(a, a)))\n",
    "\n",
    "diff1 = np.abs(R_new_dot_sp - R_old.reshape(a, a))\n",
    "max_diff = np.max(diff1)\n",
    "print(\"Max absolute difference:\", max_diff)"
   ]
  },
  {
   "cell_type": "markdown",
   "id": "39336b10",
   "metadata": {},
   "source": [
    "Term 2."
   ]
  },
  {
   "cell_type": "code",
   "execution_count": 66,
   "id": "a8317663",
   "metadata": {},
   "outputs": [],
   "source": [
    "R_new = np.zeros((a, a), dtype=np.float64)\n",
    "R_old = np.zeros((a, a, i, i), dtype=np.float64)\n",
    "R_new_dot = np.zeros((a, a), dtype=np.float64)\n",
    "R_new_dot_sp = sp.csr_matrix(np.zeros((a, a), dtype=np.float64))\n",
    "\n",
    "T_0y_old = np.random.rand(a, a, i, i).astype(np.float64)\n",
    "T_0y_new = T_0y_old.reshape(a**2)\n",
    "T_0y_new_sp = sp.csr_matrix(T_0y_new)\n",
    "\n",
    "V_pqcd_old = np.random.rand(p, p, a, a).astype(np.float64)\n",
    "V_pqcd_new = V_pqcd_old.reshape(p**2, a**2)\n",
    "V_pqcd_new_sp = sp.csr_matrix(V_pqcd_new)"
   ]
  },
  {
   "cell_type": "code",
   "execution_count": 67,
   "id": "0b663c79",
   "metadata": {},
   "outputs": [
    {
     "name": "stdout",
     "output_type": "stream",
     "text": [
      "New Einsum:\n",
      "Equal: True\n",
      "Max absolute difference: 7.105427357601002e-15 \n",
      "\n",
      "Dot:\n",
      "Equal: True\n",
      "Max absolute difference: 7.105427357601002e-15 \n",
      "\n",
      "Dot Sparse:\n",
      "Equal: True\n",
      "Max absolute difference: 7.105427357601002e-15\n"
     ]
    }
   ],
   "source": [
    "R_old += oe.contract(\"ap,bq,pqcd,cdij->abij\", A_old, A_old, V_pqcd_old, T_0y_old)\n",
    "R_new += oe.contract(\"BQ,QC,C->B\", AA, V_pqcd_new, T_0y_new).reshape(a, a)\n",
    "R_new_dot += (AA @ (V_pqcd_new @ T_0y_new)).reshape(a, a)\n",
    "R_new_dot_sp += (AA_sp @ (V_pqcd_new_sp @ T_0y_new_sp.T)).reshape(a, a).toarray()\n",
    "\n",
    "print(\"New Einsum:\")\n",
    "print(\"Equal:\", np.allclose(R_new, R_old.reshape(a, a)))\n",
    "\n",
    "diff = np.abs(R_new - R_old.reshape(a ,a))\n",
    "max_diff = np.max(diff)\n",
    "print(\"Max absolute difference:\", max_diff, \"\\n\")\n",
    "\n",
    "print(\"Dot:\")\n",
    "print(\"Equal:\", np.allclose(R_new_dot, R_old.reshape(a, a)))\n",
    "\n",
    "diff = np.abs(R_new_dot - R_old.reshape(a, a))\n",
    "max_diff = np.max(diff)\n",
    "print(\"Max absolute difference:\", max_diff, \"\\n\")\n",
    "\n",
    "print(\"Dot Sparse:\")\n",
    "print(\"Equal:\", np.allclose(R_new_dot_sp, R_old.reshape(a, a)))\n",
    "\n",
    "diff1 = np.abs(R_new_dot_sp - R_old.reshape(a, a))\n",
    "max_diff = np.max(diff1)\n",
    "print(\"Max absolute difference:\", max_diff)"
   ]
  },
  {
   "cell_type": "markdown",
   "id": "8bf70834",
   "metadata": {},
   "source": [
    "Term 3."
   ]
  },
  {
   "cell_type": "code",
   "execution_count": 68,
   "id": "bcf90118",
   "metadata": {},
   "outputs": [],
   "source": [
    "R_new = np.zeros((a, a), dtype=np.float64)\n",
    "R_old = np.zeros((a, a, i, i), dtype=np.float64)\n",
    "R_new_dot = np.zeros((a, a), dtype=np.float64)\n",
    "R_new_dot_sp = sp.csr_matrix(np.zeros((a, a), dtype=np.float64))\n",
    "\n",
    "V_klpq_old = np.random.rand(i, i, p, p)\n",
    "V_klpq_new = V_klpq_old.reshape(p, p)\n",
    "V_klpq_new_sp = sp.csr_matrix(V_klpq_new)\n",
    "\n",
    "T_0y_new_3 = T_0y_old.reshape(a, a)\n",
    "T_0y_new_3_sp = sp.csr_matrix(T_0y_new_3)"
   ]
  },
  {
   "cell_type": "code",
   "execution_count": 69,
   "id": "f8b481f9",
   "metadata": {},
   "outputs": [
    {
     "name": "stdout",
     "output_type": "stream",
     "text": [
      "New Einsum:\n",
      "Equal: True\n",
      "Max absolute difference: 0.0 \n",
      "\n",
      "Dot:\n",
      "Equal: True\n",
      "Max absolute difference: 0.0 \n",
      "\n",
      "Dot Sparse:\n",
      "Equal: True\n",
      "Max absolute difference: 0.0\n"
     ]
    }
   ],
   "source": [
    "R_old -= oe.contract(\"abkl,klpq,pi,qj->abij\", T_0y_old, V_klpq_old, B_old, B_old)\n",
    "R_new -= oe.contract(\"ab,pq,p,q->ab\", T_0y_new_3, V_klpq_new, B_new, B_new)\n",
    "R_new_dot -= T_0y_new_3 * ((V_klpq_new @ B_new) @ B_new)\n",
    "R_new_dot_sp -= (T_0y_new_3_sp * ((V_klpq_new_sp @ B_new_sp).T @ B_new_sp)[0 ,0]).toarray()\n",
    "\n",
    "print(\"New Einsum:\")\n",
    "print(\"Equal:\", np.allclose(R_new, R_old.reshape(a, a)))\n",
    "\n",
    "diff = np.abs(R_new - R_old.reshape(a ,a))\n",
    "max_diff = np.max(diff)\n",
    "print(\"Max absolute difference:\", max_diff, \"\\n\")\n",
    "\n",
    "print(\"Dot:\")\n",
    "print(\"Equal:\", np.allclose(R_new_dot, R_old.reshape(a, a)))\n",
    "\n",
    "diff = np.abs(R_new_dot - R_old.reshape(a, a))\n",
    "max_diff = np.max(diff)\n",
    "print(\"Max absolute difference:\", max_diff, \"\\n\")\n",
    "\n",
    "print(\"Dot Sparse:\")\n",
    "print(\"Equal:\", np.allclose(R_new_dot_sp, R_old.reshape(a, a)))\n",
    "\n",
    "diff1 = np.abs(R_new_dot_sp - R_old.reshape(a, a))\n",
    "max_diff = np.max(diff1)\n",
    "print(\"Max absolute difference:\", max_diff)"
   ]
  },
  {
   "cell_type": "markdown",
   "id": "fad789ef",
   "metadata": {},
   "source": [
    "Term 4."
   ]
  },
  {
   "cell_type": "code",
   "execution_count": 70,
   "id": "6bdcbb92",
   "metadata": {},
   "outputs": [],
   "source": [
    "R_new = np.zeros((a, a), dtype=np.float64)\n",
    "R_old = np.zeros((a, a, i, i), dtype=np.float64)\n",
    "R_new_dot = np.zeros((a, a), dtype=np.float64)\n",
    "R_new_dot_sp = sp.csr_matrix(np.zeros((a, a), dtype=np.float64))\n",
    "\n",
    "T_0y_new_3 = T_0y_old.reshape(a, a)\n",
    "T_0y_new_3_sp = sp.csr_matrix(T_0y_new_3)\n",
    "\n",
    "V_klcd_old = np.random.rand(i, i, a, a)\n",
    "V_klcd_new = V_klcd_old.reshape(a, a)\n",
    "V_klcd_new_sp = sp.csr_matrix(V_klcd_new)"
   ]
  },
  {
   "cell_type": "code",
   "execution_count": 71,
   "id": "bc1da7fe",
   "metadata": {},
   "outputs": [
    {
     "name": "stdout",
     "output_type": "stream",
     "text": [
      "New Einsum:\n",
      "Equal: True\n",
      "Max absolute difference: 0.0 \n",
      "\n",
      "Dot:\n",
      "Equal: True\n",
      "Max absolute difference: 0.0 \n",
      "\n",
      "Dot Sparse:\n",
      "Equal: True\n",
      "Max absolute difference: 0.0\n"
     ]
    }
   ],
   "source": [
    "R_old -= oe.contract(\"abkl,klcd,cdij->abij\", T_0y_old, V_klcd_old, T_0y_old)\n",
    "R_new -= oe.contract(\"ab,cd,cd->ab\", T_0y_new_3, V_klcd_new, T_0y_new_3)\n",
    "R_new_dot -= T_0y_new_3 * np.sum(V_klcd_new * T_0y_new_3)\n",
    "R_new_dot_sp -= (T_0y_new_3_sp * np.sum(V_klcd_new_sp.multiply(T_0y_new_3_sp))).toarray()\n",
    "\n",
    "print(\"New Einsum:\")\n",
    "print(\"Equal:\", np.allclose(R_new, R_old.reshape(a, a)))\n",
    "\n",
    "diff = np.abs(R_new - R_old.reshape(a ,a))\n",
    "max_diff = np.max(diff)\n",
    "print(\"Max absolute difference:\", max_diff, \"\\n\")\n",
    "\n",
    "print(\"Dot:\")\n",
    "print(\"Equal:\", np.allclose(R_new_dot, R_old.reshape(a, a)))\n",
    "\n",
    "diff = np.abs(R_new_dot - R_old.reshape(a, a))\n",
    "max_diff = np.max(diff)\n",
    "print(\"Max absolute difference:\", max_diff, \"\\n\")\n",
    "\n",
    "print(\"Dot Sparse:\")\n",
    "print(\"Equal:\", np.allclose(R_new_dot_sp, R_old.reshape(a, a)))\n",
    "\n",
    "diff1 = np.abs(R_new_dot_sp - R_old.reshape(a, a))\n",
    "max_diff = np.max(diff1)\n",
    "print(\"Max absolute difference:\", max_diff)"
   ]
  },
  {
   "cell_type": "markdown",
   "id": "84cea25a",
   "metadata": {},
   "source": [
    "Term 5."
   ]
  },
  {
   "cell_type": "code",
   "execution_count": 72,
   "id": "f4420e22",
   "metadata": {},
   "outputs": [],
   "source": [
    "R_new = np.zeros((a, a), dtype=np.float64)\n",
    "R_old = np.zeros((a, a, i, i), dtype=np.float64)\n",
    "R_new_dot = np.zeros((a, a), dtype=np.float64)\n",
    "R_new_dot_sp = sp.csr_matrix(np.zeros((a, a), dtype=np.float64))\n",
    "\n",
    "V_klcd_old = np.random.rand(i, i, a, a)\n",
    "V_klcd_new = V_klcd_old.reshape(a, a)\n",
    "V_klcd_new_sp = sp.csr_matrix(V_klcd_new)\n",
    "\n",
    "T_0z_old = np.random.rand(a, a, i, i)\n",
    "T_0z_new = T_0z_old.reshape(a, a)\n",
    "T_0z_new_sp = sp.csr_matrix(T_0z_new)\n",
    "\n",
    "T_yw_old = np.random.rand(a, a, i, i)\n",
    "T_yw_new = T_yw_old.reshape(a, a)\n",
    "T_yw_new_sp = sp.csr_matrix(T_yw_new)"
   ]
  },
  {
   "cell_type": "code",
   "execution_count": 73,
   "id": "62fcfc66",
   "metadata": {},
   "outputs": [
    {
     "name": "stdout",
     "output_type": "stream",
     "text": [
      "New Einsum:\n",
      "Equal: True\n",
      "Max absolute difference: 0.0 \n",
      "\n",
      "Dot:\n",
      "Equal: True\n",
      "Max absolute difference: 0.0 \n",
      "\n",
      "Dot Sparse:\n",
      "Equal: True\n",
      "Max absolute difference: 8.881784197001252e-16\n"
     ]
    }
   ],
   "source": [
    "R_old += oe.contract(\"klcd,acik,bdjl->abij\", V_klcd_old, T_0z_old, T_yw_old)\n",
    "R_new += oe.contract(\"cd,ac,bd->ab\", V_klcd_new, T_0z_new, T_yw_new)\n",
    "R_new_dot += T_0z_new @ V_klcd_new @ T_yw_new.T\n",
    "R_new_dot_sp += (T_0z_new_sp @ V_klcd_new_sp @ T_yw_new_sp.T).toarray()\n",
    "\n",
    "print(\"New Einsum:\")\n",
    "print(\"Equal:\", np.allclose(R_new, R_old.reshape(a, a)))\n",
    "\n",
    "diff = np.abs(R_new - R_old.reshape(a ,a))\n",
    "max_diff = np.max(diff)\n",
    "print(\"Max absolute difference:\", max_diff, \"\\n\")\n",
    "\n",
    "print(\"Dot:\")\n",
    "print(\"Equal:\", np.allclose(R_new_dot, R_old.reshape(a, a)))\n",
    "\n",
    "diff = np.abs(R_new_dot - R_old.reshape(a, a))\n",
    "max_diff = np.max(diff)\n",
    "print(\"Max absolute difference:\", max_diff, \"\\n\")\n",
    "\n",
    "print(\"Dot Sparse:\")\n",
    "print(\"Equal:\", np.allclose(R_new_dot_sp, R_old.reshape(a, a)))\n",
    "\n",
    "diff1 = np.abs(R_new_dot_sp - R_old.reshape(a, a))\n",
    "max_diff = np.max(diff1)\n",
    "print(\"Max absolute difference:\", max_diff)"
   ]
  },
  {
   "cell_type": "markdown",
   "id": "9c4de467",
   "metadata": {},
   "source": [
    "## Residual double sym 1."
   ]
  },
  {
   "cell_type": "markdown",
   "id": "7704d6a9",
   "metadata": {},
   "source": [
    "Term 1."
   ]
  },
  {
   "cell_type": "code",
   "execution_count": 74,
   "id": "474d2b66",
   "metadata": {},
   "outputs": [],
   "source": [
    "R_new = np.zeros((a, a), dtype=np.float64)\n",
    "R_old = np.zeros((a, a, i, i), dtype=np.float64)\n",
    "R_new_dot = np.zeros((a, a), dtype=np.float64)\n",
    "R_new_dot_sp = sp.csr_matrix(np.zeros((a, a), dtype=np.float64))\n",
    "\n",
    "h_pa = np.random.rand(p, a)\n",
    "h_pa_new = h_pa\n",
    "h_pa_new_sp = sp.csr_matrix(h_pa)\n",
    "\n",
    "T_xy_old = np.random.rand(a, a, i, i)\n",
    "T_xy_new = T_xy_old.reshape(a, a)\n",
    "T_xy_new_sp = sp.csr_matrix(T_xy_new)"
   ]
  },
  {
   "cell_type": "code",
   "execution_count": 75,
   "id": "0b91ba84",
   "metadata": {},
   "outputs": [
    {
     "name": "stdout",
     "output_type": "stream",
     "text": [
      "New Einsum:\n",
      "Equal: True\n",
      "Max absolute difference: 0.0 \n",
      "\n",
      "Dot:\n",
      "Equal: True\n",
      "Max absolute difference: 2.220446049250313e-16 \n",
      "\n",
      "Dot Sparse:\n",
      "Equal: True\n",
      "Max absolute difference: 4.440892098500626e-16\n"
     ]
    }
   ],
   "source": [
    "R_old += oe.contract(\"ap,pc,cbij->abij\", A_old, h_pa, T_xy_old)\n",
    "R_new += oe.contract(\"ap,pc,cb->ab\", A_old, h_pa, T_xy_new)\n",
    "R_new_dot += A_old @ h_pa_new @ T_xy_new\n",
    "R_new_dot_sp += (A_old_sp @ h_pa_new_sp @ T_xy_new_sp).toarray()\n",
    "\n",
    "print(\"New Einsum:\")\n",
    "print(\"Equal:\", np.allclose(R_new, R_old.reshape(a, a)))\n",
    "\n",
    "diff = np.abs(R_new - R_old.reshape(a ,a))\n",
    "max_diff = np.max(diff)\n",
    "print(\"Max absolute difference:\", max_diff, \"\\n\")\n",
    "\n",
    "print(\"Dot:\")\n",
    "print(\"Equal:\", np.allclose(R_new_dot, R_old.reshape(a, a)))\n",
    "\n",
    "diff = np.abs(R_new_dot - R_old.reshape(a, a))\n",
    "max_diff = np.max(diff)\n",
    "print(\"Max absolute difference:\", max_diff, \"\\n\")\n",
    "\n",
    "print(\"Dot Sparse:\")\n",
    "print(\"Equal:\", np.allclose(R_new_dot_sp, R_old.reshape(a, a)))\n",
    "\n",
    "diff1 = np.abs(R_new_dot_sp - R_old.reshape(a, a))\n",
    "max_diff = np.max(diff1)\n",
    "print(\"Max absolute difference:\", max_diff)"
   ]
  },
  {
   "cell_type": "markdown",
   "id": "64d7b5e9",
   "metadata": {},
   "source": [
    "Term 2."
   ]
  },
  {
   "cell_type": "code",
   "execution_count": 76,
   "id": "5cdefa34",
   "metadata": {},
   "outputs": [],
   "source": [
    "R_new = np.zeros((a, a), dtype=np.float64)\n",
    "R_old = np.zeros((a, a, i, i), dtype=np.float64)\n",
    "R_new_dot = np.zeros((a, a), dtype=np.float64)\n",
    "R_new_dot_sp = sp.csr_matrix(np.zeros((a, a), dtype=np.float64))\n",
    "\n",
    "h_ip_old = np.random.rand(i, p)\n",
    "h_ip_new = h_ip_old.reshape(p)\n",
    "h_ip_new_sp = sp.csr_matrix(h_ip_new)\n",
    "\n",
    "T_xy_old = np.random.rand(a, a, i, i)\n",
    "T_xy_new = T_xy_old.reshape(a, a)\n",
    "T_xy_new_sp = sp.csr_matrix(T_xy_new)"
   ]
  },
  {
   "cell_type": "code",
   "execution_count": 77,
   "id": "ff614b82",
   "metadata": {},
   "outputs": [
    {
     "name": "stdout",
     "output_type": "stream",
     "text": [
      "New Einsum:\n",
      "Equal: True\n",
      "Max absolute difference: 0.0 \n",
      "\n",
      "Dot:\n",
      "Equal: True\n",
      "Max absolute difference: 0.0 \n",
      "\n",
      "Dot Sparse:\n",
      "Equal: True\n",
      "Max absolute difference: 0.0\n"
     ]
    }
   ],
   "source": [
    "R_old -= oe.contract(\"abkj,kp,pi->abij\", T_xy_old, h_ip_old, B_old)\n",
    "R_new -= oe.contract(\"ab,p,p->ab\", T_xy_new, h_ip_new, B_new)\n",
    "R_new_dot -= T_xy_new * (h_ip_new @ B_new)\n",
    "R_new_dot_sp -= (T_xy_new_sp * (h_ip_new_sp @ B_new_sp)[0,0]).toarray()\n",
    "\n",
    "print(\"New Einsum:\")\n",
    "print(\"Equal:\", np.allclose(R_new, R_old.reshape(a, a)))\n",
    "\n",
    "diff = np.abs(R_new - R_old.reshape(a ,a))\n",
    "max_diff = np.max(diff)\n",
    "print(\"Max absolute difference:\", max_diff, \"\\n\")\n",
    "\n",
    "print(\"Dot:\")\n",
    "print(\"Equal:\", np.allclose(R_new_dot, R_old.reshape(a, a)))\n",
    "\n",
    "diff = np.abs(R_new_dot - R_old.reshape(a, a))\n",
    "max_diff = np.max(diff)\n",
    "print(\"Max absolute difference:\", max_diff, \"\\n\")\n",
    "\n",
    "print(\"Dot Sparse:\")\n",
    "print(\"Equal:\", np.allclose(R_new_dot_sp, R_old.reshape(a, a)))\n",
    "\n",
    "diff1 = np.abs(R_new_dot_sp - R_old.reshape(a, a))\n",
    "max_diff = np.max(diff1)\n",
    "print(\"Max absolute difference:\", max_diff)"
   ]
  },
  {
   "cell_type": "markdown",
   "id": "226737da",
   "metadata": {},
   "source": [
    "Term 3."
   ]
  },
  {
   "cell_type": "code",
   "execution_count": 78,
   "id": "90cc31ad",
   "metadata": {},
   "outputs": [],
   "source": [
    "R_new = np.zeros((a, a), dtype=np.float64)\n",
    "R_old = np.zeros((a, a, i, i), dtype=np.float64)\n",
    "R_new_dot = np.zeros((a, a), dtype=np.float64)\n",
    "R_new_dot_sp = sp.csr_matrix(np.zeros((a, a), dtype=np.float64))\n",
    "\n",
    "T_xz_old = np.random.rand(a, a, i, i).astype(np.float64)\n",
    "T_xz_new = T_xz_old.reshape(a, a)\n",
    "T_xz_new_sp = sp.csr_matrix(T_xz_new)\n",
    "\n",
    "V_ipap_old = np.random.rand(i, p, a, p).astype(np.float64)\n",
    "V_ipap_new = V_ipap_old.reshape(p, a, p)\n",
    "V_ipap_new_sp = sp.csr_matrix(V_ipap_new.reshape(p*a, p))"
   ]
  },
  {
   "cell_type": "code",
   "execution_count": 79,
   "id": "b82a944c",
   "metadata": {},
   "outputs": [
    {
     "name": "stdout",
     "output_type": "stream",
     "text": [
      "New Einsum:\n",
      "Equal: True\n",
      "Max absolute difference: 0.0 \n",
      "\n",
      "Dot:\n",
      "Equal: True\n",
      "Max absolute difference: 1.7763568394002505e-15 \n",
      "\n",
      "Dot Sparse:\n",
      "Equal: True\n",
      "Max absolute difference: 1.7763568394002505e-15\n"
     ]
    }
   ],
   "source": [
    "R_old += oe.contract(\"acik,krcs,br,sj->abij\", T_xz_old, V_ipap_old, A_old, B_old)\n",
    "R_new += oe.contract(\"ac,rcs,br,s->ab\", T_xz_new, V_ipap_new, A_old, B_new)\n",
    "R_new_dot += T_xz_new @ (A_old @ (V_ipap_new.reshape(p*a, p) @ B_new).reshape(p, a)).T\n",
    "R_new_dot_sp += (T_xz_new_sp @ (A_old_sp @ (V_ipap_new_sp @ B_new_sp).reshape(p, a)).T).toarray()\n",
    "\n",
    "print(\"New Einsum:\")\n",
    "print(\"Equal:\", np.allclose(R_new, R_old.reshape(a, a)))\n",
    "\n",
    "diff = np.abs(R_new - R_old.reshape(a ,a))\n",
    "max_diff = np.max(diff)\n",
    "print(\"Max absolute difference:\", max_diff, \"\\n\")\n",
    "\n",
    "print(\"Dot:\")\n",
    "print(\"Equal:\", np.allclose(R_new_dot, R_old.reshape(a, a)))\n",
    "\n",
    "diff = np.abs(R_new_dot - R_old.reshape(a, a))\n",
    "max_diff = np.max(diff)\n",
    "print(\"Max absolute difference:\", max_diff, \"\\n\")\n",
    "\n",
    "print(\"Dot Sparse:\")\n",
    "print(\"Equal:\", np.allclose(R_new_dot_sp, R_old.reshape(a, a)))\n",
    "\n",
    "diff1 = np.abs(R_new_dot_sp - R_old.reshape(a, a))\n",
    "max_diff = np.max(diff1)\n",
    "print(\"Max absolute difference:\", max_diff)"
   ]
  },
  {
   "cell_type": "markdown",
   "id": "fc29b533",
   "metadata": {},
   "source": [
    "Term 4."
   ]
  },
  {
   "cell_type": "code",
   "execution_count": 80,
   "id": "869ee321",
   "metadata": {},
   "outputs": [],
   "source": [
    "R_new = np.zeros((a, a), dtype=np.float64)\n",
    "R_old = np.zeros((a, a, i, i), dtype=np.float64)\n",
    "R_new_dot = np.zeros((a, a), dtype=np.float64)\n",
    "R_new_dot_sp = sp.csr_matrix(np.zeros((a, a), dtype=np.float64))\n",
    "\n",
    "T_cb_old = np.random.rand(a, a, i, i)\n",
    "T_cb_new = T_cb_old.reshape(a, a)\n",
    "T_cb_new_sp = sp.csr_matrix(T_cb_new)\n",
    "\n",
    "V_piap_old = np.random.rand(p, i, a, p)\n",
    "V_piap_new = V_piap_old.reshape(p, a, p)\n",
    "V_piap_new_sp = sp.csr_matrix(V_piap_new.reshape(p*a, p))"
   ]
  },
  {
   "cell_type": "code",
   "execution_count": 81,
   "id": "2561be0c",
   "metadata": {},
   "outputs": [
    {
     "name": "stdout",
     "output_type": "stream",
     "text": [
      "New Einsum:\n",
      "Equal: True\n",
      "Max absolute difference: 1.7763568394002505e-15 \n",
      "\n",
      "Dot:\n",
      "Equal: True\n",
      "Max absolute difference: 1.7763568394002505e-15 \n",
      "\n",
      "Dot Sparse:\n",
      "Equal: True\n",
      "Max absolute difference: 1.7763568394002505e-15\n"
     ]
    }
   ],
   "source": [
    "R_old += oe.contract(\"bq,qlds,adij,sl->abij\", A_old, V_piap_old, T_cb_old, B_old)\n",
    "R_new += oe.contract(\"bq,qds,ad,s->ab\", A_old, V_piap_new, T_cb_new, B_new)\n",
    "R_new_dot += T_cb_new @ (A_old @ (V_piap_new.reshape(p*a, p) @ B_new).reshape(p, a)).T\n",
    "R_new_dot_sp += (T_cb_new_sp @ (A_old_sp @ (V_piap_new_sp @ B_new_sp).reshape(p, a)).T).toarray()\n",
    "\n",
    "print(\"New Einsum:\")\n",
    "print(\"Equal:\", np.allclose(R_new, R_old.reshape(a, a)))\n",
    "\n",
    "diff = np.abs(R_new - R_old.reshape(a ,a))\n",
    "max_diff = np.max(diff)\n",
    "print(\"Max absolute difference:\", max_diff, \"\\n\")\n",
    "\n",
    "print(\"Dot:\")\n",
    "print(\"Equal:\", np.allclose(R_new_dot, R_old.reshape(a, a)))\n",
    "\n",
    "diff = np.abs(R_new_dot - R_old.reshape(a, a))\n",
    "max_diff = np.max(diff)\n",
    "print(\"Max absolute difference:\", max_diff, \"\\n\")\n",
    "\n",
    "print(\"Dot Sparse:\")\n",
    "print(\"Equal:\", np.allclose(R_new_dot_sp, R_old.reshape(a, a)))\n",
    "\n",
    "diff1 = np.abs(R_new_dot_sp - R_old.reshape(a, a))\n",
    "max_diff = np.max(diff1)\n",
    "print(\"Max absolute difference:\", max_diff)"
   ]
  },
  {
   "cell_type": "markdown",
   "id": "3d053629",
   "metadata": {},
   "source": [
    "Term 5."
   ]
  },
  {
   "cell_type": "code",
   "execution_count": 82,
   "id": "84ec5ca8",
   "metadata": {},
   "outputs": [],
   "source": [
    "R_new = np.zeros((a, a), dtype=np.float64)\n",
    "R_old = np.zeros((a, a, i, i), dtype=np.float64)\n",
    "R_new_dot = np.zeros((a, a), dtype=np.float64)\n",
    "R_new_dot_sp = sp.csr_matrix(np.zeros((a, a), dtype=np.float64))\n",
    "\n",
    "T_cb_old = np.random.rand(a, a, i, i)\n",
    "T_cb_new = T_cb_old.reshape(a, a)\n",
    "T_cb_new_sp = sp.csr_matrix(T_cb_new)\n",
    "\n",
    "V_iipp_old = np.random.rand(i, i, p, p)\n",
    "V_iipp_new = V_iipp_old.reshape(p, p)\n",
    "V_iipp_new_sp = sp.csr_matrix(V_iipp_new)"
   ]
  },
  {
   "cell_type": "code",
   "execution_count": 83,
   "id": "412c6f3a",
   "metadata": {},
   "outputs": [
    {
     "name": "stdout",
     "output_type": "stream",
     "text": [
      "New Einsum:\n",
      "Equal: True\n",
      "Max absolute difference: 4.440892098500626e-16 \n",
      "\n",
      "Dot:\n",
      "Equal: True\n",
      "Max absolute difference: 4.440892098500626e-16 \n",
      "\n",
      "Dot Sparse:\n",
      "Equal: True\n",
      "Max absolute difference: 4.440892098500626e-16\n"
     ]
    }
   ],
   "source": [
    "R_old -= oe.contract(\"abkj,lkrp,pi,rl->abij\", T_cb_old, V_iipp_old, B_old, B_old)\n",
    "R_new -= oe.contract(\"ab,rp,p,r->ab\", T_cb_new, V_iipp_new, B_new, B_new)\n",
    "R_new_dot -= T_cb_new *((V_iipp_new @ B_new) @ B_new)\n",
    "R_new_dot_sp -= (T_cb_new_sp *((V_iipp_new_sp @ B_new_sp).T @ B_new_sp)[0, 0]).toarray()\n",
    "\n",
    "print(\"New Einsum:\")\n",
    "print(\"Equal:\", np.allclose(R_new, R_old.reshape(a, a)))\n",
    "\n",
    "diff = np.abs(R_new - R_old.reshape(a ,a))\n",
    "max_diff = np.max(diff)\n",
    "print(\"Max absolute difference:\", max_diff, \"\\n\")\n",
    "\n",
    "print(\"Dot:\")\n",
    "print(\"Equal:\", np.allclose(R_new_dot, R_old.reshape(a, a)))\n",
    "\n",
    "diff = np.abs(R_new_dot - R_old.reshape(a, a))\n",
    "max_diff = np.max(diff)\n",
    "print(\"Max absolute difference:\", max_diff, \"\\n\")\n",
    "\n",
    "print(\"Dot Sparse:\")\n",
    "print(\"Equal:\", np.allclose(R_new_dot_sp, R_old.reshape(a, a)))\n",
    "\n",
    "diff1 = np.abs(R_new_dot_sp - R_old.reshape(a, a))\n",
    "max_diff = np.max(diff1)\n",
    "print(\"Max absolute difference:\", max_diff)"
   ]
  },
  {
   "cell_type": "code",
   "execution_count": 84,
   "id": "c7ca3376",
   "metadata": {},
   "outputs": [],
   "source": [
    "\n",
    "    # # h terms\n",
    "    # if np.array_equal(terms.h_pp.toarray(), qs.h_term(p, p)):\n",
    "    #     print(\"h_pp match: True\")\n",
    "    # else:\n",
    "    #     print(\"h_pp mismatch:\")\n",
    "    #     print(np.abs(terms.h_pp.toarray() - qs.h_term(p, p)))\n",
    "\n",
    "    # if np.array_equal(terms.h_pa.toarray(), qs.h_term(p, a)):\n",
    "    #     print(\"h_pa match: True\")\n",
    "    # else:\n",
    "    #     print(\"h_pa mismatch:\")\n",
    "    #     print(np.abs(terms.h_pa.toarray() - qs.h_term(p, a)))\n",
    "\n",
    "    # if np.array_equal(terms.h_ip.toarray(), qs.h_term(i, p).reshape(i, p)):\n",
    "    #     print(\"h_ip match: True\")\n",
    "    # else:\n",
    "    #     print(\"h_ip mismatch:\")\n",
    "    #     print(np.abs(terms.h_ip.toarray() - qs.h_term(i, p).reshape(i, p)))\n",
    "\n",
    "    # # V terms\n",
    "    # if np.array_equal(terms.V_pppp.toarray(), qs.v_term(p, p, p, p).reshape(p**2, p**2)):\n",
    "    #     print(\"V_pppp match: True\")\n",
    "    # else:\n",
    "    #     print(\"V_pppp mismatch:\")\n",
    "    #     print(np.abs(terms.V_pppp.toarray() - qs.v_term(p, p, p, p).reshape(p**2, p**2)))\n",
    "\n",
    "    # if np.array_equal(terms.V_ppaa.toarray(), qs.v_term(p, p, a, a).reshape(p**2, a**2)):\n",
    "    #     print(\"V_ppaa match: True\")\n",
    "    # else:\n",
    "    #     print(\"V_ppaa mismatch:\")\n",
    "    #     print(np.abs(terms.V_ppaa.toarray() - qs.v_term(p, p, a, a).reshape(p**2, a**2)))\n",
    "\n",
    "    # if np.array_equal(terms.V_iipp.toarray(), qs.v_term(i, i, p, p).reshape(p, p)):\n",
    "    #     print(\"V_iipp match: True\")\n",
    "    # else:\n",
    "    #     print(\"V_iipp mismatch:\")\n",
    "    #     print(np.abs(terms.V_iipp.toarray() - qs.v_term(i, i, p, p).reshape(p, p)))\n",
    "\n",
    "    # if np.array_equal(terms.V_iiaa.toarray(), qs.v_term(i, i, a, a).reshape(a, a)):\n",
    "    #     print(\"V_iiaa match: True\")\n",
    "    # else:\n",
    "    #     print(\"V_iiaa mismatch:\")\n",
    "    #     print(np.abs(terms.V_iiaa.toarray() - qs.v_term(i, i, a, a).reshape(a, a)))\n",
    "\n",
    "    # if np.array_equal(terms.V_piaa.toarray(), qs.v_term(p, i, a, a).reshape(p, a**2)):\n",
    "    #     print(\"V_piaa match: True\")\n",
    "    # else:\n",
    "    #     print(\"V_piaa mismatch:\")\n",
    "    #     print(np.abs(terms.V_piaa.toarray() - qs.v_term(p, i, a, a).reshape(p, a**2)))\n",
    "\n",
    "    # if np.array_equal(terms.V_pipp.toarray(), qs.v_term(p, i, p, p).reshape(p, p**2)):\n",
    "    #     print(\"V_pipp match: True\")\n",
    "    # else:\n",
    "    #     print(\"V_pipp mismatch:\")\n",
    "    #     print(np.abs(terms.V_pipp.toarray() - qs.v_term(p, i, p, p).reshape(p, p**2)))\n",
    "\n",
    "    # if np.array_equal(terms.V_ipap.toarray(), qs.v_term(i, p, a, p).reshape(p*a, p)):\n",
    "    #     print(\"V_ipap match: True\")\n",
    "    # else:\n",
    "    #     print(\"V_ipap mismatch:\")\n",
    "    #     print(np.abs(terms.V_ipap.toarray() - qs.v_term(i, p, a, p).reshape(p*a, p)))\n",
    "\n",
    "    # if np.array_equal(terms.V_piap.toarray(), qs.v_term(p, i, a, p).reshape(p*a, p)):\n",
    "    #     print(\"V_piap match: True\")\n",
    "    # else:\n",
    "    #     print(\"V_piap mismatch:\")\n",
    "    #     print(np.abs(terms.V_piap.toarray() - qs.v_term(p, i, a, p).reshape(p*a, p)))"
   ]
  },
  {
   "cell_type": "code",
   "execution_count": 85,
   "id": "d2cff098",
   "metadata": {},
   "outputs": [],
   "source": [
    "# tensors.t_a_i_tensor, tensors.t_ab_ij_array = tensors.t_a_i_tensor.toarray().reshape(a), np.array([mat.toarray() for mat in tensors.t_ab_ij_array])\n",
    "\n",
    "# # Check a_term\n",
    "# if np.allclose(terms.a_term.toarray(), qs.A_term(a)):\n",
    "#     print(\"a_term match: True\")\n",
    "# else:\n",
    "#     print(\"a_term mismatch:\")\n",
    "#     print(np.abs(terms.a_term.toarray() - qs.A_term(a)))\n",
    "\n",
    "# # Check b_term\n",
    "# if np.allclose(terms.b_term.toarray(), qs.B_term(i).reshape(p, i)):\n",
    "#     print(\"b_term match: True\")\n",
    "# else:\n",
    "#     print(\"b_term mismatch:\")\n",
    "#     print(np.abs(terms.b_term.toarray() - qs.B_term(i).reshape(-1, 1)))\n",
    "\n",
    "# # Check bb_term\n",
    "# bb_dense = np.outer(qs.B_term(i), qs.B_term(i)).reshape(p**2)\n",
    "# if np.allclose(terms.bb_term.toarray().flatten(), bb_dense):\n",
    "#     print(\"bb_term match: True\")\n",
    "# else:\n",
    "#     print(\"bb_term mismatch:\")\n",
    "#     print(np.abs(terms.bb_term.toarray().flatten() - bb_dense))\n",
    "\n",
    "# # Check aa_term\n",
    "# aa_dense = np.einsum(\"ap,bq->abpq\", qs.A_term(a), qs.A_term(a)).reshape(a**2, p**2)\n",
    "# if np.allclose(terms.aa_term.toarray(), aa_dense):\n",
    "#     print(\"aa_term match: True\")\n",
    "# else:\n",
    "#     print(\"aa_term mismatch:\")\n",
    "#     print(np.abs(terms.aa_term.toarray() - aa_dense))\n",
    "\n",
    "# tensors.t_a_i_tensor, tensors.t_ab_ij_array = sp.csr_matrix(tensors.t_a_i_tensor), np.array(\n",
    "#     [sp.csr_matrix(tensors.t_ab_ij_array[i]) for i in range(site)],dtype=object)"
   ]
  },
  {
   "cell_type": "markdown",
   "id": "e1713042",
   "metadata": {},
   "source": [
    "# Design v_full"
   ]
  },
  {
   "cell_type": "code",
   "execution_count": 86,
   "id": "4ca8d23a",
   "metadata": {},
   "outputs": [],
   "source": [
    "state = p = 5\n",
    "a = p-1\n",
    "i = 1\n",
    "\n",
    "V_tensor = np.random.rand(p, p, p, p)"
   ]
  },
  {
   "cell_type": "code",
   "execution_count": 87,
   "id": "c06e5c47",
   "metadata": {},
   "outputs": [
    {
     "name": "stdout",
     "output_type": "stream",
     "text": [
      "0.2411831658769028\n",
      "0.2411831658769028\n"
     ]
    }
   ],
   "source": [
    "i = 1\n",
    "j = 2\n",
    "k = 3\n",
    "l = 4\n",
    "\n",
    "d1 = i*state + j\n",
    "d2 = k*state + l\n",
    "\n",
    "print(V_tensor[i, j, k, l])\n",
    "print(V_tensor.reshape(p**2, p**2)[d1, d2])"
   ]
  },
  {
   "cell_type": "code",
   "execution_count": 88,
   "id": "7c18f99b",
   "metadata": {},
   "outputs": [],
   "source": [
    "k_ind = np.arange(1, 5)\n",
    "l_ind = np.arange(1, 5)"
   ]
  },
  {
   "cell_type": "code",
   "execution_count": 89,
   "id": "a6fa5fe0",
   "metadata": {},
   "outputs": [],
   "source": [
    "indecies = np.zeros(a**2, dtype=int)\n",
    "index = 0\n",
    "for k in k_ind:\n",
    "    for l in l_ind:\n",
    "        indecies[index] = int(k*state + l)\n",
    "        index += 1"
   ]
  },
  {
   "cell_type": "code",
   "execution_count": 90,
   "id": "76634314",
   "metadata": {},
   "outputs": [
    {
     "data": {
      "text/plain": [
       "array([[0.051692267584, 0.995915539232, 0.8404383944  , 0.603422749618],\n",
       "       [0.600676055965, 0.395155236201, 0.812864152523, 0.979646977052],\n",
       "       [0.149811772402, 0.480712804505, 0.731632182473, 0.815240966227],\n",
       "       [0.954067037163, 0.528485554083, 0.481708640089, 0.923206841136]])"
      ]
     },
     "execution_count": 90,
     "metadata": {},
     "output_type": "execute_result"
    }
   ],
   "source": [
    "V_tensor.reshape(p**2, p**2)[0:1, indecies].reshape(a, a)"
   ]
  },
  {
   "cell_type": "code",
   "execution_count": 91,
   "id": "c40a8efa",
   "metadata": {},
   "outputs": [
    {
     "data": {
      "text/plain": [
       "True"
      ]
     },
     "execution_count": 91,
     "metadata": {},
     "output_type": "execute_result"
    }
   ],
   "source": [
    "np.array_equal(V_tensor[0, 0, 1:5, 1:5], V_tensor.reshape(p**2, p**2)[0:1, indecies].reshape(a, a))"
   ]
  },
  {
   "cell_type": "code",
   "execution_count": 92,
   "id": "288cc0bc",
   "metadata": {},
   "outputs": [],
   "source": [
    "def v_term(v_upper_1, v_upper_2, v_lower_1, v_lower_2):\n",
    "    a_v_shift = [i if a_check == a else 0 for a_check in (v_upper_1, v_upper_2, v_lower_1, v_lower_2)]\n",
    "    return V_tensor[a_v_shift[0]:v_upper_1 + a_v_shift[0], a_v_shift[1]:v_upper_2 + a_v_shift[1], a_v_shift[2]:v_lower_1 + a_v_shift[2],a_v_shift[3]:v_lower_2 + a_v_shift[3]]"
   ]
  },
  {
   "cell_type": "code",
   "execution_count": 93,
   "id": "f619a764",
   "metadata": {},
   "outputs": [],
   "source": [
    "V_pppp=v_term(p, p, p, p).reshape(p**2, p**2) # 0, 0, 0, 0 -> 0:p, 0:p, 0:p, 0:p\n",
    "V_ppaa=v_term(p, p, a, a).reshape(p**2, a**2) # 0, 0, i, i -> 0:p, 0:p, i:p, i:p\n",
    "V_iipp=v_term(i, i, p, p).reshape(p, p) # 0, 0, 0, 0 -> 0:i, 0:i, 0:p, 0:p\n",
    "V_iiaa=v_term(i, i, a, a).reshape(a, a) # 0, 0, i, i -> 0:i, 0:i, i:p, i:p\n",
    "V_piaa=v_term(p, i, a, a).reshape(p, a**2) # 0, 0, i, i -> 0:p, 0:i, i:p, i:p\n",
    "V_pipp=v_term(p, i, p, p).reshape(p, p**2) # 0, 0, 0, 0 -> 0:p, 0:i, 0:p, 0:p\n",
    "V_ipap=v_term(i, p, a, p).reshape(p*a, p) # 0, 0, i, 0 -> 0:i, 0:p, i:p, 0:p\n",
    "V_piap=v_term(p, i, a, p).reshape(p*a, p) # 0, 0, i, 0 -> 0:p, 0:i, i:p, 0:p"
   ]
  },
  {
   "cell_type": "code",
   "execution_count": 94,
   "id": "d79717ae",
   "metadata": {},
   "outputs": [
    {
     "data": {
      "text/plain": [
       "<Compressed Sparse Row sparse array of dtype 'int64'\n",
       "\twith 3 stored elements and shape (8,)>"
      ]
     },
     "execution_count": 94,
     "metadata": {},
     "output_type": "execute_result"
    }
   ],
   "source": [
    "sp.csr_array([1, 2, 0, 0, 3, 0, 0, 0])"
   ]
  },
  {
   "cell_type": "code",
   "execution_count": 95,
   "id": "68902591",
   "metadata": {},
   "outputs": [],
   "source": [
    "V_matrix = sp.csr_matrix(V_tensor.reshape(p**2, p**2))"
   ]
  },
  {
   "cell_type": "code",
   "execution_count": 96,
   "id": "2219686d",
   "metadata": {},
   "outputs": [],
   "source": [
    "# csr_mat = sp.csr_matrix((data, (row_ind, col_ind)), shape=shape)"
   ]
  },
  {
   "cell_type": "code",
   "execution_count": 97,
   "id": "8ac18897",
   "metadata": {},
   "outputs": [],
   "source": [
    "    # v_4_start = [i if a_check == a else 0 for a_check in (v_upper_1, v_upper_2, v_lower_1, v_lower_2)]\n",
    "    # v_4_end = [v_4_start[i] + val for i, val in enumerate([v_upper_1, v_upper_2, v_lower_1, v_lower_2])]\n",
    "\n",
    "    # rows, colums = V_matrix.nonzero()\n",
    "    # data = np.array(V_matrix.data)"
   ]
  },
  {
   "cell_type": "code",
   "execution_count": 98,
   "id": "68eb56b2",
   "metadata": {},
   "outputs": [],
   "source": [
    "def v_term_sparse(v_u1, v_u2, v_l1, v_l2):\n",
    "\n",
    "    # Determine shift (offset) for each index depending on whether\n",
    "    # it belongs to the 'a' space (start after 'i') or 'i' (start at 0)\n",
    "    def shift(size): return i if size == a else 0\n",
    "\n",
    "    u1_shift = shift(v_u1)\n",
    "    u2_shift = shift(v_u2)\n",
    "    l1_shift = shift(v_l1)\n",
    "    l2_shift = shift(v_l2)\n",
    "\n",
    "    # Construct row and column index ranges\n",
    "    row_indices = [\n",
    "        (u1_shift + u1) * state + (u2_shift + u2)\n",
    "        for u1 in range(v_u1) for u2 in range(v_u2)\n",
    "    ]\n",
    "    col_indices = [\n",
    "        (l1_shift + l1) * state + (l2_shift + l2)\n",
    "        for l1 in range(v_l1) for l2 in range(v_l2)\n",
    "        ]\n",
    "    return V_matrix[np.ix_(row_indices, col_indices)]"
   ]
  },
  {
   "cell_type": "code",
   "execution_count": 99,
   "id": "7ab3ac70",
   "metadata": {},
   "outputs": [
    {
     "data": {
      "text/plain": [
       "array([[0.051692267584, 0.995915539232, 0.8404383944  , 0.603422749618, 0.600676055965, 0.395155236201, 0.812864152523, 0.979646977052, 0.149811772402, 0.480712804505, 0.731632182473, 0.815240966227, 0.954067037163, 0.528485554083, 0.481708640089, 0.923206841136],\n",
       "       [0.189836608236, 0.871077049428, 0.347306460365, 0.145118448713, 0.509414021878, 0.603645860041, 0.998621336758, 0.735118854293, 0.665763565679, 0.717234755963, 0.27446127596 , 0.16490410403 , 0.435857026905, 0.473251483315, 0.208333555338, 0.942206260512],\n",
       "       [0.260687019585, 0.986734803272, 0.685911900833, 0.532321254983, 0.179256522386, 0.232103694032, 0.80457454592 , 0.423758259805, 0.490047171082, 0.741099433059, 0.584737020216, 0.686047876157, 0.138090295579, 0.63883017354 , 0.853760842961, 0.396145422739],\n",
       "       [0.009822429763, 0.888660037054, 0.153095801689, 0.66374621235 , 0.701116769133, 0.559468739471, 0.202675466427, 0.59334464619 , 0.162257876372, 0.686712561368, 0.464827494072, 0.630662941607, 0.579925230441, 0.232939483744, 0.209289934397, 0.790687498847],\n",
       "       [0.267825958255, 0.353758809863, 0.739711748316, 0.097564489304, 0.705324708789, 0.923258100557, 0.892036717719, 0.536694525854, 0.237428045237, 0.963843311253, 0.395819962537, 0.884378378325, 0.791437528145, 0.121624739046, 0.324331512865, 0.251121068779]])"
      ]
     },
     "execution_count": 99,
     "metadata": {},
     "output_type": "execute_result"
    }
   ],
   "source": [
    "v_term_sparse(p, i, a, a).toarray()"
   ]
  },
  {
   "cell_type": "code",
   "execution_count": 100,
   "id": "eb6bf4e9",
   "metadata": {},
   "outputs": [
    {
     "name": "stdout",
     "output_type": "stream",
     "text": [
      "V_pppp match: True\n"
     ]
    }
   ],
   "source": [
    "V_pppp=v_term_sparse(p, p, p, p) # 0, 0, 0, 0 -> 0:p, 0:p, 0:p, 0:p\n",
    "\n",
    "if np.array_equal(V_pppp.toarray(), v_term(p, p, p, p).reshape(p**2, p**2)):\n",
    "    print(\"V_pppp match: True\")\n",
    "else:\n",
    "    print(\"V_pppp mismatch:\")\n",
    "    print(np.abs(V_pppp.toarray() - v_term(p, p, p, p).reshape(p**2, p**2)))"
   ]
  },
  {
   "cell_type": "code",
   "execution_count": 101,
   "id": "1f9173be",
   "metadata": {},
   "outputs": [
    {
     "name": "stdout",
     "output_type": "stream",
     "text": [
      "V_ppaa match: True\n"
     ]
    }
   ],
   "source": [
    "V_ppaa=v_term_sparse(p, p, a, a) # 0, 0, i, i -> 0:p, 0:p, i:p, i:p\n",
    "\n",
    "if np.array_equal(V_ppaa.toarray(), v_term(p, p, a, a).reshape(p**2, a**2)):\n",
    "    print(\"V_ppaa match: True\")\n",
    "else:\n",
    "    print(\"V_ppaa mismatch:\")\n",
    "    print(np.abs(V_ppaa.toarray() - v_term(p, p, a, a).reshape(p**2, a**2)))"
   ]
  },
  {
   "cell_type": "code",
   "execution_count": 102,
   "id": "a239405c",
   "metadata": {},
   "outputs": [
    {
     "name": "stdout",
     "output_type": "stream",
     "text": [
      "V_iipp match: True\n"
     ]
    }
   ],
   "source": [
    "V_iipp=v_term_sparse(i, i, p, p).reshape(p, p) # 0, 0, 0, 0 -> 0:i, 0:i, 0:p, 0:p\n",
    "\n",
    "if np.array_equal(V_iipp.toarray(), v_term(i, i, p, p).reshape(p, p)):\n",
    "    print(\"V_iipp match: True\")\n",
    "else:\n",
    "    print(\"V_iipp mismatch:\")\n",
    "    print(np.abs(V_iipp.toarray() - v_term(i, i, p, p).reshape(p, p)))"
   ]
  },
  {
   "cell_type": "code",
   "execution_count": 103,
   "id": "4bc452f3",
   "metadata": {},
   "outputs": [
    {
     "name": "stdout",
     "output_type": "stream",
     "text": [
      "V_iiaa match: True\n"
     ]
    }
   ],
   "source": [
    "V_iiaa=v_term_sparse(i, i, a, a).reshape(a, a) # 0, 0, i, i -> 0:i, 0:i, i:p, i:p\n",
    "\n",
    "if np.array_equal(V_iiaa.toarray(), v_term(i, i, a, a).reshape(a, a)):\n",
    "    print(\"V_iiaa match: True\")\n",
    "else:\n",
    "    print(\"V_iiaa mismatch:\")\n",
    "    print(np.abs(V_iiaa.toarray() - v_term(i, i, a, a).reshape(a, a)))"
   ]
  },
  {
   "cell_type": "code",
   "execution_count": 104,
   "id": "acd42657",
   "metadata": {},
   "outputs": [
    {
     "name": "stdout",
     "output_type": "stream",
     "text": [
      "V_piaa match: True\n"
     ]
    }
   ],
   "source": [
    "V_piaa=v_term_sparse(p, i, a, a) # 0, 0, i, i -> 0:p, 0:i, i:p, i:p\n",
    "\n",
    "if np.array_equal(V_piaa.toarray(), v_term(p, i, a, a).reshape(p, a**2)):\n",
    "    print(\"V_piaa match: True\")\n",
    "else:\n",
    "    print(\"V_piaa mismatch:\")\n",
    "    print(np.abs(V_piaa.toarray() - v_term(p, i, a, a).reshape(p, a**2)))"
   ]
  },
  {
   "cell_type": "code",
   "execution_count": 105,
   "id": "2e527e78",
   "metadata": {},
   "outputs": [
    {
     "name": "stdout",
     "output_type": "stream",
     "text": [
      "V_pipp match: True\n"
     ]
    }
   ],
   "source": [
    "V_pipp=v_term_sparse(p, i, p, p) # 0, 0, 0, 0 -> 0:p, 0:i, 0:p, 0:p\n",
    "\n",
    "if np.array_equal(V_pipp.toarray(), v_term(p, i, p, p).reshape(p, p**2)):\n",
    "    print(\"V_pipp match: True\")\n",
    "else:\n",
    "    print(\"V_pipp mismatch:\")\n",
    "    print(np.abs(V_pipp.toarray() - v_term(p, i, p, p).reshape(p, p**2)))"
   ]
  },
  {
   "cell_type": "code",
   "execution_count": 106,
   "id": "25ba2b8d",
   "metadata": {},
   "outputs": [
    {
     "name": "stdout",
     "output_type": "stream",
     "text": [
      "V_ipap match: True\n"
     ]
    }
   ],
   "source": [
    "V_ipap=v_term_sparse(i, p, a, p).reshape(p*a, p) # 0, 0, i, 0 -> 0:i, 0:p, i:p, 0:p\n",
    "\n",
    "if np.array_equal(V_ipap.toarray(), v_term(i, p, a, p).reshape(p*a, p)):\n",
    "    print(\"V_ipap match: True\")\n",
    "else:\n",
    "    print(\"V_ipap mismatch:\")\n",
    "    print(np.abs(V_ipap.toarray() - v_term(i, p, a, p).reshape(p*a, p)))"
   ]
  },
  {
   "cell_type": "code",
   "execution_count": 107,
   "id": "5f03203d",
   "metadata": {},
   "outputs": [
    {
     "name": "stdout",
     "output_type": "stream",
     "text": [
      "V_piap match: True\n"
     ]
    }
   ],
   "source": [
    "V_piap=v_term_sparse(p, i, a, p).reshape(p*a, p) # 0, 0, i, 0 -> 0:p, 0:i, i:p, 0:p\n",
    "\n",
    "if np.array_equal(V_piap.toarray(), v_term(p, i, a, p).reshape(p*a, p)):\n",
    "    print(\"V_piap match: True\")\n",
    "else:\n",
    "    print(\"V_piap mismatch:\")\n",
    "    print(np.abs(V_piap.toarray() - v_term(p, i, a, p).reshape(p*a, p)))"
   ]
  },
  {
   "cell_type": "markdown",
   "id": "f2e73d81",
   "metadata": {},
   "source": [
    "# Testing old dense implementation for non-periodic system."
   ]
  },
  {
   "cell_type": "code",
   "execution_count": 108,
   "id": "0cbe6d56",
   "metadata": {},
   "outputs": [],
   "source": [
    "site = 3\n",
    "state = 11\n",
    "g = 0.1"
   ]
  },
  {
   "cell_type": "code",
   "execution_count": 109,
   "id": "f4aa424c",
   "metadata": {},
   "outputs": [
    {
     "name": "stdout",
     "output_type": "stream",
     "text": [
      "Doubles: True\n",
      "[[[[0.+0.j]]\n",
      "\n",
      "  [[0.+0.j]]\n",
      "\n",
      "  [[0.+0.j]]\n",
      "\n",
      "  [[0.+0.j]]\n",
      "\n",
      "  [[0.+0.j]]\n",
      "\n",
      "  [[0.+0.j]]\n",
      "\n",
      "  [[0.+0.j]]\n",
      "\n",
      "  [[0.+0.j]]\n",
      "\n",
      "  [[0.+0.j]]\n",
      "\n",
      "  [[0.+0.j]]]\n",
      "\n",
      "\n",
      " [[[0.+0.j]]\n",
      "\n",
      "  [[0.+0.j]]\n",
      "\n",
      "  [[0.+0.j]]\n",
      "\n",
      "  [[0.+0.j]]\n",
      "\n",
      "  [[0.+0.j]]\n",
      "\n",
      "  [[0.+0.j]]\n",
      "\n",
      "  [[0.+0.j]]\n",
      "\n",
      "  [[0.+0.j]]\n",
      "\n",
      "  [[0.+0.j]]\n",
      "\n",
      "  [[0.+0.j]]]\n",
      "\n",
      "\n",
      " [[[0.+0.j]]\n",
      "\n",
      "  [[0.+0.j]]\n",
      "\n",
      "  [[0.+0.j]]\n",
      "\n",
      "  [[0.+0.j]]\n",
      "\n",
      "  [[0.+0.j]]\n",
      "\n",
      "  [[0.+0.j]]\n",
      "\n",
      "  [[0.+0.j]]\n",
      "\n",
      "  [[0.+0.j]]\n",
      "\n",
      "  [[0.+0.j]]\n",
      "\n",
      "  [[0.+0.j]]]\n",
      "\n",
      "\n",
      " [[[0.+0.j]]\n",
      "\n",
      "  [[0.+0.j]]\n",
      "\n",
      "  [[0.+0.j]]\n",
      "\n",
      "  [[0.+0.j]]\n",
      "\n",
      "  [[0.+0.j]]\n",
      "\n",
      "  [[0.+0.j]]\n",
      "\n",
      "  [[0.+0.j]]\n",
      "\n",
      "  [[0.+0.j]]\n",
      "\n",
      "  [[0.+0.j]]\n",
      "\n",
      "  [[0.+0.j]]]\n",
      "\n",
      "\n",
      " [[[0.+0.j]]\n",
      "\n",
      "  [[0.+0.j]]\n",
      "\n",
      "  [[0.+0.j]]\n",
      "\n",
      "  [[0.+0.j]]\n",
      "\n",
      "  [[0.+0.j]]\n",
      "\n",
      "  [[0.+0.j]]\n",
      "\n",
      "  [[0.+0.j]]\n",
      "\n",
      "  [[0.+0.j]]\n",
      "\n",
      "  [[0.+0.j]]\n",
      "\n",
      "  [[0.+0.j]]]\n",
      "\n",
      "\n",
      " [[[0.+0.j]]\n",
      "\n",
      "  [[0.+0.j]]\n",
      "\n",
      "  [[0.+0.j]]\n",
      "\n",
      "  [[0.+0.j]]\n",
      "\n",
      "  [[0.+0.j]]\n",
      "\n",
      "  [[0.+0.j]]\n",
      "\n",
      "  [[0.+0.j]]\n",
      "\n",
      "  [[0.+0.j]]\n",
      "\n",
      "  [[0.+0.j]]\n",
      "\n",
      "  [[0.+0.j]]]\n",
      "\n",
      "\n",
      " [[[0.+0.j]]\n",
      "\n",
      "  [[0.+0.j]]\n",
      "\n",
      "  [[0.+0.j]]\n",
      "\n",
      "  [[0.+0.j]]\n",
      "\n",
      "  [[0.+0.j]]\n",
      "\n",
      "  [[0.+0.j]]\n",
      "\n",
      "  [[0.+0.j]]\n",
      "\n",
      "  [[0.+0.j]]\n",
      "\n",
      "  [[0.+0.j]]\n",
      "\n",
      "  [[0.+0.j]]]\n",
      "\n",
      "\n",
      " [[[0.+0.j]]\n",
      "\n",
      "  [[0.+0.j]]\n",
      "\n",
      "  [[0.+0.j]]\n",
      "\n",
      "  [[0.+0.j]]\n",
      "\n",
      "  [[0.+0.j]]\n",
      "\n",
      "  [[0.+0.j]]\n",
      "\n",
      "  [[0.+0.j]]\n",
      "\n",
      "  [[0.+0.j]]\n",
      "\n",
      "  [[0.+0.j]]\n",
      "\n",
      "  [[0.+0.j]]]\n",
      "\n",
      "\n",
      " [[[0.+0.j]]\n",
      "\n",
      "  [[0.+0.j]]\n",
      "\n",
      "  [[0.+0.j]]\n",
      "\n",
      "  [[0.+0.j]]\n",
      "\n",
      "  [[0.+0.j]]\n",
      "\n",
      "  [[0.+0.j]]\n",
      "\n",
      "  [[0.+0.j]]\n",
      "\n",
      "  [[0.+0.j]]\n",
      "\n",
      "  [[0.+0.j]]\n",
      "\n",
      "  [[0.+0.j]]]\n",
      "\n",
      "\n",
      " [[[0.+0.j]]\n",
      "\n",
      "  [[0.+0.j]]\n",
      "\n",
      "  [[0.+0.j]]\n",
      "\n",
      "  [[0.+0.j]]\n",
      "\n",
      "  [[0.+0.j]]\n",
      "\n",
      "  [[0.+0.j]]\n",
      "\n",
      "  [[0.+0.j]]\n",
      "\n",
      "  [[0.+0.j]]\n",
      "\n",
      "  [[0.+0.j]]\n",
      "\n",
      "  [[0.+0.j]]]]\n",
      "[[[[ 0.612168629658]]\n",
      "\n",
      "  [[ 0.750195355973]]\n",
      "\n",
      "  [[ 0.065147063797]]\n",
      "\n",
      "  [[ 0.095573502689]]\n",
      "\n",
      "  [[ 0.890351703511]]\n",
      "\n",
      "  [[ 0.616647978085]]\n",
      "\n",
      "  [[ 0.358645778023]]\n",
      "\n",
      "  [[ 0.120954128475]]\n",
      "\n",
      "  [[ 0.206996671327]]\n",
      "\n",
      "  [[ 0.748288529451]]]\n",
      "\n",
      "\n",
      " [[[ 0.12965677257 ]]\n",
      "\n",
      "  [[ 0.446447433078]]\n",
      "\n",
      "  [[ 0.056315550648]]\n",
      "\n",
      "  [[ 0.615071756674]]\n",
      "\n",
      "  [[ 0.597187728299]]\n",
      "\n",
      "  [[ 0.491119865054]]\n",
      "\n",
      "  [[ 0.692828983076]]\n",
      "\n",
      "  [[ 0.239914059493]]\n",
      "\n",
      "  [[ 0.285066676104]]\n",
      "\n",
      "  [[ 0.450300043232]]]\n",
      "\n",
      "\n",
      " [[[ 2.457028789522]]\n",
      "\n",
      "  [[ 3.824382059457]]\n",
      "\n",
      "  [[ 3.307647754307]]\n",
      "\n",
      "  [[ 1.627106504204]]\n",
      "\n",
      "  [[ 0.357626581369]]\n",
      "\n",
      "  [[ 1.885297623528]]\n",
      "\n",
      "  [[ 0.873974896894]]\n",
      "\n",
      "  [[ 2.978724575296]]\n",
      "\n",
      "  [[ 2.788421798707]]\n",
      "\n",
      "  [[ 1.905573320549]]]\n",
      "\n",
      "\n",
      " [[[ 2.884844269515]]\n",
      "\n",
      "  [[ 3.663629076585]]\n",
      "\n",
      "  [[ 2.639588498479]]\n",
      "\n",
      "  [[ 3.164433506825]]\n",
      "\n",
      "  [[ 0.998598435543]]\n",
      "\n",
      "  [[ 1.470244418294]]\n",
      "\n",
      "  [[ 1.293748672084]]\n",
      "\n",
      "  [[ 2.864179737295]]\n",
      "\n",
      "  [[ 3.896193652973]]\n",
      "\n",
      "  [[ 1.931276743565]]]\n",
      "\n",
      "\n",
      " [[[ 8.814456112378]]\n",
      "\n",
      "  [[ 7.540894034872]]\n",
      "\n",
      "  [[ 0.777802953439]]\n",
      "\n",
      "  [[ 5.394266220018]]\n",
      "\n",
      "  [[ 1.299269638878]]\n",
      "\n",
      "  [[ 0.341783628937]]\n",
      "\n",
      "  [[ 5.357870849247]]\n",
      "\n",
      "  [[ 3.301508290832]]\n",
      "\n",
      "  [[ 7.907275113523]]\n",
      "\n",
      "  [[ 6.135461265641]]]\n",
      "\n",
      "\n",
      " [[[ 8.233101831422]]\n",
      "\n",
      "  [[ 0.033051647331]]\n",
      "\n",
      "  [[ 4.321556166603]]\n",
      "\n",
      "  [[ 5.028059148861]]\n",
      "\n",
      "  [[ 2.712628789261]]\n",
      "\n",
      "  [[ 7.450798107888]]\n",
      "\n",
      "  [[ 3.541437521869]]\n",
      "\n",
      "  [[ 6.727344474858]]\n",
      "\n",
      "  [[ 1.57890704779 ]]\n",
      "\n",
      "  [[ 5.936869053989]]]\n",
      "\n",
      "\n",
      " [[[ 3.075026874775]]\n",
      "\n",
      "  [[ 7.205404412482]]\n",
      "\n",
      "  [[ 3.596280579661]]\n",
      "\n",
      "  [[15.249332490725]]\n",
      "\n",
      "  [[14.122378842371]]\n",
      "\n",
      "  [[10.00297340612 ]]\n",
      "\n",
      "  [[ 7.355450307091]]\n",
      "\n",
      "  [[ 9.151369085728]]\n",
      "\n",
      "  [[ 8.73129855713 ]]\n",
      "\n",
      "  [[14.863260314074]]]\n",
      "\n",
      "\n",
      " [[[ 7.630039443452]]\n",
      "\n",
      "  [[ 2.477099575155]]\n",
      "\n",
      "  [[ 2.614573430057]]\n",
      "\n",
      "  [[ 3.484790730169]]\n",
      "\n",
      "  [[14.697133135257]]\n",
      "\n",
      "  [[ 7.048136344331]]\n",
      "\n",
      "  [[ 6.786184671973]]\n",
      "\n",
      "  [[ 6.97050461628 ]]\n",
      "\n",
      "  [[12.365383818537]]\n",
      "\n",
      "  [[ 3.420717770161]]]\n",
      "\n",
      "\n",
      " [[[16.818600697954]]\n",
      "\n",
      "  [[ 6.690324508079]]\n",
      "\n",
      "  [[17.360297026626]]\n",
      "\n",
      "  [[ 9.223438104324]]\n",
      "\n",
      "  [[ 4.179847546932]]\n",
      "\n",
      "  [[10.508627393211]]\n",
      "\n",
      "  [[21.024708514228]]\n",
      "\n",
      "  [[24.043033561917]]\n",
      "\n",
      "  [[ 7.7425827478  ]]\n",
      "\n",
      "  [[10.010673162943]]]\n",
      "\n",
      "\n",
      " [[[ 3.095033187356]]\n",
      "\n",
      "  [[ 2.154252969026]]\n",
      "\n",
      "  [[10.73373189397 ]]\n",
      "\n",
      "  [[12.950781105972]]\n",
      "\n",
      "  [[12.865573103822]]\n",
      "\n",
      "  [[22.372171037539]]\n",
      "\n",
      "  [[ 8.226938952363]]\n",
      "\n",
      "  [[13.565903423009]]\n",
      "\n",
      "  [[12.388370744839]]\n",
      "\n",
      "  [[12.286513265948]]]]\n"
     ]
    }
   ],
   "source": [
    "one_max_o, two_max_o, energy_o, t_a_i_tensor_o, t_ab_ij_tensor_o = t_non_periodic()"
   ]
  },
  {
   "cell_type": "code",
   "execution_count": null,
   "id": "231ac8c6",
   "metadata": {},
   "outputs": [],
   "source": [
    "one_max_d, two_max_d, energy_d, t_a_i_tensor_d, t_ab_ij_tensor_d = t_non_preiodic_dense(site, state, g)"
   ]
  },
  {
   "cell_type": "code",
   "execution_count": null,
   "id": "d469ea81",
   "metadata": {},
   "outputs": [
    {
     "name": "stdout",
     "output_type": "stream",
     "text": [
      "Old to Dense\n",
      "Delta One Max: 4.440284945284034e-14\n",
      "Delta Two Max: 24.408153356960355\n",
      "DeltaEnergy: 0.025161052210980625\n",
      "t_1: False\n",
      "Max absolute difference: 0.9683158273866801\n",
      "t_2: False\n",
      "Max absolute difference: 0.9985151796442592\n"
     ]
    }
   ],
   "source": [
    "print(\"Old to Dense\")\n",
    "\n",
    "if np.array_equal(one_max_o, one_max_d):\n",
    "    print(\"Dense:\")\n",
    "    print(f\"One Max: {np.array_equal(one_max_o, one_max_d)}\")\n",
    "else:\n",
    "    print(f\"Delta One Max: {np.abs(one_max_o - one_max_d)}\")\n",
    "\n",
    "if np.array_equal(two_max_o, two_max_d):\n",
    "    print(f\"Two Max: {np.array_equal(two_max_o, two_max_d)}\")\n",
    "else:\n",
    "    print(f\"Delta Two Max: {np.abs(two_max_o - two_max_d)}\")\n",
    "\n",
    "if np.array_equal(energy_o, energy_d):\n",
    "    print(f\"Energy: {np.array_equal(energy_o, energy_d)}\")\n",
    "else:\n",
    "    print(f\"DeltaEnergy: {np.abs(energy_o - energy_d)}\")\n",
    "\n",
    "print(f\"t_1: {np.allclose(t_a_i_tensor_o, t_a_i_tensor_d, 1e-10)}\")\n",
    "diff = np.abs(t_a_i_tensor_d - t_a_i_tensor_o)\n",
    "max_diff = np.max(diff)\n",
    "print(\"Max absolute difference:\", max_diff)\n",
    "\n",
    "print(f\"t_2: {np.allclose(t_ab_ij_tensor_o, t_ab_ij_tensor_d, 1e-10)}\")\n",
    "diff = np.abs(t_ab_ij_tensor_d - t_ab_ij_tensor_o)\n",
    "max_diff = np.max(diff)\n",
    "print(\"Max absolute difference:\", max_diff)"
   ]
  },
  {
   "cell_type": "code",
   "execution_count": null,
   "id": "5601bb3a",
   "metadata": {},
   "outputs": [
    {
     "data": {
      "text/plain": [
       "array([[[ 0.            +0.j],\n",
       "        [ 0.            +0.j],\n",
       "        [-0.000950327578+0.j],\n",
       "        [-0.000950327578+0.j],\n",
       "        [ 0.            +0.j],\n",
       "        [ 0.            +0.j],\n",
       "        [ 0.000000037132+0.j],\n",
       "        [ 0.000000037132+0.j],\n",
       "        [ 0.            +0.j],\n",
       "        [ 0.            +0.j]],\n",
       "\n",
       "       [[ 0.            +0.j],\n",
       "        [ 0.            +0.j],\n",
       "        [-0.000937007107+0.j],\n",
       "        [-0.000937007107+0.j],\n",
       "        [ 0.            +0.j],\n",
       "        [ 0.            +0.j],\n",
       "        [ 0.000000036549+0.j],\n",
       "        [ 0.000000036549+0.j],\n",
       "        [ 0.            +0.j],\n",
       "        [ 0.            +0.j]],\n",
       "\n",
       "       [[ 0.            +0.j],\n",
       "        [ 0.            +0.j],\n",
       "        [ 0.            +0.j],\n",
       "        [ 0.            +0.j],\n",
       "        [ 0.            +0.j],\n",
       "        [ 0.            +0.j],\n",
       "        [ 0.            +0.j],\n",
       "        [ 0.            +0.j],\n",
       "        [ 0.            +0.j],\n",
       "        [ 0.            +0.j]]])"
      ]
     },
     "execution_count": 69,
     "metadata": {},
     "output_type": "execute_result"
    }
   ],
   "source": [
    "t_a_i_tensor_d"
   ]
  },
  {
   "cell_type": "code",
   "execution_count": null,
   "id": "8c58ecb2",
   "metadata": {},
   "outputs": [
    {
     "data": {
      "text/plain": [
       "array([[[0.353717194956],\n",
       "        [0.650333242981],\n",
       "        [0.715154786025],\n",
       "        [0.001939501154],\n",
       "        [0.506504493388],\n",
       "        [0.421532941127],\n",
       "        [0.701955220439],\n",
       "        [0.292462579432],\n",
       "        [0.642223198177],\n",
       "        [0.632992873364]],\n",
       "\n",
       "       [[0.098891789267],\n",
       "        [0.788891737797],\n",
       "        [0.861231142596],\n",
       "        [0.46764582484 ],\n",
       "        [0.432733356204],\n",
       "        [0.596730958035],\n",
       "        [0.039504585953],\n",
       "        [0.889153850514],\n",
       "        [0.728179737286],\n",
       "        [0.968315827387]],\n",
       "\n",
       "       [[0.576650651096],\n",
       "        [0.287387412967],\n",
       "        [0.277387378985],\n",
       "        [0.295900185581],\n",
       "        [0.21597125868 ],\n",
       "        [0.944196653308],\n",
       "        [0.826119983671],\n",
       "        [0.587265924049],\n",
       "        [0.021651263993],\n",
       "        [0.720241427213]]])"
      ]
     },
     "execution_count": 70,
     "metadata": {},
     "output_type": "execute_result"
    }
   ],
   "source": [
    "t_a_i_tensor_o"
   ]
  }
 ],
 "metadata": {
  "kernelspec": {
   "display_name": ".venv",
   "language": "python",
   "name": "python3"
  },
  "language_info": {
   "codemirror_mode": {
    "name": "ipython",
    "version": 3
   },
   "file_extension": ".py",
   "mimetype": "text/x-python",
   "name": "python",
   "nbconvert_exporter": "python",
   "pygments_lexer": "ipython3",
   "version": "3.13.4"
  }
 },
 "nbformat": 4,
 "nbformat_minor": 5
}
