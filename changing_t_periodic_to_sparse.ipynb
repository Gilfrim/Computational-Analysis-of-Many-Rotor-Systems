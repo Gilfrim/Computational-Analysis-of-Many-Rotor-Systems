{
 "cells": [
  {
   "cell_type": "code",
   "execution_count": 1,
   "id": "0fff833e",
   "metadata": {},
   "outputs": [],
   "source": [
    "import numpy as np\n",
    "import scipy.sparse as sp\n",
    "import os\n",
    "import opt_einsum as oe\n",
    "np.set_printoptions(suppress = True, linewidth = 1500, threshold = 10000, precision = 12)\n",
    "\n",
    "# Old model periodic\n",
    "from quant_rotor.core.dense.t_amplitudes_periodic import t_periodic as tpreiodic_old\n",
    "\n",
    "# New model periodic\n",
    "from quant_rotor.core.dense.t_amplitudes_periodic_fast import t_periodic as tpreiodic_dense_new\n",
    "from quant_rotor.core.sparse.t_amplitudes_periodic_fast import t_periodic as tpreiodic_sparse_new_check\n",
    "\n",
    "# Old model non-peiodic\n",
    "\n",
    "from z_non_periodic.Non_Periodic import t_non_periodic\n",
    "\n",
    "# New model non-periodic\n",
    "\n",
    "from quant_rotor.core.dense.t_amplitudes_non_periodic import t_non_periodic as t_non_preiodic_dense"
   ]
  },
  {
   "cell_type": "markdown",
   "id": "f0277aea",
   "metadata": {},
   "source": [
    "# Testing fast sparse and fast dense implementation for periodic systems."
   ]
  },
  {
   "cell_type": "code",
   "execution_count": 2,
   "id": "1fa62d94",
   "metadata": {},
   "outputs": [],
   "source": [
    "site = 5\n",
    "state = 5\n",
    "g = 0.1"
   ]
  },
  {
   "cell_type": "code",
   "execution_count": 3,
   "id": "7fd33e3a",
   "metadata": {},
   "outputs": [
    {
     "name": "stdout",
     "output_type": "stream",
     "text": [
      "Done.\n"
     ]
    },
    {
     "name": "stderr",
     "output_type": "stream",
     "text": [
      "/Users/gilfrim/Desktop/Projects/Computational_Analysis_of_Many_Rotor_Systems/.venv/lib/python3.13/site-packages/scipy/sparse/_sputils.py:147: ComplexWarning: Casting complex values to real discards the imaginary part\n",
      "  data = np.array(obj, dtype=dtype, copy=copy)\n",
      "/Users/gilfrim/Desktop/Projects/Computational_Analysis_of_Many_Rotor_Systems/.venv/lib/python3.13/site-packages/scipy/sparse/_index.py:210: SparseEfficiencyWarning: Changing the sparsity structure of a csr_matrix is expensive. lil and dok are more efficient.\n",
      "  self._set_arrayXarray(i, j, x)\n",
      "/Users/gilfrim/Desktop/Projects/Computational_Analysis_of_Many_Rotor_Systems/.venv/lib/python3.13/site-packages/scipy/sparse/_index.py:168: SparseEfficiencyWarning: Changing the sparsity structure of a csr_matrix is expensive. lil and dok are more efficient.\n",
      "  self._set_intXint(row, col, x.flat[0])\n"
     ]
    }
   ],
   "source": [
    "one_max_s, two_max_s, energy_s, t_a_i_tensor_s, t_ab_ij_tensor_s = tpreiodic_sparse_new_check(site, state, g, fast=True)"
   ]
  },
  {
   "cell_type": "code",
   "execution_count": 4,
   "id": "16840413",
   "metadata": {},
   "outputs": [
    {
     "name": "stdout",
     "output_type": "stream",
     "text": [
      "Done.\n"
     ]
    }
   ],
   "source": [
    "one_max_d, two_max_d, energy_d, t_a_i_tensor_d, t_ab_ij_tensor_d = tpreiodic_dense_new(site, state, g, fast=True)"
   ]
  },
  {
   "cell_type": "code",
   "execution_count": 5,
   "id": "343e48cc",
   "metadata": {},
   "outputs": [
    {
     "name": "stdout",
     "output_type": "stream",
     "text": [
      "[[0.+0.j 0.+0.j 0.+0.j 0.+0.j 0.+0.j]]\n"
     ]
    }
   ],
   "source": [
    "one_max_o, two_max_o, energy_o, t_a_i_tensor_o, t_ab_ij_tensor_o = tpreiodic_old(site, state, g)"
   ]
  },
  {
   "cell_type": "code",
   "execution_count": 6,
   "id": "f471aefb",
   "metadata": {},
   "outputs": [
    {
     "name": "stdout",
     "output_type": "stream",
     "text": [
      "Old to Sparse\n",
      "Dense:\n",
      "One Max: True\n",
      "Delta Two Max: 5.421010862427522e-19\n",
      "Energy: True\n",
      "t_1: True\n",
      "Max absolute difference: 0.0\n",
      "t_2: True\n",
      "Max absolute difference: 8.673617379884035e-19\n"
     ]
    }
   ],
   "source": [
    "print(\"Old to Sparse\")\n",
    "if np.array_equal(one_max_o, one_max_s):\n",
    "    print(\"Dense:\")\n",
    "    print(f\"One Max: {np.array_equal(one_max_o, one_max_s)}\")\n",
    "else:\n",
    "    print(f\"Delta One Max: {np.abs(one_max_o - one_max_s)}\")\n",
    "\n",
    "if np.array_equal(two_max_o, two_max_s):\n",
    "    print(f\"Two Max: {np.array_equal(two_max_o, two_max_s)}\")\n",
    "else:\n",
    "    print(f\"Delta Two Max: {np.abs(two_max_o - two_max_s)}\")\n",
    "\n",
    "if np.array_equal(energy_o, energy_s):\n",
    "    print(f\"Energy: {np.array_equal(energy_o, energy_s)}\")\n",
    "else:\n",
    "    print(f\"DeltaEnergy: {np.abs(energy_o - energy_s)}\")\n",
    "\n",
    "print(f\"t_1: {np.allclose(t_a_i_tensor_o[0].reshape(state-1), t_a_i_tensor_s.toarray().reshape(state-1), 1e-10)}\")\n",
    "diff = np.abs(t_a_i_tensor_s.toarray().reshape(state-1) - t_a_i_tensor_o[0].reshape(state-1))\n",
    "max_diff = np.max(diff)\n",
    "print(\"Max absolute difference:\", max_diff)\n",
    "\n",
    "print(f\"t_2: {np.allclose(t_ab_ij_tensor_o[0].reshape(site, state-1, state-1), np.array([i.toarray() for i in t_ab_ij_tensor_s]), 1e-10)}\")\n",
    "diff = np.abs(np.array([i.toarray() for i in t_ab_ij_tensor_s]) - t_ab_ij_tensor_o[0].reshape(site, state-1, state-1))\n",
    "max_diff = np.max(diff)\n",
    "print(\"Max absolute difference:\", max_diff)"
   ]
  },
  {
   "cell_type": "code",
   "execution_count": 7,
   "id": "655f07f4",
   "metadata": {},
   "outputs": [
    {
     "name": "stdout",
     "output_type": "stream",
     "text": [
      "Old to Dense\n",
      "Dense:\n",
      "One Max: True\n",
      "Delta Two Max: 5.421010862427522e-19\n",
      "Energy: True\n",
      "t_1: True\n",
      "Max absolute difference: 1.0842021724855044e-19\n",
      "t_2: True\n",
      "Max absolute difference: 1.3010426069826053e-18\n"
     ]
    }
   ],
   "source": [
    "print(\"Old to Dense\")\n",
    "\n",
    "if np.array_equal(one_max_o, one_max_d):\n",
    "    print(\"Dense:\")\n",
    "    print(f\"One Max: {np.array_equal(one_max_o, one_max_d)}\")\n",
    "else:\n",
    "    print(f\"Delta One Max: {np.abs(one_max_o - one_max_d)}\")\n",
    "\n",
    "if np.array_equal(two_max_o, two_max_d):\n",
    "    print(f\"Two Max: {np.array_equal(two_max_o, two_max_d)}\")\n",
    "else:\n",
    "    print(f\"Delta Two Max: {np.abs(two_max_o - two_max_d)}\")\n",
    "\n",
    "if np.array_equal(energy_o, energy_d):\n",
    "    print(f\"Energy: {np.array_equal(energy_o, energy_d)}\")\n",
    "else:\n",
    "    print(f\"DeltaEnergy: {np.abs(energy_o - energy_d)}\")\n",
    "\n",
    "print(f\"t_1: {np.allclose(t_a_i_tensor_o[0].reshape(state-1), t_a_i_tensor_d.reshape(state-1), 1e-10)}\")\n",
    "diff = np.abs(t_a_i_tensor_d.reshape(state-1) - t_a_i_tensor_o[0].reshape(state-1))\n",
    "max_diff = np.max(diff)\n",
    "print(\"Max absolute difference:\", max_diff)\n",
    "\n",
    "print(f\"t_2: {np.allclose(t_ab_ij_tensor_o[0].reshape(site, state-1, state-1), t_ab_ij_tensor_d, 1e-10)}\")\n",
    "diff = np.abs(t_ab_ij_tensor_d - t_ab_ij_tensor_o[0].reshape(site, state-1, state-1))\n",
    "max_diff = np.max(diff)\n",
    "print(\"Max absolute difference:\", max_diff)"
   ]
  },
  {
   "cell_type": "code",
   "execution_count": 8,
   "id": "3b64f42a",
   "metadata": {},
   "outputs": [
    {
     "name": "stdout",
     "output_type": "stream",
     "text": [
      "Sparse to Dense\n",
      "Dense:\n",
      "One Max: True\n",
      "Two Max: True\n",
      "Energy: True\n",
      "t_1: True\n",
      "Max absolute difference: 1.0842021724855044e-19\n",
      "t_2: True\n",
      "Max absolute difference: 4.336808689942018e-19\n"
     ]
    }
   ],
   "source": [
    "print(\"Sparse to Dense\")\n",
    "\n",
    "if np.array_equal(one_max_d, one_max_s):\n",
    "    print(\"Dense:\")\n",
    "    print(f\"One Max: {np.array_equal(one_max_d, one_max_s)}\")\n",
    "else:\n",
    "    print(f\"Delta One Max: {np.abs(one_max_d - one_max_s)}\")\n",
    "\n",
    "if np.array_equal(two_max_d, two_max_s):\n",
    "    print(f\"Two Max: {np.array_equal(two_max_d, two_max_s)}\")\n",
    "else:\n",
    "    print(f\"Delta Two Max: {np.abs(two_max_d - two_max_s)}\")\n",
    "\n",
    "if np.array_equal(energy_d, energy_s):\n",
    "    print(f\"Energy: {np.array_equal(energy_d, energy_s)}\")\n",
    "else:\n",
    "    print(f\"DeltaEnergy: {np.abs(energy_d - energy_s)}\")\n",
    "\n",
    "print(f\"t_1: {np.allclose(t_a_i_tensor_d.reshape(state-1), t_a_i_tensor_s.toarray().reshape(state-1), 1e-10)}\")\n",
    "diff = np.abs(t_a_i_tensor_s.toarray().reshape(state-1) - t_a_i_tensor_d.reshape(state-1))\n",
    "max_diff = np.max(diff)\n",
    "print(\"Max absolute difference:\", max_diff)\n",
    "\n",
    "print(f\"t_2: {np.allclose(t_ab_ij_tensor_d.reshape(site, state-1, state-1), np.array([i.toarray() for i in t_ab_ij_tensor_s]), 1e-10)}\")\n",
    "diff = np.abs(np.array([i.toarray() for i in t_ab_ij_tensor_s]) - t_ab_ij_tensor_d.reshape(site, state-1, state-1))\n",
    "max_diff = np.max(diff)\n",
    "print(\"Max absolute difference:\", max_diff)"
   ]
  },
  {
   "cell_type": "markdown",
   "id": "083daff1",
   "metadata": {},
   "source": [
    "# Check einsums."
   ]
  },
  {
   "cell_type": "code",
   "execution_count": 9,
   "id": "580a151f",
   "metadata": {},
   "outputs": [],
   "source": [
    "p = state\n",
    "a = state - 1\n",
    "i = 1\n",
    "\n",
    "A_old = np.random.rand(a, p).astype(np.float64)\n",
    "B_old = np.random.rand(p, i).astype(np.float64)\n",
    "\n",
    "B_new = B_old.reshape(p).astype(np.float64)\n",
    "BB = (oe.contract(\"q,s->qs\", B_new, B_new).reshape(p**2)).astype(np.float64)\n",
    "AA =(oe.contract(\"ap,bq->abpq\", A_old, A_old).reshape(a**2, p**2)).astype(np.float64)"
   ]
  },
  {
   "cell_type": "code",
   "execution_count": 10,
   "id": "25a893a1",
   "metadata": {},
   "outputs": [],
   "source": [
    "A_old_sp = sp.csr_matrix(A_old)\n",
    "\n",
    "B_new_sp = sp.csr_matrix(B_new.astype(np.float64)).reshape(p, 1)\n",
    "BB_sp = sp.csr_matrix(BB).reshape(p**2, 1)\n",
    "AA_sp = sp.csr_matrix(AA)"
   ]
  },
  {
   "cell_type": "code",
   "execution_count": 11,
   "id": "fa52ad93",
   "metadata": {},
   "outputs": [],
   "source": [
    "bb_sparse = B_new_sp @ B_new_sp.T\n",
    "\n",
    "bb_term = bb_sparse.reshape(p**2, 1)"
   ]
  },
  {
   "cell_type": "code",
   "execution_count": 12,
   "id": "bc00e2f5",
   "metadata": {},
   "outputs": [],
   "source": [
    "aa_sparse = sp.kron(A_old_sp, A_old_sp, format=\"csr\")"
   ]
  },
  {
   "cell_type": "code",
   "execution_count": 13,
   "id": "c98705b8",
   "metadata": {},
   "outputs": [
    {
     "name": "stdout",
     "output_type": "stream",
     "text": [
      "True\n",
      "True\n"
     ]
    }
   ],
   "source": [
    "print(np.array_equal(BB_sp.toarray(), bb_term.toarray()))\n",
    "print(np.array_equal(AA_sp.toarray(), aa_sparse.toarray()))"
   ]
  },
  {
   "cell_type": "markdown",
   "id": "7a6d5f46",
   "metadata": {},
   "source": [
    "## Residual single."
   ]
  },
  {
   "cell_type": "markdown",
   "id": "82964133",
   "metadata": {},
   "source": [
    "Term 1."
   ]
  },
  {
   "cell_type": "code",
   "execution_count": 14,
   "id": "950e3451",
   "metadata": {},
   "outputs": [],
   "source": [
    "R_new = np.zeros((a), dtype=np.float64)\n",
    "R_old = np.zeros((a, i), dtype=np.float64)\n",
    "R_new_dot = np.zeros((a), dtype=np.float64)\n",
    "R_new_dot_sp = sp.csr_matrix(np.zeros((a, i), dtype=np.float64))\n",
    "\n",
    "H_pq_old = H_pq_new = np.random.rand(p, p).astype(np.longdouble)\n",
    "H_pq_old_sp = sp.csr_matrix(H_pq_old)"
   ]
  },
  {
   "cell_type": "code",
   "execution_count": 15,
   "id": "bd3ac58c",
   "metadata": {},
   "outputs": [
    {
     "data": {
      "text/plain": [
       "(4, 5)"
      ]
     },
     "execution_count": 15,
     "metadata": {},
     "output_type": "execute_result"
    }
   ],
   "source": [
    "A_old_sp.shape"
   ]
  },
  {
   "cell_type": "code",
   "execution_count": 16,
   "id": "e195f9a6",
   "metadata": {},
   "outputs": [
    {
     "name": "stdout",
     "output_type": "stream",
     "text": [
      "(4, 1)\n",
      "New Einsum:\n",
      "Equal: True\n",
      "Max absolute difference: 0.0 \n",
      "\n",
      "Dot:\n",
      "Equal: True\n",
      "Max absolute difference: 0.0 \n",
      "\n",
      "Dot Sparse:\n",
      "Equal: True\n",
      "Max absolute difference: 0.0\n"
     ]
    }
   ],
   "source": [
    "R_new += oe.contract(\"ap,pq,q->a\", A_old, H_pq_new, B_new)\n",
    "R_old += oe.contract(\"ap,pq,qi->ai\", A_old, H_pq_old, B_old)\n",
    "R_new_dot += A_old @ (H_pq_old @ B_new)\n",
    "R_new_dot_sp += (A_old_sp @ (H_pq_old_sp @ B_new_sp)).toarray()\n",
    "\n",
    "print(R_new_dot_sp.shape)\n",
    "\n",
    "print(\"New Einsum:\")\n",
    "print(\"Equal:\", np.allclose(R_new, R_old.reshape(a)))\n",
    "\n",
    "diff = np.abs(R_new - R_old.reshape(a))\n",
    "max_diff = np.max(diff)\n",
    "print(\"Max absolute difference:\", max_diff, \"\\n\")\n",
    "\n",
    "print(\"Dot:\")\n",
    "print(\"Equal:\", np.allclose(R_new_dot, R_old.reshape(a)))\n",
    "\n",
    "diff = np.abs(R_new_dot - R_old.reshape(a))\n",
    "max_diff = np.max(diff)\n",
    "print(\"Max absolute difference:\", max_diff, \"\\n\")\n",
    "\n",
    "print(\"Dot Sparse:\")\n",
    "print(\"Equal:\", np.allclose(R_new_dot_sp, R_old))\n",
    "\n",
    "diff1 = np.abs(R_new_dot_sp - R_old)\n",
    "max_diff = np.max(diff1)\n",
    "print(\"Max absolute difference:\", max_diff)"
   ]
  },
  {
   "cell_type": "markdown",
   "id": "abb7118f",
   "metadata": {},
   "source": [
    "Term 2."
   ]
  },
  {
   "cell_type": "code",
   "execution_count": 17,
   "id": "14b44049",
   "metadata": {},
   "outputs": [],
   "source": [
    "R_new = np.zeros((a), dtype=np.float64)\n",
    "R_old = np.zeros((a, i), dtype=np.float64)\n",
    "R_new_dot = np.zeros((a), dtype=np.float64)\n",
    "R_new_dot_sp = sp.csr_matrix(np.zeros((a, i), dtype=np.float64))\n",
    "\n",
    "T_cd_old = np.random.rand(a, a, i, i).astype(np.longdouble)\n",
    "T_cd_new = T_cd_old.reshape(a**2)\n",
    "T_cd_new_sp = sp.csr_matrix(T_cd_new)\n",
    "\n",
    "V_cd_old = np.random.rand(p, i, a, a).astype(np.longdouble)\n",
    "V_cd_new = V_cd_old.reshape(p, a**2)\n",
    "V_cd_new_sp = sp.csr_matrix(V_cd_new)"
   ]
  },
  {
   "cell_type": "code",
   "execution_count": 18,
   "id": "42533c01",
   "metadata": {},
   "outputs": [
    {
     "name": "stdout",
     "output_type": "stream",
     "text": [
      "New Einsum:\n",
      "Equal: True\n",
      "Max absolute difference: 0.0 \n",
      "\n",
      "Dot:\n",
      "Equal: True\n",
      "Max absolute difference: 0.0 \n",
      "\n",
      "Dot Sparse:\n",
      "Equal: True\n",
      "Max absolute difference: 0.0\n"
     ]
    }
   ],
   "source": [
    "R_old += oe.contract(\"ap,plcd,cdil->ai\", A_old, V_cd_old, T_cd_old)\n",
    "R_new += oe.contract(\"ap,pC,C->a\", A_old, V_cd_new, T_cd_new)\n",
    "R_new_dot += A_old @ (V_cd_new @ T_cd_new)\n",
    "R_new_dot_sp += (A_old_sp @ (V_cd_new_sp @ T_cd_new_sp.T)).toarray()\n",
    "\n",
    "print(\"New Einsum:\")\n",
    "print(\"Equal:\", np.allclose(R_new, R_old.reshape(a)))\n",
    "\n",
    "diff = np.abs(R_new - R_old.reshape(a))\n",
    "max_diff = np.max(diff)\n",
    "print(\"Max absolute difference:\", max_diff, \"\\n\")\n",
    "\n",
    "print(\"Dot:\")\n",
    "print(\"Equal:\", np.allclose(R_new_dot, R_old.reshape(a)))\n",
    "\n",
    "diff = np.abs(R_new_dot - R_old.reshape(a))\n",
    "max_diff = np.max(diff)\n",
    "print(\"Max absolute difference:\", max_diff, \"\\n\")\n",
    "\n",
    "print(\"Dot Sparse:\")\n",
    "print(\"Equal:\", np.allclose(R_new_dot_sp, R_old))\n",
    "\n",
    "diff1 = np.abs(R_new_dot_sp - R_old)\n",
    "max_diff = np.max(diff1)\n",
    "print(\"Max absolute difference:\", max_diff)"
   ]
  },
  {
   "cell_type": "markdown",
   "id": "eeac9605",
   "metadata": {},
   "source": [
    "Term 3."
   ]
  },
  {
   "cell_type": "code",
   "execution_count": 19,
   "id": "148154ec",
   "metadata": {},
   "outputs": [],
   "source": [
    "R_new = np.zeros((a), dtype=np.float64)\n",
    "R_old = np.zeros((a, i), dtype=np.float64)\n",
    "R_new_dot = np.zeros((a), dtype=np.float64)\n",
    "R_new_dot_sp = sp.csr_matrix(np.zeros((a, i), dtype=np.float64))\n",
    "\n",
    "V_qq_old = np.random.rand(p, i, p, p)\n",
    "V_qq_new = V_qq_old.reshape(p, p**2)\n",
    "V_qq_new_sp = sp.csr_matrix(V_qq_new)"
   ]
  },
  {
   "cell_type": "code",
   "execution_count": 20,
   "id": "a6ac66d0",
   "metadata": {},
   "outputs": [
    {
     "name": "stdout",
     "output_type": "stream",
     "text": [
      "New Einsum:\n",
      "Equal: True\n",
      "Max absolute difference: 3.552713678800501e-15 \n",
      "\n",
      "Dot:\n",
      "Equal: True\n",
      "Max absolute difference: 3.552713678800501e-15 \n",
      "\n",
      "Dot Sparse:\n",
      "Equal: True\n",
      "Max absolute difference: 3.552713678800501e-15\n"
     ]
    }
   ],
   "source": [
    "R_old += oe.contract(\"ap,plqs,qi,sl->ai\", A_old, V_qq_old, B_old, B_old)\n",
    "R_new += oe.contract(\"ap,pQ,Q->a\", A_old, V_qq_new, BB)\n",
    "R_new_dot += A_old @ (V_qq_new @ BB)\n",
    "R_new_dot_sp += (A_old_sp @ (V_qq_new_sp @ BB_sp)).toarray()\n",
    "\n",
    "print(\"New Einsum:\")\n",
    "print(\"Equal:\", np.allclose(R_new, R_old.reshape(a)))\n",
    "\n",
    "diff = np.abs(R_new - R_old.reshape(a))\n",
    "max_diff = np.max(diff)\n",
    "print(\"Max absolute difference:\", max_diff, \"\\n\")\n",
    "\n",
    "print(\"Dot:\")\n",
    "print(\"Equal:\", np.allclose(R_new_dot, R_old.reshape(a)))\n",
    "\n",
    "diff = np.abs(R_new_dot - R_old.reshape(a))\n",
    "max_diff = np.max(diff)\n",
    "print(\"Max absolute difference:\", max_diff, \"\\n\")\n",
    "\n",
    "print(\"Dot Sparse:\")\n",
    "print(\"Equal:\", np.allclose(R_new_dot_sp, R_old))\n",
    "\n",
    "diff1 = np.abs(R_new_dot_sp - R_old)\n",
    "max_diff = np.max(diff1)\n",
    "print(\"Max absolute difference:\", max_diff)"
   ]
  },
  {
   "cell_type": "markdown",
   "id": "a6148679",
   "metadata": {},
   "source": [
    "## Residual doulbe sym."
   ]
  },
  {
   "cell_type": "markdown",
   "id": "77cfd159",
   "metadata": {},
   "source": [
    "Term 1."
   ]
  },
  {
   "cell_type": "code",
   "execution_count": 71,
   "id": "6dea54cc",
   "metadata": {},
   "outputs": [],
   "source": [
    "R_new = np.zeros((a, a), dtype=np.float64)\n",
    "R_old = np.zeros((a, a, i, i), dtype=np.float64)\n",
    "R_new_dot = np.zeros((a, a), dtype=np.float64)\n",
    "R_new_dot_sp = sp.csr_matrix(np.zeros((a, a), dtype=np.float64))\n",
    "\n",
    "V_pqrs_old = np.random.rand(p, p, p, p).astype(np.float64)\n",
    "V_pqrs_new = V_pqrs_old.reshape(p**2, p**2)\n",
    "V_pqrs_new_sp = sp.csr_matrix(V_pqrs_new)"
   ]
  },
  {
   "cell_type": "code",
   "execution_count": 73,
   "id": "f4953e86",
   "metadata": {},
   "outputs": [
    {
     "name": "stdout",
     "output_type": "stream",
     "text": [
      "New Einsum:\n",
      "Equal: True\n",
      "Max absolute difference: 2.842170943040401e-14 \n",
      "\n",
      "Dot:\n",
      "Equal: True\n",
      "Max absolute difference: 2.842170943040401e-14 \n",
      "\n",
      "Dot Sparse:\n",
      "Equal: False\n",
      "Max absolute difference: 82.93728529805153\n"
     ]
    }
   ],
   "source": [
    "R_old += oe.contract(\"ap,bq,pqrs,ri,sj->abij\", A_old, A_old, V_pqrs_old, B_old, B_old)\n",
    "R_new += oe.contract(\"BQ,QR,R->B\", AA, V_pqrs_new, BB).reshape(a, a)\n",
    "R_new_dot += (AA @ (V_pqrs_new @ BB)).reshape(a, a)\n",
    "R_new_dot_sp += ((AA_sp @ (V_pqrs_new_sp @ BB_sp)).reshape(a, a)).toarray()\n",
    "\n",
    "print(\"New Einsum:\")\n",
    "print(\"Equal:\", np.allclose(R_new, R_old.reshape(a, a)))\n",
    "\n",
    "diff = np.abs(R_new - R_old.reshape(a ,a))\n",
    "max_diff = np.max(diff)\n",
    "print(\"Max absolute difference:\", max_diff, \"\\n\")\n",
    "\n",
    "print(\"Dot:\")\n",
    "print(\"Equal:\", np.allclose(R_new_dot, R_old.reshape(a, a)))\n",
    "\n",
    "diff = np.abs(R_new_dot - R_old.reshape(a, a))\n",
    "max_diff = np.max(diff)\n",
    "print(\"Max absolute difference:\", max_diff, \"\\n\")\n",
    "\n",
    "print(\"Dot Sparse:\")\n",
    "print(\"Equal:\", np.allclose(R_new_dot_sp, R_old.reshape(a, a)))\n",
    "\n",
    "diff1 = np.abs(R_new_dot_sp - R_old.reshape(a, a))\n",
    "max_diff = np.max(diff1)\n",
    "print(\"Max absolute difference:\", max_diff)"
   ]
  },
  {
   "cell_type": "markdown",
   "id": "39336b10",
   "metadata": {},
   "source": [
    "Term 2."
   ]
  },
  {
   "cell_type": "code",
   "execution_count": 23,
   "id": "a8317663",
   "metadata": {},
   "outputs": [],
   "source": [
    "R_new = np.zeros((a, a), dtype=np.float64)\n",
    "R_old = np.zeros((a, a, i, i), dtype=np.float64)\n",
    "R_new_dot = np.zeros((a, a), dtype=np.float64)\n",
    "R_new_dot_sp = sp.csr_matrix(np.zeros((a, a), dtype=np.float64))\n",
    "\n",
    "T_0y_old = np.random.rand(a, a, i, i).astype(np.float64)\n",
    "T_0y_new = T_0y_old.reshape(a**2)\n",
    "T_0y_new_sp = sp.csr_matrix(T_0y_new)\n",
    "\n",
    "V_pqcd_old = np.random.rand(p, p, a, a).astype(np.float64)\n",
    "V_pqcd_new = V_pqcd_old.reshape(p**2, a**2)\n",
    "V_pqcd_new_sp = sp.csr_matrix(V_pqcd_new)"
   ]
  },
  {
   "cell_type": "code",
   "execution_count": 24,
   "id": "0b663c79",
   "metadata": {},
   "outputs": [
    {
     "name": "stdout",
     "output_type": "stream",
     "text": [
      "New Einsum:\n",
      "Equal: True\n",
      "Max absolute difference: 2.1316282072803006e-14 \n",
      "\n",
      "Dot:\n",
      "Equal: True\n",
      "Max absolute difference: 2.1316282072803006e-14 \n",
      "\n",
      "Dot Sparse:\n",
      "Equal: True\n",
      "Max absolute difference: 2.1316282072803006e-14\n"
     ]
    }
   ],
   "source": [
    "R_old += oe.contract(\"ap,bq,pqcd,cdij->abij\", A_old, A_old, V_pqcd_old, T_0y_old)\n",
    "R_new += oe.contract(\"BQ,QC,C->B\", AA, V_pqcd_new, T_0y_new).reshape(a, a)\n",
    "R_new_dot += (AA @ (V_pqcd_new @ T_0y_new)).reshape(a, a)\n",
    "R_new_dot_sp += (AA_sp @ (V_pqcd_new_sp @ T_0y_new_sp.T)).reshape(a, a).toarray()\n",
    "\n",
    "print(\"New Einsum:\")\n",
    "print(\"Equal:\", np.allclose(R_new, R_old.reshape(a, a)))\n",
    "\n",
    "diff = np.abs(R_new - R_old.reshape(a ,a))\n",
    "max_diff = np.max(diff)\n",
    "print(\"Max absolute difference:\", max_diff, \"\\n\")\n",
    "\n",
    "print(\"Dot:\")\n",
    "print(\"Equal:\", np.allclose(R_new_dot, R_old.reshape(a, a)))\n",
    "\n",
    "diff = np.abs(R_new_dot - R_old.reshape(a, a))\n",
    "max_diff = np.max(diff)\n",
    "print(\"Max absolute difference:\", max_diff, \"\\n\")\n",
    "\n",
    "print(\"Dot Sparse:\")\n",
    "print(\"Equal:\", np.allclose(R_new_dot_sp, R_old.reshape(a, a)))\n",
    "\n",
    "diff1 = np.abs(R_new_dot_sp - R_old.reshape(a, a))\n",
    "max_diff = np.max(diff1)\n",
    "print(\"Max absolute difference:\", max_diff)"
   ]
  },
  {
   "cell_type": "markdown",
   "id": "8bf70834",
   "metadata": {},
   "source": [
    "Term 3."
   ]
  },
  {
   "cell_type": "code",
   "execution_count": 25,
   "id": "bcf90118",
   "metadata": {},
   "outputs": [],
   "source": [
    "R_new = np.zeros((a, a), dtype=np.float64)\n",
    "R_old = np.zeros((a, a, i, i), dtype=np.float64)\n",
    "R_new_dot = np.zeros((a, a), dtype=np.float64)\n",
    "R_new_dot_sp = sp.csr_matrix(np.zeros((a, a), dtype=np.float64))\n",
    "\n",
    "V_klpq_old = np.random.rand(i, i, p, p)\n",
    "V_klpq_new = V_klpq_old.reshape(p, p)\n",
    "V_klpq_new_sp = sp.csr_matrix(V_klpq_new)\n",
    "\n",
    "T_0y_new_3 = T_0y_old.reshape(a, a)\n",
    "T_0y_new_3_sp = sp.csr_matrix(T_0y_new_3)"
   ]
  },
  {
   "cell_type": "code",
   "execution_count": 26,
   "id": "f8b481f9",
   "metadata": {},
   "outputs": [
    {
     "name": "stdout",
     "output_type": "stream",
     "text": [
      "New Einsum:\n",
      "Equal: True\n",
      "Max absolute difference: 0.0 \n",
      "\n",
      "Dot:\n",
      "Equal: True\n",
      "Max absolute difference: 0.0 \n",
      "\n",
      "Dot Sparse:\n",
      "Equal: True\n",
      "Max absolute difference: 1.7763568394002505e-15\n"
     ]
    }
   ],
   "source": [
    "R_old -= oe.contract(\"abkl,klpq,pi,qj->abij\", T_0y_old, V_klpq_old, B_old, B_old)\n",
    "R_new -= oe.contract(\"ab,pq,p,q->ab\", T_0y_new_3, V_klpq_new, B_new, B_new)\n",
    "R_new_dot -= T_0y_new_3 * ((V_klpq_new @ B_new) @ B_new)\n",
    "R_new_dot_sp -= (T_0y_new_3_sp * ((V_klpq_new_sp @ B_new_sp).T @ B_new_sp)[0 ,0]).toarray()\n",
    "\n",
    "print(\"New Einsum:\")\n",
    "print(\"Equal:\", np.allclose(R_new, R_old.reshape(a, a)))\n",
    "\n",
    "diff = np.abs(R_new - R_old.reshape(a ,a))\n",
    "max_diff = np.max(diff)\n",
    "print(\"Max absolute difference:\", max_diff, \"\\n\")\n",
    "\n",
    "print(\"Dot:\")\n",
    "print(\"Equal:\", np.allclose(R_new_dot, R_old.reshape(a, a)))\n",
    "\n",
    "diff = np.abs(R_new_dot - R_old.reshape(a, a))\n",
    "max_diff = np.max(diff)\n",
    "print(\"Max absolute difference:\", max_diff, \"\\n\")\n",
    "\n",
    "print(\"Dot Sparse:\")\n",
    "print(\"Equal:\", np.allclose(R_new_dot_sp, R_old.reshape(a, a)))\n",
    "\n",
    "diff1 = np.abs(R_new_dot_sp - R_old.reshape(a, a))\n",
    "max_diff = np.max(diff1)\n",
    "print(\"Max absolute difference:\", max_diff)"
   ]
  },
  {
   "cell_type": "markdown",
   "id": "fad789ef",
   "metadata": {},
   "source": [
    "Term 4."
   ]
  },
  {
   "cell_type": "code",
   "execution_count": 27,
   "id": "6bdcbb92",
   "metadata": {},
   "outputs": [],
   "source": [
    "R_new = np.zeros((a, a), dtype=np.float64)\n",
    "R_old = np.zeros((a, a, i, i), dtype=np.float64)\n",
    "R_new_dot = np.zeros((a, a), dtype=np.float64)\n",
    "R_new_dot_sp = sp.csr_matrix(np.zeros((a, a), dtype=np.float64))\n",
    "\n",
    "T_0y_new_3 = T_0y_old.reshape(a, a)\n",
    "T_0y_new_3_sp = sp.csr_matrix(T_0y_new_3)\n",
    "\n",
    "V_klcd_old = np.random.rand(i, i, a, a)\n",
    "V_klcd_new = V_klcd_old.reshape(a, a)\n",
    "V_klcd_new_sp = sp.csr_matrix(V_klcd_new)"
   ]
  },
  {
   "cell_type": "code",
   "execution_count": 28,
   "id": "bc1da7fe",
   "metadata": {},
   "outputs": [
    {
     "name": "stdout",
     "output_type": "stream",
     "text": [
      "New Einsum:\n",
      "Equal: True\n",
      "Max absolute difference: 0.0 \n",
      "\n",
      "Dot:\n",
      "Equal: True\n",
      "Max absolute difference: 0.0 \n",
      "\n",
      "Dot Sparse:\n",
      "Equal: True\n",
      "Max absolute difference: 0.0\n"
     ]
    }
   ],
   "source": [
    "R_old -= oe.contract(\"abkl,klcd,cdij->abij\", T_0y_old, V_klcd_old, T_0y_old)\n",
    "R_new -= oe.contract(\"ab,cd,cd->ab\", T_0y_new_3, V_klcd_new, T_0y_new_3)\n",
    "R_new_dot -= T_0y_new_3 * np.sum(V_klcd_new * T_0y_new_3)\n",
    "R_new_dot_sp -= (T_0y_new_3_sp * np.sum(V_klcd_new_sp.multiply(T_0y_new_3_sp))).toarray()\n",
    "\n",
    "print(\"New Einsum:\")\n",
    "print(\"Equal:\", np.allclose(R_new, R_old.reshape(a, a)))\n",
    "\n",
    "diff = np.abs(R_new - R_old.reshape(a ,a))\n",
    "max_diff = np.max(diff)\n",
    "print(\"Max absolute difference:\", max_diff, \"\\n\")\n",
    "\n",
    "print(\"Dot:\")\n",
    "print(\"Equal:\", np.allclose(R_new_dot, R_old.reshape(a, a)))\n",
    "\n",
    "diff = np.abs(R_new_dot - R_old.reshape(a, a))\n",
    "max_diff = np.max(diff)\n",
    "print(\"Max absolute difference:\", max_diff, \"\\n\")\n",
    "\n",
    "print(\"Dot Sparse:\")\n",
    "print(\"Equal:\", np.allclose(R_new_dot_sp, R_old.reshape(a, a)))\n",
    "\n",
    "diff1 = np.abs(R_new_dot_sp - R_old.reshape(a, a))\n",
    "max_diff = np.max(diff1)\n",
    "print(\"Max absolute difference:\", max_diff)"
   ]
  },
  {
   "cell_type": "markdown",
   "id": "84cea25a",
   "metadata": {},
   "source": [
    "Term 5."
   ]
  },
  {
   "cell_type": "code",
   "execution_count": 29,
   "id": "f4420e22",
   "metadata": {},
   "outputs": [],
   "source": [
    "R_new = np.zeros((a, a), dtype=np.float64)\n",
    "R_old = np.zeros((a, a, i, i), dtype=np.float64)\n",
    "R_new_dot = np.zeros((a, a), dtype=np.float64)\n",
    "R_new_dot_sp = sp.csr_matrix(np.zeros((a, a), dtype=np.float64))\n",
    "\n",
    "V_klcd_old = np.random.rand(i, i, a, a)\n",
    "V_klcd_new = V_klcd_old.reshape(a, a)\n",
    "V_klcd_new_sp = sp.csr_matrix(V_klcd_new)\n",
    "\n",
    "T_0z_old = np.random.rand(a, a, i, i)\n",
    "T_0z_new = T_0z_old.reshape(a, a)\n",
    "T_0z_new_sp = sp.csr_matrix(T_0z_new)\n",
    "\n",
    "T_yw_old = np.random.rand(a, a, i, i)\n",
    "T_yw_new = T_yw_old.reshape(a, a)\n",
    "T_yw_new_sp = sp.csr_matrix(T_yw_new)"
   ]
  },
  {
   "cell_type": "code",
   "execution_count": 30,
   "id": "62fcfc66",
   "metadata": {},
   "outputs": [
    {
     "name": "stdout",
     "output_type": "stream",
     "text": [
      "New Einsum:\n",
      "Equal: True\n",
      "Max absolute difference: 0.0 \n",
      "\n",
      "Dot:\n",
      "Equal: True\n",
      "Max absolute difference: 0.0 \n",
      "\n",
      "Dot Sparse:\n",
      "Equal: True\n",
      "Max absolute difference: 4.440892098500626e-16\n"
     ]
    }
   ],
   "source": [
    "R_old += oe.contract(\"klcd,acik,bdjl->abij\", V_klcd_old, T_0z_old, T_yw_old)\n",
    "R_new += oe.contract(\"cd,ac,bd->ab\", V_klcd_new, T_0z_new, T_yw_new)\n",
    "R_new_dot += T_0z_new @ V_klcd_new @ T_yw_new.T\n",
    "R_new_dot_sp += (T_0z_new_sp @ V_klcd_new_sp @ T_yw_new_sp.T).toarray()\n",
    "\n",
    "print(\"New Einsum:\")\n",
    "print(\"Equal:\", np.allclose(R_new, R_old.reshape(a, a)))\n",
    "\n",
    "diff = np.abs(R_new - R_old.reshape(a ,a))\n",
    "max_diff = np.max(diff)\n",
    "print(\"Max absolute difference:\", max_diff, \"\\n\")\n",
    "\n",
    "print(\"Dot:\")\n",
    "print(\"Equal:\", np.allclose(R_new_dot, R_old.reshape(a, a)))\n",
    "\n",
    "diff = np.abs(R_new_dot - R_old.reshape(a, a))\n",
    "max_diff = np.max(diff)\n",
    "print(\"Max absolute difference:\", max_diff, \"\\n\")\n",
    "\n",
    "print(\"Dot Sparse:\")\n",
    "print(\"Equal:\", np.allclose(R_new_dot_sp, R_old.reshape(a, a)))\n",
    "\n",
    "diff1 = np.abs(R_new_dot_sp - R_old.reshape(a, a))\n",
    "max_diff = np.max(diff1)\n",
    "print(\"Max absolute difference:\", max_diff)"
   ]
  },
  {
   "cell_type": "markdown",
   "id": "9c4de467",
   "metadata": {},
   "source": [
    "## Residual double sym 1."
   ]
  },
  {
   "cell_type": "markdown",
   "id": "7704d6a9",
   "metadata": {},
   "source": [
    "Term 1."
   ]
  },
  {
   "cell_type": "code",
   "execution_count": 31,
   "id": "474d2b66",
   "metadata": {},
   "outputs": [],
   "source": [
    "R_new = np.zeros((a, a), dtype=np.float64)\n",
    "R_old = np.zeros((a, a, i, i), dtype=np.float64)\n",
    "R_new_dot = np.zeros((a, a), dtype=np.float64)\n",
    "R_new_dot_sp = sp.csr_matrix(np.zeros((a, a), dtype=np.float64))\n",
    "\n",
    "h_pa = np.random.rand(p, a)\n",
    "h_pa_new = h_pa\n",
    "h_pa_new_sp = sp.csr_matrix(h_pa)\n",
    "\n",
    "T_xy_old = np.random.rand(a, a, i, i)\n",
    "T_xy_new = T_xy_old.reshape(a, a)\n",
    "T_xy_new_sp = sp.csr_matrix(T_xy_new)"
   ]
  },
  {
   "cell_type": "code",
   "execution_count": 32,
   "id": "0b91ba84",
   "metadata": {},
   "outputs": [
    {
     "name": "stdout",
     "output_type": "stream",
     "text": [
      "New Einsum:\n",
      "Equal: True\n",
      "Max absolute difference: 0.0 \n",
      "\n",
      "Dot:\n",
      "Equal: True\n",
      "Max absolute difference: 8.881784197001252e-16 \n",
      "\n",
      "Dot Sparse:\n",
      "Equal: True\n",
      "Max absolute difference: 8.881784197001252e-16\n"
     ]
    }
   ],
   "source": [
    "R_old += oe.contract(\"ap,pc,cbij->abij\", A_old, h_pa, T_xy_old)\n",
    "R_new += oe.contract(\"ap,pc,cb->ab\", A_old, h_pa, T_xy_new)\n",
    "R_new_dot += A_old @ h_pa_new @ T_xy_new\n",
    "R_new_dot_sp += (A_old_sp @ h_pa_new_sp @ T_xy_new_sp).toarray()\n",
    "\n",
    "print(\"New Einsum:\")\n",
    "print(\"Equal:\", np.allclose(R_new, R_old.reshape(a, a)))\n",
    "\n",
    "diff = np.abs(R_new - R_old.reshape(a ,a))\n",
    "max_diff = np.max(diff)\n",
    "print(\"Max absolute difference:\", max_diff, \"\\n\")\n",
    "\n",
    "print(\"Dot:\")\n",
    "print(\"Equal:\", np.allclose(R_new_dot, R_old.reshape(a, a)))\n",
    "\n",
    "diff = np.abs(R_new_dot - R_old.reshape(a, a))\n",
    "max_diff = np.max(diff)\n",
    "print(\"Max absolute difference:\", max_diff, \"\\n\")\n",
    "\n",
    "print(\"Dot Sparse:\")\n",
    "print(\"Equal:\", np.allclose(R_new_dot_sp, R_old.reshape(a, a)))\n",
    "\n",
    "diff1 = np.abs(R_new_dot_sp - R_old.reshape(a, a))\n",
    "max_diff = np.max(diff1)\n",
    "print(\"Max absolute difference:\", max_diff)"
   ]
  },
  {
   "cell_type": "markdown",
   "id": "64d7b5e9",
   "metadata": {},
   "source": [
    "Term 2."
   ]
  },
  {
   "cell_type": "code",
   "execution_count": 33,
   "id": "5cdefa34",
   "metadata": {},
   "outputs": [],
   "source": [
    "R_new = np.zeros((a, a), dtype=np.float64)\n",
    "R_old = np.zeros((a, a, i, i), dtype=np.float64)\n",
    "R_new_dot = np.zeros((a, a), dtype=np.float64)\n",
    "R_new_dot_sp = sp.csr_matrix(np.zeros((a, a), dtype=np.float64))\n",
    "\n",
    "h_ip_old = np.random.rand(i, p)\n",
    "h_ip_new = h_ip_old.reshape(p)\n",
    "h_ip_new_sp = sp.csr_matrix(h_ip_new)\n",
    "\n",
    "T_xy_old = np.random.rand(a, a, i, i)\n",
    "T_xy_new = T_xy_old.reshape(a, a)\n",
    "T_xy_new_sp = sp.csr_matrix(T_xy_new)"
   ]
  },
  {
   "cell_type": "code",
   "execution_count": 34,
   "id": "ff614b82",
   "metadata": {},
   "outputs": [
    {
     "name": "stdout",
     "output_type": "stream",
     "text": [
      "New Einsum:\n",
      "Equal: True\n",
      "Max absolute difference: 0.0 \n",
      "\n",
      "Dot:\n",
      "Equal: True\n",
      "Max absolute difference: 0.0 \n",
      "\n",
      "Dot Sparse:\n",
      "Equal: True\n",
      "Max absolute difference: 2.220446049250313e-16\n"
     ]
    }
   ],
   "source": [
    "R_old -= oe.contract(\"abkj,kp,pi->abij\", T_xy_old, h_ip_old, B_old)\n",
    "R_new -= oe.contract(\"ab,p,p->ab\", T_xy_new, h_ip_new, B_new)\n",
    "R_new_dot -= T_xy_new * (h_ip_new @ B_new)\n",
    "R_new_dot_sp -= (T_xy_new_sp * (h_ip_new_sp @ B_new_sp)[0,0]).toarray()\n",
    "\n",
    "print(\"New Einsum:\")\n",
    "print(\"Equal:\", np.allclose(R_new, R_old.reshape(a, a)))\n",
    "\n",
    "diff = np.abs(R_new - R_old.reshape(a ,a))\n",
    "max_diff = np.max(diff)\n",
    "print(\"Max absolute difference:\", max_diff, \"\\n\")\n",
    "\n",
    "print(\"Dot:\")\n",
    "print(\"Equal:\", np.allclose(R_new_dot, R_old.reshape(a, a)))\n",
    "\n",
    "diff = np.abs(R_new_dot - R_old.reshape(a, a))\n",
    "max_diff = np.max(diff)\n",
    "print(\"Max absolute difference:\", max_diff, \"\\n\")\n",
    "\n",
    "print(\"Dot Sparse:\")\n",
    "print(\"Equal:\", np.allclose(R_new_dot_sp, R_old.reshape(a, a)))\n",
    "\n",
    "diff1 = np.abs(R_new_dot_sp - R_old.reshape(a, a))\n",
    "max_diff = np.max(diff1)\n",
    "print(\"Max absolute difference:\", max_diff)"
   ]
  },
  {
   "cell_type": "markdown",
   "id": "226737da",
   "metadata": {},
   "source": [
    "Term 3."
   ]
  },
  {
   "cell_type": "code",
   "execution_count": 35,
   "id": "90cc31ad",
   "metadata": {},
   "outputs": [],
   "source": [
    "R_new = np.zeros((a, a), dtype=np.float64)\n",
    "R_old = np.zeros((a, a, i, i), dtype=np.float64)\n",
    "R_new_dot = np.zeros((a, a), dtype=np.float64)\n",
    "R_new_dot_sp = sp.csr_matrix(np.zeros((a, a), dtype=np.float64))\n",
    "\n",
    "T_xz_old = np.random.rand(a, a, i, i).astype(np.float64)\n",
    "T_xz_new = T_xz_old.reshape(a, a)\n",
    "T_xz_new_sp = sp.csr_matrix(T_xz_new)\n",
    "\n",
    "V_ipap_old = np.random.rand(i, p, a, p).astype(np.float64)\n",
    "V_ipap_new = V_ipap_old.reshape(p, a, p)\n",
    "V_ipap_new_sp = sp.csr_matrix(V_ipap_new.reshape(p*a, p))"
   ]
  },
  {
   "cell_type": "code",
   "execution_count": 36,
   "id": "b82a944c",
   "metadata": {},
   "outputs": [
    {
     "name": "stdout",
     "output_type": "stream",
     "text": [
      "New Einsum:\n",
      "Equal: True\n",
      "Max absolute difference: 0.0 \n",
      "\n",
      "Dot:\n",
      "Equal: True\n",
      "Max absolute difference: 1.7763568394002505e-15 \n",
      "\n",
      "Dot Sparse:\n",
      "Equal: True\n",
      "Max absolute difference: 1.7763568394002505e-15\n"
     ]
    }
   ],
   "source": [
    "R_old += oe.contract(\"acik,krcs,br,sj->abij\", T_xz_old, V_ipap_old, A_old, B_old)\n",
    "R_new += oe.contract(\"ac,rcs,br,s->ab\", T_xz_new, V_ipap_new, A_old, B_new)\n",
    "R_new_dot += T_xz_new @ (A_old @ (V_ipap_new.reshape(p*a, p) @ B_new).reshape(p, a)).T\n",
    "R_new_dot_sp += (T_xz_new_sp @ (A_old_sp @ (V_ipap_new_sp @ B_new_sp).reshape(p, a)).T).toarray()\n",
    "\n",
    "print(\"New Einsum:\")\n",
    "print(\"Equal:\", np.allclose(R_new, R_old.reshape(a, a)))\n",
    "\n",
    "diff = np.abs(R_new - R_old.reshape(a ,a))\n",
    "max_diff = np.max(diff)\n",
    "print(\"Max absolute difference:\", max_diff, \"\\n\")\n",
    "\n",
    "print(\"Dot:\")\n",
    "print(\"Equal:\", np.allclose(R_new_dot, R_old.reshape(a, a)))\n",
    "\n",
    "diff = np.abs(R_new_dot - R_old.reshape(a, a))\n",
    "max_diff = np.max(diff)\n",
    "print(\"Max absolute difference:\", max_diff, \"\\n\")\n",
    "\n",
    "print(\"Dot Sparse:\")\n",
    "print(\"Equal:\", np.allclose(R_new_dot_sp, R_old.reshape(a, a)))\n",
    "\n",
    "diff1 = np.abs(R_new_dot_sp - R_old.reshape(a, a))\n",
    "max_diff = np.max(diff1)\n",
    "print(\"Max absolute difference:\", max_diff)"
   ]
  },
  {
   "cell_type": "markdown",
   "id": "fc29b533",
   "metadata": {},
   "source": [
    "Term 4."
   ]
  },
  {
   "cell_type": "code",
   "execution_count": 37,
   "id": "869ee321",
   "metadata": {},
   "outputs": [],
   "source": [
    "R_new = np.zeros((a, a), dtype=np.float64)\n",
    "R_old = np.zeros((a, a, i, i), dtype=np.float64)\n",
    "R_new_dot = np.zeros((a, a), dtype=np.float64)\n",
    "R_new_dot_sp = sp.csr_matrix(np.zeros((a, a), dtype=np.float64))\n",
    "\n",
    "T_cb_old = np.random.rand(a, a, i, i)\n",
    "T_cb_new = T_cb_old.reshape(a, a)\n",
    "T_cb_new_sp = sp.csr_matrix(T_cb_new)\n",
    "\n",
    "V_piap_old = np.random.rand(p, i, a, p)\n",
    "V_piap_new = V_piap_old.reshape(p, a, p)\n",
    "V_piap_new_sp = sp.csr_matrix(V_piap_new.reshape(p*a, p))"
   ]
  },
  {
   "cell_type": "code",
   "execution_count": 38,
   "id": "2561be0c",
   "metadata": {},
   "outputs": [
    {
     "name": "stdout",
     "output_type": "stream",
     "text": [
      "New Einsum:\n",
      "Equal: True\n",
      "Max absolute difference: 3.552713678800501e-15 \n",
      "\n",
      "Dot:\n",
      "Equal: True\n",
      "Max absolute difference: 3.552713678800501e-15 \n",
      "\n",
      "Dot Sparse:\n",
      "Equal: True\n",
      "Max absolute difference: 3.552713678800501e-15\n"
     ]
    }
   ],
   "source": [
    "R_old += oe.contract(\"bq,qlds,adij,sl->abij\", A_old, V_piap_old, T_cb_old, B_old)\n",
    "R_new += oe.contract(\"bq,qds,ad,s->ab\", A_old, V_piap_new, T_cb_new, B_new)\n",
    "R_new_dot += T_cb_new @ (A_old @ (V_piap_new.reshape(p*a, p) @ B_new).reshape(p, a)).T\n",
    "R_new_dot_sp += (T_cb_new_sp @ (A_old_sp @ (V_piap_new_sp @ B_new_sp).reshape(p, a)).T).toarray()\n",
    "\n",
    "print(\"New Einsum:\")\n",
    "print(\"Equal:\", np.allclose(R_new, R_old.reshape(a, a)))\n",
    "\n",
    "diff = np.abs(R_new - R_old.reshape(a ,a))\n",
    "max_diff = np.max(diff)\n",
    "print(\"Max absolute difference:\", max_diff, \"\\n\")\n",
    "\n",
    "print(\"Dot:\")\n",
    "print(\"Equal:\", np.allclose(R_new_dot, R_old.reshape(a, a)))\n",
    "\n",
    "diff = np.abs(R_new_dot - R_old.reshape(a, a))\n",
    "max_diff = np.max(diff)\n",
    "print(\"Max absolute difference:\", max_diff, \"\\n\")\n",
    "\n",
    "print(\"Dot Sparse:\")\n",
    "print(\"Equal:\", np.allclose(R_new_dot_sp, R_old.reshape(a, a)))\n",
    "\n",
    "diff1 = np.abs(R_new_dot_sp - R_old.reshape(a, a))\n",
    "max_diff = np.max(diff1)\n",
    "print(\"Max absolute difference:\", max_diff)"
   ]
  },
  {
   "cell_type": "markdown",
   "id": "3d053629",
   "metadata": {},
   "source": [
    "Term 5."
   ]
  },
  {
   "cell_type": "code",
   "execution_count": 39,
   "id": "84ec5ca8",
   "metadata": {},
   "outputs": [],
   "source": [
    "R_new = np.zeros((a, a), dtype=np.float64)\n",
    "R_old = np.zeros((a, a, i, i), dtype=np.float64)\n",
    "R_new_dot = np.zeros((a, a), dtype=np.float64)\n",
    "R_new_dot_sp = sp.csr_matrix(np.zeros((a, a), dtype=np.float64))\n",
    "\n",
    "T_cb_old = np.random.rand(a, a, i, i)\n",
    "T_cb_new = T_cb_old.reshape(a, a)\n",
    "T_cb_new_sp = sp.csr_matrix(T_cb_new)\n",
    "\n",
    "V_iipp_old = np.random.rand(i, i, p, p)\n",
    "V_iipp_new = V_iipp_old.reshape(p, p)\n",
    "V_iipp_new_sp = sp.csr_matrix(V_iipp_new)"
   ]
  },
  {
   "cell_type": "code",
   "execution_count": 40,
   "id": "412c6f3a",
   "metadata": {},
   "outputs": [
    {
     "name": "stdout",
     "output_type": "stream",
     "text": [
      "New Einsum:\n",
      "Equal: True\n",
      "Max absolute difference: 1.7763568394002505e-15 \n",
      "\n",
      "Dot:\n",
      "Equal: True\n",
      "Max absolute difference: 1.7763568394002505e-15 \n",
      "\n",
      "Dot Sparse:\n",
      "Equal: True\n",
      "Max absolute difference: 1.7763568394002505e-15\n"
     ]
    }
   ],
   "source": [
    "R_old -= oe.contract(\"abkj,lkrp,pi,rl->abij\", T_cb_old, V_iipp_old, B_old, B_old)\n",
    "R_new -= oe.contract(\"ab,rp,p,r->ab\", T_cb_new, V_iipp_new, B_new, B_new)\n",
    "R_new_dot -= T_cb_new *((V_iipp_new @ B_new) @ B_new)\n",
    "R_new_dot_sp -= (T_cb_new_sp *((V_iipp_new_sp @ B_new_sp).T @ B_new_sp)[0, 0]).toarray()\n",
    "\n",
    "print(\"New Einsum:\")\n",
    "print(\"Equal:\", np.allclose(R_new, R_old.reshape(a, a)))\n",
    "\n",
    "diff = np.abs(R_new - R_old.reshape(a ,a))\n",
    "max_diff = np.max(diff)\n",
    "print(\"Max absolute difference:\", max_diff, \"\\n\")\n",
    "\n",
    "print(\"Dot:\")\n",
    "print(\"Equal:\", np.allclose(R_new_dot, R_old.reshape(a, a)))\n",
    "\n",
    "diff = np.abs(R_new_dot - R_old.reshape(a, a))\n",
    "max_diff = np.max(diff)\n",
    "print(\"Max absolute difference:\", max_diff, \"\\n\")\n",
    "\n",
    "print(\"Dot Sparse:\")\n",
    "print(\"Equal:\", np.allclose(R_new_dot_sp, R_old.reshape(a, a)))\n",
    "\n",
    "diff1 = np.abs(R_new_dot_sp - R_old.reshape(a, a))\n",
    "max_diff = np.max(diff1)\n",
    "print(\"Max absolute difference:\", max_diff)"
   ]
  },
  {
   "cell_type": "code",
   "execution_count": 41,
   "id": "c7ca3376",
   "metadata": {},
   "outputs": [],
   "source": [
    "\n",
    "    # # h terms\n",
    "    # if np.array_equal(terms.h_pp.toarray(), qs.h_term(p, p)):\n",
    "    #     print(\"h_pp match: True\")\n",
    "    # else:\n",
    "    #     print(\"h_pp mismatch:\")\n",
    "    #     print(np.abs(terms.h_pp.toarray() - qs.h_term(p, p)))\n",
    "\n",
    "    # if np.array_equal(terms.h_pa.toarray(), qs.h_term(p, a)):\n",
    "    #     print(\"h_pa match: True\")\n",
    "    # else:\n",
    "    #     print(\"h_pa mismatch:\")\n",
    "    #     print(np.abs(terms.h_pa.toarray() - qs.h_term(p, a)))\n",
    "\n",
    "    # if np.array_equal(terms.h_ip.toarray(), qs.h_term(i, p).reshape(i, p)):\n",
    "    #     print(\"h_ip match: True\")\n",
    "    # else:\n",
    "    #     print(\"h_ip mismatch:\")\n",
    "    #     print(np.abs(terms.h_ip.toarray() - qs.h_term(i, p).reshape(i, p)))\n",
    "\n",
    "    # # V terms\n",
    "    # if np.array_equal(terms.V_pppp.toarray(), qs.v_term(p, p, p, p).reshape(p**2, p**2)):\n",
    "    #     print(\"V_pppp match: True\")\n",
    "    # else:\n",
    "    #     print(\"V_pppp mismatch:\")\n",
    "    #     print(np.abs(terms.V_pppp.toarray() - qs.v_term(p, p, p, p).reshape(p**2, p**2)))\n",
    "\n",
    "    # if np.array_equal(terms.V_ppaa.toarray(), qs.v_term(p, p, a, a).reshape(p**2, a**2)):\n",
    "    #     print(\"V_ppaa match: True\")\n",
    "    # else:\n",
    "    #     print(\"V_ppaa mismatch:\")\n",
    "    #     print(np.abs(terms.V_ppaa.toarray() - qs.v_term(p, p, a, a).reshape(p**2, a**2)))\n",
    "\n",
    "    # if np.array_equal(terms.V_iipp.toarray(), qs.v_term(i, i, p, p).reshape(p, p)):\n",
    "    #     print(\"V_iipp match: True\")\n",
    "    # else:\n",
    "    #     print(\"V_iipp mismatch:\")\n",
    "    #     print(np.abs(terms.V_iipp.toarray() - qs.v_term(i, i, p, p).reshape(p, p)))\n",
    "\n",
    "    # if np.array_equal(terms.V_iiaa.toarray(), qs.v_term(i, i, a, a).reshape(a, a)):\n",
    "    #     print(\"V_iiaa match: True\")\n",
    "    # else:\n",
    "    #     print(\"V_iiaa mismatch:\")\n",
    "    #     print(np.abs(terms.V_iiaa.toarray() - qs.v_term(i, i, a, a).reshape(a, a)))\n",
    "\n",
    "    # if np.array_equal(terms.V_piaa.toarray(), qs.v_term(p, i, a, a).reshape(p, a**2)):\n",
    "    #     print(\"V_piaa match: True\")\n",
    "    # else:\n",
    "    #     print(\"V_piaa mismatch:\")\n",
    "    #     print(np.abs(terms.V_piaa.toarray() - qs.v_term(p, i, a, a).reshape(p, a**2)))\n",
    "\n",
    "    # if np.array_equal(terms.V_pipp.toarray(), qs.v_term(p, i, p, p).reshape(p, p**2)):\n",
    "    #     print(\"V_pipp match: True\")\n",
    "    # else:\n",
    "    #     print(\"V_pipp mismatch:\")\n",
    "    #     print(np.abs(terms.V_pipp.toarray() - qs.v_term(p, i, p, p).reshape(p, p**2)))\n",
    "\n",
    "    # if np.array_equal(terms.V_ipap.toarray(), qs.v_term(i, p, a, p).reshape(p*a, p)):\n",
    "    #     print(\"V_ipap match: True\")\n",
    "    # else:\n",
    "    #     print(\"V_ipap mismatch:\")\n",
    "    #     print(np.abs(terms.V_ipap.toarray() - qs.v_term(i, p, a, p).reshape(p*a, p)))\n",
    "\n",
    "    # if np.array_equal(terms.V_piap.toarray(), qs.v_term(p, i, a, p).reshape(p*a, p)):\n",
    "    #     print(\"V_piap match: True\")\n",
    "    # else:\n",
    "    #     print(\"V_piap mismatch:\")\n",
    "    #     print(np.abs(terms.V_piap.toarray() - qs.v_term(p, i, a, p).reshape(p*a, p)))"
   ]
  },
  {
   "cell_type": "code",
   "execution_count": 42,
   "id": "d2cff098",
   "metadata": {},
   "outputs": [],
   "source": [
    "# tensors.t_a_i_tensor, tensors.t_ab_ij_array = tensors.t_a_i_tensor.toarray().reshape(a), np.array([mat.toarray() for mat in tensors.t_ab_ij_array])\n",
    "\n",
    "# # Check a_term\n",
    "# if np.allclose(terms.a_term.toarray(), qs.A_term(a)):\n",
    "#     print(\"a_term match: True\")\n",
    "# else:\n",
    "#     print(\"a_term mismatch:\")\n",
    "#     print(np.abs(terms.a_term.toarray() - qs.A_term(a)))\n",
    "\n",
    "# # Check b_term\n",
    "# if np.allclose(terms.b_term.toarray(), qs.B_term(i).reshape(p, i)):\n",
    "#     print(\"b_term match: True\")\n",
    "# else:\n",
    "#     print(\"b_term mismatch:\")\n",
    "#     print(np.abs(terms.b_term.toarray() - qs.B_term(i).reshape(-1, 1)))\n",
    "\n",
    "# # Check bb_term\n",
    "# bb_dense = np.outer(qs.B_term(i), qs.B_term(i)).reshape(p**2)\n",
    "# if np.allclose(terms.bb_term.toarray().flatten(), bb_dense):\n",
    "#     print(\"bb_term match: True\")\n",
    "# else:\n",
    "#     print(\"bb_term mismatch:\")\n",
    "#     print(np.abs(terms.bb_term.toarray().flatten() - bb_dense))\n",
    "\n",
    "# # Check aa_term\n",
    "# aa_dense = np.einsum(\"ap,bq->abpq\", qs.A_term(a), qs.A_term(a)).reshape(a**2, p**2)\n",
    "# if np.allclose(terms.aa_term.toarray(), aa_dense):\n",
    "#     print(\"aa_term match: True\")\n",
    "# else:\n",
    "#     print(\"aa_term mismatch:\")\n",
    "#     print(np.abs(terms.aa_term.toarray() - aa_dense))\n",
    "\n",
    "# tensors.t_a_i_tensor, tensors.t_ab_ij_array = sp.csr_matrix(tensors.t_a_i_tensor), np.array(\n",
    "#     [sp.csr_matrix(tensors.t_ab_ij_array[i]) for i in range(site)],dtype=object)"
   ]
  },
  {
   "cell_type": "markdown",
   "id": "e1713042",
   "metadata": {},
   "source": [
    "# Design v_full"
   ]
  },
  {
   "cell_type": "code",
   "execution_count": 43,
   "id": "4ca8d23a",
   "metadata": {},
   "outputs": [],
   "source": [
    "state = p = 5\n",
    "a = p-1\n",
    "i = 1\n",
    "\n",
    "V_tensor = np.random.rand(p, p, p, p)"
   ]
  },
  {
   "cell_type": "code",
   "execution_count": 44,
   "id": "c06e5c47",
   "metadata": {},
   "outputs": [
    {
     "name": "stdout",
     "output_type": "stream",
     "text": [
      "0.2818533272042335\n",
      "0.2818533272042335\n"
     ]
    }
   ],
   "source": [
    "i = 1\n",
    "j = 2\n",
    "k = 3\n",
    "l = 4\n",
    "\n",
    "d1 = i*state + j\n",
    "d2 = k*state + l\n",
    "\n",
    "print(V_tensor[i, j, k, l])\n",
    "print(V_tensor.reshape(p**2, p**2)[d1, d2])"
   ]
  },
  {
   "cell_type": "code",
   "execution_count": 45,
   "id": "7c18f99b",
   "metadata": {},
   "outputs": [],
   "source": [
    "k_ind = np.arange(1, 5)\n",
    "l_ind = np.arange(1, 5)"
   ]
  },
  {
   "cell_type": "code",
   "execution_count": 46,
   "id": "a6fa5fe0",
   "metadata": {},
   "outputs": [],
   "source": [
    "indecies = np.zeros(a**2, dtype=int)\n",
    "index = 0\n",
    "for k in k_ind:\n",
    "    for l in l_ind:\n",
    "        indecies[index] = int(k*state + l)\n",
    "        index += 1"
   ]
  },
  {
   "cell_type": "code",
   "execution_count": 47,
   "id": "76634314",
   "metadata": {},
   "outputs": [
    {
     "data": {
      "text/plain": [
       "array([[0.173250836539, 0.81129440796 , 0.74031978218 , 0.876919677111],\n",
       "       [0.856010588893, 0.224905230425, 0.153140575889, 0.748739496207],\n",
       "       [0.18616102657 , 0.31709994312 , 0.706798321178, 0.151697001397],\n",
       "       [0.652098550085, 0.461367561906, 0.917824129276, 0.363572780164]])"
      ]
     },
     "execution_count": 47,
     "metadata": {},
     "output_type": "execute_result"
    }
   ],
   "source": [
    "V_tensor.reshape(p**2, p**2)[0:1, indecies].reshape(a, a)"
   ]
  },
  {
   "cell_type": "code",
   "execution_count": 48,
   "id": "c40a8efa",
   "metadata": {},
   "outputs": [
    {
     "data": {
      "text/plain": [
       "True"
      ]
     },
     "execution_count": 48,
     "metadata": {},
     "output_type": "execute_result"
    }
   ],
   "source": [
    "np.array_equal(V_tensor[0, 0, 1:5, 1:5], V_tensor.reshape(p**2, p**2)[0:1, indecies].reshape(a, a))"
   ]
  },
  {
   "cell_type": "code",
   "execution_count": 49,
   "id": "288cc0bc",
   "metadata": {},
   "outputs": [],
   "source": [
    "def v_term(v_upper_1, v_upper_2, v_lower_1, v_lower_2):\n",
    "    a_v_shift = [i if a_check == a else 0 for a_check in (v_upper_1, v_upper_2, v_lower_1, v_lower_2)]\n",
    "    return V_tensor[a_v_shift[0]:v_upper_1 + a_v_shift[0], a_v_shift[1]:v_upper_2 + a_v_shift[1], a_v_shift[2]:v_lower_1 + a_v_shift[2],a_v_shift[3]:v_lower_2 + a_v_shift[3]]"
   ]
  },
  {
   "cell_type": "code",
   "execution_count": 50,
   "id": "f619a764",
   "metadata": {},
   "outputs": [],
   "source": [
    "V_pppp=v_term(p, p, p, p).reshape(p**2, p**2) # 0, 0, 0, 0 -> 0:p, 0:p, 0:p, 0:p\n",
    "V_ppaa=v_term(p, p, a, a).reshape(p**2, a**2) # 0, 0, i, i -> 0:p, 0:p, i:p, i:p\n",
    "V_iipp=v_term(i, i, p, p).reshape(p, p) # 0, 0, 0, 0 -> 0:i, 0:i, 0:p, 0:p\n",
    "V_iiaa=v_term(i, i, a, a).reshape(a, a) # 0, 0, i, i -> 0:i, 0:i, i:p, i:p\n",
    "V_piaa=v_term(p, i, a, a).reshape(p, a**2) # 0, 0, i, i -> 0:p, 0:i, i:p, i:p\n",
    "V_pipp=v_term(p, i, p, p).reshape(p, p**2) # 0, 0, 0, 0 -> 0:p, 0:i, 0:p, 0:p\n",
    "V_ipap=v_term(i, p, a, p).reshape(p*a, p) # 0, 0, i, 0 -> 0:i, 0:p, i:p, 0:p\n",
    "V_piap=v_term(p, i, a, p).reshape(p*a, p) # 0, 0, i, 0 -> 0:p, 0:i, i:p, 0:p"
   ]
  },
  {
   "cell_type": "code",
   "execution_count": 51,
   "id": "d79717ae",
   "metadata": {},
   "outputs": [
    {
     "data": {
      "text/plain": [
       "<Compressed Sparse Row sparse array of dtype 'int64'\n",
       "\twith 3 stored elements and shape (8,)>"
      ]
     },
     "execution_count": 51,
     "metadata": {},
     "output_type": "execute_result"
    }
   ],
   "source": [
    "sp.csr_array([1, 2, 0, 0, 3, 0, 0, 0])"
   ]
  },
  {
   "cell_type": "code",
   "execution_count": 52,
   "id": "68902591",
   "metadata": {},
   "outputs": [],
   "source": [
    "V_matrix = sp.csr_matrix(V_tensor.reshape(p**2, p**2))"
   ]
  },
  {
   "cell_type": "code",
   "execution_count": 53,
   "id": "2219686d",
   "metadata": {},
   "outputs": [],
   "source": [
    "# csr_mat = sp.csr_matrix((data, (row_ind, col_ind)), shape=shape)"
   ]
  },
  {
   "cell_type": "code",
   "execution_count": 54,
   "id": "8ac18897",
   "metadata": {},
   "outputs": [],
   "source": [
    "    # v_4_start = [i if a_check == a else 0 for a_check in (v_upper_1, v_upper_2, v_lower_1, v_lower_2)]\n",
    "    # v_4_end = [v_4_start[i] + val for i, val in enumerate([v_upper_1, v_upper_2, v_lower_1, v_lower_2])]\n",
    "\n",
    "    # rows, colums = V_matrix.nonzero()\n",
    "    # data = np.array(V_matrix.data)"
   ]
  },
  {
   "cell_type": "code",
   "execution_count": 55,
   "id": "68eb56b2",
   "metadata": {},
   "outputs": [],
   "source": [
    "def v_term_sparse(v_u1, v_u2, v_l1, v_l2):\n",
    "\n",
    "    # Determine shift (offset) for each index depending on whether\n",
    "    # it belongs to the 'a' space (start after 'i') or 'i' (start at 0)\n",
    "    def shift(size): return i if size == a else 0\n",
    "\n",
    "    u1_shift = shift(v_u1)\n",
    "    u2_shift = shift(v_u2)\n",
    "    l1_shift = shift(v_l1)\n",
    "    l2_shift = shift(v_l2)\n",
    "\n",
    "    # Construct row and column index ranges\n",
    "    row_indices = [\n",
    "        (u1_shift + u1) * state + (u2_shift + u2)\n",
    "        for u1 in range(v_u1) for u2 in range(v_u2)\n",
    "    ]\n",
    "    col_indices = [\n",
    "        (l1_shift + l1) * state + (l2_shift + l2)\n",
    "        for l1 in range(v_l1) for l2 in range(v_l2)\n",
    "        ]\n",
    "    return V_matrix[np.ix_(row_indices, col_indices)]"
   ]
  },
  {
   "cell_type": "code",
   "execution_count": 56,
   "id": "7ab3ac70",
   "metadata": {},
   "outputs": [
    {
     "data": {
      "text/plain": [
       "array([[0.173250836539, 0.81129440796 , 0.74031978218 , 0.876919677111, 0.856010588893, 0.224905230425, 0.153140575889, 0.748739496207, 0.18616102657 , 0.31709994312 , 0.706798321178, 0.151697001397, 0.652098550085, 0.461367561906, 0.917824129276, 0.363572780164],\n",
       "       [0.097972935257, 0.281732800707, 0.138242998165, 0.468583800982, 0.502399604092, 0.223377109905, 0.029034524424, 0.275633024176, 0.641659897079, 0.141646803108, 0.301363157353, 0.479200846649, 0.976492139147, 0.354731044675, 0.12359669118 , 0.959611158371],\n",
       "       [0.998866198497, 0.613795214907, 0.777379646842, 0.411209113654, 0.468940869333, 0.773948932541, 0.704326199366, 0.859326781285, 0.306846052793, 0.611697839036, 0.770676609413, 0.557214402579, 0.784660774107, 0.971870213721, 0.558689862458, 0.589975460249],\n",
       "       [0.655792908824, 0.293791490858, 0.78092917087 , 0.039070479486, 0.852284397681, 0.817093995786, 0.696528956891, 0.60862917045 , 0.622974718118, 0.011841401567, 0.543449253486, 0.69815374144 , 0.227628644523, 0.935306742101, 0.54271991755 , 0.561183757663],\n",
       "       [0.057994443683, 0.945465332239, 0.592300926756, 0.945054516308, 0.965862965568, 0.577484366195, 0.903051170946, 0.460420862457, 0.830720522124, 0.876740860059, 0.733933186206, 0.812021472257, 0.004432857657, 0.622468909686, 0.456178824295, 0.900313334792]])"
      ]
     },
     "execution_count": 56,
     "metadata": {},
     "output_type": "execute_result"
    }
   ],
   "source": [
    "v_term_sparse(p, i, a, a).toarray()"
   ]
  },
  {
   "cell_type": "code",
   "execution_count": 57,
   "id": "eb6bf4e9",
   "metadata": {},
   "outputs": [
    {
     "name": "stdout",
     "output_type": "stream",
     "text": [
      "V_pppp match: True\n"
     ]
    }
   ],
   "source": [
    "V_pppp=v_term_sparse(p, p, p, p) # 0, 0, 0, 0 -> 0:p, 0:p, 0:p, 0:p\n",
    "\n",
    "if np.array_equal(V_pppp.toarray(), v_term(p, p, p, p).reshape(p**2, p**2)):\n",
    "    print(\"V_pppp match: True\")\n",
    "else:\n",
    "    print(\"V_pppp mismatch:\")\n",
    "    print(np.abs(V_pppp.toarray() - v_term(p, p, p, p).reshape(p**2, p**2)))"
   ]
  },
  {
   "cell_type": "code",
   "execution_count": 58,
   "id": "1f9173be",
   "metadata": {},
   "outputs": [
    {
     "name": "stdout",
     "output_type": "stream",
     "text": [
      "V_ppaa match: True\n"
     ]
    }
   ],
   "source": [
    "V_ppaa=v_term_sparse(p, p, a, a) # 0, 0, i, i -> 0:p, 0:p, i:p, i:p\n",
    "\n",
    "if np.array_equal(V_ppaa.toarray(), v_term(p, p, a, a).reshape(p**2, a**2)):\n",
    "    print(\"V_ppaa match: True\")\n",
    "else:\n",
    "    print(\"V_ppaa mismatch:\")\n",
    "    print(np.abs(V_ppaa.toarray() - v_term(p, p, a, a).reshape(p**2, a**2)))"
   ]
  },
  {
   "cell_type": "code",
   "execution_count": 59,
   "id": "a239405c",
   "metadata": {},
   "outputs": [
    {
     "name": "stdout",
     "output_type": "stream",
     "text": [
      "V_iipp match: True\n"
     ]
    }
   ],
   "source": [
    "V_iipp=v_term_sparse(i, i, p, p).reshape(p, p) # 0, 0, 0, 0 -> 0:i, 0:i, 0:p, 0:p\n",
    "\n",
    "if np.array_equal(V_iipp.toarray(), v_term(i, i, p, p).reshape(p, p)):\n",
    "    print(\"V_iipp match: True\")\n",
    "else:\n",
    "    print(\"V_iipp mismatch:\")\n",
    "    print(np.abs(V_iipp.toarray() - v_term(i, i, p, p).reshape(p, p)))"
   ]
  },
  {
   "cell_type": "code",
   "execution_count": 60,
   "id": "4bc452f3",
   "metadata": {},
   "outputs": [
    {
     "name": "stdout",
     "output_type": "stream",
     "text": [
      "V_iiaa match: True\n"
     ]
    }
   ],
   "source": [
    "V_iiaa=v_term_sparse(i, i, a, a).reshape(a, a) # 0, 0, i, i -> 0:i, 0:i, i:p, i:p\n",
    "\n",
    "if np.array_equal(V_iiaa.toarray(), v_term(i, i, a, a).reshape(a, a)):\n",
    "    print(\"V_iiaa match: True\")\n",
    "else:\n",
    "    print(\"V_iiaa mismatch:\")\n",
    "    print(np.abs(V_iiaa.toarray() - v_term(i, i, a, a).reshape(a, a)))"
   ]
  },
  {
   "cell_type": "code",
   "execution_count": 61,
   "id": "acd42657",
   "metadata": {},
   "outputs": [
    {
     "name": "stdout",
     "output_type": "stream",
     "text": [
      "V_piaa match: True\n"
     ]
    }
   ],
   "source": [
    "V_piaa=v_term_sparse(p, i, a, a) # 0, 0, i, i -> 0:p, 0:i, i:p, i:p\n",
    "\n",
    "if np.array_equal(V_piaa.toarray(), v_term(p, i, a, a).reshape(p, a**2)):\n",
    "    print(\"V_piaa match: True\")\n",
    "else:\n",
    "    print(\"V_piaa mismatch:\")\n",
    "    print(np.abs(V_piaa.toarray() - v_term(p, i, a, a).reshape(p, a**2)))"
   ]
  },
  {
   "cell_type": "code",
   "execution_count": 62,
   "id": "2e527e78",
   "metadata": {},
   "outputs": [
    {
     "name": "stdout",
     "output_type": "stream",
     "text": [
      "V_pipp match: True\n"
     ]
    }
   ],
   "source": [
    "V_pipp=v_term_sparse(p, i, p, p) # 0, 0, 0, 0 -> 0:p, 0:i, 0:p, 0:p\n",
    "\n",
    "if np.array_equal(V_pipp.toarray(), v_term(p, i, p, p).reshape(p, p**2)):\n",
    "    print(\"V_pipp match: True\")\n",
    "else:\n",
    "    print(\"V_pipp mismatch:\")\n",
    "    print(np.abs(V_pipp.toarray() - v_term(p, i, p, p).reshape(p, p**2)))"
   ]
  },
  {
   "cell_type": "code",
   "execution_count": 63,
   "id": "25ba2b8d",
   "metadata": {},
   "outputs": [
    {
     "name": "stdout",
     "output_type": "stream",
     "text": [
      "V_ipap match: True\n"
     ]
    }
   ],
   "source": [
    "V_ipap=v_term_sparse(i, p, a, p).reshape(p*a, p) # 0, 0, i, 0 -> 0:i, 0:p, i:p, 0:p\n",
    "\n",
    "if np.array_equal(V_ipap.toarray(), v_term(i, p, a, p).reshape(p*a, p)):\n",
    "    print(\"V_ipap match: True\")\n",
    "else:\n",
    "    print(\"V_ipap mismatch:\")\n",
    "    print(np.abs(V_ipap.toarray() - v_term(i, p, a, p).reshape(p*a, p)))"
   ]
  },
  {
   "cell_type": "code",
   "execution_count": 64,
   "id": "5f03203d",
   "metadata": {},
   "outputs": [
    {
     "name": "stdout",
     "output_type": "stream",
     "text": [
      "V_piap match: True\n"
     ]
    }
   ],
   "source": [
    "V_piap=v_term_sparse(p, i, a, p).reshape(p*a, p) # 0, 0, i, 0 -> 0:p, 0:i, i:p, 0:p\n",
    "\n",
    "if np.array_equal(V_piap.toarray(), v_term(p, i, a, p).reshape(p*a, p)):\n",
    "    print(\"V_piap match: True\")\n",
    "else:\n",
    "    print(\"V_piap mismatch:\")\n",
    "    print(np.abs(V_piap.toarray() - v_term(p, i, a, p).reshape(p*a, p)))"
   ]
  },
  {
   "cell_type": "markdown",
   "id": "f2e73d81",
   "metadata": {},
   "source": [
    "# Testing old dense implementation for non-periodic system."
   ]
  },
  {
   "cell_type": "code",
   "execution_count": 65,
   "id": "0cbe6d56",
   "metadata": {},
   "outputs": [],
   "source": [
    "site = 3\n",
    "state = 11\n",
    "g = 0.1"
   ]
  },
  {
   "cell_type": "code",
   "execution_count": 66,
   "id": "f4aa424c",
   "metadata": {},
   "outputs": [
    {
     "name": "stdout",
     "output_type": "stream",
     "text": [
      "Doubles: True\n",
      "[[[[0.+0.j]]\n",
      "\n",
      "  [[0.+0.j]]\n",
      "\n",
      "  [[0.+0.j]]\n",
      "\n",
      "  [[0.+0.j]]\n",
      "\n",
      "  [[0.+0.j]]\n",
      "\n",
      "  [[0.+0.j]]\n",
      "\n",
      "  [[0.+0.j]]\n",
      "\n",
      "  [[0.+0.j]]\n",
      "\n",
      "  [[0.+0.j]]\n",
      "\n",
      "  [[0.+0.j]]]\n",
      "\n",
      "\n",
      " [[[0.+0.j]]\n",
      "\n",
      "  [[0.+0.j]]\n",
      "\n",
      "  [[0.+0.j]]\n",
      "\n",
      "  [[0.+0.j]]\n",
      "\n",
      "  [[0.+0.j]]\n",
      "\n",
      "  [[0.+0.j]]\n",
      "\n",
      "  [[0.+0.j]]\n",
      "\n",
      "  [[0.+0.j]]\n",
      "\n",
      "  [[0.+0.j]]\n",
      "\n",
      "  [[0.+0.j]]]\n",
      "\n",
      "\n",
      " [[[0.+0.j]]\n",
      "\n",
      "  [[0.+0.j]]\n",
      "\n",
      "  [[0.+0.j]]\n",
      "\n",
      "  [[0.+0.j]]\n",
      "\n",
      "  [[0.+0.j]]\n",
      "\n",
      "  [[0.+0.j]]\n",
      "\n",
      "  [[0.+0.j]]\n",
      "\n",
      "  [[0.+0.j]]\n",
      "\n",
      "  [[0.+0.j]]\n",
      "\n",
      "  [[0.+0.j]]]\n",
      "\n",
      "\n",
      " [[[0.+0.j]]\n",
      "\n",
      "  [[0.+0.j]]\n",
      "\n",
      "  [[0.+0.j]]\n",
      "\n",
      "  [[0.+0.j]]\n",
      "\n",
      "  [[0.+0.j]]\n",
      "\n",
      "  [[0.+0.j]]\n",
      "\n",
      "  [[0.+0.j]]\n",
      "\n",
      "  [[0.+0.j]]\n",
      "\n",
      "  [[0.+0.j]]\n",
      "\n",
      "  [[0.+0.j]]]\n",
      "\n",
      "\n",
      " [[[0.+0.j]]\n",
      "\n",
      "  [[0.+0.j]]\n",
      "\n",
      "  [[0.+0.j]]\n",
      "\n",
      "  [[0.+0.j]]\n",
      "\n",
      "  [[0.+0.j]]\n",
      "\n",
      "  [[0.+0.j]]\n",
      "\n",
      "  [[0.+0.j]]\n",
      "\n",
      "  [[0.+0.j]]\n",
      "\n",
      "  [[0.+0.j]]\n",
      "\n",
      "  [[0.+0.j]]]\n",
      "\n",
      "\n",
      " [[[0.+0.j]]\n",
      "\n",
      "  [[0.+0.j]]\n",
      "\n",
      "  [[0.+0.j]]\n",
      "\n",
      "  [[0.+0.j]]\n",
      "\n",
      "  [[0.+0.j]]\n",
      "\n",
      "  [[0.+0.j]]\n",
      "\n",
      "  [[0.+0.j]]\n",
      "\n",
      "  [[0.+0.j]]\n",
      "\n",
      "  [[0.+0.j]]\n",
      "\n",
      "  [[0.+0.j]]]\n",
      "\n",
      "\n",
      " [[[0.+0.j]]\n",
      "\n",
      "  [[0.+0.j]]\n",
      "\n",
      "  [[0.+0.j]]\n",
      "\n",
      "  [[0.+0.j]]\n",
      "\n",
      "  [[0.+0.j]]\n",
      "\n",
      "  [[0.+0.j]]\n",
      "\n",
      "  [[0.+0.j]]\n",
      "\n",
      "  [[0.+0.j]]\n",
      "\n",
      "  [[0.+0.j]]\n",
      "\n",
      "  [[0.+0.j]]]\n",
      "\n",
      "\n",
      " [[[0.+0.j]]\n",
      "\n",
      "  [[0.+0.j]]\n",
      "\n",
      "  [[0.+0.j]]\n",
      "\n",
      "  [[0.+0.j]]\n",
      "\n",
      "  [[0.+0.j]]\n",
      "\n",
      "  [[0.+0.j]]\n",
      "\n",
      "  [[0.+0.j]]\n",
      "\n",
      "  [[0.+0.j]]\n",
      "\n",
      "  [[0.+0.j]]\n",
      "\n",
      "  [[0.+0.j]]]\n",
      "\n",
      "\n",
      " [[[0.+0.j]]\n",
      "\n",
      "  [[0.+0.j]]\n",
      "\n",
      "  [[0.+0.j]]\n",
      "\n",
      "  [[0.+0.j]]\n",
      "\n",
      "  [[0.+0.j]]\n",
      "\n",
      "  [[0.+0.j]]\n",
      "\n",
      "  [[0.+0.j]]\n",
      "\n",
      "  [[0.+0.j]]\n",
      "\n",
      "  [[0.+0.j]]\n",
      "\n",
      "  [[0.+0.j]]]\n",
      "\n",
      "\n",
      " [[[0.+0.j]]\n",
      "\n",
      "  [[0.+0.j]]\n",
      "\n",
      "  [[0.+0.j]]\n",
      "\n",
      "  [[0.+0.j]]\n",
      "\n",
      "  [[0.+0.j]]\n",
      "\n",
      "  [[0.+0.j]]\n",
      "\n",
      "  [[0.+0.j]]\n",
      "\n",
      "  [[0.+0.j]]\n",
      "\n",
      "  [[0.+0.j]]\n",
      "\n",
      "  [[0.+0.j]]]]\n",
      "[[[[ 0.364239958763]]\n",
      "\n",
      "  [[ 0.816879279725]]\n",
      "\n",
      "  [[ 0.420169159961]]\n",
      "\n",
      "  [[ 0.923284318184]]\n",
      "\n",
      "  [[ 0.305494706134]]\n",
      "\n",
      "  [[ 0.603784386558]]\n",
      "\n",
      "  [[ 0.724384129264]]\n",
      "\n",
      "  [[ 0.041656160945]]\n",
      "\n",
      "  [[ 0.023535877016]]\n",
      "\n",
      "  [[ 0.570988216052]]]\n",
      "\n",
      "\n",
      " [[[ 0.630742738708]]\n",
      "\n",
      "  [[ 0.507615432558]]\n",
      "\n",
      "  [[ 0.178496107106]]\n",
      "\n",
      "  [[ 0.744431164234]]\n",
      "\n",
      "  [[ 0.494416940533]]\n",
      "\n",
      "  [[ 0.64071580904 ]]\n",
      "\n",
      "  [[ 0.476915628347]]\n",
      "\n",
      "  [[ 0.216719922799]]\n",
      "\n",
      "  [[ 0.648266383823]]\n",
      "\n",
      "  [[ 0.740176672889]]]\n",
      "\n",
      "\n",
      " [[[ 2.230439744995]]\n",
      "\n",
      "  [[ 0.263988622639]]\n",
      "\n",
      "  [[ 3.822379639879]]\n",
      "\n",
      "  [[ 3.039663718039]]\n",
      "\n",
      "  [[ 1.436288900277]]\n",
      "\n",
      "  [[ 0.306855063727]]\n",
      "\n",
      "  [[ 3.89174644875 ]]\n",
      "\n",
      "  [[ 0.499604240735]]\n",
      "\n",
      "  [[ 2.643686773192]]\n",
      "\n",
      "  [[ 2.304454907805]]]\n",
      "\n",
      "\n",
      " [[[ 2.046927492614]]\n",
      "\n",
      "  [[ 3.242765028256]]\n",
      "\n",
      "  [[ 0.685797619721]]\n",
      "\n",
      "  [[ 1.506983282879]]\n",
      "\n",
      "  [[ 0.658537726261]]\n",
      "\n",
      "  [[ 3.823742902118]]\n",
      "\n",
      "  [[ 3.038455726985]]\n",
      "\n",
      "  [[ 0.411476707941]]\n",
      "\n",
      "  [[ 0.391072682459]]\n",
      "\n",
      "  [[ 2.596769932708]]]\n",
      "\n",
      "\n",
      " [[[ 6.882787211977]]\n",
      "\n",
      "  [[ 5.409159297085]]\n",
      "\n",
      "  [[ 1.715664181181]]\n",
      "\n",
      "  [[ 3.461891997478]]\n",
      "\n",
      "  [[ 1.78077195945 ]]\n",
      "\n",
      "  [[ 7.247571214365]]\n",
      "\n",
      "  [[ 1.537875585584]]\n",
      "\n",
      "  [[ 7.586499521427]]\n",
      "\n",
      "  [[ 3.882765002038]]\n",
      "\n",
      "  [[ 7.977264963578]]]\n",
      "\n",
      "\n",
      " [[[ 0.448141651695]]\n",
      "\n",
      "  [[ 4.275930540431]]\n",
      "\n",
      "  [[ 8.059052560582]]\n",
      "\n",
      "  [[ 2.651380824274]]\n",
      "\n",
      "  [[ 3.660295313789]]\n",
      "\n",
      "  [[ 2.143496822226]]\n",
      "\n",
      "  [[ 5.341869635423]]\n",
      "\n",
      "  [[ 2.410135889654]]\n",
      "\n",
      "  [[ 2.140610226966]]\n",
      "\n",
      "  [[ 0.946488044667]]]\n",
      "\n",
      "\n",
      " [[[15.286209995657]]\n",
      "\n",
      "  [[ 9.746716171893]]\n",
      "\n",
      "  [[11.725089800141]]\n",
      "\n",
      "  [[ 8.754990147455]]\n",
      "\n",
      "  [[14.696657271575]]\n",
      "\n",
      "  [[ 4.537153816851]]\n",
      "\n",
      "  [[13.422361018058]]\n",
      "\n",
      "  [[14.043154699099]]\n",
      "\n",
      "  [[13.393265770535]]\n",
      "\n",
      "  [[13.238718507596]]]\n",
      "\n",
      "\n",
      " [[[14.751971863362]]\n",
      "\n",
      "  [[12.901077751488]]\n",
      "\n",
      "  [[ 7.147636294343]]\n",
      "\n",
      "  [[ 0.78587192261 ]]\n",
      "\n",
      "  [[ 8.026663611865]]\n",
      "\n",
      "  [[ 5.253378198953]]\n",
      "\n",
      "  [[ 8.669446755633]]\n",
      "\n",
      "  [[ 5.725172954593]]\n",
      "\n",
      "  [[ 3.655264545197]]\n",
      "\n",
      "  [[ 8.039600121568]]]\n",
      "\n",
      "\n",
      " [[[ 9.525432586298]]\n",
      "\n",
      "  [[16.282538114492]]\n",
      "\n",
      "  [[ 5.68636007929 ]]\n",
      "\n",
      "  [[ 0.908296660619]]\n",
      "\n",
      "  [[ 4.642723801092]]\n",
      "\n",
      "  [[23.526653397904]]\n",
      "\n",
      "  [[ 9.696629117469]]\n",
      "\n",
      "  [[12.943107457119]]\n",
      "\n",
      "  [[19.06832651486 ]]\n",
      "\n",
      "  [[ 6.990738769434]]]\n",
      "\n",
      "\n",
      " [[[ 5.7056130915  ]]\n",
      "\n",
      "  [[19.55257694186 ]]\n",
      "\n",
      "  [[17.248679454614]]\n",
      "\n",
      "  [[20.685359203953]]\n",
      "\n",
      "  [[11.668751423909]]\n",
      "\n",
      "  [[ 4.008261487439]]\n",
      "\n",
      "  [[ 8.670018917947]]\n",
      "\n",
      "  [[21.759622312724]]\n",
      "\n",
      "  [[20.10165982509 ]]\n",
      "\n",
      "  [[12.173997049347]]]]\n"
     ]
    }
   ],
   "source": [
    "one_max_o, two_max_o, energy_o, t_a_i_tensor_o, t_ab_ij_tensor_o = t_non_periodic()"
   ]
  },
  {
   "cell_type": "code",
   "execution_count": 67,
   "id": "231ac8c6",
   "metadata": {},
   "outputs": [],
   "source": [
    "one_max_d, two_max_d, energy_d, t_a_i_tensor_d, t_ab_ij_tensor_d = t_non_preiodic_dense(site, state, g)"
   ]
  },
  {
   "cell_type": "code",
   "execution_count": 68,
   "id": "d469ea81",
   "metadata": {},
   "outputs": [
    {
     "name": "stdout",
     "output_type": "stream",
     "text": [
      "Old to Dense\n",
      "Delta One Max: 4.440284945284034e-14\n",
      "Delta Two Max: 23.5266534076817\n",
      "DeltaEnergy: 0.025161052210980625\n",
      "t_1: False\n",
      "Max absolute difference: 0.9950863729933882\n",
      "t_2: False\n",
      "Max absolute difference: 0.9985620104659119\n"
     ]
    }
   ],
   "source": [
    "print(\"Old to Dense\")\n",
    "\n",
    "if np.array_equal(one_max_o, one_max_d):\n",
    "    print(\"Dense:\")\n",
    "    print(f\"One Max: {np.array_equal(one_max_o, one_max_d)}\")\n",
    "else:\n",
    "    print(f\"Delta One Max: {np.abs(one_max_o - one_max_d)}\")\n",
    "\n",
    "if np.array_equal(two_max_o, two_max_d):\n",
    "    print(f\"Two Max: {np.array_equal(two_max_o, two_max_d)}\")\n",
    "else:\n",
    "    print(f\"Delta Two Max: {np.abs(two_max_o - two_max_d)}\")\n",
    "\n",
    "if np.array_equal(energy_o, energy_d):\n",
    "    print(f\"Energy: {np.array_equal(energy_o, energy_d)}\")\n",
    "else:\n",
    "    print(f\"DeltaEnergy: {np.abs(energy_o - energy_d)}\")\n",
    "\n",
    "print(f\"t_1: {np.allclose(t_a_i_tensor_o, t_a_i_tensor_d, 1e-10)}\")\n",
    "diff = np.abs(t_a_i_tensor_d - t_a_i_tensor_o)\n",
    "max_diff = np.max(diff)\n",
    "print(\"Max absolute difference:\", max_diff)\n",
    "\n",
    "print(f\"t_2: {np.allclose(t_ab_ij_tensor_o, t_ab_ij_tensor_d, 1e-10)}\")\n",
    "diff = np.abs(t_ab_ij_tensor_d - t_ab_ij_tensor_o)\n",
    "max_diff = np.max(diff)\n",
    "print(\"Max absolute difference:\", max_diff)"
   ]
  },
  {
   "cell_type": "code",
   "execution_count": 69,
   "id": "5601bb3a",
   "metadata": {},
   "outputs": [
    {
     "data": {
      "text/plain": [
       "array([[[ 0.            +0.j],\n",
       "        [ 0.            +0.j],\n",
       "        [-0.000950327578+0.j],\n",
       "        [-0.000950327578+0.j],\n",
       "        [ 0.            +0.j],\n",
       "        [ 0.            +0.j],\n",
       "        [ 0.000000037132+0.j],\n",
       "        [ 0.000000037132+0.j],\n",
       "        [ 0.            +0.j],\n",
       "        [ 0.            +0.j]],\n",
       "\n",
       "       [[ 0.            +0.j],\n",
       "        [ 0.            +0.j],\n",
       "        [-0.000937007107+0.j],\n",
       "        [-0.000937007107+0.j],\n",
       "        [ 0.            +0.j],\n",
       "        [ 0.            +0.j],\n",
       "        [ 0.000000036549+0.j],\n",
       "        [ 0.000000036549+0.j],\n",
       "        [ 0.            +0.j],\n",
       "        [ 0.            +0.j]],\n",
       "\n",
       "       [[ 0.            +0.j],\n",
       "        [ 0.            +0.j],\n",
       "        [ 0.            +0.j],\n",
       "        [ 0.            +0.j],\n",
       "        [ 0.            +0.j],\n",
       "        [ 0.            +0.j],\n",
       "        [ 0.            +0.j],\n",
       "        [ 0.            +0.j],\n",
       "        [ 0.            +0.j],\n",
       "        [ 0.            +0.j]]])"
      ]
     },
     "execution_count": 69,
     "metadata": {},
     "output_type": "execute_result"
    }
   ],
   "source": [
    "t_a_i_tensor_d"
   ]
  },
  {
   "cell_type": "code",
   "execution_count": 70,
   "id": "8c58ecb2",
   "metadata": {},
   "outputs": [
    {
     "data": {
      "text/plain": [
       "array([[[0.954097519238],\n",
       "        [0.277699991675],\n",
       "        [0.994136045416],\n",
       "        [0.193133555261],\n",
       "        [0.258198204752],\n",
       "        [0.816943395767],\n",
       "        [0.293780805366],\n",
       "        [0.30842597667 ],\n",
       "        [0.859877086641],\n",
       "        [0.314553482895]],\n",
       "\n",
       "       [[0.757975767481],\n",
       "        [0.193918160672],\n",
       "        [0.857916447259],\n",
       "        [0.958997856676],\n",
       "        [0.420466828172],\n",
       "        [0.902438356612],\n",
       "        [0.109182944927],\n",
       "        [0.865821767313],\n",
       "        [0.732499134518],\n",
       "        [0.410428746452]],\n",
       "\n",
       "       [[0.932247140064],\n",
       "        [0.038463589535],\n",
       "        [0.31023101248 ],\n",
       "        [0.35163899131 ],\n",
       "        [0.236096894852],\n",
       "        [0.468089609607],\n",
       "        [0.217398154464],\n",
       "        [0.326194621361],\n",
       "        [0.254940538887],\n",
       "        [0.313310347087]]])"
      ]
     },
     "execution_count": 70,
     "metadata": {},
     "output_type": "execute_result"
    }
   ],
   "source": [
    "t_a_i_tensor_o"
   ]
  }
 ],
 "metadata": {
  "kernelspec": {
   "display_name": ".venv",
   "language": "python",
   "name": "python3"
  },
  "language_info": {
   "codemirror_mode": {
    "name": "ipython",
    "version": 3
   },
   "file_extension": ".py",
   "mimetype": "text/x-python",
   "name": "python",
   "nbconvert_exporter": "python",
   "pygments_lexer": "ipython3",
   "version": "3.13.4"
  }
 },
 "nbformat": 4,
 "nbformat_minor": 5
}
