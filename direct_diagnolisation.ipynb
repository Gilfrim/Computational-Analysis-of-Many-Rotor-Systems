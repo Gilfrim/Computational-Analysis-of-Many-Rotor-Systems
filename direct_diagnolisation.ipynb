{
 "cells": [
  {
   "cell_type": "code",
   "execution_count": 1,
   "id": "a7b8f7c1",
   "metadata": {},
   "outputs": [],
   "source": [
    "import numpy as np\n",
    "import scipy.sparse as sp\n",
    "import scipy.sparse.linalg as spla\n",
    "import opt_einsum as oe\n",
    "import matplotlib.pyplot as plt\n",
    "import os\n",
    "\n",
    "np.set_printoptions(threshold=np.inf, linewidth=np.inf)\n",
    "\n",
    "from quant_rotor.core.dense.hamiltonian import hamiltonian_dense\n",
    "from quant_rotor.models.dense.density_matrix import density_matrix_1, density_matrix_2\n",
    "from quant_rotor.core.dense.hamiltonian_big import hamiltonian_general_dense\n",
    "\n",
    "from quant_rotor.core.sparse.hamiltonian import hamiltonian_sparse\n",
    "from quant_rotor.core.sparse.hamiltonian_big import hamiltonian_general_sparse\n",
    "from quant_rotor.core.dense.hamiltonian_big import hamiltonian_general_dense\n"
   ]
  },
  {
   "cell_type": "markdown",
   "id": "3c1a5e6a",
   "metadata": {},
   "source": [
    "# Check dencity matrix "
   ]
  },
  {
   "cell_type": "code",
   "execution_count": 2,
   "id": "a26298a2",
   "metadata": {},
   "outputs": [],
   "source": [
    "site = 3\n",
    "state = 11\n",
    "g = 1"
   ]
  },
  {
   "cell_type": "code",
   "execution_count": 3,
   "id": "1325458d",
   "metadata": {},
   "outputs": [],
   "source": [
    "HKV = hamiltonian_dense(state, site, g)\n",
    "\n",
    "H = HKV[0]\n",
    "V = HKV[2]"
   ]
  },
  {
   "cell_type": "code",
   "execution_count": 4,
   "id": "ba1fe316",
   "metadata": {},
   "outputs": [],
   "source": [
    "H_NO, _, _ = hamiltonian_general_dense(state, site, g)"
   ]
  },
  {
   "cell_type": "code",
   "execution_count": 5,
   "id": "bf605d63",
   "metadata": {},
   "outputs": [],
   "source": [
    "eig_val, eig_vec = np.linalg.eigh(H)"
   ]
  },
  {
   "cell_type": "code",
   "execution_count": 6,
   "id": "257e5220",
   "metadata": {},
   "outputs": [],
   "source": [
    "eig_val_NO, eig_vec_NO = np.linalg.eigh(H_NO)"
   ]
  },
  {
   "cell_type": "code",
   "execution_count": 7,
   "id": "7972ba33",
   "metadata": {},
   "outputs": [
    {
     "data": {
      "text/plain": [
       "True"
      ]
     },
     "execution_count": 7,
     "metadata": {},
     "output_type": "execute_result"
    }
   ],
   "source": [
    "np.allclose(np.sort(eig_val), np.sort(eig_val_NO), atol=1e-20)"
   ]
  },
  {
   "cell_type": "markdown",
   "id": "325eb85a",
   "metadata": {},
   "source": [
    "## Check 1-d, 2-d eigenvalue ocupation."
   ]
  },
  {
   "cell_type": "code",
   "execution_count": 8,
   "id": "034b65de",
   "metadata": {},
   "outputs": [],
   "source": [
    "site = 3\n",
    "state = 11\n",
    "g = 1"
   ]
  },
  {
   "cell_type": "code",
   "execution_count": 9,
   "id": "b15187c2",
   "metadata": {},
   "outputs": [],
   "source": [
    "H, K, V = hamiltonian_dense(state, site, g, periodic=False)"
   ]
  },
  {
   "cell_type": "code",
   "execution_count": 10,
   "id": "260f6f1b",
   "metadata": {},
   "outputs": [],
   "source": [
    "eig_val, eig_vec = np.linalg.eigh(H)\n",
    "\n",
    "index = np.argmin(eig_val)\n",
    "ground_state_vec = eig_vec[:, index]"
   ]
  },
  {
   "cell_type": "code",
   "execution_count": 11,
   "id": "108897f6",
   "metadata": {},
   "outputs": [],
   "source": [
    "D_1 = density_matrix_1(state, site, ground_state_vec, 0)\n",
    "D_2 = density_matrix_2(state, site, ground_state_vec, 0, 1)"
   ]
  },
  {
   "cell_type": "code",
   "execution_count": 12,
   "id": "87e53b19",
   "metadata": {},
   "outputs": [],
   "source": [
    "eig_val_D_1, eig_vec_D_1 = np.linalg.eigh(D_1)\n",
    "eig_val_D_2, eig_vec_D_2 = np.linalg.eigh(D_2.reshape(state**2, state**2))"
   ]
  },
  {
   "cell_type": "code",
   "execution_count": 13,
   "id": "dc02635e",
   "metadata": {},
   "outputs": [
    {
     "data": {
      "text/plain": [
       "array([7.54651646e-01, 2.25916655e-01, 1.80879355e-02, 7.31062572e-04, 6.08807310e-04, 2.31831557e-06, 1.57191401e-06, 2.01968122e-09, 1.85983175e-09, 1.20191882e-12, 9.36142721e-13])"
      ]
     },
     "execution_count": 13,
     "metadata": {},
     "output_type": "execute_result"
    }
   ],
   "source": [
    "-np.sort(-eig_val_D_1)"
   ]
  },
  {
   "cell_type": "code",
   "execution_count": 14,
   "id": "5b81cbf1",
   "metadata": {},
   "outputs": [
    {
     "data": {
      "text/plain": [
       "array([ 7.54651646e-01,  2.25916655e-01,  1.80879355e-02,  7.31062572e-04,  6.08807310e-04,  2.31831557e-06,  1.57191401e-06,  2.01968119e-09,  1.85983176e-09,  1.20190174e-12,  9.36153081e-13,  8.00813428e-17,  5.99123592e-17,  5.61264362e-17,  4.63001170e-17,  1.84541925e-17,  1.36114681e-17,  6.39980932e-18,  4.97363778e-18,  4.54169458e-18,  2.86840187e-18,  1.51733174e-18,  1.04984520e-18,  5.21153044e-19,  4.72975194e-19,  7.09514162e-20,  4.40145388e-20,  3.75966551e-20,  1.72731877e-20,  1.39447453e-20,  1.34295038e-20,  4.24623782e-21,  1.97554850e-21,  1.31592309e-21,  4.83012508e-22,  4.33977795e-22,  3.80308578e-22,  1.19898261e-22,  8.57054666e-23,  2.66814500e-23,  2.02810827e-23,  1.75043577e-23,  4.86519061e-24,  4.33712594e-24,  2.18509649e-24,  1.45843328e-24,  3.87967039e-25,  2.23178165e-25,  1.41832523e-25,  4.76147560e-26,  2.70592627e-26,  2.21738964e-26,  1.65413791e-26,  1.00783508e-26,  3.21177111e-27,  2.01565027e-27,  1.30913030e-27,  9.10904273e-28,  1.16446882e-28,  2.19470601e-29,  2.87371647e-30,  9.36848686e-31, -1.63466359e-30, -2.37078711e-30, -2.44809668e-29, -8.31025623e-29, -4.88037304e-28, -8.52155624e-28, -1.56722660e-27, -2.18571617e-27, -2.46361980e-27, -5.32712632e-27, -8.61767210e-27, -2.41599671e-26, -2.90740754e-26, -5.00244580e-26, -8.06118340e-26, -1.82538335e-25, -1.98001002e-25, -2.40342656e-25, -5.52273883e-25, -1.25326053e-24, -2.02500739e-24, -4.49375668e-24, -4.54205893e-24, -7.46337141e-24, -1.14082252e-23, -1.52701605e-23, -2.51084404e-23, -2.82104821e-23, -5.69291154e-23, -9.51679078e-23, -1.87148746e-22, -4.66131386e-22, -1.34587119e-21, -1.37419903e-21, -2.61476570e-21, -6.60159834e-21, -8.05759966e-21, -1.16345793e-20, -2.04955913e-20, -3.06891987e-20, -5.32132146e-20, -8.64632581e-20, -2.26444138e-19, -2.81648656e-19, -4.77382697e-19, -8.29386534e-19, -1.44298769e-18, -1.59613094e-18, -1.82321809e-18, -3.24612245e-18, -4.44548286e-18, -1.73384405e-17, -2.64275212e-17, -3.71142169e-17, -4.65749403e-17, -6.14262676e-17, -8.39362120e-17, -8.76249288e-17, -1.31211511e-16])"
      ]
     },
     "execution_count": 14,
     "metadata": {},
     "output_type": "execute_result"
    }
   ],
   "source": [
    "-np.sort(-eig_val_D_2)"
   ]
  },
  {
   "cell_type": "code",
   "execution_count": 15,
   "id": "1f7f4ed6",
   "metadata": {},
   "outputs": [
    {
     "data": {
      "text/plain": [
       "array([[ 9.96827156e-01+0.j,  2.27816658e-17+0.j],\n",
       "       [-4.16333634e-17+0.j,  7.07056968e-01+0.j],\n",
       "       [-2.64154435e-19+0.j, -7.07056968e-01+0.j],\n",
       "       [-5.62830149e-02+0.j, -3.60084301e-17+0.j],\n",
       "       [-5.62830149e-02+0.j, -8.19843127e-17+0.j],\n",
       "       [ 4.32288527e-19+0.j, -8.39309329e-03+0.j],\n",
       "       [ 1.68838123e-20+0.j,  8.39309329e-03+0.j],\n",
       "       [ 1.81731567e-04+0.j,  1.95334962e-17+0.j],\n",
       "       [ 1.81731567e-04+0.j,  1.04587496e-16+0.j],\n",
       "       [-5.79395138e-22+0.j,  1.12214274e-05+0.j],\n",
       "       [-5.33487386e-23+0.j, -1.12214274e-05+0.j]])"
      ]
     },
     "execution_count": 15,
     "metadata": {},
     "output_type": "execute_result"
    }
   ],
   "source": [
    "index = np.argsort(-eig_val_D_1)\n",
    "\n",
    "eig_vec_D_1[:, index[:2]]"
   ]
  },
  {
   "cell_type": "markdown",
   "id": "b4c39b70",
   "metadata": {},
   "source": [
    "## Plot graphs"
   ]
  },
  {
   "cell_type": "code",
   "execution_count": 16,
   "id": "294fe0aa",
   "metadata": {},
   "outputs": [],
   "source": [
    "def load_one_simulation_ED(sites: int, states: int, g: float, directory: str = \".\") -> dict:\n",
    "    \"\"\"\n",
    "    Loads eigenvalues, eigenvectors, and NO basis matrix for a specific (sites, states, g) system.\n",
    "\n",
    "    Returns a dictionary with 'eigvals', 'eigvecs', and 'NO_basis'.\n",
    "    \"\"\"\n",
    "    g_str = f\"{g:.1f}\"\n",
    "    base = f\"sites{sites}_states{states}_g{g_str}\"\n",
    "\n",
    "    eigvals_path = os.path.join(directory, f\"eigvals_{base}.npy\")\n",
    "    eigvecs_path = os.path.join(directory, f\"eigvecs_{base}.npy\")\n",
    "\n",
    "    try:\n",
    "        eigvals = np.load(eigvals_path)\n",
    "        eigvecs = np.load(eigvecs_path)\n",
    "\n",
    "        return eigvals, eigvecs\n",
    "\n",
    "    except FileNotFoundError as e:\n",
    "        print(f\"[Error] Missing file for (sites={sites}, states={states}, g={g_str}): {e}\")\n",
    "        return None"
   ]
  },
  {
   "cell_type": "code",
   "execution_count": 17,
   "id": "d327e895",
   "metadata": {},
   "outputs": [],
   "source": [
    "def load_one_simulation_NO(sites: int, states: int, g: float, directory: str = \".\") -> dict:\n",
    "    \"\"\"\n",
    "    Loads eigenvalues, eigenvectors, and NO basis matrix for a specific (sites, states, g) system.\n",
    "\n",
    "    Returns a dictionary with 'eigvals', 'eigvecs', and 'NO_basis'.\n",
    "    \"\"\"\n",
    "    g_str = f\"{g:.1f}\"\n",
    "    base = f\"sites{sites}_states{states}_g{g_str}\"\n",
    "\n",
    "    eigvals_path = os.path.join(directory, f\"NO_eigvals_{base}.npy\")\n",
    "    eigvecs_path = os.path.join(directory, f\"NO_eigvecs_{base}.npy\")\n",
    "    NO_basis_path = os.path.join(directory, f\"NO_basis_{base}.npy\")\n",
    "\n",
    "    try:\n",
    "        eigvals = np.load(eigvals_path)\n",
    "        eigvecs = np.load(eigvecs_path)\n",
    "        NO_basis = np.load(NO_basis_path)\n",
    "\n",
    "        return eigvals, eigvecs, NO_basis\n",
    "\n",
    "    except FileNotFoundError as e:\n",
    "        print(f\"[Error] Missing file for (sites={sites}, states={states}, g={g_str}): {e}\")\n",
    "        return {}"
   ]
  },
  {
   "cell_type": "code",
   "execution_count": 18,
   "id": "378fefeb",
   "metadata": {},
   "outputs": [],
   "source": [
    "def scatter_and_fit(g, y, label, color, degree=10, visible_indices=None):\n",
    "    \"\"\"\n",
    "    Plot selected points from (g, y), fit to full data, and draw the fit curve.\n",
    "\n",
    "    Parameters:\n",
    "        g, y: full data arrays\n",
    "        label: label for legend\n",
    "        color: color for plot\n",
    "        degree: degree of polynomial fit\n",
    "        visible_indices: indices of points to show in the scatter plot\n",
    "    \"\"\"\n",
    "    g = np.asarray(g)\n",
    "    y = np.asarray(y)\n",
    "\n",
    "    if visible_indices is not None:\n",
    "        g_visible = g[visible_indices]\n",
    "        y_visible = y[visible_indices]\n",
    "    else:\n",
    "        g_visible = g\n",
    "        y_visible = y\n",
    "\n",
    "    # Show only selected data points\n",
    "    plt.scatter(g_visible, y_visible, label=f\"{label}\", color=color, s=30)\n",
    "\n",
    "    # Fit to full data\n",
    "    coeffs = np.polyfit(g, y, degree)\n",
    "    poly_fn = np.poly1d(coeffs)\n",
    "\n",
    "    # Plot fitted polynomial\n",
    "    g_smooth = np.linspace(g.min(), g.max(), 300)\n",
    "    y_smooth = poly_fn(g_smooth)\n",
    "    plt.plot(g_smooth, y_smooth, linestyle='--', color=color)"
   ]
  },
  {
   "cell_type": "code",
   "execution_count": 19,
   "id": "1a8bf2d8",
   "metadata": {},
   "outputs": [],
   "source": [
    "file_path_ED = \"./quant_rotor/data/ED_analisis_data\"\n",
    "file_path_ED_s = \"./quant_rotor/dataED_analisis_data_sparce\"\n",
    "file_path_T_amplitudes = \"./quant_rotor/dataT_amplitudes_energy\""
   ]
  },
  {
   "cell_type": "code",
   "execution_count": 20,
   "id": "0f666040",
   "metadata": {},
   "outputs": [
    {
     "ename": "IndexError",
     "evalue": "index 1331 is out of bounds for axis 0 with size 1331",
     "output_type": "error",
     "traceback": [
      "\u001b[31m---------------------------------------------------------------------------\u001b[39m",
      "\u001b[31mIndexError\u001b[39m                                Traceback (most recent call last)",
      "\u001b[36mCell\u001b[39m\u001b[36m \u001b[39m\u001b[32mIn[20]\u001b[39m\u001b[32m, line 16\u001b[39m\n\u001b[32m     13\u001b[39m index_array = np.argmin(eig_val)\n\u001b[32m     14\u001b[39m ground_state_vec = eig_vec[:, index]\n\u001b[32m---> \u001b[39m\u001b[32m16\u001b[39m D_1 = \u001b[43mdensity_matrix_1\u001b[49m\u001b[43m(\u001b[49m\u001b[32;43m3\u001b[39;49m\u001b[43m,\u001b[49m\u001b[43m \u001b[49m\u001b[32;43m11\u001b[39;49m\u001b[43m,\u001b[49m\u001b[43m \u001b[49m\u001b[43mground_state_vec\u001b[49m\u001b[43m,\u001b[49m\u001b[43m \u001b[49m\u001b[32;43m0\u001b[39;49m\u001b[43m)\u001b[49m\n\u001b[32m     17\u001b[39m D_2 = density_matrix_2(\u001b[32m3\u001b[39m, \u001b[32m11\u001b[39m, ground_state_vec, \u001b[32m0\u001b[39m, \u001b[32m1\u001b[39m)\n\u001b[32m     19\u001b[39m eig_val_D_1, eig_vec_D_1 = np.linalg.eigh(D_1)\n",
      "\u001b[36mFile \u001b[39m\u001b[32m~/Desktop/Projects/Computational_Analysis_of_Many_Rotor_Systems/quant_rotor/models/dense/density_matrix.py:31\u001b[39m, in \u001b[36mdensity_matrix_1\u001b[39m\u001b[34m(states, sites, eigvector, choose_site)\u001b[39m\n\u001b[32m     28\u001b[39m         j = mu + p_prime * n_mu + Lambda * states * n_mu\n\u001b[32m     30\u001b[39m         \u001b[38;5;66;03m# Accumulate contribution from the eigenvector\u001b[39;00m\n\u001b[32m---> \u001b[39m\u001b[32m31\u001b[39m         val += \u001b[43meigvector\u001b[49m\u001b[43m.\u001b[49m\u001b[43mconj\u001b[49m\u001b[43m(\u001b[49m\u001b[43m)\u001b[49m\u001b[43m[\u001b[49m\u001b[43mi\u001b[49m\u001b[43m]\u001b[49m * eigvector[j]\n\u001b[32m     33\u001b[39m \u001b[38;5;66;03m# Set the computed value into the reduced density matrix\u001b[39;00m\n\u001b[32m     34\u001b[39m D_1[p, p_prime] = val\n",
      "\u001b[31mIndexError\u001b[39m: index 1331 is out of bounds for axis 0 with size 1331"
     ]
    }
   ],
   "source": [
    "si3_st11_ED = []\n",
    "si3_st5_NO = []\n",
    "si5_st5_NO = []\n",
    "si7_st3_NO = []\n",
    "g_array = []\n",
    "\n",
    "for g_index in range(1, 51):\n",
    "    g = g_index / 10\n",
    "    g_array.append(g)\n",
    "\n",
    "    eig_val, eig_vec = load_one_simulation_ED(3, 11, g, file_path_ED)\n",
    "\n",
    "    index_array = np.argmin(eig_val)\n",
    "    ground_state_vec = eig_vec[:, index]\n",
    "\n",
    "    D_1 = density_matrix_1(3, 11, ground_state_vec, 0)\n",
    "    D_2 = density_matrix_2(3, 11, ground_state_vec, 0, 1)\n",
    "\n",
    "    eig_val_D_1, eig_vec_D_1 = np.linalg.eigh(D_1)\n",
    "    eig_val_D_2, eig_vec_D_2 = np.linalg.eigh(D_2.reshape(state**2, state**2))\n",
    "\n",
    "    si3_st11_ED.append(-np.sort(-eig_val_D_1)[:2], -np.sort(-eig_val_D_2)[:2])\n",
    "\n",
    "    eig_val, eig_vec, _ = load_one_simulation_NO(3, 5, g, file_path_ED)\n",
    "\n",
    "    index_array = np.argmin(eig_val)\n",
    "    ground_state_vec = eig_vec[:, index]\n",
    "\n",
    "    D_1 = density_matrix_1(3, 11, ground_state_vec, 0)\n",
    "    D_2 = density_matrix_2(3, 11, ground_state_vec, 0, 1)\n",
    "\n",
    "    eig_val_D_1, eig_vec_D_1 = np.linalg.eigh(D_1)\n",
    "    eig_val_D_2, eig_vec_D_2 = np.linalg.eigh(D_2.reshape(state**2, state**2))\n",
    "\n",
    "    si3_st5_NO.append(-np.sort(-eig_val_D_1)[:2], -np.sort(-eig_val_D_2)[:2])\n",
    "\n",
    "    eig_val, eig_vec, _ = load_one_simulation_NO(5, 5, g, file_path_ED)\n",
    "\n",
    "    index_array = np.argmin(eig_val)\n",
    "    ground_state_vec = eig_vec[:, index]\n",
    "\n",
    "    D_1 = density_matrix_1(3, 11, ground_state_vec, 0)\n",
    "    D_2 = density_matrix_2(3, 11, ground_state_vec, 0, 1)\n",
    "\n",
    "    eig_val_D_1, eig_vec_D_1 = np.linalg.eigh(D_1)\n",
    "    eig_val_D_2, eig_vec_D_2 = np.linalg.eigh(D_2.reshape(state**2, state**2))\n",
    "\n",
    "    si5_st5_NO.append(-np.sort(-eig_val_D_1)[:2], -np.sort(-eig_val_D_2)[:2])\n",
    "\n",
    "    eig_val, eig_vec, _ = load_one_simulation_NO(7, 3, g, file_path_ED)\n",
    "\n",
    "    index_array = np.argmin(eig_val)\n",
    "    ground_state_vec = eig_vec[:, index]\n",
    "\n",
    "    D_1 = density_matrix_1(3, 11, ground_state_vec, 0)\n",
    "    D_2 = density_matrix_2(3, 11, ground_state_vec, 0, 1)\n",
    "\n",
    "    eig_val_D_1, eig_vec_D_1 = np.linalg.eigh(D_1)\n",
    "    eig_val_D_2, eig_vec_D_2 = np.linalg.eigh(D_2.reshape(state**2, state**2))\n",
    "\n",
    "    si3_st11_ED.append(-np.sort(-eig_val_D_1)[:2], -np.sort(-eig_val_D_2)[:2])"
   ]
  },
  {
   "cell_type": "code",
   "execution_count": null,
   "id": "1fcf8cbb",
   "metadata": {},
   "outputs": [],
   "source": [
    "si3_st11_ED = np.array(si3_st11_ED)\n",
    "si3_st5_NO = np.array(si3_st5_NO)\n",
    "si5_st5_NO = np.array(si5_st5_NO)\n",
    "si7_st3_NO = np.array(si7_st3_NO)\n",
    "g_array = np.array(g_array)\n",
    "\n",
    "dim_fit = 20\n",
    "\n",
    "visible_idx = np.r_[0:10, 19, 49]\n",
    "\n",
    "plt.figure(figsize=(20, 6))\n",
    "\n",
    "for y_data, label, color in zip(\n",
    "    [si3_st11_ED, si3_st5_NO, si5_st5_NO, si7_st3_NO],\n",
    "    ['Site 3 State 11 ED', 'Site 3 State 5 NO', 'Site 5 State 5 NO', 'Site 7 State 3 NO'],\n",
    "    ['blue', 'orange', 'green', 'red']\n",
    "):\n",
    "\n",
    "    # Fit and plot\n",
    "    scatter_and_fit(g_array, y_data, label, color, degree=dim_fit)\n",
    "\n",
    "# Axis formatting\n",
    "plt.xticks(g_array, rotation=45)\n",
    "plt.xlabel(\"g-values\")\n",
    "plt.ylabel(\"Energy Gap\")\n",
    "plt.title(\"Energy Gap Variation With g\")\n",
    "plt.legend()\n",
    "plt.grid(True)\n",
    "plt.show()\n",
    "\n",
    "si3_st11_ED = np.array(si3_st11_ED)\n",
    "si3_st5_NO = np.array(si3_st5_NO)\n",
    "si5_st5_NO = np.array(si5_st5_NO)\n",
    "si7_st3_NO = np.array(si7_st3_NO)\n",
    "g_array = np.array(g_array)\n",
    "\n",
    "visible_idx = np.r_[0:10, 19, 49]"
   ]
  },
  {
   "cell_type": "markdown",
   "id": "d2ea1f14",
   "metadata": {},
   "source": [
    "# Direct diagnilisation"
   ]
  },
  {
   "cell_type": "code",
   "execution_count": 21,
   "id": "c2d1ef47",
   "metadata": {},
   "outputs": [],
   "source": [
    "site = 3\n",
    "state = 11\n",
    "g = 1"
   ]
  },
  {
   "cell_type": "code",
   "execution_count": 22,
   "id": "8df912fb",
   "metadata": {},
   "outputs": [
    {
     "name": "stderr",
     "output_type": "stream",
     "text": [
      "/Users/gilfrim/Desktop/Projects/Computational_Analysis_of_Many_Rotor_Systems/.venv/lib/python3.13/site-packages/scipy/sparse/_sputils.py:147: ComplexWarning: Casting complex values to real discards the imaginary part\n",
      "  data = np.array(obj, dtype=dtype, copy=copy)\n"
     ]
    }
   ],
   "source": [
    "H_ED_s, K_ED_s, V_ED_s = hamiltonian_sparse(state, site, g)\n",
    "\n",
    "H_ED_d = H_ED_s.toarray()\n",
    "K_ED_d = K_ED_s.toarray()\n",
    "V_ED_d = V_ED_s.toarray()\n",
    "\n",
    "eig_val_ED_s, eig_vec_ED_s = np.linalg.eigh(H_ED_d) # produces the solutions to the hamiltonian with energys and associated wavefunctions."
   ]
  },
  {
   "cell_type": "code",
   "execution_count": 23,
   "id": "1944ea16",
   "metadata": {},
   "outputs": [
    {
     "data": {
      "text/plain": [
       "np.float64(-2.248454586348324)"
      ]
     },
     "execution_count": 23,
     "metadata": {},
     "output_type": "execute_result"
    }
   ],
   "source": [
    "index = np.argmin(eig_val_ED_s)\n",
    "ground_energy = eig_val_ED_s[index]\n",
    "\n",
    "ground_energy"
   ]
  },
  {
   "cell_type": "code",
   "execution_count": null,
   "id": "5fb4fbec",
   "metadata": {},
   "outputs": [],
   "source": [
    "# Smallest algebraic eigenpair (ground state)\n",
    "eigvals, eigvecs = spla.eigsh(H_ED_s, k=1, which='SA', tol=1e-19, maxiter=2000)\n",
    "E0 = eigvals[0]\n",
    "psi0 = eigvecs[:, 0]"
   ]
  },
  {
   "cell_type": "code",
   "execution_count": 25,
   "id": "1168a19c",
   "metadata": {},
   "outputs": [
    {
     "name": "stdout",
     "output_type": "stream",
     "text": [
      "E0 = -2.24845458635, residual = 6.65e-15\n"
     ]
    }
   ],
   "source": [
    "# Sanity check: residual\n",
    "res = sp.linalg.norm(sp.csr_matrix(H_ED_s @ psi0.T - E0 * psi0) / abs(E0 if E0 != 0 else 1))\n",
    "print(f\"E0 = {E0:.12g}, residual = {res:.2e}\")"
   ]
  },
  {
   "cell_type": "code",
   "execution_count": 26,
   "id": "de2a2dbc",
   "metadata": {},
   "outputs": [
    {
     "data": {
      "text/plain": [
       "np.float64(-2.6645352591003757e-15)"
      ]
     },
     "execution_count": 26,
     "metadata": {},
     "output_type": "execute_result"
    }
   ],
   "source": [
    "E0 - ground_energy"
   ]
  },
  {
   "cell_type": "code",
   "execution_count": 32,
   "id": "f10910bc",
   "metadata": {},
   "outputs": [
    {
     "name": "stdout",
     "output_type": "stream",
     "text": [
      "3 Sites, 11 States, g = 0.1:\n"
     ]
    },
    {
     "name": "stderr",
     "output_type": "stream",
     "text": [
      "/Users/gilfrim/Desktop/Projects/Computational_Analysis_of_Many_Rotor_Systems/.venv/lib/python3.13/site-packages/scipy/sparse/_sputils.py:147: ComplexWarning: Casting complex values to real discards the imaginary part\n",
      "  data = np.array(obj, dtype=dtype, copy=copy)\n"
     ]
    },
    {
     "name": "stdout",
     "output_type": "stream",
     "text": [
      "E0 = -0.0201017290509, residual = 8.54e-13\n",
      "Compare ground energyes: 3.0427049768633196e-15 \n",
      "\n",
      "3 Sites, 11 States, g = 0.2:\n",
      "E0 = -0.0858736144732, residual = 1.99e-13\n",
      "Compare ground energyes: 9.992007221626409e-16 \n",
      "\n",
      "3 Sites, 11 States, g = 0.3:\n",
      "E0 = -0.204382901101, residual = 8.62e-14\n",
      "Compare ground energyes: 8.881784197001252e-16 \n",
      "\n",
      "3 Sites, 11 States, g = 0.4:\n",
      "E0 = -0.378555048775, residual = 5.81e-14\n",
      "Compare ground energyes: 6.661338147750939e-16 \n",
      "\n",
      "3 Sites, 11 States, g = 0.5:\n",
      "E0 = -0.605250827359, residual = 2.64e-14\n",
      "Compare ground energyes: 3.552713678800501e-15 \n",
      "\n",
      "3 Sites, 11 States, g = 0.6:\n",
      "E0 = -0.876710970138, residual = 2.45e-14\n",
      "Compare ground energyes: 4.440892098500626e-15 \n",
      "\n",
      "3 Sites, 11 States, g = 0.7:\n",
      "E0 = -1.18386696572, residual = 1.44e-14\n",
      "Compare ground energyes: 6.661338147750939e-15 \n",
      "\n",
      "3 Sites, 11 States, g = 0.8:\n",
      "E0 = -1.51872111098, residual = 1.55e-14\n",
      "Compare ground energyes: 1.199040866595169e-14 \n",
      "\n",
      "3 Sites, 11 States, g = 0.9:\n",
      "E0 = -1.87509239644, residual = 1.36e-14\n",
      "Compare ground energyes: 1.865174681370263e-14 \n",
      "\n",
      "3 Sites, 11 States, g = 1.0:\n",
      "E0 = -2.24845458635, residual = 9.15e-15\n",
      "Compare ground energyes: 3.9968028886505635e-15 \n",
      "\n"
     ]
    }
   ],
   "source": [
    "state = 11\n",
    "site = 3\n",
    "\n",
    "# for site in range(2, 5):\n",
    "#     for state in range(5, 11, 2):\n",
    "for g_index in range(1, 11):\n",
    "    g = g_index /10\n",
    "    print(f\"{site} Sites, {state} States, g = {g}:\")\n",
    "\n",
    "    H_ED_s, _, _ = hamiltonian_sparse(state, site, g)\n",
    "    H_ED_d = H_ED_s.toarray()\n",
    "    eig_val_ED_s, eig_vec_ED_s = np.linalg.eigh(H_ED_d)\n",
    "\n",
    "    index = np.argmin(eig_val_ED_s)\n",
    "    E0_ED = eig_val_ED_s[index]\n",
    "\n",
    "    eig_val_DD, eig_vec_DD = spla.eigsh(H_ED_s, k=1, which='SA', tol=1e-19, maxiter=2000)\n",
    "    E0_DD = eig_val_DD[0]\n",
    "    psi0_DD = eig_vec_DD[:, 0]\n",
    "\n",
    "    res = sp.linalg.norm(sp.csr_matrix(H_ED_s @ psi0_DD - E0_DD * psi0_DD) / abs(E0_DD if E0_DD != 0 else 1))\n",
    "    print(f\"E0 = {E0_DD:.12g}, residual = {res:.2e}\")\n",
    "    print(\"Compare ground energyes:\", np.abs(E0_DD - E0_ED), \"\\n\")\n"
   ]
  },
  {
   "cell_type": "markdown",
   "id": "c3120935",
   "metadata": {},
   "source": [
    "# Natural Orbitals with direct diagnilisation test."
   ]
  },
  {
   "cell_type": "code",
   "execution_count": 2,
   "id": "f816dd3a",
   "metadata": {},
   "outputs": [],
   "source": [
    "state = 3\n",
    "site = 5\n",
    "g = 0.6"
   ]
  },
  {
   "cell_type": "code",
   "execution_count": 7,
   "id": "b5faae33",
   "metadata": {},
   "outputs": [],
   "source": [
    "H_s, K_s, V_s = hamiltonian_general_sparse(state, site, g)\n",
    "H_d, K_d, V_d = hamiltonian_general_dense(state, site, g)"
   ]
  },
  {
   "cell_type": "code",
   "execution_count": 5,
   "id": "dba57655",
   "metadata": {},
   "outputs": [],
   "source": [
    "eig_val_NO_s, eig_vec_NO_s = np.linalg.eigh(H_s.toarray())\n",
    "eig_val_NO_d, eig_vec_NO_d = np.linalg.eigh(H_d)"
   ]
  },
  {
   "cell_type": "code",
   "execution_count": 6,
   "id": "155c5e5a",
   "metadata": {},
   "outputs": [
    {
     "data": {
      "text/plain": [
       "True"
      ]
     },
     "execution_count": 6,
     "metadata": {},
     "output_type": "execute_result"
    }
   ],
   "source": [
    "np.allclose(eig_val_NO_d, eig_val_NO_s, atol=1e-19)"
   ]
  },
  {
   "cell_type": "code",
   "execution_count": null,
   "id": "939945de",
   "metadata": {},
   "outputs": [],
   "source": []
  }
 ],
 "metadata": {
  "kernelspec": {
   "display_name": ".venv",
   "language": "python",
   "name": "python3"
  },
  "language_info": {
   "codemirror_mode": {
    "name": "ipython",
    "version": 3
   },
   "file_extension": ".py",
   "mimetype": "text/x-python",
   "name": "python",
   "nbconvert_exporter": "python",
   "pygments_lexer": "ipython3",
   "version": "3.13.4"
  }
 },
 "nbformat": 4,
 "nbformat_minor": 5
}
