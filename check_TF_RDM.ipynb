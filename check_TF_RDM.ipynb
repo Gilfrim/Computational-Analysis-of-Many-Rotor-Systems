{
 "cells": [
  {
   "cell_type": "code",
   "execution_count": 3,
   "id": "fe055c04",
   "metadata": {},
   "outputs": [],
   "source": [
    "from quant_rotor.core.sparse.hamiltonian import hamiltonian_sparse\n",
    "from quant_rotor.core.dense.hamiltonian import hamiltonian_dense\n",
    "\n",
    "from quant_rotor.core.dense.hamiltonian_big import hamiltonian_general_dense\n",
    "from quant_rotor.core.sparse.hamiltonian_big import hamiltonian_general_sparse\n",
    "from quant_rotor.core.dense.de_solve_one_thermal import integration_scheme\n",
    "import numpy as np\n",
    "from quant_rotor.models.sparse.support_ham import build_V_in_p\n",
    "import matplotlib.pyplot as plt\n",
    "from quant_rotor.models.dense.density_matrix import density_matrix_1\n",
    "import quant_rotor.models.dense.thermofield_boltz_funcs as bz\n",
    "import opt_einsum as oe\n",
    "\n",
    "from scipy.optimize import minimize"
   ]
  },
  {
   "cell_type": "code",
   "execution_count": 4,
   "id": "6a1b5250",
   "metadata": {},
   "outputs": [],
   "source": [
    "np.set_printoptions(precision=5)\n",
    "np.set_printoptions(suppress=True)\n",
    "np.set_printoptions(linewidth=np.inf)\n",
    "np.set_printoptions(threshold=np.inf)"
   ]
  },
  {
   "cell_type": "markdown",
   "id": "0130ac05",
   "metadata": {},
   "source": [
    "# Check TF"
   ]
  },
  {
   "cell_type": "code",
   "execution_count": null,
   "id": "e597c381",
   "metadata": {},
   "outputs": [],
   "source": [
    "site = 3\n",
    "state = 3\n",
    "g = 0.1"
   ]
  },
  {
   "cell_type": "code",
   "execution_count": null,
   "id": "73b61fe7",
   "metadata": {},
   "outputs": [],
   "source": [
    "H, K, V = hamiltonian_dense(state, site, g)"
   ]
  },
  {
   "cell_type": "code",
   "execution_count": null,
   "id": "a9ca0653",
   "metadata": {},
   "outputs": [],
   "source": [
    "state_2 = state**2"
   ]
  },
  {
   "cell_type": "code",
   "execution_count": null,
   "id": "a0a1a97e",
   "metadata": {},
   "outputs": [],
   "source": [
    "U, _ = bz.thermofield_change_of_basis(K)\n",
    "\n",
    "I = np.eye(state)\n",
    "\n",
    "K_prim = oe.contract('pq,mw->pmqw', K, I,  optimize='optimal').reshape(state_2, state_2)\n",
    "\n",
    "K_tilda = U.T @ K_prim @ U\n",
    "\n",
    "V_tensor = V.reshape(state, state, state, state)\n",
    "\n",
    "V_prim = oe.contract('pqrs,mw,nv->pmqnrwsv', V_tensor, I, I,  optimize='optimal').reshape(state_2**2, state_2**2)\n",
    "\n",
    "V_grouped = V_prim.reshape(state**2, state**2, state**2, state**2)\n",
    "\n",
    "V_tilda = oe.contract('Mi,Wj,ijab,aN,bV->MWNV', U.T, U.T, V_grouped, U, U, optimize='optimal').reshape(state_2**2, state_2**2)"
   ]
  },
  {
   "cell_type": "code",
   "execution_count": null,
   "id": "0021163c",
   "metadata": {},
   "outputs": [],
   "source": [
    "V_tilda.shape"
   ]
  },
  {
   "cell_type": "code",
   "execution_count": null,
   "id": "7be5ea3b",
   "metadata": {},
   "outputs": [],
   "source": [
    "H_TF_prim, _, _ = hamiltonian_dense(state**2, site, g, K_import=K_prim, V_import=V_prim, Import=True)\n",
    "H_TF, _, _ = hamiltonian_dense(state**2, site, g, K_import=K_tilda, V_import=V_tilda, Import=True)"
   ]
  },
  {
   "cell_type": "code",
   "execution_count": null,
   "id": "f1b6827c",
   "metadata": {},
   "outputs": [],
   "source": [
    "eig_val_TF_prim, eig_vec_TF_prim = np.linalg.eigh(H_TF_prim)\n",
    "eig_val_TF, eig_vec_TF = np.linalg.eigh(H_TF)\n",
    "eig_val, eig_vec = np.linalg.eigh(H)"
   ]
  },
  {
   "cell_type": "code",
   "execution_count": null,
   "id": "eb2b188a",
   "metadata": {},
   "outputs": [],
   "source": [
    "index_OR = np.argsort(-eig_val)\n",
    "index_TF = np.argsort(-eig_val_TF)\n",
    "index_TF_prim = np.argsort(-eig_val_TF_prim)"
   ]
  },
  {
   "cell_type": "code",
   "execution_count": null,
   "id": "7c0dd98e",
   "metadata": {},
   "outputs": [],
   "source": [
    "print(eig_val[index_OR])\n",
    "print(eig_val_TF[index_TF])\n",
    "print(eig_val_TF[index_TF_prim])"
   ]
  },
  {
   "cell_type": "code",
   "execution_count": null,
   "id": "66bada81",
   "metadata": {},
   "outputs": [],
   "source": [
    "eig_val_TF[index_TF]"
   ]
  },
  {
   "cell_type": "code",
   "execution_count": null,
   "id": "226b1838",
   "metadata": {},
   "outputs": [],
   "source": [
    "psi_vec = eig_vec_TF[index_TF[9]]\n",
    "\n",
    "rho_site_0 = density_matrix_1(state_2, site, psi_vec, 0)"
   ]
  },
  {
   "cell_type": "code",
   "execution_count": null,
   "id": "c12d801f",
   "metadata": {},
   "outputs": [],
   "source": [
    "eig_val_D, matrix_p_to_NO_full = np.linalg.eigh(rho_site_0)\n",
    "index = np.argsort(-eig_val_D)"
   ]
  },
  {
   "cell_type": "code",
   "execution_count": null,
   "id": "c2709682",
   "metadata": {},
   "outputs": [],
   "source": [
    "eig_val_D[index]"
   ]
  },
  {
   "cell_type": "markdown",
   "id": "c47b9e89",
   "metadata": {},
   "source": [
    "# Sparse"
   ]
  },
  {
   "cell_type": "code",
   "execution_count": null,
   "id": "c4d0fd75",
   "metadata": {},
   "outputs": [],
   "source": [
    "site = 3\n",
    "state = 3\n",
    "g = 0.9"
   ]
  },
  {
   "cell_type": "code",
   "execution_count": null,
   "id": "50f9fdea",
   "metadata": {},
   "outputs": [],
   "source": [
    "H, K, V = hamiltonian_general_sparse(state, site, g)\n",
    "\n",
    "K = K.toarray()\n",
    "V = V.toarray()"
   ]
  },
  {
   "cell_type": "code",
   "execution_count": null,
   "id": "dccb07a5",
   "metadata": {},
   "outputs": [],
   "source": [
    "U, _ = bz.thermofield_change_of_basis(K)\n",
    "\n",
    "K_tilda = bz.H_tilde_maker(K)\n",
    "\n",
    "V_tensor = V.reshape(state, state, state, state)\n",
    "\n",
    "I = np.eye(state)\n",
    "V_prim = oe.contract('pqrs,mw,nv->pmqnrwsv', V_tensor, I, I,  optimize='optimal')\n",
    "\n",
    "V_grouped = V_prim.reshape(state**2, state**2, state**2, state**2)\n",
    "\n",
    "V_tilda = oe.contract('Mi,Wj,ijab,aN,bV->MWNV', U, U, V_grouped, U, U, optimize='optimal')"
   ]
  },
  {
   "cell_type": "code",
   "execution_count": null,
   "id": "78468c74",
   "metadata": {},
   "outputs": [],
   "source": [
    "state_2 = state**2\n",
    "\n",
    "K_tilda_s = sp.csr_matrix(K_tilda)\n",
    "V_tilda_s = sp.csr_matrix(V_tilda.reshape(state_2**2, state_2**2))"
   ]
  },
  {
   "cell_type": "code",
   "execution_count": null,
   "id": "dd80b294",
   "metadata": {},
   "outputs": [],
   "source": [
    "H_TF, _, _ = hamiltonian_sparse(state_2, site, g, K_import=K_tilda, V_import=V_tilda)"
   ]
  },
  {
   "cell_type": "code",
   "execution_count": null,
   "id": "8098ac88",
   "metadata": {},
   "outputs": [],
   "source": [
    "eig_val_D, matrix_p_to_NO_full = np.linalg.eigh(rho_site_0)\n",
    "index = np.argsort(-eig_val_D)"
   ]
  },
  {
   "cell_type": "code",
   "execution_count": null,
   "id": "6ce81601",
   "metadata": {},
   "outputs": [],
   "source": [
    "_, psi_vec = sp.linalg.eigsh(H_TF, k=1, which='SA', tol=1e-19, maxiter=2000)\n",
    "\n",
    "rho_site_0 = density_matrix_1(state_2, site, psi_vec, 0)"
   ]
  },
  {
   "cell_type": "code",
   "execution_count": null,
   "id": "2ed0ca4f",
   "metadata": {},
   "outputs": [],
   "source": [
    "eig_val_D, matrix_p_to_NO_full = np.linalg.eigh(rho_site_0)\n",
    "index = np.argsort(-eig_val_D)"
   ]
  },
  {
   "cell_type": "code",
   "execution_count": null,
   "id": "bb1c9249",
   "metadata": {},
   "outputs": [],
   "source": [
    "eig_val_D[index[:2]]"
   ]
  },
  {
   "cell_type": "markdown",
   "id": "6b24f40f",
   "metadata": {},
   "source": [
    "# Dense"
   ]
  },
  {
   "cell_type": "code",
   "execution_count": 5,
   "id": "cd8308ce",
   "metadata": {},
   "outputs": [],
   "source": [
    "site = 3\n",
    "state = 3\n",
    "g = 0.5"
   ]
  },
  {
   "cell_type": "code",
   "execution_count": 6,
   "id": "dd450a31",
   "metadata": {},
   "outputs": [],
   "source": [
    "H, K, V = hamiltonian_general_dense(state, site, g)"
   ]
  },
  {
   "cell_type": "code",
   "execution_count": 7,
   "id": "846934ae",
   "metadata": {},
   "outputs": [],
   "source": [
    "state_2 = state**2"
   ]
  },
  {
   "cell_type": "code",
   "execution_count": 8,
   "id": "015fc0be",
   "metadata": {},
   "outputs": [],
   "source": [
    "U, _ = bz.thermofield_change_of_basis(K)\n",
    "\n",
    "K_tilda = bz.H_tilde_maker(K)\n",
    "\n",
    "V_tensor = V.reshape(state, state, state, state)\n",
    "\n",
    "I = np.eye(state)\n",
    "V_prim = oe.contract('pqrs,mw,nv->pmqnrwsv', V_tensor, I, I,  optimize='optimal')\n",
    "\n",
    "V_grouped = V_prim.reshape(state**2, state**2, state**2, state**2)\n",
    "\n",
    "V_tilda = oe.contract('Mi,Wj,ijab,aN,bV->MWNV', U.T, U.T, V_grouped, U, U, optimize='optimal').reshape(state_2**2, state_2**2)"
   ]
  },
  {
   "cell_type": "code",
   "execution_count": 9,
   "id": "cf408c6c",
   "metadata": {},
   "outputs": [],
   "source": [
    "H_TF, _, _ = hamiltonian_dense(state_2, site, g, K_import=K_tilda, V_import=V_tilda, Import=True)"
   ]
  },
  {
   "cell_type": "code",
   "execution_count": 10,
   "id": "6f63f648",
   "metadata": {},
   "outputs": [],
   "source": [
    "eig_val_TF, eig_vec_TF = np.linalg.eigh(H_TF)"
   ]
  },
  {
   "cell_type": "code",
   "execution_count": 11,
   "id": "44a617cb",
   "metadata": {},
   "outputs": [],
   "source": [
    "index_TF = np.argsort(-eig_val_TF)\n",
    "psi_vec = eig_vec_TF[index_TF[0]]\n",
    "\n",
    "rho_site_0 = density_matrix_1(state_2, site, psi_vec, 0)"
   ]
  },
  {
   "cell_type": "code",
   "execution_count": 12,
   "id": "239d6545",
   "metadata": {},
   "outputs": [],
   "source": [
    "eig_val_D, matrix_p_to_NO_full = np.linalg.eigh(rho_site_0)\n",
    "index = np.argsort(-eig_val_D)"
   ]
  },
  {
   "cell_type": "code",
   "execution_count": 13,
   "id": "e9156288",
   "metadata": {},
   "outputs": [
    {
     "data": {
      "text/plain": [
       "array([ 0.65464,  0.30298,  0.04238,  0.     ,  0.     ,  0.     ,  0.     , -0.     , -0.     ])"
      ]
     },
     "execution_count": 13,
     "metadata": {},
     "output_type": "execute_result"
    }
   ],
   "source": [
    "eig_val_D[index]"
   ]
  },
  {
   "cell_type": "code",
   "execution_count": 14,
   "id": "ca071642",
   "metadata": {},
   "outputs": [
    {
     "data": {
      "text/plain": [
       "array([ 0.     ,  0.     ,  0.     ,  0.     ,  0.     , -0.     ,  0.03703,  0.99931, -0.     ])"
      ]
     },
     "execution_count": 14,
     "metadata": {},
     "output_type": "execute_result"
    }
   ],
   "source": [
    "matrix_p_to_NO_full[index[0]].real"
   ]
  },
  {
   "cell_type": "markdown",
   "id": "2fa64d5e",
   "metadata": {},
   "source": [
    "# Optimization of the degenerate states"
   ]
  },
  {
   "cell_type": "markdown",
   "id": "6027e75a",
   "metadata": {},
   "source": [
    "## Constructing and testing transition density matrix"
   ]
  },
  {
   "cell_type": "code",
   "execution_count": 15,
   "id": "c231c3e5",
   "metadata": {},
   "outputs": [],
   "source": [
    "def transition_density_matrix_1(states: int, sites: int, eigvector_1: np.ndarray, eigvector_2: np.ndarray, choose_site: int) -> np.ndarray:\n",
    "\n",
    "    D_1 = np.zeros((states, states), dtype=complex)\n",
    "\n",
    "    n_lambda = states**(choose_site)\n",
    "    n_mu = states**(sites - choose_site - 1)\n",
    "\n",
    "    psi1 = eigvector_1.reshape(n_lambda, states, n_mu)\n",
    "    psi2 = eigvector_2.reshape(n_lambda, states, n_mu)\n",
    "\n",
    "    # D[p, p'] = sum_{lambda, mu} psi1^*(lambda, p, mu) * psi2(lambda, p', mu)\n",
    "    D = np.einsum('lpm,lqm->pq', psi1, psi2, optimize=True)\n",
    "\n",
    "    return D"
   ]
  },
  {
   "cell_type": "code",
   "execution_count": 16,
   "id": "e1cd533d",
   "metadata": {},
   "outputs": [],
   "source": [
    "ground_vec_1_TF = eig_vec_TF[index_TF[0]]\n",
    "ground_vec_2_TF = eig_vec_TF[index_TF[1]]"
   ]
  },
  {
   "cell_type": "code",
   "execution_count": 17,
   "id": "8375ccdc",
   "metadata": {},
   "outputs": [],
   "source": [
    "eig_val, eig_vec = np.linalg.eigh(H)\n",
    "\n",
    "index_OR = np.argsort(-eig_val)"
   ]
  },
  {
   "cell_type": "code",
   "execution_count": 18,
   "id": "e6c4f0c4",
   "metadata": {},
   "outputs": [],
   "source": [
    "ground_vec_1_OR = eig_vec[index_OR[0]]\n",
    "\n",
    "D_1 = density_matrix_1(state, site, ground_vec_1_OR, 0)"
   ]
  },
  {
   "cell_type": "code",
   "execution_count": 19,
   "id": "abe4ce27",
   "metadata": {},
   "outputs": [],
   "source": [
    "D_t = transition_density_matrix_1(state, site, ground_vec_1_OR, ground_vec_1_OR, 0)"
   ]
  },
  {
   "cell_type": "code",
   "execution_count": 20,
   "id": "d53b4983",
   "metadata": {},
   "outputs": [
    {
     "data": {
      "text/plain": [
       "array([ 3.92045,  3.77226,  3.42491,  3.42491,  3.39718,  3.39718,  3.21992,  3.19802,  3.19802,  3.11202,  3.11202,  3.00694,  3.00618,  2.66112,  1.9371 ,  1.9371 ,  1.60736,  1.57041,  1.57041,  1.38151,  1.02876,  0.64545,  0.64545,  0.16503,  0.16503, -1.91798, -2.01129])"
      ]
     },
     "execution_count": 20,
     "metadata": {},
     "output_type": "execute_result"
    }
   ],
   "source": [
    "eig_val[index_OR]"
   ]
  },
  {
   "cell_type": "code",
   "execution_count": 21,
   "id": "4705a49d",
   "metadata": {},
   "outputs": [
    {
     "data": {
      "text/plain": [
       "np.complex128(0.6419012396579806+0j)"
      ]
     },
     "execution_count": 21,
     "metadata": {},
     "output_type": "execute_result"
    }
   ],
   "source": [
    "np.trace(D_t @ D_t)"
   ]
  },
  {
   "cell_type": "markdown",
   "id": "4cc86763",
   "metadata": {},
   "source": [
    "## Definde maximization function"
   ]
  },
  {
   "cell_type": "code",
   "execution_count": 22,
   "id": "b27bfb2a",
   "metadata": {},
   "outputs": [],
   "source": [
    "ground_NO = eig_vec_TF[:, index_TF[:27]]"
   ]
  },
  {
   "cell_type": "code",
   "execution_count": 23,
   "id": "63008b32",
   "metadata": {},
   "outputs": [
    {
     "data": {
      "text/plain": [
       "(729, 27)"
      ]
     },
     "execution_count": 23,
     "metadata": {},
     "output_type": "execute_result"
    }
   ],
   "source": [
    "ground_NO.shape"
   ]
  },
  {
   "cell_type": "code",
   "execution_count": 37,
   "id": "54440a87",
   "metadata": {},
   "outputs": [],
   "source": [
    "def f_max(C, ground_NO):\n",
    "    # C is variable; ground_NO is fixed from args\n",
    "    psi = ground_NO @ C\n",
    "    D = density_matrix_1(state*2, site, psi, 0)\n",
    "    return float(np.real(np.trace(D)**2))\n",
    "\n",
    "# inequality constraint: f_max(C, ground_NO) <= 1  →  1 - f_max >= 0\n",
    "def constr_ineq(C, ground_NO):\n",
    "    return 1 - f_max(C, ground_NO)\n",
    "\n",
    "# optional equality constraint: <psi|psi> = 1\n",
    "def constr_eq(C):\n",
    "    return float(C @ C) - 1.0\n",
    "\n",
    "# initial guess\n",
    "C0 = np.full((state**2*site), 1e-10)\n",
    "\n",
    "res = minimize(\n",
    "    constr_ineq,\n",
    "    x0=C0,\n",
    "    args=(ground_NO,),                       # <-- fixed extra argument(s)\n",
    "    method='SLSQP',\n",
    "    constraints=[\n",
    "        {'type': 'eq', 'fun': constr_eq}\n",
    "    ],\n",
    "    options={'ftol': 1e-6, 'maxiter': 1000}\n",
    ")"
   ]
  },
  {
   "cell_type": "code",
   "execution_count": null,
   "id": "888c7cf5",
   "metadata": {},
   "outputs": [
    {
     "name": "stderr",
     "output_type": "stream",
     "text": [
      "/Users/gilfrim/Desktop/Projects/Computational_Analysis_of_Many_Rotor_Systems/.venv/lib/python3.13/site-packages/scipy/optimize/_differentiable_functions.py:552: UserWarning: delta_grad == 0.0. Check if the approximated function is linear. If the function is linear better results can be obtained by defining the Hessian as zero instead of using quasi-Newton approximations.\n",
      "  self.H.update(delta_x, delta_g)\n"
     ]
    }
   ],
   "source": [
    "# res = minimize(\n",
    "#     constr_ineq, C0, args=(ground_NO,),\n",
    "#     method='trust-constr',    # ← different method\n",
    "#     constraints=[{'type': 'eq', 'fun': constr_eq}],\n",
    "#     options={'gtol':1e-8, 'maxiter':10000}\n",
    "# )"
   ]
  },
  {
   "cell_type": "code",
   "execution_count": 38,
   "id": "b7ae353c",
   "metadata": {},
   "outputs": [
    {
     "data": {
      "text/plain": [
       " message: Optimization terminated successfully\n",
       " success: True\n",
       "  status: 0\n",
       "     fun: 0.17004222298246663\n",
       "       x: [-7.664e-03 -2.985e-02 ...  2.885e-01  6.604e-02]\n",
       "     nit: 14\n",
       "     jac: [ 2.545e-02  9.908e-02 ... -9.576e-01 -2.192e-01]\n",
       "    nfev: 407\n",
       "    njev: 14"
      ]
     },
     "execution_count": 38,
     "metadata": {},
     "output_type": "execute_result"
    }
   ],
   "source": [
    "res"
   ]
  },
  {
   "cell_type": "code",
   "execution_count": 39,
   "id": "31b365f9",
   "metadata": {},
   "outputs": [],
   "source": [
    "C_opt = res.x"
   ]
  },
  {
   "cell_type": "code",
   "execution_count": 40,
   "id": "9ea8ba1c",
   "metadata": {},
   "outputs": [
    {
     "data": {
      "text/plain": [
       "np.float64(1.0000000302379362)"
      ]
     },
     "execution_count": 40,
     "metadata": {},
     "output_type": "execute_result"
    }
   ],
   "source": [
    "C_opt @C_opt"
   ]
  },
  {
   "cell_type": "code",
   "execution_count": 41,
   "id": "1cf19e2c",
   "metadata": {},
   "outputs": [],
   "source": [
    "psi = ground_NO @ C_opt"
   ]
  },
  {
   "cell_type": "code",
   "execution_count": 42,
   "id": "153134ad",
   "metadata": {},
   "outputs": [],
   "source": [
    "D_1 = density_matrix_1(state**2, site, psi, 0)"
   ]
  },
  {
   "cell_type": "code",
   "execution_count": 43,
   "id": "a4d5c652",
   "metadata": {},
   "outputs": [],
   "source": [
    "eig_val_TF_D, eig_vec_TF_D = np.linalg.eigh(D_1)\n",
    "index = np.argsort(-eig_val_TF_D)"
   ]
  },
  {
   "cell_type": "code",
   "execution_count": 44,
   "id": "349c28eb",
   "metadata": {},
   "outputs": [
    {
     "data": {
      "text/plain": [
       "0.17004222298246663"
      ]
     },
     "execution_count": 44,
     "metadata": {},
     "output_type": "execute_result"
    }
   ],
   "source": [
    "constr_ineq(C_opt, ground_NO)"
   ]
  },
  {
   "cell_type": "code",
   "execution_count": 45,
   "id": "dcbec448",
   "metadata": {},
   "outputs": [
    {
     "data": {
      "text/plain": [
       "array([0.91386, 0.05206, 0.03408, 0.     , 0.     , 0.     , 0.     , 0.     , 0.     ])"
      ]
     },
     "execution_count": 45,
     "metadata": {},
     "output_type": "execute_result"
    }
   ],
   "source": [
    "eig_val_TF_D[index]"
   ]
  },
  {
   "cell_type": "code",
   "execution_count": 34,
   "id": "eeddea95",
   "metadata": {},
   "outputs": [
    {
     "data": {
      "text/plain": [
       "array([[-0.51639+0.j,  0.24843+0.j, -0.22268+0.j, -0.53731+0.j,  0.     +0.j,  0.     -0.j,  0.     +0.j,  0.     +0.j, -0.57735-0.j],\n",
       "       [-0.64962+0.j,  0.02534+0.j, -0.27798+0.j, -0.00855+0.j, -0.     +0.j, -0.     +0.j,  0.     +0.j, -0.     +0.j,  0.70711+0.j],\n",
       "       [-0.39489+0.j, -0.30744+0.j, -0.16657+0.j,  0.74507+0.j,  0.     +0.j,  0.     +0.j,  0.     +0.j, -0.     +0.j, -0.40825+0.j],\n",
       "       [-0.     +0.j, -0.     +0.j,  0.     +0.j, -0.     +0.j,  0.     +0.j,  0.     +0.j,  0.     +0.j, -1.     +0.j,  0.     +0.j],\n",
       "       [ 0.03355+0.j,  0.91802+0.j, -0.00685+0.j,  0.39505+0.j, -0.     +0.j, -0.     +0.j,  0.     +0.j, -0.     +0.j,  0.     +0.j],\n",
       "       [ 0.     +0.j,  0.     +0.j, -0.     +0.j, -0.     +0.j, -0.39671+0.j,  0.91794+0.j, -0.     +0.j,  0.     +0.j,  0.     +0.j],\n",
       "       [-0.     +0.j,  0.     +0.j, -0.     +0.j, -0.     +0.j, -0.91794+0.j, -0.39671+0.j,  0.     +0.j, -0.     +0.j, -0.     +0.j],\n",
       "       [-0.39277+0.j,  0.01897+0.j,  0.91943+0.j,  0.00521+0.j, -0.     +0.j,  0.     +0.j, -0.     +0.j, -0.     +0.j,  0.     +0.j],\n",
       "       [ 0.     +0.j, -0.     +0.j,  0.     +0.j,  0.     +0.j,  0.     +0.j,  0.     +0.j,  1.     +0.j,  0.     +0.j,  0.     +0.j]])"
      ]
     },
     "execution_count": 34,
     "metadata": {},
     "output_type": "execute_result"
    }
   ],
   "source": [
    "eig_vec_TF_D"
   ]
  },
  {
   "cell_type": "markdown",
   "id": "ecfe439a",
   "metadata": {},
   "source": [
    "# Optimal reference state in TF-CCC"
   ]
  },
  {
   "cell_type": "code",
   "execution_count": 179,
   "id": "72ad9fbf",
   "metadata": {},
   "outputs": [],
   "source": [
    "site = 3\n",
    "state = 3\n",
    "g = 0.9"
   ]
  },
  {
   "cell_type": "code",
   "execution_count": 180,
   "id": "8c2de2d8",
   "metadata": {},
   "outputs": [],
   "source": [
    "# H, K, V = hamiltonian_general_dense(state, site, g)\n",
    "\n",
    "# V = V * g"
   ]
  },
  {
   "cell_type": "code",
   "execution_count": 181,
   "id": "597307b9",
   "metadata": {},
   "outputs": [],
   "source": [
    "H, K, V = hamiltonian_dense(state, site, g)\n",
    "\n",
    "V = V * g"
   ]
  },
  {
   "cell_type": "code",
   "execution_count": 182,
   "id": "9b97bc7d",
   "metadata": {},
   "outputs": [
    {
     "data": {
      "text/plain": [
       "array([[0.+0.j, 0.+0.j, 0.+0.j],\n",
       "       [0.+0.j, 1.+0.j, 0.+0.j],\n",
       "       [0.+0.j, 0.+0.j, 1.+0.j]])"
      ]
     },
     "execution_count": 182,
     "metadata": {},
     "output_type": "execute_result"
    }
   ],
   "source": [
    "K"
   ]
  },
  {
   "cell_type": "code",
   "execution_count": 183,
   "id": "a42a5465",
   "metadata": {},
   "outputs": [
    {
     "data": {
      "text/plain": [
       "array([[ 0.   +0.j,  0.   +0.j,  0.   +0.j,  0.   +0.j,  0.675+0.j, -0.225+0.j,  0.   +0.j, -0.225+0.j,  0.675+0.j],\n",
       "       [ 0.   +0.j,  0.   +0.j,  0.   +0.j, -0.225+0.j,  0.   +0.j,  0.   +0.j,  0.675+0.j,  0.   +0.j,  0.   +0.j],\n",
       "       [ 0.   +0.j,  0.   +0.j,  0.   +0.j,  0.675+0.j,  0.   +0.j,  0.   +0.j, -0.225+0.j,  0.   +0.j,  0.   +0.j],\n",
       "       [ 0.   +0.j, -0.225+0.j,  0.675+0.j,  0.   +0.j,  0.   +0.j,  0.   +0.j,  0.   +0.j,  0.   +0.j,  0.   +0.j],\n",
       "       [ 0.675+0.j,  0.   +0.j,  0.   +0.j,  0.   +0.j,  0.   +0.j,  0.   +0.j,  0.   +0.j,  0.   +0.j,  0.   +0.j],\n",
       "       [-0.225+0.j,  0.   +0.j,  0.   +0.j,  0.   +0.j,  0.   +0.j,  0.   +0.j,  0.   +0.j,  0.   +0.j,  0.   +0.j],\n",
       "       [ 0.   +0.j,  0.675+0.j, -0.225+0.j,  0.   +0.j,  0.   +0.j,  0.   +0.j,  0.   +0.j,  0.   +0.j,  0.   +0.j],\n",
       "       [-0.225+0.j,  0.   +0.j,  0.   +0.j,  0.   +0.j,  0.   +0.j,  0.   +0.j,  0.   +0.j,  0.   +0.j,  0.   +0.j],\n",
       "       [ 0.675+0.j,  0.   +0.j,  0.   +0.j,  0.   +0.j,  0.   +0.j,  0.   +0.j,  0.   +0.j,  0.   +0.j,  0.   +0.j]])"
      ]
     },
     "execution_count": 183,
     "metadata": {},
     "output_type": "execute_result"
    }
   ],
   "source": [
    "V"
   ]
  },
  {
   "cell_type": "code",
   "execution_count": 184,
   "id": "72d9c011",
   "metadata": {},
   "outputs": [],
   "source": [
    "state_2 = state**2"
   ]
  },
  {
   "cell_type": "code",
   "execution_count": 185,
   "id": "97a678f5",
   "metadata": {},
   "outputs": [],
   "source": [
    "U, _ = bz.thermofield_change_of_basis(K)\n",
    "\n",
    "I = np.eye(state)\n",
    "\n",
    "K_prim = oe.contract('pq,mw->pmqw', K, I,  optimize='optimal')\n",
    "\n",
    "K_grouped = K_prim.reshape(state_2, state_2)\n",
    "\n",
    "V_tensor = V.reshape(state, state, state, state)\n",
    "\n",
    "\n",
    "V_prim = oe.contract('pqrs,mw,nv->pnqmrvsw', V_tensor, I, I,  optimize='optimal')\n",
    "\n",
    "V_grouped = V_prim.reshape(state_2**2, state_2**2)"
   ]
  },
  {
   "cell_type": "code",
   "execution_count": 186,
   "id": "5ea6af3e",
   "metadata": {},
   "outputs": [],
   "source": [
    "H_TF, _, _ = hamiltonian_dense(state_2, site, 1, K_import=K_grouped, V_import=V_grouped, Import=True)"
   ]
  },
  {
   "cell_type": "code",
   "execution_count": 187,
   "id": "03896263",
   "metadata": {},
   "outputs": [],
   "source": [
    "eig_val_TF, eig_vec_TF = np.linalg.eigh(H_TF)"
   ]
  },
  {
   "cell_type": "code",
   "execution_count": 188,
   "id": "d4a3b6c2",
   "metadata": {},
   "outputs": [],
   "source": [
    "index_TF = np.argsort(eig_val_TF)\n",
    "psi_vec = eig_vec_TF[index_TF[0]]\n",
    "\n",
    "rho_site_0 = density_matrix_1(state_2, site, psi_vec, 0)"
   ]
  },
  {
   "cell_type": "code",
   "execution_count": 189,
   "id": "7c10ab81",
   "metadata": {},
   "outputs": [
    {
     "data": {
      "text/plain": [
       "array([-1.53639, -1.53639, -1.53639, -1.53639, -1.53639, -1.53639, -1.53639, -1.53639, -1.53639, -1.53639, -1.53639, -1.53639, -1.53639, -1.53639, -1.53639, -1.53639, -1.53639, -1.53639, -1.53639, -1.53639, -1.53639, -1.53639, -1.53639, -1.53639, -1.53639, -1.53639, -1.53639, -1.3985 , -1.3985 , -1.3985 , -1.3985 , -1.3985 , -1.3985 , -1.3985 , -1.3985 , -1.3985 , -1.3985 , -1.3985 , -1.3985 , -1.3985 , -1.3985 , -1.3985 , -1.3985 , -1.3985 , -1.3985 , -1.3985 , -1.3985 , -1.3985 , -1.3985 , -1.3985 , -1.3985 , -1.3985 , -1.3985 , -1.3985 ,  0.25493,  0.25493,  0.25493,  0.25493,  0.25493,  0.25493,  0.25493,  0.25493,  0.25493,  0.25493,  0.25493,  0.25493,  0.25493,  0.25493,  0.25493,  0.25493,  0.25493,  0.25493,  0.25493,  0.25493,  0.25493,  0.25493,  0.25493,  0.25493,  0.25493,  0.25493,  0.25493,  0.25493,  0.25493,  0.25493,  0.25493,  0.25493,  0.25493,  0.25493,  0.25493,  0.25493,  0.25493,  0.25493,  0.25493,  0.25493,  0.25493,  0.25493,  0.25493,  0.25493,  0.25493,  0.25493,  0.25493,  0.25493,  0.25493,  0.25493,  0.25493,  0.25493,  0.25493,  0.25493,  0.80941,  0.80941,  0.80941,  0.80941,  0.80941,  0.80941,  0.80941,  0.80941,  0.80941,  0.80941,  0.80941,  0.80941,  0.80941,  0.80941,  0.80941,  0.80941,  0.80941,  0.80941,  0.80941,  0.80941,  0.80941,  0.80941,  0.80941,  0.80941,  0.80941,  0.80941,  0.80941,  0.80941,  0.80941,  0.80941,  0.80941,  0.80941,  0.80941,  0.80941,  0.80941,  0.80941,  0.80941,  0.80941,  0.80941,  0.80941,  0.80941,  0.80941,  0.80941,  0.80941,  0.80941,  0.80941,  0.80941,  0.80941,  0.80941,  0.80941,  0.80941,  0.80941,  0.80941,  0.80941,  1.13851,  1.13851,  1.13851,  1.13851,  1.13851,  1.13851,  1.13851,  1.13851,  1.13851,  1.13851,  1.13851,  1.13851,  1.13851,  1.13851,  1.13851,  1.13851,  1.13851,  1.13851,  1.13851,  1.13851,  1.13851,  1.13851,  1.13851,  1.13851,  1.13851,  1.13851,  1.13851,  1.47664,  1.47664,  1.47664,  1.47664,  1.47664,  1.47664,  1.47664,  1.47664,  1.47664,  1.47664,  1.47664,  1.47664,  1.47664,  1.47664,  1.47664,  1.47664,  1.47664,  1.47664,  1.47664,  1.47664,  1.47664,  1.47664,  1.47664,  1.47664,  1.47664,  1.47664,  1.47664,  1.55   ,  1.55   ,  1.55   ,  1.55   ,  1.55   ,  1.55   ,  1.55   ,  1.55   ,  1.55   ,  1.55   ,  1.55   ,  1.55   ,  1.55   ,  1.55   ,  1.55   ,  1.55   ,  1.55   ,  1.55   ,  1.55   ,  1.55   ,  1.55   ,  1.55   ,  1.55   ,  1.55   ,  1.55   ,  1.55   ,  1.55   ,  1.55   ,  1.55   ,  1.55   ,  1.55   ,  1.55   ,  1.55   ,  1.55   ,  1.55   ,  1.55   ,  1.55   ,  1.55   ,  1.55   ,  1.55   ,  1.55   ,  1.55   ,  1.55   ,  1.55   ,  1.55   ,  1.55   ,  1.55   ,  1.55   ,  1.55   ,  1.55   ,  1.55   ,  1.55   ,  1.55   ,  1.55   ,  1.55   ,  1.55   ,  1.55   ,  1.55   ,  1.55   ,  1.55   ,  1.55   ,  1.55   ,  1.55   ,  1.55   ,  1.55   ,  1.55   ,  1.55   ,  1.55   ,  1.55   ,  1.55   ,  1.55   ,  1.55   ,  1.55   ,  1.55   ,  1.55   ,  1.55   ,  1.55   ,  1.55   ,  1.55   ,  1.55   ,  1.55   ,  1.73937,  1.73937,  1.73937,  1.73937,  1.73937,  1.73937,  1.73937,  1.73937,  1.73937,  1.73937,  1.73937,  1.73937,  1.73937,  1.73937,  1.73937,  1.73937,  1.73937,  1.73937,  1.73937,  1.73937,  1.73937,  1.73937,  1.73937,  1.73937,  1.73937,  1.73937,  1.73937,  1.73937,  1.73937,  1.73937,  1.73937,  1.73937,  1.73937,  1.73937,  1.73937,  1.73937,  1.73937,  1.73937,  1.73937,  1.73937,  1.73937,  1.73937,  1.73937,  1.73937,  1.73937,  1.73937,  1.73937,  1.73937,  1.73937,  1.73937,  1.73937,  1.73937,  1.73937,  1.73937,  2.45   ,  2.45   ,  2.45   ,  2.45   ,  2.45   ,  2.45   ,  2.45   ,  2.45   ,  2.45   ,  2.45   ,  2.45   ,  2.45   ,  2.45   ,  2.45   ,  2.45   ,  2.45   ,  2.45   ,  2.45   ,  2.45   ,  2.45   ,  2.45   ,  2.45   ,  2.45   ,  2.45   ,  2.45   ,  2.45   ,  2.45   ,  2.9    ,  2.9    ,  2.9    ,  2.9    ,  2.9    ,  2.9    ,  2.9    ,  2.9    ,  2.9    ,  2.9    ,  2.9    ,  2.9    ,  2.9    ,  2.9    ,  2.9    ,  2.9    ,  2.9    ,  2.9    ,  2.9    ,  2.9    ,  2.9    ,  2.9    ,  2.9    ,  2.9    ,  2.9    ,  2.9    ,  2.9    ,  2.9    ,  2.9    ,  2.9    ,  2.9    ,  2.9    ,  2.9    ,  2.9    ,  2.9    ,  2.9    ,  2.9    ,  2.9    ,  2.9    ,  2.9    ,  2.9    ,  2.9    ,  2.9    ,  2.9    ,  2.9    ,  2.9    ,  2.9    ,  2.9    ,  2.9    ,  2.9    ,  2.9    ,  2.9    ,  2.9    ,  2.9    ,  3.     ,  3.     ,  3.     ,  3.     ,  3.     ,  3.     ,  3.     ,  3.     ,  3.     ,  3.     ,  3.     ,  3.     ,  3.     ,  3.     ,  3.     ,  3.     ,  3.     ,  3.     ,  3.     ,  3.     ,  3.     ,  3.     ,  3.     ,  3.     ,  3.     ,  3.     ,  3.     ,  3.     ,  3.     ,  3.     ,  3.     ,  3.     ,  3.     ,  3.     ,  3.     ,  3.     ,  3.     ,  3.     ,  3.     ,  3.     ,  3.     ,  3.     ,  3.     ,  3.     ,  3.     ,  3.     ,  3.     ,  3.     ,  3.     ,  3.     ,  3.     ,  3.     ,  3.     ,  3.     ,  3.15976,  3.15976,  3.15976,  3.15976,  3.15976,  3.15976,  3.15976,  3.15976,  3.15976,  3.15976,  3.15976,  3.15976,  3.15976,  3.15976,  3.15976,  3.15976,  3.15976,  3.15976,  3.15976,  3.15976,  3.15976,  3.15976,  3.15976,  3.15976,  3.15976,  3.15976,  3.15976,  3.16063,  3.16063,  3.16063,  3.16063,  3.16063,  3.16063,  3.16063,  3.16063,  3.16063,  3.16063,  3.16063,  3.16063,  3.16063,  3.16063,  3.16063,  3.16063,  3.16063,  3.16063,  3.16063,  3.16063,  3.16063,  3.16063,  3.16063,  3.16063,  3.16063,  3.16063,  3.16063,  3.16063,  3.16063,  3.16063,  3.16063,  3.16063,  3.16063,  3.16063,  3.16063,  3.16063,  3.16063,  3.16063,  3.16063,  3.16063,  3.16063,  3.16063,  3.16063,  3.16063,  3.16063,  3.16063,  3.16063,  3.16063,  3.16063,  3.16063,  3.16063,  3.16063,  3.16063,  3.16063,  3.19059,  3.19059,  3.19059,  3.19059,  3.19059,  3.19059,  3.19059,  3.19059,  3.19059,  3.19059,  3.19059,  3.19059,  3.19059,  3.19059,  3.19059,  3.19059,  3.19059,  3.19059,  3.19059,  3.19059,  3.19059,  3.19059,  3.19059,  3.19059,  3.19059,  3.19059,  3.19059,  3.19059,  3.19059,  3.19059,  3.19059,  3.19059,  3.19059,  3.19059,  3.19059,  3.19059,  3.19059,  3.19059,  3.19059,  3.19059,  3.19059,  3.19059,  3.19059,  3.19059,  3.19059,  3.19059,  3.19059,  3.19059,  3.19059,  3.19059,  3.19059,  3.19059,  3.19059,  3.19059,  3.29507,  3.29507,  3.29507,  3.29507,  3.29507,  3.29507,  3.29507,  3.29507,  3.29507,  3.29507,  3.29507,  3.29507,  3.29507,  3.29507,  3.29507,  3.29507,  3.29507,  3.29507,  3.29507,  3.29507,  3.29507,  3.29507,  3.29507,  3.29507,  3.29507,  3.29507,  3.29507,  3.29507,  3.29507,  3.29507,  3.29507,  3.29507,  3.29507,  3.29507,  3.29507,  3.29507,  3.29507,  3.29507,  3.29507,  3.29507,  3.29507,  3.29507,  3.29507,  3.29507,  3.29507,  3.29507,  3.29507,  3.29507,  3.29507,  3.29507,  3.29507,  3.29507,  3.29507,  3.29507,  3.5985 ,  3.5985 ,  3.5985 ,  3.5985 ,  3.5985 ,  3.5985 ,  3.5985 ,  3.5985 ,  3.5985 ,  3.5985 ,  3.5985 ,  3.5985 ,  3.5985 ,  3.5985 ,  3.5985 ,  3.5985 ,  3.5985 ,  3.5985 ,  3.5985 ,  3.5985 ,  3.5985 ,  3.5985 ,  3.5985 ,  3.5985 ,  3.5985 ,  3.5985 ,  3.5985 ,  3.76149,  3.76149,  3.76149,  3.76149,  3.76149,  3.76149,  3.76149,  3.76149,  3.76149,  3.76149,  3.76149,  3.76149,  3.76149,  3.76149,  3.76149,  3.76149,  3.76149,  3.76149,  3.76149,  3.76149,  3.76149,  3.76149,  3.76149,  3.76149,  3.76149,  3.76149,  3.76149])"
      ]
     },
     "execution_count": 189,
     "metadata": {},
     "output_type": "execute_result"
    }
   ],
   "source": [
    "eig_val_TF[index_TF]"
   ]
  },
  {
   "cell_type": "code",
   "execution_count": 190,
   "id": "f66286c9",
   "metadata": {},
   "outputs": [],
   "source": [
    "zero = H_TF[0, :]"
   ]
  },
  {
   "cell_type": "code",
   "execution_count": 191,
   "id": "e9db5234",
   "metadata": {},
   "outputs": [
    {
     "data": {
      "text/plain": [
       "(array([ 30,  33,  57,  60, 246, 249, 270, 297, 489, 492, 513, 540]),)"
      ]
     },
     "execution_count": 191,
     "metadata": {},
     "output_type": "execute_result"
    }
   ],
   "source": [
    "np.nonzero(zero)"
   ]
  },
  {
   "cell_type": "code",
   "execution_count": 192,
   "id": "c7a7aab6",
   "metadata": {},
   "outputs": [],
   "source": [
    "ground_NO = eig_vec_TF[:, index_TF[:state ** site]]"
   ]
  },
  {
   "cell_type": "code",
   "execution_count": 193,
   "id": "ef73b53b",
   "metadata": {},
   "outputs": [
    {
     "data": {
      "text/plain": [
       "array([[ 0.     ,  0.     , -0.     , -0.     , -0.     ,  0.     ,  0.     , -0.     ,  0.     ,  0.     ,  0.     , -0.     , -0.     , -0.     , -0.     ,  0.     , -0.     , -0.     , -0.     , -0.     ,  0.     , -0.     , -0.     , -0.     , -0.     ,  0.     ,  0.     ,  0.     , -0.     ,  0.     ,  0.     , -0.     ,  0.     ,  0.     ,  0.     , -0.     , -0.     , -0.     , -0.     , -0.     , -0.     ,  0.     ,  0.     ,  0.     , -0.     ,  0.     , -0.     ,  0.     ,  0.     ,  0.     , -0.     , -0.     , -0.     ,  0.     , -0.     ,  0.     , -0.     ,  0.     ,  0.     , -0.     ,  0.     , -0.     ,  0.     ,  0.     , -0.     , -0.     ,  0.     ,  0.     , -0.     , -0.     , -0.     ,  0.     ,  0.     ,  0.     ,  0.     , -0.     , -0.     ,  0.     ,  0.     ,  0.     , -0.     ,  0.00057, -0.00251, -0.02029, -0.     , -0.     ,  0.     ,  0.     ,  0.     ,  0.     ,  0.02298,  0.00672, -0.00806,  0.     , -0.     ,  0.     ,  0.     ,  0.     ,  0.     , -0.01739,  0.09767, -0.03558,  0.     ,  0.     , -0.     ,  0.     ,  0.     ,  0.     , -0.     ,  0.     ,  0.     , -0.00018,  0.00078,  0.00629,  0.00012, -0.00052, -0.00423, -0.     , -0.     ,  0.     , -0.00712, -0.00208,  0.0025 ,  0.00479,  0.0014 , -0.00168, -0.     ,  0.     , -0.     ,  0.00539, -0.03027,  0.01102, -0.00362,  0.02036, -0.00742,  0.     ,  0.     ,  0.     ,  0.00012, -0.00052, -0.00423, -0.00018,  0.00078,  0.00629,  0.     ,  0.     ,  0.     ,  0.00479,  0.0014 , -0.00168, -0.00712, -0.00208,  0.0025 ,  0.     ,  0.     ,  0.     , -0.00362,  0.02036, -0.00742,  0.00539, -0.03027,  0.01102, -0.13345,  0.03448,  0.25522, -0.     ,  0.     , -0.     ,  0.     ,  0.     ,  0.     , -0.03396, -0.17818, -0.32682,  0.     ,  0.     ,  0.     , -0.     , -0.     , -0.     , -0.24196,  0.26304,  0.42505,  0.     , -0.     ,  0.     , -0.     ,  0.     , -0.     , -0.     ,  0.     , -0.     ,  0.04135, -0.01068, -0.07909, -0.02782,  0.00719,  0.0532 , -0.     , -0.     ,  0.     ,  0.01052,  0.05521,  0.10127, -0.00708, -0.03714, -0.06812,  0.     , -0.     ,  0.     ,  0.07498, -0.08151, -0.13171, -0.05044,  0.05483,  0.0886 ,  0.     , -0.     ,  0.     , -0.02782,  0.00719,  0.0532 ,  0.04135, -0.01068, -0.07909, -0.     , -0.     , -0.     , -0.00708, -0.03714, -0.06812,  0.01052,  0.05521,  0.10127, -0.     , -0.     , -0.     , -0.05044,  0.05483,  0.0886 ,  0.07498, -0.08151, -0.13171,  0.     ,  0.     ,  0.     ,  0.     , -0.     ,  0.     , -0.     ,  0.     , -0.     ,  0.     , -0.     ,  0.     , -0.     , -0.     ,  0.     ,  0.     ,  0.     , -0.     ,  0.     , -0.     , -0.     ,  0.     ,  0.     , -0.     , -0.     , -0.     ,  0.     ,  0.     , -0.     ,  0.     , -0.     , -0.     , -0.     ,  0.     ,  0.     ,  0.     , -0.     , -0.     ,  0.     ,  0.     ,  0.     ,  0.     ,  0.     ,  0.     ,  0.     ,  0.     ,  0.     , -0.     ,  0.     ,  0.     , -0.     , -0.     , -0.     , -0.     ,  0.     ,  0.     , -0.     , -0.     ,  0.     ,  0.     , -0.     ,  0.     ,  0.     ,  0.     ,  0.     , -0.     , -0.     ,  0.     , -0.     , -0.     ,  0.     , -0.     , -0.     , -0.     ,  0.     ,  0.     , -0.     ,  0.     ,  0.     ,  0.     ,  0.     , -0.     , -0.     ,  0.     , -0.00018,  0.00078,  0.00629,  0.00012, -0.00052, -0.00423, -0.     , -0.     , -0.     , -0.00712, -0.00208,  0.0025 ,  0.00479,  0.0014 , -0.00168,  0.     , -0.     , -0.     ,  0.00539, -0.03027,  0.01102, -0.00362,  0.02036, -0.00742, -0.00018,  0.00078,  0.00629,  0.     , -0.     , -0.     ,  0.     , -0.     ,  0.     , -0.00712, -0.00208,  0.0025 , -0.     ,  0.     ,  0.     ,  0.     , -0.     , -0.     ,  0.00539, -0.03027,  0.01102, -0.     , -0.     , -0.     , -0.     , -0.     , -0.     ,  0.00012, -0.00052, -0.00423,  0.     , -0.     , -0.     ,  0.     ,  0.     , -0.     ,  0.00479,  0.0014 , -0.00168, -0.     , -0.     ,  0.     , -0.     , -0.     , -0.     , -0.00362,  0.02036, -0.00742,  0.     ,  0.     , -0.     ,  0.     ,  0.     ,  0.     , -0.     , -0.     , -0.     ,  0.04135, -0.01068, -0.07909, -0.02782,  0.00719,  0.0532 ,  0.     ,  0.     ,  0.     ,  0.01052,  0.05521,  0.10127, -0.00708, -0.03714, -0.06812,  0.     , -0.     ,  0.     ,  0.07498, -0.08151, -0.13171, -0.05044,  0.05483,  0.0886 ,  0.04135, -0.01068, -0.07909,  0.     ,  0.     ,  0.     , -0.     , -0.     , -0.     ,  0.01052,  0.05521,  0.10127,  0.     , -0.     , -0.     , -0.     , -0.     ,  0.     ,  0.07498, -0.08151, -0.13171, -0.     ,  0.     ,  0.     , -0.     ,  0.     ,  0.     , -0.02782,  0.00719,  0.0532 ,  0.     ,  0.     , -0.     ,  0.     , -0.     , -0.     , -0.00708, -0.03714, -0.06812,  0.     ,  0.     ,  0.     , -0.     ,  0.     , -0.     , -0.05044,  0.05483,  0.0886 ,  0.     , -0.     ,  0.     , -0.     ,  0.     ,  0.     ,  0.     ,  0.     ,  0.     , -0.     ,  0.     , -0.     , -0.     , -0.     ,  0.     ,  0.     ,  0.     ,  0.     ,  0.     ,  0.     , -0.     , -0.     , -0.     ,  0.     , -0.     ,  0.     ,  0.     , -0.     , -0.     ,  0.     ,  0.     ,  0.     , -0.     , -0.     ,  0.     , -0.     , -0.     , -0.     , -0.     , -0.     , -0.     , -0.     ,  0.     ,  0.     , -0.     , -0.     , -0.     , -0.     ,  0.     , -0.     ,  0.     , -0.     , -0.     ,  0.     , -0.     , -0.     , -0.     , -0.     ,  0.     , -0.     , -0.     , -0.     ,  0.     , -0.     , -0.     , -0.     ,  0.     , -0.     , -0.     , -0.     , -0.     ,  0.     ,  0.     , -0.     , -0.     , -0.     , -0.     ,  0.     ,  0.     ,  0.     , -0.     ,  0.     ,  0.     ,  0.     ,  0.     , -0.     , -0.     ,  0.     ,  0.     ,  0.     ,  0.00012, -0.00052, -0.00423, -0.00018,  0.00078,  0.00629,  0.     ,  0.     , -0.     ,  0.00479,  0.0014 , -0.00168, -0.00712, -0.00208,  0.0025 ,  0.     ,  0.     , -0.     , -0.00362,  0.02036, -0.00742,  0.00539, -0.03027,  0.01102,  0.00012, -0.00052, -0.00423, -0.     , -0.     ,  0.     ,  0.     ,  0.     , -0.     ,  0.00479,  0.0014 , -0.00168,  0.     , -0.     , -0.     ,  0.     ,  0.     , -0.     , -0.00362,  0.02036, -0.00742, -0.     , -0.     , -0.     ,  0.     , -0.     , -0.     , -0.00018,  0.00078,  0.00629,  0.     ,  0.     ,  0.     , -0.     , -0.     ,  0.     , -0.00712, -0.00208,  0.0025 ,  0.     , -0.     ,  0.     , -0.     , -0.     , -0.     ,  0.00539, -0.03027,  0.01102, -0.     ,  0.     ,  0.     , -0.     , -0.     ,  0.     ,  0.     ,  0.     ,  0.     , -0.02782,  0.00719,  0.0532 ,  0.04135, -0.01068, -0.07909,  0.     ,  0.     , -0.     , -0.00708, -0.03714, -0.06812,  0.01052,  0.05521,  0.10127, -0.     ,  0.     , -0.     , -0.05044,  0.05483,  0.0886 ,  0.07498, -0.08151, -0.13171, -0.02782,  0.00719,  0.0532 , -0.     ,  0.     , -0.     ,  0.     ,  0.     ,  0.     , -0.00708, -0.03714, -0.06812, -0.     ,  0.     , -0.     ,  0.     , -0.     ,  0.     , -0.05044,  0.05483,  0.0886 , -0.     , -0.     ,  0.     , -0.     ,  0.     , -0.     ,  0.04135, -0.01068, -0.07909,  0.     ,  0.     ,  0.     , -0.     ,  0.     , -0.     ,  0.01052,  0.05521,  0.10127, -0.     , -0.     , -0.     ,  0.     ,  0.     , -0.     ,  0.07498, -0.08151, -0.13171, -0.     , -0.     ,  0.     ,  0.     ,  0.     , -0.     ],\n",
       "       [ 0.     ,  0.     , -0.     ,  0.     , -0.     ,  0.     ,  0.     ,  0.     , -0.     ,  0.00003,  0.00008, -0.00024, -0.     , -0.     , -0.     ,  0.     ,  0.     ,  0.     , -0.00012, -0.00018,  0.00018,  0.     , -0.     , -0.     , -0.     ,  0.     ,  0.     , -0.     , -0.     , -0.     , -0.     , -0.     ,  0.     , -0.     ,  0.     , -0.     , -0.     ,  0.     , -0.     , -0.00001, -0.00003,  0.00007,  0.00001,  0.00002, -0.00005,  0.     , -0.     , -0.     ,  0.00004,  0.00006, -0.00005, -0.00003, -0.00004,  0.00004,  0.     ,  0.     ,  0.     ,  0.     ,  0.     , -0.     ,  0.     , -0.     ,  0.     ,  0.     , -0.     ,  0.     ,  0.00001,  0.00002, -0.00005, -0.00001, -0.00003,  0.00007, -0.     ,  0.     ,  0.     , -0.00003, -0.00004,  0.00004,  0.00004,  0.00006, -0.00005,  0.07164, -0.12904, -0.04869, -0.     ,  0.     ,  0.     ,  0.     , -0.     ,  0.     ,  0.14549,  0.21865, -0.21884,  0.     , -0.     ,  0.     , -0.     ,  0.     , -0.     , -0.15181, -0.45214,  0.10541, -0.     ,  0.     , -0.     ,  0.     , -0.     ,  0.     , -0.     ,  0.     , -0.     , -0.0222 ,  0.03998,  0.01509,  0.01493, -0.0269 , -0.01015,  0.     , -0.     ,  0.     , -0.04508, -0.06776,  0.06781,  0.03033,  0.04558, -0.04561,  0.     ,  0.     , -0.     ,  0.04704,  0.14011, -0.03266, -0.03164, -0.09424,  0.02197,  0.     , -0.     ,  0.     ,  0.01493, -0.0269 , -0.01015, -0.0222 ,  0.03998,  0.01509, -0.     ,  0.     , -0.     ,  0.03033,  0.04558, -0.04561, -0.04508, -0.06776,  0.06781, -0.     , -0.     ,  0.     , -0.03164, -0.09424,  0.02197,  0.04704,  0.14011, -0.03266, -0.28871,  0.15003, -0.07664,  0.     ,  0.     ,  0.     , -0.     , -0.     , -0.     , -0.02979, -0.14466,  0.07732, -0.     ,  0.     , -0.     ,  0.     , -0.     ,  0.     ,  0.09231,  0.12947, -0.00009,  0.     ,  0.     ,  0.     , -0.     , -0.     , -0.     ,  0.     ,  0.     ,  0.     ,  0.08946, -0.04649,  0.02375, -0.06018,  0.03127, -0.01597, -0.     ,  0.     , -0.     ,  0.00923,  0.04483, -0.02396, -0.00621, -0.03015,  0.01612,  0.     ,  0.     , -0.     , -0.0286 , -0.04012,  0.00003,  0.01924,  0.02699, -0.00002, -0.     , -0.     , -0.     , -0.06018,  0.03127, -0.01597,  0.08946, -0.04649,  0.02375,  0.     , -0.     ,  0.     , -0.00621, -0.03015,  0.01612,  0.00923,  0.04483, -0.02396, -0.     , -0.     ,  0.     ,  0.01924,  0.02699, -0.00002, -0.0286 , -0.04012,  0.00003, -0.     , -0.     ,  0.     ,  0.     , -0.     ,  0.     , -0.     ,  0.     , -0.     , -0.     ,  0.     , -0.     , -0.00001, -0.00003,  0.00007,  0.00001,  0.00002, -0.00005,  0.     , -0.     , -0.     ,  0.00004,  0.00006, -0.00005, -0.00003, -0.00004,  0.00004,  0.     , -0.     ,  0.     ,  0.     ,  0.     , -0.     ,  0.     , -0.     , -0.     , -0.00001, -0.00003,  0.00007,  0.     , -0.     ,  0.     , -0.     , -0.     , -0.     ,  0.00004,  0.00006, -0.00005, -0.     ,  0.     ,  0.     , -0.     , -0.     , -0.     ,  0.     ,  0.     , -0.     , -0.     ,  0.     ,  0.     ,  0.     , -0.     ,  0.     ,  0.00001,  0.00002, -0.00005,  0.     , -0.     ,  0.     , -0.     , -0.     ,  0.     , -0.00003, -0.00004,  0.00004,  0.     , -0.     , -0.     , -0.     ,  0.     ,  0.     , -0.     ,  0.     , -0.     , -0.0222 ,  0.03998,  0.01509,  0.01493, -0.0269 , -0.01015,  0.     , -0.     ,  0.     , -0.04508, -0.06776,  0.06781,  0.03033,  0.04558, -0.04561, -0.     , -0.     , -0.     ,  0.04704,  0.14011, -0.03266, -0.03164, -0.09424,  0.02197, -0.0222 ,  0.03998,  0.01509,  0.     , -0.     , -0.     , -0.     ,  0.     , -0.     , -0.04508, -0.06776,  0.06781, -0.     ,  0.     , -0.     ,  0.     , -0.     ,  0.     ,  0.04704,  0.14011, -0.03266, -0.     , -0.     ,  0.     , -0.     ,  0.     , -0.     ,  0.01493, -0.0269 , -0.01015, -0.     ,  0.     , -0.     ,  0.     , -0.     , -0.     ,  0.03033,  0.04558, -0.04561,  0.     , -0.     ,  0.     ,  0.     ,  0.     , -0.     , -0.03164, -0.09424,  0.02197,  0.     ,  0.     , -0.     ,  0.     ,  0.     ,  0.     ,  0.     ,  0.     ,  0.     ,  0.08946, -0.04649,  0.02375, -0.06018,  0.03127, -0.01597, -0.     ,  0.     , -0.     ,  0.00923,  0.04483, -0.02396, -0.00621, -0.03015,  0.01612,  0.     ,  0.     , -0.     , -0.0286 , -0.04012,  0.00003,  0.01924,  0.02699, -0.00002,  0.08946, -0.04649,  0.02375, -0.     , -0.     , -0.     ,  0.     ,  0.     ,  0.     ,  0.00923,  0.04483, -0.02396,  0.     , -0.     ,  0.     , -0.     ,  0.     , -0.     , -0.0286 , -0.04012,  0.00003, -0.     , -0.     ,  0.     ,  0.     ,  0.     ,  0.     , -0.06018,  0.03127, -0.01597,  0.     ,  0.     ,  0.     , -0.     , -0.     , -0.     , -0.00621, -0.03015,  0.01612, -0.     ,  0.     , -0.     ,  0.     , -0.     ,  0.     ,  0.01924,  0.02699, -0.00002,  0.     ,  0.     , -0.     , -0.     , -0.     ,  0.     ,  0.     , -0.     , -0.     ,  0.     ,  0.     , -0.     ,  0.     , -0.     ,  0.     ,  0.     , -0.     ,  0.     ,  0.00001,  0.00002, -0.00005, -0.00001, -0.00003,  0.00007, -0.     ,  0.     ,  0.     , -0.00003, -0.00004,  0.00004,  0.00004,  0.00006, -0.00005,  0.     ,  0.     , -0.     ,  0.     , -0.     , -0.     ,  0.     ,  0.     , -0.     ,  0.00001,  0.00002, -0.00005, -0.     ,  0.     ,  0.     , -0.     ,  0.     , -0.     , -0.00003, -0.00004,  0.00004,  0.     , -0.     , -0.     , -0.     ,  0.     ,  0.     , -0.     , -0.     ,  0.     ,  0.     ,  0.     ,  0.     ,  0.     , -0.     ,  0.     , -0.00001, -0.00003,  0.00007,  0.     ,  0.     ,  0.     , -0.     , -0.     , -0.     ,  0.00004,  0.00006, -0.00005, -0.     ,  0.     ,  0.     ,  0.     , -0.     , -0.     ,  0.     , -0.     ,  0.     ,  0.01493, -0.0269 , -0.01015, -0.0222 ,  0.03998,  0.01509, -0.     ,  0.     , -0.     ,  0.03033,  0.04558, -0.04561, -0.04508, -0.06776,  0.06781,  0.     , -0.     ,  0.     , -0.03164, -0.09424,  0.02197,  0.04704,  0.14011, -0.03266,  0.01493, -0.0269 , -0.01015, -0.     ,  0.     ,  0.     ,  0.     , -0.     ,  0.     ,  0.03033,  0.04558, -0.04561,  0.     , -0.     ,  0.     , -0.     ,  0.     , -0.     , -0.03164, -0.09424,  0.02197, -0.     ,  0.     , -0.     ,  0.     , -0.     ,  0.     , -0.0222 ,  0.03998,  0.01509,  0.     , -0.     , -0.     , -0.     ,  0.     ,  0.     , -0.04508, -0.06776,  0.06781, -0.     ,  0.     , -0.     ,  0.     , -0.     ,  0.     ,  0.04704,  0.14011, -0.03266,  0.     , -0.     ,  0.     , -0.     ,  0.     , -0.     , -0.     , -0.     , -0.     , -0.06018,  0.03127, -0.01597,  0.08946, -0.04649,  0.02375,  0.     , -0.     ,  0.     , -0.00621, -0.03015,  0.01612,  0.00923,  0.04483, -0.02396, -0.     , -0.     ,  0.     ,  0.01924,  0.02699, -0.00002, -0.0286 , -0.04012,  0.00003, -0.06018,  0.03127, -0.01597,  0.     ,  0.     ,  0.     , -0.     , -0.     , -0.     , -0.00621, -0.03015,  0.01612, -0.     ,  0.     , -0.     ,  0.     , -0.     ,  0.     ,  0.01924,  0.02699, -0.00002,  0.     ,  0.     , -0.     , -0.     , -0.     ,  0.     ,  0.08946, -0.04649,  0.02375, -0.     , -0.     , -0.     ,  0.     ,  0.     ,  0.     ,  0.00923,  0.04483, -0.02396,  0.     , -0.     ,  0.     , -0.     ,  0.     , -0.     , -0.0286 , -0.04012,  0.00003, -0.     , -0.     , -0.     ,  0.     ,  0.     , -0.     ],\n",
       "       [ 0.     , -0.     ,  0.     ,  0.     ,  0.     ,  0.     , -0.     , -0.     ,  0.     , -0.00017, -0.0004 ,  0.00117,  0.     ,  0.     ,  0.     ,  0.     ,  0.     , -0.     ,  0.00061,  0.0009 , -0.00087, -0.     ,  0.     ,  0.     ,  0.     , -0.     , -0.     ,  0.     ,  0.     , -0.     ,  0.     ,  0.     , -0.     ,  0.     , -0.     ,  0.     ,  0.     ,  0.     ,  0.     ,  0.00005,  0.00012, -0.00036, -0.00004, -0.00008,  0.00024, -0.     ,  0.     ,  0.     , -0.00019, -0.00028,  0.00027,  0.00013,  0.00019, -0.00018, -0.     , -0.     , -0.     , -0.     , -0.     ,  0.     , -0.     ,  0.     , -0.     ,  0.     ,  0.     , -0.     , -0.00004, -0.00008,  0.00024,  0.00005,  0.00012, -0.00036,  0.     , -0.     , -0.     ,  0.00013,  0.00019, -0.00018, -0.00019, -0.00028,  0.00027, -0.35389, -0.0227 , -0.13712,  0.     , -0.     , -0.     , -0.     , -0.     , -0.     , -0.36725, -0.0038 , -0.49445,  0.     , -0.     ,  0.     , -0.     ,  0.     , -0.     ,  0.13595,  0.03134, -0.03209, -0.     ,  0.     ,  0.     ,  0.     , -0.     , -0.     ,  0.     , -0.     , -0.     ,  0.10966,  0.00704,  0.04249, -0.07377, -0.00473, -0.02858,  0.     , -0.     ,  0.     ,  0.1138 ,  0.00118,  0.15322, -0.07655, -0.00079, -0.10306, -0.     ,  0.     ,  0.     , -0.04213, -0.00971,  0.00994,  0.02834,  0.00653, -0.00669, -0.     , -0.     ,  0.     , -0.07377, -0.00473, -0.02858,  0.10966,  0.00704,  0.04249, -0.     ,  0.     , -0.     , -0.07655, -0.00079, -0.10306,  0.1138 ,  0.00118,  0.15322,  0.     , -0.     , -0.     ,  0.02834,  0.00653, -0.00669, -0.04213, -0.00971,  0.00994,  0.     ,  0.     ,  0.     ,  0.     ,  0.     ,  0.     ,  0.     ,  0.     ,  0.     ,  0.     ,  0.     ,  0.     ,  0.     ,  0.     ,  0.     ,  0.     ,  0.     ,  0.     ,  0.     ,  0.     ,  0.     ,  0.     ,  0.     ,  0.     ,  0.     ,  0.     ,  0.     ,  0.     ,  0.     ,  0.     ,  0.     ,  0.     ,  0.     ,  0.     ,  0.     ,  0.     ,  0.     ,  0.     ,  0.     ,  0.     ,  0.     ,  0.     ,  0.     ,  0.     ,  0.     ,  0.     ,  0.     ,  0.     ,  0.     ,  0.     ,  0.     ,  0.     ,  0.     ,  0.     ,  0.     ,  0.     ,  0.     ,  0.     ,  0.     ,  0.     ,  0.     ,  0.     ,  0.     ,  0.     ,  0.     ,  0.     ,  0.     ,  0.     ,  0.     ,  0.     ,  0.     ,  0.     ,  0.     ,  0.     ,  0.     ,  0.     ,  0.     ,  0.     ,  0.     ,  0.     ,  0.     ,  0.     ,  0.     ,  0.     ,  0.     ,  0.     , -0.     ,  0.     , -0.     ,  0.     ,  0.     , -0.     ,  0.     ,  0.00005,  0.00012, -0.00036, -0.00004, -0.00008,  0.00024, -0.     ,  0.     ,  0.     , -0.00019, -0.00028,  0.00027,  0.00013,  0.00019, -0.00018,  0.     ,  0.     , -0.     , -0.     , -0.     , -0.     ,  0.     ,  0.     ,  0.     ,  0.00005,  0.00012, -0.00036, -0.     , -0.     , -0.     ,  0.     , -0.     ,  0.     , -0.00019, -0.00028,  0.00027,  0.     , -0.     , -0.     , -0.     ,  0.     ,  0.     ,  0.     , -0.     ,  0.     ,  0.     ,  0.     ,  0.     , -0.     , -0.     , -0.     , -0.00004, -0.00008,  0.00024, -0.     , -0.     ,  0.     , -0.     , -0.     , -0.     ,  0.00013,  0.00019, -0.00018, -0.     ,  0.     ,  0.     ,  0.     , -0.     , -0.     ,  0.     , -0.     ,  0.     ,  0.10966,  0.00704,  0.04249, -0.07377, -0.00473, -0.02858,  0.     , -0.     ,  0.     ,  0.1138 ,  0.00118,  0.15322, -0.07655, -0.00079, -0.10306, -0.     ,  0.     ,  0.     , -0.04213, -0.00971,  0.00994,  0.02834,  0.00653, -0.00669,  0.10966,  0.00704,  0.04249, -0.     ,  0.     ,  0.     ,  0.     , -0.     ,  0.     ,  0.1138 ,  0.00118,  0.15322, -0.     ,  0.     , -0.     ,  0.     , -0.     ,  0.     , -0.04213, -0.00971,  0.00994,  0.     , -0.     , -0.     , -0.     ,  0.     ,  0.     , -0.07377, -0.00473, -0.02858,  0.     , -0.     , -0.     , -0.     ,  0.     ,  0.     , -0.07655, -0.00079, -0.10306,  0.     , -0.     ,  0.     , -0.     ,  0.     , -0.     ,  0.02834,  0.00653, -0.00669, -0.     ,  0.     ,  0.     ,  0.     , -0.     , -0.     ,  0.     ,  0.     ,  0.     ,  0.     ,  0.     ,  0.     ,  0.     ,  0.     ,  0.     ,  0.     ,  0.     ,  0.     ,  0.     ,  0.     ,  0.     ,  0.     ,  0.     ,  0.     ,  0.     ,  0.     ,  0.     ,  0.     ,  0.     ,  0.     ,  0.     ,  0.     ,  0.     ,  0.     ,  0.     ,  0.     ,  0.     ,  0.     ,  0.     ,  0.     ,  0.     ,  0.     ,  0.     ,  0.     ,  0.     ,  0.     ,  0.     ,  0.     ,  0.     ,  0.     ,  0.     ,  0.     ,  0.     ,  0.     ,  0.     ,  0.     ,  0.     ,  0.     ,  0.     ,  0.     ,  0.     ,  0.     ,  0.     ,  0.     ,  0.     ,  0.     ,  0.     ,  0.     ,  0.     ,  0.     ,  0.     ,  0.     ,  0.     ,  0.     ,  0.     ,  0.     ,  0.     ,  0.     ,  0.     ,  0.     ,  0.     ,  0.     ,  0.     ,  0.     ,  0.     ,  0.     ,  0.     , -0.     , -0.     , -0.     , -0.     , -0.     ,  0.     , -0.     ,  0.     , -0.     ,  0.     ,  0.     , -0.     , -0.00004, -0.00008,  0.00024,  0.00005,  0.00012, -0.00036,  0.     , -0.     , -0.     ,  0.00013,  0.00019, -0.00018, -0.00019, -0.00028,  0.00027, -0.     , -0.     ,  0.     ,  0.     , -0.     , -0.     , -0.     ,  0.     ,  0.     , -0.00004, -0.00008,  0.00024, -0.     , -0.     ,  0.     , -0.     ,  0.     , -0.     ,  0.00013,  0.00019, -0.00018, -0.     ,  0.     ,  0.     ,  0.     , -0.     , -0.     , -0.     ,  0.     , -0.     , -0.     , -0.     ,  0.     ,  0.     ,  0.     ,  0.     ,  0.00005,  0.00012, -0.00036,  0.     , -0.     , -0.     , -0.     , -0.     ,  0.     , -0.00019, -0.00028,  0.00027, -0.     , -0.     , -0.     , -0.     ,  0.     ,  0.     , -0.     , -0.     ,  0.     , -0.07377, -0.00473, -0.02858,  0.10966,  0.00704,  0.04249, -0.     ,  0.     , -0.     , -0.07655, -0.00079, -0.10306,  0.1138 ,  0.00118,  0.15322,  0.     , -0.     , -0.     ,  0.02834,  0.00653, -0.00669, -0.04213, -0.00971,  0.00994, -0.07377, -0.00473, -0.02858,  0.     , -0.     , -0.     , -0.     ,  0.     , -0.     , -0.07655, -0.00079, -0.10306,  0.     , -0.     ,  0.     , -0.     ,  0.     , -0.     ,  0.02834,  0.00653, -0.00669, -0.     ,  0.     ,  0.     ,  0.     , -0.     , -0.     ,  0.10966,  0.00704,  0.04249, -0.     , -0.     ,  0.     ,  0.     , -0.     , -0.     ,  0.1138 ,  0.00118,  0.15322, -0.     ,  0.     , -0.     ,  0.     , -0.     ,  0.     , -0.04213, -0.00971,  0.00994,  0.     , -0.     , -0.     , -0.     ,  0.     ,  0.     ,  0.     ,  0.     ,  0.     ,  0.     ,  0.     ,  0.     ,  0.     ,  0.     ,  0.     ,  0.     ,  0.     ,  0.     ,  0.     ,  0.     ,  0.     ,  0.     ,  0.     ,  0.     ,  0.     ,  0.     ,  0.     ,  0.     ,  0.     ,  0.     ,  0.     ,  0.     ,  0.     ,  0.     ,  0.     ,  0.     ,  0.     ,  0.     ,  0.     ,  0.     ,  0.     ,  0.     ,  0.     ,  0.     ,  0.     ,  0.     ,  0.     ,  0.     ,  0.     ,  0.     ,  0.     ,  0.     ,  0.     ,  0.     ,  0.     ,  0.     ,  0.     ,  0.     ,  0.     ,  0.     ,  0.     ,  0.     ,  0.     ,  0.     ,  0.     ,  0.     ,  0.     ,  0.     ,  0.     ,  0.     ,  0.     ,  0.     ,  0.     ,  0.     ,  0.     ,  0.     ,  0.     ,  0.     ,  0.     ,  0.     ,  0.     ,  0.     ,  0.     ,  0.     ,  0.     ,  0.     ,  0.     ],\n",
       "       [ 0.     ,  0.     , -0.     , -0.     , -0.     ,  0.     ,  0.     ,  0.     ,  0.     ,  0.00001,  0.00002, -0.00007,  0.     ,  0.     , -0.     , -0.     ,  0.     ,  0.     , -0.00003, -0.00005,  0.00005, -0.     ,  0.     , -0.     ,  0.     , -0.     ,  0.     , -0.     , -0.     , -0.     , -0.     , -0.     ,  0.     , -0.     ,  0.     , -0.     ,  0.     ,  0.     , -0.     , -0.     , -0.00001,  0.00002,  0.     ,  0.     , -0.00001, -0.     ,  0.     , -0.     ,  0.00001,  0.00002, -0.00002, -0.00001, -0.00001,  0.00001,  0.     ,  0.     ,  0.     , -0.     ,  0.     , -0.     , -0.     , -0.     ,  0.     , -0.     , -0.     , -0.     ,  0.     ,  0.     , -0.00001, -0.     , -0.00001,  0.00002,  0.     , -0.     ,  0.     , -0.00001, -0.00001,  0.00001,  0.00001,  0.00002, -0.00002,  0.01963, -0.02019,  0.02726, -0.     ,  0.     ,  0.     ,  0.     ,  0.     , -0.     ,  0.0051 ,  0.05234, -0.04878,  0.     , -0.     ,  0.     , -0.     , -0.     , -0.     , -0.02195, -0.18637,  0.09331, -0.     ,  0.     , -0.     ,  0.     , -0.     ,  0.     , -0.     , -0.     ,  0.     , -0.00608,  0.00626, -0.00845,  0.00409, -0.00421,  0.00568,  0.     , -0.     ,  0.     , -0.00158, -0.01622,  0.01511,  0.00106,  0.01091, -0.01017, -0.     ,  0.     , -0.     ,  0.0068 ,  0.05775, -0.02891, -0.00457, -0.03885,  0.01945,  0.     , -0.     , -0.     ,  0.00409, -0.00421,  0.00568, -0.00608,  0.00626, -0.00845, -0.     , -0.     , -0.     ,  0.00106,  0.01091, -0.01017, -0.00158, -0.01622,  0.01511,  0.     , -0.     ,  0.     , -0.00457, -0.03885,  0.01945,  0.0068 ,  0.05775, -0.02891,  0.31703,  0.05477,  0.11836,  0.     , -0.     ,  0.     , -0.     ,  0.     , -0.     , -0.01276,  0.13585,  0.00314,  0.     ,  0.     , -0.     , -0.     , -0.     ,  0.     ,  0.26718, -0.27946,  0.45627,  0.     , -0.     ,  0.     , -0.     ,  0.     ,  0.     ,  0.     , -0.     ,  0.     , -0.09824, -0.01697, -0.03668,  0.06608,  0.01142,  0.02467,  0.     ,  0.     , -0.     ,  0.00395, -0.0421 , -0.00097, -0.00266,  0.02832,  0.00065,  0.     , -0.     ,  0.     , -0.08279,  0.0866 , -0.14139,  0.05569, -0.05825,  0.09511, -0.     ,  0.     , -0.     ,  0.06608,  0.01142,  0.02467, -0.09824, -0.01697, -0.03668, -0.     , -0.     ,  0.     , -0.00266,  0.02832,  0.00065,  0.00395, -0.0421 , -0.00097, -0.     ,  0.     ,  0.     ,  0.05569, -0.05825,  0.09511, -0.08279,  0.0866 , -0.14139, -0.     ,  0.     , -0.     ,  0.     , -0.     ,  0.     ,  0.     ,  0.     , -0.     , -0.     ,  0.     , -0.     , -0.     , -0.00001,  0.00002,  0.     ,  0.     , -0.00001, -0.     ,  0.     , -0.     ,  0.00001,  0.00002, -0.00002, -0.00001, -0.00001,  0.00001,  0.     , -0.     ,  0.     ,  0.     , -0.     ,  0.     ,  0.     ,  0.     , -0.     , -0.     , -0.00001,  0.00002, -0.     , -0.     ,  0.     , -0.     ,  0.     ,  0.     ,  0.00001,  0.00002, -0.00002,  0.     , -0.     ,  0.     , -0.     , -0.     , -0.     ,  0.     ,  0.     , -0.     , -0.     ,  0.     , -0.     ,  0.     ,  0.     , -0.     ,  0.     ,  0.     , -0.00001, -0.     ,  0.     , -0.     , -0.     ,  0.     ,  0.     , -0.00001, -0.00001,  0.00001,  0.     ,  0.     , -0.     ,  0.     , -0.     ,  0.     , -0.     , -0.     ,  0.     , -0.00608,  0.00626, -0.00845,  0.00409, -0.00421,  0.00568,  0.     , -0.     ,  0.     , -0.00158, -0.01622,  0.01511,  0.00106,  0.01091, -0.01017, -0.     ,  0.     , -0.     ,  0.0068 ,  0.05775, -0.02891, -0.00457, -0.03885,  0.01945, -0.00608,  0.00626, -0.00845,  0.     ,  0.     , -0.     , -0.     ,  0.     , -0.     , -0.00158, -0.01622,  0.01511, -0.     ,  0.     , -0.     , -0.     ,  0.     , -0.     ,  0.0068 ,  0.05775, -0.02891,  0.     , -0.     ,  0.     ,  0.     , -0.     , -0.     ,  0.00409, -0.00421,  0.00568, -0.     ,  0.     ,  0.     ,  0.     ,  0.     , -0.     ,  0.00106,  0.01091, -0.01017,  0.     , -0.     ,  0.     , -0.     , -0.     , -0.     , -0.00457, -0.03885,  0.01945,  0.     ,  0.     , -0.     ,  0.     , -0.     ,  0.     ,  0.     , -0.     ,  0.     , -0.09824, -0.01697, -0.03668,  0.06608,  0.01142,  0.02467,  0.     ,  0.     , -0.     ,  0.00395, -0.0421 , -0.00097, -0.00266,  0.02832,  0.00065,  0.     , -0.     , -0.     , -0.08279,  0.0866 , -0.14139,  0.05569, -0.05825,  0.09511, -0.09824, -0.01697, -0.03668, -0.     ,  0.     , -0.     ,  0.     , -0.     ,  0.     ,  0.00395, -0.0421 , -0.00097, -0.     , -0.     ,  0.     ,  0.     ,  0.     ,  0.     , -0.08279,  0.0866 , -0.14139, -0.     ,  0.     , -0.     , -0.     ,  0.     , -0.     ,  0.06608,  0.01142,  0.02467,  0.     , -0.     ,  0.     , -0.     , -0.     , -0.     , -0.00266,  0.02832,  0.00065,  0.     ,  0.     , -0.     , -0.     , -0.     ,  0.     ,  0.05569, -0.05825,  0.09511,  0.     , -0.     ,  0.     , -0.     ,  0.     ,  0.     ,  0.     , -0.     ,  0.     , -0.     ,  0.     , -0.     ,  0.     , -0.     ,  0.     , -0.     , -0.     ,  0.     ,  0.     ,  0.     , -0.00001, -0.     , -0.00001,  0.00002,  0.     , -0.     ,  0.     , -0.00001, -0.00001,  0.00001,  0.00001,  0.00002, -0.00002,  0.     ,  0.     , -0.     , -0.     , -0.     ,  0.     ,  0.     , -0.     ,  0.     ,  0.     ,  0.     , -0.00001,  0.     , -0.     , -0.     , -0.     , -0.     ,  0.     , -0.00001, -0.00001,  0.00001, -0.     ,  0.     , -0.     ,  0.     ,  0.     ,  0.     , -0.     , -0.     ,  0.     , -0.     ,  0.     ,  0.     , -0.     , -0.     , -0.     , -0.     , -0.00001,  0.00002, -0.     , -0.     , -0.     ,  0.     ,  0.     , -0.     ,  0.00001,  0.00002, -0.00002,  0.     , -0.     , -0.     , -0.     ,  0.     , -0.     ,  0.     ,  0.     ,  0.     ,  0.00409, -0.00421,  0.00568, -0.00608,  0.00626, -0.00845, -0.     ,  0.     , -0.     ,  0.00106,  0.01091, -0.01017, -0.00158, -0.01622,  0.01511,  0.     , -0.     ,  0.     , -0.00457, -0.03885,  0.01945,  0.0068 ,  0.05775, -0.02891,  0.00409, -0.00421,  0.00568, -0.     ,  0.     ,  0.     ,  0.     ,  0.     , -0.     ,  0.00106,  0.01091, -0.01017,  0.     ,  0.     ,  0.     , -0.     ,  0.     , -0.     , -0.00457, -0.03885,  0.01945, -0.     ,  0.     , -0.     , -0.     , -0.     ,  0.     , -0.00608,  0.00626, -0.00845,  0.     , -0.     ,  0.     , -0.     ,  0.     , -0.     , -0.00158, -0.01622,  0.01511,  0.     ,  0.     , -0.     ,  0.     ,  0.     ,  0.     ,  0.0068 ,  0.05775, -0.02891,  0.     , -0.     ,  0.     , -0.     , -0.     , -0.     , -0.     ,  0.     , -0.     ,  0.06608,  0.01142,  0.02467, -0.09824, -0.01697, -0.03668, -0.     , -0.     ,  0.     , -0.00266,  0.02832,  0.00065,  0.00395, -0.0421 , -0.00097, -0.     ,  0.     , -0.     ,  0.05569, -0.05825,  0.09511, -0.08279,  0.0866 , -0.14139,  0.06608,  0.01142,  0.02467,  0.     ,  0.     ,  0.     , -0.     ,  0.     , -0.     , -0.00266,  0.02832,  0.00065,  0.     ,  0.     , -0.     , -0.     , -0.     ,  0.     ,  0.05569, -0.05825,  0.09511,  0.     , -0.     ,  0.     , -0.     ,  0.     , -0.     , -0.09824, -0.01697, -0.03668, -0.     ,  0.     , -0.     ,  0.     , -0.     ,  0.     ,  0.00395, -0.0421 , -0.00097, -0.     , -0.     , -0.     ,  0.     ,  0.     , -0.     , -0.08279,  0.0866 , -0.14139, -0.     , -0.     ,  0.     ,  0.     , -0.     ,  0.     ],\n",
       "       [-0.00031,  0.09152,  0.73215, -0.     ,  0.     ,  0.     ,  0.     , -0.     , -0.     ,  0.     ,  0.     ,  0.     , -0.     ,  0.     , -0.     ,  0.     ,  0.     ,  0.     , -0.     ,  0.     ,  0.     ,  0.     ,  0.     ,  0.     ,  0.     ,  0.     ,  0.     , -0.     ,  0.     ,  0.     ,  0.0001 , -0.02836, -0.22687, -0.00006,  0.01908,  0.15261, -0.     , -0.     , -0.     , -0.     , -0.     , -0.     ,  0.     ,  0.     ,  0.     ,  0.     ,  0.     ,  0.     ,  0.     ,  0.     ,  0.     , -0.     , -0.     ,  0.     ,  0.     , -0.     , -0.     , -0.00006,  0.01908,  0.15261,  0.0001 , -0.02836, -0.22687,  0.     ,  0.     ,  0.     ,  0.     ,  0.     ,  0.     , -0.     , -0.     , -0.     ,  0.     ,  0.     ,  0.     , -0.     , -0.     ,  0.     ,  0.     ,  0.     ,  0.     ,  0.     ,  0.     ,  0.     ,  0.     ,  0.     ,  0.     ,  0.     ,  0.     ,  0.     ,  0.     ,  0.     ,  0.     ,  0.     ,  0.     ,  0.     ,  0.     ,  0.     ,  0.     ,  0.     ,  0.     ,  0.     ,  0.     ,  0.     ,  0.     ,  0.     ,  0.     ,  0.     ,  0.     ,  0.     ,  0.     ,  0.     ,  0.     ,  0.     ,  0.     ,  0.     ,  0.     ,  0.     ,  0.     ,  0.     ,  0.     ,  0.     ,  0.     ,  0.     ,  0.     ,  0.     ,  0.     ,  0.     ,  0.     ,  0.     ,  0.     ,  0.     ,  0.     ,  0.     ,  0.     ,  0.     ,  0.     ,  0.     ,  0.     ,  0.     ,  0.     ,  0.     ,  0.     ,  0.     ,  0.     ,  0.     ,  0.     ,  0.     ,  0.     ,  0.     ,  0.     ,  0.     ,  0.     ,  0.     ,  0.     ,  0.     ,  0.     ,  0.     ,  0.     ,  0.     ,  0.     ,  0.     ,  0.     ,  0.     ,  0.     ,  0.     ,  0.     ,  0.     ,  0.     ,  0.     ,  0.     ,  0.     ,  0.     ,  0.     ,  0.     ,  0.     ,  0.     ,  0.     ,  0.     ,  0.     ,  0.     ,  0.     ,  0.     ,  0.     ,  0.     ,  0.     ,  0.     ,  0.     ,  0.     ,  0.     ,  0.     ,  0.     ,  0.     ,  0.     ,  0.     ,  0.     ,  0.     ,  0.     ,  0.     ,  0.     ,  0.     ,  0.     ,  0.     ,  0.     ,  0.     ,  0.     ,  0.     ,  0.     ,  0.     ,  0.     ,  0.     ,  0.     ,  0.     ,  0.     ,  0.     ,  0.     ,  0.     ,  0.     ,  0.     ,  0.     ,  0.     ,  0.     ,  0.     ,  0.     ,  0.     ,  0.     ,  0.     ,  0.     ,  0.     ,  0.     ,  0.     ,  0.     ,  0.     ,  0.     ,  0.     ,  0.     ,  0.     ,  0.     ,  0.     ,  0.     ,  0.     ,  0.     ,  0.     , -0.     ,  0.     ,  0.     ,  0.0001 , -0.02836, -0.22687, -0.00006,  0.01908,  0.15261, -0.     , -0.     , -0.     , -0.     , -0.     , -0.     ,  0.     ,  0.     ,  0.     ,  0.     ,  0.     ,  0.     ,  0.     ,  0.     ,  0.     , -0.     , -0.     ,  0.     ,  0.0001 , -0.02836, -0.22687,  0.     , -0.     , -0.     , -0.     ,  0.     ,  0.     , -0.     , -0.     , -0.     ,  0.     ,  0.     ,  0.     , -0.     , -0.     , -0.     ,  0.     ,  0.     ,  0.     ,  0.     ,  0.     ,  0.     ,  0.     ,  0.     ,  0.     , -0.00006,  0.01908,  0.15261, -0.     ,  0.     ,  0.     ,  0.     , -0.     , -0.     ,  0.     ,  0.     ,  0.     , -0.     , -0.     , -0.     ,  0.     ,  0.     ,  0.     , -0.     , -0.     ,  0.     ,  0.     ,  0.     ,  0.     ,  0.     ,  0.     ,  0.     ,  0.     ,  0.     ,  0.     ,  0.     ,  0.     ,  0.     ,  0.     ,  0.     ,  0.     ,  0.     ,  0.     ,  0.     ,  0.     ,  0.     ,  0.     ,  0.     ,  0.     ,  0.     ,  0.     ,  0.     ,  0.     ,  0.     ,  0.     ,  0.     ,  0.     ,  0.     ,  0.     ,  0.     ,  0.     ,  0.     ,  0.     ,  0.     ,  0.     ,  0.     ,  0.     ,  0.     ,  0.     ,  0.     ,  0.     ,  0.     ,  0.     ,  0.     ,  0.     ,  0.     ,  0.     ,  0.     ,  0.     ,  0.     ,  0.     ,  0.     ,  0.     ,  0.     ,  0.     ,  0.     ,  0.     ,  0.     ,  0.     ,  0.     ,  0.     ,  0.     ,  0.     ,  0.     ,  0.     ,  0.     ,  0.     ,  0.     ,  0.     ,  0.     ,  0.     ,  0.     ,  0.     ,  0.     ,  0.     ,  0.     ,  0.     ,  0.     ,  0.     ,  0.     ,  0.     ,  0.     ,  0.     ,  0.     ,  0.     ,  0.     ,  0.     ,  0.     ,  0.     ,  0.     ,  0.     ,  0.     ,  0.     ,  0.     ,  0.     ,  0.     ,  0.     ,  0.     ,  0.     ,  0.     ,  0.     ,  0.     ,  0.     ,  0.     ,  0.     ,  0.     ,  0.     ,  0.     ,  0.     ,  0.     ,  0.     ,  0.     ,  0.     ,  0.     ,  0.     ,  0.     ,  0.     ,  0.     ,  0.     ,  0.     ,  0.     ,  0.     ,  0.     ,  0.     ,  0.     ,  0.     ,  0.     ,  0.     ,  0.     ,  0.     ,  0.     ,  0.     ,  0.     ,  0.     ,  0.     ,  0.     ,  0.     ,  0.     ,  0.     ,  0.     ,  0.     ,  0.     ,  0.     ,  0.     ,  0.     ,  0.     ,  0.     ,  0.     ,  0.     ,  0.     ,  0.     ,  0.     ,  0.     ,  0.     ,  0.     ,  0.     ,  0.     ,  0.     ,  0.     ,  0.     ,  0.     ,  0.     ,  0.     ,  0.     ,  0.     , -0.     , -0.     , -0.00006,  0.01908,  0.15261,  0.0001 , -0.02836, -0.22687,  0.     ,  0.     ,  0.     ,  0.     ,  0.     ,  0.     , -0.     , -0.     , -0.     ,  0.     ,  0.     ,  0.     , -0.     , -0.     ,  0.     ,  0.     ,  0.     ,  0.     , -0.00006,  0.01908,  0.15261, -0.     ,  0.     ,  0.     ,  0.     , -0.     , -0.     ,  0.     ,  0.     ,  0.     , -0.     , -0.     , -0.     ,  0.     ,  0.     ,  0.     , -0.     , -0.     ,  0.     ,  0.     ,  0.     ,  0.     ,  0.     ,  0.     ,  0.     ,  0.0001 , -0.02836, -0.22687,  0.     , -0.     , -0.     , -0.     ,  0.     ,  0.     , -0.     , -0.     , -0.     ,  0.     ,  0.     ,  0.     , -0.     , -0.     , -0.     ,  0.     ,  0.     ,  0.     ,  0.     ,  0.     ,  0.     ,  0.     ,  0.     ,  0.     ,  0.     ,  0.     ,  0.     ,  0.     ,  0.     ,  0.     ,  0.     ,  0.     ,  0.     ,  0.     ,  0.     ,  0.     ,  0.     ,  0.     ,  0.     ,  0.     ,  0.     ,  0.     ,  0.     ,  0.     ,  0.     ,  0.     ,  0.     ,  0.     ,  0.     ,  0.     ,  0.     ,  0.     ,  0.     ,  0.     ,  0.     ,  0.     ,  0.     ,  0.     ,  0.     ,  0.     ,  0.     ,  0.     ,  0.     ,  0.     ,  0.     ,  0.     ,  0.     ,  0.     ,  0.     ,  0.     ,  0.     ,  0.     ,  0.     ,  0.     ,  0.     ,  0.     ,  0.     ,  0.     ,  0.     ,  0.     ,  0.     ,  0.     ,  0.     ,  0.     ,  0.     ,  0.     ,  0.     ,  0.     ,  0.     ,  0.     ,  0.     ,  0.     ,  0.     ,  0.     ,  0.     ,  0.     ,  0.     ,  0.     ,  0.     ,  0.     ,  0.     ,  0.     ,  0.     ,  0.     ,  0.     ,  0.     ,  0.     ,  0.     ,  0.     ,  0.     ,  0.     ,  0.     ,  0.     ,  0.     ,  0.     ,  0.     ,  0.     ,  0.     ,  0.     ,  0.     ,  0.     ,  0.     ,  0.     ,  0.     ,  0.     ,  0.     ,  0.     ,  0.     ,  0.     ,  0.     ,  0.     ,  0.     ,  0.     ,  0.     ,  0.     ,  0.     ,  0.     ,  0.     ,  0.     ,  0.     ,  0.     ,  0.     ,  0.     ,  0.     ,  0.     ,  0.     ,  0.     ,  0.     ,  0.     ,  0.     ,  0.     ,  0.     ,  0.     ,  0.     ,  0.     ,  0.     ,  0.     ,  0.     ,  0.     ,  0.     ,  0.     ,  0.     ,  0.     ,  0.     ,  0.     ,  0.     ,  0.     ,  0.     ,  0.     ,  0.     ,  0.     ,  0.     ,  0.     ,  0.     ,  0.     ,  0.     ,  0.     ,  0.     ,  0.     ,  0.     ,  0.     ,  0.     ,  0.     ,  0.     ,  0.     ,  0.     ],\n",
       "       [ 0.     , -0.     ,  0.     , -0.     ,  0.     , -0.     ,  0.     , -0.     ,  0.     , -0.00021, -0.0005 ,  0.00146,  0.     ,  0.     , -0.     , -0.     , -0.     ,  0.     ,  0.00076,  0.00112, -0.00109, -0.     ,  0.     , -0.     ,  0.     , -0.     ,  0.     , -0.     ,  0.     , -0.     , -0.     ,  0.     , -0.     , -0.     , -0.     ,  0.     ,  0.     ,  0.     , -0.     ,  0.00007,  0.00015, -0.00045, -0.00004, -0.0001 ,  0.0003 , -0.     ,  0.     , -0.     , -0.00023, -0.00035,  0.00034,  0.00016,  0.00023, -0.00023,  0.     , -0.     ,  0.     , -0.     , -0.     ,  0.     , -0.     ,  0.     , -0.     , -0.     , -0.     ,  0.     , -0.00004, -0.0001 ,  0.0003 ,  0.00007,  0.00015, -0.00045,  0.     , -0.     ,  0.     ,  0.00016,  0.00023, -0.00023, -0.00023, -0.00035,  0.00034, -0.43968,  0.04046,  0.49049, -0.     ,  0.     ,  0.     ,  0.     , -0.     , -0.     ,  0.24323,  0.07126, -0.01146,  0.     , -0.     , -0.     , -0.     ,  0.     ,  0.     , -0.06291, -0.04062, -0.19723,  0.     ,  0.     ,  0.     , -0.     , -0.     , -0.     , -0.     ,  0.     ,  0.     ,  0.13625, -0.01254, -0.15199, -0.09165,  0.00843,  0.10224,  0.     , -0.     , -0.     , -0.07537, -0.02208,  0.00355,  0.0507 ,  0.01485, -0.00239,  0.     ,  0.     ,  0.     ,  0.0195 ,  0.01259,  0.06112, -0.01311, -0.00847, -0.04111,  0.     , -0.     , -0.     , -0.09165,  0.00843,  0.10224,  0.13625, -0.01254, -0.15199, -0.     ,  0.     ,  0.     ,  0.0507 ,  0.01485, -0.00239, -0.07537, -0.02208,  0.00355, -0.     , -0.     , -0.     , -0.01311, -0.00847, -0.04111,  0.0195 ,  0.01259,  0.06112,  0.     , -0.     ,  0.     , -0.     , -0.     , -0.     ,  0.     ,  0.     ,  0.     , -0.     ,  0.     , -0.     ,  0.     ,  0.     , -0.     ,  0.     ,  0.     , -0.     ,  0.     ,  0.     ,  0.     ,  0.     ,  0.     ,  0.     ,  0.     ,  0.     ,  0.     , -0.     , -0.     , -0.     , -0.     ,  0.     , -0.     ,  0.     , -0.     ,  0.     , -0.     , -0.     ,  0.     ,  0.     , -0.     ,  0.     , -0.     ,  0.     , -0.     ,  0.     ,  0.     ,  0.     ,  0.     ,  0.     ,  0.     ,  0.     ,  0.     ,  0.     ,  0.     ,  0.     ,  0.     ,  0.     , -0.     ,  0.     , -0.     ,  0.     , -0.     , -0.     , -0.     ,  0.     , -0.     ,  0.     , -0.     ,  0.     , -0.     ,  0.     ,  0.     ,  0.     ,  0.     ,  0.     ,  0.     ,  0.     ,  0.     ,  0.     ,  0.     , -0.     ,  0.     , -0.     ,  0.     ,  0.     , -0.     ,  0.     , -0.     ,  0.     ,  0.     ,  0.     , -0.     ,  0.00007,  0.00015, -0.00045, -0.00004, -0.0001 ,  0.0003 , -0.     ,  0.     , -0.     , -0.00023, -0.00035,  0.00034,  0.00016,  0.00023, -0.00023, -0.     ,  0.     , -0.     ,  0.     , -0.     ,  0.     , -0.     ,  0.     , -0.     ,  0.00007,  0.00015, -0.00045, -0.     , -0.     ,  0.     ,  0.     ,  0.     , -0.     , -0.00023, -0.00035,  0.00034,  0.     , -0.     ,  0.     , -0.     ,  0.     , -0.     ,  0.     , -0.     ,  0.     , -0.     ,  0.     , -0.     ,  0.     ,  0.     ,  0.     , -0.00004, -0.0001 ,  0.0003 ,  0.     ,  0.     , -0.     , -0.     , -0.     , -0.     ,  0.00016,  0.00023, -0.00023, -0.     ,  0.     , -0.     ,  0.     , -0.     ,  0.     , -0.     ,  0.     ,  0.     ,  0.13625, -0.01254, -0.15199, -0.09165,  0.00843,  0.10224,  0.     , -0.     , -0.     , -0.07537, -0.02208,  0.00355,  0.0507 ,  0.01485, -0.00239,  0.     ,  0.     ,  0.     ,  0.0195 ,  0.01259,  0.06112, -0.01311, -0.00847, -0.04111,  0.13625, -0.01254, -0.15199,  0.     , -0.     , -0.     , -0.     ,  0.     ,  0.     , -0.07537, -0.02208,  0.00355, -0.     ,  0.     ,  0.     ,  0.     , -0.     , -0.     ,  0.0195 ,  0.01259,  0.06112, -0.     , -0.     , -0.     ,  0.     ,  0.     , -0.     , -0.09165,  0.00843,  0.10224, -0.     ,  0.     ,  0.     ,  0.     , -0.     , -0.     ,  0.0507 ,  0.01485, -0.00239,  0.     , -0.     , -0.     , -0.     ,  0.     ,  0.     , -0.01311, -0.00847, -0.04111,  0.     ,  0.     ,  0.     , -0.     , -0.     , -0.     , -0.     , -0.     , -0.     , -0.     ,  0.     , -0.     ,  0.     , -0.     ,  0.     , -0.     , -0.     ,  0.     ,  0.     , -0.     ,  0.     , -0.     ,  0.     , -0.     ,  0.     ,  0.     ,  0.     ,  0.     ,  0.     ,  0.     ,  0.     ,  0.     ,  0.     , -0.     ,  0.     , -0.     ,  0.     ,  0.     ,  0.     , -0.     , -0.     , -0.     ,  0.     , -0.     ,  0.     , -0.     ,  0.     ,  0.     , -0.     , -0.     ,  0.     ,  0.     ,  0.     ,  0.     ,  0.     ,  0.     ,  0.     ,  0.     ,  0.     ,  0.     ,  0.     , -0.     ,  0.     , -0.     , -0.     , -0.     ,  0.     ,  0.     ,  0.     , -0.     ,  0.     , -0.     ,  0.     ,  0.     , -0.     ,  0.     ,  0.     ,  0.     ,  0.     ,  0.     ,  0.     ,  0.     ,  0.     ,  0.     ,  0.     ,  0.     ,  0.     ,  0.     , -0.     ,  0.     , -0.     , -0.     ,  0.     ,  0.     ,  0.     , -0.     , -0.     , -0.     ,  0.     , -0.00004, -0.0001 ,  0.0003 ,  0.00007,  0.00015, -0.00045,  0.     , -0.     ,  0.     ,  0.00016,  0.00023, -0.00023, -0.00023, -0.00035,  0.00034,  0.     , -0.     ,  0.     , -0.     , -0.     , -0.     ,  0.     , -0.     ,  0.     , -0.00004, -0.0001 ,  0.0003 ,  0.     ,  0.     ,  0.     , -0.     , -0.     , -0.     ,  0.00016,  0.00023, -0.00023, -0.     ,  0.     , -0.     ,  0.     , -0.     ,  0.     ,  0.     ,  0.     , -0.     ,  0.     , -0.     ,  0.     , -0.     ,  0.     , -0.     ,  0.00007,  0.00015, -0.00045, -0.     , -0.     , -0.     ,  0.     ,  0.     , -0.     , -0.00023, -0.00035,  0.00034,  0.     , -0.     ,  0.     , -0.     ,  0.     , -0.     ,  0.     , -0.     , -0.     , -0.09165,  0.00843,  0.10224,  0.13625, -0.01254, -0.15199, -0.     ,  0.     ,  0.     ,  0.0507 ,  0.01485, -0.00239, -0.07537, -0.02208,  0.00355, -0.     , -0.     , -0.     , -0.01311, -0.00847, -0.04111,  0.0195 ,  0.01259,  0.06112, -0.09165,  0.00843,  0.10224, -0.     ,  0.     ,  0.     ,  0.     , -0.     , -0.     ,  0.0507 ,  0.01485, -0.00239,  0.     , -0.     , -0.     , -0.     ,  0.     ,  0.     , -0.01311, -0.00847, -0.04111,  0.     ,  0.     ,  0.     , -0.     , -0.     , -0.     ,  0.13625, -0.01254, -0.15199,  0.     , -0.     , -0.     ,  0.     ,  0.     ,  0.     , -0.07537, -0.02208,  0.00355, -0.     ,  0.     ,  0.     ,  0.     , -0.     , -0.     ,  0.0195 ,  0.01259,  0.06112, -0.     , -0.     , -0.     ,  0.     ,  0.     ,  0.     ,  0.     ,  0.     ,  0.     ,  0.     , -0.     ,  0.     , -0.     ,  0.     , -0.     , -0.     , -0.     ,  0.     , -0.     ,  0.     , -0.     ,  0.     , -0.     ,  0.     ,  0.     ,  0.     ,  0.     ,  0.     ,  0.     ,  0.     ,  0.     ,  0.     ,  0.     ,  0.     , -0.     ,  0.     , -0.     , -0.     , -0.     ,  0.     ,  0.     ,  0.     , -0.     ,  0.     , -0.     ,  0.     ,  0.     , -0.     ,  0.     ,  0.     ,  0.     ,  0.     ,  0.     ,  0.     ,  0.     ,  0.     ,  0.     ,  0.     ,  0.     ,  0.     , -0.     ,  0.     , -0.     ,  0.     ,  0.     ,  0.     , -0.     , -0.     , -0.     ,  0.     , -0.     ,  0.     , -0.     , -0.     ,  0.     , -0.     ,  0.     ,  0.     ,  0.     ,  0.     ,  0.     ,  0.     ,  0.     ,  0.     ,  0.     ,  0.     ,  0.     ],\n",
       "       [ 0.     ,  0.     , -0.     ,  0.     , -0.     ,  0.     , -0.     ,  0.     , -0.     ,  0.00002,  0.00004, -0.00012, -0.     , -0.     ,  0.     ,  0.     ,  0.     , -0.     , -0.00006, -0.00009,  0.00009,  0.     , -0.     ,  0.     , -0.     ,  0.     , -0.     ,  0.     , -0.     ,  0.     , -0.     , -0.     ,  0.     , -0.     ,  0.     , -0.     , -0.     , -0.     ,  0.     , -0.00001, -0.00001,  0.00004,  0.     ,  0.00001, -0.00003,  0.     , -0.     ,  0.     ,  0.00002,  0.00003, -0.00003, -0.00001, -0.00002,  0.00002, -0.     ,  0.     , -0.     ,  0.     ,  0.     , -0.     ,  0.     , -0.     ,  0.     ,  0.     ,  0.     ,  0.     ,  0.     ,  0.00001, -0.00003, -0.00001, -0.00001,  0.00004, -0.     ,  0.     , -0.     , -0.00001, -0.00002,  0.00002,  0.00002,  0.00003, -0.00003,  0.03635,  0.00883,  0.06964,  0.     , -0.     , -0.     , -0.     ,  0.     ,  0.     ,  0.0244 ,  0.10178, -0.09059, -0.     ,  0.     , -0.     ,  0.     ,  0.     , -0.     , -0.07439,  0.08891,  0.17152, -0.     , -0.     , -0.     ,  0.     ,  0.     ,  0.     ,  0.     , -0.     , -0.     , -0.01126, -0.00273, -0.02158,  0.00758,  0.00184,  0.01452, -0.     , -0.     , -0.     , -0.00756, -0.03154,  0.02807,  0.00509,  0.02121, -0.01888, -0.     , -0.     , -0.     ,  0.02305, -0.02755, -0.05315, -0.01551,  0.01853,  0.03575, -0.     ,  0.     ,  0.     ,  0.00758,  0.00184,  0.01452, -0.01126, -0.00273, -0.02158,  0.     ,  0.     , -0.     ,  0.00509,  0.02121, -0.01888, -0.00756, -0.03154,  0.02807,  0.     ,  0.     ,  0.     , -0.01551,  0.01853,  0.03575,  0.02305, -0.02755, -0.05315,  0.11337, -0.53153, -0.00101,  0.     ,  0.     ,  0.     , -0.     , -0.     , -0.     ,  0.07731, -0.11027,  0.03064,  0.     ,  0.     ,  0.     , -0.     , -0.     , -0.     ,  0.26682,  0.30028,  0.01845, -0.     ,  0.     ,  0.     ,  0.     ,  0.     , -0.     ,  0.     ,  0.     ,  0.     , -0.03513,  0.16471,  0.00031,  0.02363, -0.11079, -0.00021,  0.     ,  0.     ,  0.     , -0.02396,  0.03417, -0.00949,  0.01611, -0.02299,  0.00639, -0.     , -0.     ,  0.     , -0.08268, -0.09305, -0.00572,  0.05562,  0.06259,  0.00385, -0.     , -0.     , -0.     ,  0.02363, -0.11079, -0.00021, -0.03513,  0.16471,  0.00031, -0.     , -0.     , -0.     ,  0.01611, -0.02299,  0.00639, -0.02396,  0.03417, -0.00949,  0.     , -0.     , -0.     ,  0.05562,  0.06259,  0.00385, -0.08268, -0.09305, -0.00572,  0.     ,  0.     ,  0.     ,  0.     , -0.     ,  0.     , -0.     ,  0.     , -0.     , -0.     , -0.     , -0.     , -0.00001, -0.00001,  0.00004,  0.     ,  0.00001, -0.00003,  0.     , -0.     ,  0.     ,  0.00002,  0.00003, -0.00003, -0.00001, -0.00002,  0.00002,  0.     , -0.     ,  0.     , -0.     ,  0.     , -0.     ,  0.     , -0.     ,  0.     , -0.00001, -0.00001,  0.00004,  0.     ,  0.     , -0.     , -0.     , -0.     ,  0.     ,  0.00002,  0.00003, -0.00003, -0.     ,  0.     , -0.     ,  0.     , -0.     ,  0.     , -0.     ,  0.     , -0.     ,  0.     , -0.     ,  0.     , -0.     , -0.     , -0.     ,  0.     ,  0.00001, -0.00003, -0.     , -0.     , -0.     ,  0.     ,  0.     ,  0.     , -0.00001, -0.00002,  0.00002,  0.     , -0.     ,  0.     , -0.     ,  0.     , -0.     ,  0.     , -0.     ,  0.     , -0.01126, -0.00273, -0.02158,  0.00758,  0.00184,  0.01452, -0.     ,  0.     ,  0.     , -0.00756, -0.03154,  0.02807,  0.00509,  0.02121, -0.01888, -0.     , -0.     , -0.     ,  0.02305, -0.02755, -0.05315, -0.01551,  0.01853,  0.03575, -0.01126, -0.00273, -0.02158, -0.     ,  0.     ,  0.     ,  0.     , -0.     ,  0.     , -0.00756, -0.03154,  0.02807,  0.     ,  0.     , -0.     , -0.     , -0.     ,  0.     ,  0.02305, -0.02755, -0.05315,  0.     ,  0.     ,  0.     , -0.     , -0.     , -0.     ,  0.00758,  0.00184,  0.01452,  0.     , -0.     ,  0.     , -0.     ,  0.     ,  0.     ,  0.00509,  0.02121, -0.01888, -0.     , -0.     ,  0.     ,  0.     ,  0.     , -0.     , -0.01551,  0.01853,  0.03575, -0.     , -0.     , -0.     ,  0.     ,  0.     ,  0.     ,  0.     ,  0.     ,  0.     , -0.03513,  0.16471,  0.00031,  0.02363, -0.11079, -0.00021,  0.     ,  0.     ,  0.     , -0.02396,  0.03417, -0.00949,  0.01611, -0.02299,  0.00639, -0.     , -0.     ,  0.     , -0.08268, -0.09305, -0.00572,  0.05562,  0.06259,  0.00385, -0.03513,  0.16471,  0.00031, -0.     , -0.     , -0.     ,  0.     ,  0.     ,  0.     , -0.02396,  0.03417, -0.00949, -0.     , -0.     , -0.     ,  0.     ,  0.     ,  0.     , -0.08268, -0.09305, -0.00572,  0.     ,  0.     , -0.     , -0.     , -0.     , -0.     ,  0.02363, -0.11079, -0.00021,  0.     ,  0.     ,  0.     , -0.     , -0.     , -0.     ,  0.01611, -0.02299,  0.00639,  0.     ,  0.     ,  0.     , -0.     , -0.     , -0.     ,  0.05562,  0.06259,  0.00385, -0.     , -0.     ,  0.     ,  0.     ,  0.     , -0.     , -0.     ,  0.     , -0.     ,  0.     ,  0.     , -0.     ,  0.     , -0.     ,  0.     ,  0.     ,  0.     , -0.     ,  0.     ,  0.00001, -0.00003, -0.00001, -0.00001,  0.00004, -0.     ,  0.     , -0.     , -0.00001, -0.00002,  0.00002,  0.00002,  0.00003, -0.00003,  0.     ,  0.     , -0.     ,  0.     , -0.     ,  0.     , -0.     , -0.     , -0.     ,  0.     ,  0.00001, -0.00003, -0.     , -0.     ,  0.     ,  0.     ,  0.     , -0.     , -0.00001, -0.00002,  0.00002,  0.     , -0.     ,  0.     , -0.     ,  0.     , -0.     , -0.     , -0.     ,  0.     , -0.     ,  0.     , -0.     ,  0.     , -0.     ,  0.     , -0.00001, -0.00001,  0.00004,  0.     ,  0.     , -0.     , -0.     , -0.     ,  0.     ,  0.00002,  0.00003, -0.00003, -0.     ,  0.     , -0.     ,  0.     , -0.     ,  0.     , -0.     ,  0.     ,  0.     ,  0.00758,  0.00184,  0.01452, -0.01126, -0.00273, -0.02158,  0.     ,  0.     ,  0.     ,  0.00509,  0.02121, -0.01888, -0.00756, -0.03154,  0.02807,  0.     ,  0.     ,  0.     , -0.01551,  0.01853,  0.03575,  0.02305, -0.02755, -0.05315,  0.00758,  0.00184,  0.01452,  0.     , -0.     , -0.     , -0.     ,  0.     ,  0.     ,  0.00509,  0.02121, -0.01888, -0.     , -0.     ,  0.     ,  0.     ,  0.     , -0.     , -0.01551,  0.01853,  0.03575, -0.     , -0.     , -0.     ,  0.     ,  0.     ,  0.     , -0.01126, -0.00273, -0.02158, -0.     ,  0.     ,  0.     ,  0.     , -0.     , -0.     , -0.00756, -0.03154,  0.02807,  0.     ,  0.     , -0.     , -0.     , -0.     ,  0.     ,  0.02305, -0.02755, -0.05315,  0.     ,  0.     ,  0.     , -0.     , -0.     , -0.     , -0.     , -0.     , -0.     ,  0.02363, -0.11079, -0.00021, -0.03513,  0.16471,  0.00031, -0.     , -0.     , -0.     ,  0.01611, -0.02299,  0.00639, -0.02396,  0.03417, -0.00949,  0.     ,  0.     , -0.     ,  0.05562,  0.06259,  0.00385, -0.08268, -0.09305, -0.00572,  0.02363, -0.11079, -0.00021,  0.     ,  0.     ,  0.     , -0.     , -0.     , -0.     ,  0.01611, -0.02299,  0.00639,  0.     ,  0.     ,  0.     , -0.     , -0.     , -0.     ,  0.05562,  0.06259,  0.00385, -0.     , -0.     ,  0.     ,  0.     ,  0.     ,  0.     , -0.03513,  0.16471,  0.00031, -0.     , -0.     , -0.     ,  0.     ,  0.     ,  0.     , -0.02396,  0.03417, -0.00949, -0.     , -0.     , -0.     , -0.     ,  0.     ,  0.     , -0.08268, -0.09305, -0.00572,  0.     , -0.     ,  0.     , -0.     , -0.     ,  0.     ],\n",
       "       [ 0.     ,  0.00004, -0.00001,  0.     ,  0.     ,  0.     , -0.     , -0.     , -0.     ,  0.18445,  0.00014, -0.09598,  0.     ,  0.     , -0.     , -0.     , -0.     ,  0.     ,  0.35791,  0.38195,  0.47665, -0.     ,  0.     , -0.     ,  0.     , -0.     ,  0.     ,  0.     ,  0.     ,  0.     , -0.     , -0.00001,  0.     ,  0.     ,  0.00001, -0.     , -0.     , -0.     , -0.     , -0.05716, -0.00004,  0.02974,  0.03845,  0.00003, -0.02001, -0.     ,  0.     , -0.     , -0.11091, -0.11836, -0.1477 ,  0.0746 ,  0.07961,  0.09935, -0.     , -0.     , -0.     ,  0.     ,  0.00001, -0.     ,  0.     , -0.00001,  0.     ,  0.     ,  0.     ,  0.     ,  0.03845,  0.00003, -0.02001, -0.05716, -0.00004,  0.02974,  0.     , -0.     ,  0.     ,  0.0746 ,  0.07961,  0.09935, -0.11091, -0.11836, -0.1477 ,  0.     , -0.     , -0.     , -0.     , -0.     ,  0.     , -0.     , -0.     ,  0.     ,  0.     ,  0.     ,  0.     ,  0.     ,  0.     ,  0.     ,  0.     ,  0.     ,  0.     ,  0.     ,  0.     ,  0.     ,  0.     ,  0.     ,  0.     ,  0.     ,  0.     ,  0.     , -0.     , -0.     ,  0.     , -0.     ,  0.     ,  0.     ,  0.     , -0.     , -0.     ,  0.     ,  0.     ,  0.     ,  0.     ,  0.     ,  0.     ,  0.     ,  0.     ,  0.     ,  0.     ,  0.     ,  0.     ,  0.     ,  0.     ,  0.     ,  0.     ,  0.     ,  0.     , -0.     , -0.     , -0.     ,  0.     , -0.     , -0.     , -0.     ,  0.     ,  0.     ,  0.     ,  0.     ,  0.     ,  0.     ,  0.     ,  0.     ,  0.     ,  0.     ,  0.     ,  0.     ,  0.     ,  0.     ,  0.     ,  0.     ,  0.     ,  0.     ,  0.     ,  0.     ,  0.     ,  0.     ,  0.     ,  0.     ,  0.     ,  0.     ,  0.     ,  0.     ,  0.     ,  0.     ,  0.     ,  0.     ,  0.     ,  0.     ,  0.     ,  0.     ,  0.     ,  0.     ,  0.     ,  0.     ,  0.     ,  0.     ,  0.     ,  0.     ,  0.     ,  0.     ,  0.     ,  0.     ,  0.     ,  0.     ,  0.     ,  0.     ,  0.     ,  0.     ,  0.     ,  0.     ,  0.     ,  0.     ,  0.     ,  0.     ,  0.     ,  0.     ,  0.     ,  0.     ,  0.     ,  0.     ,  0.     ,  0.     ,  0.     ,  0.     ,  0.     ,  0.     ,  0.     ,  0.     ,  0.     ,  0.     ,  0.     ,  0.     ,  0.     ,  0.     ,  0.     ,  0.     ,  0.     ,  0.     ,  0.     ,  0.     ,  0.     ,  0.     ,  0.     ,  0.     ,  0.     ,  0.     ,  0.     ,  0.     ,  0.     ,  0.     ,  0.     ,  0.     ,  0.     ,  0.     ,  0.     ,  0.     ,  0.     ,  0.     , -0.     , -0.00001,  0.     , -0.     ,  0.00001, -0.     , -0.     ,  0.     , -0.     , -0.05716, -0.00004,  0.02974,  0.03845,  0.00003, -0.02001, -0.     ,  0.     , -0.     , -0.11091, -0.11836, -0.1477 ,  0.0746 ,  0.07961,  0.09935, -0.     , -0.00001,  0.     , -0.     , -0.     , -0.     ,  0.     , -0.     ,  0.     , -0.05716, -0.00004,  0.02974,  0.     , -0.     ,  0.     ,  0.     ,  0.     , -0.     , -0.11091, -0.11836, -0.1477 ,  0.     , -0.     ,  0.     ,  0.     ,  0.     , -0.     ,  0.     ,  0.00001, -0.     ,  0.     ,  0.     ,  0.     , -0.     ,  0.     , -0.     ,  0.03845,  0.00003, -0.02001, -0.     , -0.     , -0.     ,  0.     , -0.     ,  0.     ,  0.0746 ,  0.07961,  0.09935, -0.     ,  0.     , -0.     , -0.     , -0.     ,  0.     , -0.     , -0.     ,  0.     , -0.     ,  0.     ,  0.     ,  0.     , -0.     , -0.     ,  0.     ,  0.     ,  0.     ,  0.     ,  0.     ,  0.     ,  0.     ,  0.     ,  0.     ,  0.     ,  0.     ,  0.     ,  0.     ,  0.     ,  0.     ,  0.     ,  0.     ,  0.     , -0.     ,  0.     ,  0.     , -0.     , -0.     ,  0.     , -0.     ,  0.     , -0.     ,  0.     ,  0.     ,  0.     ,  0.     ,  0.     ,  0.     ,  0.     ,  0.     ,  0.     ,  0.     ,  0.     ,  0.     ,  0.     ,  0.     ,  0.     ,  0.     ,  0.     ,  0.     ,  0.     , -0.     , -0.     ,  0.     ,  0.     ,  0.     , -0.     , -0.     ,  0.     ,  0.     ,  0.     ,  0.     ,  0.     ,  0.     ,  0.     ,  0.     ,  0.     ,  0.     ,  0.     ,  0.     ,  0.     ,  0.     ,  0.     ,  0.     ,  0.     ,  0.     ,  0.     ,  0.     ,  0.     ,  0.     ,  0.     ,  0.     ,  0.     ,  0.     ,  0.     ,  0.     ,  0.     ,  0.     ,  0.     ,  0.     ,  0.     ,  0.     ,  0.     ,  0.     ,  0.     ,  0.     ,  0.     ,  0.     ,  0.     ,  0.     ,  0.     ,  0.     ,  0.     ,  0.     ,  0.     ,  0.     ,  0.     ,  0.     ,  0.     ,  0.     ,  0.     ,  0.     ,  0.     ,  0.     ,  0.     ,  0.     ,  0.     ,  0.     ,  0.     ,  0.     ,  0.     ,  0.     ,  0.     ,  0.     ,  0.     ,  0.     ,  0.     ,  0.     ,  0.     ,  0.     ,  0.     ,  0.     ,  0.     ,  0.     ,  0.     ,  0.     ,  0.     ,  0.     ,  0.     ,  0.     ,  0.     ,  0.     ,  0.     ,  0.     ,  0.     ,  0.     ,  0.     ,  0.     ,  0.     ,  0.     ,  0.     ,  0.     ,  0.     ,  0.     ,  0.     ,  0.     ,  0.     ,  0.     , -0.     , -0.     ,  0.     , -0.     ,  0.00001, -0.     ,  0.     , -0.00001,  0.     ,  0.     ,  0.     ,  0.     ,  0.03845,  0.00003, -0.02001, -0.05716, -0.00004,  0.02974,  0.     , -0.     ,  0.     ,  0.0746 ,  0.07961,  0.09935, -0.11091, -0.11836, -0.1477 , -0.     ,  0.00001, -0.     ,  0.     ,  0.     ,  0.     , -0.     ,  0.     , -0.     ,  0.03845,  0.00003, -0.02001, -0.     , -0.     , -0.     ,  0.     ,  0.     ,  0.     ,  0.0746 ,  0.07961,  0.09935, -0.     ,  0.     , -0.     , -0.     , -0.     ,  0.     , -0.     , -0.00001,  0.     , -0.     , -0.     ,  0.     ,  0.     ,  0.     ,  0.     , -0.05716, -0.00004,  0.02974, -0.     , -0.     ,  0.     , -0.     , -0.     , -0.     , -0.11091, -0.11836, -0.1477 , -0.     , -0.     ,  0.     , -0.     ,  0.     , -0.     , -0.     , -0.     , -0.     ,  0.     , -0.     , -0.     , -0.     ,  0.     ,  0.     ,  0.     ,  0.     ,  0.     ,  0.     ,  0.     ,  0.     ,  0.     ,  0.     ,  0.     ,  0.     ,  0.     ,  0.     ,  0.     ,  0.     ,  0.     ,  0.     ,  0.     ,  0.     ,  0.     , -0.     , -0.     ,  0.     ,  0.     ,  0.     , -0.     , -0.     ,  0.     ,  0.     ,  0.     ,  0.     ,  0.     ,  0.     ,  0.     ,  0.     ,  0.     ,  0.     ,  0.     ,  0.     ,  0.     ,  0.     ,  0.     ,  0.     ,  0.     ,  0.     ,  0.     , -0.     ,  0.     ,  0.     , -0.     , -0.     ,  0.     , -0.     , -0.     ,  0.     ,  0.     ,  0.     ,  0.     ,  0.     ,  0.     ,  0.     ,  0.     ,  0.     ,  0.     ,  0.     ,  0.     ,  0.     ,  0.     ,  0.     ,  0.     ,  0.     ,  0.     ,  0.     ,  0.     ,  0.     ,  0.     ,  0.     ,  0.     ,  0.     ,  0.     ,  0.     ,  0.     ,  0.     ,  0.     ,  0.     ,  0.     ,  0.     ,  0.     ,  0.     ,  0.     ,  0.     ,  0.     ,  0.     ,  0.     ,  0.     ,  0.     ,  0.     ,  0.     ,  0.     ,  0.     ,  0.     ,  0.     ,  0.     ,  0.     ,  0.     ,  0.     ,  0.     ,  0.     ,  0.     ,  0.     ,  0.     ,  0.     ,  0.     ,  0.     ,  0.     ,  0.     ,  0.     ,  0.     ,  0.     ,  0.     ,  0.     ,  0.     ,  0.     ,  0.     ,  0.     ,  0.     ,  0.     ,  0.     ,  0.     ,  0.     ,  0.     ,  0.     ,  0.     ,  0.     ,  0.     ,  0.     ,  0.     ,  0.     ,  0.     ,  0.     ,  0.     ,  0.     ,  0.     ,  0.     ,  0.     ,  0.     ,  0.     ,  0.     ,  0.     ,  0.     ,  0.     ,  0.     ,  0.     ,  0.     ],\n",
       "       [ 0.     , -0.     ,  0.     ,  0.     ,  0.     ,  0.     ,  0.     , -0.     ,  0.     , -0.00011, -0.00026,  0.00076,  0.     ,  0.     ,  0.     ,  0.     ,  0.     ,  0.     ,  0.0004 ,  0.00059, -0.00057, -0.     ,  0.     ,  0.     ,  0.     , -0.     ,  0.     , -0.     ,  0.     ,  0.     , -0.     ,  0.     , -0.     ,  0.     , -0.     ,  0.     ,  0.     ,  0.     , -0.     ,  0.00003,  0.00008, -0.00024, -0.00002, -0.00005,  0.00016, -0.     ,  0.     ,  0.     , -0.00012, -0.00018,  0.00018,  0.00008,  0.00012, -0.00012,  0.     ,  0.     , -0.     , -0.     , -0.     ,  0.     ,  0.     ,  0.     , -0.     , -0.     ,  0.     , -0.     , -0.00002, -0.00005,  0.00016,  0.00003,  0.00008, -0.00024,  0.     , -0.     ,  0.     ,  0.00008,  0.00012, -0.00012, -0.00012, -0.00018,  0.00018, -0.23053,  0.29327, -0.20949,  0.     , -0.     , -0.     , -0.     , -0.     , -0.     , -0.01728, -0.25691,  0.06944, -0.     , -0.     ,  0.     ,  0.     ,  0.     , -0.     , -0.52326, -0.05882,  0.11396,  0.     , -0.     ,  0.     , -0.     ,  0.     , -0.     ,  0.     ,  0.     ,  0.     ,  0.07144, -0.09088,  0.06492, -0.04805,  0.06113, -0.04367, -0.     , -0.     ,  0.     ,  0.00536,  0.07961, -0.02152, -0.0036 , -0.05355,  0.01448,  0.     , -0.     ,  0.     ,  0.16215,  0.01823, -0.03531, -0.10907, -0.01226,  0.02375, -0.     , -0.     , -0.     , -0.04805,  0.06113, -0.04367,  0.07144, -0.09088,  0.06492,  0.     ,  0.     , -0.     , -0.0036 , -0.05355,  0.01448,  0.00536,  0.07961, -0.02152, -0.     ,  0.     , -0.     , -0.10907, -0.01226,  0.02375,  0.16215,  0.01823, -0.03531, -0.     ,  0.     ,  0.     , -0.     ,  0.     ,  0.     , -0.     , -0.     , -0.     , -0.     , -0.     ,  0.     , -0.     ,  0.     ,  0.     , -0.     ,  0.     ,  0.     ,  0.     ,  0.     ,  0.     ,  0.     ,  0.     ,  0.     ,  0.     ,  0.     ,  0.     ,  0.     ,  0.     ,  0.     , -0.     , -0.     ,  0.     , -0.     , -0.     ,  0.     , -0.     ,  0.     ,  0.     , -0.     , -0.     ,  0.     , -0.     , -0.     ,  0.     ,  0.     ,  0.     ,  0.     ,  0.     ,  0.     ,  0.     ,  0.     ,  0.     ,  0.     , -0.     , -0.     , -0.     , -0.     , -0.     ,  0.     , -0.     , -0.     ,  0.     , -0.     ,  0.     ,  0.     , -0.     , -0.     ,  0.     , -0.     , -0.     ,  0.     ,  0.     ,  0.     ,  0.     ,  0.     ,  0.     ,  0.     ,  0.     ,  0.     ,  0.     , -0.     ,  0.     , -0.     , -0.     ,  0.     , -0.     ,  0.     , -0.     ,  0.     ,  0.     ,  0.     ,  0.     ,  0.00003,  0.00008, -0.00024, -0.00002, -0.00005,  0.00016, -0.     ,  0.     , -0.     , -0.00012, -0.00018,  0.00018,  0.00008,  0.00012, -0.00012,  0.     ,  0.     , -0.     , -0.     , -0.     , -0.     , -0.     ,  0.     , -0.     ,  0.00003,  0.00008, -0.00024, -0.     ,  0.     , -0.     ,  0.     ,  0.     , -0.     , -0.00012, -0.00018,  0.00018,  0.     , -0.     , -0.     , -0.     ,  0.     , -0.     ,  0.     , -0.     ,  0.     , -0.     ,  0.     , -0.     , -0.     ,  0.     ,  0.     , -0.00002, -0.00005,  0.00016, -0.     ,  0.     , -0.     ,  0.     , -0.     , -0.     ,  0.00008,  0.00012, -0.00012, -0.     ,  0.     , -0.     ,  0.     , -0.     ,  0.     ,  0.     ,  0.     ,  0.     ,  0.07144, -0.09088,  0.06492, -0.04805,  0.06113, -0.04367, -0.     , -0.     ,  0.     ,  0.00536,  0.07961, -0.02152, -0.0036 , -0.05355,  0.01448,  0.     , -0.     ,  0.     ,  0.16215,  0.01823, -0.03531, -0.10907, -0.01226,  0.02375,  0.07144, -0.09088,  0.06492, -0.     , -0.     ,  0.     ,  0.     ,  0.     ,  0.     ,  0.00536,  0.07961, -0.02152,  0.     ,  0.     , -0.     , -0.     , -0.     ,  0.     ,  0.16215,  0.01823, -0.03531, -0.     ,  0.     , -0.     ,  0.     , -0.     ,  0.     , -0.04805,  0.06113, -0.04367,  0.     , -0.     , -0.     , -0.     , -0.     , -0.     , -0.0036 , -0.05355,  0.01448, -0.     , -0.     ,  0.     ,  0.     ,  0.     , -0.     , -0.10907, -0.01226,  0.02375,  0.     , -0.     ,  0.     , -0.     ,  0.     , -0.     ,  0.     ,  0.     ,  0.     , -0.     , -0.     ,  0.     , -0.     , -0.     ,  0.     , -0.     ,  0.     ,  0.     , -0.     , -0.     ,  0.     , -0.     , -0.     ,  0.     ,  0.     ,  0.     ,  0.     ,  0.     ,  0.     ,  0.     ,  0.     ,  0.     ,  0.     , -0.     , -0.     ,  0.     , -0.     , -0.     , -0.     , -0.     ,  0.     ,  0.     , -0.     , -0.     ,  0.     , -0.     ,  0.     ,  0.     ,  0.     ,  0.     , -0.     ,  0.     ,  0.     ,  0.     ,  0.     ,  0.     ,  0.     ,  0.     ,  0.     ,  0.     , -0.     , -0.     ,  0.     ,  0.     ,  0.     ,  0.     ,  0.     , -0.     , -0.     , -0.     , -0.     ,  0.     ,  0.     , -0.     , -0.     , -0.     ,  0.     , -0.     ,  0.     ,  0.     ,  0.     ,  0.     ,  0.     ,  0.     ,  0.     ,  0.     ,  0.     , -0.     , -0.     ,  0.     , -0.     , -0.     ,  0.     ,  0.     ,  0.     , -0.     , -0.     , -0.     ,  0.     , -0.00002, -0.00005,  0.00016,  0.00003,  0.00008, -0.00024,  0.     , -0.     , -0.     ,  0.00008,  0.00012, -0.00012, -0.00012, -0.00018,  0.00018, -0.     , -0.     ,  0.     ,  0.     , -0.     ,  0.     ,  0.     , -0.     ,  0.     , -0.00002, -0.00005,  0.00016,  0.     ,  0.     ,  0.     , -0.     ,  0.     ,  0.     ,  0.00008,  0.00012, -0.00012, -0.     ,  0.     ,  0.     ,  0.     , -0.     , -0.     , -0.     ,  0.     , -0.     , -0.     ,  0.     ,  0.     ,  0.     ,  0.     ,  0.     ,  0.00003,  0.00008, -0.00024,  0.     ,  0.     , -0.     ,  0.     ,  0.     , -0.     , -0.00012, -0.00018,  0.00018,  0.     , -0.     , -0.     , -0.     ,  0.     , -0.     , -0.     ,  0.     ,  0.     , -0.04805,  0.06113, -0.04367,  0.07144, -0.09088,  0.06492,  0.     ,  0.     , -0.     , -0.0036 , -0.05355,  0.01448,  0.00536,  0.07961, -0.02152, -0.     ,  0.     , -0.     , -0.10907, -0.01226,  0.02375,  0.16215,  0.01823, -0.03531, -0.04805,  0.06113, -0.04367,  0.     ,  0.     ,  0.     , -0.     ,  0.     ,  0.     , -0.0036 , -0.05355,  0.01448, -0.     , -0.     ,  0.     ,  0.     ,  0.     , -0.     , -0.10907, -0.01226,  0.02375,  0.     , -0.     ,  0.     , -0.     ,  0.     , -0.     ,  0.07144, -0.09088,  0.06492, -0.     , -0.     , -0.     ,  0.     ,  0.     ,  0.     ,  0.00536,  0.07961, -0.02152,  0.     ,  0.     , -0.     , -0.     , -0.     ,  0.     ,  0.16215,  0.01823, -0.03531, -0.     ,  0.     , -0.     ,  0.     , -0.     ,  0.     , -0.     , -0.     , -0.     , -0.     , -0.     ,  0.     , -0.     , -0.     ,  0.     , -0.     ,  0.     ,  0.     , -0.     , -0.     ,  0.     , -0.     , -0.     ,  0.     ,  0.     ,  0.     ,  0.     ,  0.     ,  0.     ,  0.     ,  0.     ,  0.     ,  0.     , -0.     , -0.     ,  0.     ,  0.     ,  0.     ,  0.     ,  0.     , -0.     ,  0.     , -0.     , -0.     ,  0.     ,  0.     , -0.     , -0.     , -0.     ,  0.     , -0.     ,  0.     ,  0.     ,  0.     ,  0.     ,  0.     ,  0.     ,  0.     ,  0.     ,  0.     , -0.     , -0.     ,  0.     , -0.     , -0.     , -0.     ,  0.     ,  0.     ,  0.     , -0.     , -0.     ,  0.     , -0.     ,  0.     ,  0.     , -0.     ,  0.     ,  0.     ,  0.     ,  0.     ,  0.     ,  0.     ,  0.     ,  0.     ,  0.     ,  0.     ,  0.     ],\n",
       "       [ 0.     , -0.     ,  0.     , -0.     ,  0.     , -0.     ,  0.     ,  0.     ,  0.     , -0.00001, -0.00001,  0.00004,  0.     , -0.     , -0.     , -0.     , -0.     , -0.     ,  0.00002,  0.00003, -0.00003,  0.     , -0.     ,  0.     , -0.     , -0.     , -0.     , -0.     , -0.     , -0.     ,  0.     ,  0.     , -0.     ,  0.     , -0.     ,  0.     ,  0.     ,  0.     ,  0.     ,  0.     ,  0.     , -0.00001, -0.     , -0.     ,  0.00001,  0.     ,  0.     ,  0.     , -0.00001, -0.00001,  0.00001,  0.     ,  0.00001, -0.00001,  0.     , -0.     ,  0.     ,  0.     , -0.     ,  0.     ,  0.     ,  0.     , -0.     , -0.     , -0.     ,  0.     , -0.     , -0.     ,  0.00001,  0.     ,  0.     , -0.00001, -0.     , -0.     , -0.     ,  0.     ,  0.00001, -0.00001, -0.00001, -0.00001,  0.00001, -0.0128 ,  0.01959, -0.03069,  0.     , -0.     ,  0.     , -0.     , -0.     ,  0.     ,  0.01678, -0.02929,  0.02665, -0.     , -0.     , -0.     ,  0.     ,  0.     ,  0.     , -0.00434,  0.27495, -0.09046, -0.     , -0.     ,  0.     ,  0.     ,  0.     ,  0.     ,  0.     , -0.     ,  0.     ,  0.00397, -0.00607,  0.00951, -0.00267,  0.00408, -0.0064 , -0.     , -0.     , -0.     , -0.0052 ,  0.00908, -0.00826,  0.0035 , -0.00611,  0.00555,  0.     , -0.     ,  0.     ,  0.00134, -0.0852 ,  0.02803, -0.0009 ,  0.05731, -0.01886, -0.     , -0.     , -0.     , -0.00267,  0.00408, -0.0064 ,  0.00397, -0.00607,  0.00951,  0.     ,  0.     ,  0.     ,  0.0035 , -0.00611,  0.00555, -0.0052 ,  0.00908, -0.00826,  0.     ,  0.     , -0.     , -0.0009 ,  0.05731, -0.01886,  0.00134, -0.0852 ,  0.02803, -0.46153, -0.06093, -0.04014,  0.     , -0.     ,  0.     , -0.     ,  0.     , -0.     ,  0.1194 , -0.11286,  0.21191, -0.     ,  0.     ,  0.     , -0.     , -0.     , -0.     ,  0.23044, -0.25221,  0.22435,  0.     ,  0.     ,  0.     , -0.     , -0.     , -0.     ,  0.     , -0.     ,  0.     ,  0.14302,  0.01888,  0.01244, -0.0962 , -0.0127 , -0.00837, -0.     ,  0.     ,  0.     , -0.037  ,  0.03497, -0.06566,  0.02489, -0.02353,  0.04417,  0.     ,  0.     ,  0.     , -0.07141,  0.07815, -0.06952,  0.04803, -0.05257,  0.04676, -0.     ,  0.     , -0.     , -0.0962 , -0.0127 , -0.00837,  0.14302,  0.01888,  0.01244, -0.     , -0.     , -0.     ,  0.02489, -0.02353,  0.04417, -0.037  ,  0.03497, -0.06566, -0.     , -0.     , -0.     ,  0.04803, -0.05257,  0.04676, -0.07141,  0.07815, -0.06952, -0.     ,  0.     , -0.     ,  0.     ,  0.     , -0.     , -0.     , -0.     ,  0.     ,  0.     ,  0.     ,  0.     ,  0.     ,  0.     , -0.00001, -0.     , -0.     ,  0.00001,  0.     ,  0.     ,  0.     , -0.00001, -0.00001,  0.00001,  0.     ,  0.00001, -0.00001,  0.     ,  0.     , -0.     ,  0.     , -0.     ,  0.     ,  0.     ,  0.     ,  0.     ,  0.     ,  0.     , -0.00001, -0.     ,  0.     ,  0.     ,  0.     ,  0.     ,  0.     , -0.00001, -0.00001,  0.00001, -0.     , -0.     , -0.     ,  0.     ,  0.     ,  0.     , -0.     , -0.     ,  0.     , -0.     , -0.     , -0.     ,  0.     ,  0.     , -0.     , -0.     , -0.     ,  0.00001, -0.     , -0.     , -0.     ,  0.     ,  0.     , -0.     ,  0.     ,  0.00001, -0.00001,  0.     , -0.     ,  0.     , -0.     , -0.     , -0.     ,  0.     ,  0.     ,  0.     ,  0.00397, -0.00607,  0.00951, -0.00267,  0.00408, -0.0064 , -0.     , -0.     , -0.     , -0.0052 ,  0.00908, -0.00826,  0.0035 , -0.00611,  0.00555,  0.     , -0.     ,  0.     ,  0.00134, -0.0852 ,  0.02803, -0.0009 ,  0.05731, -0.01886,  0.00397, -0.00607,  0.00951, -0.     ,  0.     , -0.     ,  0.     ,  0.     ,  0.     , -0.0052 ,  0.00908, -0.00826,  0.     ,  0.     ,  0.     , -0.     , -0.     , -0.     ,  0.00134, -0.0852 ,  0.02803, -0.     ,  0.     , -0.     ,  0.     , -0.     ,  0.     , -0.00267,  0.00408, -0.0064 ,  0.     ,  0.     , -0.     , -0.     , -0.     , -0.     ,  0.0035 , -0.00611,  0.00555, -0.     ,  0.     ,  0.     ,  0.     ,  0.     ,  0.     , -0.0009 ,  0.05731, -0.01886, -0.     , -0.     ,  0.     ,  0.     ,  0.     ,  0.     ,  0.     , -0.     ,  0.     ,  0.14302,  0.01888,  0.01244, -0.0962 , -0.0127 , -0.00837,  0.     ,  0.     ,  0.     , -0.037  ,  0.03497, -0.06566,  0.02489, -0.02353,  0.04417,  0.     ,  0.     ,  0.     , -0.07141,  0.07815, -0.06952,  0.04803, -0.05257,  0.04676,  0.14302,  0.01888,  0.01244, -0.     ,  0.     , -0.     ,  0.     , -0.     ,  0.     , -0.037  ,  0.03497, -0.06566,  0.     , -0.     , -0.     ,  0.     ,  0.     ,  0.     , -0.07141,  0.07815, -0.06952,  0.     , -0.     , -0.     ,  0.     ,  0.     ,  0.     , -0.0962 , -0.0127 , -0.00837,  0.     , -0.     ,  0.     , -0.     ,  0.     , -0.     ,  0.02489, -0.02353,  0.04417,  0.     ,  0.     ,  0.     , -0.     , -0.     , -0.     ,  0.04803, -0.05257,  0.04676,  0.     ,  0.     ,  0.     ,  0.     , -0.     , -0.     ,  0.     ,  0.     ,  0.     ,  0.     , -0.     ,  0.     , -0.     ,  0.     , -0.     , -0.     , -0.     , -0.     , -0.     , -0.     ,  0.00001,  0.     ,  0.     , -0.00001, -0.     , -0.     , -0.     ,  0.     ,  0.00001, -0.00001, -0.00001, -0.00001,  0.00001,  0.     , -0.     ,  0.     , -0.     , -0.     ,  0.     ,  0.     , -0.     ,  0.     , -0.     , -0.     ,  0.00001,  0.     , -0.     ,  0.     , -0.     ,  0.     , -0.     ,  0.     ,  0.00001, -0.00001,  0.     ,  0.     , -0.     , -0.     , -0.     , -0.     , -0.     ,  0.     , -0.     , -0.     , -0.     , -0.     ,  0.     ,  0.     , -0.     ,  0.     ,  0.     , -0.00001, -0.     , -0.     , -0.     ,  0.     , -0.     , -0.     , -0.00001, -0.00001,  0.00001,  0.     , -0.     ,  0.     ,  0.     , -0.     , -0.     , -0.     , -0.     ,  0.     , -0.00267,  0.00408, -0.0064 ,  0.00397, -0.00607,  0.00951,  0.     ,  0.     ,  0.     ,  0.0035 , -0.00611,  0.00555, -0.0052 ,  0.00908, -0.00826,  0.     ,  0.     ,  0.     , -0.0009 ,  0.05731, -0.01886,  0.00134, -0.0852 ,  0.02803, -0.00267,  0.00408, -0.0064 ,  0.     , -0.     , -0.     , -0.     ,  0.     , -0.     ,  0.0035 , -0.00611,  0.00555, -0.     ,  0.     , -0.     ,  0.     ,  0.     , -0.     , -0.0009 ,  0.05731, -0.01886, -0.     , -0.     , -0.     , -0.     ,  0.     ,  0.     ,  0.00397, -0.00607,  0.00951, -0.     ,  0.     , -0.     ,  0.     ,  0.     , -0.     , -0.0052 ,  0.00908, -0.00826, -0.     ,  0.     , -0.     , -0.     , -0.     , -0.     ,  0.00134, -0.0852 ,  0.02803,  0.     ,  0.     ,  0.     , -0.     , -0.     , -0.     , -0.     ,  0.     , -0.     , -0.0962 , -0.0127 , -0.00837,  0.14302,  0.01888,  0.01244, -0.     , -0.     , -0.     ,  0.02489, -0.02353,  0.04417, -0.037  ,  0.03497, -0.06566, -0.     , -0.     , -0.     ,  0.04803, -0.05257,  0.04676, -0.07141,  0.07815, -0.06952, -0.0962 , -0.0127 , -0.00837,  0.     , -0.     ,  0.     , -0.     ,  0.     , -0.     ,  0.02489, -0.02353,  0.04417,  0.     ,  0.     ,  0.     ,  0.     , -0.     , -0.     ,  0.04803, -0.05257,  0.04676,  0.     ,  0.     ,  0.     , -0.     , -0.     , -0.     ,  0.14302,  0.01888,  0.01244, -0.     ,  0.     , -0.     ,  0.     , -0.     ,  0.     , -0.037  ,  0.03497, -0.06566, -0.     , -0.     , -0.     ,  0.     ,  0.     ,  0.     , -0.07141,  0.07815, -0.06952, -0.     , -0.     , -0.     ,  0.     ,  0.     ,  0.     ],\n",
       "       [ 0.     ,  0.00004, -0.00001, -0.     ,  0.     , -0.     ,  0.     , -0.     ,  0.     ,  0.20153, -0.15579,  0.31543,  0.     ,  0.     ,  0.     , -0.     , -0.     , -0.     ,  0.31557, -0.50653,  0.15452, -0.     , -0.     ,  0.     ,  0.     ,  0.     , -0.     , -0.     ,  0.     , -0.     , -0.     , -0.00001,  0.     ,  0.     ,  0.00001, -0.     ,  0.     ,  0.     ,  0.     , -0.06245,  0.04828, -0.09775,  0.04201, -0.03247,  0.06575, -0.     , -0.     ,  0.     , -0.09779,  0.15696, -0.04788,  0.06578, -0.10558,  0.03221,  0.     ,  0.     ,  0.     ,  0.     ,  0.00001, -0.     ,  0.     , -0.00001,  0.     , -0.     , -0.     , -0.     ,  0.04201, -0.03247,  0.06575, -0.06245,  0.04828, -0.09775,  0.     ,  0.     , -0.     ,  0.06578, -0.10558,  0.03221, -0.09779,  0.15696, -0.04788,  0.     , -0.     , -0.     ,  0.     , -0.     , -0.     , -0.     ,  0.     ,  0.     ,  0.     ,  0.     ,  0.     ,  0.     ,  0.     ,  0.     ,  0.     ,  0.     ,  0.     ,  0.     ,  0.     ,  0.     ,  0.     ,  0.     ,  0.     ,  0.     ,  0.     ,  0.     ,  0.     , -0.     , -0.     , -0.     ,  0.     ,  0.     ,  0.     , -0.     , -0.     ,  0.     ,  0.     ,  0.     ,  0.     ,  0.     ,  0.     ,  0.     ,  0.     ,  0.     ,  0.     ,  0.     ,  0.     ,  0.     ,  0.     ,  0.     ,  0.     ,  0.     ,  0.     , -0.     ,  0.     ,  0.     ,  0.     , -0.     , -0.     , -0.     ,  0.     ,  0.     ,  0.     ,  0.     ,  0.     ,  0.     ,  0.     ,  0.     ,  0.     ,  0.     ,  0.     ,  0.     ,  0.     ,  0.     ,  0.     ,  0.     ,  0.     ,  0.     ,  0.     ,  0.     ,  0.     ,  0.     ,  0.     ,  0.     ,  0.     ,  0.     ,  0.     ,  0.     ,  0.     ,  0.     ,  0.     ,  0.     ,  0.     ,  0.     ,  0.     ,  0.     ,  0.     ,  0.     ,  0.     ,  0.     ,  0.     ,  0.     ,  0.     ,  0.     ,  0.     ,  0.     ,  0.     ,  0.     ,  0.     ,  0.     ,  0.     ,  0.     ,  0.     ,  0.     ,  0.     ,  0.     ,  0.     ,  0.     ,  0.     ,  0.     ,  0.     ,  0.     ,  0.     ,  0.     ,  0.     ,  0.     ,  0.     ,  0.     ,  0.     ,  0.     ,  0.     ,  0.     ,  0.     ,  0.     ,  0.     ,  0.     ,  0.     ,  0.     ,  0.     ,  0.     ,  0.     ,  0.     ,  0.     ,  0.     ,  0.     ,  0.     ,  0.     ,  0.     ,  0.     ,  0.     ,  0.     ,  0.     ,  0.     ,  0.     ,  0.     ,  0.     ,  0.     ,  0.     ,  0.     ,  0.     ,  0.     , -0.     ,  0.     , -0.     , -0.     , -0.00001,  0.     ,  0.     ,  0.00001, -0.     ,  0.     ,  0.     ,  0.     , -0.06245,  0.04828, -0.09775,  0.04201, -0.03247,  0.06575, -0.     , -0.     ,  0.     , -0.09779,  0.15696, -0.04788,  0.06578, -0.10558,  0.03221,  0.     , -0.00001,  0.     ,  0.     , -0.     ,  0.     , -0.     , -0.     , -0.     , -0.06245,  0.04828, -0.09775, -0.     , -0.     , -0.     ,  0.     ,  0.     ,  0.     , -0.09779,  0.15696, -0.04788,  0.     ,  0.     , -0.     , -0.     , -0.     ,  0.     ,  0.     ,  0.00001, -0.     , -0.     , -0.     , -0.     ,  0.     ,  0.     ,  0.     ,  0.04201, -0.03247,  0.06575,  0.     ,  0.     ,  0.     , -0.     , -0.     , -0.     ,  0.06578, -0.10558,  0.03221, -0.     , -0.     ,  0.     ,  0.     ,  0.     , -0.     ,  0.     , -0.     , -0.     , -0.     ,  0.     ,  0.     ,  0.     , -0.     , -0.     ,  0.     ,  0.     ,  0.     ,  0.     ,  0.     ,  0.     ,  0.     ,  0.     ,  0.     ,  0.     ,  0.     ,  0.     ,  0.     ,  0.     ,  0.     ,  0.     ,  0.     ,  0.     , -0.     ,  0.     ,  0.     , -0.     ,  0.     ,  0.     ,  0.     , -0.     , -0.     ,  0.     ,  0.     ,  0.     ,  0.     ,  0.     ,  0.     ,  0.     ,  0.     ,  0.     ,  0.     ,  0.     ,  0.     ,  0.     ,  0.     ,  0.     ,  0.     ,  0.     ,  0.     ,  0.     , -0.     , -0.     ,  0.     , -0.     , -0.     , -0.     ,  0.     ,  0.     ,  0.     ,  0.     ,  0.     ,  0.     ,  0.     ,  0.     ,  0.     ,  0.     ,  0.     ,  0.     ,  0.     ,  0.     ,  0.     ,  0.     ,  0.     ,  0.     ,  0.     ,  0.     ,  0.     ,  0.     ,  0.     ,  0.     ,  0.     ,  0.     ,  0.     ,  0.     ,  0.     ,  0.     ,  0.     ,  0.     ,  0.     ,  0.     ,  0.     ,  0.     ,  0.     ,  0.     ,  0.     ,  0.     ,  0.     ,  0.     ,  0.     ,  0.     ,  0.     ,  0.     ,  0.     ,  0.     ,  0.     ,  0.     ,  0.     ,  0.     ,  0.     ,  0.     ,  0.     ,  0.     ,  0.     ,  0.     ,  0.     ,  0.     ,  0.     ,  0.     ,  0.     ,  0.     ,  0.     ,  0.     ,  0.     ,  0.     ,  0.     ,  0.     ,  0.     ,  0.     ,  0.     ,  0.     ,  0.     ,  0.     ,  0.     ,  0.     ,  0.     ,  0.     ,  0.     ,  0.     ,  0.     ,  0.     ,  0.     ,  0.     ,  0.     ,  0.     ,  0.     ,  0.     ,  0.     ,  0.     ,  0.     ,  0.     ,  0.     ,  0.     ,  0.     ,  0.     ,  0.     ,  0.     ,  0.     ,  0.     , -0.     ,  0.     , -0.     ,  0.00001, -0.     , -0.     , -0.00001,  0.     , -0.     , -0.     , -0.     ,  0.04201, -0.03247,  0.06575, -0.06245,  0.04828, -0.09775,  0.     ,  0.     , -0.     ,  0.06578, -0.10558,  0.03221, -0.09779,  0.15696, -0.04788, -0.     ,  0.00001, -0.     , -0.     ,  0.     , -0.     ,  0.     , -0.     ,  0.     ,  0.04201, -0.03247,  0.06575,  0.     ,  0.     ,  0.     , -0.     , -0.     , -0.     ,  0.06578, -0.10558,  0.03221, -0.     , -0.     ,  0.     ,  0.     ,  0.     , -0.     , -0.     , -0.00001,  0.     ,  0.     , -0.     ,  0.     , -0.     ,  0.     , -0.     , -0.06245,  0.04828, -0.09775, -0.     , -0.     , -0.     ,  0.     ,  0.     ,  0.     , -0.09779,  0.15696, -0.04788,  0.     ,  0.     , -0.     , -0.     , -0.     ,  0.     , -0.     ,  0.     ,  0.     ,  0.     , -0.     , -0.     , -0.     ,  0.     ,  0.     ,  0.     ,  0.     ,  0.     ,  0.     ,  0.     ,  0.     ,  0.     ,  0.     ,  0.     ,  0.     ,  0.     ,  0.     ,  0.     ,  0.     ,  0.     ,  0.     ,  0.     ,  0.     ,  0.     , -0.     , -0.     ,  0.     , -0.     , -0.     , -0.     ,  0.     ,  0.     ,  0.     ,  0.     ,  0.     ,  0.     ,  0.     ,  0.     ,  0.     ,  0.     ,  0.     ,  0.     ,  0.     ,  0.     ,  0.     ,  0.     ,  0.     ,  0.     ,  0.     ,  0.     , -0.     ,  0.     ,  0.     , -0.     ,  0.     ,  0.     ,  0.     , -0.     , -0.     ,  0.     ,  0.     ,  0.     ,  0.     ,  0.     ,  0.     ,  0.     ,  0.     ,  0.     ,  0.     ,  0.     ,  0.     ,  0.     ,  0.     ,  0.     ,  0.     ,  0.     ,  0.     ,  0.     ,  0.     ,  0.     ,  0.     ,  0.     ,  0.     ,  0.     ,  0.     ,  0.     ,  0.     ,  0.     ,  0.     ,  0.     ,  0.     ,  0.     ,  0.     ,  0.     ,  0.     ,  0.     ,  0.     ,  0.     ,  0.     ,  0.     ,  0.     ,  0.     ,  0.     ,  0.     ,  0.     ,  0.     ,  0.     ,  0.     ,  0.     ,  0.     ,  0.     ,  0.     ,  0.     ,  0.     ,  0.     ,  0.     ,  0.     ,  0.     ,  0.     ,  0.     ,  0.     ,  0.     ,  0.     ,  0.     ,  0.     ,  0.     ,  0.     ,  0.     ,  0.     ,  0.     ,  0.     ,  0.     ,  0.     ,  0.     ,  0.     ,  0.     ,  0.     ,  0.     ,  0.     ,  0.     ,  0.     ,  0.     ,  0.     ,  0.     ,  0.     ,  0.     ,  0.     ,  0.     ,  0.     ,  0.     ,  0.     ,  0.     ,  0.     ,  0.     ,  0.     ,  0.     ,  0.     ,  0.     ],\n",
       "       [ 0.     , -0.     ,  0.     , -0.     ,  0.     , -0.     , -0.     , -0.     ,  0.     , -0.00001, -0.00003,  0.00007,  0.     , -0.     , -0.     , -0.     , -0.     , -0.     ,  0.00004,  0.00006, -0.00005,  0.     ,  0.     ,  0.     , -0.     , -0.     , -0.     , -0.     ,  0.     , -0.     ,  0.     ,  0.     , -0.     ,  0.     , -0.     ,  0.     ,  0.     ,  0.     , -0.     ,  0.     ,  0.00001, -0.00002, -0.     , -0.00001,  0.00002,  0.     ,  0.     ,  0.     , -0.00001, -0.00002,  0.00002,  0.00001,  0.00001, -0.00001,  0.     , -0.     , -0.     ,  0.     , -0.     ,  0.     ,  0.     ,  0.     , -0.     , -0.     ,  0.     , -0.     , -0.     , -0.00001,  0.00002,  0.     ,  0.00001, -0.00002, -0.     , -0.     , -0.     ,  0.00001,  0.00001, -0.00001, -0.00001, -0.00002,  0.00002, -0.0222 ,  0.02525,  0.00705,  0.     ,  0.     , -0.     , -0.     , -0.     ,  0.     , -0.04761, -0.06878,  0.06725, -0.     ,  0.     , -0.     , -0.     ,  0.     ,  0.     ,  0.05606,  0.0133 , -0.03591,  0.     ,  0.     ,  0.     , -0.     , -0.     , -0.     ,  0.     ,  0.     , -0.     ,  0.00688, -0.00782, -0.00218, -0.00463,  0.00526,  0.00147, -0.     ,  0.     ,  0.     ,  0.01475,  0.02131, -0.02084, -0.00992, -0.01434,  0.01402,  0.     , -0.     , -0.     , -0.01737, -0.00412,  0.01113,  0.01169,  0.00277, -0.00749, -0.     , -0.     ,  0.     , -0.00463,  0.00526,  0.00147,  0.00688, -0.00782, -0.00218,  0.     ,  0.     ,  0.     , -0.00992, -0.01434,  0.01402,  0.01475,  0.02131, -0.02084, -0.     ,  0.     , -0.     ,  0.01169,  0.00277, -0.00749, -0.01737, -0.00412,  0.01113,  0.14528,  0.01616, -0.07885,  0.     , -0.     ,  0.     , -0.     ,  0.     , -0.     , -0.4964 , -0.46876,  0.17259,  0.     ,  0.     , -0.     , -0.     ,  0.     ,  0.     ,  0.0311 , -0.03982,  0.03221, -0.     ,  0.     , -0.     , -0.     , -0.     ,  0.     ,  0.     , -0.     ,  0.     , -0.04502, -0.00501,  0.02443,  0.03028,  0.00337, -0.01643,  0.     , -0.     , -0.     ,  0.15382,  0.14526, -0.05348, -0.10347, -0.09771,  0.03597, -0.     ,  0.     , -0.     , -0.00964,  0.01234, -0.00998,  0.00648, -0.0083 ,  0.00671, -0.     ,  0.     , -0.     ,  0.03028,  0.00337, -0.01643, -0.04502, -0.00501,  0.02443, -0.     , -0.     ,  0.     , -0.10347, -0.09771,  0.03597,  0.15382,  0.14526, -0.05348,  0.     , -0.     ,  0.     ,  0.00648, -0.0083 ,  0.00671, -0.00964,  0.01234, -0.00998, -0.     ,  0.     ,  0.     ,  0.     ,  0.     , -0.     , -0.     , -0.     ,  0.     ,  0.     , -0.     ,  0.     ,  0.     ,  0.00001, -0.00002, -0.     , -0.00001,  0.00002,  0.     ,  0.     ,  0.     , -0.00001, -0.00002,  0.00002,  0.00001,  0.00001, -0.00001, -0.     ,  0.     , -0.     , -0.     , -0.     ,  0.     , -0.     ,  0.     ,  0.     ,  0.     ,  0.00001, -0.00002, -0.     , -0.     , -0.     ,  0.     , -0.     ,  0.     , -0.00001, -0.00002,  0.00002, -0.     , -0.     , -0.     ,  0.     ,  0.     ,  0.     , -0.     , -0.     ,  0.     ,  0.     , -0.     , -0.     , -0.     ,  0.     ,  0.     , -0.     , -0.00001,  0.00002,  0.     ,  0.     ,  0.     , -0.     ,  0.     , -0.     ,  0.00001,  0.00001, -0.00001,  0.     ,  0.     ,  0.     , -0.     , -0.     ,  0.     ,  0.     ,  0.     , -0.     ,  0.00688, -0.00782, -0.00218, -0.00463,  0.00526,  0.00147,  0.     ,  0.     , -0.     ,  0.01475,  0.02131, -0.02084, -0.00992, -0.01434,  0.01402,  0.     , -0.     ,  0.     , -0.01737, -0.00412,  0.01113,  0.01169,  0.00277, -0.00749,  0.00688, -0.00782, -0.00218, -0.     , -0.     ,  0.     , -0.     ,  0.     ,  0.     ,  0.01475,  0.02131, -0.02084,  0.     , -0.     ,  0.     ,  0.     ,  0.     ,  0.     , -0.01737, -0.00412,  0.01113, -0.     ,  0.     , -0.     ,  0.     , -0.     , -0.     , -0.00463,  0.00526,  0.00147,  0.     ,  0.     , -0.     , -0.     , -0.     , -0.     , -0.00992, -0.01434,  0.01402, -0.     , -0.     , -0.     ,  0.     , -0.     ,  0.     ,  0.01169,  0.00277, -0.00749, -0.     , -0.     ,  0.     , -0.     ,  0.     , -0.     ,  0.     , -0.     ,  0.     , -0.04502, -0.00501,  0.02443,  0.03028,  0.00337, -0.01643,  0.     ,  0.     , -0.     ,  0.15382,  0.14526, -0.05348, -0.10347, -0.09771,  0.03597, -0.     ,  0.     , -0.     , -0.00964,  0.01234, -0.00998,  0.00648, -0.0083 ,  0.00671, -0.04502, -0.00501,  0.02443, -0.     ,  0.     , -0.     ,  0.     , -0.     ,  0.     ,  0.15382,  0.14526, -0.05348, -0.     ,  0.     ,  0.     ,  0.     , -0.     , -0.     , -0.00964,  0.01234, -0.00998,  0.     , -0.     ,  0.     ,  0.     ,  0.     , -0.     ,  0.03028,  0.00337, -0.01643,  0.     , -0.     ,  0.     , -0.     ,  0.     , -0.     , -0.10347, -0.09771,  0.03597,  0.     , -0.     , -0.     , -0.     ,  0.     ,  0.     ,  0.00648, -0.0083 ,  0.00671,  0.     ,  0.     , -0.     , -0.     , -0.     ,  0.     ,  0.     , -0.     ,  0.     , -0.     , -0.     ,  0.     , -0.     ,  0.     , -0.     , -0.     , -0.     ,  0.     , -0.     , -0.00001,  0.00002,  0.     ,  0.00001, -0.00002, -0.     , -0.     , -0.     ,  0.00001,  0.00001, -0.00001, -0.00001, -0.00002,  0.00002, -0.     , -0.     ,  0.     , -0.     ,  0.     , -0.     ,  0.     , -0.     ,  0.     , -0.     , -0.00001,  0.00002,  0.     ,  0.     , -0.     , -0.     , -0.     ,  0.     ,  0.00001,  0.00001, -0.00001,  0.     ,  0.     ,  0.     , -0.     , -0.     , -0.     , -0.     ,  0.     , -0.     , -0.     , -0.     , -0.     , -0.     ,  0.     , -0.     ,  0.     ,  0.00001, -0.00002, -0.     ,  0.     ,  0.     ,  0.     ,  0.     ,  0.     , -0.00001, -0.00002,  0.00002, -0.     , -0.     , -0.     ,  0.     ,  0.     ,  0.     , -0.     , -0.     ,  0.     , -0.00463,  0.00526,  0.00147,  0.00688, -0.00782, -0.00218,  0.     ,  0.     , -0.     , -0.00992, -0.01434,  0.01402,  0.01475,  0.02131, -0.02084, -0.     ,  0.     , -0.     ,  0.01169,  0.00277, -0.00749, -0.01737, -0.00412,  0.01113, -0.00463,  0.00526,  0.00147,  0.     ,  0.     , -0.     ,  0.     , -0.     ,  0.     , -0.00992, -0.01434,  0.01402,  0.     , -0.     , -0.     , -0.     , -0.     , -0.     ,  0.01169,  0.00277, -0.00749,  0.     , -0.     ,  0.     , -0.     ,  0.     , -0.     ,  0.00688, -0.00782, -0.00218, -0.     , -0.     ,  0.     ,  0.     ,  0.     , -0.     ,  0.01475,  0.02131, -0.02084,  0.     ,  0.     ,  0.     , -0.     , -0.     , -0.     , -0.01737, -0.00412,  0.01113, -0.     , -0.     , -0.     ,  0.     , -0.     ,  0.     , -0.     ,  0.     , -0.     ,  0.03028,  0.00337, -0.01643, -0.04502, -0.00501,  0.02443, -0.     , -0.     ,  0.     , -0.10347, -0.09771,  0.03597,  0.15382,  0.14526, -0.05348,  0.     , -0.     ,  0.     ,  0.00648, -0.0083 ,  0.00671, -0.00964,  0.01234, -0.00998,  0.03028,  0.00337, -0.01643,  0.     , -0.     ,  0.     ,  0.     ,  0.     , -0.     , -0.10347, -0.09771,  0.03597,  0.     , -0.     , -0.     , -0.     , -0.     ,  0.     ,  0.00648, -0.0083 ,  0.00671,  0.     ,  0.     , -0.     ,  0.     , -0.     ,  0.     , -0.04502, -0.00501,  0.02443, -0.     ,  0.     , -0.     , -0.     , -0.     ,  0.     ,  0.15382,  0.14526, -0.05348, -0.     , -0.     ,  0.     ,  0.     , -0.     , -0.     , -0.00964,  0.01234, -0.00998, -0.     , -0.     ,  0.     ,  0.     ,  0.     , -0.     ],\n",
       "       [ 0.     ,  0.     , -0.     , -0.     , -0.     , -0.     ,  0.     ,  0.     ,  0.     ,  0.00002,  0.00004, -0.00011,  0.     ,  0.     , -0.     , -0.     , -0.     ,  0.     , -0.00006, -0.00009,  0.00009, -0.     ,  0.     , -0.     ,  0.     ,  0.     ,  0.     , -0.     , -0.     , -0.     , -0.     , -0.     ,  0.     , -0.     ,  0.     , -0.     ,  0.     ,  0.     , -0.     , -0.00001, -0.00001,  0.00004,  0.     ,  0.00001, -0.00002, -0.     ,  0.     , -0.     ,  0.00002,  0.00003, -0.00003, -0.00001, -0.00002,  0.00002,  0.     ,  0.     ,  0.     , -0.     ,  0.     , -0.     , -0.     , -0.     ,  0.     , -0.     , -0.     ,  0.     ,  0.     ,  0.00001, -0.00002, -0.00001, -0.00001,  0.00004,  0.     ,  0.     ,  0.     , -0.00001, -0.00002,  0.00002,  0.00002,  0.00003, -0.00003,  0.03442, -0.16097, -0.29215, -0.     , -0.     ,  0.     ,  0.     ,  0.     , -0.     ,  0.30117,  0.15549, -0.17939, -0.     , -0.     ,  0.     ,  0.     ,  0.     , -0.     , -0.20457,  0.21307, -0.37693,  0.     ,  0.     ,  0.     , -0.     , -0.     ,  0.     , -0.     , -0.     ,  0.     , -0.01067,  0.04988,  0.09053,  0.00718, -0.03355, -0.0609 , -0.     , -0.     ,  0.     , -0.09333, -0.04818,  0.05559,  0.06278,  0.03241, -0.03739,  0.     ,  0.     , -0.     ,  0.06339, -0.06603,  0.1168 , -0.04264,  0.04441, -0.07857,  0.     ,  0.     , -0.     ,  0.00718, -0.03355, -0.0609 , -0.01067,  0.04988,  0.09053,  0.     ,  0.     , -0.     ,  0.06278,  0.03241, -0.03739, -0.09333, -0.04818,  0.05559, -0.     , -0.     ,  0.     , -0.04264,  0.04441, -0.07857,  0.06339, -0.06603,  0.1168 ,  0.21095,  0.02342, -0.10264, -0.     ,  0.     , -0.     ,  0.     ,  0.     ,  0.     ,  0.00008, -0.00002,  0.     ,  0.     ,  0.     , -0.     , -0.     , -0.     ,  0.     , -0.     , -0.     ,  0.     , -0.     ,  0.     ,  0.     , -0.     ,  0.     ,  0.     , -0.     ,  0.     , -0.     , -0.06537, -0.00726,  0.03181,  0.04397,  0.00488, -0.02139,  0.     ,  0.     , -0.     , -0.00003,  0.     , -0.     ,  0.00002, -0.     ,  0.     , -0.     ,  0.     ,  0.     ,  0.     ,  0.     , -0.     , -0.     , -0.     ,  0.     ,  0.     , -0.     ,  0.     ,  0.04397,  0.00488, -0.02139, -0.06537, -0.00726,  0.03181, -0.     , -0.     ,  0.     ,  0.00002, -0.     ,  0.     , -0.00003,  0.     , -0.     , -0.     ,  0.     ,  0.     , -0.     , -0.     ,  0.     ,  0.     ,  0.     , -0.     , -0.     , -0.     , -0.     , -0.     , -0.     ,  0.     , -0.     ,  0.     , -0.     ,  0.     ,  0.     , -0.     , -0.00001, -0.00001,  0.00004,  0.     ,  0.00001, -0.00002, -0.     ,  0.     , -0.     ,  0.00002,  0.00003, -0.00003, -0.00001, -0.00002,  0.00002, -0.     , -0.     ,  0.     ,  0.     ,  0.     ,  0.     , -0.     , -0.     , -0.     , -0.00001, -0.00001,  0.00004, -0.     , -0.     ,  0.     ,  0.     ,  0.     , -0.     ,  0.00002,  0.00003, -0.00003,  0.     , -0.     ,  0.     ,  0.     , -0.     , -0.     ,  0.     ,  0.     , -0.     , -0.     ,  0.     , -0.     ,  0.     ,  0.     , -0.     ,  0.     ,  0.00001, -0.00002,  0.     ,  0.     , -0.     , -0.     , -0.     ,  0.     , -0.00001, -0.00002,  0.00002,  0.     ,  0.     , -0.     ,  0.     , -0.     ,  0.     , -0.     , -0.     ,  0.     , -0.01067,  0.04988,  0.09053,  0.00718, -0.03355, -0.0609 , -0.     , -0.     ,  0.     , -0.09333, -0.04818,  0.05559,  0.06278,  0.03241, -0.03739,  0.     ,  0.     ,  0.     ,  0.06339, -0.06603,  0.1168 , -0.04264,  0.04441, -0.07857, -0.01067,  0.04988,  0.09053,  0.     ,  0.     , -0.     , -0.     , -0.     ,  0.     , -0.09333, -0.04818,  0.05559,  0.     ,  0.     , -0.     , -0.     , -0.     ,  0.     ,  0.06339, -0.06603,  0.1168 , -0.     , -0.     , -0.     ,  0.     ,  0.     ,  0.     ,  0.00718, -0.03355, -0.0609 , -0.     , -0.     ,  0.     ,  0.     ,  0.     , -0.     ,  0.06278,  0.03241, -0.03739, -0.     , -0.     ,  0.     ,  0.     ,  0.     , -0.     , -0.04264,  0.04441, -0.07857,  0.     ,  0.     ,  0.     , -0.     , -0.     ,  0.     , -0.     ,  0.     , -0.     , -0.06537, -0.00726,  0.03181,  0.04397,  0.00488, -0.02139,  0.     ,  0.     , -0.     , -0.00003,  0.     , -0.     ,  0.00002, -0.     ,  0.     , -0.     ,  0.     ,  0.     ,  0.     ,  0.     , -0.     , -0.     , -0.     ,  0.     , -0.06537, -0.00726,  0.03181,  0.     , -0.     ,  0.     , -0.     ,  0.     , -0.     , -0.00003,  0.     , -0.     , -0.     , -0.     ,  0.     ,  0.     ,  0.     , -0.     ,  0.     ,  0.     , -0.     ,  0.     , -0.     , -0.     , -0.     ,  0.     ,  0.     ,  0.04397,  0.00488, -0.02139, -0.     ,  0.     , -0.     ,  0.     , -0.     ,  0.     ,  0.00002, -0.     ,  0.     ,  0.     ,  0.     , -0.     , -0.     , -0.     ,  0.     , -0.     , -0.     ,  0.     ,  0.     , -0.     , -0.     , -0.     ,  0.     ,  0.     ,  0.     ,  0.     ,  0.     ,  0.     ,  0.     , -0.     ,  0.     , -0.     ,  0.     , -0.     , -0.     ,  0.     ,  0.     ,  0.00001, -0.00002, -0.00001, -0.00001,  0.00004,  0.     , -0.     ,  0.     , -0.00001, -0.00002,  0.00002,  0.00002,  0.00003, -0.00003,  0.     ,  0.     , -0.     , -0.     , -0.     ,  0.     ,  0.     ,  0.     , -0.     ,  0.     ,  0.00001, -0.00002,  0.     ,  0.     , -0.     , -0.     , -0.     ,  0.     , -0.00001, -0.00002,  0.00002, -0.     ,  0.     , -0.     ,  0.     ,  0.     ,  0.     ,  0.     , -0.     ,  0.     ,  0.     ,  0.     ,  0.     , -0.     , -0.     , -0.     , -0.00001, -0.00001,  0.00004, -0.     , -0.     ,  0.     ,  0.     ,  0.     , -0.     ,  0.00002,  0.00003, -0.00003, -0.     ,  0.     ,  0.     , -0.     ,  0.     , -0.     ,  0.     ,  0.     , -0.     ,  0.00718, -0.03355, -0.0609 , -0.01067,  0.04988,  0.09053,  0.     ,  0.     , -0.     ,  0.06278,  0.03241, -0.03739, -0.09333, -0.04818,  0.05559, -0.     , -0.     ,  0.     , -0.04264,  0.04441, -0.07857,  0.06339, -0.06603,  0.1168 ,  0.00718, -0.03355, -0.0609 , -0.     , -0.     ,  0.     ,  0.     ,  0.     , -0.     ,  0.06278,  0.03241, -0.03739, -0.     , -0.     ,  0.     ,  0.     ,  0.     , -0.     , -0.04264,  0.04441, -0.07857,  0.     ,  0.     , -0.     , -0.     , -0.     ,  0.     , -0.01067,  0.04988,  0.09053,  0.     , -0.     , -0.     , -0.     , -0.     ,  0.     , -0.09333, -0.04818,  0.05559,  0.     ,  0.     , -0.     , -0.     , -0.     ,  0.     ,  0.06339, -0.06603,  0.1168 , -0.     , -0.     ,  0.     ,  0.     ,  0.     ,  0.     ,  0.     , -0.     ,  0.     ,  0.04397,  0.00488, -0.02139, -0.06537, -0.00726,  0.03181, -0.     , -0.     ,  0.     ,  0.00002, -0.     ,  0.     , -0.00003,  0.     , -0.     , -0.     ,  0.     ,  0.     , -0.     , -0.     ,  0.     ,  0.     ,  0.     , -0.     ,  0.04397,  0.00488, -0.02139, -0.     ,  0.     , -0.     ,  0.     , -0.     ,  0.     ,  0.00002, -0.     ,  0.     ,  0.     ,  0.     , -0.     , -0.     , -0.     ,  0.     , -0.     , -0.     ,  0.     ,  0.     , -0.     , -0.     , -0.     ,  0.     ,  0.     , -0.06537, -0.00726,  0.03181,  0.     , -0.     ,  0.     , -0.     ,  0.     , -0.     , -0.00003,  0.     , -0.     , -0.     , -0.     ,  0.     ,  0.     ,  0.     , -0.     ,  0.     ,  0.     , -0.     ,  0.     , -0.     , -0.     ,  0.     , -0.     , -0.     ],\n",
       "       [ 0.     ,  0.00001, -0.     ,  0.     , -0.     ,  0.     , -0.     , -0.     , -0.     ,  0.06698,  0.15844, -0.46197,  0.     ,  0.     ,  0.     , -0.     , -0.     , -0.     , -0.2396 , -0.35394,  0.34454, -0.     , -0.     , -0.     ,  0.     ,  0.     ,  0.     ,  0.     , -0.     ,  0.     , -0.     , -0.     ,  0.     , -0.     ,  0.     , -0.     ,  0.     ,  0.     ,  0.     , -0.02076, -0.0491 ,  0.14315,  0.01396,  0.03303, -0.09629, -0.     , -0.     , -0.     ,  0.07425,  0.10968, -0.10677, -0.04994, -0.07378,  0.07182, -0.     , -0.     , -0.     ,  0.     ,  0.     , -0.     ,  0.     , -0.     ,  0.     , -0.     , -0.     , -0.     ,  0.01396,  0.03303, -0.09629, -0.02076, -0.0491 ,  0.14315, -0.     ,  0.     ,  0.     , -0.04994, -0.07378,  0.07182,  0.07425,  0.10968, -0.10677, -0.0039 ,  0.     ,  0.     ,  0.     ,  0.     ,  0.     , -0.     , -0.     , -0.     ,  0.     , -0.     , -0.     ,  0.     ,  0.     ,  0.     , -0.     ,  0.     ,  0.     ,  0.     ,  0.     , -0.     , -0.     , -0.     , -0.     , -0.     , -0.     , -0.     ,  0.     ,  0.     ,  0.     ,  0.00121, -0.     , -0.     , -0.00081,  0.     ,  0.     ,  0.     ,  0.     ,  0.     , -0.     ,  0.     ,  0.     ,  0.     , -0.     , -0.     , -0.     , -0.     , -0.     ,  0.     ,  0.     ,  0.     ,  0.     ,  0.     ,  0.     , -0.     , -0.     , -0.     , -0.00081,  0.     ,  0.     ,  0.00121, -0.     , -0.     , -0.     , -0.     , -0.     ,  0.     , -0.     , -0.     , -0.     ,  0.     ,  0.     , -0.     , -0.     , -0.     ,  0.     ,  0.     ,  0.     ,  0.     ,  0.     ,  0.     ,  0.     ,  0.     ,  0.     ,  0.     ,  0.     ,  0.     , -0.     , -0.     , -0.     , -0.     , -0.     ,  0.     , -0.     ,  0.     ,  0.     , -0.     ,  0.     ,  0.     ,  0.     ,  0.     ,  0.     ,  0.     ,  0.     ,  0.     ,  0.     ,  0.     ,  0.     ,  0.     ,  0.     ,  0.     ,  0.     ,  0.     ,  0.     ,  0.     ,  0.     ,  0.     , -0.     ,  0.     ,  0.     , -0.     , -0.     ,  0.     , -0.     , -0.     ,  0.     ,  0.     ,  0.     ,  0.     ,  0.     ,  0.     ,  0.     ,  0.     ,  0.     ,  0.     , -0.     , -0.     , -0.     ,  0.     ,  0.     ,  0.     ,  0.     ,  0.     ,  0.     , -0.     ,  0.     ,  0.     , -0.     , -0.     ,  0.     , -0.     , -0.     ,  0.     ,  0.     ,  0.     ,  0.     ,  0.     ,  0.     ,  0.     ,  0.     ,  0.     ,  0.     ,  0.     ,  0.     ,  0.     ,  0.     , -0.     ,  0.     ,  0.     ,  0.     , -0.     ,  0.     ,  0.     ,  0.     , -0.02076, -0.0491 ,  0.14315,  0.01396,  0.03303, -0.09629, -0.     , -0.     , -0.     ,  0.07425,  0.10968, -0.10677, -0.04994, -0.07378,  0.07182,  0.     , -0.     ,  0.     , -0.     ,  0.     , -0.     , -0.     ,  0.     ,  0.     , -0.02076, -0.0491 ,  0.14315,  0.     , -0.     , -0.     , -0.     ,  0.     ,  0.     ,  0.07425,  0.10968, -0.10677,  0.     ,  0.     ,  0.     , -0.     , -0.     , -0.     , -0.     ,  0.     , -0.     ,  0.     ,  0.     ,  0.     , -0.     , -0.     ,  0.     ,  0.01396,  0.03303, -0.09629, -0.     ,  0.     ,  0.     ,  0.     , -0.     , -0.     , -0.04994, -0.07378,  0.07182, -0.     , -0.     , -0.     , -0.     ,  0.     , -0.     ,  0.     ,  0.     ,  0.     ,  0.00121, -0.     , -0.     , -0.00081,  0.     ,  0.     ,  0.     ,  0.     ,  0.     , -0.     ,  0.     ,  0.     ,  0.     , -0.     , -0.     , -0.     , -0.     , -0.     ,  0.     ,  0.     ,  0.     ,  0.     ,  0.     ,  0.     ,  0.00121, -0.     , -0.     , -0.     , -0.     , -0.     ,  0.     ,  0.     ,  0.     , -0.     ,  0.     ,  0.     , -0.     , -0.     , -0.     ,  0.     ,  0.     ,  0.     ,  0.     ,  0.     ,  0.     ,  0.     ,  0.     ,  0.     ,  0.     ,  0.     ,  0.     , -0.00081,  0.     ,  0.     ,  0.     , -0.     ,  0.     , -0.     ,  0.     , -0.     ,  0.     , -0.     , -0.     ,  0.     , -0.     , -0.     ,  0.     ,  0.     , -0.     ,  0.     ,  0.     ,  0.     ,  0.     ,  0.     ,  0.     ,  0.     ,  0.     ,  0.     ,  0.     ,  0.     ,  0.     ,  0.     ,  0.     ,  0.     ,  0.     ,  0.     ,  0.     , -0.     ,  0.     ,  0.     , -0.     , -0.     ,  0.     , -0.     , -0.     ,  0.     ,  0.     ,  0.     ,  0.     ,  0.     ,  0.     ,  0.     ,  0.     ,  0.     ,  0.     ,  0.     ,  0.     ,  0.     , -0.     , -0.     , -0.     , -0.     ,  0.     ,  0.     , -0.     , -0.     ,  0.     , -0.     ,  0.     ,  0.     ,  0.     ,  0.     , -0.     ,  0.     ,  0.     ,  0.     ,  0.     ,  0.     ,  0.     ,  0.     ,  0.     ,  0.     ,  0.     ,  0.     ,  0.     ,  0.     ,  0.     ,  0.     , -0.     , -0.     , -0.     , -0.     , -0.     ,  0.     ,  0.     , -0.     , -0.     , -0.     ,  0.     , -0.     ,  0.     ,  0.     ,  0.     ,  0.     ,  0.     ,  0.     ,  0.     ,  0.     ,  0.     , -0.     , -0.     , -0.     ,  0.     ,  0.     , -0.     ,  0.     , -0.     ,  0.     , -0.     , -0.     , -0.     ,  0.01396,  0.03303, -0.09629, -0.02076, -0.0491 ,  0.14315,  0.     ,  0.     ,  0.     , -0.04994, -0.07378,  0.07182,  0.07425,  0.10968, -0.10677,  0.     ,  0.     , -0.     ,  0.     , -0.     ,  0.     , -0.     ,  0.     , -0.     ,  0.01396,  0.03303, -0.09629,  0.     ,  0.     , -0.     , -0.     , -0.     , -0.     , -0.04994, -0.07378,  0.07182,  0.     , -0.     ,  0.     ,  0.     ,  0.     ,  0.     , -0.     , -0.     ,  0.     , -0.     ,  0.     , -0.     ,  0.     ,  0.     ,  0.     , -0.02076, -0.0491 ,  0.14315, -0.     , -0.     , -0.     ,  0.     ,  0.     ,  0.     ,  0.07425,  0.10968, -0.10677,  0.     ,  0.     ,  0.     , -0.     , -0.     , -0.     , -0.     , -0.     , -0.     , -0.00081,  0.     ,  0.     ,  0.00121, -0.     , -0.     , -0.     , -0.     , -0.     ,  0.     , -0.     , -0.     , -0.     ,  0.     ,  0.     , -0.     , -0.     , -0.     ,  0.     ,  0.     ,  0.     ,  0.     ,  0.     ,  0.     , -0.00081,  0.     ,  0.     ,  0.     , -0.     ,  0.     , -0.     ,  0.     , -0.     ,  0.     , -0.     , -0.     ,  0.     , -0.     , -0.     ,  0.     ,  0.     , -0.     ,  0.     ,  0.     ,  0.     ,  0.     ,  0.     ,  0.     ,  0.     ,  0.     ,  0.     ,  0.00121, -0.     , -0.     , -0.     , -0.     , -0.     ,  0.     ,  0.     ,  0.     , -0.     ,  0.     ,  0.     , -0.     , -0.     ,  0.     ,  0.     ,  0.     , -0.     ,  0.     ,  0.     ,  0.     ,  0.     ,  0.     ,  0.     ,  0.     ,  0.     ,  0.     , -0.     , -0.     , -0.     ,  0.     ,  0.     ,  0.     ,  0.     ,  0.     ,  0.     , -0.     ,  0.     ,  0.     , -0.     , -0.     ,  0.     , -0.     , -0.     ,  0.     ,  0.     ,  0.     ,  0.     ,  0.     ,  0.     ,  0.     ,  0.     ,  0.     ,  0.     ,  0.     ,  0.     ,  0.     ,  0.     ,  0.     ,  0.     , -0.     , -0.     , -0.     , -0.     , -0.     ,  0.     ,  0.     , -0.     , -0.     , -0.     ,  0.     , -0.     ,  0.     ,  0.     ,  0.     ,  0.     ,  0.     ,  0.     ,  0.     ,  0.     ,  0.     ,  0.     ,  0.     ,  0.     ,  0.     , -0.     ,  0.     ,  0.     ,  0.     ,  0.     , -0.     , -0.     ,  0.     , -0.     ,  0.     ,  0.     , -0.     ,  0.     ,  0.     ,  0.     ,  0.     ,  0.     ,  0.     ,  0.     ,  0.     ,  0.     ,  0.     ,  0.     ],\n",
       "       [-0.73785, -0.00004, -0.00031,  0.     , -0.     , -0.     , -0.     ,  0.     ,  0.     , -0.     , -0.     , -0.     ,  0.     ,  0.     ,  0.     , -0.     , -0.     , -0.     ,  0.     ,  0.     ,  0.     ,  0.     ,  0.     ,  0.     ,  0.     ,  0.     ,  0.     ,  0.     , -0.     , -0.     ,  0.22864,  0.00001,  0.0001 , -0.1538 , -0.00001, -0.00006,  0.     ,  0.     ,  0.     ,  0.     ,  0.     ,  0.     , -0.     , -0.     , -0.     ,  0.     ,  0.     ,  0.     , -0.     ,  0.     ,  0.     ,  0.     , -0.     ,  0.     , -0.     ,  0.     ,  0.     , -0.1538 , -0.00001, -0.00006,  0.22864,  0.00001,  0.0001 , -0.     , -0.     , -0.     , -0.     , -0.     , -0.     ,  0.     ,  0.     ,  0.     ,  0.     ,  0.     ,  0.     ,  0.     , -0.     ,  0.     , -0.     ,  0.     ,  0.     ,  0.     ,  0.     ,  0.     ,  0.     ,  0.     ,  0.     ,  0.     ,  0.     ,  0.     ,  0.     ,  0.     ,  0.     ,  0.     ,  0.     ,  0.     ,  0.     ,  0.     ,  0.     ,  0.     ,  0.     ,  0.     ,  0.     ,  0.     ,  0.     ,  0.     ,  0.     ,  0.     ,  0.     ,  0.     ,  0.     ,  0.     ,  0.     ,  0.     ,  0.     ,  0.     ,  0.     ,  0.     ,  0.     ,  0.     ,  0.     ,  0.     ,  0.     ,  0.     ,  0.     ,  0.     ,  0.     ,  0.     ,  0.     ,  0.     ,  0.     ,  0.     ,  0.     ,  0.     ,  0.     ,  0.     ,  0.     ,  0.     ,  0.     ,  0.     ,  0.     ,  0.     ,  0.     ,  0.     ,  0.     ,  0.     ,  0.     ,  0.     ,  0.     ,  0.     ,  0.     ,  0.     ,  0.     ,  0.     ,  0.     ,  0.     ,  0.     ,  0.     ,  0.     ,  0.     ,  0.     ,  0.     ,  0.     ,  0.     ,  0.     ,  0.     ,  0.     ,  0.     ,  0.     ,  0.     ,  0.     ,  0.     ,  0.     ,  0.     ,  0.     ,  0.     ,  0.     ,  0.     ,  0.     ,  0.     ,  0.     ,  0.     ,  0.     ,  0.     ,  0.     ,  0.     ,  0.     ,  0.     ,  0.     ,  0.     ,  0.     ,  0.     ,  0.     ,  0.     ,  0.     ,  0.     ,  0.     ,  0.     ,  0.     ,  0.     ,  0.     ,  0.     ,  0.     ,  0.     ,  0.     ,  0.     ,  0.     ,  0.     ,  0.     ,  0.     ,  0.     ,  0.     ,  0.     ,  0.     ,  0.     ,  0.     ,  0.     ,  0.     ,  0.     ,  0.     ,  0.     ,  0.     ,  0.     ,  0.     ,  0.     ,  0.     ,  0.     ,  0.     ,  0.     ,  0.     ,  0.     ,  0.     ,  0.     ,  0.     ,  0.     ,  0.     ,  0.     ,  0.     ,  0.     ,  0.     ,  0.     ,  0.     ,  0.     ,  0.     , -0.     , -0.     ,  0.22864,  0.00001,  0.0001 , -0.1538 , -0.00001, -0.00006,  0.     ,  0.     ,  0.     ,  0.     ,  0.     ,  0.     , -0.     , -0.     , -0.     ,  0.     ,  0.     ,  0.     , -0.     ,  0.     ,  0.     ,  0.     , -0.     ,  0.     ,  0.22864,  0.00001,  0.0001 , -0.     ,  0.     ,  0.     ,  0.     , -0.     , -0.     ,  0.     ,  0.     ,  0.     , -0.     , -0.     , -0.     ,  0.     ,  0.     ,  0.     , -0.     ,  0.     ,  0.     ,  0.     ,  0.     ,  0.     ,  0.     ,  0.     ,  0.     , -0.1538 , -0.00001, -0.00006,  0.     , -0.     , -0.     , -0.     ,  0.     ,  0.     , -0.     , -0.     , -0.     ,  0.     ,  0.     ,  0.     , -0.     , -0.     , -0.     ,  0.     , -0.     ,  0.     ,  0.     ,  0.     ,  0.     ,  0.     ,  0.     ,  0.     ,  0.     ,  0.     ,  0.     ,  0.     ,  0.     ,  0.     ,  0.     ,  0.     ,  0.     ,  0.     ,  0.     ,  0.     ,  0.     ,  0.     ,  0.     ,  0.     ,  0.     ,  0.     ,  0.     ,  0.     ,  0.     ,  0.     ,  0.     ,  0.     ,  0.     ,  0.     ,  0.     ,  0.     ,  0.     ,  0.     ,  0.     ,  0.     ,  0.     ,  0.     ,  0.     ,  0.     ,  0.     ,  0.     ,  0.     ,  0.     ,  0.     ,  0.     ,  0.     ,  0.     ,  0.     ,  0.     ,  0.     ,  0.     ,  0.     ,  0.     ,  0.     ,  0.     ,  0.     ,  0.     ,  0.     ,  0.     ,  0.     ,  0.     ,  0.     ,  0.     ,  0.     ,  0.     ,  0.     ,  0.     ,  0.     ,  0.     ,  0.     ,  0.     ,  0.     ,  0.     ,  0.     ,  0.     ,  0.     ,  0.     ,  0.     ,  0.     ,  0.     ,  0.     ,  0.     ,  0.     ,  0.     ,  0.     ,  0.     ,  0.     ,  0.     ,  0.     ,  0.     ,  0.     ,  0.     ,  0.     ,  0.     ,  0.     ,  0.     ,  0.     ,  0.     ,  0.     ,  0.     ,  0.     ,  0.     ,  0.     ,  0.     ,  0.     ,  0.     ,  0.     ,  0.     ,  0.     ,  0.     ,  0.     ,  0.     ,  0.     ,  0.     ,  0.     ,  0.     ,  0.     ,  0.     ,  0.     ,  0.     ,  0.     ,  0.     ,  0.     ,  0.     ,  0.     ,  0.     ,  0.     ,  0.     ,  0.     ,  0.     ,  0.     ,  0.     ,  0.     ,  0.     ,  0.     ,  0.     ,  0.     ,  0.     ,  0.     ,  0.     ,  0.     ,  0.     ,  0.     ,  0.     ,  0.     ,  0.     ,  0.     ,  0.     ,  0.     ,  0.     ,  0.     ,  0.     ,  0.     ,  0.     ,  0.     ,  0.     ,  0.     ,  0.     ,  0.     ,  0.     ,  0.     ,  0.     ,  0.     ,  0.     ,  0.     , -0.     ,  0.     ,  0.     , -0.1538 , -0.00001, -0.00006,  0.22864,  0.00001,  0.0001 , -0.     , -0.     , -0.     , -0.     , -0.     , -0.     ,  0.     ,  0.     ,  0.     ,  0.     ,  0.     ,  0.     ,  0.     , -0.     ,  0.     , -0.     ,  0.     ,  0.     , -0.1538 , -0.00001, -0.00006,  0.     , -0.     , -0.     , -0.     ,  0.     ,  0.     , -0.     , -0.     , -0.     ,  0.     ,  0.     ,  0.     , -0.     , -0.     , -0.     ,  0.     , -0.     ,  0.     ,  0.     ,  0.     ,  0.     ,  0.     ,  0.     ,  0.     ,  0.22864,  0.00001,  0.0001 , -0.     ,  0.     ,  0.     ,  0.     , -0.     , -0.     ,  0.     ,  0.     ,  0.     , -0.     , -0.     , -0.     ,  0.     ,  0.     ,  0.     , -0.     ,  0.     ,  0.     ,  0.     ,  0.     ,  0.     ,  0.     ,  0.     ,  0.     ,  0.     ,  0.     ,  0.     ,  0.     ,  0.     ,  0.     ,  0.     ,  0.     ,  0.     ,  0.     ,  0.     ,  0.     ,  0.     ,  0.     ,  0.     ,  0.     ,  0.     ,  0.     ,  0.     ,  0.     ,  0.     ,  0.     ,  0.     ,  0.     ,  0.     ,  0.     ,  0.     ,  0.     ,  0.     ,  0.     ,  0.     ,  0.     ,  0.     ,  0.     ,  0.     ,  0.     ,  0.     ,  0.     ,  0.     ,  0.     ,  0.     ,  0.     ,  0.     ,  0.     ,  0.     ,  0.     ,  0.     ,  0.     ,  0.     ,  0.     ,  0.     ,  0.     ,  0.     ,  0.     ,  0.     ,  0.     ,  0.     ,  0.     ,  0.     ,  0.     ,  0.     ,  0.     ,  0.     ,  0.     ,  0.     ,  0.     ,  0.     ,  0.     ,  0.     ,  0.     ,  0.     ,  0.     ,  0.     ,  0.     ,  0.     ,  0.     ,  0.     ,  0.     ,  0.     ,  0.     ,  0.     ,  0.     ,  0.     ,  0.     ,  0.     ,  0.     ,  0.     ,  0.     ,  0.     ,  0.     ,  0.     ,  0.     ,  0.     ,  0.     ,  0.     ,  0.     ,  0.     ,  0.     ,  0.     ,  0.     ,  0.     ,  0.     ,  0.     ,  0.     ,  0.     ,  0.     ,  0.     ,  0.     ,  0.     ,  0.     ,  0.     ,  0.     ,  0.     ,  0.     ,  0.     ,  0.     ,  0.     ,  0.     ,  0.     ,  0.     ,  0.     ,  0.     ,  0.     ,  0.     ,  0.     ,  0.     ,  0.     ,  0.     ,  0.     ,  0.     ,  0.     ,  0.     ,  0.     ,  0.     ,  0.     ,  0.     ,  0.     ,  0.     ,  0.     ,  0.     ,  0.     ,  0.     ,  0.     ,  0.     ,  0.     ,  0.     ,  0.     ,  0.     ,  0.     ,  0.     ,  0.     ,  0.     ,  0.     ,  0.     ,  0.     ,  0.     ,  0.     ,  0.     ,  0.     ,  0.     ,  0.     ,  0.     ],\n",
       "       [ 0.     ,  0.     , -0.     , -0.     , -0.     , -0.     ,  0.     ,  0.     ,  0.     ,  0.00011,  0.00025, -0.00074,  0.     ,  0.     , -0.     , -0.     , -0.     ,  0.     , -0.00038, -0.00056,  0.00055,  0.     , -0.     , -0.     , -0.     ,  0.     ,  0.     , -0.     , -0.     , -0.     , -0.     , -0.     ,  0.     , -0.     ,  0.     , -0.     ,  0.     ,  0.     , -0.     , -0.00003, -0.00008,  0.00023,  0.00002,  0.00005, -0.00015,  0.     , -0.     , -0.     ,  0.00012,  0.00017, -0.00017, -0.00008, -0.00012,  0.00011,  0.     ,  0.     ,  0.     ,  0.     ,  0.     , -0.     ,  0.     , -0.     ,  0.     , -0.     , -0.     ,  0.     ,  0.00002,  0.00005, -0.00015, -0.00003, -0.00008,  0.00023, -0.     ,  0.     ,  0.     , -0.00008, -0.00012,  0.00011,  0.00012,  0.00017, -0.00017,  0.22253, -0.08186,  0.18433, -0.     , -0.     ,  0.     ,  0.     ,  0.     , -0.     ,  0.18882, -0.54877, -0.34266, -0.     ,  0.     ,  0.     ,  0.     , -0.     , -0.     , -0.     , -0.     ,  0.     , -0.     ,  0.     , -0.     ,  0.     , -0.     ,  0.     , -0.     ,  0.     ,  0.     , -0.06896,  0.02537, -0.05712,  0.04638, -0.01706,  0.03842, -0.     ,  0.     ,  0.     , -0.05851,  0.17005,  0.10618,  0.03936, -0.11439, -0.07143, -0.     ,  0.     , -0.     ,  0.     ,  0.     , -0.     , -0.     , -0.     ,  0.     ,  0.     , -0.     , -0.     ,  0.04638, -0.01706,  0.03842, -0.06896,  0.02537, -0.05712,  0.     , -0.     , -0.     ,  0.03936, -0.11439, -0.07143, -0.05851,  0.17005,  0.10618,  0.     , -0.     ,  0.     , -0.     , -0.     ,  0.     ,  0.     ,  0.     , -0.     ,  0.     ,  0.     ,  0.     ,  0.     ,  0.     ,  0.     ,  0.     ,  0.     ,  0.     ,  0.     ,  0.     ,  0.     ,  0.     ,  0.     ,  0.     ,  0.     ,  0.     ,  0.     ,  0.     ,  0.     ,  0.     ,  0.     ,  0.     ,  0.     ,  0.     ,  0.     ,  0.     ,  0.     ,  0.     ,  0.     ,  0.     ,  0.     ,  0.     ,  0.     ,  0.     ,  0.     ,  0.     ,  0.     ,  0.     ,  0.     ,  0.     ,  0.     ,  0.     ,  0.     ,  0.     ,  0.     ,  0.     ,  0.     ,  0.     ,  0.     ,  0.     ,  0.     ,  0.     ,  0.     ,  0.     ,  0.     ,  0.     ,  0.     ,  0.     ,  0.     ,  0.     ,  0.     ,  0.     ,  0.     ,  0.     ,  0.     ,  0.     ,  0.     ,  0.     ,  0.     ,  0.     ,  0.     ,  0.     ,  0.     ,  0.     ,  0.     ,  0.     ,  0.     ,  0.     ,  0.     ,  0.     , -0.     , -0.     ,  0.     , -0.     , -0.     ,  0.     , -0.     ,  0.     , -0.     ,  0.     ,  0.     , -0.     , -0.00003, -0.00008,  0.00023,  0.00002,  0.00005, -0.00015,  0.     , -0.     , -0.     ,  0.00012,  0.00017, -0.00017, -0.00008, -0.00012,  0.00011, -0.     , -0.     ,  0.     ,  0.     ,  0.     ,  0.     , -0.     , -0.     ,  0.     , -0.00003, -0.00008,  0.00023, -0.     , -0.     ,  0.     ,  0.     ,  0.     , -0.     ,  0.00012,  0.00017, -0.00017, -0.     ,  0.     ,  0.     ,  0.     , -0.     , -0.     , -0.     ,  0.     , -0.     , -0.     , -0.     ,  0.     ,  0.     ,  0.     ,  0.     ,  0.00002,  0.00005, -0.00015,  0.     ,  0.     , -0.     , -0.     , -0.     , -0.     , -0.00008, -0.00012,  0.00011,  0.     , -0.     , -0.     , -0.     ,  0.     ,  0.     , -0.     ,  0.     ,  0.     , -0.06896,  0.02537, -0.05712,  0.04638, -0.01706,  0.03842, -0.     ,  0.     ,  0.     , -0.05851,  0.17005,  0.10618,  0.03936, -0.11439, -0.07143, -0.     ,  0.     , -0.     ,  0.     ,  0.     , -0.     , -0.     , -0.     ,  0.     , -0.06896,  0.02537, -0.05712,  0.     ,  0.     , -0.     , -0.     , -0.     ,  0.     , -0.05851,  0.17005,  0.10618,  0.     , -0.     , -0.     , -0.     ,  0.     ,  0.     ,  0.     ,  0.     , -0.     ,  0.     , -0.     ,  0.     , -0.     ,  0.     , -0.     ,  0.04638, -0.01706,  0.03842, -0.     , -0.     ,  0.     ,  0.     ,  0.     , -0.     ,  0.03936, -0.11439, -0.07143, -0.     ,  0.     ,  0.     ,  0.     , -0.     , -0.     , -0.     , -0.     ,  0.     , -0.     ,  0.     , -0.     ,  0.     , -0.     ,  0.     ,  0.     ,  0.     ,  0.     ,  0.     ,  0.     ,  0.     ,  0.     ,  0.     ,  0.     ,  0.     ,  0.     ,  0.     ,  0.     ,  0.     ,  0.     ,  0.     ,  0.     ,  0.     ,  0.     ,  0.     ,  0.     ,  0.     ,  0.     ,  0.     ,  0.     ,  0.     ,  0.     ,  0.     ,  0.     ,  0.     ,  0.     ,  0.     ,  0.     ,  0.     ,  0.     ,  0.     ,  0.     ,  0.     ,  0.     ,  0.     ,  0.     ,  0.     ,  0.     ,  0.     ,  0.     ,  0.     ,  0.     ,  0.     ,  0.     ,  0.     ,  0.     ,  0.     ,  0.     ,  0.     ,  0.     ,  0.     ,  0.     ,  0.     ,  0.     ,  0.     ,  0.     ,  0.     ,  0.     ,  0.     ,  0.     ,  0.     ,  0.     ,  0.     ,  0.     ,  0.     ,  0.     ,  0.     ,  0.     ,  0.     ,  0.     ,  0.     ,  0.     ,  0.     ,  0.     ,  0.     ,  0.     ,  0.     ,  0.     , -0.     ,  0.     ,  0.     , -0.     ,  0.     , -0.     ,  0.     , -0.     , -0.     ,  0.     ,  0.00002,  0.00005, -0.00015, -0.00003, -0.00008,  0.00023, -0.     ,  0.     ,  0.     , -0.00008, -0.00012,  0.00011,  0.00012,  0.00017, -0.00017,  0.     ,  0.     , -0.     , -0.     , -0.     ,  0.     ,  0.     ,  0.     , -0.     ,  0.00002,  0.00005, -0.00015,  0.     , -0.     , -0.     , -0.     , -0.     , -0.     , -0.00008, -0.00012,  0.00011,  0.     , -0.     , -0.     , -0.     ,  0.     ,  0.     , -0.     , -0.     ,  0.     ,  0.     ,  0.     ,  0.     , -0.     , -0.     , -0.     , -0.00003, -0.00008,  0.00023, -0.     , -0.     ,  0.     ,  0.     ,  0.     , -0.     ,  0.00012,  0.00017, -0.00017, -0.     ,  0.     ,  0.     ,  0.     , -0.     , -0.     ,  0.     ,  0.     , -0.     ,  0.04638, -0.01706,  0.03842, -0.06896,  0.02537, -0.05712,  0.     , -0.     , -0.     ,  0.03936, -0.11439, -0.07143, -0.05851,  0.17005,  0.10618,  0.     , -0.     ,  0.     , -0.     , -0.     ,  0.     ,  0.     ,  0.     , -0.     ,  0.04638, -0.01706,  0.03842, -0.     , -0.     ,  0.     ,  0.     ,  0.     , -0.     ,  0.03936, -0.11439, -0.07143, -0.     ,  0.     ,  0.     ,  0.     , -0.     , -0.     , -0.     , -0.     ,  0.     , -0.     ,  0.     , -0.     ,  0.     , -0.     ,  0.     , -0.06896,  0.02537, -0.05712, -0.     ,  0.     , -0.     , -0.     , -0.     ,  0.     , -0.05851,  0.17005,  0.10618,  0.     , -0.     , -0.     , -0.     ,  0.     ,  0.     ,  0.     ,  0.     , -0.     ,  0.     , -0.     ,  0.     , -0.     ,  0.     , -0.     ,  0.     ,  0.     ,  0.     ,  0.     ,  0.     ,  0.     ,  0.     ,  0.     ,  0.     ,  0.     ,  0.     ,  0.     ,  0.     ,  0.     ,  0.     ,  0.     ,  0.     ,  0.     ,  0.     ,  0.     ,  0.     ,  0.     ,  0.     ,  0.     ,  0.     ,  0.     ,  0.     ,  0.     ,  0.     ,  0.     ,  0.     ,  0.     ,  0.     ,  0.     ,  0.     ,  0.     ,  0.     ,  0.     ,  0.     ,  0.     ,  0.     ,  0.     ,  0.     ,  0.     ,  0.     ,  0.     ,  0.     ,  0.     ,  0.     ,  0.     ,  0.     ,  0.     ,  0.     ,  0.     ,  0.     ,  0.     ,  0.     ,  0.     ,  0.     ,  0.     ,  0.     ,  0.     ,  0.     ,  0.     ,  0.     ,  0.     ,  0.     ,  0.     ,  0.     ,  0.     ,  0.     ,  0.     ,  0.     ,  0.     ,  0.     ,  0.     ,  0.     ,  0.     ,  0.     ,  0.     ,  0.     ],\n",
       "       [ 0.     ,  0.     , -0.     ,  0.     , -0.     ,  0.     , -0.     , -0.     , -0.     ,  0.     ,  0.00001, -0.00002, -0.     , -0.     ,  0.     ,  0.     ,  0.     , -0.     , -0.00001, -0.00001,  0.00001,  0.     , -0.     ,  0.     , -0.     ,  0.     , -0.     ,  0.     ,  0.     ,  0.     ,  0.     , -0.     ,  0.     ,  0.     ,  0.     , -0.     , -0.     , -0.     ,  0.     , -0.     , -0.     ,  0.00001,  0.     ,  0.     , -0.     ,  0.     , -0.     ,  0.     ,  0.     ,  0.     , -0.     , -0.     , -0.     ,  0.     , -0.     ,  0.     , -0.     ,  0.     ,  0.     , -0.     ,  0.     , -0.     ,  0.     ,  0.     ,  0.     , -0.     ,  0.     ,  0.     , -0.     , -0.     , -0.     ,  0.00001, -0.     ,  0.     , -0.     , -0.     , -0.     ,  0.     ,  0.     ,  0.     , -0.     ,  0.00586,  0.03217,  0.06274, -0.     , -0.     , -0.     ,  0.     ,  0.     ,  0.     , -0.03094,  0.00928, -0.00204, -0.     , -0.     , -0.     ,  0.     ,  0.     , -0.     ,  0.00028,  0.07153,  0.10007,  0.     , -0.     , -0.     ,  0.     , -0.     ,  0.     , -0.     , -0.     , -0.     , -0.00182, -0.00997, -0.01944,  0.00122,  0.0067 ,  0.01308, -0.     , -0.     , -0.     ,  0.00959, -0.00288,  0.00063, -0.00645,  0.00193, -0.00043, -0.     ,  0.     , -0.     , -0.00009, -0.02216, -0.03101,  0.00006,  0.01491,  0.02086,  0.     ,  0.     ,  0.     ,  0.00122,  0.0067 ,  0.01308, -0.00182, -0.00997, -0.01944,  0.     ,  0.     ,  0.     , -0.00645,  0.00193, -0.00043,  0.00959, -0.00288,  0.00063,  0.     ,  0.     ,  0.     ,  0.00006,  0.01491,  0.02086, -0.00009, -0.02216, -0.03101, -0.03208,  0.03928, -0.57679, -0.     , -0.     , -0.     ,  0.     ,  0.     ,  0.     , -0.05952,  0.01532, -0.4075 , -0.     , -0.     , -0.     ,  0.     ,  0.     ,  0.     ,  0.08948, -0.0387 ,  0.09292, -0.     , -0.     ,  0.     ,  0.     ,  0.     ,  0.     , -0.     , -0.     , -0.     ,  0.00994, -0.01217,  0.17873, -0.00669,  0.00819, -0.12023, -0.     , -0.     , -0.     ,  0.01844, -0.00475,  0.12627, -0.01241,  0.00319, -0.08494, -0.     , -0.     ,  0.     , -0.02773,  0.01199, -0.02879,  0.01865, -0.00807,  0.01937,  0.     ,  0.     ,  0.     , -0.00669,  0.00819, -0.12023,  0.00994, -0.01217,  0.17873, -0.     ,  0.     ,  0.     , -0.01241,  0.00319, -0.08494,  0.01844, -0.00475,  0.12627,  0.     ,  0.     ,  0.     ,  0.01865, -0.00807,  0.01937, -0.02773,  0.01199, -0.02879,  0.     , -0.     ,  0.     , -0.     , -0.     ,  0.     , -0.     ,  0.     , -0.     , -0.     , -0.     ,  0.     , -0.     , -0.     ,  0.00001,  0.     ,  0.     , -0.     ,  0.     , -0.     ,  0.     ,  0.     ,  0.     , -0.     , -0.     , -0.     ,  0.     , -0.     , -0.     ,  0.     , -0.     , -0.     , -0.     ,  0.     , -0.     ,  0.     , -0.     , -0.     ,  0.00001,  0.     ,  0.     , -0.     , -0.     , -0.     ,  0.     ,  0.     ,  0.     , -0.     , -0.     ,  0.     , -0.     ,  0.     , -0.     ,  0.     , -0.     ,  0.     , -0.     ,  0.     ,  0.     ,  0.     , -0.     ,  0.     ,  0.     ,  0.     ,  0.     , -0.     , -0.     , -0.     , -0.     ,  0.     ,  0.     , -0.     , -0.     , -0.     ,  0.     ,  0.     , -0.     ,  0.     , -0.     ,  0.     , -0.     , -0.     , -0.     , -0.     , -0.00182, -0.00997, -0.01944,  0.00122,  0.0067 ,  0.01308, -0.     , -0.     , -0.     ,  0.00959, -0.00288,  0.00063, -0.00645,  0.00193, -0.00043, -0.     ,  0.     , -0.     , -0.00009, -0.02216, -0.03101,  0.00006,  0.01491,  0.02086, -0.00182, -0.00997, -0.01944,  0.     ,  0.     ,  0.     ,  0.     , -0.     , -0.     ,  0.00959, -0.00288,  0.00063,  0.     ,  0.     ,  0.     , -0.     ,  0.     , -0.     , -0.00009, -0.02216, -0.03101,  0.     ,  0.     ,  0.     , -0.     ,  0.     , -0.     ,  0.00122,  0.0067 ,  0.01308, -0.     , -0.     , -0.     ,  0.     , -0.     ,  0.     , -0.00645,  0.00193, -0.00043, -0.     , -0.     ,  0.     ,  0.     ,  0.     ,  0.     ,  0.00006,  0.01491,  0.02086, -0.     ,  0.     , -0.     ,  0.     ,  0.     ,  0.     , -0.     , -0.     , -0.     ,  0.00994, -0.01217,  0.17873, -0.00669,  0.00819, -0.12023, -0.     , -0.     , -0.     ,  0.01844, -0.00475,  0.12627, -0.01241,  0.00319, -0.08494, -0.     , -0.     ,  0.     , -0.02773,  0.01199, -0.02879,  0.01865, -0.00807,  0.01937,  0.00994, -0.01217,  0.17873,  0.     ,  0.     ,  0.     , -0.     , -0.     , -0.     ,  0.01844, -0.00475,  0.12627,  0.     ,  0.     ,  0.     , -0.     , -0.     , -0.     , -0.02773,  0.01199, -0.02879,  0.     ,  0.     , -0.     , -0.     , -0.     , -0.     , -0.00669,  0.00819, -0.12023, -0.     , -0.     , -0.     ,  0.     ,  0.     ,  0.     , -0.01241,  0.00319, -0.08494,  0.     , -0.     , -0.     ,  0.     ,  0.     ,  0.     ,  0.01865, -0.00807,  0.01937, -0.     , -0.     , -0.     ,  0.     ,  0.     ,  0.     , -0.     , -0.     , -0.     ,  0.     ,  0.     , -0.     ,  0.     , -0.     ,  0.     ,  0.     ,  0.     , -0.     ,  0.     ,  0.     , -0.     , -0.     , -0.     ,  0.00001, -0.     ,  0.     , -0.     , -0.     , -0.     ,  0.     ,  0.     ,  0.     , -0.     ,  0.     ,  0.     , -0.     ,  0.     ,  0.     ,  0.     , -0.     ,  0.     , -0.     ,  0.     ,  0.     , -0.     , -0.     , -0.     , -0.     ,  0.     ,  0.     ,  0.     , -0.     , -0.     ,  0.     ,  0.     , -0.     ,  0.     , -0.     ,  0.     , -0.     , -0.     , -0.     ,  0.     , -0.     , -0.     , -0.     ,  0.     ,  0.     ,  0.     , -0.     , -0.     ,  0.00001,  0.     ,  0.     ,  0.     , -0.     , -0.     ,  0.     ,  0.     ,  0.     , -0.     , -0.     ,  0.     , -0.     ,  0.     , -0.     ,  0.     ,  0.     ,  0.     ,  0.     ,  0.00122,  0.0067 ,  0.01308, -0.00182, -0.00997, -0.01944,  0.     ,  0.     , -0.     , -0.00645,  0.00193, -0.00043,  0.00959, -0.00288,  0.00063, -0.     ,  0.     ,  0.     ,  0.00006,  0.01491,  0.02086, -0.00009, -0.02216, -0.03101,  0.00122,  0.0067 ,  0.01308,  0.     , -0.     ,  0.     ,  0.     ,  0.     ,  0.     , -0.00645,  0.00193, -0.00043, -0.     , -0.     ,  0.     ,  0.     , -0.     , -0.     ,  0.00006,  0.01491,  0.02086, -0.     , -0.     , -0.     ,  0.     ,  0.     ,  0.     , -0.00182, -0.00997, -0.01944,  0.     ,  0.     ,  0.     , -0.     , -0.     , -0.     ,  0.00959, -0.00288,  0.00063,  0.     ,  0.     , -0.     , -0.     , -0.     ,  0.     , -0.00009, -0.02216, -0.03101,  0.     ,  0.     ,  0.     , -0.     , -0.     , -0.     ,  0.     ,  0.     ,  0.     , -0.00669,  0.00819, -0.12023,  0.00994, -0.01217,  0.17873,  0.     ,  0.     ,  0.     , -0.01241,  0.00319, -0.08494,  0.01844, -0.00475,  0.12627,  0.     ,  0.     ,  0.     ,  0.01865, -0.00807,  0.01937, -0.02773,  0.01199, -0.02879, -0.00669,  0.00819, -0.12023, -0.     , -0.     , -0.     ,  0.     ,  0.     ,  0.     , -0.01241,  0.00319, -0.08494, -0.     , -0.     , -0.     ,  0.     ,  0.     ,  0.     ,  0.01865, -0.00807,  0.01937, -0.     , -0.     ,  0.     ,  0.     ,  0.     , -0.     ,  0.00994, -0.01217,  0.17873,  0.     ,  0.     ,  0.     , -0.     , -0.     , -0.     ,  0.01844, -0.00475,  0.12627,  0.     ,  0.     ,  0.     , -0.     , -0.     , -0.     , -0.02773,  0.01199, -0.02879,  0.     ,  0.     ,  0.     , -0.     , -0.     , -0.     ],\n",
       "       [-0.     , -0.72878,  0.0911 ,  0.     , -0.     , -0.     , -0.     ,  0.     ,  0.     , -0.01241, -0.06524, -0.0242 , -0.     , -0.     , -0.     ,  0.     ,  0.     ,  0.     ,  0.00002, -0.     , -0.     , -0.     ,  0.     , -0.     ,  0.     , -0.     ,  0.     ,  0.     , -0.     , -0.     ,  0.     ,  0.22583, -0.02823,  0.     , -0.15191,  0.01899, -0.     , -0.     , -0.     ,  0.00385,  0.02021,  0.0075 , -0.00259, -0.0136 , -0.00505, -0.     ,  0.     , -0.     , -0.     ,  0.     ,  0.     ,  0.     , -0.     , -0.     , -0.     ,  0.     ,  0.     ,  0.     , -0.15191,  0.01899, -0.     ,  0.22583, -0.02823,  0.     ,  0.     ,  0.     , -0.00259, -0.0136 , -0.00505,  0.00385,  0.02021,  0.0075 ,  0.     , -0.     ,  0.     ,  0.     , -0.     , -0.     , -0.     ,  0.     ,  0.     ,  0.     ,  0.     ,  0.     ,  0.     ,  0.     ,  0.     ,  0.     ,  0.     ,  0.     ,  0.     ,  0.     ,  0.     ,  0.     ,  0.     ,  0.     ,  0.     ,  0.     ,  0.     ,  0.     ,  0.     ,  0.     ,  0.     ,  0.     ,  0.     ,  0.     ,  0.     ,  0.     ,  0.     ,  0.     ,  0.     ,  0.     ,  0.     ,  0.     ,  0.     ,  0.     ,  0.     ,  0.     ,  0.     ,  0.     ,  0.     ,  0.     ,  0.     ,  0.     ,  0.     ,  0.     ,  0.     ,  0.     ,  0.     ,  0.     ,  0.     ,  0.     ,  0.     ,  0.     ,  0.     ,  0.     ,  0.     ,  0.     ,  0.     ,  0.     ,  0.     ,  0.     ,  0.     ,  0.     ,  0.     ,  0.     ,  0.     ,  0.     ,  0.     ,  0.     ,  0.     ,  0.     ,  0.     ,  0.     ,  0.     ,  0.     ,  0.     ,  0.     ,  0.     ,  0.     ,  0.     ,  0.     ,  0.     ,  0.     ,  0.     ,  0.     ,  0.     ,  0.     ,  0.     ,  0.     ,  0.     ,  0.     ,  0.     ,  0.     ,  0.     ,  0.     ,  0.     ,  0.     ,  0.     ,  0.     ,  0.     ,  0.     ,  0.     ,  0.     ,  0.     ,  0.     ,  0.     ,  0.     ,  0.     ,  0.     ,  0.     ,  0.     ,  0.     ,  0.     ,  0.     ,  0.     ,  0.     ,  0.     ,  0.     ,  0.     ,  0.     ,  0.     ,  0.     ,  0.     ,  0.     ,  0.     ,  0.     ,  0.     ,  0.     ,  0.     ,  0.     ,  0.     ,  0.     ,  0.     ,  0.     ,  0.     ,  0.     ,  0.     ,  0.     ,  0.     ,  0.     ,  0.     ,  0.     ,  0.     ,  0.     ,  0.     ,  0.     ,  0.     ,  0.     ,  0.     ,  0.     ,  0.     ,  0.     ,  0.     ,  0.     ,  0.     ,  0.     ,  0.     ,  0.     ,  0.     ,  0.     ,  0.     ,  0.     ,  0.     , -0.     , -0.     ,  0.     ,  0.22583, -0.02823,  0.     , -0.15191,  0.01899, -0.     , -0.     , -0.     ,  0.00385,  0.02021,  0.0075 , -0.00259, -0.0136 , -0.00505, -0.     ,  0.     , -0.     , -0.     ,  0.     ,  0.     ,  0.     , -0.     , -0.     , -0.     ,  0.22583, -0.02823, -0.     ,  0.     ,  0.     ,  0.     , -0.     , -0.     ,  0.00385,  0.02021,  0.0075 ,  0.     ,  0.     ,  0.     , -0.     , -0.     , -0.     , -0.     ,  0.     ,  0.     ,  0.     , -0.     ,  0.     , -0.     ,  0.     , -0.     ,  0.     , -0.15191,  0.01899,  0.     , -0.     , -0.     , -0.     ,  0.     ,  0.     , -0.00259, -0.0136 , -0.00505, -0.     , -0.     , -0.     ,  0.     ,  0.     ,  0.     ,  0.     , -0.     , -0.     , -0.     ,  0.     , -0.     ,  0.     , -0.     ,  0.     ,  0.     ,  0.     ,  0.     ,  0.     ,  0.     ,  0.     ,  0.     ,  0.     ,  0.     ,  0.     ,  0.     ,  0.     ,  0.     ,  0.     ,  0.     ,  0.     ,  0.     ,  0.     ,  0.     ,  0.     ,  0.     ,  0.     ,  0.     ,  0.     ,  0.     ,  0.     ,  0.     ,  0.     ,  0.     ,  0.     ,  0.     ,  0.     ,  0.     ,  0.     ,  0.     ,  0.     ,  0.     ,  0.     ,  0.     ,  0.     ,  0.     ,  0.     ,  0.     ,  0.     ,  0.     ,  0.     ,  0.     ,  0.     ,  0.     ,  0.     ,  0.     ,  0.     ,  0.     ,  0.     ,  0.     ,  0.     ,  0.     ,  0.     ,  0.     ,  0.     ,  0.     ,  0.     ,  0.     ,  0.     ,  0.     ,  0.     ,  0.     ,  0.     ,  0.     ,  0.     ,  0.     ,  0.     ,  0.     ,  0.     ,  0.     ,  0.     ,  0.     ,  0.     ,  0.     ,  0.     ,  0.     ,  0.     ,  0.     ,  0.     ,  0.     ,  0.     ,  0.     ,  0.     ,  0.     ,  0.     ,  0.     ,  0.     ,  0.     ,  0.     ,  0.     ,  0.     ,  0.     ,  0.     ,  0.     ,  0.     ,  0.     ,  0.     ,  0.     ,  0.     ,  0.     ,  0.     ,  0.     ,  0.     ,  0.     ,  0.     ,  0.     ,  0.     ,  0.     ,  0.     ,  0.     ,  0.     ,  0.     ,  0.     ,  0.     ,  0.     ,  0.     ,  0.     ,  0.     ,  0.     ,  0.     ,  0.     ,  0.     ,  0.     ,  0.     ,  0.     ,  0.     ,  0.     ,  0.     ,  0.     ,  0.     ,  0.     ,  0.     ,  0.     ,  0.     ,  0.     ,  0.     ,  0.     ,  0.     ,  0.     ,  0.     ,  0.     ,  0.     ,  0.     ,  0.     ,  0.     ,  0.     ,  0.     ,  0.     ,  0.     ,  0.     ,  0.     ,  0.     ,  0.     ,  0.     ,  0.     ,  0.     ,  0.     , -0.     ,  0.     ,  0.     , -0.     , -0.15191,  0.01899, -0.     ,  0.22583, -0.02823,  0.     ,  0.     ,  0.     , -0.00259, -0.0136 , -0.00505,  0.00385,  0.02021,  0.0075 ,  0.     , -0.     ,  0.     ,  0.     , -0.     , -0.     , -0.     ,  0.     ,  0.     ,  0.     , -0.15191,  0.01899,  0.     , -0.     , -0.     , -0.     ,  0.     ,  0.     , -0.00259, -0.0136 , -0.00505, -0.     , -0.     , -0.     ,  0.     ,  0.     ,  0.     ,  0.     , -0.     , -0.     , -0.     ,  0.     , -0.     ,  0.     , -0.     ,  0.     , -0.     ,  0.22583, -0.02823, -0.     ,  0.     ,  0.     ,  0.     , -0.     , -0.     ,  0.00385,  0.02021,  0.0075 ,  0.     ,  0.     ,  0.     , -0.     , -0.     , -0.     , -0.     ,  0.     ,  0.     ,  0.     , -0.     ,  0.     , -0.     ,  0.     , -0.     ,  0.     ,  0.     ,  0.     ,  0.     ,  0.     ,  0.     ,  0.     ,  0.     ,  0.     ,  0.     ,  0.     ,  0.     ,  0.     ,  0.     ,  0.     ,  0.     ,  0.     ,  0.     ,  0.     ,  0.     ,  0.     ,  0.     ,  0.     ,  0.     ,  0.     ,  0.     ,  0.     ,  0.     ,  0.     ,  0.     ,  0.     ,  0.     ,  0.     ,  0.     ,  0.     ,  0.     ,  0.     ,  0.     ,  0.     ,  0.     ,  0.     ,  0.     ,  0.     ,  0.     ,  0.     ,  0.     ,  0.     ,  0.     ,  0.     ,  0.     ,  0.     ,  0.     ,  0.     ,  0.     ,  0.     ,  0.     ,  0.     ,  0.     ,  0.     ,  0.     ,  0.     ,  0.     ,  0.     ,  0.     ,  0.     ,  0.     ,  0.     ,  0.     ,  0.     ,  0.     ,  0.     ,  0.     ,  0.     ,  0.     ,  0.     ,  0.     ,  0.     ,  0.     ,  0.     ,  0.     ,  0.     ,  0.     ,  0.     ,  0.     ,  0.     ,  0.     ,  0.     ,  0.     ,  0.     ,  0.     ,  0.     ,  0.     ,  0.     ,  0.     ,  0.     ,  0.     ,  0.     ,  0.     ,  0.     ,  0.     ,  0.     ,  0.     ,  0.     ,  0.     ,  0.     ,  0.     ,  0.     ,  0.     ,  0.     ,  0.     ,  0.     ,  0.     ,  0.     ,  0.     ,  0.     ,  0.     ,  0.     ,  0.     ,  0.     ,  0.     ,  0.     ,  0.     ,  0.     ,  0.     ,  0.     ,  0.     ,  0.     ,  0.     ,  0.     ,  0.     ,  0.     ,  0.     ,  0.     ,  0.     ,  0.     ,  0.     ,  0.     ,  0.     ,  0.     ,  0.     ,  0.     ,  0.     ,  0.     ,  0.     ,  0.     ,  0.     ,  0.     ,  0.     ,  0.     ,  0.     ,  0.     ,  0.     ,  0.     ,  0.     ,  0.     ,  0.     ,  0.     ,  0.     ,  0.     ,  0.     ,  0.     ,  0.     ],\n",
       "       [ 0.     ,  0.07013, -0.00877, -0.     ,  0.     , -0.     ,  0.     , -0.     ,  0.     , -0.13061, -0.67761, -0.25141, -0.     , -0.     , -0.     ,  0.     ,  0.     ,  0.     ,  0.00016, -0.00001, -0.     , -0.     ,  0.     , -0.     ,  0.     , -0.     ,  0.     , -0.     ,  0.     , -0.     ,  0.     , -0.02173,  0.00272,  0.     ,  0.01462, -0.00183, -0.     , -0.     , -0.     ,  0.04047,  0.20998,  0.0779 , -0.02722, -0.14124, -0.0524 , -0.     ,  0.     , -0.     , -0.00005,  0.     ,  0.     ,  0.00003, -0.     , -0.     ,  0.     , -0.     ,  0.     , -0.     ,  0.01462, -0.00183,  0.     , -0.02173,  0.00272,  0.     ,  0.     ,  0.     , -0.02722, -0.14124, -0.0524 ,  0.04047,  0.20998,  0.0779 ,  0.     , -0.     ,  0.     ,  0.00003, -0.     , -0.     , -0.00005,  0.     ,  0.     ,  0.     ,  0.     ,  0.     ,  0.     ,  0.     ,  0.     ,  0.     ,  0.     ,  0.     ,  0.     ,  0.     ,  0.     ,  0.     ,  0.     ,  0.     ,  0.     ,  0.     ,  0.     ,  0.     ,  0.     ,  0.     ,  0.     ,  0.     ,  0.     ,  0.     ,  0.     ,  0.     ,  0.     ,  0.     ,  0.     ,  0.     ,  0.     ,  0.     ,  0.     ,  0.     ,  0.     ,  0.     ,  0.     ,  0.     ,  0.     ,  0.     ,  0.     ,  0.     ,  0.     ,  0.     ,  0.     ,  0.     ,  0.     ,  0.     ,  0.     ,  0.     ,  0.     ,  0.     ,  0.     ,  0.     ,  0.     ,  0.     ,  0.     ,  0.     ,  0.     ,  0.     ,  0.     ,  0.     ,  0.     ,  0.     ,  0.     ,  0.     ,  0.     ,  0.     ,  0.     ,  0.     ,  0.     ,  0.     ,  0.     ,  0.     ,  0.     ,  0.     ,  0.     ,  0.     ,  0.     ,  0.     ,  0.     ,  0.     ,  0.     ,  0.     ,  0.     ,  0.     ,  0.     ,  0.     ,  0.     ,  0.     ,  0.     ,  0.     ,  0.     ,  0.     ,  0.     ,  0.     ,  0.     ,  0.     ,  0.     ,  0.     ,  0.     ,  0.     ,  0.     ,  0.     ,  0.     ,  0.     ,  0.     ,  0.     ,  0.     ,  0.     ,  0.     ,  0.     ,  0.     ,  0.     ,  0.     ,  0.     ,  0.     ,  0.     ,  0.     ,  0.     ,  0.     ,  0.     ,  0.     ,  0.     ,  0.     ,  0.     ,  0.     ,  0.     ,  0.     ,  0.     ,  0.     ,  0.     ,  0.     ,  0.     ,  0.     ,  0.     ,  0.     ,  0.     ,  0.     ,  0.     ,  0.     ,  0.     ,  0.     ,  0.     ,  0.     ,  0.     ,  0.     ,  0.     ,  0.     ,  0.     ,  0.     ,  0.     ,  0.     ,  0.     ,  0.     ,  0.     ,  0.     ,  0.     ,  0.     ,  0.     ,  0.     , -0.     ,  0.     , -0.     , -0.     , -0.02173,  0.00272,  0.     ,  0.01462, -0.00183, -0.     , -0.     , -0.     ,  0.04047,  0.20998,  0.0779 , -0.02722, -0.14124, -0.0524 , -0.     ,  0.     , -0.     , -0.00005,  0.     ,  0.     ,  0.00003, -0.     , -0.     , -0.     , -0.02173,  0.00272,  0.     , -0.     ,  0.     , -0.     ,  0.     , -0.     ,  0.04047,  0.20998,  0.0779 ,  0.     ,  0.     ,  0.     , -0.     , -0.     , -0.     , -0.00005,  0.     ,  0.     ,  0.     , -0.     ,  0.     , -0.     ,  0.     , -0.     , -0.     ,  0.01462, -0.00183, -0.     ,  0.     , -0.     ,  0.     , -0.     ,  0.     , -0.02722, -0.14124, -0.0524 , -0.     , -0.     , -0.     ,  0.     ,  0.     ,  0.     ,  0.00003, -0.     , -0.     , -0.     ,  0.     , -0.     ,  0.     , -0.     ,  0.     ,  0.     ,  0.     ,  0.     ,  0.     ,  0.     ,  0.     ,  0.     ,  0.     ,  0.     ,  0.     ,  0.     ,  0.     ,  0.     ,  0.     ,  0.     ,  0.     ,  0.     ,  0.     ,  0.     ,  0.     ,  0.     ,  0.     ,  0.     ,  0.     ,  0.     ,  0.     ,  0.     ,  0.     ,  0.     ,  0.     ,  0.     ,  0.     ,  0.     ,  0.     ,  0.     ,  0.     ,  0.     ,  0.     ,  0.     ,  0.     ,  0.     ,  0.     ,  0.     ,  0.     ,  0.     ,  0.     ,  0.     ,  0.     ,  0.     ,  0.     ,  0.     ,  0.     ,  0.     ,  0.     ,  0.     ,  0.     ,  0.     ,  0.     ,  0.     ,  0.     ,  0.     ,  0.     ,  0.     ,  0.     ,  0.     ,  0.     ,  0.     ,  0.     ,  0.     ,  0.     ,  0.     ,  0.     ,  0.     ,  0.     ,  0.     ,  0.     ,  0.     ,  0.     ,  0.     ,  0.     ,  0.     ,  0.     ,  0.     ,  0.     ,  0.     ,  0.     ,  0.     ,  0.     ,  0.     ,  0.     ,  0.     ,  0.     ,  0.     ,  0.     ,  0.     ,  0.     ,  0.     ,  0.     ,  0.     ,  0.     ,  0.     ,  0.     ,  0.     ,  0.     ,  0.     ,  0.     ,  0.     ,  0.     ,  0.     ,  0.     ,  0.     ,  0.     ,  0.     ,  0.     ,  0.     ,  0.     ,  0.     ,  0.     ,  0.     ,  0.     ,  0.     ,  0.     ,  0.     ,  0.     ,  0.     ,  0.     ,  0.     ,  0.     ,  0.     ,  0.     ,  0.     ,  0.     ,  0.     ,  0.     ,  0.     ,  0.     ,  0.     ,  0.     ,  0.     ,  0.     ,  0.     ,  0.     ,  0.     ,  0.     ,  0.     ,  0.     ,  0.     ,  0.     ,  0.     ,  0.     ,  0.     ,  0.     ,  0.     ,  0.     ,  0.     ,  0.     ,  0.     ,  0.     ,  0.     ,  0.     ,  0.     ,  0.     ,  0.     , -0.     ,  0.     , -0.     ,  0.01462, -0.00183,  0.     , -0.02173,  0.00272,  0.     ,  0.     ,  0.     , -0.02722, -0.14124, -0.0524 ,  0.04047,  0.20998,  0.0779 ,  0.     , -0.     ,  0.     ,  0.00003, -0.     , -0.     , -0.00005,  0.     ,  0.     , -0.     ,  0.01462, -0.00183, -0.     ,  0.     , -0.     ,  0.     , -0.     ,  0.     , -0.02722, -0.14124, -0.0524 , -0.     , -0.     , -0.     ,  0.     ,  0.     ,  0.     ,  0.00003, -0.     , -0.     , -0.     ,  0.     , -0.     ,  0.     , -0.     ,  0.     ,  0.     , -0.02173,  0.00272,  0.     , -0.     ,  0.     , -0.     ,  0.     , -0.     ,  0.04047,  0.20998,  0.0779 ,  0.     ,  0.     ,  0.     , -0.     , -0.     , -0.     , -0.00005,  0.     ,  0.     ,  0.     , -0.     ,  0.     , -0.     ,  0.     , -0.     ,  0.     ,  0.     ,  0.     ,  0.     ,  0.     ,  0.     ,  0.     ,  0.     ,  0.     ,  0.     ,  0.     ,  0.     ,  0.     ,  0.     ,  0.     ,  0.     ,  0.     ,  0.     ,  0.     ,  0.     ,  0.     ,  0.     ,  0.     ,  0.     ,  0.     ,  0.     ,  0.     ,  0.     ,  0.     ,  0.     ,  0.     ,  0.     ,  0.     ,  0.     ,  0.     ,  0.     ,  0.     ,  0.     ,  0.     ,  0.     ,  0.     ,  0.     ,  0.     ,  0.     ,  0.     ,  0.     ,  0.     ,  0.     ,  0.     ,  0.     ,  0.     ,  0.     ,  0.     ,  0.     ,  0.     ,  0.     ,  0.     ,  0.     ,  0.     ,  0.     ,  0.     ,  0.     ,  0.     ,  0.     ,  0.     ,  0.     ,  0.     ,  0.     ,  0.     ,  0.     ,  0.     ,  0.     ,  0.     ,  0.     ,  0.     ,  0.     ,  0.     ,  0.     ,  0.     ,  0.     ,  0.     ,  0.     ,  0.     ,  0.     ,  0.     ,  0.     ,  0.     ,  0.     ,  0.     ,  0.     ,  0.     ,  0.     ,  0.     ,  0.     ,  0.     ,  0.     ,  0.     ,  0.     ,  0.     ,  0.     ,  0.     ,  0.     ,  0.     ,  0.     ,  0.     ,  0.     ,  0.     ,  0.     ,  0.     ,  0.     ,  0.     ,  0.     ,  0.     ,  0.     ,  0.     ,  0.     ,  0.     ,  0.     ,  0.     ,  0.     ,  0.     ,  0.     ,  0.     ,  0.     ,  0.     ,  0.     ,  0.     ,  0.     ,  0.     ,  0.     ,  0.     ,  0.     ,  0.     ,  0.     ,  0.     ,  0.     ,  0.     ,  0.     ,  0.     ,  0.     ,  0.     ,  0.     ,  0.     ,  0.     ,  0.     ,  0.     ,  0.     ,  0.     ,  0.     ,  0.     ,  0.     ,  0.     ,  0.     ,  0.     ,  0.     ,  0.     ,  0.     ,  0.     ,  0.     ,  0.     ,  0.     ,  0.     ],\n",
       "       [ 0.     , -0.     ,  0.     , -0.     ,  0.     , -0.     , -0.     , -0.     , -0.     , -0.00004, -0.0001 ,  0.00028, -0.     ,  0.     ,  0.     , -0.     , -0.     ,  0.     ,  0.00015,  0.00022, -0.00021, -0.     ,  0.     , -0.     ,  0.     , -0.     , -0.     ,  0.     , -0.     ,  0.     ,  0.     ,  0.     , -0.     ,  0.     , -0.     ,  0.     , -0.     ,  0.     , -0.     ,  0.00001,  0.00003, -0.00009, -0.00001, -0.00002,  0.00006, -0.     ,  0.     , -0.     , -0.00005, -0.00007,  0.00007,  0.00003,  0.00004, -0.00004, -0.     , -0.     ,  0.     ,  0.     , -0.     ,  0.     , -0.     ,  0.     , -0.     , -0.     ,  0.     , -0.     , -0.00001, -0.00002,  0.00006,  0.00001,  0.00003, -0.00009,  0.     , -0.     ,  0.     ,  0.00003,  0.00004, -0.00004, -0.00005, -0.00007,  0.00007, -0.08507, -0.60603,  0.09482, -0.     ,  0.     ,  0.     ,  0.     , -0.     , -0.     , -0.23066, -0.09335,  0.16294, -0.     ,  0.     ,  0.     ,  0.     , -0.     , -0.     , -0.2605 ,  0.04932,  0.04645, -0.     ,  0.     , -0.     ,  0.     , -0.     ,  0.     , -0.     ,  0.     ,  0.     ,  0.02636,  0.18779, -0.02938, -0.01773, -0.12632,  0.01977,  0.     ,  0.     ,  0.     ,  0.07147,  0.02893, -0.05049, -0.04808, -0.01946,  0.03396, -0.     ,  0.     , -0.     ,  0.08072, -0.01528, -0.01439, -0.0543 ,  0.01028,  0.00968,  0.     , -0.     , -0.     , -0.01773, -0.12632,  0.01977,  0.02636,  0.18779, -0.02938,  0.     , -0.     , -0.     , -0.04808, -0.01946,  0.03396,  0.07147,  0.02893, -0.05049,  0.     , -0.     ,  0.     , -0.0543 ,  0.01028,  0.00968,  0.08072, -0.01528, -0.01439,  0.     ,  0.     ,  0.     ,  0.     ,  0.     ,  0.     ,  0.     ,  0.     ,  0.     ,  0.     ,  0.     ,  0.     ,  0.     ,  0.     ,  0.     ,  0.     ,  0.     ,  0.     ,  0.     ,  0.     ,  0.     ,  0.     ,  0.     ,  0.     ,  0.     ,  0.     ,  0.     ,  0.     ,  0.     ,  0.     ,  0.     ,  0.     ,  0.     ,  0.     ,  0.     ,  0.     ,  0.     ,  0.     ,  0.     ,  0.     ,  0.     ,  0.     ,  0.     ,  0.     ,  0.     ,  0.     ,  0.     ,  0.     ,  0.     ,  0.     ,  0.     ,  0.     ,  0.     ,  0.     ,  0.     ,  0.     ,  0.     ,  0.     ,  0.     ,  0.     ,  0.     ,  0.     ,  0.     ,  0.     ,  0.     ,  0.     ,  0.     ,  0.     ,  0.     ,  0.     ,  0.     ,  0.     ,  0.     ,  0.     ,  0.     ,  0.     ,  0.     ,  0.     ,  0.     ,  0.     ,  0.     ,  0.     ,  0.     ,  0.     ,  0.     ,  0.     , -0.     , -0.     , -0.     ,  0.     ,  0.     ,  0.     , -0.     ,  0.00001,  0.00003, -0.00009, -0.00001, -0.00002,  0.00006, -0.     ,  0.     , -0.     , -0.00005, -0.00007,  0.00007,  0.00003,  0.00004, -0.00004, -0.     ,  0.     , -0.     ,  0.     , -0.     , -0.     , -0.     , -0.     , -0.     ,  0.00001,  0.00003, -0.00009, -0.     , -0.     ,  0.     , -0.     ,  0.     , -0.     , -0.00005, -0.00007,  0.00007,  0.     , -0.     ,  0.     , -0.     ,  0.     , -0.     , -0.     , -0.     ,  0.     ,  0.     , -0.     , -0.     , -0.     ,  0.     ,  0.     , -0.00001, -0.00002,  0.00006,  0.     , -0.     ,  0.     ,  0.     ,  0.     , -0.     ,  0.00003,  0.00004, -0.00004, -0.     ,  0.     , -0.     ,  0.     , -0.     ,  0.     , -0.     ,  0.     ,  0.     ,  0.02636,  0.18779, -0.02938, -0.01773, -0.12632,  0.01977, -0.     ,  0.     ,  0.     ,  0.07147,  0.02893, -0.05049, -0.04808, -0.01946,  0.03396, -0.     ,  0.     , -0.     ,  0.08072, -0.01528, -0.01439, -0.0543 ,  0.01028,  0.00968,  0.02636,  0.18779, -0.02938,  0.     , -0.     , -0.     , -0.     ,  0.     , -0.     ,  0.07147,  0.02893, -0.05049,  0.     ,  0.     , -0.     ,  0.     , -0.     ,  0.     ,  0.08072, -0.01528, -0.01439,  0.     , -0.     ,  0.     , -0.     ,  0.     , -0.     , -0.01773, -0.12632,  0.01977, -0.     ,  0.     ,  0.     ,  0.     , -0.     , -0.     , -0.04808, -0.01946,  0.03396, -0.     ,  0.     ,  0.     ,  0.     ,  0.     , -0.     , -0.0543 ,  0.01028,  0.00968, -0.     ,  0.     , -0.     ,  0.     , -0.     ,  0.     ,  0.     ,  0.     ,  0.     ,  0.     ,  0.     ,  0.     ,  0.     ,  0.     ,  0.     ,  0.     ,  0.     ,  0.     ,  0.     ,  0.     ,  0.     ,  0.     ,  0.     ,  0.     ,  0.     ,  0.     ,  0.     ,  0.     ,  0.     ,  0.     ,  0.     ,  0.     ,  0.     ,  0.     ,  0.     ,  0.     ,  0.     ,  0.     ,  0.     ,  0.     ,  0.     ,  0.     ,  0.     ,  0.     ,  0.     ,  0.     ,  0.     ,  0.     ,  0.     ,  0.     ,  0.     ,  0.     ,  0.     ,  0.     ,  0.     ,  0.     ,  0.     ,  0.     ,  0.     ,  0.     ,  0.     ,  0.     ,  0.     ,  0.     ,  0.     ,  0.     ,  0.     ,  0.     ,  0.     ,  0.     ,  0.     ,  0.     ,  0.     ,  0.     ,  0.     ,  0.     ,  0.     ,  0.     ,  0.     ,  0.     ,  0.     ,  0.     ,  0.     ,  0.     ,  0.     ,  0.     ,  0.     ,  0.     ,  0.     ,  0.     ,  0.     , -0.     ,  0.     , -0.     ,  0.     , -0.     ,  0.     , -0.     , -0.     , -0.00001, -0.00002,  0.00006,  0.00001,  0.00003, -0.00009,  0.     , -0.     ,  0.     ,  0.00003,  0.00004, -0.00004, -0.00005, -0.00007,  0.00007, -0.     , -0.     ,  0.     , -0.     ,  0.     ,  0.     ,  0.     , -0.     , -0.     , -0.00001, -0.00002,  0.00006,  0.     ,  0.     , -0.     ,  0.     , -0.     , -0.     ,  0.00003,  0.00004, -0.00004, -0.     ,  0.     , -0.     ,  0.     , -0.     ,  0.     ,  0.     ,  0.     , -0.     , -0.     , -0.     , -0.     , -0.     ,  0.     , -0.     ,  0.00001,  0.00003, -0.00009, -0.     , -0.     , -0.     , -0.     ,  0.     , -0.     , -0.00005, -0.00007,  0.00007,  0.     , -0.     , -0.     , -0.     ,  0.     ,  0.     ,  0.     , -0.     , -0.     , -0.01773, -0.12632,  0.01977,  0.02636,  0.18779, -0.02938,  0.     , -0.     , -0.     , -0.04808, -0.01946,  0.03396,  0.07147,  0.02893, -0.05049,  0.     , -0.     ,  0.     , -0.0543 ,  0.01028,  0.00968,  0.08072, -0.01528, -0.01439, -0.01773, -0.12632,  0.01977, -0.     ,  0.     , -0.     ,  0.     , -0.     , -0.     , -0.04808, -0.01946,  0.03396,  0.     ,  0.     ,  0.     , -0.     ,  0.     , -0.     , -0.0543 ,  0.01028,  0.00968, -0.     ,  0.     , -0.     ,  0.     , -0.     ,  0.     ,  0.02636,  0.18779, -0.02938,  0.     , -0.     , -0.     , -0.     ,  0.     ,  0.     ,  0.07147,  0.02893, -0.05049,  0.     , -0.     , -0.     , -0.     ,  0.     ,  0.     ,  0.08072, -0.01528, -0.01439,  0.     , -0.     ,  0.     , -0.     ,  0.     , -0.     ,  0.     ,  0.     ,  0.     ,  0.     ,  0.     ,  0.     ,  0.     ,  0.     ,  0.     ,  0.     ,  0.     ,  0.     ,  0.     ,  0.     ,  0.     ,  0.     ,  0.     ,  0.     ,  0.     ,  0.     ,  0.     ,  0.     ,  0.     ,  0.     ,  0.     ,  0.     ,  0.     ,  0.     ,  0.     ,  0.     ,  0.     ,  0.     ,  0.     ,  0.     ,  0.     ,  0.     ,  0.     ,  0.     ,  0.     ,  0.     ,  0.     ,  0.     ,  0.     ,  0.     ,  0.     ,  0.     ,  0.     ,  0.     ,  0.     ,  0.     ,  0.     ,  0.     ,  0.     ,  0.     ,  0.     ,  0.     ,  0.     ,  0.     ,  0.     ,  0.     ,  0.     ,  0.     ,  0.     ,  0.     ,  0.     ,  0.     ,  0.     ,  0.     ,  0.     ,  0.     ,  0.     ,  0.     ,  0.     ,  0.     ,  0.     ,  0.     ,  0.     ,  0.     ,  0.     ,  0.     ,  0.     ],\n",
       "       [ 0.     ,  0.     , -0.     , -0.     ,  0.     , -0.     ,  0.     , -0.     ,  0.     ,  0.00001,  0.00002, -0.00007,  0.     ,  0.     , -0.     , -0.     , -0.     ,  0.     , -0.00004, -0.00006,  0.00005, -0.     ,  0.     , -0.     ,  0.     , -0.     ,  0.     , -0.     ,  0.     , -0.     , -0.     , -0.     ,  0.     , -0.     ,  0.     , -0.     ,  0.     ,  0.     , -0.     , -0.     , -0.00001,  0.00002,  0.     ,  0.00001, -0.00002, -0.     ,  0.     , -0.     ,  0.00001,  0.00002, -0.00002, -0.00001, -0.00001,  0.00001,  0.     , -0.     ,  0.     ,  0.     ,  0.     , -0.     ,  0.     , -0.     ,  0.     , -0.     , -0.     , -0.     ,  0.     ,  0.00001, -0.00002, -0.     , -0.00001,  0.00002,  0.     , -0.     ,  0.     , -0.00001, -0.00001,  0.00001,  0.00001,  0.00002, -0.00002,  0.02185, -0.0472 , -0.02607, -0.     ,  0.     ,  0.     ,  0.     , -0.     , -0.     ,  0.05103,  0.06797, -0.0693 ,  0.     , -0.     ,  0.     , -0.     ,  0.     , -0.     , -0.04768, -0.1641 ,  0.01731,  0.     ,  0.     ,  0.     , -0.     ,  0.     , -0.     , -0.     ,  0.     ,  0.     , -0.00677,  0.01463,  0.00808,  0.00455, -0.00984, -0.00543,  0.     , -0.     ,  0.     , -0.01581, -0.02106,  0.02147,  0.01064,  0.01417, -0.01444,  0.     ,  0.     ,  0.     ,  0.01478,  0.05085, -0.00536, -0.00994, -0.03421,  0.00361,  0.     , -0.     , -0.     ,  0.00455, -0.00984, -0.00543, -0.00677,  0.01463,  0.00808, -0.     ,  0.     , -0.     ,  0.01064,  0.01417, -0.01444, -0.01581, -0.02106,  0.02147, -0.     ,  0.     , -0.     , -0.00994, -0.03421,  0.00361,  0.01478,  0.05085, -0.00536, -0.0659 , -0.42417, -0.01211,  0.     , -0.     , -0.     , -0.     ,  0.     ,  0.     , -0.05245, -0.04304, -0.09175, -0.     ,  0.     , -0.     ,  0.     , -0.     ,  0.     , -0.37442, -0.40231, -0.00545, -0.     ,  0.     , -0.     ,  0.     , -0.     , -0.     ,  0.     , -0.     , -0.     ,  0.02042,  0.13144,  0.00375, -0.01374, -0.08841, -0.00252, -0.     ,  0.     , -0.     ,  0.01625,  0.01334,  0.02843, -0.01093, -0.00897, -0.01912, -0.     ,  0.     ,  0.     ,  0.11602,  0.12467,  0.00169, -0.07804, -0.08386, -0.00114, -0.     ,  0.     ,  0.     , -0.01374, -0.08841, -0.00252,  0.02042,  0.13144,  0.00375,  0.     , -0.     ,  0.     , -0.01093, -0.00897, -0.01912,  0.01625,  0.01334,  0.02843,  0.     , -0.     , -0.     , -0.07804, -0.08386, -0.00114,  0.11602,  0.12467,  0.00169, -0.     ,  0.     , -0.     , -0.     , -0.     ,  0.     , -0.     ,  0.     , -0.     ,  0.     ,  0.     , -0.     , -0.     , -0.00001,  0.00002,  0.     ,  0.00001, -0.00002, -0.     ,  0.     , -0.     ,  0.00001,  0.00002, -0.00002, -0.00001, -0.00001,  0.00001,  0.     , -0.     ,  0.     ,  0.     , -0.     ,  0.     , -0.     , -0.     , -0.     , -0.     , -0.00001,  0.00002, -0.     , -0.     , -0.     ,  0.     ,  0.     , -0.     ,  0.00001,  0.00002, -0.00002,  0.     , -0.     ,  0.     ,  0.     ,  0.     , -0.     , -0.     ,  0.     , -0.     , -0.     ,  0.     , -0.     ,  0.     , -0.     , -0.     ,  0.     ,  0.00001, -0.00002,  0.     ,  0.     ,  0.     , -0.     , -0.     ,  0.     , -0.00001, -0.00001,  0.00001,  0.     ,  0.     , -0.     ,  0.     , -0.     ,  0.     , -0.     ,  0.     ,  0.     , -0.00677,  0.01463,  0.00808,  0.00455, -0.00984, -0.00543,  0.     , -0.     ,  0.     , -0.01581, -0.02106,  0.02147,  0.01064,  0.01417, -0.01444,  0.     ,  0.     ,  0.     ,  0.01478,  0.05085, -0.00536, -0.00994, -0.03421,  0.00361, -0.00677,  0.01463,  0.00808,  0.     , -0.     ,  0.     , -0.     , -0.     ,  0.     , -0.01581, -0.02106,  0.02147, -0.     ,  0.     , -0.     ,  0.     , -0.     ,  0.     ,  0.01478,  0.05085, -0.00536, -0.     , -0.     ,  0.     ,  0.     ,  0.     ,  0.     ,  0.00455, -0.00984, -0.00543, -0.     ,  0.     ,  0.     ,  0.     ,  0.     , -0.     ,  0.01064,  0.01417, -0.01444,  0.     , -0.     , -0.     , -0.     ,  0.     , -0.     , -0.00994, -0.03421,  0.00361,  0.     , -0.     ,  0.     , -0.     , -0.     , -0.     ,  0.     , -0.     , -0.     ,  0.02042,  0.13144,  0.00375, -0.01374, -0.08841, -0.00252, -0.     ,  0.     , -0.     ,  0.01625,  0.01334,  0.02843, -0.01093, -0.00897, -0.01912, -0.     ,  0.     ,  0.     ,  0.11602,  0.12467,  0.00169, -0.07804, -0.08386, -0.00114,  0.02042,  0.13144,  0.00375, -0.     ,  0.     ,  0.     ,  0.     , -0.     , -0.     ,  0.01625,  0.01334,  0.02843,  0.     , -0.     ,  0.     , -0.     ,  0.     , -0.     ,  0.11602,  0.12467,  0.00169,  0.     , -0.     , -0.     , -0.     ,  0.     , -0.     , -0.01374, -0.08841, -0.00252,  0.     , -0.     , -0.     , -0.     ,  0.     ,  0.     , -0.01093, -0.00897, -0.01912, -0.     ,  0.     , -0.     ,  0.     , -0.     ,  0.     , -0.07804, -0.08386, -0.00114, -0.     ,  0.     ,  0.     ,  0.     , -0.     , -0.     ,  0.     , -0.     ,  0.     ,  0.     ,  0.     , -0.     , -0.     , -0.     ,  0.     , -0.     , -0.     ,  0.     ,  0.     ,  0.00001, -0.00002, -0.     , -0.00001,  0.00002,  0.     , -0.     ,  0.     , -0.00001, -0.00001,  0.00001,  0.00001,  0.00002, -0.00002,  0.     ,  0.     , -0.     , -0.     ,  0.     , -0.     ,  0.     , -0.     , -0.     ,  0.     ,  0.00001, -0.00002,  0.     ,  0.     , -0.     , -0.     , -0.     , -0.     , -0.00001, -0.00001,  0.00001, -0.     ,  0.     , -0.     ,  0.     , -0.     ,  0.     , -0.     , -0.     ,  0.     ,  0.     , -0.     , -0.     , -0.     ,  0.     , -0.     , -0.     , -0.00001,  0.00002, -0.     , -0.     , -0.     ,  0.     ,  0.     ,  0.     ,  0.00001,  0.00002, -0.00002,  0.     , -0.     ,  0.     , -0.     ,  0.     , -0.     ,  0.     , -0.     , -0.     ,  0.00455, -0.00984, -0.00543, -0.00677,  0.01463,  0.00808, -0.     ,  0.     , -0.     ,  0.01064,  0.01417, -0.01444, -0.01581, -0.02106,  0.02147, -0.     ,  0.     , -0.     , -0.00994, -0.03421,  0.00361,  0.01478,  0.05085, -0.00536,  0.00455, -0.00984, -0.00543, -0.     ,  0.     ,  0.     ,  0.     ,  0.     , -0.     ,  0.01064,  0.01417, -0.01444,  0.     , -0.     , -0.     , -0.     ,  0.     , -0.     , -0.00994, -0.03421,  0.00361,  0.     ,  0.     ,  0.     , -0.     , -0.     , -0.     , -0.00677,  0.01463,  0.00808,  0.     ,  0.     , -0.     , -0.     ,  0.     , -0.     , -0.01581, -0.02106,  0.02147, -0.     ,  0.     , -0.     ,  0.     , -0.     ,  0.     ,  0.01478,  0.05085, -0.00536, -0.     , -0.     ,  0.     ,  0.     , -0.     , -0.     , -0.     ,  0.     ,  0.     , -0.01374, -0.08841, -0.00252,  0.02042,  0.13144,  0.00375,  0.     , -0.     ,  0.     , -0.01093, -0.00897, -0.01912,  0.01625,  0.01334,  0.02843,  0.     , -0.     , -0.     , -0.07804, -0.08386, -0.00114,  0.11602,  0.12467,  0.00169, -0.01374, -0.08841, -0.00252,  0.     , -0.     , -0.     , -0.     ,  0.     ,  0.     , -0.01093, -0.00897, -0.01912, -0.     ,  0.     , -0.     ,  0.     , -0.     ,  0.     , -0.07804, -0.08386, -0.00114, -0.     ,  0.     ,  0.     ,  0.     , -0.     , -0.     ,  0.02042,  0.13144,  0.00375, -0.     ,  0.     ,  0.     ,  0.     , -0.     , -0.     ,  0.01625,  0.01334,  0.02843,  0.     , -0.     ,  0.     , -0.     ,  0.     , -0.     ,  0.11602,  0.12467,  0.00169,  0.     , -0.     ,  0.     , -0.     ,  0.     ,  0.     ],\n",
       "       [-0.     ,  0.00005, -0.00001, -0.     ,  0.     , -0.     ,  0.     , -0.     ,  0.     ,  0.21432, -0.17053,  0.34798, -0.     ,  0.     , -0.     , -0.     , -0.     ,  0.     , -0.50919,  0.12047,  0.27299, -0.     , -0.     ,  0.     ,  0.     ,  0.     , -0.     , -0.     ,  0.     , -0.     , -0.     , -0.00001,  0.     , -0.     ,  0.00001, -0.     ,  0.     , -0.     , -0.     , -0.06641,  0.05284, -0.10783,  0.04467, -0.03555,  0.07253, -0.     ,  0.     ,  0.     ,  0.15778, -0.03733, -0.08459, -0.10614,  0.02511,  0.0569 ,  0.     , -0.     ,  0.     ,  0.     ,  0.00001, -0.     ,  0.     , -0.00001,  0.     , -0.     ,  0.     , -0.     ,  0.04467, -0.03555,  0.07253, -0.06641,  0.05284, -0.10783,  0.     , -0.     , -0.     , -0.10614,  0.02511,  0.0569 ,  0.15778, -0.03733, -0.08459, -0.     ,  0.     ,  0.     , -0.     ,  0.     ,  0.     ,  0.     , -0.     , -0.     ,  0.     ,  0.     ,  0.     ,  0.     ,  0.     ,  0.     ,  0.     ,  0.     ,  0.     ,  0.     ,  0.     ,  0.     ,  0.     ,  0.     ,  0.     ,  0.     ,  0.     ,  0.     , -0.     ,  0.     ,  0.     ,  0.     , -0.     , -0.     , -0.     ,  0.     ,  0.     ,  0.     ,  0.     ,  0.     ,  0.     ,  0.     ,  0.     ,  0.     ,  0.     ,  0.     ,  0.     ,  0.     ,  0.     ,  0.     ,  0.     ,  0.     ,  0.     ,  0.     ,  0.     ,  0.     , -0.     , -0.     , -0.     ,  0.     ,  0.     ,  0.     , -0.     , -0.     ,  0.     ,  0.     ,  0.     ,  0.     ,  0.     ,  0.     ,  0.     ,  0.     ,  0.     ,  0.     ,  0.     ,  0.     ,  0.     ,  0.     ,  0.     ,  0.     ,  0.     ,  0.     ,  0.     ,  0.     ,  0.     ,  0.     ,  0.     ,  0.     ,  0.     ,  0.     ,  0.     ,  0.     ,  0.     ,  0.     ,  0.     ,  0.     ,  0.     ,  0.     ,  0.     ,  0.     ,  0.     ,  0.     ,  0.     ,  0.     ,  0.     ,  0.     ,  0.     ,  0.     ,  0.     ,  0.     ,  0.     ,  0.     ,  0.     ,  0.     ,  0.     ,  0.     ,  0.     ,  0.     ,  0.     ,  0.     ,  0.     ,  0.     ,  0.     ,  0.     ,  0.     ,  0.     ,  0.     ,  0.     ,  0.     ,  0.     ,  0.     ,  0.     ,  0.     ,  0.     ,  0.     ,  0.     ,  0.     ,  0.     ,  0.     ,  0.     ,  0.     ,  0.     ,  0.     ,  0.     ,  0.     ,  0.     ,  0.     ,  0.     ,  0.     ,  0.     ,  0.     ,  0.     ,  0.     ,  0.     ,  0.     ,  0.     ,  0.     ,  0.     ,  0.     ,  0.     ,  0.     ,  0.     ,  0.     , -0.     ,  0.     , -0.     ,  0.     , -0.00001,  0.     ,  0.     ,  0.00001, -0.     ,  0.     , -0.     ,  0.     , -0.06641,  0.05284, -0.10783,  0.04467, -0.03555,  0.07253, -0.     ,  0.     ,  0.     ,  0.15778, -0.03733, -0.08459, -0.10614,  0.02511,  0.0569 ,  0.     , -0.00001,  0.     ,  0.     , -0.     ,  0.     , -0.     ,  0.     , -0.     , -0.06641,  0.05284, -0.10783, -0.     ,  0.     ,  0.     , -0.     ,  0.     , -0.     ,  0.15778, -0.03733, -0.08459,  0.     , -0.     , -0.     , -0.     , -0.     ,  0.     , -0.     ,  0.00001, -0.     , -0.     ,  0.     , -0.     ,  0.     , -0.     ,  0.     ,  0.04467, -0.03555,  0.07253,  0.     , -0.     , -0.     ,  0.     ,  0.     ,  0.     , -0.10614,  0.02511,  0.0569 , -0.     ,  0.     ,  0.     ,  0.     , -0.     , -0.     , -0.     ,  0.     ,  0.     ,  0.     , -0.     , -0.     , -0.     ,  0.     ,  0.     ,  0.     ,  0.     ,  0.     ,  0.     ,  0.     ,  0.     ,  0.     ,  0.     ,  0.     ,  0.     ,  0.     ,  0.     ,  0.     ,  0.     ,  0.     ,  0.     ,  0.     ,  0.     ,  0.     , -0.     , -0.     ,  0.     , -0.     , -0.     , -0.     ,  0.     ,  0.     ,  0.     ,  0.     ,  0.     ,  0.     ,  0.     ,  0.     ,  0.     ,  0.     ,  0.     ,  0.     ,  0.     ,  0.     ,  0.     ,  0.     ,  0.     ,  0.     ,  0.     ,  0.     , -0.     ,  0.     ,  0.     , -0.     ,  0.     ,  0.     ,  0.     , -0.     , -0.     ,  0.     ,  0.     ,  0.     ,  0.     ,  0.     ,  0.     ,  0.     ,  0.     ,  0.     ,  0.     ,  0.     ,  0.     ,  0.     ,  0.     ,  0.     ,  0.     ,  0.     ,  0.     ,  0.     ,  0.     ,  0.     ,  0.     ,  0.     ,  0.     ,  0.     ,  0.     ,  0.     ,  0.     ,  0.     ,  0.     ,  0.     ,  0.     ,  0.     ,  0.     ,  0.     ,  0.     ,  0.     ,  0.     ,  0.     ,  0.     ,  0.     ,  0.     ,  0.     ,  0.     ,  0.     ,  0.     ,  0.     ,  0.     ,  0.     ,  0.     ,  0.     ,  0.     ,  0.     ,  0.     ,  0.     ,  0.     ,  0.     ,  0.     ,  0.     ,  0.     ,  0.     ,  0.     ,  0.     ,  0.     ,  0.     ,  0.     ,  0.     ,  0.     ,  0.     ,  0.     ,  0.     ,  0.     ,  0.     ,  0.     ,  0.     ,  0.     ,  0.     ,  0.     ,  0.     ,  0.     ,  0.     ,  0.     ,  0.     ,  0.     ,  0.     ,  0.     ,  0.     ,  0.     ,  0.     ,  0.     ,  0.     ,  0.     ,  0.     ,  0.     ,  0.     ,  0.     ,  0.     ,  0.     ,  0.     ,  0.     , -0.     ,  0.     , -0.     ,  0.00001, -0.     ,  0.     , -0.00001,  0.     ,  0.     ,  0.     ,  0.     ,  0.04467, -0.03555,  0.07253, -0.06641,  0.05284, -0.10783,  0.     ,  0.     , -0.     , -0.10614,  0.02511,  0.0569 ,  0.15778, -0.03733, -0.08459,  0.     ,  0.00001, -0.     , -0.     ,  0.     , -0.     ,  0.     , -0.     ,  0.     ,  0.04467, -0.03555,  0.07253, -0.     , -0.     , -0.     , -0.     ,  0.     ,  0.     , -0.10614,  0.02511,  0.0569 , -0.     , -0.     ,  0.     ,  0.     , -0.     , -0.     , -0.     , -0.00001,  0.     ,  0.     ,  0.     ,  0.     , -0.     ,  0.     , -0.     , -0.06641,  0.05284, -0.10783,  0.     , -0.     ,  0.     , -0.     , -0.     , -0.     ,  0.15778, -0.03733, -0.08459,  0.     ,  0.     , -0.     , -0.     , -0.     ,  0.     ,  0.     , -0.     , -0.     , -0.     ,  0.     ,  0.     ,  0.     , -0.     , -0.     ,  0.     ,  0.     ,  0.     ,  0.     ,  0.     ,  0.     ,  0.     ,  0.     ,  0.     ,  0.     ,  0.     ,  0.     ,  0.     ,  0.     ,  0.     ,  0.     ,  0.     ,  0.     , -0.     ,  0.     ,  0.     , -0.     ,  0.     ,  0.     ,  0.     , -0.     , -0.     ,  0.     ,  0.     ,  0.     ,  0.     ,  0.     ,  0.     ,  0.     ,  0.     ,  0.     ,  0.     ,  0.     ,  0.     ,  0.     ,  0.     ,  0.     ,  0.     ,  0.     ,  0.     ,  0.     , -0.     , -0.     ,  0.     , -0.     , -0.     , -0.     ,  0.     ,  0.     ,  0.     ,  0.     ,  0.     ,  0.     ,  0.     ,  0.     ,  0.     ,  0.     ,  0.     ,  0.     ,  0.     ,  0.     ,  0.     ,  0.     ,  0.     ,  0.     ,  0.     ,  0.     ,  0.     ,  0.     ,  0.     ,  0.     ,  0.     ,  0.     ,  0.     ,  0.     ,  0.     ,  0.     ,  0.     ,  0.     ,  0.     ,  0.     ,  0.     ,  0.     ,  0.     ,  0.     ,  0.     ,  0.     ,  0.     ,  0.     ,  0.     ,  0.     ,  0.     ,  0.     ,  0.     ,  0.     ,  0.     ,  0.     ,  0.     ,  0.     ,  0.     ,  0.     ,  0.     ,  0.     ,  0.     ,  0.     ,  0.     ,  0.     ,  0.     ,  0.     ,  0.     ,  0.     ,  0.     ,  0.     ,  0.     ,  0.     ,  0.     ,  0.     ,  0.     ,  0.     ,  0.     ,  0.     ,  0.     ,  0.     ,  0.     ,  0.     ,  0.     ,  0.     ,  0.     ,  0.     ,  0.     ,  0.     ,  0.     ,  0.     ,  0.     ,  0.     ,  0.     ,  0.     ,  0.     ,  0.     ,  0.     ,  0.     ,  0.     ,  0.     ,  0.     ,  0.     ,  0.     ,  0.     ,  0.     ],\n",
       "       [ 0.     ,  0.     , -0.     , -0.     ,  0.     , -0.     ,  0.     , -0.     ,  0.     ,  0.00002,  0.00005, -0.00016,  0.     ,  0.     ,  0.     , -0.     , -0.     ,  0.     , -0.00008, -0.00012,  0.00012,  0.     ,  0.     ,  0.     , -0.     , -0.     , -0.     , -0.     ,  0.     , -0.     , -0.     , -0.     ,  0.     ,  0.     ,  0.     , -0.     ,  0.     ,  0.     ,  0.     , -0.00001, -0.00002,  0.00005,  0.     ,  0.00001, -0.00003,  0.     ,  0.     ,  0.     ,  0.00003,  0.00004, -0.00004, -0.00002, -0.00003,  0.00002,  0.     , -0.     ,  0.     , -0.     ,  0.     , -0.     ,  0.     , -0.     ,  0.     , -0.     , -0.     , -0.     ,  0.     ,  0.00001, -0.00003, -0.00001, -0.00002,  0.00005, -0.     , -0.     , -0.     , -0.00002, -0.00003,  0.00002,  0.00003,  0.00004, -0.00004,  0.04738,  0.01399,  0.07788,  0.     ,  0.     ,  0.     , -0.     , -0.     ,  0.     ,  0.04872,  0.13666, -0.12268,  0.     , -0.     , -0.     , -0.     ,  0.     , -0.     , -0.11126,  0.2224 ,  0.1972 ,  0.     , -0.     ,  0.     , -0.     ,  0.     , -0.     ,  0.     ,  0.     , -0.     , -0.01468, -0.00433, -0.02413,  0.00988,  0.00292,  0.01623,  0.     , -0.     ,  0.     , -0.0151 , -0.04235,  0.03802,  0.01016,  0.02849, -0.02557,  0.     , -0.     ,  0.     ,  0.03448, -0.06892, -0.06111, -0.02319,  0.04636,  0.0411 , -0.     , -0.     ,  0.     ,  0.00988,  0.00292,  0.01623, -0.01468, -0.00433, -0.02413, -0.     ,  0.     ,  0.     ,  0.01016,  0.02849, -0.02557, -0.0151 , -0.04235,  0.03802, -0.     ,  0.     , -0.     , -0.02319,  0.04636,  0.0411 ,  0.03448, -0.06892, -0.06111, -0.12961,  0.00396,  0.03002,  0.     , -0.     ,  0.     , -0.     ,  0.     , -0.     , -0.43897,  0.3967 ,  0.13434, -0.     ,  0.     , -0.     ,  0.     , -0.     ,  0.     , -0.08742,  0.05827,  0.04711, -0.     , -0.     ,  0.     ,  0.     ,  0.     , -0.     ,  0.     , -0.     ,  0.     ,  0.04016, -0.00123, -0.0093 , -0.02702,  0.00082,  0.00626, -0.     ,  0.     , -0.     ,  0.13603, -0.12293, -0.04163, -0.0915 ,  0.08269,  0.028  , -0.     , -0.     ,  0.     ,  0.02709, -0.01806, -0.0146 , -0.01822,  0.01215,  0.00982, -0.     ,  0.     , -0.     , -0.02702,  0.00082,  0.00626,  0.04016, -0.00123, -0.0093 ,  0.     , -0.     ,  0.     , -0.0915 ,  0.08269,  0.028  ,  0.13603, -0.12293, -0.04163,  0.     ,  0.     , -0.     , -0.01822,  0.01215,  0.00982,  0.02709, -0.01806, -0.0146 , -0.     ,  0.     , -0.     ,  0.     , -0.     ,  0.     ,  0.     ,  0.     , -0.     ,  0.     ,  0.     ,  0.     , -0.00001, -0.00002,  0.00005,  0.     ,  0.00001, -0.00003,  0.     ,  0.     ,  0.     ,  0.00003,  0.00004, -0.00004, -0.00002, -0.00003,  0.00002,  0.     , -0.     ,  0.     ,  0.     , -0.     ,  0.     , -0.     ,  0.     , -0.     , -0.00001, -0.00002,  0.00005, -0.     , -0.     , -0.     ,  0.     ,  0.     , -0.     ,  0.00003,  0.00004, -0.00004, -0.     , -0.     , -0.     ,  0.     ,  0.     ,  0.     ,  0.     ,  0.     , -0.     ,  0.     ,  0.     , -0.     , -0.     ,  0.     ,  0.     ,  0.     ,  0.00001, -0.00003,  0.     ,  0.     , -0.     , -0.     , -0.     , -0.     , -0.00002, -0.00003,  0.00002,  0.     ,  0.     , -0.     , -0.     , -0.     ,  0.     ,  0.     ,  0.     , -0.     , -0.01468, -0.00433, -0.02413,  0.00988,  0.00292,  0.01623,  0.     , -0.     , -0.     , -0.0151 , -0.04235,  0.03802,  0.01016,  0.02849, -0.02557,  0.     , -0.     ,  0.     ,  0.03448, -0.06892, -0.06111, -0.02319,  0.04636,  0.0411 , -0.01468, -0.00433, -0.02413, -0.     , -0.     ,  0.     ,  0.     , -0.     ,  0.     , -0.0151 , -0.04235,  0.03802, -0.     ,  0.     ,  0.     ,  0.     ,  0.     ,  0.     ,  0.03448, -0.06892, -0.06111, -0.     ,  0.     , -0.     ,  0.     , -0.     ,  0.     ,  0.00988,  0.00292,  0.01623,  0.     ,  0.     , -0.     , -0.     ,  0.     ,  0.     ,  0.01016,  0.02849, -0.02557, -0.     , -0.     , -0.     ,  0.     , -0.     , -0.     , -0.02319,  0.04636,  0.0411 , -0.     , -0.     ,  0.     , -0.     ,  0.     , -0.     ,  0.     , -0.     ,  0.     ,  0.04016, -0.00123, -0.0093 , -0.02702,  0.00082,  0.00626, -0.     ,  0.     , -0.     ,  0.13603, -0.12293, -0.04163, -0.0915 ,  0.08269,  0.028  , -0.     , -0.     ,  0.     ,  0.02709, -0.01806, -0.0146 , -0.01822,  0.01215,  0.00982,  0.04016, -0.00123, -0.0093 , -0.     ,  0.     , -0.     ,  0.     , -0.     ,  0.     ,  0.13603, -0.12293, -0.04163,  0.     , -0.     ,  0.     , -0.     ,  0.     , -0.     ,  0.02709, -0.01806, -0.0146 ,  0.     ,  0.     , -0.     , -0.     , -0.     ,  0.     , -0.02702,  0.00082,  0.00626,  0.     , -0.     ,  0.     , -0.     ,  0.     , -0.     , -0.0915 ,  0.08269,  0.028  , -0.     ,  0.     , -0.     ,  0.     , -0.     ,  0.     , -0.01822,  0.01215,  0.00982, -0.     , -0.     ,  0.     ,  0.     ,  0.     , -0.     ,  0.     , -0.     ,  0.     , -0.     ,  0.     , -0.     ,  0.     , -0.     ,  0.     , -0.     , -0.     , -0.     ,  0.     ,  0.00001, -0.00003, -0.00001, -0.00002,  0.00005, -0.     , -0.     , -0.     , -0.00002, -0.00003,  0.00002,  0.00003,  0.00004, -0.00004, -0.     ,  0.     , -0.     , -0.     , -0.     ,  0.     ,  0.     , -0.     ,  0.     ,  0.     ,  0.00001, -0.00003,  0.     ,  0.     , -0.     , -0.     , -0.     , -0.     , -0.00002, -0.00003,  0.00002,  0.     ,  0.     ,  0.     , -0.     , -0.     , -0.     , -0.     , -0.     ,  0.     ,  0.     , -0.     ,  0.     , -0.     , -0.     , -0.     , -0.00001, -0.00002,  0.00005, -0.     , -0.     , -0.     ,  0.     ,  0.     ,  0.     ,  0.00003,  0.00004, -0.00004, -0.     , -0.     , -0.     ,  0.     ,  0.     ,  0.     , -0.     , -0.     , -0.     ,  0.00988,  0.00292,  0.01623, -0.01468, -0.00433, -0.02413, -0.     , -0.     , -0.     ,  0.01016,  0.02849, -0.02557, -0.0151 , -0.04235,  0.03802, -0.     ,  0.     , -0.     , -0.02319,  0.04636,  0.0411 ,  0.03448, -0.06892, -0.06111,  0.00988,  0.00292,  0.01623,  0.     ,  0.     , -0.     , -0.     ,  0.     ,  0.     ,  0.01016,  0.02849, -0.02557,  0.     , -0.     , -0.     , -0.     , -0.     , -0.     , -0.02319,  0.04636,  0.0411 ,  0.     , -0.     ,  0.     , -0.     ,  0.     , -0.     , -0.01468, -0.00433, -0.02413, -0.     , -0.     ,  0.     ,  0.     ,  0.     , -0.     , -0.0151 , -0.04235,  0.03802,  0.     , -0.     ,  0.     ,  0.     ,  0.     , -0.     ,  0.03448, -0.06892, -0.06111, -0.     ,  0.     , -0.     ,  0.     , -0.     ,  0.     , -0.     ,  0.     , -0.     , -0.02702,  0.00082,  0.00626,  0.04016, -0.00123, -0.0093 ,  0.     , -0.     ,  0.     , -0.0915 ,  0.08269,  0.028  ,  0.13603, -0.12293, -0.04163,  0.     ,  0.     , -0.     , -0.01822,  0.01215,  0.00982,  0.02709, -0.01806, -0.0146 , -0.02702,  0.00082,  0.00626,  0.     , -0.     ,  0.     , -0.     ,  0.     , -0.     , -0.0915 ,  0.08269,  0.028  , -0.     ,  0.     , -0.     ,  0.     , -0.     ,  0.     , -0.01822,  0.01215,  0.00982, -0.     , -0.     ,  0.     ,  0.     ,  0.     , -0.     ,  0.04016, -0.00123, -0.0093 , -0.     ,  0.     , -0.     ,  0.     , -0.     ,  0.     ,  0.13603, -0.12293, -0.04163,  0.     , -0.     ,  0.     , -0.     ,  0.     , -0.     ,  0.02709, -0.01806, -0.0146 ,  0.     ,  0.     , -0.     , -0.     , -0.     ,  0.     ],\n",
       "       [ 0.     , -0.     ,  0.     , -0.     , -0.     , -0.     ,  0.     ,  0.     , -0.     , -0.00015, -0.00036,  0.00105,  0.     ,  0.     , -0.     , -0.     , -0.     ,  0.     ,  0.00054,  0.0008 , -0.00078,  0.     , -0.     , -0.     , -0.     ,  0.     ,  0.     , -0.     , -0.     , -0.     , -0.     ,  0.     , -0.     , -0.     , -0.     ,  0.     ,  0.     ,  0.     ,  0.     ,  0.00005,  0.00011, -0.00032, -0.00003, -0.00007,  0.00022,  0.     , -0.     , -0.     , -0.00017, -0.00025,  0.00024,  0.00011,  0.00017, -0.00016,  0.     ,  0.     ,  0.     , -0.     , -0.     ,  0.     , -0.     ,  0.     , -0.     , -0.     , -0.     ,  0.     , -0.00003, -0.00007,  0.00022,  0.00005,  0.00011, -0.00032, -0.     ,  0.     ,  0.     ,  0.00011,  0.00017, -0.00016, -0.00017, -0.00025,  0.00024, -0.31596, -0.18166, -0.26027,  0.     ,  0.     , -0.     ,  0.     , -0.     ,  0.     ,  0.3705 , -0.1148 ,  0.08621, -0.     ,  0.     ,  0.     ,  0.     , -0.     , -0.     ,  0.26593,  0.04105,  0.33698, -0.     , -0.     ,  0.     ,  0.     ,  0.     , -0.     ,  0.     ,  0.     , -0.     ,  0.09791,  0.05629,  0.08065, -0.06586, -0.03787, -0.05425, -0.     ,  0.     ,  0.     , -0.11481,  0.03557, -0.02671,  0.07723, -0.02393,  0.01797, -0.     , -0.     ,  0.     , -0.08241, -0.01272, -0.10442,  0.05543,  0.00856,  0.07024, -0.     , -0.     , -0.     , -0.06586, -0.03787, -0.05425,  0.09791,  0.05629,  0.08065,  0.     , -0.     , -0.     ,  0.07723, -0.02393,  0.01797, -0.11481,  0.03557, -0.02671,  0.     ,  0.     , -0.     ,  0.05543,  0.00856,  0.07024, -0.08241, -0.01272, -0.10442, -0.     ,  0.     , -0.     ,  0.     ,  0.     ,  0.     , -0.     , -0.     , -0.     ,  0.     , -0.     ,  0.     , -0.     , -0.     ,  0.     , -0.     , -0.     ,  0.     , -0.     ,  0.     ,  0.     ,  0.     ,  0.     ,  0.     ,  0.     ,  0.     ,  0.     ,  0.     ,  0.     ,  0.     ,  0.     , -0.     ,  0.     , -0.     ,  0.     , -0.     ,  0.     ,  0.     , -0.     , -0.     ,  0.     , -0.     ,  0.     , -0.     ,  0.     ,  0.     ,  0.     ,  0.     ,  0.     ,  0.     ,  0.     ,  0.     ,  0.     ,  0.     , -0.     , -0.     , -0.     , -0.     ,  0.     , -0.     ,  0.     , -0.     ,  0.     ,  0.     ,  0.     , -0.     ,  0.     , -0.     ,  0.     , -0.     ,  0.     , -0.     ,  0.     ,  0.     ,  0.     ,  0.     ,  0.     ,  0.     ,  0.     ,  0.     ,  0.     , -0.     , -0.     ,  0.     ,  0.     ,  0.     , -0.     ,  0.     , -0.     ,  0.     ,  0.     ,  0.     , -0.     ,  0.00005,  0.00011, -0.00032, -0.00003, -0.00007,  0.00022,  0.     , -0.     , -0.     , -0.00017, -0.00025,  0.00024,  0.00011,  0.00017, -0.00016, -0.     ,  0.     , -0.     ,  0.     ,  0.     , -0.     ,  0.     , -0.     , -0.     ,  0.00005,  0.00011, -0.00032, -0.     , -0.     ,  0.     ,  0.     , -0.     , -0.     , -0.00017, -0.00025,  0.00024, -0.     ,  0.     ,  0.     ,  0.     , -0.     , -0.     ,  0.     , -0.     ,  0.     , -0.     ,  0.     , -0.     , -0.     ,  0.     ,  0.     , -0.00003, -0.00007,  0.00022, -0.     , -0.     , -0.     , -0.     , -0.     ,  0.     ,  0.00011,  0.00017, -0.00016,  0.     , -0.     , -0.     , -0.     ,  0.     ,  0.     , -0.     ,  0.     , -0.     ,  0.09791,  0.05629,  0.08065, -0.06586, -0.03787, -0.05425, -0.     ,  0.     ,  0.     , -0.11481,  0.03557, -0.02671,  0.07723, -0.02393,  0.01797, -0.     , -0.     ,  0.     , -0.08241, -0.01272, -0.10442,  0.05543,  0.00856,  0.07024,  0.09791,  0.05629,  0.08065, -0.     , -0.     ,  0.     , -0.     ,  0.     , -0.     , -0.11481,  0.03557, -0.02671,  0.     , -0.     , -0.     , -0.     ,  0.     ,  0.     , -0.08241, -0.01272, -0.10442,  0.     ,  0.     , -0.     , -0.     , -0.     ,  0.     , -0.06586, -0.03787, -0.05425, -0.     ,  0.     , -0.     ,  0.     , -0.     , -0.     ,  0.07723, -0.02393,  0.01797, -0.     ,  0.     ,  0.     ,  0.     , -0.     , -0.     ,  0.05543,  0.00856,  0.07024, -0.     , -0.     ,  0.     ,  0.     ,  0.     , -0.     ,  0.     ,  0.     ,  0.     ,  0.     , -0.     ,  0.     , -0.     ,  0.     , -0.     ,  0.     ,  0.     , -0.     , -0.     ,  0.     , -0.     ,  0.     , -0.     ,  0.     ,  0.     ,  0.     ,  0.     ,  0.     ,  0.     ,  0.     ,  0.     ,  0.     ,  0.     ,  0.     , -0.     ,  0.     , -0.     , -0.     , -0.     ,  0.     ,  0.     ,  0.     , -0.     ,  0.     , -0.     ,  0.     , -0.     , -0.     ,  0.     ,  0.     , -0.     ,  0.     ,  0.     ,  0.     ,  0.     ,  0.     ,  0.     ,  0.     ,  0.     ,  0.     , -0.     ,  0.     , -0.     ,  0.     ,  0.     ,  0.     , -0.     , -0.     , -0.     ,  0.     , -0.     ,  0.     , -0.     , -0.     ,  0.     , -0.     , -0.     , -0.     ,  0.     ,  0.     ,  0.     ,  0.     ,  0.     ,  0.     ,  0.     ,  0.     ,  0.     ,  0.     ,  0.     , -0.     , -0.     , -0.     ,  0.     ,  0.     ,  0.     , -0.     , -0.     , -0.     ,  0.     , -0.00003, -0.00007,  0.00022,  0.00005,  0.00011, -0.00032, -0.     ,  0.     ,  0.     ,  0.00011,  0.00017, -0.00016, -0.00017, -0.00025,  0.00024, -0.     , -0.     ,  0.     , -0.     , -0.     , -0.     ,  0.     ,  0.     ,  0.     , -0.00003, -0.00007,  0.00022,  0.     ,  0.     , -0.     , -0.     , -0.     ,  0.     ,  0.00011,  0.00017, -0.00016,  0.     , -0.     , -0.     , -0.     ,  0.     ,  0.     ,  0.     ,  0.     , -0.     , -0.     , -0.     , -0.     , -0.     , -0.     ,  0.     ,  0.00005,  0.00011, -0.00032, -0.     , -0.     ,  0.     ,  0.     ,  0.     , -0.     , -0.00017, -0.00025,  0.00024, -0.     ,  0.     ,  0.     ,  0.     , -0.     , -0.     ,  0.     , -0.     ,  0.     , -0.06586, -0.03787, -0.05425,  0.09791,  0.05629,  0.08065,  0.     , -0.     , -0.     ,  0.07723, -0.02393,  0.01797, -0.11481,  0.03557, -0.02671,  0.     ,  0.     , -0.     ,  0.05543,  0.00856,  0.07024, -0.08241, -0.01272, -0.10442, -0.06586, -0.03787, -0.05425, -0.     ,  0.     , -0.     , -0.     , -0.     ,  0.     ,  0.07723, -0.02393,  0.01797, -0.     ,  0.     ,  0.     ,  0.     , -0.     , -0.     ,  0.05543,  0.00856,  0.07024, -0.     , -0.     ,  0.     ,  0.     ,  0.     , -0.     ,  0.09791,  0.05629,  0.08065,  0.     , -0.     ,  0.     ,  0.     ,  0.     , -0.     , -0.11481,  0.03557, -0.02671,  0.     , -0.     , -0.     , -0.     ,  0.     ,  0.     , -0.08241, -0.01272, -0.10442,  0.     ,  0.     , -0.     , -0.     , -0.     ,  0.     , -0.     , -0.     , -0.     , -0.     ,  0.     , -0.     ,  0.     , -0.     ,  0.     ,  0.     ,  0.     , -0.     ,  0.     , -0.     ,  0.     , -0.     ,  0.     , -0.     ,  0.     ,  0.     ,  0.     ,  0.     ,  0.     ,  0.     ,  0.     ,  0.     ,  0.     , -0.     ,  0.     , -0.     ,  0.     ,  0.     ,  0.     , -0.     , -0.     , -0.     ,  0.     , -0.     ,  0.     , -0.     , -0.     ,  0.     , -0.     , -0.     , -0.     ,  0.     ,  0.     ,  0.     ,  0.     ,  0.     ,  0.     ,  0.     ,  0.     ,  0.     ,  0.     , -0.     ,  0.     , -0.     , -0.     , -0.     ,  0.     ,  0.     ,  0.     , -0.     ,  0.     , -0.     ,  0.     ,  0.     , -0.     ,  0.     , -0.     , -0.     ,  0.     ,  0.     ,  0.     ,  0.     ,  0.     ,  0.     ,  0.     ,  0.     ,  0.     ],\n",
       "       [ 0.     ,  0.     , -0.     ,  0.     , -0.     ,  0.     , -0.     ,  0.     , -0.     ,  0.00002,  0.00004, -0.00012, -0.     , -0.     , -0.     ,  0.     ,  0.     , -0.     , -0.00006, -0.00009,  0.00009,  0.     , -0.     ,  0.     , -0.     ,  0.     , -0.     ,  0.     , -0.     , -0.     , -0.     , -0.     ,  0.     , -0.     ,  0.     , -0.     , -0.     , -0.     ,  0.     , -0.00001, -0.00001,  0.00004,  0.     ,  0.00001, -0.00002,  0.     , -0.     ,  0.     ,  0.00002,  0.00003, -0.00003, -0.00001, -0.00002,  0.00002, -0.     ,  0.     ,  0.     ,  0.     ,  0.     , -0.     ,  0.     , -0.     ,  0.     ,  0.     ,  0.     , -0.     ,  0.     ,  0.00001, -0.00002, -0.00001, -0.00001,  0.00004, -0.     ,  0.     ,  0.     , -0.00001, -0.00002,  0.00002,  0.00002,  0.00003, -0.00003,  0.03506,  0.00075,  0.04129, -0.     ,  0.     ,  0.     ,  0.     , -0.     ,  0.     ,  0.04724,  0.10341, -0.09478, -0.     , -0.     , -0.     ,  0.     ,  0.     ,  0.     , -0.08638,  0.14823,  0.12282, -0.     , -0.     , -0.     ,  0.     ,  0.     ,  0.     , -0.     ,  0.     , -0.     , -0.01086, -0.00023, -0.01279,  0.00731,  0.00016,  0.00861, -0.     , -0.     ,  0.     , -0.01464, -0.03204,  0.02937,  0.00985,  0.02156, -0.01976, -0.     , -0.     , -0.     ,  0.02677, -0.04593, -0.03806, -0.01801,  0.0309 ,  0.0256 ,  0.     , -0.     ,  0.     ,  0.00731,  0.00016,  0.00861, -0.01086, -0.00023, -0.01279,  0.     ,  0.     , -0.     ,  0.00985,  0.02156, -0.01976, -0.01464, -0.03204,  0.02937,  0.     ,  0.     ,  0.     , -0.01801,  0.0309 ,  0.0256 ,  0.02677, -0.04593, -0.03806, -0.04197,  0.09444,  0.31805, -0.     , -0.     ,  0.     ,  0.     , -0.     , -0.     , -0.08668, -0.13947, -0.36098,  0.     ,  0.     ,  0.     , -0.     , -0.     , -0.     ,  0.24915, -0.22749, -0.30352, -0.     ,  0.     ,  0.     ,  0.     , -0.     , -0.     , -0.     , -0.     ,  0.     ,  0.01301, -0.02926, -0.09856, -0.00875,  0.01968,  0.06629,  0.     ,  0.     ,  0.     ,  0.02686,  0.04322,  0.11186, -0.01807, -0.02907, -0.07524, -0.     ,  0.     ,  0.     , -0.0772 ,  0.07049,  0.09405,  0.05193, -0.04742, -0.06327, -0.     , -0.     , -0.     , -0.00875,  0.01968,  0.06629,  0.01301, -0.02926, -0.09856, -0.     , -0.     , -0.     , -0.01807, -0.02907, -0.07524,  0.02686,  0.04322,  0.11186,  0.     , -0.     , -0.     ,  0.05193, -0.04742, -0.06327, -0.0772 ,  0.07049,  0.09405,  0.     ,  0.     ,  0.     , -0.     , -0.     ,  0.     , -0.     ,  0.     , -0.     , -0.     , -0.     , -0.     , -0.00001, -0.00001,  0.00004,  0.     ,  0.00001, -0.00002,  0.     , -0.     ,  0.     ,  0.00002,  0.00003, -0.00003, -0.00001, -0.00002,  0.00002, -0.     , -0.     ,  0.     , -0.     ,  0.     , -0.     , -0.     , -0.     , -0.     , -0.00001, -0.00001,  0.00004, -0.     ,  0.     , -0.     , -0.     , -0.     , -0.     ,  0.00002,  0.00003, -0.00003, -0.     ,  0.     , -0.     ,  0.     , -0.     ,  0.     , -0.     ,  0.     , -0.     ,  0.     ,  0.     ,  0.     ,  0.     ,  0.     , -0.     ,  0.     ,  0.00001, -0.00002, -0.     , -0.     , -0.     ,  0.     , -0.     ,  0.     , -0.00001, -0.00002,  0.00002,  0.     , -0.     , -0.     , -0.     ,  0.     ,  0.     , -0.     ,  0.     ,  0.     , -0.01086, -0.00023, -0.01279,  0.00731,  0.00016,  0.00861, -0.     , -0.     , -0.     , -0.01464, -0.03204,  0.02937,  0.00985,  0.02156, -0.01976, -0.     , -0.     , -0.     ,  0.02677, -0.04593, -0.03806, -0.01801,  0.0309 ,  0.0256 , -0.01086, -0.00023, -0.01279,  0.     , -0.     ,  0.     , -0.     ,  0.     ,  0.     , -0.01464, -0.03204,  0.02937,  0.     ,  0.     , -0.     , -0.     , -0.     ,  0.     ,  0.02677, -0.04593, -0.03806,  0.     ,  0.     ,  0.     ,  0.     , -0.     , -0.     ,  0.00731,  0.00016,  0.00861, -0.     ,  0.     , -0.     ,  0.     , -0.     ,  0.     ,  0.00985,  0.02156, -0.01976, -0.     , -0.     ,  0.     ,  0.     ,  0.     , -0.     , -0.01801,  0.0309 ,  0.0256 ,  0.     , -0.     , -0.     , -0.     ,  0.     ,  0.     , -0.     ,  0.     ,  0.     ,  0.01301, -0.02926, -0.09856, -0.00875,  0.01968,  0.06629,  0.     ,  0.     ,  0.     ,  0.02686,  0.04322,  0.11186, -0.01807, -0.02907, -0.07524, -0.     ,  0.     ,  0.     , -0.0772 ,  0.07049,  0.09405,  0.05193, -0.04742, -0.06327,  0.01301, -0.02926, -0.09856, -0.     ,  0.     , -0.     ,  0.     ,  0.     ,  0.     ,  0.02686,  0.04322,  0.11186, -0.     , -0.     , -0.     ,  0.     ,  0.     ,  0.     , -0.0772 ,  0.07049,  0.09405,  0.     , -0.     , -0.     , -0.     ,  0.     , -0.     , -0.00875,  0.01968,  0.06629,  0.     ,  0.     ,  0.     , -0.     , -0.     , -0.     , -0.01807, -0.02907, -0.07524,  0.     ,  0.     ,  0.     , -0.     , -0.     , -0.     ,  0.05193, -0.04742, -0.06327, -0.     ,  0.     ,  0.     ,  0.     , -0.     , -0.     , -0.     ,  0.     , -0.     ,  0.     ,  0.     , -0.     ,  0.     , -0.     ,  0.     ,  0.     ,  0.     , -0.     ,  0.     ,  0.00001, -0.00002, -0.00001, -0.00001,  0.00004, -0.     ,  0.     , -0.     , -0.00001, -0.00002,  0.00002,  0.00002,  0.00003, -0.00003,  0.     ,  0.     , -0.     ,  0.     ,  0.     , -0.     , -0.     ,  0.     ,  0.     ,  0.     ,  0.00001, -0.00002, -0.     , -0.     , -0.     ,  0.     ,  0.     ,  0.     , -0.00001, -0.00002,  0.00002,  0.     , -0.     , -0.     , -0.     ,  0.     ,  0.     ,  0.     , -0.     ,  0.     , -0.     , -0.     , -0.     ,  0.     , -0.     ,  0.     , -0.00001, -0.00001,  0.00004,  0.     ,  0.     ,  0.     , -0.     , -0.     ,  0.     ,  0.00002,  0.00003, -0.00003, -0.     , -0.     , -0.     ,  0.     , -0.     ,  0.     ,  0.     , -0.     ,  0.     ,  0.00731,  0.00016,  0.00861, -0.01086, -0.00023, -0.01279,  0.     ,  0.     , -0.     ,  0.00985,  0.02156, -0.01976, -0.01464, -0.03204,  0.02937,  0.     , -0.     ,  0.     , -0.01801,  0.0309 ,  0.0256 ,  0.02677, -0.04593, -0.03806,  0.00731,  0.00016,  0.00861, -0.     ,  0.     , -0.     ,  0.     , -0.     ,  0.     ,  0.00985,  0.02156, -0.01976, -0.     , -0.     , -0.     , -0.     ,  0.     , -0.     , -0.01801,  0.0309 ,  0.0256 ,  0.     , -0.     , -0.     , -0.     ,  0.     ,  0.     , -0.01086, -0.00023, -0.01279,  0.     , -0.     ,  0.     , -0.     ,  0.     , -0.     , -0.01464, -0.03204,  0.02937,  0.     ,  0.     ,  0.     ,  0.     , -0.     , -0.     ,  0.02677, -0.04593, -0.03806, -0.     ,  0.     ,  0.     ,  0.     , -0.     ,  0.     ,  0.     ,  0.     , -0.     , -0.00875,  0.01968,  0.06629,  0.01301, -0.02926, -0.09856, -0.     , -0.     , -0.     , -0.01807, -0.02907, -0.07524,  0.02686,  0.04322,  0.11186,  0.     , -0.     , -0.     ,  0.05193, -0.04742, -0.06327, -0.0772 ,  0.07049,  0.09405, -0.00875,  0.01968,  0.06629,  0.     ,  0.     ,  0.     , -0.     ,  0.     , -0.     , -0.01807, -0.02907, -0.07524,  0.     ,  0.     ,  0.     , -0.     , -0.     , -0.     ,  0.05193, -0.04742, -0.06327, -0.     ,  0.     ,  0.     ,  0.     , -0.     , -0.     ,  0.01301, -0.02926, -0.09856, -0.     ,  0.     , -0.     ,  0.     ,  0.     ,  0.     ,  0.02686,  0.04322,  0.11186, -0.     , -0.     , -0.     ,  0.     ,  0.     ,  0.     , -0.0772 ,  0.07049,  0.09405,  0.     , -0.     , -0.     , -0.     ,  0.     ,  0.     ],\n",
       "       [ 0.     ,  0.00014, -0.00002, -0.     , -0.     ,  0.     ,  0.     ,  0.     , -0.     ,  0.63415, -0.05047, -0.19339, -0.     ,  0.     , -0.     ,  0.     , -0.     ,  0.     , -0.00696,  0.04655, -0.3164 ,  0.     ,  0.     ,  0.     , -0.     , -0.     , -0.     , -0.     , -0.     ,  0.     , -0.     , -0.00004,  0.00001, -0.     ,  0.00003, -0.     , -0.     ,  0.     , -0.     , -0.19651,  0.01564,  0.05993,  0.13218, -0.01052, -0.04031,  0.     ,  0.     ,  0.     ,  0.00216, -0.01443,  0.09804, -0.00145,  0.0097 , -0.06595,  0.     ,  0.     , -0.     ,  0.     ,  0.00003, -0.     , -0.     , -0.00004,  0.00001,  0.     , -0.     ,  0.     ,  0.13218, -0.01052, -0.04031, -0.19651,  0.01564,  0.05993, -0.     , -0.     , -0.     , -0.00145,  0.0097 , -0.06595,  0.00216, -0.01443,  0.09804, -0.     ,  0.     ,  0.     ,  0.     ,  0.     , -0.     ,  0.     ,  0.     , -0.     ,  0.     ,  0.     ,  0.     ,  0.     ,  0.     ,  0.     ,  0.     ,  0.     ,  0.     ,  0.     ,  0.     ,  0.     ,  0.     ,  0.     ,  0.     ,  0.     ,  0.     ,  0.     ,  0.     ,  0.     , -0.     ,  0.     , -0.     , -0.     , -0.     ,  0.     ,  0.     ,  0.     ,  0.     ,  0.     ,  0.     ,  0.     ,  0.     ,  0.     ,  0.     ,  0.     ,  0.     ,  0.     ,  0.     ,  0.     ,  0.     ,  0.     ,  0.     ,  0.     ,  0.     ,  0.     ,  0.     ,  0.     , -0.     ,  0.     ,  0.     ,  0.     , -0.     , -0.     ,  0.     ,  0.     ,  0.     ,  0.     ,  0.     ,  0.     ,  0.     ,  0.     ,  0.     ,  0.     ,  0.     ,  0.     ,  0.     ,  0.     ,  0.     ,  0.     ,  0.     ,  0.     ,  0.     ,  0.     ,  0.     ,  0.     ,  0.     ,  0.     ,  0.     ,  0.     ,  0.     ,  0.     ,  0.     ,  0.     ,  0.     ,  0.     ,  0.     ,  0.     ,  0.     ,  0.     ,  0.     ,  0.     ,  0.     ,  0.     ,  0.     ,  0.     ,  0.     ,  0.     ,  0.     ,  0.     ,  0.     ,  0.     ,  0.     ,  0.     ,  0.     ,  0.     ,  0.     ,  0.     ,  0.     ,  0.     ,  0.     ,  0.     ,  0.     ,  0.     ,  0.     ,  0.     ,  0.     ,  0.     ,  0.     ,  0.     ,  0.     ,  0.     ,  0.     ,  0.     ,  0.     ,  0.     ,  0.     ,  0.     ,  0.     ,  0.     ,  0.     ,  0.     ,  0.     ,  0.     ,  0.     ,  0.     ,  0.     ,  0.     ,  0.     ,  0.     ,  0.     ,  0.     ,  0.     ,  0.     ,  0.     ,  0.     ,  0.     ,  0.     ,  0.     ,  0.     ,  0.     ,  0.     ,  0.     , -0.     , -0.     ,  0.     ,  0.     , -0.00004,  0.00001,  0.     ,  0.00003, -0.     , -0.     ,  0.     , -0.     , -0.19651,  0.01564,  0.05993,  0.13218, -0.01052, -0.04031,  0.     ,  0.     ,  0.     ,  0.00216, -0.01443,  0.09804, -0.00145,  0.0097 , -0.06595, -0.     , -0.00004,  0.00001,  0.     ,  0.     , -0.     , -0.     , -0.     ,  0.     , -0.19651,  0.01564,  0.05993,  0.     , -0.     ,  0.     , -0.     ,  0.     , -0.     ,  0.00216, -0.01443,  0.09804, -0.     , -0.     , -0.     ,  0.     ,  0.     ,  0.     ,  0.     ,  0.00003, -0.     , -0.     , -0.     ,  0.     ,  0.     ,  0.     , -0.     ,  0.13218, -0.01052, -0.04031, -0.     ,  0.     , -0.     ,  0.     , -0.     ,  0.     , -0.00145,  0.0097 , -0.06595,  0.     ,  0.     ,  0.     , -0.     , -0.     , -0.     ,  0.     ,  0.     , -0.     ,  0.     , -0.     , -0.     , -0.     ,  0.     ,  0.     ,  0.     ,  0.     ,  0.     ,  0.     ,  0.     ,  0.     ,  0.     ,  0.     ,  0.     ,  0.     ,  0.     ,  0.     ,  0.     ,  0.     ,  0.     ,  0.     ,  0.     ,  0.     ,  0.     , -0.     , -0.     ,  0.     ,  0.     , -0.     , -0.     , -0.     ,  0.     ,  0.     ,  0.     ,  0.     ,  0.     ,  0.     ,  0.     ,  0.     ,  0.     ,  0.     ,  0.     ,  0.     ,  0.     ,  0.     ,  0.     ,  0.     ,  0.     ,  0.     ,  0.     , -0.     ,  0.     ,  0.     , -0.     , -0.     ,  0.     ,  0.     ,  0.     , -0.     ,  0.     ,  0.     ,  0.     ,  0.     ,  0.     ,  0.     ,  0.     ,  0.     ,  0.     ,  0.     ,  0.     ,  0.     ,  0.     ,  0.     ,  0.     ,  0.     ,  0.     ,  0.     ,  0.     ,  0.     ,  0.     ,  0.     ,  0.     ,  0.     ,  0.     ,  0.     ,  0.     ,  0.     ,  0.     ,  0.     ,  0.     ,  0.     ,  0.     ,  0.     ,  0.     ,  0.     ,  0.     ,  0.     ,  0.     ,  0.     ,  0.     ,  0.     ,  0.     ,  0.     ,  0.     ,  0.     ,  0.     ,  0.     ,  0.     ,  0.     ,  0.     ,  0.     ,  0.     ,  0.     ,  0.     ,  0.     ,  0.     ,  0.     ,  0.     ,  0.     ,  0.     ,  0.     ,  0.     ,  0.     ,  0.     ,  0.     ,  0.     ,  0.     ,  0.     ,  0.     ,  0.     ,  0.     ,  0.     ,  0.     ,  0.     ,  0.     ,  0.     ,  0.     ,  0.     ,  0.     ,  0.     ,  0.     ,  0.     ,  0.     ,  0.     ,  0.     ,  0.     ,  0.     ,  0.     ,  0.     ,  0.     ,  0.     ,  0.     ,  0.     ,  0.     ,  0.     ,  0.     ,  0.     ,  0.     ,  0.     ,  0.     , -0.     , -0.     ,  0.00003, -0.     , -0.     , -0.00004,  0.00001,  0.     , -0.     ,  0.     ,  0.13218, -0.01052, -0.04031, -0.19651,  0.01564,  0.05993, -0.     , -0.     , -0.     , -0.00145,  0.0097 , -0.06595,  0.00216, -0.01443,  0.09804, -0.     ,  0.00003, -0.     , -0.     , -0.     ,  0.     ,  0.     ,  0.     , -0.     ,  0.13218, -0.01052, -0.04031, -0.     ,  0.     , -0.     ,  0.     , -0.     ,  0.     , -0.00145,  0.0097 , -0.06595,  0.     ,  0.     ,  0.     , -0.     , -0.     , -0.     ,  0.     , -0.00004,  0.00001,  0.     ,  0.     , -0.     , -0.     , -0.     ,  0.     , -0.19651,  0.01564,  0.05993,  0.     , -0.     ,  0.     , -0.     ,  0.     , -0.     ,  0.00216, -0.01443,  0.09804, -0.     , -0.     , -0.     ,  0.     ,  0.     ,  0.     ,  0.     ,  0.     ,  0.     , -0.     ,  0.     ,  0.     ,  0.     , -0.     , -0.     ,  0.     ,  0.     ,  0.     ,  0.     ,  0.     ,  0.     ,  0.     ,  0.     ,  0.     ,  0.     ,  0.     ,  0.     ,  0.     ,  0.     ,  0.     ,  0.     ,  0.     ,  0.     , -0.     ,  0.     ,  0.     , -0.     , -0.     ,  0.     ,  0.     ,  0.     , -0.     ,  0.     ,  0.     ,  0.     ,  0.     ,  0.     ,  0.     ,  0.     ,  0.     ,  0.     ,  0.     ,  0.     ,  0.     ,  0.     ,  0.     ,  0.     ,  0.     ,  0.     ,  0.     ,  0.     , -0.     , -0.     ,  0.     ,  0.     , -0.     ,  0.     ,  0.     , -0.     ,  0.     ,  0.     ,  0.     ,  0.     ,  0.     ,  0.     ,  0.     ,  0.     ,  0.     ,  0.     ,  0.     ,  0.     ,  0.     ,  0.     ,  0.     ,  0.     ,  0.     ,  0.     ,  0.     ,  0.     ,  0.     ,  0.     ,  0.     ,  0.     ,  0.     ,  0.     ,  0.     ,  0.     ,  0.     ,  0.     ,  0.     ,  0.     ,  0.     ,  0.     ,  0.     ,  0.     ,  0.     ,  0.     ,  0.     ,  0.     ,  0.     ,  0.     ,  0.     ,  0.     ,  0.     ,  0.     ,  0.     ,  0.     ,  0.     ,  0.     ,  0.     ,  0.     ,  0.     ,  0.     ,  0.     ,  0.     ,  0.     ,  0.     ,  0.     ,  0.     ,  0.     ,  0.     ,  0.     ,  0.     ,  0.     ,  0.     ,  0.     ,  0.     ,  0.     ,  0.     ,  0.     ,  0.     ,  0.     ,  0.     ,  0.     ,  0.     ,  0.     ,  0.     ,  0.     ,  0.     ,  0.     ,  0.     ,  0.     ,  0.     ,  0.     ,  0.     ,  0.     ,  0.     ,  0.     ,  0.     ,  0.     ,  0.     ,  0.     ,  0.     ,  0.     ,  0.     ,  0.     ,  0.     ,  0.     ],\n",
       "       [ 0.     ,  0.     , -0.     , -0.     ,  0.     ,  0.     ,  0.     ,  0.     ,  0.     ,  0.00003,  0.00007, -0.00019, -0.     , -0.     , -0.     ,  0.     , -0.     ,  0.     , -0.0001 , -0.00015,  0.00015, -0.     ,  0.     , -0.     ,  0.     ,  0.     ,  0.     , -0.     , -0.     ,  0.     , -0.     , -0.     ,  0.     , -0.     ,  0.     , -0.     , -0.     , -0.     ,  0.     , -0.00001, -0.00002,  0.00006,  0.00001,  0.00001, -0.00004, -0.     , -0.     , -0.     ,  0.00003,  0.00005, -0.00004, -0.00002, -0.00003,  0.00003, -0.     ,  0.     ,  0.     , -0.     ,  0.     , -0.     ,  0.     , -0.     ,  0.     ,  0.     , -0.     ,  0.     ,  0.00001,  0.00001, -0.00004, -0.00001, -0.00002,  0.00006,  0.     , -0.     ,  0.     , -0.00002, -0.00003,  0.00003,  0.00003,  0.00005, -0.00004,  0.05873,  0.04179,  0.15275,  0.     ,  0.     ,  0.     , -0.     , -0.     , -0.     ,  0.01502,  0.15965, -0.13707,  0.     , -0.     , -0.     , -0.     ,  0.     ,  0.     , -0.11449,  0.23011,  0.33084,  0.     , -0.     ,  0.     , -0.     , -0.     , -0.     ,  0.     ,  0.     ,  0.     , -0.0182 , -0.01295, -0.04733,  0.01224,  0.00871,  0.03184,  0.     , -0.     , -0.     , -0.00465, -0.04947,  0.04247,  0.00313,  0.03328, -0.02857,  0.     , -0.     ,  0.     ,  0.03548, -0.07131, -0.10252, -0.02387,  0.04796,  0.06896, -0.     , -0.     , -0.     ,  0.01224,  0.00871,  0.03184, -0.0182 , -0.01295, -0.04733, -0.     ,  0.     , -0.     ,  0.00313,  0.03328, -0.02857, -0.00465, -0.04947,  0.04247,  0.     ,  0.     , -0.     , -0.02387,  0.04796,  0.06896,  0.03548, -0.07131, -0.10252,  0.16535,  0.2007 , -0.07835, -0.     , -0.     ,  0.     ,  0.     ,  0.     ,  0.     ,  0.2628 , -0.22304,  0.18211, -0.     ,  0.     ,  0.     ,  0.     , -0.     , -0.     , -0.25059, -0.08062,  0.0291 , -0.     , -0.     ,  0.     ,  0.     ,  0.     , -0.     , -0.     , -0.     , -0.     , -0.05124, -0.06219,  0.02428,  0.03447,  0.04183, -0.01633, -0.     , -0.     ,  0.     , -0.08144,  0.06911, -0.05643,  0.05478, -0.04649,  0.03796, -0.     ,  0.     ,  0.     ,  0.07765,  0.02498, -0.00902, -0.05223, -0.0168 ,  0.00607,  0.     ,  0.     ,  0.     ,  0.03447,  0.04183, -0.01633, -0.05124, -0.06219,  0.02428,  0.     , -0.     , -0.     ,  0.05478, -0.04649,  0.03796, -0.08144,  0.06911, -0.05643,  0.     ,  0.     , -0.     , -0.05223, -0.0168 ,  0.00607,  0.07765,  0.02498, -0.00902,  0.     ,  0.     ,  0.     , -0.     , -0.     ,  0.     , -0.     ,  0.     , -0.     , -0.     ,  0.     , -0.     , -0.00001, -0.00002,  0.00006,  0.00001,  0.00001, -0.00004, -0.     ,  0.     , -0.     ,  0.00003,  0.00005, -0.00004, -0.00002, -0.00003,  0.00003,  0.     , -0.     ,  0.     , -0.     , -0.     , -0.     ,  0.     ,  0.     , -0.     , -0.00001, -0.00002,  0.00006,  0.     ,  0.     , -0.     , -0.     ,  0.     , -0.     ,  0.00003,  0.00005, -0.00004,  0.     , -0.     ,  0.     , -0.     ,  0.     ,  0.     , -0.     ,  0.     , -0.     , -0.     ,  0.     ,  0.     ,  0.     , -0.     , -0.     ,  0.00001,  0.00001, -0.00004, -0.     , -0.     , -0.     ,  0.     , -0.     ,  0.     , -0.00002, -0.00003,  0.00003, -0.     , -0.     , -0.     ,  0.     ,  0.     ,  0.     ,  0.     ,  0.     ,  0.     , -0.0182 , -0.01295, -0.04733,  0.01224,  0.00871,  0.03184,  0.     , -0.     ,  0.     , -0.00465, -0.04947,  0.04247,  0.00313,  0.03328, -0.02857,  0.     , -0.     ,  0.     ,  0.03548, -0.07131, -0.10252, -0.02387,  0.04796,  0.06896, -0.0182 , -0.01295, -0.04733, -0.     , -0.     , -0.     ,  0.     ,  0.     ,  0.     , -0.00465, -0.04947,  0.04247, -0.     ,  0.     ,  0.     ,  0.     , -0.     , -0.     ,  0.03548, -0.07131, -0.10252, -0.     ,  0.     , -0.     ,  0.     ,  0.     ,  0.     ,  0.01224,  0.00871,  0.03184,  0.     ,  0.     ,  0.     ,  0.     , -0.     , -0.     ,  0.00313,  0.03328, -0.02857,  0.     , -0.     , -0.     , -0.     ,  0.     , -0.     , -0.02387,  0.04796,  0.06896,  0.     , -0.     ,  0.     , -0.     ,  0.     , -0.     , -0.     , -0.     , -0.     , -0.05124, -0.06219,  0.02428,  0.03447,  0.04183, -0.01633, -0.     ,  0.     ,  0.     , -0.08144,  0.06911, -0.05643,  0.05478, -0.04649,  0.03796, -0.     ,  0.     ,  0.     ,  0.07765,  0.02498, -0.00902, -0.05223, -0.0168 ,  0.00607, -0.05124, -0.06219,  0.02428,  0.     ,  0.     ,  0.     , -0.     , -0.     , -0.     , -0.08144,  0.06911, -0.05643,  0.     , -0.     , -0.     , -0.     ,  0.     ,  0.     ,  0.07765,  0.02498, -0.00902,  0.     , -0.     , -0.     , -0.     ,  0.     ,  0.     ,  0.03447,  0.04183, -0.01633, -0.     , -0.     , -0.     ,  0.     ,  0.     ,  0.     ,  0.05478, -0.04649,  0.03796, -0.     ,  0.     ,  0.     ,  0.     , -0.     ,  0.     , -0.05223, -0.0168 ,  0.00607, -0.     ,  0.     ,  0.     ,  0.     , -0.     , -0.     , -0.     ,  0.     ,  0.     ,  0.     ,  0.     , -0.     ,  0.     , -0.     ,  0.     ,  0.     ,  0.     , -0.     ,  0.00001,  0.00001, -0.00004, -0.00001, -0.00002,  0.00006,  0.     , -0.     ,  0.     , -0.00002, -0.00003,  0.00003,  0.00003,  0.00005, -0.00004,  0.     ,  0.     , -0.     ,  0.     , -0.     ,  0.     , -0.     ,  0.     , -0.     ,  0.00001,  0.00001, -0.00004,  0.     , -0.     , -0.     ,  0.     ,  0.     ,  0.     , -0.00002, -0.00003,  0.00003, -0.     ,  0.     , -0.     ,  0.     , -0.     ,  0.     , -0.     , -0.     ,  0.     ,  0.     ,  0.     ,  0.     , -0.     , -0.     , -0.     , -0.00001, -0.00002,  0.00006,  0.     , -0.     ,  0.     , -0.     , -0.     ,  0.     ,  0.00003,  0.00005, -0.00004,  0.     ,  0.     ,  0.     , -0.     , -0.     , -0.     , -0.     , -0.     , -0.     ,  0.01224,  0.00871,  0.03184, -0.0182 , -0.01295, -0.04733, -0.     ,  0.     ,  0.     ,  0.00313,  0.03328, -0.02857, -0.00465, -0.04947,  0.04247, -0.     ,  0.     , -0.     , -0.02387,  0.04796,  0.06896,  0.03548, -0.07131, -0.10252,  0.01224,  0.00871,  0.03184,  0.     ,  0.     ,  0.     , -0.     , -0.     , -0.     ,  0.00313,  0.03328, -0.02857,  0.     , -0.     , -0.     ,  0.     ,  0.     ,  0.     , -0.02387,  0.04796,  0.06896,  0.     , -0.     ,  0.     , -0.     , -0.     ,  0.     , -0.0182 , -0.01295, -0.04733, -0.     , -0.     , -0.     ,  0.     ,  0.     ,  0.     , -0.00465, -0.04947,  0.04247, -0.     ,  0.     ,  0.     ,  0.     , -0.     , -0.     ,  0.03548, -0.07131, -0.10252, -0.     ,  0.     , -0.     ,  0.     , -0.     ,  0.     ,  0.     ,  0.     ,  0.     ,  0.03447,  0.04183, -0.01633, -0.05124, -0.06219,  0.02428,  0.     , -0.     , -0.     ,  0.05478, -0.04649,  0.03796, -0.08144,  0.06911, -0.05643,  0.     ,  0.     , -0.     , -0.05223, -0.0168 ,  0.00607,  0.07765,  0.02498, -0.00902,  0.03447,  0.04183, -0.01633, -0.     , -0.     , -0.     ,  0.     ,  0.     ,  0.     ,  0.05478, -0.04649,  0.03796, -0.     ,  0.     ,  0.     ,  0.     ,  0.     , -0.     , -0.05223, -0.0168 ,  0.00607, -0.     , -0.     ,  0.     ,  0.     , -0.     , -0.     , -0.05124, -0.06219,  0.02428,  0.     ,  0.     ,  0.     , -0.     , -0.     , -0.     , -0.08144,  0.06911, -0.05643,  0.     , -0.     , -0.     , -0.     ,  0.     , -0.     ,  0.07765,  0.02498, -0.00902,  0.     , -0.     , -0.     ,  0.     , -0.     ,  0.     ]])"
      ]
     },
     "execution_count": 193,
     "metadata": {},
     "output_type": "execute_result"
    }
   ],
   "source": [
    "(ground_NO.T).real"
   ]
  },
  {
   "cell_type": "code",
   "execution_count": 194,
   "id": "e485b048",
   "metadata": {},
   "outputs": [],
   "source": [
    "psi_g = ground_NO @ (ground_NO.conj().T @ zero)\n",
    "\n",
    "psi_g_norm = psi_g / np.sqrt(psi_g@psi_g)"
   ]
  },
  {
   "cell_type": "code",
   "execution_count": 195,
   "id": "fb45f97a",
   "metadata": {},
   "outputs": [],
   "source": [
    "rho_site_0 = density_matrix_1(state_2, site, psi_g_norm, 0)"
   ]
  },
  {
   "cell_type": "code",
   "execution_count": 196,
   "id": "a7dfdb0a",
   "metadata": {},
   "outputs": [],
   "source": [
    "ev_d, ec_d = np.linalg.eigh(rho_site_0)"
   ]
  },
  {
   "cell_type": "code",
   "execution_count": 197,
   "id": "a37f5089",
   "metadata": {},
   "outputs": [],
   "source": [
    "index_D = np.argsort(-ev_d)\n",
    "vec = ec_d[index_D[0]]"
   ]
  },
  {
   "cell_type": "code",
   "execution_count": 198,
   "id": "d556618a",
   "metadata": {},
   "outputs": [
    {
     "data": {
      "text/plain": [
       "array([ 0.69628,  0.29252,  0.0112 ,  0.     ,  0.     ,  0.     ,  0.     , -0.     , -0.     ])"
      ]
     },
     "execution_count": 198,
     "metadata": {},
     "output_type": "execute_result"
    }
   ],
   "source": [
    "ev_d[index_D]"
   ]
  },
  {
   "cell_type": "code",
   "execution_count": 199,
   "id": "694f232d",
   "metadata": {},
   "outputs": [
    {
     "data": {
      "text/plain": [
       "array([[ 1.     +0.j, -0.     -0.j,  0.     +0.j, -0.     -0.j, -0.     -0.j,  0.     +0.j,  0.     +0.j,  0.     +0.j,  0.     +0.j],\n",
       "       [ 0.     +0.j, -0.     +0.j,  0.     +0.j, -0.06343+0.j,  0.     +0.j, -0.     +0.j,  0.     +0.j, -0.     +0.j,  0.99799+0.j],\n",
       "       [ 0.     +0.j,  0.     +0.j, -0.     +0.j, -0.99799+0.j,  0.     +0.j, -0.     +0.j, -0.     +0.j, -0.     +0.j, -0.06343+0.j],\n",
       "       [ 0.     +0.j, -0.70711+0.j,  0.70711+0.j, -0.     +0.j, -0.     +0.j, -0.     +0.j, -0.     +0.j,  0.     +0.j, -0.     +0.j],\n",
       "       [ 0.     +0.j,  0.     +0.j, -0.     +0.j, -0.     +0.j,  0.00001+0.j, -0.     +0.j,  0.     +0.j,  1.     +0.j,  0.     +0.j],\n",
       "       [ 0.     +0.j, -0.     +0.j,  0.     +0.j, -0.     +0.j,  0.05407+0.j,  0.69493+0.j,  0.71704+0.j, -0.     +0.j,  0.     +0.j],\n",
       "       [ 0.     +0.j,  0.70711+0.j,  0.70711+0.j, -0.     +0.j,  0.     +0.j, -0.     +0.j, -0.     +0.j, -0.     +0.j, -0.     +0.j],\n",
       "       [ 0.     +0.j, -0.     +0.j, -0.     +0.j,  0.     +0.j,  0.99731+0.j, -0.07313+0.j, -0.00433+0.j, -0.00001+0.j, -0.     +0.j],\n",
       "       [ 0.     +0.j,  0.     +0.j,  0.     +0.j, -0.     +0.j, -0.04943+0.j, -0.71535+0.j,  0.69702+0.j, -0.     +0.j, -0.     +0.j]])"
      ]
     },
     "execution_count": 199,
     "metadata": {},
     "output_type": "execute_result"
    }
   ],
   "source": [
    "ec_d[:, index_D]"
   ]
  },
  {
   "cell_type": "code",
   "execution_count": 200,
   "id": "a8106192",
   "metadata": {},
   "outputs": [
    {
     "data": {
      "text/plain": [
       "array([-0.73785+0.j, -0.     +0.j,  0.     +0.j,  0.     +0.j,  0.     +0.j, -0.     +0.j,  0.     +0.j, -0.     +0.j, -0.     +0.j, -0.     +0.j, -0.     +0.j, -0.     +0.j,  0.     +0.j,  0.     +0.j, -0.     +0.j, -0.     +0.j, -0.     +0.j,  0.     +0.j,  0.     +0.j, -0.     +0.j,  0.     +0.j,  0.     +0.j,  0.     +0.j, -0.     +0.j,  0.     +0.j, -0.     +0.j,  0.     +0.j, -0.     +0.j,  0.     +0.j,  0.     +0.j,  0.22864+0.j, -0.     +0.j,  0.     +0.j, -0.1538 +0.j,  0.     +0.j, -0.     +0.j,  0.     +0.j,  0.     +0.j, -0.     +0.j,  0.     +0.j,  0.     +0.j,  0.     +0.j, -0.     +0.j, -0.     +0.j, -0.     +0.j, -0.     +0.j,  0.     +0.j, -0.     +0.j, -0.     +0.j,  0.     +0.j, -0.     +0.j,  0.     +0.j, -0.     +0.j,  0.     +0.j,  0.     +0.j, -0.     +0.j, -0.     +0.j, -0.1538 +0.j,  0.     +0.j, -0.     +0.j,  0.22864+0.j, -0.     +0.j,  0.     +0.j, -0.     +0.j, -0.     +0.j,  0.     +0.j, -0.     +0.j, -0.     +0.j, -0.     +0.j,  0.     +0.j,  0.     +0.j,  0.     +0.j,  0.     +0.j, -0.     +0.j,  0.     +0.j,  0.     +0.j, -0.     +0.j,  0.     +0.j, -0.     +0.j,  0.     +0.j, -0.     +0.j,  0.     +0.j, -0.     +0.j,  0.     +0.j,  0.     +0.j,  0.     +0.j,  0.     +0.j, -0.     +0.j, -0.     +0.j, -0.     +0.j,  0.     +0.j,  0.     +0.j,  0.     +0.j,  0.     +0.j,  0.     +0.j, -0.     +0.j, -0.     +0.j, -0.     +0.j,  0.     +0.j, -0.     +0.j, -0.     +0.j, -0.     +0.j,  0.     +0.j, -0.     +0.j, -0.     +0.j, -0.     +0.j,  0.     +0.j,  0.     +0.j,  0.     +0.j,  0.     +0.j,  0.     +0.j, -0.     +0.j,  0.     +0.j, -0.     +0.j,  0.     +0.j, -0.     +0.j,  0.     +0.j,  0.     +0.j,  0.     +0.j, -0.     +0.j, -0.     +0.j, -0.     +0.j, -0.     +0.j,  0.     +0.j,  0.     +0.j,  0.     +0.j,  0.     +0.j, -0.     +0.j, -0.     +0.j,  0.     +0.j,  0.     +0.j,  0.     +0.j, -0.     +0.j, -0.     +0.j, -0.     +0.j, -0.     +0.j, -0.     +0.j, -0.     +0.j,  0.     +0.j, -0.     +0.j,  0.     +0.j, -0.     +0.j,  0.     +0.j, -0.     +0.j, -0.     +0.j, -0.     +0.j,  0.     +0.j,  0.     +0.j,  0.     +0.j,  0.     +0.j, -0.     +0.j, -0.     +0.j, -0.     +0.j, -0.     +0.j,  0.     +0.j,  0.     +0.j, -0.     +0.j, -0.     +0.j, -0.     +0.j,  0.     +0.j,  0.     +0.j,  0.     +0.j, -0.     +0.j, -0.     +0.j,  0.     +0.j,  0.     +0.j,  0.     +0.j,  0.     +0.j, -0.     +0.j, -0.     +0.j, -0.     +0.j, -0.     +0.j,  0.     +0.j, -0.     +0.j, -0.     +0.j,  0.     +0.j, -0.     +0.j,  0.     +0.j, -0.     +0.j,  0.     +0.j,  0.     +0.j, -0.     +0.j,  0.     +0.j, -0.     +0.j, -0.     +0.j,  0.     +0.j,  0.     +0.j,  0.     +0.j, -0.     +0.j,  0.     +0.j,  0.     +0.j,  0.     +0.j,  0.     +0.j,  0.     +0.j, -0.     +0.j, -0.     +0.j, -0.     +0.j,  0.     +0.j, -0.     +0.j,  0.     +0.j, -0.     +0.j,  0.     +0.j, -0.     +0.j,  0.     +0.j, -0.     +0.j,  0.     +0.j, -0.     +0.j, -0.     +0.j, -0.     +0.j,  0.     +0.j, -0.     +0.j,  0.     +0.j, -0.     +0.j,  0.     +0.j, -0.     +0.j,  0.     +0.j, -0.     +0.j, -0.     +0.j, -0.     +0.j, -0.     +0.j, -0.     +0.j,  0.     +0.j,  0.     +0.j,  0.     +0.j, -0.     +0.j,  0.     +0.j, -0.     +0.j,  0.     +0.j, -0.     +0.j,  0.     +0.j, -0.     +0.j,  0.     +0.j, -0.     +0.j,  0.     +0.j,  0.     +0.j,  0.     +0.j, -0.     +0.j,  0.     +0.j, -0.     +0.j,  0.     +0.j, -0.     +0.j,  0.     +0.j, -0.     +0.j, -0.     +0.j,  0.     +0.j,  0.     +0.j,  0.22864+0.j, -0.     +0.j,  0.     +0.j, -0.1538 +0.j,  0.     +0.j, -0.     +0.j,  0.     +0.j,  0.     +0.j, -0.     +0.j,  0.     +0.j,  0.     +0.j,  0.     +0.j, -0.     +0.j, -0.     +0.j, -0.     +0.j, -0.     +0.j,  0.     +0.j, -0.     +0.j, -0.     +0.j,  0.     +0.j, -0.     +0.j,  0.     +0.j, -0.     +0.j,  0.     +0.j,  0.22864+0.j, -0.     +0.j,  0.     +0.j,  0.     +0.j, -0.     +0.j, -0.     +0.j, -0.     +0.j,  0.     +0.j,  0.     +0.j,  0.     +0.j,  0.     +0.j,  0.     +0.j, -0.     +0.j, -0.     +0.j,  0.     +0.j,  0.     +0.j,  0.     +0.j, -0.     +0.j, -0.     +0.j,  0.     +0.j, -0.     +0.j,  0.     +0.j, -0.     +0.j,  0.     +0.j, -0.     +0.j,  0.     +0.j, -0.     +0.j, -0.1538 +0.j,  0.     +0.j, -0.     +0.j, -0.     +0.j,  0.     +0.j,  0.     +0.j,  0.     +0.j, -0.     +0.j, -0.     +0.j, -0.     +0.j, -0.     +0.j, -0.     +0.j,  0.     +0.j,  0.     +0.j, -0.     +0.j, -0.     +0.j, -0.     +0.j,  0.     +0.j,  0.     +0.j, -0.     +0.j,  0.     +0.j, -0.     +0.j,  0.     +0.j, -0.     +0.j,  0.     +0.j, -0.     +0.j,  0.     +0.j,  0.     +0.j,  0.     +0.j,  0.     +0.j, -0.     +0.j,  0.     +0.j, -0.     +0.j,  0.     +0.j, -0.     +0.j,  0.     +0.j,  0.     +0.j,  0.     +0.j, -0.     +0.j, -0.     +0.j, -0.     +0.j, -0.     +0.j,  0.     +0.j,  0.     +0.j,  0.     +0.j,  0.     +0.j, -0.     +0.j, -0.     +0.j,  0.     +0.j,  0.     +0.j,  0.     +0.j, -0.     +0.j, -0.     +0.j, -0.     +0.j, -0.     +0.j,  0.     +0.j, -0.     +0.j, -0.     +0.j, -0.     +0.j, -0.     +0.j,  0.     +0.j,  0.     +0.j,  0.     +0.j, -0.     +0.j, -0.     +0.j, -0.     +0.j, -0.     +0.j, -0.     +0.j,  0.     +0.j,  0.     +0.j,  0.     +0.j,  0.     +0.j,  0.     +0.j,  0.     +0.j,  0.     +0.j, -0.     +0.j,  0.     +0.j,  0.     +0.j,  0.     +0.j, -0.     +0.j, -0.     +0.j,  0.     +0.j, -0.     +0.j,  0.     +0.j,  0.     +0.j, -0.     +0.j,  0.     +0.j, -0.     +0.j,  0.     +0.j, -0.     +0.j,  0.     +0.j,  0.     +0.j,  0.     +0.j, -0.     +0.j,  0.     +0.j, -0.     +0.j,  0.     +0.j, -0.     +0.j,  0.     +0.j, -0.     +0.j, -0.     +0.j, -0.     +0.j,  0.     +0.j, -0.     +0.j, -0.     +0.j, -0.     +0.j,  0.     +0.j,  0.     +0.j,  0.     +0.j,  0.     +0.j,  0.     +0.j,  0.     +0.j,  0.     +0.j, -0.     +0.j, -0.     +0.j, -0.     +0.j,  0.     +0.j, -0.     +0.j,  0.     +0.j, -0.     +0.j,  0.     +0.j, -0.     +0.j,  0.     +0.j, -0.     +0.j,  0.     +0.j, -0.     +0.j, -0.     +0.j, -0.     +0.j,  0.     +0.j, -0.     +0.j,  0.     +0.j, -0.     +0.j,  0.     +0.j, -0.     +0.j,  0.     +0.j,  0.     +0.j,  0.     +0.j, -0.     +0.j, -0.     +0.j, -0.     +0.j, -0.     +0.j,  0.     +0.j,  0.     +0.j,  0.     +0.j,  0.     +0.j, -0.     +0.j,  0.     +0.j,  0.     +0.j, -0.     +0.j,  0.     +0.j, -0.     +0.j,  0.     +0.j, -0.     +0.j, -0.     +0.j,  0.     +0.j, -0.     +0.j,  0.     +0.j,  0.     +0.j, -0.     +0.j, -0.     +0.j, -0.     +0.j,  0.     +0.j, -0.     +0.j, -0.     +0.j,  0.     +0.j,  0.     +0.j,  0.     +0.j,  0.     +0.j, -0.     +0.j, -0.     +0.j, -0.     +0.j, -0.     +0.j,  0.     +0.j, -0.     +0.j, -0.     +0.j,  0.     +0.j, -0.     +0.j,  0.     +0.j, -0.     +0.j,  0.     +0.j,  0.     +0.j, -0.     +0.j,  0.     +0.j, -0.     +0.j, -0.     +0.j,  0.     +0.j,  0.     +0.j,  0.     +0.j, -0.     +0.j,  0.     +0.j, -0.     +0.j, -0.     +0.j, -0.1538 +0.j,  0.     +0.j, -0.     +0.j,  0.22864+0.j, -0.     +0.j,  0.     +0.j, -0.     +0.j, -0.     +0.j,  0.     +0.j, -0.     +0.j, -0.     +0.j, -0.     +0.j,  0.     +0.j,  0.     +0.j,  0.     +0.j,  0.     +0.j, -0.     +0.j,  0.     +0.j,  0.     +0.j, -0.     +0.j,  0.     +0.j, -0.     +0.j,  0.     +0.j, -0.     +0.j, -0.1538 +0.j,  0.     +0.j, -0.     +0.j, -0.     +0.j,  0.     +0.j,  0.     +0.j,  0.     +0.j, -0.     +0.j, -0.     +0.j, -0.     +0.j, -0.     +0.j, -0.     +0.j,  0.     +0.j,  0.     +0.j, -0.     +0.j, -0.     +0.j, -0.     +0.j,  0.     +0.j,  0.     +0.j, -0.     +0.j,  0.     +0.j, -0.     +0.j,  0.     +0.j, -0.     +0.j,  0.     +0.j, -0.     +0.j,  0.     +0.j,  0.22864+0.j, -0.     +0.j,  0.     +0.j,  0.     +0.j, -0.     +0.j, -0.     +0.j, -0.     +0.j,  0.     +0.j,  0.     +0.j,  0.     +0.j,  0.     +0.j,  0.     +0.j, -0.     +0.j, -0.     +0.j,  0.     +0.j,  0.     +0.j,  0.     +0.j, -0.     +0.j, -0.     +0.j,  0.     +0.j, -0.     +0.j,  0.     +0.j, -0.     +0.j,  0.     +0.j, -0.     +0.j,  0.     +0.j, -0.     +0.j, -0.     +0.j, -0.     +0.j, -0.     +0.j,  0.     +0.j, -0.     +0.j,  0.     +0.j, -0.     +0.j,  0.     +0.j, -0.     +0.j, -0.     +0.j, -0.     +0.j,  0.     +0.j,  0.     +0.j,  0.     +0.j,  0.     +0.j, -0.     +0.j, -0.     +0.j, -0.     +0.j, -0.     +0.j,  0.     +0.j,  0.     +0.j, -0.     +0.j, -0.     +0.j, -0.     +0.j,  0.     +0.j,  0.     +0.j,  0.     +0.j,  0.     +0.j, -0.     +0.j,  0.     +0.j,  0.     +0.j, -0.     +0.j,  0.     +0.j, -0.     +0.j,  0.     +0.j, -0.     +0.j,  0.     +0.j,  0.     +0.j,  0.     +0.j, -0.     +0.j,  0.     +0.j, -0.     +0.j,  0.     +0.j, -0.     +0.j,  0.     +0.j, -0.     +0.j, -0.     +0.j, -0.     +0.j,  0.     +0.j, -0.     +0.j, -0.     +0.j, -0.     +0.j,  0.     +0.j,  0.     +0.j, -0.     +0.j,  0.     +0.j, -0.     +0.j, -0.     +0.j, -0.     +0.j, -0.     +0.j,  0.     +0.j,  0.     +0.j,  0.     +0.j, -0.     +0.j, -0.     +0.j, -0.     +0.j, -0.     +0.j, -0.     +0.j,  0.     +0.j,  0.     +0.j,  0.     +0.j, -0.     +0.j,  0.     +0.j,  0.     +0.j,  0.     +0.j, -0.     +0.j,  0.     +0.j,  0.     +0.j,  0.     +0.j, -0.     +0.j, -0.     +0.j, -0.     +0.j, -0.     +0.j, -0.     +0.j, -0.     +0.j, -0.     +0.j,  0.     +0.j,  0.     +0.j,  0.     +0.j, -0.     +0.j,  0.     +0.j, -0.     +0.j,  0.     +0.j, -0.     +0.j,  0.     +0.j, -0.     +0.j,  0.     +0.j, -0.     +0.j,  0.     +0.j,  0.     +0.j,  0.     +0.j, -0.     +0.j,  0.     +0.j, -0.     +0.j,  0.     +0.j, -0.     +0.j,  0.     +0.j, -0.     +0.j, -0.     +0.j, -0.     +0.j,  0.     +0.j,  0.     +0.j,  0.     +0.j,  0.     +0.j, -0.     +0.j, -0.     +0.j, -0.     +0.j, -0.     +0.j,  0.     +0.j, -0.     +0.j, -0.     +0.j,  0.     +0.j, -0.     +0.j,  0.     +0.j, -0.     +0.j,  0.     +0.j,  0.     +0.j, -0.     +0.j,  0.     +0.j, -0.     +0.j, -0.     +0.j,  0.     +0.j, -0.     +0.j,  0.     +0.j, -0.     +0.j,  0.     +0.j,  0.     +0.j, -0.     +0.j, -0.     +0.j, -0.     +0.j, -0.     +0.j,  0.     +0.j,  0.     +0.j,  0.     +0.j,  0.     +0.j, -0.     +0.j,  0.     +0.j,  0.     +0.j, -0.     +0.j,  0.     +0.j, -0.     +0.j,  0.     +0.j, -0.     +0.j, -0.     +0.j,  0.     +0.j, -0.     +0.j,  0.     +0.j,  0.     +0.j, -0.     +0.j, -0.     +0.j, -0.     +0.j,  0.     +0.j])"
      ]
     },
     "execution_count": 200,
     "metadata": {},
     "output_type": "execute_result"
    }
   ],
   "source": [
    "psi_g_norm"
   ]
  },
  {
   "cell_type": "code",
   "execution_count": 201,
   "id": "35a73d80",
   "metadata": {},
   "outputs": [],
   "source": [
    "# f_cut = f_norm.reshape(-1, 9)\n",
    "f_cut = psi_g_norm.reshape(9, 9, 9)\n",
    "# f_cut = f_cut[:1, :].real"
   ]
  },
  {
   "cell_type": "code",
   "execution_count": 202,
   "id": "b13005af",
   "metadata": {},
   "outputs": [
    {
     "data": {
      "text/plain": [
       "array([-0.73785,  0.     , -0.     , -0.     ,  0.     ,  0.     ,  0.     , -0.     , -0.     ])"
      ]
     },
     "execution_count": 202,
     "metadata": {},
     "output_type": "execute_result"
    }
   ],
   "source": [
    "f_cut[:, 0, 0].real"
   ]
  },
  {
   "cell_type": "code",
   "execution_count": 204,
   "id": "69f73ab0",
   "metadata": {},
   "outputs": [
    {
     "name": "stdout",
     "output_type": "stream",
     "text": [
      "[]\n"
     ]
    }
   ],
   "source": [
    "mask = (np.all(np.abs(f_cut[:, :3]) > 1e-10, axis=1)) & (np.all(np.abs(f_cut[:, 3:]) < 1e-10, axis=1))\n",
    "\n",
    "rows = f_cut[mask].T\n",
    "print(rows)"
   ]
  },
  {
   "cell_type": "code",
   "execution_count": 205,
   "id": "ce6b0cbc",
   "metadata": {},
   "outputs": [],
   "source": [
    "Q, R = np.linalg.qr(rows[:, :9])"
   ]
  },
  {
   "cell_type": "code",
   "execution_count": 1,
   "id": "69205c26",
   "metadata": {},
   "outputs": [
    {
     "ename": "NameError",
     "evalue": "name 'np' is not defined",
     "output_type": "error",
     "traceback": [
      "\u001b[31m---------------------------------------------------------------------------\u001b[39m",
      "\u001b[31mNameError\u001b[39m                                 Traceback (most recent call last)",
      "\u001b[36mCell\u001b[39m\u001b[36m \u001b[39m\u001b[32mIn[1]\u001b[39m\u001b[32m, line 1\u001b[39m\n\u001b[32m----> \u001b[39m\u001b[32m1\u001b[39m eig_val_i, eig_vec_i = \u001b[43mnp\u001b[49m.linalg.eigh(Q)\n\u001b[32m      2\u001b[39m eig_val_i\n",
      "\u001b[31mNameError\u001b[39m: name 'np' is not defined"
     ]
    }
   ],
   "source": [
    "eig_val_i, eig_vec_i = np.linalg.eigh(Q)\n",
    "eig_val_i"
   ]
  },
  {
   "cell_type": "code",
   "execution_count": null,
   "id": "e2043f99",
   "metadata": {},
   "outputs": [],
   "source": []
  }
 ],
 "metadata": {
  "kernelspec": {
   "display_name": ".venv",
   "language": "python",
   "name": "python3"
  },
  "language_info": {
   "codemirror_mode": {
    "name": "ipython",
    "version": 3
   },
   "file_extension": ".py",
   "mimetype": "text/x-python",
   "name": "python",
   "nbconvert_exporter": "python",
   "pygments_lexer": "ipython3",
   "version": "3.13.4"
  }
 },
 "nbformat": 4,
 "nbformat_minor": 5
}
