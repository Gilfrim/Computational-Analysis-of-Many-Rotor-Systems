{
 "cells": [
  {
   "cell_type": "markdown",
   "id": "b53bd5ae",
   "metadata": {},
   "source": [
    "# Setup"
   ]
  },
  {
   "cell_type": "code",
   "execution_count": 2,
   "id": "080c8b7f",
   "metadata": {},
   "outputs": [],
   "source": [
    "import numpy as np\n",
    "import matplotlib.pyplot as plt\n",
    "import opt_einsum as oe\n",
    "from scipy.optimize import minimize, differential_evolution, NonlinearConstraint\n",
    "\n",
    "from quant_rotor.core.sparse.hamiltonian import hamiltonian_sparse\n",
    "from quant_rotor.core.dense.hamiltonian import hamiltonian_dense\n",
    "from quant_rotor.core.dense.hamiltonian_big import hamiltonian_general_dense\n",
    "\n",
    "from quant_rotor.core.dense.de_solve_one_thermal import integration_scheme as int_slow\n",
    "from quant_rotor.core.dense.de_solve_one_thermal_dense import integration_scheme as int_fast\n",
    "import quant_rotor.models.dense.thermofield_boltz_funcs as bz\n",
    "\n",
    "from quant_rotor.core.dense.t_amplitudes_periodic import t_periodic\n",
    "\n",
    "from quant_rotor.models.dense.density_matrix import density_matrix_1"
   ]
  },
  {
   "cell_type": "code",
   "execution_count": 3,
   "id": "310d3ef2",
   "metadata": {},
   "outputs": [],
   "source": [
    "np.set_printoptions(precision=5)\n",
    "np.set_printoptions(suppress=True)\n",
    "np.set_printoptions(linewidth=np.inf)\n",
    "np.set_printoptions(threshold=np.inf)"
   ]
  },
  {
   "cell_type": "code",
   "execution_count": 4,
   "id": "358c5fc4",
   "metadata": {},
   "outputs": [],
   "source": [
    "site = 3\n",
    "state = 3\n",
    "g = 0.9"
   ]
  },
  {
   "cell_type": "markdown",
   "id": "6552d48a",
   "metadata": {},
   "source": [
    "# TF Hamimltonian"
   ]
  },
  {
   "cell_type": "code",
   "execution_count": 5,
   "id": "65bbb255",
   "metadata": {},
   "outputs": [],
   "source": [
    "H, K, V = hamiltonian_general_dense(state, site, g)"
   ]
  },
  {
   "cell_type": "markdown",
   "id": "651ae10e",
   "metadata": {},
   "source": [
    "## Check ocupations"
   ]
  },
  {
   "cell_type": "code",
   "execution_count": 6,
   "id": "bd730903",
   "metadata": {},
   "outputs": [],
   "source": [
    "eig_val_ED, eig_vec_ED = np.linalg.eigh(H)"
   ]
  },
  {
   "cell_type": "code",
   "execution_count": 7,
   "id": "4007c9b3",
   "metadata": {},
   "outputs": [
    {
     "data": {
      "text/plain": [
       "array([-1.83417, -1.77634,  0.49623,  0.49623,  0.869  ,  0.869  ,  1.1542 ,  1.398  ,  1.89511,  1.89511,  1.93651,  2.2752 ,  2.2752 ,  2.9834 ,  3.09445,  3.10851,  3.11713,  3.23051,  3.23051,  3.27898,  3.27898,  3.5124 ,  3.5124 ,  3.55355,  3.55355,  3.83923,  3.90596])"
      ]
     },
     "execution_count": 7,
     "metadata": {},
     "output_type": "execute_result"
    }
   ],
   "source": [
    "eig_val_ED"
   ]
  },
  {
   "cell_type": "code",
   "execution_count": 8,
   "id": "fef01e18",
   "metadata": {},
   "outputs": [],
   "source": [
    "index_ED = np.argsort(eig_val_ED)\n",
    "psi_vec = eig_vec_ED[:, index_ED[0]]\n",
    "\n",
    "D_ED = density_matrix_1(state, site, psi_vec, 0)"
   ]
  },
  {
   "cell_type": "code",
   "execution_count": 9,
   "id": "6a1d3cc7",
   "metadata": {},
   "outputs": [
    {
     "data": {
      "text/plain": [
       "np.float64(-1.8341740563709745)"
      ]
     },
     "execution_count": 9,
     "metadata": {},
     "output_type": "execute_result"
    }
   ],
   "source": [
    "eig_val_ED[index_ED[0]]"
   ]
  },
  {
   "cell_type": "code",
   "execution_count": 10,
   "id": "3a978507",
   "metadata": {},
   "outputs": [],
   "source": [
    "eig_val_D_ED, eig_vec_D_ED  = np.linalg.eigh(D_ED)\n",
    "index_ED = np.argsort(-eig_val_D_ED)"
   ]
  },
  {
   "cell_type": "code",
   "execution_count": 11,
   "id": "d22b6fff",
   "metadata": {},
   "outputs": [
    {
     "data": {
      "text/plain": [
       "array([0.6274 , 0.36825, 0.00435])"
      ]
     },
     "execution_count": 11,
     "metadata": {},
     "output_type": "execute_result"
    }
   ],
   "source": [
    "eig_val_D_ED[index_ED]"
   ]
  },
  {
   "cell_type": "markdown",
   "id": "ca28a0db",
   "metadata": {},
   "source": [
    "##"
   ]
  },
  {
   "cell_type": "code",
   "execution_count": 12,
   "id": "2d502d4e",
   "metadata": {},
   "outputs": [],
   "source": [
    "state_2 = state**2"
   ]
  },
  {
   "cell_type": "code",
   "execution_count": 13,
   "id": "df1170c2",
   "metadata": {},
   "outputs": [],
   "source": [
    "U, _ = bz.thermofield_change_of_basis(K)\n",
    "\n",
    "K_tilda = bz.H_tilde_maker(K)\n",
    "\n",
    "V_tensor = V.reshape(state, state, state, state)\n",
    "\n",
    "I = np.eye(state)\n",
    "V_prim = oe.contract('pqrs,mw,nv->pmqnrwsv', V_tensor, I, I,  optimize='optimal')\n",
    "\n",
    "V_grouped = V_prim.reshape(state**2, state**2, state**2, state**2)\n",
    "\n",
    "V_tilda = oe.contract('Mi,Wj,ijab,aN,bV->MWNV', U.T, U.T, V_grouped, U, U, optimize='optimal').reshape(state_2**2, state_2**2)"
   ]
  },
  {
   "cell_type": "code",
   "execution_count": 14,
   "id": "12a56c2a",
   "metadata": {},
   "outputs": [],
   "source": [
    "U, _ = bz.thermofield_change_of_basis(K)\n",
    "I = np.eye(state)\n",
    "\n",
    "K_prim = oe.contract('pq,mw->pmqw', K, I,  optimize='optimal')\n",
    "K_grouped = K_prim.reshape(state_2, state_2)\n",
    "\n",
    "V_tensor = V.reshape(state, state, state, state)\n",
    "V_prim = oe.contract('pqrs,mw,nv->pnqmrvsw', V_tensor, I, I,  optimize='optimal')\n",
    "V_grouped = V_prim.reshape(state_2**2, state_2**2)"
   ]
  },
  {
   "cell_type": "code",
   "execution_count": 15,
   "id": "9274a441",
   "metadata": {},
   "outputs": [],
   "source": [
    "H_TF, _, _ = hamiltonian_dense(state_2, site, g, K_import=K_tilda, V_import=V_tilda, Import=True)\n",
    "# H_TF, _, _ = hamiltonian_dense(state_2, site, g, K_import=K_grouped, V_import=V_grouped, Import=True)"
   ]
  },
  {
   "cell_type": "markdown",
   "id": "a3fb8de8",
   "metadata": {},
   "source": [
    "# Degenerate ground state basis."
   ]
  },
  {
   "cell_type": "code",
   "execution_count": 16,
   "id": "4cbbc4ce",
   "metadata": {},
   "outputs": [],
   "source": [
    "eig_val_TF, eig_vec_TF = np.linalg.eigh(H_TF)"
   ]
  },
  {
   "cell_type": "code",
   "execution_count": 17,
   "id": "92090e7a",
   "metadata": {},
   "outputs": [],
   "source": [
    "index_TF = np.argsort(-eig_val_TF)\n",
    "psi_vec = eig_vec_TF[index_TF[0]]\n",
    "\n",
    "rho_site_0 = density_matrix_1(state_2, site, psi_vec, 0)"
   ]
  },
  {
   "cell_type": "code",
   "execution_count": 18,
   "id": "6f503c1a",
   "metadata": {},
   "outputs": [],
   "source": [
    "eig_val_D, matrix_p_to_NO_full = np.linalg.eigh(rho_site_0)\n",
    "index = np.argsort(-eig_val_D)"
   ]
  },
  {
   "cell_type": "code",
   "execution_count": 19,
   "id": "61c7ad58",
   "metadata": {},
   "outputs": [],
   "source": [
    "deg_ground_basis = eig_vec_TF[:, index_TF[:27]]"
   ]
  },
  {
   "cell_type": "code",
   "execution_count": 20,
   "id": "6d6f2d5a",
   "metadata": {},
   "outputs": [],
   "source": [
    "deg_state_ocup = np.zeros((9, 27))\n",
    "\n",
    "for i in range(state**2*site):\n",
    "\n",
    "    rho_site_0 = density_matrix_1(state_2, site, deg_ground_basis[:, i], 0)\n",
    "\n",
    "    eig_val_D, matrix_p_to_NO_full = np.linalg.eigh(rho_site_0)\n",
    "\n",
    "    index = np.argsort(-eig_val_D)\n",
    "    deg_state_ocup[:, i] = eig_val_D[index]"
   ]
  },
  {
   "cell_type": "code",
   "execution_count": 21,
   "id": "4bd44003",
   "metadata": {},
   "outputs": [],
   "source": [
    "mask = np.argsort(-deg_state_ocup[0, :])"
   ]
  },
  {
   "cell_type": "code",
   "execution_count": 22,
   "id": "8a98797e",
   "metadata": {},
   "outputs": [
    {
     "name": "stdout",
     "output_type": "stream",
     "text": [
      "[[0.363 0.346 0.333 0.33  0.313 0.31  0.308 0.306 0.304 0.301 0.29  0.276 0.265 0.245 0.243 0.241 0.238 0.236 0.235 0.233 0.231 0.226 0.225 0.219 0.218 0.205 0.197]\n",
      " [0.29  0.277 0.266 0.264 0.251 0.248 0.246 0.245 0.243 0.241 0.232 0.221 0.212 0.196 0.194 0.193 0.19  0.189 0.198 0.186 0.184 0.181 0.18  0.175 0.174 0.164 0.158]\n",
      " [0.164 0.156 0.151 0.149 0.142 0.14  0.139 0.139 0.137 0.136 0.131 0.125 0.12  0.194 0.184 0.168 0.132 0.144 0.188 0.113 0.167 0.162 0.147 0.144 0.173 0.16  0.158]\n",
      " [0.06  0.069 0.089 0.077 0.118 0.106 0.091 0.087 0.123 0.083 0.126 0.094 0.095 0.155 0.147 0.135 0.107 0.115 0.158 0.105 0.133 0.129 0.118 0.115 0.138 0.128 0.126]\n",
      " [0.048 0.055 0.071 0.061 0.094 0.084 0.073 0.069 0.098 0.067 0.1   0.075 0.084 0.111 0.11  0.109 0.106 0.107 0.106 0.098 0.104 0.102 0.102 0.099 0.098 0.093 0.089]\n",
      " [0.027 0.031 0.04  0.038 0.053 0.048 0.045 0.051 0.055 0.06  0.057 0.074 0.076 0.088 0.083 0.076 0.074 0.065 0.089 0.091 0.075 0.073 0.072 0.081 0.078 0.08  0.089]\n",
      " [0.021 0.029 0.022 0.035 0.013 0.029 0.041 0.041 0.018 0.048 0.029 0.059 0.067 0.006 0.017 0.035 0.06  0.063 0.011 0.078 0.047 0.056 0.067 0.065 0.054 0.072 0.071]\n",
      " [0.017 0.024 0.018 0.03  0.01  0.023 0.036 0.039 0.014 0.038 0.023 0.042 0.043 0.005 0.014 0.028 0.059 0.051 0.009 0.051 0.037 0.045 0.057 0.065 0.043 0.064 0.071]\n",
      " [0.01  0.013 0.01  0.017 0.006 0.013 0.02  0.023 0.008 0.027 0.013 0.034 0.038 0.003 0.008 0.016 0.033 0.029 0.005 0.044 0.021 0.026 0.032 0.036 0.024 0.036 0.04 ]]\n"
     ]
    }
   ],
   "source": [
    "print(np.array2string(deg_state_ocup[:, mask], precision=3))"
   ]
  },
  {
   "cell_type": "code",
   "execution_count": 23,
   "id": "71c28e62",
   "metadata": {},
   "outputs": [
    {
     "name": "stderr",
     "output_type": "stream",
     "text": [
      "/var/folders/vt/f4sbj2d11gbbb9q5816khz2m0000gn/T/ipykernel_21174/2723689836.py:7: ComplexWarning: Casting complex values to real discards the imaginary part\n",
      "  deg_state_d_2[i] = np.trace(rho_site_0**2)\n"
     ]
    }
   ],
   "source": [
    "deg_state_d_2 = np.zeros((27))\n",
    "\n",
    "for i in range(state**2*site):\n",
    "\n",
    "    rho_site_0 = density_matrix_1(state_2, site, deg_ground_basis[:, i], 0)\n",
    "\n",
    "    deg_state_d_2[i] = np.trace(rho_site_0**2)"
   ]
  },
  {
   "cell_type": "code",
   "execution_count": 24,
   "id": "d7f2eb60",
   "metadata": {},
   "outputs": [],
   "source": [
    "mask_d2 = np.argsort(-deg_state_d_2)"
   ]
  },
  {
   "cell_type": "code",
   "execution_count": 25,
   "id": "50c45829",
   "metadata": {},
   "outputs": [
    {
     "data": {
      "text/plain": [
       "array([0.2326 , 0.21223, 0.19414, 0.16932, 0.16759, 0.16577, 0.15697, 0.14944, 0.14688, 0.14577, 0.14482, 0.14399, 0.14271, 0.14149, 0.14133, 0.13594, 0.13496, 0.1346 , 0.13319, 0.13202, 0.12959, 0.12692, 0.12623, 0.12436, 0.12317, 0.12144, 0.11959])"
      ]
     },
     "execution_count": 25,
     "metadata": {},
     "output_type": "execute_result"
    }
   ],
   "source": [
    "deg_state_d_2[mask_d2]"
   ]
  },
  {
   "cell_type": "markdown",
   "id": "0b999b53",
   "metadata": {},
   "source": [
    "# Optimal ground state basis."
   ]
  },
  {
   "cell_type": "code",
   "execution_count": 146,
   "id": "5b638c31",
   "metadata": {},
   "outputs": [],
   "source": [
    "def f_max(C, ground_NO):\n",
    "    # C is variable; ground_NO is fixed from args\n",
    "    psi = ground_NO @ C\n",
    "    D = density_matrix_1(state*2, site, psi, 0)\n",
    "    return float(np.real(np.trace(D**2)))\n",
    "\n",
    "def constr_ineq(C, ground_NO):\n",
    "    return -f_max(C, ground_NO)\n",
    "\n",
    "# optional equality constraint: <psi|psi> = 1\n",
    "def constr_eq(C):\n",
    "    return float(C @ C) - 1.0\n",
    "\n",
    "# initial guess\n",
    "C0 = np.full((state**2*site), -1 / (state**2*site))\n",
    "best = 0\n",
    "\n",
    "# for i in range(100):\n",
    "#     # uniform random numbers between -0.5 and 0.5\n",
    "#     C0 = np.random.uniform(-1, 1, size=(state**2*site))\n",
    "#     C0 /= np.linalg.norm(C0)\n",
    "\n",
    "#     print(C0)\n",
    "\n",
    "res = minimize(\n",
    "    constr_ineq,\n",
    "    x0=C0,\n",
    "    args=(deg_ground_basis,),\n",
    "    method='SLSQP',\n",
    "    constraints=[\n",
    "        {'type': 'eq', 'fun': constr_eq}\n",
    "    ],\n",
    "    options={'ftol': 1e-6, 'maxiter': 1000}\n",
    ")\n",
    "\n",
    "    # C_opt = res.x\n",
    "\n",
    "    # val = f_max(C_opt, deg_ground_basis)\n",
    "    # # print(f\"Trial {i+1:2d}: Tr(D^2) = {val:.6f}\")\n",
    "    # best = max(best, val)\n",
    "    # print(i, best)"
   ]
  },
  {
   "cell_type": "code",
   "execution_count": 137,
   "id": "3569d798",
   "metadata": {},
   "outputs": [],
   "source": [
    "# def f_max(C, ground_NO):\n",
    "#     # C is variable; ground_NO is fixed from args\n",
    "#     psi = ground_NO @ C\n",
    "#     D = density_matrix_1(state*2, site, psi, 0)\n",
    "#     # purity is real; keep scalar return\n",
    "#     return float(np.real(np.trace(D @ D)))  # or np.trace(D**2)\n",
    "\n",
    "# # objective: minimize 1 - f_max  <=>  maximize f_max\n",
    "# def obj(C, ground_NO):\n",
    "#     return f_max(C, ground_NO) - 1.0\n",
    "\n",
    "# # equality: ||C||^2 = 1\n",
    "# def constr_eq(C):\n",
    "#     return float(C @ C) - 1.0\n",
    "\n",
    "# # inequality: f_max(C, ground_NO) >= ε\n",
    "# epsilon = 1e-12  # set to 0 if non-strict is fine\n",
    "# def constr_pos(C, ground_NO):\n",
    "#     return f_max(C, ground_NO) - epsilon\n",
    "\n",
    "# # initial guess (1D vector)\n",
    "# C0 = np.full(state**2 * site, 1.0 / (state**2 * site), dtype=float)\n",
    "\n",
    "# res = minimize(\n",
    "#     obj,\n",
    "#     x0=C0,\n",
    "#     args=(deg_ground_basis,),   # pass ground_NO to obj\n",
    "#     method='SLSQP',\n",
    "#     constraints=[\n",
    "#         {'type': 'eq',   'fun': constr_eq},\n",
    "#         {'type': 'ineq', 'fun': obj, 'args': (deg_ground_basis,)},\n",
    "#         {'type': 'ineq', 'fun': constr_pos, 'args': (deg_ground_basis,)}\n",
    "#     ],\n",
    "#     options={'ftol': 1e-2, 'maxiter': 1000}\n",
    "# )"
   ]
  },
  {
   "cell_type": "code",
   "execution_count": 138,
   "id": "a1af5e92",
   "metadata": {},
   "outputs": [],
   "source": [
    "# # --------- Your physics-specific pieces (edit/keep as-is) ---------\n",
    "# def f_max(C, ground_NO):\n",
    "#     \"\"\"\n",
    "#     Returns the scalar objective you want to maximize, e.g. Tr(D^2) (purity).\n",
    "#     C:      (n,) real vector (variables)\n",
    "#     ground_NO: operator/matrix used to build psi\n",
    "#     \"\"\"\n",
    "#     psi = ground_NO @ C                     # shape check: (dim_state,)\n",
    "#     D = density_matrix_1(state*2, site, psi, 0)\n",
    "#     return float(np.real(np.trace(D @ D)))  # Tr(D^2)\n",
    "\n",
    "# # equality constraint: ||C||^2 = 1\n",
    "# def constr_eq(C):\n",
    "#     return 1.0 - float(C @ C)\n",
    "\n",
    "# # objective for local solver: minimize 1 - f_max  <=>  maximize f_max\n",
    "# def obj(C, ground_NO):\n",
    "#     return 1.0 - f_max(C, ground_NO)\n",
    "\n",
    "# # --------- Global stage (Differential Evolution) -------------------\n",
    "# def obj_DE(y, ground_NO):\n",
    "#     \"\"\"\n",
    "#     DE doesn't handle equality constraints directly.\n",
    "#     We enforce ||C||=1 by normalizing y -> C = y / ||y|| inside the objective.\n",
    "#     \"\"\"\n",
    "#     norm = np.linalg.norm(y)\n",
    "#     if norm == 0.0:\n",
    "#         return 1.0  # worst-case if y=0 (objective = 1 - f_max), push away from 0\n",
    "#     C = y / norm\n",
    "#     return obj(C, ground_NO)\n",
    "\n",
    "# def run_global_then_local(ground_NO, state, site, seed=123, de_maxiter=300, slsqp_maxiter=2000):\n",
    "#     n = state**2 * site  # dimension of C\n",
    "\n",
    "#     # --- Differential Evolution: rough global search on the unit sphere via normalization ---\n",
    "#     bounds = [(-1.0, 1.0)] * n  # coarse box; normalization inside obj_DE puts us on the sphere\n",
    "#     de_res = differential_evolution(\n",
    "#         obj_DE,\n",
    "#         bounds=bounds,\n",
    "#         args=(ground_NO,),\n",
    "#         strategy='best1bin',\n",
    "#         popsize=15,\n",
    "#         maxiter=de_maxiter,\n",
    "#         tol=0.01,        # loosen if too slow; tighten if needed\n",
    "#         mutation=(0.5, 1.0),\n",
    "#         recombination=0.7,\n",
    "#         polish=False,    # we'll do the polishing ourselves with SLSQP\n",
    "#         seed=seed\n",
    "#     )\n",
    "\n",
    "#     # Build a feasible starting point for the local solver (unit norm)\n",
    "#     y_best = de_res.x\n",
    "#     C0 = y_best / max(np.linalg.norm(y_best), 1e-16)\n",
    "\n",
    "#     # --- Local refinement with SLSQP under the equality constraint ||C||=1 ---\n",
    "#     slsqp_res = minimize(\n",
    "#         obj,\n",
    "#         x0=C0,\n",
    "#         args=(ground_NO,),\n",
    "#         method='SLSQP',\n",
    "#         constraints=[{'type': 'eq', 'fun': constr_eq}],\n",
    "#         options={'ftol': 1e-6, 'maxiter': slsqp_maxiter, 'disp': False}\n",
    "#     )\n",
    "\n",
    "#     # Evaluate f_max at both stages\n",
    "#     fmax_de   = f_max(C0, ground_NO)                  # after normalization of DE result\n",
    "#     fmax_local = f_max(slsqp_res.x, ground_NO) if slsqp_res.success else None\n",
    "\n",
    "#     # Simple summary\n",
    "#     summary = {\n",
    "#         'DE': {\n",
    "#             'fun': 1.0 - fmax_de,\n",
    "#             'f_max': fmax_de,\n",
    "#             'nfev': de_res.nfev,\n",
    "#             'message': de_res.message,\n",
    "#             'success': de_res.success\n",
    "#         },\n",
    "#         'SLSQP': {\n",
    "#             'fun': slsqp_res.fun,\n",
    "#             'f_max': fmax_local,\n",
    "#             'nit': slsqp_res.nit,\n",
    "#             'nfev': slsqp_res.nfev,\n",
    "#             'message': slsqp_res.message,\n",
    "#             'success': slsqp_res.success\n",
    "#         },\n",
    "#         'C_global_start': C0,\n",
    "#         'C_opt': slsqp_res.x if slsqp_res.success else C0\n",
    "#     }\n",
    "#     return summary"
   ]
  },
  {
   "cell_type": "code",
   "execution_count": 139,
   "id": "8a36e0c1",
   "metadata": {},
   "outputs": [],
   "source": [
    "# summary = run_global_then_local(deg_ground_basis, state=state, site=site)\n",
    "# print(\"Global (DE)  -> success:\", summary['DE']['success'],  \"f_max:\", summary['DE']['f_max'])\n",
    "# print(\"Local (SLSQP)-> success:\", summary['SLSQP']['success'], \"f_max:\", summary['SLSQP']['f_max'])"
   ]
  },
  {
   "cell_type": "code",
   "execution_count": 140,
   "id": "5ab20656",
   "metadata": {},
   "outputs": [],
   "source": [
    "# def obj_penalty(C, ground_NO, lam=1e3):\n",
    "#     val = f_max(C, ground_NO)\n",
    "#     return (1.0 - val) + lam * (max(0, 1.0 - val))**2\n",
    "\n",
    "# norm_con = NonlinearConstraint(lambda C: float(C @ C), 1.0, 1.0)\n",
    "\n",
    "# res = minimize(\n",
    "#     obj_penalty, C0,\n",
    "#     args=(deg_ground_basis, 1e3),      # increase lambda if needed\n",
    "#     method='trust-constr',\n",
    "#     constraints=[norm_con],\n",
    "#     options={'verbose': 0, 'gtol': 1e-10, 'xtol': 1e-12, 'barrier_tol': 1e-12}\n",
    "# )"
   ]
  },
  {
   "cell_type": "code",
   "execution_count": 147,
   "id": "967caa77",
   "metadata": {},
   "outputs": [
    {
     "data": {
      "text/plain": [
       " message: Optimization terminated successfully\n",
       " success: True\n",
       "  status: 0\n",
       "     fun: -0.0439826809025278\n",
       "       x: [ 4.063e-02 -3.736e-02 ... -5.860e-01 -1.004e-01]\n",
       "     nit: 32\n",
       "     jac: [-7.186e-03  6.551e-03 ...  1.031e-01  1.765e-02]\n",
       "    nfev: 902\n",
       "    njev: 32"
      ]
     },
     "execution_count": 147,
     "metadata": {},
     "output_type": "execute_result"
    }
   ],
   "source": [
    "res"
   ]
  },
  {
   "cell_type": "code",
   "execution_count": 142,
   "id": "016bec0b",
   "metadata": {},
   "outputs": [],
   "source": [
    "# C_opt = summary['C_opt']\n",
    "\n",
    "C_opt = res.x"
   ]
  },
  {
   "cell_type": "code",
   "execution_count": 135,
   "id": "0e46bd4a",
   "metadata": {},
   "outputs": [
    {
     "data": {
      "text/plain": [
       "np.float64(1.0000005922236501)"
      ]
     },
     "execution_count": 135,
     "metadata": {},
     "output_type": "execute_result"
    }
   ],
   "source": [
    "C_opt @ C_opt"
   ]
  },
  {
   "cell_type": "code",
   "execution_count": 112,
   "id": "864092c5",
   "metadata": {},
   "outputs": [
    {
     "data": {
      "text/plain": [
       "array([-0.04063,  0.03736, -0.03722,  0.13279,  0.0332 , -0.08272, -0.13517, -0.06367,  0.0818 ,  0.17391,  0.05423, -0.02024,  0.0255 ,  0.38366,  0.26913,  0.02091,  0.33415,  0.01299,  0.01103, -0.06293, -0.04568, -0.03167, -0.08881,  0.44419,  0.09488,  0.58601,  0.10036])"
      ]
     },
     "execution_count": 112,
     "metadata": {},
     "output_type": "execute_result"
    }
   ],
   "source": [
    "C_opt"
   ]
  },
  {
   "cell_type": "code",
   "execution_count": 113,
   "id": "f9deaa0d",
   "metadata": {},
   "outputs": [],
   "source": [
    "psi = deg_ground_basis @ C_opt"
   ]
  },
  {
   "cell_type": "code",
   "execution_count": 114,
   "id": "7536876b",
   "metadata": {},
   "outputs": [],
   "source": [
    "D_1 = density_matrix_1(state**2, site, psi, 0)"
   ]
  },
  {
   "cell_type": "code",
   "execution_count": 115,
   "id": "18a24728",
   "metadata": {},
   "outputs": [],
   "source": [
    "eig_val_opt, opt_grd_basis = np.linalg.eigh(D_1)\n",
    "index = np.argsort(-eig_val_opt)"
   ]
  },
  {
   "cell_type": "code",
   "execution_count": 116,
   "id": "b55c42b8",
   "metadata": {},
   "outputs": [
    {
     "data": {
      "text/plain": [
       "0.9560173185913747"
      ]
     },
     "execution_count": 116,
     "metadata": {},
     "output_type": "execute_result"
    }
   ],
   "source": [
    "constr_ineq(C_opt, deg_ground_basis)"
   ]
  },
  {
   "cell_type": "code",
   "execution_count": 117,
   "id": "3dafb5d2",
   "metadata": {},
   "outputs": [
    {
     "data": {
      "text/plain": [
       "-0.9466585218254122"
      ]
     },
     "execution_count": 117,
     "metadata": {},
     "output_type": "execute_result"
    }
   ],
   "source": [
    "-0.9466585218254122"
   ]
  },
  {
   "cell_type": "code",
   "execution_count": 106,
   "id": "8ca44d78",
   "metadata": {},
   "outputs": [
    {
     "data": {
      "text/plain": [
       "array([0.44386, 0.35494, 0.20066, 0.00024, 0.00019, 0.00011, 0.     , 0.     , 0.     ])"
      ]
     },
     "execution_count": 106,
     "metadata": {},
     "output_type": "execute_result"
    }
   ],
   "source": [
    "eig_val_opt[index]"
   ]
  },
  {
   "cell_type": "code",
   "execution_count": 107,
   "id": "7d46cb5d",
   "metadata": {},
   "outputs": [
    {
     "data": {
      "text/plain": [
       "array([[ 0.57712+0.j, -0.01638+0.j,  0.00005+0.j, -0.01638+0.j,  0.57712-0.j, -0.00042+0.j,  0.00004+0.j,  0.00042+0.j, -0.57735-0.j],\n",
       "       [-0.     +0.j,  0.02007+0.j,  0.00007+0.j, -0.     +0.j, -0.70682+0.j, -0.00051+0.j, -0.     +0.j, -0.00052+0.j, -0.70711+0.j],\n",
       "       [-0.81617+0.j, -0.01158+0.j,  0.00004+0.j,  0.02317+0.j,  0.40808+0.j, -0.0003 +0.j, -0.00006+0.j,  0.0003 +0.j, -0.40825+0.j],\n",
       "       [ 0.02838+0.j, -0.     +0.j, -0.     +0.j,  0.9996 +0.j, -0.     +0.j,  0.     +0.j,  0.00073+0.j,  0.     +0.j, -0.     +0.j],\n",
       "       [ 0.00009+0.j,  0.     +0.j, -0.     +0.j,  0.00073+0.j, -0.     +0.j, -0.     +0.j, -1.     +0.j,  0.     +0.j,  0.     +0.j],\n",
       "       [-0.     +0.j, -0.9996 +0.j, -0.     +0.j,  0.     +0.j, -0.02838+0.j,  0.     +0.j, -0.     +0.j,  0.00007+0.j,  0.     +0.j],\n",
       "       [ 0.     +0.j, -0.00009+0.j, -0.     +0.j,  0.     +0.j,  0.00073+0.j, -0.     +0.j, -0.     +0.j, -1.     +0.j, -0.     +0.j],\n",
       "       [ 0.     +0.j, -0.     +0.j,  0.9996 +0.j,  0.     +0.j, -0.     +0.j,  0.02838+0.j,  0.     +0.j,  0.     +0.j,  0.00007+0.j],\n",
       "       [-0.     +0.j, -0.     +0.j,  0.02838+0.j,  0.     +0.j,  0.     +0.j, -0.9996 +0.j,  0.     +0.j,  0.     +0.j,  0.00073+0.j]])"
      ]
     },
     "execution_count": 107,
     "metadata": {},
     "output_type": "execute_result"
    }
   ],
   "source": [
    "opt_grd_basis"
   ]
  },
  {
   "cell_type": "markdown",
   "id": "d5cbb21f",
   "metadata": {},
   "source": [
    "## Check Optimization"
   ]
  },
  {
   "cell_type": "code",
   "execution_count": 42,
   "id": "3c8637ab",
   "metadata": {},
   "outputs": [
    {
     "name": "stdout",
     "output_type": "stream",
     "text": [
      "Best random purity found: 0.027873691407678498\n"
     ]
    }
   ],
   "source": [
    "n = state**2 * site\n",
    "best = 0\n",
    "\n",
    "for i in range(100):\n",
    "    # uniform random numbers between -0.5 and 0.5\n",
    "    C0 = np.random.uniform(-1/(state**2*site), 1/(state**2*site), size=n)\n",
    "\n",
    "    # normalize to unit length (important for ||C||=1 constraint)\n",
    "    C0 /= np.linalg.norm(C0)\n",
    "\n",
    "    val = f_max(C0, deg_ground_basis)\n",
    "    # print(f\"Trial {i+1:2d}: Tr(D^2) = {val:.6f}\")\n",
    "    best = max(best, val)\n",
    "\n",
    "print(\"Best random purity found:\", best)"
   ]
  },
  {
   "cell_type": "code",
   "execution_count": 43,
   "id": "fd47608c",
   "metadata": {},
   "outputs": [],
   "source": [
    "C_lambda = deg_ground_basis - np.outer(psi, psi @ deg_ground_basis)"
   ]
  },
  {
   "cell_type": "code",
   "execution_count": 44,
   "id": "e2c952fb",
   "metadata": {},
   "outputs": [
    {
     "data": {
      "text/plain": [
       "(729, 27)"
      ]
     },
     "execution_count": 44,
     "metadata": {},
     "output_type": "execute_result"
    }
   ],
   "source": [
    "C_lambda.shape"
   ]
  },
  {
   "cell_type": "code",
   "execution_count": 45,
   "id": "5b173057",
   "metadata": {},
   "outputs": [],
   "source": [
    "S = C_lambda @ C_lambda.T"
   ]
  },
  {
   "cell_type": "code",
   "execution_count": 46,
   "id": "6f548225",
   "metadata": {},
   "outputs": [],
   "source": [
    "eig_val_S, eig_vec_S = np.linalg.eigh(S)"
   ]
  },
  {
   "cell_type": "code",
   "execution_count": 47,
   "id": "84b1a196",
   "metadata": {},
   "outputs": [
    {
     "data": {
      "text/plain": [
       "(729, 729)"
      ]
     },
     "execution_count": 47,
     "metadata": {},
     "output_type": "execute_result"
    }
   ],
   "source": [
    "eig_vec_S.shape"
   ]
  },
  {
   "cell_type": "code",
   "execution_count": 48,
   "id": "f95f01f4",
   "metadata": {},
   "outputs": [],
   "source": [
    "index_non_zero = np.where(np.abs(eig_val_S) > 1e-5)[0]"
   ]
  },
  {
   "cell_type": "code",
   "execution_count": 49,
   "id": "6db84107",
   "metadata": {},
   "outputs": [
    {
     "data": {
      "text/plain": [
       "array([1., 1., 1., 1., 1., 1., 1., 1., 1., 1., 1., 1., 1., 1., 1., 1., 1., 1., 1., 1., 1., 1., 1., 1., 1., 1.])"
      ]
     },
     "execution_count": 49,
     "metadata": {},
     "output_type": "execute_result"
    }
   ],
   "source": [
    "eig_val_S[index_non_zero]"
   ]
  },
  {
   "cell_type": "code",
   "execution_count": 50,
   "id": "7998add7",
   "metadata": {},
   "outputs": [],
   "source": [
    "C_new = eig_vec_S[:, index_non_zero] * eig_val_S[index_non_zero]**(-0.5)"
   ]
  },
  {
   "cell_type": "code",
   "execution_count": 51,
   "id": "d67d99fd",
   "metadata": {},
   "outputs": [
    {
     "data": {
      "text/plain": [
       "(729, 26)"
      ]
     },
     "execution_count": 51,
     "metadata": {},
     "output_type": "execute_result"
    }
   ],
   "source": [
    "C_new.shape"
   ]
  },
  {
   "cell_type": "code",
   "execution_count": 52,
   "id": "4775c0c6",
   "metadata": {},
   "outputs": [
    {
     "data": {
      "text/plain": [
       "array([1.+0.j, 1.+0.j, 1.+0.j, 1.+0.j, 1.+0.j, 1.+0.j, 1.+0.j, 1.+0.j, 1.+0.j, 1.+0.j, 1.+0.j, 1.+0.j, 1.+0.j, 1.+0.j, 1.+0.j, 1.+0.j, 1.+0.j, 1.+0.j, 1.+0.j, 1.+0.j, 1.+0.j, 1.+0.j, 1.+0.j, 1.+0.j, 1.+0.j, 1.+0.j])"
      ]
     },
     "execution_count": 52,
     "metadata": {},
     "output_type": "execute_result"
    }
   ],
   "source": [
    "np.diag(C_new.T @ S @ C_new)"
   ]
  },
  {
   "cell_type": "code",
   "execution_count": 53,
   "id": "ff903c1c",
   "metadata": {},
   "outputs": [
    {
     "data": {
      "text/plain": [
       "(729,)"
      ]
     },
     "execution_count": 53,
     "metadata": {},
     "output_type": "execute_result"
    }
   ],
   "source": [
    "C_new[:, 1].shape"
   ]
  },
  {
   "cell_type": "code",
   "execution_count": null,
   "id": "f20cfd36",
   "metadata": {},
   "outputs": [],
   "source": []
  },
  {
   "cell_type": "code",
   "execution_count": 54,
   "id": "98297bac",
   "metadata": {},
   "outputs": [],
   "source": [
    "def d_squared_overlap_basis(theta: float):\n",
    "    deg_state_d_2 = np.zeros((27))\n",
    "\n",
    "    for i in range(state**2*site - 1):\n",
    "\n",
    "        psi_i = np.cos(theta) * psi + np.sin(theta) * C_new[:, i]\n",
    "\n",
    "        rho_site_0 = density_matrix_1(state_2, site, psi_i, 0)\n",
    "\n",
    "        deg_state_d_2[i] = np.trace(rho_site_0**2)\n",
    "\n",
    "    return deg_state_d_2"
   ]
  },
  {
   "cell_type": "code",
   "execution_count": 55,
   "id": "632cdd5b",
   "metadata": {},
   "outputs": [
    {
     "name": "stdout",
     "output_type": "stream",
     "text": [
      "[0.1196 0.1196 0.1196 0.1196 0.1196 0.1196 0.1196 0.1196 0.1196 0.1196 0.1196 0.1196 0.1196 0.1196 0.1196 0.1196 0.1196 0.1196 0.1196 0.1196 0.1196 0.1196 0.1196 0.1196 0.1196 0.1196 0.    ]\n"
     ]
    },
    {
     "name": "stderr",
     "output_type": "stream",
     "text": [
      "/var/folders/vt/f4sbj2d11gbbb9q5816khz2m0000gn/T/ipykernel_21174/4112026237.py:10: ComplexWarning: Casting complex values to real discards the imaginary part\n",
      "  deg_state_d_2[i] = np.trace(rho_site_0**2)\n"
     ]
    }
   ],
   "source": [
    "print(-np.sort(-d_squared_overlap_basis(0)))"
   ]
  },
  {
   "cell_type": "code",
   "execution_count": 56,
   "id": "4558feae",
   "metadata": {},
   "outputs": [
    {
     "name": "stderr",
     "output_type": "stream",
     "text": [
      "/var/folders/vt/f4sbj2d11gbbb9q5816khz2m0000gn/T/ipykernel_21174/4112026237.py:10: ComplexWarning: Casting complex values to real discards the imaginary part\n",
      "  deg_state_d_2[i] = np.trace(rho_site_0**2)\n"
     ]
    }
   ],
   "source": [
    "theta = 0.1\n",
    "\n",
    "g_i = (d_squared_overlap_basis(theta) - d_squared_overlap_basis(-theta)) / 2 * np.abs(theta)\n",
    "\n",
    "h_i = (2 * d_squared_overlap_basis(0) - d_squared_overlap_basis(theta) - d_squared_overlap_basis(-theta)) / theta**2"
   ]
  },
  {
   "cell_type": "code",
   "execution_count": 57,
   "id": "60681989",
   "metadata": {},
   "outputs": [
    {
     "data": {
      "text/plain": [
       "array([ 0.00004, -0.00004, -0.00007,  0.00006,  0.00001, -0.00005,  0.00011, -0.00003, -0.00015, -0.00004, -0.00004,  0.00002, -0.00012,  0.00001,  0.00014, -0.00006,  0.00006, -0.00008,  0.00003,  0.00002, -0.00007, -0.00003,  0.00003,  0.00001, -0.00007, -0.00002,  0.     ])"
      ]
     },
     "execution_count": 57,
     "metadata": {},
     "output_type": "execute_result"
    }
   ],
   "source": [
    "g_i"
   ]
  },
  {
   "cell_type": "code",
   "execution_count": 58,
   "id": "e24f1771",
   "metadata": {},
   "outputs": [
    {
     "data": {
      "text/plain": [
       "array([-0.0339 , -0.01191, -0.05185, -0.07671,  0.00056, -0.10121, -0.06905, -0.0252 , -0.14608, -0.02865, -0.04388, -0.06426, -0.07878, -0.06028, -0.13241, -0.07028, -0.0672 , -0.04266, -0.02149, -0.00339, -0.02708, -0.06233, -0.01985, -0.01486, -0.06596, -0.01888,  0.     ])"
      ]
     },
     "execution_count": 58,
     "metadata": {},
     "output_type": "execute_result"
    }
   ],
   "source": [
    "h_i"
   ]
  },
  {
   "cell_type": "code",
   "execution_count": 59,
   "id": "099a9960",
   "metadata": {},
   "outputs": [
    {
     "name": "stderr",
     "output_type": "stream",
     "text": [
      "/var/folders/vt/f4sbj2d11gbbb9q5816khz2m0000gn/T/ipykernel_21174/1969988016.py:1: RuntimeWarning: invalid value encountered in divide\n",
      "  np.divide(g_i, h_i)\n"
     ]
    },
    {
     "data": {
      "text/plain": [
       "array([-0.0011 ,  0.00297,  0.00136, -0.00075,  0.0195 ,  0.00053, -0.00157,  0.0013 ,  0.00103,  0.00151,  0.00088, -0.00037,  0.00149, -0.00025, -0.00105,  0.00087, -0.00088,  0.00192, -0.0013 , -0.00485,  0.00263,  0.00051, -0.0013 , -0.00077,  0.00106,  0.00103,      nan])"
      ]
     },
     "execution_count": 59,
     "metadata": {},
     "output_type": "execute_result"
    }
   ],
   "source": [
    "np.divide(g_i, h_i)"
   ]
  },
  {
   "cell_type": "markdown",
   "id": "78a66c4d",
   "metadata": {},
   "source": [
    "# Producing TF in new basis."
   ]
  },
  {
   "cell_type": "code",
   "execution_count": 60,
   "id": "2a6083ae",
   "metadata": {},
   "outputs": [],
   "source": [
    "K_opt_grd = opt_grd_basis.T.conj() @ K_tilda @ opt_grd_basis\n",
    "\n",
    "matrix_p_to_NO_V = np.kron(opt_grd_basis, opt_grd_basis)\n",
    "\n",
    "V_opt_grd = matrix_p_to_NO_V.conj().T @ V_tilda @ matrix_p_to_NO_V"
   ]
  },
  {
   "cell_type": "markdown",
   "id": "1d4d02ef",
   "metadata": {},
   "source": [
    "# Canclulations"
   ]
  },
  {
   "cell_type": "code",
   "execution_count": 61,
   "id": "d0dcb12a",
   "metadata": {},
   "outputs": [],
   "source": [
    "H_TF_opt, _, _ = hamiltonian_dense(state_2, site, 1, K_import=K_opt_grd, V_import=V_opt_grd, Import=True)"
   ]
  },
  {
   "cell_type": "code",
   "execution_count": 62,
   "id": "d1bf1259",
   "metadata": {},
   "outputs": [
    {
     "data": {
      "text/plain": [
       "np.float64(-1.8341740563709799)"
      ]
     },
     "execution_count": 62,
     "metadata": {},
     "output_type": "execute_result"
    }
   ],
   "source": [
    "eig_val_TF_opt_ED, eig_vec_TF_opt_ED = np.linalg.eigh(H_TF_opt)\n",
    "ground_TF_opt_ED = np.min(eig_val_TF_opt_ED)\n",
    "ground_TF_opt_ED"
   ]
  },
  {
   "cell_type": "code",
   "execution_count": 63,
   "id": "9617e002",
   "metadata": {},
   "outputs": [],
   "source": [
    "index_TF = np.argmin(eig_val_TF_opt_ED)\n",
    "psi_vec = eig_vec_TF[index_TF]\n",
    "\n",
    "rho_site_0 = density_matrix_1(state_2, site, psi_vec, 0)"
   ]
  },
  {
   "cell_type": "code",
   "execution_count": 64,
   "id": "09bb2ea9",
   "metadata": {},
   "outputs": [
    {
     "data": {
      "text/plain": [
       "array([0.07406, 0.07407, 0.07407, 0.07407, 0.07407, 0.07409, 0.14815, 0.18519, 0.22222])"
      ]
     },
     "execution_count": 64,
     "metadata": {},
     "output_type": "execute_result"
    }
   ],
   "source": [
    "eig_va, eig_vc = np.linalg.eigh(rho_site_0)\n",
    "\n",
    "eig_va"
   ]
  },
  {
   "cell_type": "code",
   "execution_count": 65,
   "id": "d02ae8d6",
   "metadata": {},
   "outputs": [],
   "source": [
    "H_TF, _, _ = hamiltonian_dense(state_2, site, 1, K_import=K_tilda, V_import=V_tilda, Import=True)"
   ]
  },
  {
   "cell_type": "code",
   "execution_count": 66,
   "id": "3bca3f4b",
   "metadata": {},
   "outputs": [
    {
     "data": {
      "text/plain": [
       "np.float64(-1.8341740563709767)"
      ]
     },
     "execution_count": 66,
     "metadata": {},
     "output_type": "execute_result"
    }
   ],
   "source": [
    "eig_val_TF_ED, eig_vec_TF_ED = np.linalg.eigh(H_TF)\n",
    "ground_TF_ED = np.min(eig_val_TF_ED)\n",
    "ground_TF_ED"
   ]
  },
  {
   "cell_type": "code",
   "execution_count": 67,
   "id": "d37ac0bb",
   "metadata": {},
   "outputs": [],
   "source": [
    "H, K_NO, V_NO = hamiltonian_general_dense(state, site, g)"
   ]
  },
  {
   "cell_type": "code",
   "execution_count": 68,
   "id": "08b82f6c",
   "metadata": {},
   "outputs": [
    {
     "data": {
      "text/plain": [
       "np.float64(-1.8341740563709745)"
      ]
     },
     "execution_count": 68,
     "metadata": {},
     "output_type": "execute_result"
    }
   ],
   "source": [
    "eig_val_ED, eig_vec_ED = np.linalg.eigh(H)\n",
    "ground_ED = np.min(eig_val_ED)\n",
    "ground_ED"
   ]
  },
  {
   "cell_type": "markdown",
   "id": "551df3b1",
   "metadata": {},
   "source": [
    "***Imag. Time propagation***"
   ]
  },
  {
   "cell_type": "code",
   "execution_count": 69,
   "id": "4292a868",
   "metadata": {},
   "outputs": [],
   "source": [
    "time_opt, energy_TD_CCC_opt, one_max_TDCC_opt, two_max_TDCC_opt = int_slow(site, state_2, 1, t_init=0, t_final=10, nof_points=10000, import_K_V_TF=True, K_import=K_opt_grd, V_import=V_opt_grd.reshape(state_2, state_2, state_2, state_2))"
   ]
  },
  {
   "cell_type": "code",
   "execution_count": 70,
   "id": "546be0d1",
   "metadata": {},
   "outputs": [],
   "source": [
    "time_TF, energy_TD_TF_CCC, one_max_TD_TF_CC, two_max_TD_TF_CC = int_slow(site, state_2, 1, t_init=0, t_final=10, nof_points=10000, import_K_V_TF=True, K_import=K_tilda, V_import=V_tilda.reshape(state_2, state_2, state_2, state_2))"
   ]
  },
  {
   "cell_type": "code",
   "execution_count": 71,
   "id": "8212aac6",
   "metadata": {},
   "outputs": [],
   "source": [
    "time, energy_TD_CCC, one_max_TDCC, two_max_TDCC = int_slow(site, state, 1, t_init=0, t_final=10, nof_points=10000, import_K_V_TF=True, K_import=K_NO, V_import=V_NO.reshape(state, state, state, state))"
   ]
  },
  {
   "cell_type": "markdown",
   "id": "e0cfde34",
   "metadata": {},
   "source": [
    "***CCC***"
   ]
  },
  {
   "cell_type": "code",
   "execution_count": 72,
   "id": "946df6b0",
   "metadata": {},
   "outputs": [
    {
     "name": "stdout",
     "output_type": "stream",
     "text": [
      "[[ 0.13828+0.j -0.     +0.j -0.     +0.j  0.     +0.j -0.     +0.j -0.     +0.j -0.     +0.j -0.     +0.j  0.     +0.j]]\n"
     ]
    },
    {
     "ename": "ValueError",
     "evalue": "Diverges.",
     "output_type": "error",
     "traceback": [
      "\u001b[31m---------------------------------------------------------------------------\u001b[39m",
      "\u001b[31mValueError\u001b[39m                                Traceback (most recent call last)",
      "\u001b[36mCell\u001b[39m\u001b[36m \u001b[39m\u001b[32mIn[72]\u001b[39m\u001b[32m, line 1\u001b[39m\n\u001b[32m----> \u001b[39m\u001b[32m1\u001b[39m energy_CCC, t_1, t_2 = \u001b[43mt_periodic\u001b[49m\u001b[43m(\u001b[49m\u001b[43msite\u001b[49m\u001b[43m,\u001b[49m\u001b[43m \u001b[49m\u001b[43mstate_2\u001b[49m\u001b[43m,\u001b[49m\u001b[43m \u001b[49m\u001b[32;43m1\u001b[39;49m\u001b[43m,\u001b[49m\u001b[43m \u001b[49m\u001b[43mK_import\u001b[49m\u001b[43m=\u001b[49m\u001b[43mK_opt_grd\u001b[49m\u001b[43m,\u001b[49m\u001b[43m \u001b[49m\u001b[43mV_import\u001b[49m\u001b[43m=\u001b[49m\u001b[43mV_opt_grd\u001b[49m\u001b[43m.\u001b[49m\u001b[43mreshape\u001b[49m\u001b[43m(\u001b[49m\u001b[43mstate_2\u001b[49m\u001b[43m,\u001b[49m\u001b[43m \u001b[49m\u001b[43mstate_2\u001b[49m\u001b[43m,\u001b[49m\u001b[43m \u001b[49m\u001b[43mstate_2\u001b[49m\u001b[43m,\u001b[49m\u001b[43m \u001b[49m\u001b[43mstate_2\u001b[49m\u001b[43m)\u001b[49m\u001b[43m,\u001b[49m\u001b[43m \u001b[49m\u001b[43mImport\u001b[49m\u001b[43m=\u001b[49m\u001b[38;5;28;43;01mTrue\u001b[39;49;00m\u001b[43m)\u001b[49m\n",
      "\u001b[36mFile \u001b[39m\u001b[32m~/Desktop/Projects/Computational_Analysis_of_Many_Rotor_Systems/quant_rotor/core/dense/t_amplitudes_periodic.py:401\u001b[39m, in \u001b[36mt_periodic\u001b[39m\u001b[34m(site, state, g, i_method, threshold, gap, gap_site, HF, start_point, low_state, K_import, V_import, Import, NO)\u001b[39m\n\u001b[32m    399\u001b[39m \u001b[38;5;66;03m# CHANGE BACK TO 10\u001b[39;00m\n\u001b[32m    400\u001b[39m \u001b[38;5;28;01mif\u001b[39;00m \u001b[38;5;28mabs\u001b[39m(one_max) >= \u001b[32m10000\u001b[39m \u001b[38;5;129;01mor\u001b[39;00m \u001b[38;5;28mabs\u001b[39m(two_max) >= \u001b[32m10000\u001b[39m:\n\u001b[32m--> \u001b[39m\u001b[32m401\u001b[39m     \u001b[38;5;28;01mraise\u001b[39;00m \u001b[38;5;167;01mValueError\u001b[39;00m(\u001b[33m\"\u001b[39m\u001b[33mDiverges.\u001b[39m\u001b[33m\"\u001b[39m)\n\u001b[32m    403\u001b[39m delta_energy = energy - previous_energy\n\u001b[32m    404\u001b[39m previous_energy = energy\n",
      "\u001b[31mValueError\u001b[39m: Diverges."
     ]
    }
   ],
   "source": [
    "energy_CCC, t_1, t_2 = t_periodic(site, state_2, 1, K_import=K_opt_grd, V_import=V_opt_grd.reshape(state_2, state_2, state_2, state_2), Import=True)"
   ]
  },
  {
   "cell_type": "code",
   "execution_count": null,
   "id": "fd721de9",
   "metadata": {},
   "outputs": [],
   "source": [
    "one_max, two_max, energy_CCC, t_1, t_2 = t_periodic(site, state_2, 1, K_import=K_tilda, V_import=V_tilda.reshape(state_2, state_2, state_2, state_2), Import=True)"
   ]
  },
  {
   "cell_type": "code",
   "execution_count": null,
   "id": "d75a097c",
   "metadata": {},
   "outputs": [],
   "source": [
    "one_max, two_max, energy_CCC, t_1, t_2 = t_periodic(site, state, g, NO=True)"
   ]
  },
  {
   "cell_type": "markdown",
   "id": "f0541a51",
   "metadata": {},
   "source": [
    "# Analisis"
   ]
  },
  {
   "cell_type": "code",
   "execution_count": null,
   "id": "f0861b37",
   "metadata": {},
   "outputs": [],
   "source": [
    "plt.plot(time, -energy_TD_CCC, label=f\"NO g = {g}\")\n",
    "plt.plot(time_opt, -energy_TD_CCC_opt, label=f\"TF-Opt g = {g}\")\n",
    "plt.plot(time_TF, -energy_TD_TF_CCC, label=f\"TF g = {g}\")\n",
    "plt.title(\"Energy Imaginary Time Propagation\")\n",
    "plt.xlabel(\"Time\")\n",
    "plt.ylabel(\"Energy\")\n",
    "plt.legend()\n",
    "plt.show()\n",
    "\n",
    "print(\"NO\", energy_TD_CCC[-1])\n",
    "print(\"TF-Opt\", energy_TD_CCC_opt[-1])\n",
    "print(\"TF\", energy_TD_TF_CCC[-1])"
   ]
  },
  {
   "cell_type": "code",
   "execution_count": null,
   "id": "3c9f9aeb",
   "metadata": {},
   "outputs": [],
   "source": [
    "ground_TF_opt_ED"
   ]
  },
  {
   "cell_type": "code",
   "execution_count": null,
   "id": "9a54dfc3",
   "metadata": {},
   "outputs": [],
   "source": [
    "energy_TD_CCC_opt[-1]"
   ]
  },
  {
   "cell_type": "code",
   "execution_count": null,
   "id": "af5833ef",
   "metadata": {},
   "outputs": [],
   "source": [
    "energy_TD_CCC[-1]"
   ]
  },
  {
   "cell_type": "code",
   "execution_count": null,
   "id": "e1c29c48",
   "metadata": {},
   "outputs": [],
   "source": [
    "energy_CCC"
   ]
  }
 ],
 "metadata": {
  "kernelspec": {
   "display_name": ".venv",
   "language": "python",
   "name": "python3"
  },
  "language_info": {
   "codemirror_mode": {
    "name": "ipython",
    "version": 3
   },
   "file_extension": ".py",
   "mimetype": "text/x-python",
   "name": "python",
   "nbconvert_exporter": "python",
   "pygments_lexer": "ipython3",
   "version": "3.13.4"
  }
 },
 "nbformat": 4,
 "nbformat_minor": 5
}
