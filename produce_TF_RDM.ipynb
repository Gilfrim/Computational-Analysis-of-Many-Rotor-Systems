{
 "cells": [
  {
   "cell_type": "markdown",
   "id": "b53bd5ae",
   "metadata": {},
   "source": [
    "# Setup"
   ]
  },
  {
   "cell_type": "code",
   "execution_count": 359,
   "id": "080c8b7f",
   "metadata": {},
   "outputs": [],
   "source": [
    "import numpy as np\n",
    "import matplotlib.pyplot as plt\n",
    "import opt_einsum as oe\n",
    "from scipy.optimize import minimize, differential_evolution, NonlinearConstraint\n",
    "\n",
    "from quant_rotor.core.sparse.hamiltonian import hamiltonian_sparse\n",
    "from quant_rotor.core.dense.hamiltonian import hamiltonian_dense\n",
    "from quant_rotor.core.dense.hamiltonian_big import hamiltonian_general_dense\n",
    "\n",
    "from quant_rotor.core.dense.de_solve_one_thermal import integration_scheme as int_slow\n",
    "from quant_rotor.core.dense.de_solve_one_thermal_dense import integration_scheme as int_fast\n",
    "import quant_rotor.models.dense.thermofield_boltz_funcs as bz\n",
    "\n",
    "from quant_rotor.core.dense.t_amplitudes_periodic import t_periodic\n",
    "\n",
    "from quant_rotor.models.dense.density_matrix import density_matrix_1\n",
    "\n",
    "from quant_rotor.core.dense.t_amplitudes_guess import amplitute_energy"
   ]
  },
  {
   "cell_type": "code",
   "execution_count": 360,
   "id": "310d3ef2",
   "metadata": {},
   "outputs": [],
   "source": [
    "np.set_printoptions(precision=5)\n",
    "np.set_printoptions(suppress=True)\n",
    "np.set_printoptions(linewidth=np.inf)\n",
    "np.set_printoptions(threshold=np.inf)"
   ]
  },
  {
   "cell_type": "code",
   "execution_count": 361,
   "id": "358c5fc4",
   "metadata": {},
   "outputs": [],
   "source": [
    "site = 3\n",
    "state = 3\n",
    "g = 0.9"
   ]
  },
  {
   "cell_type": "markdown",
   "id": "6552d48a",
   "metadata": {},
   "source": [
    "# TF Hamimltonian"
   ]
  },
  {
   "cell_type": "code",
   "execution_count": 362,
   "id": "65bbb255",
   "metadata": {},
   "outputs": [],
   "source": [
    "H, K, V = hamiltonian_general_dense(state, site, g)\n",
    "# H, K, V = hamiltonian_dense(state, site, g)"
   ]
  },
  {
   "cell_type": "code",
   "execution_count": 363,
   "id": "4b3da54e",
   "metadata": {},
   "outputs": [],
   "source": [
    "eig_val_ED, eig_vec_ED = np.linalg.eigh(H)"
   ]
  },
  {
   "cell_type": "code",
   "execution_count": 364,
   "id": "2d502d4e",
   "metadata": {},
   "outputs": [],
   "source": [
    "state_2 = state**2"
   ]
  },
  {
   "cell_type": "markdown",
   "id": "40b16941",
   "metadata": {},
   "source": [
    "## Check kron and change of basis"
   ]
  },
  {
   "cell_type": "markdown",
   "id": "9d1659bb",
   "metadata": {},
   "source": [
    "***TF in p basis.***"
   ]
  },
  {
   "cell_type": "code",
   "execution_count": 365,
   "id": "df1170c2",
   "metadata": {},
   "outputs": [],
   "source": [
    "U, _ = bz.thermofield_change_of_basis(K)\n",
    "I = np.eye(state)\n",
    "\n",
    "K_tilda = bz.H_tilde_maker(K)\n",
    "\n",
    "K_prim = oe.contract('pq,mw->pmqw', K, I,  optimize='optimal')\n",
    "K_tilda_kron = U.T @ K_prim.reshape(state_2, state_2) @ U\n",
    "\n",
    "V_prim = oe.contract('pqrs,mw,nv->pmqnrwsv', V.reshape(state, state, state, state), I, I,  optimize='optimal')\n",
    "V_tilda = oe.contract('Mi,Wj,ijab,aN,bV->MWNV', U.T, U.T, V_prim.reshape(state**2, state**2, state**2, state**2), U, U, optimize='optimal').reshape(state_2**2, state_2**2)\n",
    "\n",
    "U_kron = np.kron(U, U)\n",
    "\n",
    "V_tilda_kron = U_kron.T @ V_prim.reshape(state_2**2, state_2**2) @ U_kron"
   ]
  },
  {
   "cell_type": "markdown",
   "id": "396ea3bd",
   "metadata": {},
   "source": [
    "***Checks***"
   ]
  },
  {
   "cell_type": "code",
   "execution_count": 366,
   "id": "9b12c972",
   "metadata": {},
   "outputs": [],
   "source": [
    "if not(np.allclose(K_tilda.reshape(state_2, state_2), K_tilda_kron, atol=1e-20)):\n",
    "    raise ValueError(\"Incorect\")\n",
    "\n",
    "if not(np.allclose(V_tilda.reshape(state_2**2, state_2**2), V_tilda_kron, atol=1e-20)):\n",
    "    raise ValueError(\"Dot incorect\")"
   ]
  },
  {
   "cell_type": "markdown",
   "id": "4e1aea80",
   "metadata": {},
   "source": [
    "##"
   ]
  },
  {
   "cell_type": "code",
   "execution_count": 367,
   "id": "12a56c2a",
   "metadata": {},
   "outputs": [],
   "source": [
    "U, _ = bz.thermofield_change_of_basis(K)\n",
    "I = np.eye(state)\n",
    "\n",
    "K_prim = oe.contract('pq,mw->pmqw', K, I,  optimize='optimal')\n",
    "K_grouped = K_prim.reshape(state_2, state_2)\n",
    "\n",
    "V_tensor = V.reshape(state, state, state, state)\n",
    "V_prim = oe.contract('pqrs,mw,nv->pnqmrvsw', V_tensor, I, I,  optimize='optimal')\n",
    "V_grouped = V_prim.reshape(state_2**2, state_2**2)"
   ]
  },
  {
   "cell_type": "code",
   "execution_count": 368,
   "id": "9274a441",
   "metadata": {},
   "outputs": [],
   "source": [
    "# H_TF, _, _ = hamiltonian_dense(state_2, site, g, K_import=K_tilda, V_import=V_tilda, Import=True)\n",
    "H_TF, _, _ = hamiltonian_dense(state_2, site, g, K_import=K_grouped, V_import=V_grouped, Import=True)"
   ]
  },
  {
   "cell_type": "markdown",
   "id": "a3fb8de8",
   "metadata": {},
   "source": [
    "# Degenerate ground state basis."
   ]
  },
  {
   "cell_type": "code",
   "execution_count": 369,
   "id": "4cbbc4ce",
   "metadata": {},
   "outputs": [],
   "source": [
    "eig_val_TF, eig_vec_TF = np.linalg.eigh(H_TF)"
   ]
  },
  {
   "cell_type": "code",
   "execution_count": 370,
   "id": "92090e7a",
   "metadata": {},
   "outputs": [],
   "source": [
    "index_TF = np.argsort(eig_val_TF)\n",
    "psi_vec = eig_vec_TF[index_TF[0]]\n",
    "\n",
    "rho_site_0 = density_matrix_1(state_2, site, psi_vec, 0)"
   ]
  },
  {
   "cell_type": "code",
   "execution_count": 371,
   "id": "6f503c1a",
   "metadata": {},
   "outputs": [],
   "source": [
    "eig_val_D, matrix_p_to_NO_full = np.linalg.eigh(rho_site_0)\n",
    "index = np.argsort(-eig_val_D)"
   ]
  },
  {
   "cell_type": "code",
   "execution_count": 372,
   "id": "61c7ad58",
   "metadata": {},
   "outputs": [],
   "source": [
    "deg_ground_basis = eig_vec_TF[:, index_TF[:27]]"
   ]
  },
  {
   "cell_type": "markdown",
   "id": "151645ba",
   "metadata": {},
   "source": [
    "## Analyze degenerate ground states"
   ]
  },
  {
   "cell_type": "code",
   "execution_count": 373,
   "id": "6d6f2d5a",
   "metadata": {},
   "outputs": [],
   "source": [
    "deg_state_ocup = np.zeros((9, 27))\n",
    "\n",
    "for i in range(state**2*site):\n",
    "\n",
    "    rho_site_0 = density_matrix_1(state_2, site, deg_ground_basis[:, i], 0)\n",
    "\n",
    "    eig_val_D, matrix_p_to_NO_full = np.linalg.eigh(rho_site_0)\n",
    "\n",
    "    index = np.argsort(-eig_val_D)\n",
    "    deg_state_ocup[:, i] = eig_val_D[index]"
   ]
  },
  {
   "cell_type": "code",
   "execution_count": 374,
   "id": "4bd44003",
   "metadata": {},
   "outputs": [],
   "source": [
    "mask = np.argsort(-deg_state_ocup[0, :])"
   ]
  },
  {
   "cell_type": "code",
   "execution_count": 375,
   "id": "8a98797e",
   "metadata": {},
   "outputs": [
    {
     "name": "stdout",
     "output_type": "stream",
     "text": [
      "[[ 0.627  0.627  0.627  0.627  0.627  0.627  0.627  0.627  0.627  0.627  0.627  0.627  0.626  0.607  0.605  0.599  0.594  0.569  0.568  0.555  0.553  0.536  0.524  0.524  0.492  0.434  0.433]\n",
      " [ 0.368  0.368  0.368  0.368  0.368  0.368  0.368  0.368  0.368  0.368  0.368  0.368  0.367  0.356  0.355  0.352  0.348  0.334  0.333  0.326  0.324  0.315  0.308  0.307  0.289  0.255  0.254]\n",
      " [ 0.004  0.004  0.004  0.004  0.004  0.004  0.004  0.004  0.004  0.004  0.004  0.004  0.004  0.02   0.023  0.028  0.034  0.059  0.059  0.072  0.075  0.091  0.103  0.103  0.135  0.193  0.195]\n",
      " [ 0.     0.     0.     0.     0.     0.     0.     0.     0.     0.     0.     0.     0.002  0.012  0.013  0.017  0.02   0.034  0.035  0.042  0.044  0.053  0.061  0.061  0.079  0.113  0.114]\n",
      " [ 0.     0.     0.     0.     0.     0.     0.     0.     0.     0.     0.     0.     0.001  0.004  0.004  0.004  0.004  0.004  0.004  0.004  0.004  0.004  0.004  0.004  0.003  0.003  0.003]\n",
      " [ 0.     0.     0.     0.     0.     0.     0.     0.     0.     0.     0.     0.     0.     0.     0.     0.     0.     0.     0.     0.001  0.001  0.001  0.001  0.001  0.001  0.001  0.001]\n",
      " [ 0.     0.     0.     0.     0.     0.     0.    -0.     0.     0.     0.    -0.     0.     0.     0.     0.     0.     0.     0.     0.     0.     0.     0.     0.     0.     0.     0.   ]\n",
      " [-0.    -0.    -0.    -0.    -0.     0.     0.    -0.     0.     0.     0.    -0.     0.     0.     0.     0.     0.     0.     0.     0.     0.     0.     0.     0.     0.     0.    -0.   ]\n",
      " [-0.    -0.    -0.    -0.    -0.     0.    -0.    -0.    -0.    -0.     0.    -0.     0.     0.     0.     0.     0.     0.     0.     0.     0.     0.     0.     0.     0.     0.    -0.   ]]\n"
     ]
    }
   ],
   "source": [
    "print(np.array2string(deg_state_ocup[:, mask], precision=3))"
   ]
  },
  {
   "cell_type": "code",
   "execution_count": 376,
   "id": "71c28e62",
   "metadata": {},
   "outputs": [
    {
     "name": "stderr",
     "output_type": "stream",
     "text": [
      "/var/folders/vt/f4sbj2d11gbbb9q5816khz2m0000gn/T/ipykernel_62450/2723689836.py:7: ComplexWarning: Casting complex values to real discards the imaginary part\n",
      "  deg_state_d_2[i] = np.trace(rho_site_0**2)\n"
     ]
    }
   ],
   "source": [
    "deg_state_d_2 = np.zeros((27))\n",
    "\n",
    "for i in range(state**2*site):\n",
    "\n",
    "    rho_site_0 = density_matrix_1(state_2, site, deg_ground_basis[:, i], 0)\n",
    "\n",
    "    deg_state_d_2[i] = np.trace(rho_site_0**2)"
   ]
  },
  {
   "cell_type": "code",
   "execution_count": 377,
   "id": "d7f2eb60",
   "metadata": {},
   "outputs": [],
   "source": [
    "mask_d2 = np.argsort(-deg_state_d_2)"
   ]
  },
  {
   "cell_type": "code",
   "execution_count": 378,
   "id": "50c45829",
   "metadata": {},
   "outputs": [
    {
     "data": {
      "text/plain": [
       "array([0.52926, 0.52926, 0.52926, 0.52926, 0.52926, 0.52926, 0.52926, 0.52925, 0.52924, 0.52921, 0.52913, 0.5291 , 0.51942, 0.49203, 0.49132, 0.47824, 0.47127, 0.43551, 0.4354 , 0.42103, 0.41523, 0.38339, 0.37915, 0.36965, 0.34056, 0.30362, 0.30279])"
      ]
     },
     "execution_count": 378,
     "metadata": {},
     "output_type": "execute_result"
    }
   ],
   "source": [
    "deg_state_d_2[mask_d2]"
   ]
  },
  {
   "cell_type": "markdown",
   "id": "0b999b53",
   "metadata": {},
   "source": [
    "# Optimization Step 1."
   ]
  },
  {
   "cell_type": "code",
   "execution_count": 506,
   "id": "1f79e4f5",
   "metadata": {},
   "outputs": [],
   "source": [
    "def f_max(C, ground_NO):\n",
    "    # C is variable; ground_NO is fixed from args\n",
    "    psi = ground_NO @ C\n",
    "    D = density_matrix_1(state_2, site, psi, 0)\n",
    "    return float(np.real(np.trace(D @ D)))\n",
    "\n",
    "def constr_ineq(C, ground_NO):\n",
    "    return 1 - f_max(C, ground_NO)\n",
    "\n",
    "# optional equality constraint: <psi|psi> = 1\n",
    "def constr_eq(C):\n",
    "    return 1 - float(C @ C)"
   ]
  },
  {
   "cell_type": "code",
   "execution_count": 507,
   "id": "5ab20656",
   "metadata": {},
   "outputs": [],
   "source": [
    "# initial guess\n",
    "C0 = np.full((state**2*site),0, dtype=np.float64)"
   ]
  },
  {
   "cell_type": "code",
   "execution_count": 508,
   "id": "301a45fa",
   "metadata": {},
   "outputs": [],
   "source": [
    "res_1 = minimize(\n",
    "    f_max,\n",
    "    x0=C0,\n",
    "    args=(deg_ground_basis,),\n",
    "    method='SLSQP',\n",
    "    constraints=[\n",
    "        {'type': 'eq', 'fun': constr_eq}\n",
    "    ],\n",
    "    options={'ftol': 1e-6, 'maxiter': 1000}\n",
    ")"
   ]
  },
  {
   "cell_type": "code",
   "execution_count": 509,
   "id": "623db59d",
   "metadata": {},
   "outputs": [],
   "source": [
    "# def obj_penalty(C, ground_NO, lam=1e3):\n",
    "#     val = f_max(C, ground_NO)\n",
    "#     return (1.0 - val) + lam * (max(0, 1.0 - val))**2\n",
    "\n",
    "# norm_con = NonlinearConstraint(lambda C: float(C @ C), 1.0, 1.0)\n",
    "\n",
    "# res_1 = minimize(\n",
    "#     obj_penalty, C0,\n",
    "#     args=(deg_ground_basis, 1e1),      # increase lambda if needed\n",
    "#     method='trust-constr',\n",
    "#     constraints=[norm_con],\n",
    "#     options={'verbose': 0, 'gtol': 1e-10, 'xtol': 1e-12, 'barrier_tol': 1e-12}\n",
    "# )"
   ]
  },
  {
   "cell_type": "code",
   "execution_count": 510,
   "id": "03314546",
   "metadata": {},
   "outputs": [
    {
     "data": {
      "text/plain": [
       " message: Optimization terminated successfully\n",
       " success: True\n",
       "  status: 0\n",
       "     fun: 0.17642050974028556\n",
       "       x: [ 2.007e-01  1.890e-01 ...  1.698e-01  1.784e-01]\n",
       "     nit: 8\n",
       "     jac: [ 1.416e-01  1.334e-01 ...  1.198e-01  1.259e-01]\n",
       "    nfev: 232\n",
       "    njev: 8"
      ]
     },
     "execution_count": 510,
     "metadata": {},
     "output_type": "execute_result"
    }
   ],
   "source": [
    "res_1"
   ]
  },
  {
   "cell_type": "code",
   "execution_count": 511,
   "id": "18a24728",
   "metadata": {},
   "outputs": [],
   "source": [
    "C_opt = res_1.x\n",
    "psi_1 = deg_ground_basis @ C_opt\n",
    "D_1 = density_matrix_1(state**2, site, psi_1, 0)\n",
    "eig_val_opt, opt_grd_basis = np.linalg.eigh(D_1)\n",
    "index = np.argsort(-eig_val_opt)"
   ]
  },
  {
   "cell_type": "markdown",
   "id": "75541ed2",
   "metadata": {},
   "source": [
    "***Occupations of the optimized ground state density matrix.***"
   ]
  },
  {
   "cell_type": "code",
   "execution_count": 512,
   "id": "8ca44d78",
   "metadata": {},
   "outputs": [
    {
     "data": {
      "text/plain": [
       "array([0.20913, 0.20913, 0.20913, 0.12275, 0.12275, 0.12275, 0.00145, 0.00145, 0.00145])"
      ]
     },
     "execution_count": 512,
     "metadata": {},
     "output_type": "execute_result"
    }
   ],
   "source": [
    "eig_val_opt[index]"
   ]
  },
  {
   "cell_type": "code",
   "execution_count": 513,
   "id": "d7db8a2b",
   "metadata": {},
   "outputs": [
    {
     "data": {
      "text/plain": [
       "array([[-0.     -0.j,  0.     +0.j, -0.     +0.j, -0.     +0.j, -0.     +0.j,  0.     -0.j,  0.43913+0.j, -0.73002+0.j, -0.52368+0.j],\n",
       "       [ 0.     +0.j, -0.     +0.j,  0.     +0.j,  0.     +0.j,  0.     +0.j,  0.     +0.j,  0.14722+0.j, -0.51654+0.j,  0.84351+0.j],\n",
       "       [-0.     +0.j,  0.     +0.j,  0.     +0.j, -0.     +0.j,  0.     +0.j, -0.     +0.j,  0.88628+0.j,  0.4475 +0.j,  0.11935+0.j],\n",
       "       [-0.     +0.j,  0.     +0.j,  0.     +0.j, -0.43913+0.j,  0.73002+0.j,  0.52368+0.j, -0.     +0.j,  0.     +0.j, -0.     +0.j],\n",
       "       [ 0.     +0.j, -0.     +0.j,  0.     +0.j, -0.14722+0.j,  0.51654+0.j, -0.84351+0.j, -0.     +0.j, -0.     +0.j, -0.     +0.j],\n",
       "       [-0.     +0.j,  0.     +0.j,  0.     +0.j, -0.88628+0.j, -0.4475 +0.j, -0.11935+0.j,  0.     +0.j, -0.     +0.j,  0.     +0.j],\n",
       "       [ 0.43913+0.j, -0.73002+0.j,  0.52368+0.j, -0.     +0.j,  0.     +0.j,  0.     +0.j,  0.     +0.j,  0.     +0.j, -0.     +0.j],\n",
       "       [ 0.14722+0.j, -0.51654+0.j, -0.84351+0.j, -0.     +0.j,  0.     +0.j,  0.     +0.j,  0.     +0.j,  0.     +0.j,  0.     +0.j],\n",
       "       [ 0.88628+0.j,  0.4475 +0.j, -0.11935+0.j, -0.     +0.j,  0.     +0.j,  0.     +0.j,  0.     +0.j, -0.     +0.j,  0.     +0.j]])"
      ]
     },
     "execution_count": 513,
     "metadata": {},
     "output_type": "execute_result"
    }
   ],
   "source": [
    "opt_grd_basis"
   ]
  },
  {
   "cell_type": "markdown",
   "id": "90b74ee6",
   "metadata": {},
   "source": [
    "## Checks"
   ]
  },
  {
   "cell_type": "code",
   "execution_count": 514,
   "id": "0e46bd4a",
   "metadata": {},
   "outputs": [],
   "source": [
    "if not(np.allclose(C_opt @ C_opt, 1, atol=1e-10)):\n",
    "    raise ValueError(\"Constants not normalized.\")\n",
    "\n",
    "if not(np.allclose(f_max(C_opt, deg_ground_basis), np.trace(D_1 @ D_1).real, atol=1e-10) and np.allclose(np.sum(eig_val_opt**2), np.trace(D_1 @ D_1).real, atol=1e-10)):\n",
    "    raise ValueError(\"D^2 is not matching.\")"
   ]
  },
  {
   "cell_type": "markdown",
   "id": "f9e37e98",
   "metadata": {},
   "source": [
    "# Optimization Step 2"
   ]
  },
  {
   "cell_type": "code",
   "execution_count": 515,
   "id": "c5393829",
   "metadata": {},
   "outputs": [],
   "source": [
    "def d_squared_overlap_basis(theta: float, C_new: np.ndarray, psi):\n",
    "    deg_state_d_2 = np.zeros((26), dtype=complex)\n",
    "\n",
    "    for i in range(state**2*site - 1):\n",
    "\n",
    "        psi_i = np.cos(theta) * psi + np.sin(theta) * C_new[:, i]\n",
    "\n",
    "        rho_site_0 = density_matrix_1(state_2, site, psi_i, 0)\n",
    "\n",
    "        # deg_state_d_2[i] = 1 - np.trace(rho_site_0 @ rho_site_0)\n",
    "        deg_state_d_2[i] = np.trace(rho_site_0 @ rho_site_0)\n",
    "\n",
    "    return deg_state_d_2"
   ]
  },
  {
   "cell_type": "code",
   "execution_count": 516,
   "id": "9c7146a2",
   "metadata": {},
   "outputs": [],
   "source": [
    "def gradient_hassian(deg_ground_basis: np.ndarray, psi: np.ndarray, theta: float):\n",
    "\n",
    "    C_lambda = deg_ground_basis - np.outer(psi, psi @ deg_ground_basis)\n",
    "    S = C_lambda @ C_lambda.T\n",
    "    eig_val_S, eig_vec_S = np.linalg.eigh(S)\n",
    "\n",
    "    index_non_zero = np.where(np.abs(eig_val_S) > 1e-5)[0]\n",
    "\n",
    "    C_new = eig_vec_S[:, index_non_zero] * eig_val_S[index_non_zero]**(-0.5)\n",
    "\n",
    "    if not(np.allclose(np.ones(state_2*site - 1), np.diag((C_new.T @ C_new)), atol=1e-15)):\n",
    "        raise ValueError(\"Basis is not orthonormal.\")\n",
    "\n",
    "    g_i = (d_squared_overlap_basis(theta, C_new, psi) - d_squared_overlap_basis(-theta, C_new, psi)) / 2 * np.abs(theta)\n",
    "\n",
    "    h_i = (2 * d_squared_overlap_basis(0, C_new, psi) - d_squared_overlap_basis(theta, C_new, psi) - d_squared_overlap_basis(-theta, C_new, psi)) / theta**2\n",
    "\n",
    "    return g_i, h_i, C_new"
   ]
  },
  {
   "cell_type": "code",
   "execution_count": 517,
   "id": "1789273e",
   "metadata": {},
   "outputs": [],
   "source": [
    "def func_psi_u(deg_ground_basis, psi, theta):\n",
    "\n",
    "    g_i, h_i, C_new = gradient_hassian(deg_ground_basis, psi, theta)\n",
    "    g_norm = g_i / np.linalg.norm(g_i)\n",
    "\n",
    "    if not(np.allclose(1, g_norm @ g_norm, atol=1e-15)):\n",
    "        print(g_norm)\n",
    "        # raise ValueError(\"Jacobian is not normalized.\")\n",
    "        raise ValueError(g_norm)\n",
    "\n",
    "    psi_u = C_new @ g_norm\n",
    "\n",
    "    return psi_u"
   ]
  },
  {
   "cell_type": "code",
   "execution_count": 518,
   "id": "c7d895f2",
   "metadata": {},
   "outputs": [],
   "source": [
    "def func_to_minmize(theta: float, psi: np.ndarray, deg_ground_basis: np.ndarray):\n",
    "\n",
    "    psi_int = np.cos(theta) * psi + np.sin(theta) * func_psi_u(deg_ground_basis, psi, theta)\n",
    "\n",
    "    D_psi_int = density_matrix_1(state_2, site, psi_int, 0)\n",
    "\n",
    "    return np.trace(D_psi_int @ D_psi_int)"
   ]
  },
  {
   "cell_type": "code",
   "execution_count": 519,
   "id": "63d7a010",
   "metadata": {},
   "outputs": [],
   "source": [
    "def min_output(theta: float, psi: np.ndarray, deg_ground_basis: np.ndarray):\n",
    "\n",
    "    psi_int = np.cos(theta) * psi + np.sin(theta) * func_psi_u(deg_ground_basis, psi, theta)\n",
    "\n",
    "    return psi_int"
   ]
  },
  {
   "cell_type": "code",
   "execution_count": 520,
   "id": "7a8736fc",
   "metadata": {},
   "outputs": [],
   "source": [
    "# theta = np.arange(-(np.pi / 2), np.pi / 2, 0.1)\n",
    "theta = np.arange(-(np.pi - 0.1), np.pi + 0.1, 0.1)\n",
    "\n",
    "f_vec = np.vectorize(lambda x: func_to_minmize(x, psi_1, deg_ground_basis))\n",
    "y = f_vec(theta)"
   ]
  },
  {
   "cell_type": "code",
   "execution_count": 521,
   "id": "988fa9c6",
   "metadata": {},
   "outputs": [
    {
     "data": {
      "image/png": "[encoded data removed]",
      "text/plain": [
       "<Figure size 1500x450 with 1 Axes>"
      ]
     },
     "metadata": {},
     "output_type": "display_data"
    }
   ],
   "source": [
    "plt.figure(figsize=(15,4.5))\n",
    "plt.plot(theta, y, marker='o')\n",
    "plt.xlabel('Theta')\n",
    "plt.ylabel('Function')\n",
    "plt.title(f'Minimums of the 1 - D^2')\n",
    "plt.grid(True, which='both', linestyle=':', linewidth=0.8)\n",
    "plt.tight_layout()\n",
    "plt.show()"
   ]
  },
  {
   "cell_type": "code",
   "execution_count": 522,
   "id": "bf65b268",
   "metadata": {},
   "outputs": [],
   "source": [
    "res_2 = minimize(\n",
    "    func_to_minmize,\n",
    "    x0=0.00001,\n",
    "    args=(psi_1, deg_ground_basis,),\n",
    "    method='SLSQP',\n",
    "    options={'ftol': 1e-6, 'maxiter': 1000}\n",
    ")"
   ]
  },
  {
   "cell_type": "code",
   "execution_count": 523,
   "id": "ca41e87a",
   "metadata": {},
   "outputs": [
    {
     "data": {
      "text/plain": [
       " message: Optimization terminated successfully\n",
       " success: True\n",
       "  status: 0\n",
       "     fun: (0.1764205098309723+0j)\n",
       "       x: [ 1.000e-05]\n",
       "     nit: 1\n",
       "     jac: [ 1.614e-05]\n",
       "    nfev: 2\n",
       "    njev: 1"
      ]
     },
     "execution_count": 523,
     "metadata": {},
     "output_type": "execute_result"
    }
   ],
   "source": [
    "res_2"
   ]
  },
  {
   "cell_type": "code",
   "execution_count": 524,
   "id": "392f154e",
   "metadata": {},
   "outputs": [],
   "source": [
    "psi_2 = min_output(res_2.x, psi_1, deg_ground_basis)"
   ]
  },
  {
   "cell_type": "markdown",
   "id": "45622c62",
   "metadata": {},
   "source": [
    "## Check"
   ]
  },
  {
   "cell_type": "code",
   "execution_count": 525,
   "id": "7c9d7930",
   "metadata": {},
   "outputs": [],
   "source": [
    "D_suqared_min = func_to_minmize(res_2.x, psi_1, deg_ground_basis)"
   ]
  },
  {
   "cell_type": "code",
   "execution_count": 526,
   "id": "a388758a",
   "metadata": {},
   "outputs": [
    {
     "data": {
      "text/plain": [
       "np.complex128(0.1764205098309723+0j)"
      ]
     },
     "execution_count": 526,
     "metadata": {},
     "output_type": "execute_result"
    }
   ],
   "source": [
    "D_suqared_min"
   ]
  },
  {
   "cell_type": "code",
   "execution_count": 527,
   "id": "893b9359",
   "metadata": {},
   "outputs": [
    {
     "data": {
      "text/plain": [
       "0.8235794902597144"
      ]
     },
     "execution_count": 527,
     "metadata": {},
     "output_type": "execute_result"
    }
   ],
   "source": [
    "constr_ineq(C_opt, deg_ground_basis)"
   ]
  },
  {
   "cell_type": "code",
   "execution_count": 528,
   "id": "93241f2a",
   "metadata": {},
   "outputs": [
    {
     "ename": "ValueError",
     "evalue": "The optimization step 2 is larger than step 1.",
     "output_type": "error",
     "traceback": [
      "\u001b[31m---------------------------------------------------------------------------\u001b[39m",
      "\u001b[31mValueError\u001b[39m                                Traceback (most recent call last)",
      "\u001b[36mCell\u001b[39m\u001b[36m \u001b[39m\u001b[32mIn[528]\u001b[39m\u001b[32m, line 5\u001b[39m\n\u001b[32m      2\u001b[39m     \u001b[38;5;28;01mraise\u001b[39;00m \u001b[38;5;167;01mValueError\u001b[39;00m(\u001b[33m\"\u001b[39m\u001b[33mThe optimization doesn\u001b[39m\u001b[33m'\u001b[39m\u001b[33mt match the graph.\u001b[39m\u001b[33m\"\u001b[39m)\n\u001b[32m      4\u001b[39m \u001b[38;5;28;01mif\u001b[39;00m \u001b[38;5;129;01mnot\u001b[39;00m(res_2.fun.real > constr_ineq(C_opt, deg_ground_basis)):\n\u001b[32m----> \u001b[39m\u001b[32m5\u001b[39m     \u001b[38;5;28;01mraise\u001b[39;00m \u001b[38;5;167;01mValueError\u001b[39;00m(\u001b[33m\"\u001b[39m\u001b[33mThe optimization step 2 is larger than step 1.\u001b[39m\u001b[33m\"\u001b[39m)\n",
      "\u001b[31mValueError\u001b[39m: The optimization step 2 is larger than step 1."
     ]
    }
   ],
   "source": [
    "if not(np.allclose(res_2.fun, D_suqared_min)):\n",
    "    raise ValueError(\"The optimization doesn't match the graph.\")\n",
    "\n",
    "if not(res_2.fun.real > constr_ineq(C_opt, deg_ground_basis)):\n",
    "    raise ValueError(\"The optimization step 2 is larger than step 1.\")"
   ]
  },
  {
   "cell_type": "markdown",
   "id": "6430dad4",
   "metadata": {},
   "source": [
    "# Produce new basis"
   ]
  },
  {
   "cell_type": "code",
   "execution_count": 529,
   "id": "c46ebf82",
   "metadata": {},
   "outputs": [],
   "source": [
    "D_2 = density_matrix_1(state**2, site, psi_2, 0)\n",
    "\n",
    "eig_val_opt, opt_grd_basis = np.linalg.eigh(D_2)\n",
    "\n",
    "index_opt = np.argsort(-eig_val_opt)\n",
    "opt_grd_basis_orderd = opt_grd_basis[:, index_opt]"
   ]
  },
  {
   "cell_type": "code",
   "execution_count": 530,
   "id": "8bbbd7cd",
   "metadata": {},
   "outputs": [
    {
     "data": {
      "text/plain": [
       "array([0.20914, 0.20914, 0.20913, 0.12275, 0.12275, 0.12275, 0.00145, 0.00145, 0.00145])"
      ]
     },
     "execution_count": 530,
     "metadata": {},
     "output_type": "execute_result"
    }
   ],
   "source": [
    "eig_val_opt[index_opt]"
   ]
  },
  {
   "cell_type": "markdown",
   "id": "78a66c4d",
   "metadata": {},
   "source": [
    "# Producing TF in new basis."
   ]
  },
  {
   "cell_type": "code",
   "execution_count": 531,
   "id": "07f86fc6",
   "metadata": {},
   "outputs": [],
   "source": [
    "grouped = True"
   ]
  },
  {
   "cell_type": "code",
   "execution_count": 532,
   "id": "95fc81c0",
   "metadata": {},
   "outputs": [],
   "source": [
    "U, _ = bz.thermofield_change_of_basis(K)\n",
    "U_kron = np.kron(opt_grd_basis_orderd, opt_grd_basis_orderd)\n",
    "opt_grd_basis_orderd_kron = np.kron(opt_grd_basis_orderd, opt_grd_basis_orderd)\n",
    "\n",
    "if grouped:\n",
    "\n",
    "    U = np.eye(U.shape[0])\n",
    "    U_kron = np.eye(U_kron.shape[0])"
   ]
  },
  {
   "cell_type": "code",
   "execution_count": 533,
   "id": "e180d9ac",
   "metadata": {},
   "outputs": [],
   "source": [
    "S = opt_grd_basis_orderd.T @ opt_grd_basis_orderd"
   ]
  },
  {
   "cell_type": "code",
   "execution_count": 534,
   "id": "4d3962e5",
   "metadata": {},
   "outputs": [
    {
     "data": {
      "text/plain": [
       "array([[ 1.+0.j,  0.+0.j, -0.+0.j, -0.+0.j,  0.+0.j,  0.+0.j, -0.+0.j, -0.+0.j, -0.+0.j],\n",
       "       [ 0.+0.j,  1.+0.j,  0.+0.j,  0.+0.j, -0.+0.j, -0.+0.j,  0.+0.j, -0.+0.j, -0.+0.j],\n",
       "       [-0.+0.j,  0.+0.j,  1.+0.j,  0.+0.j, -0.+0.j,  0.+0.j,  0.+0.j,  0.+0.j,  0.+0.j],\n",
       "       [-0.+0.j,  0.+0.j,  0.+0.j,  1.+0.j,  0.+0.j,  0.+0.j,  0.+0.j, -0.+0.j, -0.+0.j],\n",
       "       [ 0.+0.j, -0.+0.j, -0.+0.j,  0.+0.j,  1.+0.j,  0.+0.j,  0.+0.j, -0.+0.j, -0.+0.j],\n",
       "       [ 0.+0.j, -0.+0.j,  0.+0.j,  0.+0.j,  0.+0.j,  1.+0.j, -0.+0.j,  0.+0.j, -0.+0.j],\n",
       "       [-0.+0.j,  0.+0.j,  0.+0.j,  0.+0.j,  0.+0.j, -0.+0.j,  1.+0.j,  0.+0.j,  0.+0.j],\n",
       "       [-0.+0.j, -0.+0.j,  0.+0.j, -0.+0.j, -0.+0.j,  0.+0.j,  0.+0.j,  1.+0.j, -0.+0.j],\n",
       "       [-0.+0.j, -0.+0.j,  0.+0.j, -0.+0.j, -0.+0.j, -0.+0.j,  0.+0.j, -0.+0.j,  1.+0.j]])"
      ]
     },
     "execution_count": 534,
     "metadata": {},
     "output_type": "execute_result"
    }
   ],
   "source": [
    "S"
   ]
  },
  {
   "cell_type": "code",
   "execution_count": 535,
   "id": "14cf0934",
   "metadata": {},
   "outputs": [
    {
     "data": {
      "text/plain": [
       "array([[-0.52369, -0.73001,  0.43913,  0.     , -0.     , -0.     , -0.     ,  0.     ,  0.     ],\n",
       "       [ 0.84351, -0.51655,  0.14722,  0.     ,  0.     ,  0.     ,  0.     , -0.     , -0.     ],\n",
       "       [ 0.11936,  0.4475 ,  0.88628, -0.     ,  0.     , -0.     ,  0.     ,  0.     ,  0.     ],\n",
       "       [-0.     ,  0.     , -0.     ,  0.52369,  0.73001, -0.43913, -0.     ,  0.     ,  0.     ],\n",
       "       [-0.     , -0.     , -0.     , -0.84351,  0.51655, -0.14722,  0.     , -0.     , -0.     ],\n",
       "       [ 0.     , -0.     ,  0.     , -0.11936, -0.4475 , -0.88628,  0.     ,  0.     , -0.     ],\n",
       "       [-0.     ,  0.     ,  0.     ,  0.     ,  0.     , -0.     ,  0.52369, -0.73001, -0.43913],\n",
       "       [ 0.     ,  0.     ,  0.     , -0.     , -0.     ,  0.     , -0.84351, -0.51655, -0.14722],\n",
       "       [ 0.     , -0.     ,  0.     , -0.     , -0.     ,  0.     , -0.11936,  0.4475 , -0.88628]])"
      ]
     },
     "execution_count": 535,
     "metadata": {},
     "output_type": "execute_result"
    }
   ],
   "source": [
    "opt_grd_basis_orderd.real"
   ]
  },
  {
   "cell_type": "markdown",
   "id": "0671a741",
   "metadata": {},
   "source": [
    "***In opt basis***"
   ]
  },
  {
   "cell_type": "code",
   "execution_count": 536,
   "id": "2a6083ae",
   "metadata": {},
   "outputs": [],
   "source": [
    "K_opt_grd = opt_grd_basis_orderd.T.conj()@ U.T @ K_grouped @ U @ opt_grd_basis_orderd\n",
    "\n",
    "V_opt_grd = opt_grd_basis_orderd_kron.conj().T @ U_kron.T @ V_grouped @ U_kron @ opt_grd_basis_orderd_kron"
   ]
  },
  {
   "cell_type": "markdown",
   "id": "1df9302f",
   "metadata": {},
   "source": [
    "## Check"
   ]
  },
  {
   "cell_type": "markdown",
   "id": "1d4d02ef",
   "metadata": {},
   "source": [
    "# Calculations"
   ]
  },
  {
   "cell_type": "markdown",
   "id": "1f93a150",
   "metadata": {},
   "source": [
    "## TF Oz optimized"
   ]
  },
  {
   "cell_type": "code",
   "execution_count": 537,
   "id": "a4408a05",
   "metadata": {},
   "outputs": [],
   "source": [
    "H_TF_os, K_TF_os, V_TF_os = hamiltonian_dense(state_2, site, 1, K_import=K_tilda, V_import=V_tilda, Import=True)"
   ]
  },
  {
   "cell_type": "code",
   "execution_count": 538,
   "id": "45d14907",
   "metadata": {},
   "outputs": [
    {
     "data": {
      "text/plain": [
       "np.float64(-1.8341740563709767)"
      ]
     },
     "execution_count": 538,
     "metadata": {},
     "output_type": "execute_result"
    }
   ],
   "source": [
    "eig_val_TF_os_ED, eig_vec_TF_os_ED = np.linalg.eigh(H_TF_os)\n",
    "ground_TF_os_ED = np.min(eig_val_TF_os_ED)"
   ]
  },
  {
   "cell_type": "code",
   "execution_count": 539,
   "id": "b6ed9096",
   "metadata": {},
   "outputs": [
    {
     "name": "stdout",
     "output_type": "stream",
     "text": [
      "0.23269201520264005\n"
     ]
    },
    {
     "data": {
      "text/plain": [
       "array([ 0.19245, -0.08577, -0.12005, -0.     , -0.     , -0.     ,  0.     , -0.     ,  0.     , -0.08577,  0.05378,  0.03033,  0.     , -0.     , -0.     ,  0.     ,  0.     , -0.     , -0.12005,  0.03033,  0.116  ,  0.     ,  0.     ,  0.     , -0.     ,  0.     , -0.     , -0.     ,  0.     ,  0.     , -0.16454,  0.     ,  0.1063 ,  0.     , -0.     , -0.     , -0.     ,  0.     ,  0.     ,  0.     , -0.01788, -0.     ,  0.     ,  0.00125,  0.     , -0.     , -0.     ,  0.     ,  0.1063 ,  0.     , -0.16454, -0.     , -0.     , -0.     ,  0.     ,  0.     ,  0.     , -0.     ,  0.     ,  0.     ,  0.01155,  0.     , -0.     ,  0.     ,  0.     , -0.     , -0.     ,  0.00125, -0.     ,  0.     , -0.01788,  0.     , -0.     , -0.     , -0.     , -0.     ,  0.     , -0.     , -0.     ,  0.     ,  0.01155, -0.08577,  0.05378,  0.03033,  0.     , -0.     , -0.     ,  0.     ,  0.     , -0.     ,  0.05378,  0.     , -0.07606, -0.     , -0.     , -0.     ,  0.     , -0.     , -0.     ,  0.03033, -0.07606,  0.08577,  0.     ,  0.     ,  0.     , -0.     , -0.     ,  0.     ,  0.     , -0.     ,  0.     , -0.     ,  0.     , -0.1302 ,  0.     ,  0.     , -0.     , -0.     , -0.     ,  0.     ,  0.     , -0.     ,  0.     , -0.     ,  0.00154,  0.     , -0.     , -0.     ,  0.     , -0.1302 ,  0.     , -0.     ,  0.     , -0.     ,  0.     ,  0.     ,  0.     ,  0.     ,  0.     , -0.     ,  0.     ,  0.     ,  0.     , -0.     ,  0.     , -0.     ,  0.     , -0.     ,  0.00154,  0.     ,  0.     , -0.     , -0.     , -0.     , -0.     , -0.     , -0.     ,  0.     ,  0.     , -0.     , -0.     ,  0.     , -0.12005,  0.03033,  0.116  ,  0.     ,  0.     ,  0.     , -0.     ,  0.     , -0.     ,  0.03033, -0.07606,  0.08577,  0.     ,  0.     ,  0.     , -0.     , -0.     ,  0.     ,  0.116  ,  0.08577, -0.31616, -0.     , -0.     , -0.     ,  0.     , -0.     ,  0.     ,  0.     ,  0.     , -0.     ,  0.23269, -0.     ,  0.07517, -0.     , -0.     , -0.     ,  0.     , -0.     , -0.     , -0.     ,  0.02528, -0.     ,  0.     ,  0.00089,  0.     ,  0.     ,  0.     , -0.     ,  0.07517, -0.     ,  0.23269, -0.     ,  0.     , -0.     ,  0.     , -0.     ,  0.     ,  0.     ,  0.     , -0.     , -0.01633,  0.     ,  0.     , -0.     , -0.     , -0.     , -0.     ,  0.00089,  0.     ,  0.     ,  0.02528, -0.     ,  0.     ,  0.     ,  0.     , -0.     ,  0.     , -0.     ,  0.     , -0.     , -0.01633, -0.     ,  0.     ,  0.     , -0.16454,  0.     ,  0.1063 ,  0.     , -0.     , -0.     , -0.     , -0.     ,  0.     , -0.     ,  0.     , -0.1302 ,  0.     ,  0.     , -0.     ,  0.     ,  0.     , -0.     ,  0.23269, -0.     ,  0.07517, -0.     , -0.     , -0.     , -0.16454, -0.     ,  0.23269,  0.     ,  0.     ,  0.     , -0.     ,  0.     , -0.     , -0.     ,  0.     , -0.     ,  0.     , -0.     ,  0.     ,  0.     , -0.     ,  0.     ,  0.1063 , -0.1302 ,  0.07517,  0.     ,  0.     ,  0.     , -0.     , -0.     ,  0.     ,  0.     ,  0.     , -0.     , -0.     ,  0.     , -0.     ,  0.     , -0.     ,  0.     , -0.     , -0.     , -0.     ,  0.     , -0.     ,  0.     , -0.     ,  0.     ,  0.02001, -0.     , -0.     , -0.     ,  0.     ,  0.     , -0.     , -0.     ,  0.02001, -0.     , -0.     ,  0.     ,  0.     ,  0.     , -0.01788, -0.     ,  0.     ,  0.00125,  0.     , -0.     , -0.     ,  0.     ,  0.     , -0.     ,  0.     , -0.     ,  0.00154,  0.     ,  0.     ,  0.     , -0.     , -0.     ,  0.02528, -0.     ,  0.     ,  0.00089,  0.     , -0.     ,  0.     , -0.     ,  0.     , -0.     ,  0.     ,  0.     , -0.     ,  0.     , -0.01788, -0.     ,  0.02528, -0.     ,  0.     ,  0.     , -0.     ,  0.     , -0.     , -0.     ,  0.     , -0.     ,  0.     ,  0.     ,  0.     ,  0.02001,  0.     , -0.     ,  0.     , -0.     , -0.     ,  0.     , -0.     ,  0.02001, -0.     ,  0.     ,  0.     ,  0.00125,  0.00154,  0.00089, -0.     , -0.     ,  0.     , -0.     ,  0.     , -0.     ,  0.     ,  0.     ,  0.     ,  0.     ,  0.     , -0.     , -0.     , -0.     , -0.     ,  0.     , -0.     ,  0.     ,  0.1063 ,  0.     , -0.16454, -0.     , -0.     , -0.     , -0.     , -0.     ,  0.     , -0.1302 ,  0.     , -0.     ,  0.     , -0.     ,  0.     ,  0.     ,  0.     , -0.     ,  0.07517, -0.     ,  0.23269, -0.     ,  0.     , -0.     ,  0.1063 , -0.1302 ,  0.07517,  0.     ,  0.     ,  0.     , -0.     , -0.     ,  0.     , -0.     ,  0.     , -0.     , -0.     ,  0.     ,  0.     ,  0.02001,  0.     , -0.     , -0.16454, -0.     ,  0.23269,  0.     ,  0.     ,  0.     , -0.     ,  0.     , -0.     ,  0.     , -0.     , -0.     , -0.     ,  0.02001,  0.     ,  0.     ,  0.     , -0.     , -0.     , -0.     , -0.     , -0.     ,  0.     ,  0.     ,  0.     , -0.     ,  0.     , -0.     , -0.     , -0.     ,  0.     , -0.     ,  0.     ,  0.     ,  0.     ,  0.     , -0.     ,  0.     ,  0.     , -0.     ,  0.     ,  0.     ,  0.01155,  0.     , -0.     ,  0.     ,  0.     , -0.     ,  0.     , -0.     ,  0.     ,  0.     ,  0.     , -0.     ,  0.     , -0.     ,  0.     , -0.     ,  0.     , -0.     , -0.01633,  0.     ,  0.     ,  0.     ,  0.     , -0.     , -0.     ,  0.     , -0.     ,  0.     , -0.     ,  0.     ,  0.     , -0.     , -0.     ,  0.     , -0.     ,  0.02001, -0.     ,  0.     ,  0.     ,  0.     , -0.     , -0.     , -0.     ,  0.02001,  0.     , -0.     ,  0.     ,  0.     ,  0.01155,  0.     , -0.01633,  0.     , -0.     , -0.     ,  0.     , -0.     ,  0.     ,  0.     ,  0.     ,  0.     , -0.     , -0.     ,  0.     , -0.     ,  0.     , -0.     , -0.     , -0.     ,  0.     , -0.     , -0.     ,  0.     , -0.     , -0.     ,  0.     ,  0.     ,  0.     , -0.     , -0.     ,  0.00125,  0.     ,  0.     , -0.01788,  0.     ,  0.     , -0.     ,  0.     , -0.     ,  0.00154, -0.     ,  0.     , -0.     , -0.     , -0.     , -0.     , -0.     , -0.     ,  0.00089, -0.     ,  0.     ,  0.02528, -0.     , -0.     , -0.     , -0.     ,  0.     , -0.     ,  0.     , -0.     ,  0.     ,  0.02001,  0.00125,  0.00154,  0.00089, -0.     , -0.     ,  0.     , -0.     ,  0.     , -0.     , -0.     , -0.     , -0.     ,  0.     ,  0.     ,  0.     ,  0.     , -0.     ,  0.     ,  0.     ,  0.     ,  0.     , -0.     , -0.     ,  0.     , -0.     ,  0.     ,  0.     , -0.01788, -0.     ,  0.02528,  0.     ,  0.     , -0.     , -0.     ,  0.     , -0.     ,  0.     , -0.     , -0.     ,  0.02001, -0.     ,  0.     , -0.     , -0.     , -0.     , -0.     , -0.     , -0.     , -0.     ,  0.     , -0.     , -0.     ,  0.     ,  0.01155, -0.     , -0.     , -0.     , -0.     ,  0.     ,  0.     , -0.     , -0.     ,  0.     ,  0.     ,  0.     ,  0.     , -0.     ,  0.     , -0.     ,  0.     , -0.     , -0.01633, -0.     , -0.     , -0.     ,  0.     ,  0.     , -0.     , -0.     ,  0.02001, -0.     ,  0.     ,  0.     ,  0.     ,  0.     ,  0.     , -0.     , -0.     , -0.     , -0.     , -0.     , -0.     , -0.     , -0.     , -0.     ,  0.     ,  0.     ,  0.     ,  0.     , -0.     , -0.     ,  0.     , -0.     , -0.     ,  0.     , -0.     , -0.     ,  0.     ,  0.     , -0.     , -0.     ,  0.02001, -0.     ,  0.     , -0.     , -0.     , -0.     ,  0.01155,  0.     , -0.01633, -0.     , -0.     ,  0.     ,  0.     , -0.     ,  0.     ])"
      ]
     },
     "execution_count": 539,
     "metadata": {},
     "output_type": "execute_result"
    }
   ],
   "source": [
    "index_TF = np.argsort(eig_val_TF_os_ED)\n",
    "deg_ground_basis_check = eig_vec_TF_os_ED[:, index_TF[:27]]\n",
    "\n",
    "psi_zero = np.zeros((state_2**site))\n",
    "psi_zero[0] = 1\n",
    "\n",
    "C_lambda = deg_ground_basis_check @ (psi_zero @ deg_ground_basis_check)\n",
    "C_lambda_norm = C_lambda/ np.sqrt(C_lambda @ C_lambda)\n",
    "C_lambda_int_norm = C_lambda/ C_lambda[0]\n",
    "\n",
    "print(np.max(C_lambda_norm.real))\n",
    "C_lambda_norm.real"
   ]
  },
  {
   "cell_type": "code",
   "execution_count": 540,
   "id": "99d1b65a",
   "metadata": {},
   "outputs": [],
   "source": [
    "e_0_os = H_TF_os[0, 0]"
   ]
  },
  {
   "cell_type": "code",
   "execution_count": 541,
   "id": "52cc36c0",
   "metadata": {},
   "outputs": [
    {
     "data": {
      "text/plain": [
       "np.complex128(-1.8341740563709754+0j)"
      ]
     },
     "execution_count": 541,
     "metadata": {},
     "output_type": "execute_result"
    }
   ],
   "source": [
    "E, t_1_max, t_2_max, E0_os = amplitute_energy(site, state_2, g, C_lambda_int_norm, True, K_TF_os, V_TF_os.reshape(state_2, state_2, state_2, state_2))\n",
    "E"
   ]
  },
  {
   "cell_type": "code",
   "execution_count": 542,
   "id": "cdfa1d29",
   "metadata": {},
   "outputs": [
    {
     "data": {
      "text/plain": [
       "True"
      ]
     },
     "execution_count": 542,
     "metadata": {},
     "output_type": "execute_result"
    }
   ],
   "source": [
    "np.allclose(e_0_os, E0_os, atol=1e-20)"
   ]
  },
  {
   "cell_type": "code",
   "execution_count": 543,
   "id": "d0dcb12a",
   "metadata": {},
   "outputs": [],
   "source": [
    "H_TF_opt, K_TF_opt, V_TF_opt = hamiltonian_dense(state_2, site, 1, K_import=K_opt_grd, V_import=V_opt_grd, Import=True)"
   ]
  },
  {
   "cell_type": "code",
   "execution_count": 544,
   "id": "d1bf1259",
   "metadata": {},
   "outputs": [
    {
     "data": {
      "text/plain": [
       "np.float64(-1.834174056370974)"
      ]
     },
     "execution_count": 544,
     "metadata": {},
     "output_type": "execute_result"
    }
   ],
   "source": [
    "eig_val_TF_opt_ED, eig_vec_TF_opt_ED = np.linalg.eigh(H_TF_opt)\n",
    "ground_TF_opt_ED = np.min(eig_val_TF_opt_ED)\n",
    "ground_TF_opt_ED"
   ]
  },
  {
   "cell_type": "code",
   "execution_count": 545,
   "id": "a1ed2c8b",
   "metadata": {},
   "outputs": [
    {
     "name": "stdout",
     "output_type": "stream",
     "text": [
      "0.6641571896089185\n"
     ]
    },
    {
     "data": {
      "text/plain": [
       "array([ 0.66416, -0.     ,  0.     , -0.     ,  0.     ,  0.     ,  0.     , -0.     , -0.     , -0.     ,  0.     ,  0.     , -0.     , -0.     , -0.     , -0.     , -0.     , -0.     ,  0.     ,  0.     , -0.     , -0.     ,  0.     , -0.     , -0.     , -0.     ,  0.     , -0.     , -0.     , -0.     , -0.4291 , -0.     , -0.     ,  0.     , -0.     , -0.     ,  0.     ,  0.     ,  0.     , -0.     ,  0.     ,  0.     , -0.     , -0.     ,  0.     ,  0.     ,  0.     , -0.     , -0.     ,  0.     ,  0.     ,  0.     ,  0.     , -0.     ,  0.     , -0.     , -0.     ,  0.     , -0.     ,  0.     , -0.04662, -0.     ,  0.     , -0.     , -0.     , -0.     , -0.     , -0.     ,  0.     , -0.     ,  0.     ,  0.     , -0.     ,  0.     ,  0.     , -0.     ,  0.     , -0.     ,  0.     ,  0.     ,  0.     , -0.     ,  0.     ,  0.     , -0.     ,  0.     ,  0.     , -0.     , -0.     ,  0.     ,  0.     , -0.     , -0.     ,  0.     , -0.     , -0.     ,  0.     , -0.     ,  0.     ,  0.     ,  0.     ,  0.     ,  0.     , -0.     , -0.     ,  0.     ,  0.     , -0.     , -0.     ,  0.     ,  0.     ,  0.     ,  0.     ,  0.     , -0.     , -0.     ,  0.     ,  0.     , -0.     , -0.     , -0.     ,  0.     ,  0.     , -0.     ,  0.     ,  0.     ,  0.     , -0.     , -0.     ,  0.     , -0.     , -0.     , -0.     ,  0.     ,  0.     , -0.     ,  0.     , -0.     , -0.     , -0.     , -0.     ,  0.     ,  0.     , -0.     , -0.     ,  0.     ,  0.     , -0.     ,  0.     ,  0.     ,  0.     ,  0.     , -0.     ,  0.     ,  0.     ,  0.     ,  0.     ,  0.     ,  0.     , -0.     ,  0.     , -0.     ,  0.     ,  0.     , -0.     , -0.     ,  0.     , -0.     , -0.     , -0.     ,  0.     ,  0.     ,  0.     , -0.     ,  0.     , -0.     , -0.     ,  0.     ,  0.     , -0.     , -0.     , -0.     ,  0.     , -0.     ,  0.     ,  0.     , -0.     , -0.     ,  0.     , -0.     ,  0.     , -0.     , -0.     ,  0.     , -0.     ,  0.     ,  0.     , -0.     ,  0.     , -0.     , -0.     ,  0.     , -0.     ,  0.     ,  0.     ,  0.     , -0.     , -0.     ,  0.     ,  0.     , -0.     ,  0.     , -0.     ,  0.     ,  0.     , -0.     , -0.     ,  0.     , -0.     ,  0.     ,  0.     ,  0.     , -0.     ,  0.     ,  0.     , -0.     ,  0.     , -0.     ,  0.     ,  0.     ,  0.     ,  0.     , -0.     , -0.     ,  0.     , -0.     ,  0.     , -0.     ,  0.     , -0.     ,  0.     , -0.     , -0.     , -0.     , -0.     , -0.     , -0.4291 , -0.     , -0.     ,  0.     , -0.     , -0.     , -0.     ,  0.     ,  0.     ,  0.     , -0.     ,  0.     , -0.     , -0.     ,  0.     , -0.     ,  0.     , -0.     , -0.     ,  0.     , -0.     ,  0.     ,  0.     , -0.     , -0.4291 ,  0.     , -0.     ,  0.     , -0.     , -0.     , -0.     ,  0.     ,  0.     , -0.     ,  0.     ,  0.     , -0.     , -0.     , -0.     ,  0.     ,  0.     ,  0.     , -0.     ,  0.     , -0.     , -0.     , -0.     ,  0.     , -0.     ,  0.     ,  0.     ,  0.     , -0.     ,  0.     , -0.     ,  0.     , -0.     ,  0.     ,  0.     , -0.     , -0.     , -0.     ,  0.     ,  0.     ,  0.     ,  0.     ,  0.     , -0.     ,  0.     , -0.     ,  0.     , -0.     ,  0.     ,  0.     ,  0.     , -0.     ,  0.     ,  0.     ,  0.     ,  0.     ,  0.     , -0.     ,  0.     ,  0.     , -0.     , -0.     ,  0.     ,  0.     , -0.     , -0.     ,  0.     ,  0.     ,  0.     , -0.     ,  0.     ,  0.     ,  0.     , -0.     , -0.     ,  0.     , -0.     , -0.     ,  0.     ,  0.     ,  0.     , -0.     ,  0.     ,  0.     , -0.     , -0.     , -0.     ,  0.     ,  0.     ,  0.     ,  0.     ,  0.     ,  0.     , -0.     ,  0.     ,  0.     ,  0.     ,  0.     , -0.     ,  0.     , -0.     , -0.     , -0.     ,  0.     ,  0.     , -0.     , -0.     ,  0.     , -0.     , -0.     ,  0.     ,  0.     ,  0.     , -0.     , -0.     ,  0.     ,  0.     , -0.     ,  0.     ,  0.     ,  0.     , -0.     , -0.     ,  0.     ,  0.     , -0.     ,  0.     ,  0.     ,  0.     ,  0.     , -0.     , -0.     ,  0.     , -0.     ,  0.     ,  0.     ,  0.     , -0.     , -0.     ,  0.     ,  0.     ,  0.     ,  0.     , -0.     ,  0.     , -0.     , -0.     ,  0.     , -0.     ,  0.     , -0.     ,  0.     , -0.     , -0.     ,  0.     ,  0.     , -0.     ,  0.     , -0.     ,  0.     ,  0.     , -0.     , -0.     ,  0.     , -0.     , -0.     , -0.     ,  0.     , -0.     ,  0.     ,  0.     ,  0.     , -0.     ,  0.     , -0.     ,  0.     ,  0.     , -0.     , -0.     ,  0.     ,  0.     ,  0.     , -0.     ,  0.     , -0.     , -0.     , -0.     ,  0.     , -0.     ,  0.     , -0.     ,  0.     , -0.     , -0.     , -0.     , -0.     , -0.     ,  0.     ,  0.     ,  0.     ,  0.     ,  0.     , -0.     ,  0.     , -0.     ,  0.     , -0.     , -0.     ,  0.     , -0.     ,  0.     ,  0.     , -0.     ,  0.     ,  0.     , -0.     ,  0.     , -0.     , -0.     ,  0.     , -0.     ,  0.     , -0.04662, -0.     ,  0.     , -0.     ,  0.     , -0.     , -0.     , -0.     , -0.     ,  0.     ,  0.     , -0.     , -0.     ,  0.     , -0.     ,  0.     ,  0.     ,  0.     , -0.     ,  0.     ,  0.     ,  0.     , -0.     ,  0.     , -0.     ,  0.     , -0.     ,  0.     ,  0.     , -0.     , -0.     , -0.     ,  0.     ,  0.     ,  0.     , -0.     , -0.     ,  0.     ,  0.     ,  0.     , -0.     ,  0.     , -0.     , -0.     , -0.     , -0.     , -0.     ,  0.     , -0.04662,  0.     , -0.     ,  0.     , -0.     , -0.     ,  0.     ,  0.     ,  0.     , -0.     ,  0.     ,  0.     ,  0.     ,  0.     , -0.     ,  0.     ,  0.     , -0.     ,  0.     , -0.     ,  0.     , -0.     ,  0.     ,  0.     ,  0.     , -0.     , -0.     , -0.     , -0.     , -0.     , -0.     , -0.     ,  0.     , -0.     ,  0.     ,  0.     , -0.     ,  0.     ,  0.     , -0.     ,  0.     ,  0.     ,  0.     ,  0.     , -0.     ,  0.     ,  0.     , -0.     ,  0.     ,  0.     ,  0.     ,  0.     , -0.     ,  0.     , -0.     , -0.     ,  0.     ,  0.     ,  0.     ,  0.     ,  0.     , -0.     ,  0.     , -0.     ,  0.     ,  0.     ,  0.     , -0.     , -0.     ,  0.     ,  0.     , -0.     ,  0.     ,  0.     ,  0.     ,  0.     , -0.     ,  0.     , -0.     ,  0.     , -0.     , -0.     ,  0.     ,  0.     ,  0.     ,  0.     , -0.     ,  0.     ,  0.     , -0.     ,  0.     ,  0.     ,  0.     , -0.     ,  0.     ,  0.     ,  0.     , -0.     , -0.     ,  0.     ,  0.     ,  0.     ,  0.     , -0.     , -0.     , -0.     , -0.     , -0.     , -0.     ,  0.     ,  0.     , -0.     ,  0.     , -0.     ,  0.     ,  0.     ,  0.     ,  0.     ,  0.     , -0.     ,  0.     ,  0.     ,  0.     , -0.     ,  0.     ,  0.     ,  0.     ,  0.     , -0.     , -0.     ,  0.     , -0.     ,  0.     , -0.     , -0.     , -0.     ,  0.     , -0.     ,  0.     ,  0.     ,  0.     , -0.     ,  0.     ,  0.     ,  0.     ,  0.     ,  0.     ,  0.     , -0.     ,  0.     ,  0.     , -0.     ,  0.     , -0.     ,  0.     , -0.     ,  0.     , -0.     ,  0.     ,  0.     ,  0.     , -0.     ,  0.     , -0.     ,  0.     , -0.     ,  0.     ,  0.     ,  0.     , -0.     , -0.     ,  0.     ,  0.     , -0.     ,  0.     , -0.     , -0.     , -0.     , -0.     , -0.     ,  0.     ,  0.     , -0.     ,  0.     , -0.     , -0.     , -0.     , -0.     , -0.     ])"
      ]
     },
     "execution_count": 545,
     "metadata": {},
     "output_type": "execute_result"
    }
   ],
   "source": [
    "index_TF = np.argsort(eig_val_TF_opt_ED)\n",
    "deg_ground_basis_check = eig_vec_TF_opt_ED[:, index_TF[:27]]\n",
    "\n",
    "psi_zero = np.zeros((state_2**site))\n",
    "psi_zero[0] = 1\n",
    "\n",
    "C_lambda = deg_ground_basis_check @ (psi_zero @ deg_ground_basis_check)\n",
    "C_lambda_norm = C_lambda/ np.sqrt(C_lambda @ C_lambda)\n",
    "C_lambda_int_norm = C_lambda/ C_lambda[0]\n",
    "\n",
    "print(np.max(C_lambda_norm.real))\n",
    "C_lambda_norm.real"
   ]
  },
  {
   "cell_type": "code",
   "execution_count": 546,
   "id": "dbd05af9",
   "metadata": {},
   "outputs": [],
   "source": [
    "e_0 = H_TF_opt[0, 0]"
   ]
  },
  {
   "cell_type": "code",
   "execution_count": 547,
   "id": "729d2a26",
   "metadata": {},
   "outputs": [
    {
     "data": {
      "text/plain": [
       "(np.complex128(-1.8341740563709692+0j),\n",
       " np.float64(1.4311015804304853e-14),\n",
       " np.float64(0.6460785962755521),\n",
       " np.complex128(0.4148457774141994+0j))"
      ]
     },
     "execution_count": 547,
     "metadata": {},
     "output_type": "execute_result"
    }
   ],
   "source": [
    "amplitute_energy(site, state_2, g, C_lambda_int_norm, True, K_TF_opt, V_TF_opt.reshape(state_2, state_2, state_2, state_2))"
   ]
  },
  {
   "cell_type": "code",
   "execution_count": 548,
   "id": "9617e002",
   "metadata": {},
   "outputs": [
    {
     "data": {
      "text/plain": [
       "array([-0.4411 , -0.43807, -0.12082, -0.     , -0.     , -0.     , -0.     ,  0.     ,  0.     ])"
      ]
     },
     "execution_count": 548,
     "metadata": {},
     "output_type": "execute_result"
    }
   ],
   "source": [
    "index_TF = np.argmin(eig_val_TF_opt_ED)\n",
    "psi_vec = eig_vec_TF[index_TF]\n",
    "\n",
    "rho_site_0 = density_matrix_1(state_2, site, psi_vec, 0)\n",
    "\n",
    "eig_va, eig_vc = np.linalg.eigh(-rho_site_0)\n",
    "eig_va"
   ]
  },
  {
   "cell_type": "code",
   "execution_count": 549,
   "id": "d02ae8d6",
   "metadata": {},
   "outputs": [],
   "source": [
    "H_TF, K_TF, V_TF = hamiltonian_dense(state_2, site, 1, K_import=K_grouped, V_import=V_grouped, Import=True)"
   ]
  },
  {
   "cell_type": "code",
   "execution_count": 550,
   "id": "3bca3f4b",
   "metadata": {},
   "outputs": [
    {
     "data": {
      "text/plain": [
       "np.float64(-1.8341740563709776)"
      ]
     },
     "execution_count": 550,
     "metadata": {},
     "output_type": "execute_result"
    }
   ],
   "source": [
    "eig_val_TF_ED, eig_vec_TF_ED = np.linalg.eigh(H_TF)\n",
    "ground_TF_ED_vec = eig_vec_TF_ED[np.argmin(eig_val_TF_ED)]\n",
    "ground_TF_ED = np.min(eig_val_TF_ED)\n",
    "ground_TF_ED"
   ]
  },
  {
   "cell_type": "code",
   "execution_count": 551,
   "id": "878381d1",
   "metadata": {},
   "outputs": [
    {
     "name": "stdout",
     "output_type": "stream",
     "text": [
      "0.6641571896089182\n"
     ]
    },
    {
     "data": {
      "text/plain": [
       "array([ 0.66416,  0.     , -0.     , -0.     , -0.     ,  0.     ,  0.     , -0.     , -0.     , -0.     ,  0.     , -0.     ,  0.     ,  0.     , -0.     ,  0.     , -0.     ,  0.     , -0.     , -0.     , -0.     , -0.     , -0.     , -0.     , -0.     , -0.     , -0.     , -0.     , -0.     ,  0.     , -0.4291 ,  0.     , -0.     ,  0.     , -0.     ,  0.     ,  0.     ,  0.     , -0.     , -0.     ,  0.     , -0.     ,  0.     , -0.     ,  0.     , -0.     , -0.     , -0.     , -0.     ,  0.     ,  0.     , -0.     , -0.     , -0.     ,  0.     , -0.     , -0.     , -0.     ,  0.     , -0.     , -0.04662, -0.     , -0.     , -0.     , -0.     , -0.     , -0.     , -0.     ,  0.     ,  0.     , -0.     ,  0.     , -0.     ,  0.     ,  0.     ,  0.     ,  0.     ,  0.     ,  0.     ,  0.     ,  0.     ,  0.     ,  0.     , -0.     ,  0.     ,  0.     ,  0.     ,  0.     ,  0.     , -0.     ,  0.     ,  0.     ,  0.     ,  0.     ,  0.     ,  0.     ,  0.     ,  0.     ,  0.     ,  0.     ,  0.     ,  0.     ,  0.     ,  0.     ,  0.     ,  0.     ,  0.     ,  0.     , -0.     , -0.     ,  0.     , -0.     ,  0.     ,  0.     ,  0.     ,  0.     ,  0.     ,  0.     ,  0.     ,  0.     ,  0.     ,  0.     ,  0.     ,  0.     ,  0.     ,  0.     ,  0.     ,  0.     ,  0.     ,  0.     ,  0.     ,  0.     ,  0.     ,  0.     ,  0.     , -0.     ,  0.     , -0.     ,  0.     , -0.     , -0.     ,  0.     , -0.     ,  0.     ,  0.     ,  0.     ,  0.     ,  0.     ,  0.     ,  0.     ,  0.     ,  0.     ,  0.     ,  0.     ,  0.     ,  0.     ,  0.     ,  0.     ,  0.     ,  0.     ,  0.     ,  0.     ,  0.     ,  0.     ,  0.     ,  0.     ,  0.     ,  0.     ,  0.     ,  0.     ,  0.     ,  0.     ,  0.     ,  0.     ,  0.     ,  0.     ,  0.     ,  0.     ,  0.     ,  0.     ,  0.     ,  0.     ,  0.     ,  0.     ,  0.     ,  0.     ,  0.     ,  0.     ,  0.     ,  0.     ,  0.     ,  0.     ,  0.     ,  0.     ,  0.     ,  0.     ,  0.     ,  0.     ,  0.     ,  0.     ,  0.     ,  0.     ,  0.     ,  0.     ,  0.     ,  0.     ,  0.     ,  0.     ,  0.     ,  0.     ,  0.     ,  0.     ,  0.     ,  0.     ,  0.     ,  0.     ,  0.     ,  0.     ,  0.     ,  0.     ,  0.     ,  0.     ,  0.     ,  0.     ,  0.     ,  0.     ,  0.     ,  0.     ,  0.     ,  0.     ,  0.     ,  0.     ,  0.     ,  0.     ,  0.     ,  0.     ,  0.     ,  0.     ,  0.     ,  0.     ,  0.     ,  0.     ,  0.     , -0.     , -0.     ,  0.     , -0.4291 ,  0.     , -0.     ,  0.     , -0.     ,  0.     ,  0.     ,  0.     , -0.     , -0.     ,  0.     , -0.     ,  0.     , -0.     ,  0.     , -0.     , -0.     , -0.     , -0.     ,  0.     ,  0.     , -0.     , -0.     , -0.     , -0.4291 ,  0.     , -0.     , -0.     ,  0.     ,  0.     ,  0.     ,  0.     ,  0.     , -0.     ,  0.     , -0.     ,  0.     ,  0.     , -0.     ,  0.     ,  0.     , -0.     , -0.     ,  0.     ,  0.     ,  0.     ,  0.     ,  0.     ,  0.     , -0.     , -0.     , -0.     , -0.     ,  0.     ,  0.     ,  0.     ,  0.     , -0.     , -0.     ,  0.     , -0.     ,  0.     , -0.     , -0.     , -0.     ,  0.     ,  0.     ,  0.     ,  0.     ,  0.     ,  0.     ,  0.     , -0.     ,  0.     ,  0.     ,  0.     ,  0.     ,  0.     , -0.     , -0.     ,  0.     , -0.     ,  0.     ,  0.     ,  0.     ,  0.     ,  0.     ,  0.     ,  0.     ,  0.     ,  0.     ,  0.     ,  0.     ,  0.     ,  0.     ,  0.     ,  0.     ,  0.     ,  0.     ,  0.     ,  0.     ,  0.     ,  0.     ,  0.     ,  0.     , -0.     ,  0.     ,  0.     , -0.     ,  0.     , -0.     ,  0.     ,  0.     ,  0.     ,  0.     ,  0.     ,  0.     ,  0.     ,  0.     ,  0.     ,  0.     ,  0.     ,  0.     ,  0.     ,  0.     ,  0.     ,  0.     ,  0.     ,  0.     ,  0.     ,  0.     ,  0.     ,  0.     , -0.     ,  0.     ,  0.     ,  0.     ,  0.     ,  0.     ,  0.     , -0.     ,  0.     ,  0.     ,  0.     ,  0.     ,  0.     ,  0.     ,  0.     ,  0.     ,  0.     ,  0.     ,  0.     ,  0.     ,  0.     ,  0.     ,  0.     ,  0.     ,  0.     ,  0.     ,  0.     ,  0.     ,  0.     ,  0.     ,  0.     ,  0.     ,  0.     ,  0.     ,  0.     ,  0.     ,  0.     ,  0.     ,  0.     ,  0.     ,  0.     ,  0.     ,  0.     ,  0.     ,  0.     ,  0.     ,  0.     ,  0.     ,  0.     ,  0.     ,  0.     ,  0.     ,  0.     ,  0.     ,  0.     ,  0.     ,  0.     ,  0.     ,  0.     ,  0.     ,  0.     ,  0.     ,  0.     ,  0.     ,  0.     ,  0.     ,  0.     ,  0.     ,  0.     ,  0.     ,  0.     ,  0.     ,  0.     ,  0.     ,  0.     ,  0.     ,  0.     ,  0.     ,  0.     ,  0.     ,  0.     ,  0.     ,  0.     ,  0.     ,  0.     ,  0.     ,  0.     ,  0.     ,  0.     ,  0.     ,  0.     ,  0.     ,  0.     ,  0.     ,  0.     ,  0.     ,  0.     ,  0.     ,  0.     ,  0.     ,  0.     ,  0.     ,  0.     ,  0.     ,  0.     ,  0.     ,  0.     , -0.     , -0.     , -0.     ,  0.     ,  0.     , -0.     , -0.04662, -0.     ,  0.     , -0.     , -0.     , -0.     , -0.     , -0.     , -0.     ,  0.     , -0.     ,  0.     , -0.     ,  0.     ,  0.     ,  0.     ,  0.     ,  0.     ,  0.     ,  0.     ,  0.     ,  0.     , -0.     ,  0.     , -0.     ,  0.     ,  0.     , -0.     , -0.     ,  0.     , -0.     ,  0.     , -0.     , -0.     , -0.     ,  0.     ,  0.     ,  0.     ,  0.     ,  0.     ,  0.     ,  0.     , -0.     ,  0.     ,  0.     ,  0.     ,  0.     ,  0.     , -0.04662, -0.     ,  0.     , -0.     ,  0.     , -0.     ,  0.     ,  0.     ,  0.     ,  0.     , -0.     ,  0.     ,  0.     ,  0.     , -0.     , -0.     ,  0.     ,  0.     ,  0.     ,  0.     ,  0.     ,  0.     ,  0.     ,  0.     ,  0.     ,  0.     ,  0.     , -0.     ,  0.     ,  0.     ,  0.     , -0.     , -0.     ,  0.     , -0.     ,  0.     ,  0.     ,  0.     ,  0.     ,  0.     ,  0.     ,  0.     ,  0.     ,  0.     ,  0.     ,  0.     ,  0.     ,  0.     ,  0.     ,  0.     ,  0.     ,  0.     ,  0.     ,  0.     ,  0.     ,  0.     ,  0.     ,  0.     ,  0.     ,  0.     ,  0.     ,  0.     , -0.     ,  0.     ,  0.     ,  0.     ,  0.     ,  0.     ,  0.     ,  0.     ,  0.     ,  0.     ,  0.     ,  0.     ,  0.     ,  0.     ,  0.     ,  0.     ,  0.     ,  0.     ,  0.     ,  0.     , -0.     ,  0.     , -0.     , -0.     , -0.     ,  0.     ,  0.     ,  0.     ,  0.     ,  0.     ,  0.     ,  0.     ,  0.     ,  0.     ,  0.     ,  0.     ,  0.     ,  0.     ,  0.     ,  0.     ,  0.     ,  0.     ,  0.     ,  0.     ,  0.     ,  0.     ,  0.     ,  0.     ,  0.     ,  0.     ,  0.     ,  0.     ,  0.     ,  0.     ,  0.     ,  0.     ,  0.     ,  0.     ,  0.     ,  0.     ,  0.     ,  0.     ,  0.     ,  0.     ,  0.     ,  0.     ,  0.     ,  0.     ,  0.     ,  0.     ,  0.     ,  0.     ,  0.     ,  0.     ,  0.     ,  0.     ,  0.     ,  0.     ,  0.     ,  0.     ,  0.     ,  0.     ,  0.     ,  0.     ,  0.     ,  0.     ,  0.     ,  0.     ,  0.     ,  0.     ,  0.     ,  0.     ,  0.     ,  0.     ,  0.     ,  0.     ,  0.     ,  0.     ,  0.     ,  0.     ,  0.     ,  0.     ,  0.     ,  0.     ,  0.     ,  0.     ,  0.     ,  0.     ,  0.     ,  0.     ,  0.     ,  0.     ,  0.     ,  0.     ,  0.     ,  0.     ,  0.     ,  0.     ,  0.     ,  0.     ,  0.     ,  0.     ,  0.     ,  0.     ,  0.     ,  0.     ,  0.     ])"
      ]
     },
     "execution_count": 551,
     "metadata": {},
     "output_type": "execute_result"
    }
   ],
   "source": [
    "index_TF = np.argsort(eig_val_TF_ED)\n",
    "deg_ground_basis_check = eig_vec_TF_ED[:, index_TF[:27]]\n",
    "\n",
    "psi_zero = np.zeros((state_2**site))\n",
    "psi_zero[0] = 1\n",
    "\n",
    "C_lambda = deg_ground_basis_check @ (psi_zero @ deg_ground_basis_check)\n",
    "C_lambda_norm = C_lambda/ np.sqrt(C_lambda @ C_lambda)\n",
    "C_lambda_int_norm = C_lambda/ C_lambda[0]\n",
    "\n",
    "print(np.max(C_lambda_norm.real))\n",
    "C_lambda_norm.real"
   ]
  },
  {
   "cell_type": "code",
   "execution_count": 552,
   "id": "d9d34f75",
   "metadata": {},
   "outputs": [
    {
     "data": {
      "text/plain": [
       "(np.complex128(-1.8341740563709739+0j),\n",
       " np.float64(3.658483184595198e-16),\n",
       " np.float64(0.6460785962755522),\n",
       " np.complex128(0.4148457774141996+0j))"
      ]
     },
     "execution_count": 552,
     "metadata": {},
     "output_type": "execute_result"
    }
   ],
   "source": [
    "amplitute_energy(site, state_2, g, C_lambda_int_norm, True, K_TF, V_TF.reshape(state_2, state_2, state_2, state_2))"
   ]
  },
  {
   "cell_type": "code",
   "execution_count": 554,
   "id": "d37ac0bb",
   "metadata": {},
   "outputs": [],
   "source": [
    "H_NO, K_NO, V_NO = hamiltonian_general_dense(state, site, g)"
   ]
  },
  {
   "cell_type": "code",
   "execution_count": 555,
   "id": "08b82f6c",
   "metadata": {},
   "outputs": [
    {
     "data": {
      "text/plain": [
       "np.float64(-1.8341740563709745)"
      ]
     },
     "execution_count": 555,
     "metadata": {},
     "output_type": "execute_result"
    }
   ],
   "source": [
    "eig_val_ED, eig_vec_ED = np.linalg.eigh(H_NO)\n",
    "ground_ED_vec = eig_vec_ED[:, np.argmin(eig_val_ED)]\n",
    "ground_ED_vec_norm = ground_ED_vec / ground_ED_vec[0]\n",
    "ground_ED = np.min(eig_val_ED)\n",
    "ground_ED"
   ]
  },
  {
   "cell_type": "code",
   "execution_count": 556,
   "id": "2e70b9d0",
   "metadata": {},
   "outputs": [
    {
     "data": {
      "text/plain": [
       "(np.complex128(-1.8341740563709734+0j),\n",
       " np.float64(4.847718012822851e-15),\n",
       " np.float64(0.6460785962755521),\n",
       " np.complex128(0.4148457774141996+0j))"
      ]
     },
     "execution_count": 556,
     "metadata": {},
     "output_type": "execute_result"
    }
   ],
   "source": [
    "amplitute_energy(site, state, g, ground_ED_vec_norm, True, K_NO, V_NO.reshape(state, state, state, state))"
   ]
  },
  {
   "cell_type": "markdown",
   "id": "551df3b1",
   "metadata": {},
   "source": [
    "***Imag. Time propagation***"
   ]
  },
  {
   "cell_type": "code",
   "execution_count": 557,
   "id": "4292a868",
   "metadata": {},
   "outputs": [],
   "source": [
    "time_opt, energy_TD_CCC_opt, one_max_TDCC_opt, two_max_TDCC_opt = int_slow(site, state_2, 1, t_init=0, t_final=10, nof_points=10000, import_K_V_TF=True, K_import=K_opt_grd, V_import=V_opt_grd.reshape(state_2, state_2, state_2, state_2))"
   ]
  },
  {
   "cell_type": "code",
   "execution_count": 558,
   "id": "546be0d1",
   "metadata": {},
   "outputs": [],
   "source": [
    "time_TF, energy_TD_TF_CCC, one_max_TD_TF_CC, two_max_TD_TF_CC = int_slow(site, state_2, 1, t_init=0, t_final=10, nof_points=10000, import_K_V_TF=True, K_import=K_tilda, V_import=V_tilda.reshape(state_2, state_2, state_2, state_2))"
   ]
  },
  {
   "cell_type": "code",
   "execution_count": 559,
   "id": "8212aac6",
   "metadata": {},
   "outputs": [],
   "source": [
    "time, energy_TD_CCC, one_max_TDCC, two_max_TDCC = int_slow(site, state, 1, t_init=0, t_final=10, nof_points=10000, import_K_V_TF=True, K_import=K_NO, V_import=V_NO.reshape(state, state, state, state))"
   ]
  },
  {
   "cell_type": "code",
   "execution_count": null,
   "id": "6f60948a",
   "metadata": {},
   "outputs": [],
   "source": [
    "time, energy_TD_CCC, one_max_TDCC, two_max_TDCC = int_slow(site, state, 1, t_init=0, t_final=10, nof_points=10000, import_K_V_TF=True, K_import=K_NO, V_import=V_NO.reshape(state, state, state, state))"
   ]
  },
  {
   "cell_type": "markdown",
   "id": "e0cfde34",
   "metadata": {},
   "source": [
    "***CCC***"
   ]
  },
  {
   "cell_type": "code",
   "execution_count": 560,
   "id": "946df6b0",
   "metadata": {},
   "outputs": [],
   "source": [
    "# energy_CCC, t_1, t_2 = t_periodic(site, state_2, 1, K_import=K_opt_grd, V_import=V_opt_grd.reshape(state_2, state_2, state_2, state_2), Import=True)"
   ]
  },
  {
   "cell_type": "code",
   "execution_count": 561,
   "id": "fd721de9",
   "metadata": {},
   "outputs": [],
   "source": [
    "# one_max, two_max, energy_CCC, t_1, t_2 = t_periodic(site, state_2, 1, K_import=K_tilda, V_import=V_tilda.reshape(state_2, state_2, state_2, state_2), Import=True)"
   ]
  },
  {
   "cell_type": "code",
   "execution_count": 562,
   "id": "d75a097c",
   "metadata": {},
   "outputs": [],
   "source": [
    "# one_max, two_max, energy_CCC, t_1, t_2 = t_periodic(site, state, g, NO=True)"
   ]
  },
  {
   "cell_type": "markdown",
   "id": "f0541a51",
   "metadata": {},
   "source": [
    "# Analysis"
   ]
  },
  {
   "cell_type": "code",
   "execution_count": 563,
   "id": "f0861b37",
   "metadata": {},
   "outputs": [
    {
     "data": {
      "image/png": "[encoded data removed]",
      "text/plain": [
       "<Figure size 640x480 with 1 Axes>"
      ]
     },
     "metadata": {},
     "output_type": "display_data"
    },
    {
     "name": "stdout",
     "output_type": "stream",
     "text": [
      "NO (-3.839842254791602+0j)\n",
      "TF-Opt (-3.8398422547915896+0j)\n",
      "TF (-9.896575859835227+0j)\n",
      "Exact:  -1.8341740563709745\n"
     ]
    }
   ],
   "source": [
    "plt.plot(time, -energy_TD_CCC, label=f\"NO g = {g}\")\n",
    "plt.plot(time_opt, -energy_TD_CCC_opt, label=f\"TF-Opt g = {g}\")\n",
    "plt.plot(time_TF, -energy_TD_TF_CCC, label=f\"TF g = {g}\")\n",
    "plt.title(\"Energy Imaginary Time Propagation (Os Basis)\")\n",
    "plt.xlabel(\"Time\")\n",
    "plt.ylabel(\"Energy\")\n",
    "plt.legend()\n",
    "plt.show()\n",
    "\n",
    "print(\"NO\", -energy_TD_CCC[-1])\n",
    "print(\"TF-Opt\", -energy_TD_CCC_opt[-1])\n",
    "print(\"TF\", -energy_TD_TF_CCC[-1])\n",
    "print(\"Exact: \", ground_ED)"
   ]
  },
  {
   "cell_type": "code",
   "execution_count": 564,
   "id": "8b0e30a0",
   "metadata": {},
   "outputs": [
    {
     "data": {
      "text/plain": [
       "np.complex128(2.19069675246064+0j)"
      ]
     },
     "execution_count": 564,
     "metadata": {},
     "output_type": "execute_result"
    }
   ],
   "source": [
    "e_0_os"
   ]
  },
  {
   "cell_type": "code",
   "execution_count": 565,
   "id": "bc19e063",
   "metadata": {},
   "outputs": [
    {
     "data": {
      "text/plain": [
       "np.float64(-1.8341740563709745)"
      ]
     },
     "execution_count": 565,
     "metadata": {},
     "output_type": "execute_result"
    }
   ],
   "source": [
    "ground_ED"
   ]
  },
  {
   "cell_type": "code",
   "execution_count": 566,
   "id": "3c9f9aeb",
   "metadata": {},
   "outputs": [
    {
     "data": {
      "text/plain": [
       "np.float64(-1.8341740563709767)"
      ]
     },
     "execution_count": 566,
     "metadata": {},
     "output_type": "execute_result"
    }
   ],
   "source": [
    "ground_TF_os_ED"
   ]
  },
  {
   "cell_type": "code",
   "execution_count": 567,
   "id": "9a54dfc3",
   "metadata": {},
   "outputs": [
    {
     "data": {
      "text/plain": [
       "np.float64(-1.8341740563709776)"
      ]
     },
     "execution_count": 567,
     "metadata": {},
     "output_type": "execute_result"
    }
   ],
   "source": [
    "ground_TF_ED"
   ]
  },
  {
   "cell_type": "code",
   "execution_count": 568,
   "id": "05e9ddcf",
   "metadata": {},
   "outputs": [
    {
     "data": {
      "text/plain": [
       "np.float64(-1.834174056370974)"
      ]
     },
     "execution_count": 568,
     "metadata": {},
     "output_type": "execute_result"
    }
   ],
   "source": [
    "ground_TF_opt_ED"
   ]
  }
 ],
 "metadata": {
  "kernelspec": {
   "display_name": ".venv",
   "language": "python",
   "name": "python3"
  },
  "language_info": {
   "codemirror_mode": {
    "name": "ipython",
    "version": 3
   },
   "file_extension": ".py",
   "mimetype": "text/x-python",
   "name": "python",
   "nbconvert_exporter": "python",
   "pygments_lexer": "ipython3",
   "version": "3.13.4"
  }
 },
 "nbformat": 4,
 "nbformat_minor": 5
}
